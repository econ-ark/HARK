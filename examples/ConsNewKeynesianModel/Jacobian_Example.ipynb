{
 "cells": [
  {
   "cell_type": "markdown",
   "id": "4ec2c3a0",
   "metadata": {},
   "source": [
    "# Computing Heterogenous Agent Jacobians in HARK\n",
    "\n",
    "By William Du\n",
    "\n",
    "This notebook illustrates how to compute Heterogenous Agent Jacobian matrices in HARK.\n",
    "\n",
    "These matrices are a fundamental building building block to solving Heterogenous Agent New Keynesian Models with the sequence space jacobian methodology. For more information, see [Auclert, Rognlie, Bardoszy, and Straub (2021)](https://onlinelibrary.wiley.com/doi/abs/10.3982/ECTA17434)\n",
    "\n",
    "For the IndShockConsumerType, Jacobians of Consumption and Saving can be computed with respect to the following parameters:\n",
    "LivPrb, PermShkStd,TranShkStd,UnempPrb, Rfree, IncUnemp."
   ]
  },
  {
   "cell_type": "code",
   "execution_count": null,
   "id": "37ca5c3e",
   "metadata": {
    "lines_to_next_cell": 2
   },
   "outputs": [],
   "source": [
    "from HARK.ConsumptionSaving.ConsNewKeynesianModel import (\n",
    "    NewKeynesianConsumerType,\n",
    ")\n",
    "\n",
    "import time\n",
    "import matplotlib.pyplot as plt"
   ]
  },
  {
   "cell_type": "markdown",
   "id": "1a6459df",
   "metadata": {},
   "source": [
    "## Create Agent"
   ]
  },
  {
   "cell_type": "code",
   "execution_count": null,
   "id": "c49cf2b0",
   "metadata": {},
   "outputs": [],
   "source": [
    "# Dictionary for Agent\n",
    "Dict = {\n",
    "    # Solving Parameters\n",
    "    \"aXtraMax\": 1000,\n",
    "    \"aXtraCount\": 200,\n",
    "    # Transition Matrix Simulations Parameters\n",
    "    \"mMax\": 10000,\n",
    "    \"mMin\": 1e-6,\n",
    "    \"mCount\": 300,\n",
    "    \"mFac\": 3,\n",
    "}"
   ]
  },
  {
   "cell_type": "code",
   "execution_count": null,
   "id": "aff29a01",
   "metadata": {
    "lines_to_next_cell": 2
   },
   "outputs": [],
   "source": [
    "Agent = NewKeynesianConsumerType(**Dict)"
   ]
  },
  {
   "cell_type": "markdown",
   "id": "88715dab",
   "metadata": {},
   "source": [
    "## Compute Steady State"
   ]
  },
  {
   "cell_type": "code",
   "execution_count": null,
   "id": "70f04d67",
   "metadata": {
    "lines_to_next_cell": 2
   },
   "outputs": [],
   "source": [
    "start = time.time()\n",
    "Agent.compute_steady_state()\n",
    "print(\"Seconds to compute steady state\", time.time() - start)"
   ]
  },
  {
   "cell_type": "markdown",
   "id": "6e11268d",
   "metadata": {},
   "source": [
    "## Compute Jacobians\n",
    "\n",
    "Shocks possible: LivPrb, PermShkStd,TranShkStd, DiscFac,UnempPrb, Rfree, IncUnemp"
   ]
  },
  {
   "cell_type": "markdown",
   "id": "21b1f860",
   "metadata": {},
   "source": [
    "### Shock to Standard Deviation to Permanent Income Shocks"
   ]
  },
  {
   "cell_type": "code",
   "execution_count": null,
   "id": "e8ec958b",
   "metadata": {
    "lines_to_next_cell": 2
   },
   "outputs": [],
   "source": [
    "start = time.time()\n",
    "\n",
    "CJAC_Perm, AJAC_Perm = Agent.calc_jacobian(\"PermShkStd\", 300)\n",
    "\n",
    "print(\"Seconds to calculate Jacobian\", time.time() - start)"
   ]
  },
  {
   "cell_type": "markdown",
   "id": "bc78e4b8",
   "metadata": {},
   "source": [
    "#### Consumption Jacobians"
   ]
  },
  {
   "cell_type": "code",
   "execution_count": null,
   "id": "979e3529",
   "metadata": {
    "lines_to_next_cell": 2
   },
   "outputs": [],
   "source": [
    "plt.plot(CJAC_Perm.T[0])\n",
    "plt.plot(CJAC_Perm.T[10])\n",
    "plt.plot(CJAC_Perm.T[30])\n",
    "plt.show()"
   ]
  },
  {
   "cell_type": "markdown",
   "id": "5a02ac39",
   "metadata": {},
   "source": [
    "#### Asset Jacobians"
   ]
  },
  {
   "cell_type": "code",
   "execution_count": null,
   "id": "201fbc06",
   "metadata": {
    "lines_to_next_cell": 2
   },
   "outputs": [],
   "source": [
    "plt.plot(AJAC_Perm.T[0])\n",
    "plt.plot(AJAC_Perm.T[10])\n",
    "plt.plot(AJAC_Perm.T[30])\n",
    "plt.plot(AJAC_Perm.T[60])\n",
    "plt.show()"
   ]
  },
  {
   "cell_type": "markdown",
   "id": "5ae3a774",
   "metadata": {},
   "source": [
    "## Shock to Real Interest Rate"
   ]
  },
  {
   "cell_type": "code",
   "execution_count": null,
   "id": "318efe19",
   "metadata": {
    "lines_to_next_cell": 2
   },
   "outputs": [],
   "source": [
    "CJAC_Rfree, AJAC_Rfree = Agent.calc_jacobian(\"Rfree\", 300)"
   ]
  },
  {
   "cell_type": "markdown",
   "id": "f172f736",
   "metadata": {},
   "source": [
    "#### Consumption Jacobians"
   ]
  },
  {
   "cell_type": "code",
   "execution_count": null,
   "id": "20ae8342",
   "metadata": {
    "lines_to_next_cell": 2
   },
   "outputs": [],
   "source": [
    "plt.plot(CJAC_Rfree.T[0])\n",
    "plt.plot(CJAC_Rfree.T[10])\n",
    "plt.plot(CJAC_Rfree.T[30])\n",
    "plt.plot(CJAC_Rfree.T[60])\n",
    "plt.show()"
   ]
  },
  {
   "cell_type": "markdown",
   "id": "22187e1b",
   "metadata": {},
   "source": [
    "#### Asset Jacobians"
   ]
  },
  {
   "cell_type": "code",
   "execution_count": null,
   "id": "344473d0",
   "metadata": {},
   "outputs": [],
   "source": [
    "plt.plot(AJAC_Rfree.T[0])\n",
    "plt.plot(AJAC_Rfree.T[10])\n",
    "plt.plot(AJAC_Rfree.T[30])\n",
    "plt.plot(AJAC_Rfree.T[60])\n",
    "plt.show()"
   ]
  },
  {
   "cell_type": "markdown",
   "id": "ed5937a4",
   "metadata": {},
   "source": [
    "## Shock to Unemployment Probability"
   ]
  },
  {
   "cell_type": "code",
   "execution_count": null,
   "id": "943bb3c2",
   "metadata": {
    "lines_to_next_cell": 2
   },
   "outputs": [],
   "source": [
    "CJAC_UnempPrb, AJAC_UnempPrb = Agent.calc_jacobian(\"UnempPrb\", 300)"
   ]
  },
  {
   "cell_type": "code",
   "execution_count": null,
   "id": "b423bcb7",
   "metadata": {},
   "outputs": [],
   "source": [
    "plt.plot(CJAC_UnempPrb.T[0])\n",
    "plt.plot(CJAC_UnempPrb.T[10])\n",
    "plt.plot(CJAC_UnempPrb.T[30])\n",
    "plt.plot(CJAC_UnempPrb.T[60])\n",
    "plt.show()"
   ]
  },
  {
   "cell_type": "code",
   "execution_count": null,
   "id": "d5399ce7",
   "metadata": {},
   "outputs": [],
   "source": [
    "plt.plot(AJAC_UnempPrb.T[0])\n",
    "plt.plot(AJAC_UnempPrb.T[10])\n",
    "plt.plot(AJAC_UnempPrb.T[30])\n",
    "plt.plot(AJAC_UnempPrb.T[60])\n",
    "plt.show()"
   ]
  },
  {
   "cell_type": "code",
   "execution_count": null,
   "id": "73ee022a-7a01-4922-af76-42ae680dd4b4",
   "metadata": {},
   "outputs": [],
   "source": []
  }
 ],
 "metadata": {
  "jupytext": {
   "formats": "ipynb,py:percent"
  },
  "kernelspec": {
   "display_name": "Python 3 (ipykernel)",
   "language": "python",
   "name": "python3"
  },
  "language_info": {
   "codemirror_mode": {
    "name": "ipython",
    "version": 3
   },
   "file_extension": ".py",
   "mimetype": "text/x-python",
   "name": "python",
   "nbconvert_exporter": "python",
   "pygments_lexer": "ipython3",
   "version": "3.10.14"
  }
 },
 "nbformat": 4,
 "nbformat_minor": 5
}
