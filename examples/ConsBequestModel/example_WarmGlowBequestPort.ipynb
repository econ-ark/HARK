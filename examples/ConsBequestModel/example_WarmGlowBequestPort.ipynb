{
 "cells": [
  {
   "cell_type": "code",
   "execution_count": null,
   "id": "19c5f531",
   "metadata": {},
   "outputs": [],
   "source": [
    "from copy import copy\n",
    "from time import time\n",
    "\n",
    "import matplotlib.pyplot as plt\n",
    "import pandas as pd\n",
    "\n",
    "from HARK.Calibration.Income.IncomeTools import (\n",
    "    CGM_income,\n",
    "    parse_income_spec,\n",
    "    parse_time_params,\n",
    ")\n",
    "from HARK.ConsumptionSaving.ConsBequestModel import (\n",
    "    BequestWarmGlowPortfolioType,\n",
    "    init_portfolio_bequest,\n",
    ")\n",
    "from HARK.datasets.life_tables.us_ssa.SSATools import parse_ssa_life_table\n",
    "from HARK.datasets.SCF.WealthIncomeDist.SCFDistTools import income_wealth_dists_from_scf\n",
    "from HARK.utilities import plot_funcs"
   ]
  },
  {
   "cell_type": "code",
   "execution_count": null,
   "id": "509ad629",
   "metadata": {},
   "outputs": [],
   "source": [
    "# First define the portfolio params similar to the notebook solution for that agent type\n",
    "ConsPortfolioDict = {\n",
    "    # Parameters shared with the Perfect foresight consumer type\n",
    "    \"CRRA\": 5.0,  # Coefficient of relative risk aversion,\n",
    "    \"Rfree\": 1.03,  # Interest factor on assets\n",
    "    \"DiscFac\": 0.90,  # Intertemporal discount factor\n",
    "    \"LivPrb\": [0.98],  # Survival probability\n",
    "    \"PermGroFac\": [1.01],  # Permanent income growth factor\n",
    "    \"BoroCnstArt\": 0.0,  # Artificial borrowing constraint\n",
    "    # Maximum number of grid points to allow in cFunc (should be large)\n",
    "    \"MaxKinks\": 400,\n",
    "    # Number of agents of this type (only matters for simulation)\n",
    "    \"AgentCount\": 10000,\n",
    "    # Mean of log initial assets (only matters for simulation)\n",
    "    \"aNrmInitMean\": 0.0,\n",
    "    # Standard deviation of log initial assets (only for simulation)\n",
    "    \"aNrmInitStd\": 1.0,\n",
    "    # Mean of log initial permanent income (only matters for simulation)\n",
    "    \"pLvlInitMean\": 0.0,\n",
    "    # Standard deviation of log initial permanent income (only matters for simulation)\n",
    "    \"pLvlInitStd\": 0.0,\n",
    "    # Aggregate permanent income growth factor: portion of PermGroFac attributable to aggregate productivity growth (only matters for simulation)\n",
    "    \"PermGroFacAgg\": 1.0,\n",
    "    \"T_age\": None,  # Age after which simulated agents are automatically killed\n",
    "    \"T_cycle\": 1,  # Number of periods in the cycle for this agent type\n",
    "    \"PerfMITShk\": False,  # Do Perfect Foresight MIT Shock: Forces Newborns to follow solution path of the agent he/she replaced when True\n",
    "    # assets above grid parameters\n",
    "    \"aXtraMin\": 0.001,  # Minimum end-of-period \"assets above minimum\" value\n",
    "    \"aXtraMax\": 100,  # Maximum end-of-period \"assets above minimum\" value\n",
    "    # Exponential nesting factor when constructing \"assets above minimum\" grid\n",
    "    \"aXtraNestFac\": 1,\n",
    "    \"aXtraCount\": 200,  # Number of points in the grid of \"assets above minimum\"\n",
    "    \"aXtraExtra\": [\n",
    "        None,\n",
    "    ],  # Some other value of \"assets above minimum\" to add to the grid, not used\n",
    "    # Income process variables\n",
    "    \"PermShkStd\": [0.1],  # Standard deviation of log permanent income shocks\n",
    "    \"PermShkCount\": 7,  # Number of points in discrete approximation to permanent income shocks\n",
    "    \"TranShkStd\": [0.1],  # Standard deviation of log transitory income shocks\n",
    "    \"TranShkCount\": 7,  # Number of points in discrete approximation to transitory income shocks\n",
    "    \"UnempPrb\": 0.05,  # Probability of unemployment while working\n",
    "    \"UnempPrbRet\": 0.005,  # Probability of \"unemployment\" while retired\n",
    "    \"IncUnemp\": 0.3,  # Unemployment benefits replacement rate\n",
    "    \"IncUnempRet\": 0.0,  # \"Unemployment\" benefits when retired\n",
    "    \"tax_rate\": 0.0,  # Flat income tax rate\n",
    "    \"T_retire\": 0,  # Period of retirement (0 --> no retirement)\n",
    "    \"vFuncBool\": False,  # Whether to calculate the value function during solution\n",
    "    # Use cubic spline interpolation when True, linear interpolation when False\n",
    "    \"CubicBool\": False,\n",
    "    # Use permanent income neutral measure (see Harmenberg 2021) during simulations when True.\n",
    "    \"neutral_measure\": False,\n",
    "    # Whether Newborns have transitory shock. The default is False.\n",
    "    \"NewbornTransShk\": False,\n",
    "    # Flag for whether to optimize risky share on a discrete grid only\n",
    "}"
   ]
  },
  {
   "cell_type": "code",
   "execution_count": null,
   "id": "8a2d828c",
   "metadata": {
    "title": "Alter calibration"
   },
   "outputs": [],
   "source": [
    "birth_age = 25\n",
    "death_age = 90\n",
    "adjust_infl_to = 1992\n",
    "income_calib = CGM_income\n",
    "education = \"College\"\n",
    "\n",
    "# Income specification\n",
    "income_params = parse_income_spec(\n",
    "    age_min=birth_age,\n",
    "    age_max=death_age,\n",
    "    adjust_infl_to=adjust_infl_to,\n",
    "    **income_calib[education],\n",
    "    SabelhausSong=True,\n",
    ")\n",
    "\n",
    "# Initial distribution of wealth and permanent income\n",
    "dist_params = income_wealth_dists_from_scf(\n",
    "    base_year=adjust_infl_to,\n",
    "    age=birth_age,\n",
    "    education=education,\n",
    "    wave=1995,\n",
    ")\n",
    "\n",
    "# We need survival probabilities only up to death_age-1, because survival\n",
    "# probability at death_age is 1.\n",
    "liv_prb = parse_ssa_life_table(\n",
    "    female=True,\n",
    "    cross_sec=True,\n",
    "    year=2004,\n",
    "    min_age=birth_age,\n",
    "    max_age=death_age - 1,\n",
    ")\n",
    "\n",
    "portfolio_params = {  # Attributes specific to the Portfolio consumer\n",
    "    \"RiskyAvg\": 1.08,  # Average return of the risky asset\n",
    "    \"RiskyStd\": 0.20,  # Standard deviation of (log) risky returns\n",
    "    \"RiskyCount\": 5,  # Number of integration nodes to use in approximation of risky returns\n",
    "    \"ShareCount\": 25,  # Number of discrete points in the risky share approximation\n",
    "    # Probability that the agent can adjust their risky portfolio share each period\n",
    "    \"AdjustPrb\": 1.0,\n",
    "    \"DiscreteShareBool\": False,\n",
    "}\n",
    "\n",
    "# Parameters related to the number of periods implied by the calibration\n",
    "time_params = parse_time_params(age_birth=birth_age, age_death=death_age)\n",
    "\n",
    "# Update all the new parameters\n",
    "params = copy(init_portfolio_bequest)\n",
    "params.update(time_params)\n",
    "params.update(dist_params)\n",
    "params.update(income_params)\n",
    "params.update(portfolio_params)\n",
    "params.update({\"LivPrb\": [1.0] * len(liv_prb)})"
   ]
  },
  {
   "cell_type": "code",
   "execution_count": null,
   "id": "fbfff075",
   "metadata": {
    "title": "Create and solve agent"
   },
   "outputs": [],
   "source": [
    "# Make and solve an idiosyncratic shocks consumer with a finite lifecycle\n",
    "Agent = BequestWarmGlowPortfolioType(**params)\n",
    "# Make this consumer live a sequence of periods exactly once\n",
    "Agent.cycles = 1\n",
    "print(Agent.BeqFac)"
   ]
  },
  {
   "cell_type": "code",
   "execution_count": null,
   "id": "5f41049a",
   "metadata": {},
   "outputs": [],
   "source": [
    "start_time = time()\n",
    "Agent.solve()\n",
    "end_time = time()\n",
    "print(f\"Solving a lifecycle consumer took {end_time - start_time} seconds.\")\n",
    "Agent.unpack(\"cFuncAdj\")"
   ]
  },
  {
   "cell_type": "code",
   "execution_count": null,
   "id": "27d1663e",
   "metadata": {},
   "outputs": [],
   "source": [
    "# Plot the consumption functions\n",
    "print(\"Consumption functions\")\n",
    "plot_funcs(Agent.cFuncAdj, 0, 5)"
   ]
  },
  {
   "cell_type": "code",
   "execution_count": null,
   "id": "a16b7032",
   "metadata": {
    "lines_to_next_cell": 2,
    "title": "Simulation"
   },
   "outputs": [],
   "source": [
    "# Number of LifecycleExamples and periods in the simulation.\n",
    "Agent.AgentCount = 500\n",
    "Agent.T_sim = 200\n",
    "\n",
    "# Set up the variables we want to keep track of.\n",
    "Agent.track_vars = [\"aNrm\", \"cNrm\", \"pLvl\", \"t_age\", \"mNrm\"]\n",
    "\n",
    "# Run the simulations\n",
    "Agent.initialize_sim()\n",
    "Agent.simulate()"
   ]
  },
  {
   "cell_type": "code",
   "execution_count": null,
   "id": "7c7979ec",
   "metadata": {
    "title": "Extract and format simulation results"
   },
   "outputs": [],
   "source": [
    "raw_data = {\n",
    "    \"Age\": Agent.history[\"t_age\"].flatten() + birth_age - 1,\n",
    "    \"pIncome\": Agent.history[\"pLvl\"].flatten(),\n",
    "    \"nrmM\": Agent.history[\"mNrm\"].flatten(),\n",
    "    \"nrmC\": Agent.history[\"cNrm\"].flatten(),\n",
    "}\n",
    "\n",
    "Data = pd.DataFrame(raw_data)\n",
    "Data[\"Cons\"] = Data.nrmC * Data.pIncome\n",
    "Data[\"M\"] = Data.nrmM * Data.pIncome"
   ]
  },
  {
   "cell_type": "code",
   "execution_count": null,
   "id": "1d8269db",
   "metadata": {
    "title": "Plots"
   },
   "outputs": [],
   "source": [
    "# Find the mean of each variable at every age\n",
    "AgeMeans = Data.groupby([\"Age\"]).median().reset_index()\n",
    "\n",
    "plt.figure()\n",
    "plt.plot(AgeMeans.Age, AgeMeans.pIncome, label=\"Permanent Income\")\n",
    "plt.plot(AgeMeans.Age, AgeMeans.M, label=\"Market resources\")\n",
    "plt.plot(AgeMeans.Age, AgeMeans.Cons, label=\"Consumption\")\n",
    "plt.legend()\n",
    "plt.xlabel(\"Age\")\n",
    "plt.ylabel(f\"Thousands of {adjust_infl_to} USD\")\n",
    "plt.title(\"Variable Medians Conditional on Survival\")\n",
    "plt.grid()"
   ]
  },
  {
   "cell_type": "code",
   "execution_count": null,
   "id": "d2eb91c2-d62e-45ca-a374-ea7db10e0035",
   "metadata": {},
   "outputs": [],
   "source": []
  }
 ],
 "metadata": {
  "jupytext": {
   "formats": "ipynb,py:percent"
  },
  "kernelspec": {
   "display_name": "Python 3 (ipykernel)",
   "language": "python",
   "name": "python3"
  },
  "language_info": {
   "codemirror_mode": {
    "name": "ipython",
    "version": 3
   },
   "file_extension": ".py",
   "mimetype": "text/x-python",
   "name": "python",
   "nbconvert_exporter": "python",
   "pygments_lexer": "ipython3",
   "version": "3.10.14"
  }
 },
 "nbformat": 4,
 "nbformat_minor": 5
}
