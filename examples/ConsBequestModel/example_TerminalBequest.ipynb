{
 "cells": [
  {
   "cell_type": "code",
   "execution_count": null,
   "id": "19c5f531",
   "metadata": {},
   "outputs": [],
   "source": [
    "from copy import copy\n",
    "from time import time\n",
    "\n",
    "import matplotlib.pyplot as plt\n",
    "import pandas as pd\n",
    "\n",
    "from HARK.Calibration.Income.IncomeTools import (\n",
    "    CGM_income,\n",
    "    parse_income_spec,\n",
    "    parse_time_params,\n",
    ")\n",
    "from HARK.ConsumptionSaving.ConsBequestModel import (\n",
    "    BequestWarmGlowConsumerType,\n",
    "    init_warm_glow_terminal_only,\n",
    ")\n",
    "from HARK.Calibration.life_tables.us_ssa.SSATools import parse_ssa_life_table\n",
    "from HARK.Calibration.SCF.WealthIncomeDist.SCFDistTools import (\n",
    "    income_wealth_dists_from_scf,\n",
    ")\n",
    "from HARK.utilities import plot_funcs"
   ]
  },
  {
   "cell_type": "code",
   "execution_count": null,
   "id": "8a2d828c",
   "metadata": {
    "title": "Alter calibration"
   },
   "outputs": [],
   "source": [
    "birth_age = 25\n",
    "death_age = 120\n",
    "adjust_infl_to = 1992\n",
    "income_calib = CGM_income\n",
    "education = \"College\"\n",
    "\n",
    "# Income specification\n",
    "income_params = parse_income_spec(\n",
    "    age_min=birth_age,\n",
    "    age_max=death_age,\n",
    "    adjust_infl_to=adjust_infl_to,\n",
    "    **income_calib[education],\n",
    "    SabelhausSong=True,\n",
    ")\n",
    "\n",
    "# Initial distribution of wealth and permanent income\n",
    "dist_params = income_wealth_dists_from_scf(\n",
    "    base_year=adjust_infl_to,\n",
    "    age=birth_age,\n",
    "    education=education,\n",
    "    wave=1995,\n",
    ")\n",
    "\n",
    "# We need survival probabilities only up to death_age-1, because survival\n",
    "# probability at death_age is 1.\n",
    "liv_prb = parse_ssa_life_table(\n",
    "    female=True,\n",
    "    cross_sec=True,\n",
    "    year=2004,\n",
    "    min_age=birth_age,\n",
    "    max_age=death_age - 1,\n",
    ")\n",
    "\n",
    "# Parameters related to the number of periods implied by the calibration\n",
    "time_params = parse_time_params(age_birth=birth_age, age_death=death_age)\n",
    "\n",
    "# Update all the new parameters\n",
    "params = copy(init_warm_glow_terminal_only)\n",
    "params.update(time_params)\n",
    "params.update(dist_params)\n",
    "params.update(income_params)\n",
    "params.update({\"LivPrb\": [1.0] * len(liv_prb)})"
   ]
  },
  {
   "cell_type": "code",
   "execution_count": null,
   "id": "fbfff075",
   "metadata": {
    "title": "Create and solve agent"
   },
   "outputs": [],
   "source": [
    "# Make and solve an idiosyncratic shocks consumer with a finite lifecycle\n",
    "TerminalExample = BequestWarmGlowConsumerType(**params)\n",
    "# Make this consumer live a sequence of periods exactly once\n",
    "TerminalExample.cycles = 1"
   ]
  },
  {
   "cell_type": "code",
   "execution_count": null,
   "id": "5f41049a",
   "metadata": {},
   "outputs": [],
   "source": [
    "start_time = time()\n",
    "TerminalExample.solve()\n",
    "end_time = time()\n",
    "print(f\"Solving a lifecycle consumer took {end_time - start_time} seconds.\")\n",
    "TerminalExample.unpack(\"cFunc\")"
   ]
  },
  {
   "cell_type": "code",
   "execution_count": null,
   "id": "27d1663e",
   "metadata": {},
   "outputs": [],
   "source": [
    "# Plot the consumption functions\n",
    "print(\"Consumption functions\")\n",
    "plot_funcs(TerminalExample.cFunc, 0, 5)"
   ]
  },
  {
   "cell_type": "code",
   "execution_count": null,
   "id": "a16b7032",
   "metadata": {
    "lines_to_next_cell": 2,
    "title": "Simulation"
   },
   "outputs": [],
   "source": [
    "# Number of LifecycleExamples and periods in the simulation.\n",
    "TerminalExample.AgentCount = 500\n",
    "TerminalExample.T_sim = 200\n",
    "\n",
    "# Set up the variables we want to keep track of.\n",
    "TerminalExample.track_vars = [\"aNrm\", \"cNrm\", \"pLvl\", \"t_age\", \"mNrm\"]\n",
    "\n",
    "# Run the simulations\n",
    "TerminalExample.initialize_sim()\n",
    "TerminalExample.simulate()"
   ]
  },
  {
   "cell_type": "code",
   "execution_count": null,
   "id": "7c7979ec",
   "metadata": {
    "title": "Extract and format simulation results"
   },
   "outputs": [],
   "source": [
    "raw_data = {\n",
    "    \"Age\": TerminalExample.history[\"t_age\"].flatten() + birth_age - 1,\n",
    "    \"pIncome\": TerminalExample.history[\"pLvl\"].flatten(),\n",
    "    \"nrmM\": TerminalExample.history[\"mNrm\"].flatten(),\n",
    "    \"nrmC\": TerminalExample.history[\"cNrm\"].flatten(),\n",
    "}\n",
    "\n",
    "Data = pd.DataFrame(raw_data)\n",
    "Data[\"Cons\"] = Data.nrmC * Data.pIncome\n",
    "Data[\"M\"] = Data.nrmM * Data.pIncome"
   ]
  },
  {
   "cell_type": "code",
   "execution_count": null,
   "id": "1d8269db",
   "metadata": {
    "title": "Plots"
   },
   "outputs": [],
   "source": [
    "# Find the mean of each variable at every age\n",
    "AgeMeans = Data.groupby([\"Age\"]).median().reset_index()\n",
    "\n",
    "plt.figure()\n",
    "plt.plot(AgeMeans.Age, AgeMeans.pIncome, label=\"Permanent Income\")\n",
    "plt.plot(AgeMeans.Age, AgeMeans.M, label=\"Market resources\")\n",
    "plt.plot(AgeMeans.Age, AgeMeans.Cons, label=\"Consumption\")\n",
    "plt.legend()\n",
    "plt.xlabel(\"Age\")\n",
    "plt.ylabel(f\"Thousands of {adjust_infl_to} USD\")\n",
    "plt.title(\"Variable Medians Conditional on Survival\")\n",
    "plt.grid()"
   ]
  },
  {
   "cell_type": "code",
   "execution_count": null,
   "id": "43d440a9-ea90-420b-a5a9-c511695e7908",
   "metadata": {},
   "outputs": [],
   "source": []
  }
 ],
 "metadata": {
  "jupytext": {
   "formats": "ipynb,py:percent"
  },
  "kernelspec": {
   "display_name": "Python 3 (ipykernel)",
   "language": "python",
   "name": "python3"
  },
  "language_info": {
   "codemirror_mode": {
    "name": "ipython",
    "version": 3
   },
   "file_extension": ".py",
   "mimetype": "text/x-python",
   "name": "python",
   "nbconvert_exporter": "python",
   "pygments_lexer": "ipython3",
   "version": "3.10.14"
  }
 },
 "nbformat": 4,
 "nbformat_minor": 5
}
