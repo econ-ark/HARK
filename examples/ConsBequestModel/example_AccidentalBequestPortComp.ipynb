{
 "cells": [
  {
   "cell_type": "code",
   "execution_count": null,
   "metadata": {},
   "outputs": [],
   "source": [
    "from HARK.ConsumptionSaving.ConsBequestModel import BequestWarmGlowPortfolioType\n",
    "from HARK.ConsumptionSaving.ConsPortfolioModel import PortfolioConsumerType\n",
    "from HARK.utilities import plot_funcs"
   ]
  },
  {
   "cell_type": "code",
   "execution_count": null,
   "metadata": {},
   "outputs": [],
   "source": [
    "port_type = PortfolioConsumerType()\n",
    "port_type.cycles = 0\n",
    "port_type.solve()"
   ]
  },
  {
   "cell_type": "code",
   "execution_count": null,
   "metadata": {},
   "outputs": [],
   "source": [
    "beq_type = BequestWarmGlowPortfolioType(BeqFac=0.0, BeqFacTerm=0.0)\n",
    "beq_type.cycles = 0\n",
    "beq_type.solve()"
   ]
  },
  {
   "cell_type": "code",
   "execution_count": null,
   "metadata": {},
   "outputs": [],
   "source": [
    "plot_funcs([beq_type.solution[0].cFuncAdj, port_type.solution[0].cFuncAdj], 0, 10)"
   ]
  },
  {
   "cell_type": "code",
   "execution_count": null,
   "metadata": {},
   "outputs": [],
   "source": [
    "plot_funcs(\n",
    "    [beq_type.solution[0].ShareFuncAdj, port_type.solution[0].ShareFuncAdj],\n",
    "    0,\n",
    "    100,\n",
    ")"
   ]
  },
  {
   "cell_type": "code",
   "execution_count": null,
   "metadata": {},
   "outputs": [],
   "source": []
  }
 ],
 "metadata": {
  "kernelspec": {
   "display_name": "Python 3 (ipykernel)",
   "language": "python",
   "name": "python3"
  },
  "language_info": {
   "codemirror_mode": {
    "name": "ipython",
    "version": 3
   },
   "file_extension": ".py",
   "mimetype": "text/x-python",
   "name": "python",
   "nbconvert_exporter": "python",
   "pygments_lexer": "ipython3",
   "version": "3.10.14"
  }
 },
 "nbformat": 4,
 "nbformat_minor": 4
}
