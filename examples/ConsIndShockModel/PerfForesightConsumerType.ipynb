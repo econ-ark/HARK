{
 "cells": [
  {
   "cell_type": "markdown",
   "metadata": {
    "lines_to_next_cell": 2
   },
   "source": [
    "# PerfForesightConsumerType: Perfect foresight consumption-saving"
   ]
  },
  {
   "cell_type": "code",
   "execution_count": 1,
   "metadata": {
    "code_folding": [
     0
    ]
   },
   "outputs": [],
   "source": [
    "# Initial imports and notebook setup, click arrow to show\n",
    "\n",
    "from copy import copy\n",
    "\n",
    "import matplotlib.pyplot as plt\n",
    "import numpy as np\n",
    "\n",
    "from HARK.ConsumptionSaving.ConsIndShockModel import PerfForesightConsumerType\n",
    "from HARK.utilities import plot_funcs\n",
    "\n",
    "mystr = lambda number: \"{:.4f}\".format(number)"
   ]
  },
  {
   "cell_type": "markdown",
   "metadata": {},
   "source": [
    "The module `HARK.ConsumptionSaving.ConsIndShockModel` concerns consumption-saving models with idiosyncratic shocks to (non-capital) income.  All of the models assume CRRA utility with geometric discounting, no bequest motive, and income shocks are fully transitory or fully permanent.\n",
    "\n",
    "`ConsIndShockModel` currently includes three models:\n",
    "1. A very basic \"perfect foresight\" model with no uncertainty.\n",
    "2. A model with risk over transitory and permanent income shocks.\n",
    "3. The model described in (2), with an interest rate for debt that differs from the interest rate for savings.\n",
    "\n",
    "This notebook provides documentation for the first of these three models.\n",
    "$\\newcommand{\\CRRA}{\\rho}$\n",
    "$\\newcommand{\\DiePrb}{\\mathsf{D}}$\n",
    "$\\newcommand{\\PermGroFac}{\\Gamma}$\n",
    "$\\newcommand{\\Rfree}{\\mathsf{R}}$\n",
    "$\\newcommand{\\DiscFac}{\\beta}$"
   ]
  },
  {
   "cell_type": "markdown",
   "metadata": {},
   "source": [
    "## Statement of perfect foresight consumption-saving model\n",
    "\n",
    "The `PerfForesightConsumerType` class the problem of a consumer with Constant Relative Risk Aversion utility\n",
    "${\\CRRA}$\n",
    "\\begin{equation}\n",
    "U(C) = \\frac{C^{1-\\CRRA}}{1-\\rho},\n",
    "\\end{equation}\n",
    "has perfect foresight about everything except whether he will die between the end of period $t$ and the beginning of period $t+1$, which occurs with probability $\\DiePrb_{t+1}$.  Permanent labor income $P_t$ grows from period $t$ to period $t+1$ by factor $\\PermGroFac_{t+1}$.\n",
    "\n",
    "At the beginning of period $t$, the consumer has an amount of market resources $M_t$ (which includes both market wealth and currrent income) and must choose how much of those resources to consume $C_t$ and how much to retain in a riskless asset $A_t$, which will earn return factor $\\Rfree$.  The consumer cannot necessarily borrow arbitarily; instead, he might be constrained to have a wealth-to-income ratio at least as great as some \"artificial borrowing constraint\" $\\underline{a} \\leq 0$.\n",
    "\n",
    "The agent's flow of future utility $U(C_{t+n})$ from consumption is geometrically discounted by factor $\\DiscFac$ per period. If the consumer dies, he receives zero utility flow for the rest of time.\n",
    "\n",
    "The agent's problem can be written in Bellman form as:\n",
    "\n",
    "\\begin{eqnarray*}\n",
    "V_t(M_t,P_t) &=& \\max_{C_t}~U(C_t) ~+ \\DiscFac (1 - \\DiePrb_{t+1}) V_{t+1}(M_{t+1},P_{t+1}), \\\\\n",
    "& s.t. & \\\\\n",
    "A_t &=& M_t - C_t, \\\\\n",
    "A_t/P_t &\\geq& \\underline{a}, \\\\\n",
    "M_{t+1} &=& \\Rfree A_t + Y_{t+1}, \\\\\n",
    "Y_{t+1} &=& P_{t+1}, \\\\\n",
    "P_{t+1} &=& \\PermGroFac_{t+1} P_t.\n",
    "\\end{eqnarray*}\n",
    "\n",
    "The consumer's problem is characterized by a coefficient of relative risk aversion $\\CRRA$, an intertemporal discount factor $\\DiscFac$, an interest factor $\\Rfree$, and age-varying sequences of the permanent income growth factor $\\PermGroFac_t$ and survival probability $(1 - \\DiePrb_t)$.\n",
    "\n",
    "While it does not reduce the computational complexity of the problem (as permanent income is deterministic, given its initial condition $P_0$), HARK represents this problem with *normalized* variables (represented in lower case), dividing all real variables by permanent income $P_t$ and utility levels by $P_t^{1-\\CRRA}$.  The Bellman form of the model thus reduces to:\n",
    "\n",
    "\\begin{eqnarray*}\n",
    "v_t(m_t) &=& \\max_{c_t}~U(c_t) ~+ \\DiscFac (1 - \\DiePrb_{t+1}) \\PermGroFac_{t+1}^{1-\\CRRA} v_{t+1}(m_{t+1}), \\\\\n",
    "& s.t. & \\\\\n",
    "a_t &=& m_t - c_t, \\\\\n",
    "a_t &\\geq& \\underline{a}, \\\\\n",
    "m_{t+1} &=& \\Rfree/\\PermGroFac_{t+1} a_t + 1.\n",
    "\\end{eqnarray*}"
   ]
  },
  {
   "cell_type": "markdown",
   "metadata": {},
   "source": [
    "## Solution method for PerfForesightConsumerType\n",
    "\n",
    "Because of the assumptions of CRRA utility, no risk other than mortality, and no artificial borrowing constraint, the problem has a closed form solution.  In fact, the consumption function is perfectly linear, and the value function composed with the inverse utility function is also linear.  The mathematical solution of this model is described in detail in the lecture notes [PerfForesightCRRA](https://www.econ2.jhu.edu/people/ccarroll/public/lecturenotes/consumption/PerfForesightCRRA).\n",
    "\n",
    "The one period problem for this model is solved by the function `solveConsPerfForesight`, which creates an instance of the class `ConsPerfForesightSolver`. To construct an instance of the class `PerfForesightConsumerType`, several parameters must be passed to its constructor as shown in the table below."
   ]
  },
  {
   "cell_type": "markdown",
   "metadata": {},
   "source": [
    "## Example parameter values to construct an instance of PerfForesightConsumerType\n",
    "\n",
    "| Parameter | Description | Code | Example value | Time-varying? |\n",
    "| :---: | --- | --- | --- | --- |\n",
    "| $\\DiscFac$ |Intertemporal discount factor  | $\\texttt{DiscFac}$ | $0.96$ |  |\n",
    "| $\\CRRA $ |Coefficient of relative risk aversion | $\\texttt{CRRA}$ | $2.0$ | |\n",
    "| $\\Rfree$ | Risk free interest factor | $\\texttt{Rfree}$ | $1.03$ | |\n",
    "| $1 - \\DiePrb_{t+1}$ |Survival probability | $\\texttt{LivPrb}$ | $[0.98]$ | $\\surd$ |\n",
    "|$\\PermGroFac_{t+1}$|Permanent income growth factor|$\\texttt{PermGroFac}$| $[1.01]$ | $\\surd$ |\n",
    "|$\\underline{a}$|Artificial borrowing constraint|$\\texttt{BoroCnstArt}$| $None$ |  |\n",
    "|$(none)$|Maximum number of gridpoints in consumption function |$\\texttt{aXtraCount}$| $200$ |  |\n",
    "|$T$| Number of periods in this type's \"cycle\" |$\\texttt{T_cycle}$| $1$ | |\n",
    "|(none)| Number of times the \"cycle\" occurs |$\\texttt{cycles}$| $0$ | |\n",
    "\n",
    "Note that the survival probability and income growth factor have time subscripts; likewise, the example values for these parameters are *lists* rather than simply single floats.  This is because those parameters are *time-varying*: their values can depend on which period of the problem the agent is in.  All time-varying parameters *must* be specified as lists, even if the same value occurs in each period for this type.\n",
    "\n",
    "The artificial borrowing constraint can be any non-positive `float`, or it can be `None` to indicate no artificial borrowing constraint.  The maximum number of gridpoints in the consumption function is only relevant if the borrowing constraint is not `None`; without an upper bound on the number of gridpoints, kinks in the consumption function will propagate indefinitely in an infinite horizon model if there is a borrowing constraint, eventually resulting in an overflow error.  If there is no artificial borrowing constraint, then the number of gridpoints used to represent the consumption function is always exactly two.\n",
    "\n",
    "The last two parameters in the table specify the \"nature of time\" for this type: the number of (non-terminal) periods in this type's \"cycle\", and the number of times that the \"cycle\" occurs.  *Every* subclass of `AgentType` uses these two code parameters to define the nature of time.  Here, `T_cycle` has the value $1$, indicating that there is exactly one period in the cycle, while `cycles` is $0$, indicating that the cycle is repeated in *infinite* number of times-- it is an infinite horizon model, with the same \"kind\" of period repeated over and over.\n",
    "\n",
    "In contrast, we could instead specify a life-cycle model by setting `T_cycle` to $1$, and specifying age-varying sequences of income growth and survival probability.  In all cases, the number of elements in each time-varying parameter should exactly equal $\\texttt{T_cycle}$.\n",
    "\n",
    "The parameter $\\texttt{AgentCount}$ specifies how many consumers there are of this *type*-- how many individuals have these exact parameter values and are *ex ante* homogeneous.  This information is not relevant for solving the model, but is needed in order to simulate a population of agents, introducing *ex post* heterogeneity through idiosyncratic shocks.  Of course, simulating a perfect foresight model is quite boring, as there are *no* idiosyncratic shocks other than death!\n",
    "\n",
    "The cell below defines a dictionary that can be passed to the constructor method for `PerfForesightConsumerType`, with the values from the table here."
   ]
  },
  {
   "cell_type": "code",
   "execution_count": 2,
   "metadata": {
    "code_folding": []
   },
   "outputs": [],
   "source": [
    "PerfForesightDict = {\n",
    "    # Parameters actually used in the solution method\n",
    "    \"CRRA\": 2.0,  # Coefficient of relative risk aversion\n",
    "    \"Rfree\": 1.03,  # Interest factor on assets\n",
    "    \"DiscFac\": 0.96,  # Default intertemporal discount factor\n",
    "    \"LivPrb\": [0.98],  # Survival probability\n",
    "    \"PermGroFac\": [1.01],  # Permanent income growth factor\n",
    "    \"BoroCnstArt\": None,  # Artificial borrowing constraint\n",
    "    \"aXtraCount\": 200,  # Maximum number of gridpoints in consumption function\n",
    "    # Parameters that characterize the nature of time\n",
    "    \"T_cycle\": 1,  # Number of periods in the cycle for this agent type\n",
    "    \"cycles\": 0,  # Number of times the cycle occurs (0 --> infinitely repeated)\n",
    "}"
   ]
  },
  {
   "cell_type": "markdown",
   "metadata": {},
   "source": [
    "## Solving and examining the solution of the perfect foresight model\n",
    "\n",
    "With the dictionary we have just defined, we can create an instance of `PerfForesightConsumerType` by passing the dictionary to the class (as if the class were a function).  This instance can then be solved by invoking its `solve` method."
   ]
  },
  {
   "cell_type": "code",
   "execution_count": 3,
   "metadata": {},
   "outputs": [],
   "source": [
    "PFexample = PerfForesightConsumerType(**PerfForesightDict)\n",
    "PFexample.cycles = 0\n",
    "PFexample.solve()"
   ]
  },
  {
   "cell_type": "markdown",
   "metadata": {},
   "source": [
    "The $\\texttt{solve}$ method fills in the instance's attribute `solution` as a time-varying list of solutions to each period of the consumer's problem.  In this case, `solution` will be a list with exactly one instance of the class `ConsumerSolution`, representing the solution to the infinite horizon model we specified."
   ]
  },
  {
   "cell_type": "code",
   "execution_count": 4,
   "metadata": {},
   "outputs": [
    {
     "name": "stdout",
     "output_type": "stream",
     "text": [
      "[<HARK.ConsumptionSaving.ConsIndShockModel.ConsumerSolution object at 0x7f7ab2b7e370>]\n"
     ]
    }
   ],
   "source": [
    "print(PFexample.solution)"
   ]
  },
  {
   "cell_type": "markdown",
   "metadata": {},
   "source": [
    "Each element of `solution` has a few attributes. To see all of them, we can use the \\texttt{vars} built in function:\n",
    "\n",
    "the consumption functions reside in the attribute $\\texttt{cFunc}$ of each element of `ConsumerType.solution`.  This method creates a (time varying) attribute $\\texttt{cFunc}$ that contains a list of consumption functions."
   ]
  },
  {
   "cell_type": "code",
   "execution_count": 5,
   "metadata": {},
   "outputs": [
    {
     "name": "stdout",
     "output_type": "stream",
     "text": [
      "{'cFunc': <HARK.interpolation.LinearInterp object at 0x7f7ab2b7e4f0>, 'vFunc': <HARK.interpolation.ValueFuncCRRA object at 0x7f7ab2b7c7f0>, 'vPfunc': <HARK.interpolation.MargValueFuncCRRA object at 0x7f7ab2b7cb20>, 'vPPfunc': <HARK.utilities.NullFunc object at 0x7f7ab2b7e3a0>, 'mNrmMin': -50.49994992551661, 'hNrm': 50.49994992551661, 'MPCmin': 0.04428139169919579, 'MPCmax': 0.04428139169919579}\n"
     ]
    }
   ],
   "source": [
    "print(vars(PFexample.solution[0]))"
   ]
  },
  {
   "cell_type": "markdown",
   "metadata": {},
   "source": [
    "The two most important attributes of a single period solution of this model are the (normalized) consumption function $\\texttt{cFunc}$ and the (normalized) value function $\\texttt{vFunc}$.  Let's plot those functions near the lower bound of the permissible state space (the attribute $\\texttt{mNrmMin}$ tells us the lower bound of $m_t$ where the consumption function is defined)."
   ]
  },
  {
   "cell_type": "code",
   "execution_count": 6,
   "metadata": {},
   "outputs": [
    {
     "name": "stdout",
     "output_type": "stream",
     "text": [
      "Linear perfect foresight consumption function:\n"
     ]
    },
    {
     "data": {
      "image/png": "[encoded data removed]",
      "text/plain": [
       "<Figure size 432x288 with 1 Axes>"
      ]
     },
     "metadata": {
      "needs_background": "light"
     },
     "output_type": "display_data"
    }
   ],
   "source": [
    "print(\"Linear perfect foresight consumption function:\")\n",
    "mMin = PFexample.solution[0].mNrmMin\n",
    "plot_funcs(PFexample.solution[0].cFunc, mMin, mMin + 10.0)"
   ]
  },
  {
   "cell_type": "code",
   "execution_count": 7,
   "metadata": {},
   "outputs": [
    {
     "name": "stdout",
     "output_type": "stream",
     "text": [
      "Perfect foresight value function:\n"
     ]
    },
    {
     "data": {
      "image/png": "[encoded data removed]",
      "text/plain": [
       "<Figure size 432x288 with 1 Axes>"
      ]
     },
     "metadata": {
      "needs_background": "light"
     },
     "output_type": "display_data"
    }
   ],
   "source": [
    "print(\"Perfect foresight value function:\")\n",
    "plot_funcs(PFexample.solution[0].vFunc, mMin + 0.1, mMin + 10.1)"
   ]
  },
  {
   "cell_type": "markdown",
   "metadata": {},
   "source": [
    "An element of `solution` also includes the (normalized) marginal value function $\\texttt{vPfunc}$, and the lower and upper bounds of the marginal propensity to consume (MPC) $\\texttt{MPCmin}$ and $\\texttt{MPCmax}$.  Note that with a linear consumption function, the MPC is constant, so its lower and upper bound are identical.\n",
    "\n",
    "### Liquidity constrained perfect foresight example\n",
    "\n",
    "Without an artificial borrowing constraint, a perfect foresight consumer is free to borrow against the PDV of his entire future stream of labor income-- his \"human wealth\" $\\texttt{hNrm}$-- and he will consume a constant proportion of his total wealth (market resources plus human wealth).  If we introduce an artificial borrowing constraint, both of these features vanish.  In the cell below, we define a parameter dictionary that prevents the consumer from borrowing *at all*, create and solve a new instance of `PerfForesightConsumerType` with it, and then plot its consumption function."
   ]
  },
  {
   "cell_type": "code",
   "execution_count": 8,
   "metadata": {
    "pycharm": {
     "name": "#%%\n"
    }
   },
   "outputs": [
    {
     "name": "stdout",
     "output_type": "stream",
     "text": [
      "Liquidity constrained perfect foresight consumption function:\n"
     ]
    },
    {
     "data": {
      "image/png": "[encoded data removed]",
      "text/plain": [
       "<Figure size 432x288 with 1 Axes>"
      ]
     },
     "metadata": {
      "needs_background": "light"
     },
     "output_type": "display_data"
    }
   ],
   "source": [
    "LiqConstrDict = copy(PerfForesightDict)\n",
    "LiqConstrDict[\"BoroCnstArt\"] = 0.0  # Set the artificial borrowing constraint to zero\n",
    "\n",
    "LiqConstrExample = PerfForesightConsumerType(**LiqConstrDict)\n",
    "LiqConstrExample.cycles = 0  # Make this type be infinite horizon\n",
    "LiqConstrExample.solve()\n",
    "\n",
    "print(\"Liquidity constrained perfect foresight consumption function:\")\n",
    "plot_funcs(LiqConstrExample.solution[0].cFunc, 0.0, 10.0)"
   ]
  },
  {
   "cell_type": "code",
   "execution_count": 9,
   "metadata": {
    "incorrectly_encoded_metadata": "pycharm= [markdown] {\"name\": \"#%% md\\n\"}"
   },
   "outputs": [],
   "source": [
    "# At this time, the value function for a perfect foresight consumer with an artificial borrowing constraint is not computed nor included as part of its $\\texttt{solution}$."
   ]
  },
  {
   "cell_type": "markdown",
   "metadata": {},
   "source": [
    "## Simulating the perfect foresight consumer model\n",
    "\n",
    "Suppose we wanted to simulate many consumers who share the parameter values that we passed to `PerfForesightConsumerType`-- an *ex ante* homogeneous *type* of consumers.  To do this, our instance would have to know *how many* agents there are of this type, as well as their initial levels of assets $a_t$ and permanent income $P_t$.\n",
    "\n",
    "### Setting simulation parameters\n",
    "\n",
    "Let's fill in this information by passing another dictionary to `PFexample` with simulation parameters.  The table below lists the parameters that an instance of `PerfForesightConsumerType` needs in order to successfully simulate its model using the `simulate` method.\n",
    "\n",
    "| Description | Code | Example value |\n",
    "| :---: | --- | --- |\n",
    "| Number of consumers of this type | $\\texttt{AgentCount}$ | $10000$ |\n",
    "| Number of periods to simulate | $\\texttt{T_sim}$ | $120$ |\n",
    "| Mean of initial log (normalized) assets | $\\texttt{aNrmInitMean}$ | $-6.0$ |\n",
    "| Stdev of initial log  (normalized) assets | $\\texttt{aNrmInitStd}$ | $1.0$ |\n",
    "| Mean of initial log permanent income | $\\texttt{pLvlInitMean}$ | $0.0$ |\n",
    "| Stdev of initial log permanent income | $\\texttt{pLvlInitStd}$ | $0.0$ |\n",
    "| Aggregrate productivity growth factor | $\\texttt{PermGroFacAgg}$ | $1.0$ |\n",
    "| Age after which consumers are automatically killed | $\\texttt{T_age}$ | $None$ |\n",
    "\n",
    "We have specified the model so that initial assets and permanent income are both distributed lognormally, with mean and standard deviation of the underlying normal distributions provided by the user.\n",
    "\n",
    "The parameter $\\texttt{PermGroFacAgg}$ exists for compatibility with more advanced models that employ aggregate productivity shocks; it can simply be set to 1.\n",
    "\n",
    "In infinite horizon models, it might be useful to prevent agents from living extraordinarily long lives through a fortuitous sequence of mortality shocks.  We have thus provided the option of setting $\\texttt{T_age}$ to specify the maximum number of periods that a consumer can live before they are automatically killed (and replaced with a new consumer with initial state drawn from the specified distributions).  This can be turned off by setting it to `None`.\n",
    "\n",
    "The cell below puts these parameters into a dictionary, then gives them to `PFexample`.  Note that all of these parameters *could* have been passed as part of the original dictionary; we omitted them above for simplicity."
   ]
  },
  {
   "cell_type": "code",
   "execution_count": 10,
   "metadata": {
    "pycharm": {
     "name": "#%%\n"
    }
   },
   "outputs": [],
   "source": [
    "SimulationParams = {\n",
    "    \"AgentCount\": 10000,  # Number of agents of this type\n",
    "    \"T_sim\": 120,  # Number of periods to simulate\n",
    "    \"aNrmInitMean\": -6.0,  # Mean of log initial assets\n",
    "    \"aNrmInitStd\": 1.0,  # Standard deviation of log initial assets\n",
    "    \"pLvlInitMean\": 0.0,  # Mean of log initial permanent income\n",
    "    \"pLvlInitStd\": 0.0,  # Standard deviation of log initial permanent income\n",
    "    \"PermGroFacAgg\": 1.0,  # Aggregate permanent income growth factor\n",
    "    \"T_age\": None,  # Age after which simulated agents are automatically killed\n",
    "}\n",
    "\n",
    "PFexample.assign_parameters(**SimulationParams)"
   ]
  },
  {
   "cell_type": "markdown",
   "metadata": {
    "incorrectly_encoded_metadata": "pycharm= [markdown] {\"name\": \"#%% md\\n\"}"
   },
   "source": [
    "To generate simulated data, we need to specify which variables we want to track the \"history\" of for this instance.  To do so, we set the `track_vars` attribute of our `PerfForesightConsumerType` instance to be a list of strings with the simulation variables we want to track.\n",
    "\n",
    "In this model, valid arguments to `track_vars` include $\\texttt{mNrm}$, $\\texttt{cNrm}$, $\\texttt{aNrm}$, and $\\texttt{pLvl}$.  Because this model has no idiosyncratic shocks, our simulated data will be quite boring.\n",
    "\n",
    "### Generating simulated data\n",
    "\n",
    "Before simulating, the `initialize_sim` method must be invoked.  This resets our instance back to its initial state, drawing a set of initial $\\texttt{aNrm}$ and $\\texttt{pLvl}$ values from the specified distributions and storing them in the attributes $\\texttt{aNrmNow_init}$ and $\\texttt{pLvlNow_init}$.  It also resets this instance's internal random number generator, so that the same initial states will be set every time `initialize_sim` is called.  In models with non-trivial shocks, this also ensures that the same sequence of shocks will be generated on every simulation run.\n",
    "\n",
    "Finally, the `simulate` method can be called."
   ]
  },
  {
   "cell_type": "code",
   "execution_count": 11,
   "metadata": {
    "pycharm": {
     "name": "#%%\n"
    }
   },
   "outputs": [
    {
     "data": {
      "text/plain": [
       "{'mNrm': array([[  1.01834458,   1.00217811,   1.00344698, ...,   1.00498677,\n",
       "           1.00181962,   1.00082289],\n",
       "        [ -0.28796625,  -0.3037228 ,  -0.30248611, ...,  -0.30098536,\n",
       "           1.00624616,  -0.30504366],\n",
       "        [ -1.56115391,  -1.57651094,  -1.5753056 , ...,  -1.57384291,\n",
       "          -0.2997579 ,  -1.5777983 ],\n",
       "        ...,\n",
       "        [-38.27661177, -47.94841819, -47.94835533, ..., -44.8431327 ,\n",
       "         -14.5538836 , -18.88031749],\n",
       "        [-38.58654905, -48.01311453, -48.01305326, ..., -44.9865675 ,\n",
       "         -15.4653408 , -19.68207246],\n",
       "        [-38.88862747, -48.07617041, -48.0761107 , ..., -45.12636532,\n",
       "         -16.35368684,   1.00096976]])}"
      ]
     },
     "execution_count": 11,
     "metadata": {},
     "output_type": "execute_result"
    }
   ],
   "source": [
    "PFexample.track_vars = ['mNrm']\n",
    "PFexample.initialize_sim()\n",
    "PFexample.simulate()"
   ]
  },
  {
   "cell_type": "code",
   "execution_count": 12,
   "metadata": {
    "incorrectly_encoded_metadata": "pycharm= [markdown] {\"name\": \"#%% md\\n\"}"
   },
   "outputs": [],
   "source": [
    "# Each simulation variable $\\texttt{X}$ named in $\\texttt{track_vars}$ will have the *history* of that variable for each agent stored in the attribute $\\texttt{X_hist}$ as an array of shape $(\\texttt{T_sim},\\texttt{AgentCount})$.  To see that the simulation worked as intended, we can plot the mean of $m_t$ in each simulated period:"
   ]
  },
  {
   "cell_type": "code",
   "execution_count": 13,
   "metadata": {
    "pycharm": {
     "name": "#%%\n"
    }
   },
   "outputs": [
    {
     "data": {
      "image/png": "[encoded data removed]",
      "text/plain": [
       "<Figure size 432x288 with 1 Axes>"
      ]
     },
     "metadata": {
      "needs_background": "light"
     },
     "output_type": "display_data"
    }
   ],
   "source": [
    "plt.plot(np.mean(PFexample.history['mNrm'], axis=1))\n",
    "plt.xlabel(\"Time\")\n",
    "plt.ylabel(\"Mean normalized market resources\")\n",
    "plt.show()"
   ]
  },
  {
   "cell_type": "markdown",
   "metadata": {
    "incorrectly_encoded_metadata": "pycharm= [markdown] {\"name\": \"#%% md\\n\"}"
   },
   "source": [
    "A perfect foresight consumer can borrow against the PDV of his future income-- his human wealth-- and thus as time goes on, our simulated agents approach the (very negative) steady state level of $m_t$ while being steadily replaced with consumers with roughly $m_t=1$.\n",
    "\n",
    "The slight wiggles in the plotted curve are due to consumers randomly dying and being replaced; their replacement will have an initial state drawn from the distributions specified by the user.  To see the current distribution of ages, we can look at the attribute $\\texttt{t_age}$."
   ]
  },
  {
   "cell_type": "code",
   "execution_count": 14,
   "metadata": {
    "pycharm": {
     "name": "#%%\n"
    }
   },
   "outputs": [
    {
     "data": {
      "image/png": "[encoded data removed]",
      "text/plain": [
       "<Figure size 432x288 with 1 Axes>"
      ]
     },
     "metadata": {
      "needs_background": "light"
     },
     "output_type": "display_data"
    }
   ],
   "source": [
    "N = PFexample.AgentCount\n",
    "F = np.linspace(0.0, 1.0, N)\n",
    "plt.plot(np.sort(PFexample.t_age), F)\n",
    "plt.xlabel(\"Current age of consumers\")\n",
    "plt.ylabel(\"Cumulative distribution\")\n",
    "plt.show()"
   ]
  },
  {
   "cell_type": "markdown",
   "metadata": {
    "incorrectly_encoded_metadata": "pycharm= [markdown] {\"name\": \"#%% md\\n\"}"
   },
   "source": [
    "The distribution is (discretely) exponential, with a point mass at 120 with consumers who have survived since the beginning of the simulation.\n",
    "\n",
    "One might wonder why HARK requires users to call `initialize_sim` before calling `simulate`: Why doesn't `simulate` just call `initialize_sim` as its first step?  We have broken up these two steps so that users can simulate some number of periods, change something in the environment, and then resume the simulation.\n",
    "\n",
    "When called with no argument, `simulate` will simulate the model for $\\texttt{T_sim}$ periods.  The user can optionally pass an integer specifying the number of periods to simulate (which should not exceed $\\texttt{T_sim}$).\n",
    "\n",
    "In the cell below, we simulate our perfect foresight consumers for 80 periods, then seize a bunch of their assets (dragging their wealth even more negative), then simulate for the remaining 40 periods.\n",
    "\n",
    "The `state_prev` attribute of an AgenType stores the values of the model's state variables in the _previous_ period of the simulation."
   ]
  },
  {
   "cell_type": "code",
   "execution_count": 15,
   "metadata": {
    "pycharm": {
     "name": "#%%\n"
    }
   },
   "outputs": [
    {
     "data": {
      "image/png": "[encoded data removed]",
      "text/plain": [
       "<Figure size 432x288 with 1 Axes>"
      ]
     },
     "metadata": {
      "needs_background": "light"
     },
     "output_type": "display_data"
    }
   ],
   "source": [
    "PFexample.initialize_sim()\n",
    "PFexample.simulate(80)\n",
    "PFexample.state_prev['aNrm'] += -5.0  # Adjust all simulated consumers' assets downward by 5\n",
    "PFexample.simulate(40)\n",
    "\n",
    "plt.plot(np.mean(PFexample.history['mNrm'], axis=1))\n",
    "plt.xlabel(\"Time\")\n",
    "plt.ylabel(\"Mean normalized market resources\")\n",
    "plt.show()"
   ]
  },
  {
   "cell_type": "code",
   "execution_count": null,
   "metadata": {},
   "outputs": [],
   "source": []
  }
 ],
 "metadata": {
  "jupytext": {
   "cell_metadata_filter": "collapsed,code_folding,name,title,incorrectly_encoded_metadata,pycharm",
   "formats": "ipynb,py:percent"
  },
  "kernelspec": {
   "display_name": "econ-ark-3.8",
   "language": "python",
   "name": "econ-ark-3.8"
  },
  "language_info": {
   "codemirror_mode": {
    "name": "ipython",
    "version": 3
   },
   "file_extension": ".py",
   "mimetype": "text/x-python",
   "name": "python",
   "nbconvert_exporter": "python",
   "pygments_lexer": "ipython3",
   "version": "3.8.7"
  }
 },
 "nbformat": 4,
 "nbformat_minor": 4
}
