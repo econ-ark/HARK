{
 "cells": [
  {
   "cell_type": "code",
   "execution_count": null,
   "metadata": {},
   "outputs": [],
   "source": [
    "# Initial imports and notebook setup, click arrow to show\n",
    "from HARK.ConsumptionSaving.ConsIndShockModel import IndShockConsumerType\n",
    "from HARK.utilities import plot_funcs_der, plot_funcs\n",
    "import matplotlib.pyplot as plt\n",
    "import numpy as np\n",
    "\n",
    "mystr = lambda number: \"{:.4f}\".format(number)"
   ]
  },
  {
   "cell_type": "code",
   "execution_count": null,
   "metadata": {},
   "outputs": [],
   "source": [
    "CyclicalDict = {  # Click the arrow to expand this parameter dictionary\n",
    "    # Parameters shared with the perfect foresight model\n",
    "    \"CRRA\": 2.0,  # Coefficient of relative risk aversion\n",
    "    \"Rfree\": 1.03,  # Interest factor on assets\n",
    "    \"DiscFac\": 0.96,  # Intertemporal discount factor\n",
    "    \"LivPrb\": 4 * [0.98],  # Survival probability\n",
    "    \"PermGroFac\": [1.082251, 2.8, 0.3, 1.1],\n",
    "    # Parameters that specify the income distribution over the lifecycle\n",
    "    \"PermShkStd\": [0.1, 0.1, 0.1, 0.1],\n",
    "    \"PermShkCount\": 7,  # Number of points in discrete approximation to permanent income shocks\n",
    "    \"TranShkStd\": [0.2, 0.2, 0.2, 0.2],\n",
    "    \"TranShkCount\": 7,  # Number of points in discrete approximation to transitory income shocks\n",
    "    \"UnempPrb\": 0.05,  # Probability of unemployment while working\n",
    "    \"IncUnemp\": 0.3,  # Unemployment benefits replacement rate\n",
    "    \"UnempPrbRet\": 0.0005,  # Probability of \"unemployment\" while retired\n",
    "    \"IncUnempRet\": 0.0,  # \"Unemployment\" benefits when retired\n",
    "    \"T_retire\": 0,  # Period of retirement (0 --> no retirement)\n",
    "    \"tax_rate\": 0.0,  # Flat income tax rate (legacy parameter, will be removed in future)\n",
    "    # Parameters for constructing the \"assets above minimum\" grid\n",
    "    \"aXtraMin\": 0.001,  # Minimum end-of-period \"assets above minimum\" value\n",
    "    \"aXtraMax\": 20,  # Maximum end-of-period \"assets above minimum\" value\n",
    "    \"aXtraCount\": 48,  # Number of points in the base grid of \"assets above minimum\"\n",
    "    \"aXtraNestFac\": 3,  # Exponential nesting factor when constructing \"assets above minimum\" grid\n",
    "    \"aXtraExtra\": [None],  # Additional values to add to aXtraGrid\n",
    "    # A few other paramaters\n",
    "    \"BoroCnstArt\": 0.0,  # Artificial borrowing constraint; imposed minimum level of end-of period assets\n",
    "    \"vFuncBool\": True,  # Whether to calculate the value function during solution\n",
    "    \"CubicBool\": False,  # Preference shocks currently only compatible with linear cFunc\n",
    "    \"T_cycle\": 4,  # Number of periods in the cycle for this agent type\n",
    "    # Parameters only used in simulation\n",
    "    \"AgentCount\": 10000,  # Number of agents of this type\n",
    "    \"T_sim\": 120,  # Number of periods to simulate\n",
    "    \"aNrmInitMean\": -6.0,  # Mean of log initial assets\n",
    "    \"aNrmInitStd\": 1.0,  # Standard deviation of log initial assets\n",
    "    \"pLvlInitMean\": 0.0,  # Mean of log initial permanent income\n",
    "    \"pLvlInitStd\": 0.0,  # Standard deviation of log initial permanent income\n",
    "    \"PermGroFacAgg\": 1.0,  # Aggregate permanent income growth factor\n",
    "    \"T_age\": None,  # Age after which simulated agents are automatically killed\n",
    "}"
   ]
  },
  {
   "cell_type": "code",
   "execution_count": null,
   "metadata": {},
   "outputs": [],
   "source": [
    "CyclicalExample = IndShockConsumerType(**CyclicalDict)\n",
    "CyclicalExample.cycles = 0  # Make this consumer type have an infinite horizon\n",
    "CyclicalExample.solve()\n",
    "\n",
    "CyclicalExample.unpack_cFunc()\n",
    "print(\"Quarterly consumption functions:\")\n",
    "mMin = min([X.mNrmMin for X in CyclicalExample.solution])\n",
    "plot_funcs(CyclicalExample.cFunc, mMin, 5)"
   ]
  },
  {
   "cell_type": "code",
   "execution_count": null,
   "metadata": {},
   "outputs": [],
   "source": [
    "FiniteCyclicalDict = CyclicalDict.copy()\n",
    "FiniteCyclicalDict[\"T_age\"] = 60\n",
    "\n",
    "FiniteCyclicalExample = IndShockConsumerType(**FiniteCyclicalDict)\n",
    "# CyclicalExample.cycles = 0 # Make this consumer type have an infinite horizon\n",
    "FiniteCyclicalExample.solve()\n",
    "\n",
    "FiniteCyclicalExample.unpack(\"cFunc\")\n",
    "print(\"Quarterly consumption functions:\")\n",
    "mMin = min([X.mNrmMin for X in FiniteCyclicalExample.solution])\n",
    "plot_funcs(FiniteCyclicalExample.cFunc, mMin, 5)"
   ]
  },
  {
   "attachments": {
    "image.png": {
     "image/png": "[encoded data removed]"
    }
   },
   "cell_type": "markdown",
   "metadata": {},
   "source": [
    "![image.png](attachment:image.png)"
   ]
  },
  {
   "cell_type": "code",
   "execution_count": null,
   "metadata": {
    "lines_to_next_cell": 2
   },
   "outputs": [],
   "source": []
  },
  {
   "cell_type": "code",
   "execution_count": null,
   "metadata": {},
   "outputs": [],
   "source": []
  }
 ],
 "metadata": {
  "jupytext": {
   "formats": "ipynb,py:percent"
  },
  "kernelspec": {
   "display_name": "Python 3 (ipykernel)",
   "language": "python",
   "name": "python3"
  },
  "language_info": {
   "codemirror_mode": {
    "name": "ipython",
    "version": 3
   },
   "file_extension": ".py",
   "mimetype": "text/x-python",
   "name": "python",
   "nbconvert_exporter": "python",
   "pygments_lexer": "ipython3",
   "version": "3.10.12"
  },
  "latex_envs": {
   "LaTeX_envs_menu_present": true,
   "autoclose": false,
   "autocomplete": true,
   "bibliofile": "biblio.bib",
   "cite_by": "apalike",
   "current_citInitial": 1,
   "eqLabelWithNumbers": true,
   "eqNumInitial": 1,
   "hotkeys": {
    "equation": "Ctrl-E",
    "itemize": "Ctrl-I"
   },
   "labels_anchors": false,
   "latex_user_defs": false,
   "report_style_numbering": false,
   "user_envs_cfg": false
  },
  "toc": {
   "base_numbering": 1,
   "nav_menu": {},
   "number_sections": true,
   "sideBar": true,
   "skip_h1_title": false,
   "title_cell": "Table of Contents",
   "title_sidebar": "Contents",
   "toc_cell": false,
   "toc_position": {},
   "toc_section_display": true,
   "toc_window_display": false
  }
 },
 "nbformat": 4,
 "nbformat_minor": 4
}
