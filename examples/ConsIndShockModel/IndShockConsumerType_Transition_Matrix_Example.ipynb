{
 "cells": [
  {
   "cell_type": "markdown",
   "id": "54f0278c",
   "metadata": {},
   "source": [
    "# Using Transition Matrix Methods under IndShockConsumerType\n",
    "\n",
    "By William Du"
   ]
  },
  {
   "cell_type": "markdown",
   "id": "52ce71ba",
   "metadata": {},
   "source": [
    "This Jupyter Notebook demonstrates how to non-stochastically simulate an economy with transition matrices with functions under the IndShockConsumerType.\n",
    "\n",
    "The three key functions to non stochastically simulate are:\n",
    "\n",
    "##### define_distribution_grid\n",
    "- computes the grid of normalized market resources and the grid permanent income storing each as attributes of self.\n",
    "\n",
    "###### calc_transition_matrix \n",
    "- computes transition matrix (matrices), a grid of consumption policies, and a grid asset policies stored as attributes of self. If the problem has a finite horizon, this function stores lists of transition matrices, consumption policies and asset policies grid for each period as attributes of self.\n",
    "\n",
    "##### calc_ergodic_dist \n",
    "- computes the ergodic distribution stored as attributes. The distribution is stored as a vector (self.vec_erg_dstn) and as a grid (self.erg_dstn)\n",
    "\n"
   ]
  },
  {
   "cell_type": "markdown",
   "id": "ad742954",
   "metadata": {},
   "source": [
    "## Set up Computational Environment"
   ]
  },
  {
   "cell_type": "code",
   "execution_count": 1,
   "id": "1f08d05f",
   "metadata": {},
   "outputs": [
    {
     "name": "stderr",
     "output_type": "stream",
     "text": [
      "C:\\Users\\wdu\\Anaconda3\\lib\\site-packages\\numpy\\_distributor_init.py:30: UserWarning: loaded more than 1 DLL from .libs:\n",
      "C:\\Users\\wdu\\Anaconda3\\lib\\site-packages\\numpy\\.libs\\libopenblas.PYQHXLVVQ7VESDPUVUADXEVJOBGHJPAY.gfortran-win_amd64.dll\n",
      "C:\\Users\\wdu\\Anaconda3\\lib\\site-packages\\numpy\\.libs\\libopenblas.XWYDX2IKJW2NMTWSFYNGFUWKQU3LYTCZ.gfortran-win_amd64.dll\n",
      "  warnings.warn(\"loaded more than 1 DLL from .libs:\"\n"
     ]
    }
   ],
   "source": [
    "\n",
    "from HARK.ConsumptionSaving.ConsIndShockModel_TRANMAT_original import IndShockConsumerType\n",
    "import time\n",
    "from copy import copy, deepcopy\n",
    "import numpy as np\n",
    "import matplotlib.pyplot as plt\n"
   ]
  },
  {
   "cell_type": "markdown",
   "id": "4b7e817f",
   "metadata": {},
   "source": [
    "## Set up the Dictionary"
   ]
  },
  {
   "cell_type": "code",
   "execution_count": 2,
   "id": "0dc82f9b",
   "metadata": {},
   "outputs": [],
   "source": [
    "Dict={\n",
    "    # Parameters shared with the perfect foresight model\n",
    "    \"CRRA\":2,                             # Coefficient of relative risk aversion\n",
    "    \"Rfree\": 1.05**.25,                   # Interest factor on assets\n",
    "    \"DiscFac\": 0.975,                # Intertemporal discount factor\n",
    "    \"LivPrb\" : [.99375],                  # Survival probability\n",
    "    \"PermGroFac\" :[1.00],                 # Permanent income growth factor\n",
    "\n",
    "    # Parameters that specify the income distribution over the lifecycle\n",
    "    \"PermShkStd\" :  [(.005*4/11)**.5],     # Standard deviation of log permanent shocks to income\n",
    "    \"PermShkCount\" : 5,                    # Number of points in discrete approximation to permanent income shocks\n",
    "    \"TranShkStd\" : [.3],                   # Standard deviation of log transitory shocks to income\n",
    "    \"TranShkCount\" : 5,                    # Number of points in discrete approximation to transitory income shocks\n",
    "    \"UnempPrb\" : 0.05,                     # Probability of unemployment while working\n",
    "    \"IncUnemp\" :  .2,                      # Unemployment benefits replacement rate\n",
    "    \"UnempPrbRet\" : 0.0005,                # Probability of \"unemployment\" while retired\n",
    "    \"IncUnempRet\" : 0.0,                   # \"Unemployment\" benefits when retired\n",
    "    \"T_retire\" : 0,                        # Period of retirement (0 --> no retirement)\n",
    "    \"tax_rate\" : 0.0,                      # Flat income tax rate (legacy parameter, will be removed in future)\n",
    "\n",
    "    # A few other parameters\n",
    "    \"BoroCnstArt\" : 0.0,                   # Artificial borrowing constraint; imposed minimum level of end-of period assets\n",
    "    \"vFuncBool\" : False,                   # Whether to calculate the value function during solution\n",
    "    \"CubicBool\" : False,                   # Preference shocks currently only compatible with linear cFunc\n",
    "    \"T_cycle\" : 1,                         # Number of periods in the cycle for this agent type\n",
    "\n",
    "    # Parameters only used in simulation\n",
    "    \"AgentCount\" : 100000,                 # Number of agents of this type\n",
    "    \"T_sim\" : 1000,                        # Number of periods to simulate\n",
    "    \"aNrmInitMean\" : np.log(1.0)-(.5**2)/2,# Mean of log initial assets\n",
    "    \"aNrmInitStd\"  : .5,                   # Standard deviation of log initial assets\n",
    "    \"pLvlInitMean\" : 0.0,                  # Mean of log initial permanent income\n",
    "    \"pLvlInitStd\"  : 0.0,                  # Standard deviation of log initial permanent income\n",
    "    \"PermGroFacAgg\" : 1.0,                 # Aggregate permanent income growth factor\n",
    "    \"T_age\" : None,                        # Age after which simulated agents are automatically killed\n",
    "    \n",
    "    # Parameters for constructing the \"assets above minimum\" grid\n",
    "    \"aXtraMin\" : 0.001,                    # Minimum end-of-period \"assets above minimum\" value\n",
    "    \"aXtraMax\" : 50,                       # Maximum end-of-period \"assets above minimum\" value\n",
    "    \"aXtraCount\" : 50,                     # Number of points in the base grid of \"assets above minimum\"\n",
    "    \"aXtraNestFac\" : 3,                    # Exponential nesting factor when constructing \"assets above minimum\" grid\n",
    "    \"aXtraExtra\" : [None],                 # Additional values to add to aXtraGrid\n",
    "     }\n"
   ]
  },
  {
   "cell_type": "markdown",
   "id": "c91cd656",
   "metadata": {},
   "source": [
    "## Create an Instance of IndShockConsumerType and Solve"
   ]
  },
  {
   "cell_type": "code",
   "execution_count": 3,
   "id": "fae48368",
   "metadata": {},
   "outputs": [
    {
     "name": "stderr",
     "output_type": "stream",
     "text": [
      "GPFRaw                 = 0.993461 \n",
      "GPFNrm                 = 0.995083 \n",
      "GPFAggLivPrb           = 0.987252 \n",
      "Thorn = APF            = 0.993461 \n",
      "PermGroFacAdj          = 0.998371 \n",
      "uInvEpShkuInv          = 0.998371 \n",
      "VAF                    = 0.967328 \n",
      "WRPF                   = 0.218765 \n",
      "DiscFacGPFNrmMax       = 0.984660 \n",
      "DiscFacGPFAggLivPrbMax = 0.994090 \n"
     ]
    }
   ],
   "source": [
    "\n",
    "example1 = IndShockConsumerType(**Dict)\n",
    "example1.cycles = 0\n",
    "example1.solve()\n"
   ]
  },
  {
   "cell_type": "markdown",
   "id": "b2e9b917",
   "metadata": {},
   "source": [
    "# Simulation: Transition Matrix vs Monte Carlo"
   ]
  },
  {
   "cell_type": "markdown",
   "id": "736c044f",
   "metadata": {},
   "source": [
    "This section compares monte carlo methods against the transition matrix approach in computing aggregate consumption and aggregate assets."
   ]
  },
  {
   "cell_type": "markdown",
   "id": "c93e81d7",
   "metadata": {},
   "source": [
    "## Method 1: Monte Carlo "
   ]
  },
  {
   "cell_type": "code",
   "execution_count": 4,
   "id": "749d88aa",
   "metadata": {},
   "outputs": [],
   "source": [
    "\n",
    "# Simulation Parameters \n",
    "\n",
    "#Simulate\n",
    "example1.track_vars = ['aLvl'] # Track level of assets\n",
    "example1.initialize_sim()\n",
    "example1.simulate() #Simulate with Monte Carlo\n",
    "\n",
    "#Compute Aggregate Consumption and Aggregate Assets\n",
    "Monte_Carlo_Consumption = np.mean((example1.state_now['mNrm'] - example1.state_now['aNrm'])*example1.state_now['pLvl']) #Aggregate Consumption\n",
    "Monte_Carlo_Assets = np.mean(example1.state_now['aNrm']*example1.state_now['pLvl']) #Aggregate Assets\n"
   ]
  },
  {
   "cell_type": "markdown",
   "id": "c2507c98",
   "metadata": {},
   "source": [
    "## Method 2: Transition Matrices"
   ]
  },
  {
   "cell_type": "code",
   "execution_count": 5,
   "id": "74c568e6",
   "metadata": {},
   "outputs": [],
   "source": [
    "\n",
    "example1.define_distribution_grid()\n",
    "p = example1.dist_pGrid # Grid of permanent income levels\n",
    "\n",
    "example1.calc_transition_matrix()\n",
    "c = example1.cPol_Grid # Normalized Consumption Policy Grid\n",
    "asset = example1.aPol_Grid # Normalized Asset Policy Grid\n",
    "\n",
    "example1.calc_ergodic_dist()\n",
    "vecDstn = example1.vec_erg_dstn # Distribution of market resources and permanent income as a vector (m*p)x1 vector where \n",
    "# m is the number of market resource gridpoints and p is the number of permanent income gridpoints\n"
   ]
  },
  {
   "cell_type": "code",
   "execution_count": 6,
   "id": "cf241bb0",
   "metadata": {},
   "outputs": [],
   "source": [
    "\n",
    "#Compute Aggregate Consumption and Aggregate Assets\n",
    "gridc = np.zeros( (len(c),len(p)) )\n",
    "grida = np.zeros( (len(asset),len(p)) )\n",
    "\n",
    "for j in range(len(p)):\n",
    "    gridc[:,j] = p[j]*c # unnormalized Consumption policy grid\n",
    "    grida[:,j] = p[j]*asset # unnormalized Asset policy grid\n",
    "    \n",
    "AggC = np.dot(gridc.flatten(), vecDstn) #Aggregate Consumption\n",
    "AggA = np.dot(grida.flatten(), vecDstn) #Aggregate Assets\n"
   ]
  },
  {
   "cell_type": "code",
   "execution_count": 7,
   "id": "e9db4b37",
   "metadata": {},
   "outputs": [],
   "source": [
    "\n",
    "Asset_Lvls = [] # list of aggregate assets for different sized permanent income grids. This list will be used later to compare \n",
    "# how the grid size influences the computation\n",
    "\n",
    "for i in range(3): # Simulate aggregate assets with three permanent income grids.\n",
    "\n",
    "    example1.define_distribution_grid(num_pointsP = 50 + 40*i) # set grid size of permanent income grid\n",
    "    p = example1.dist_pGrid # Grid of permanent income levels\n",
    "\n",
    "    example1.calc_transition_matrix()\n",
    "    c = example1.cPol_Grid # Normalized Consumption Policy Grid\n",
    "    asset = example1.aPol_Grid # Normalized Asset Policy Grid\n",
    "\n",
    "    example1.calc_ergodic_dist()\n",
    "    vecDstn = example1.vec_erg_dstn # Distribution of market resources and permanent income as a vector (m*p)x1 vector where \n",
    "    # m is the number of market resource gridpoints and p is the number of permanent income gridpoints\n",
    "\n",
    "\n",
    "\n",
    "    grida = np.zeros( (len(asset),len(p)) )\n",
    "\n",
    "    for j in range(len(p)):\n",
    "        grida[:,j] = p[j]*asset # unnormalized Asset policy grid\n",
    "\n",
    "    AggA = np.dot(grida.flatten() ,vecDstn) #Aggregate Assets\n",
    "\n",
    "    Asset_Lvls.append(AggA)"
   ]
  },
  {
   "cell_type": "markdown",
   "id": "41339815",
   "metadata": {},
   "source": [
    "### Comparing Steady State Outputs of Both Methods"
   ]
  },
  {
   "cell_type": "code",
   "execution_count": 8,
   "id": "4508692e",
   "metadata": {},
   "outputs": [
    {
     "name": "stdout",
     "output_type": "stream",
     "text": [
      "TranMatrix Assets = 1.2671163879002465\n",
      "Simulated Assets = 1.2845364936075478\n",
      "TranMatrix Consumption = 1.007147924907855\n",
      "Simulated Consumption = 1.0156188197157066\n"
     ]
    }
   ],
   "source": [
    "print('TranMatrix Assets = ' + str(AggA[0]))\n",
    "print('Simulated Assets = ' +str(Monte_Carlo_Assets))\n",
    "\n",
    "print('TranMatrix Consumption = ' + str(AggC[0]))\n",
    "print('Simulated Consumption = ' +str(Monte_Carlo_Consumption))"
   ]
  },
  {
   "cell_type": "markdown",
   "id": "5e99ab28",
   "metadata": {},
   "source": [
    "### Comparing Simulated Path of Aggregate Assets\n",
    "\n",
    "The following code plots the path of aggregate assets simulate from both Monte Carlo methods and transition matrix methods."
   ]
  },
  {
   "cell_type": "code",
   "execution_count": 9,
   "id": "4caa59e3",
   "metadata": {},
   "outputs": [
    {
     "data": {
      "image/png": "[encoded data removed]",
      "text/plain": [
       "<Figure size 432x288 with 1 Axes>"
      ]
     },
     "metadata": {
      "needs_background": "light"
     },
     "output_type": "display_data"
    }
   ],
   "source": [
    "\n",
    "aLvls =[] # Time series of aggregate assets\n",
    "\n",
    "for i in range(example1.T_sim):\n",
    "    aLvls.append(np.mean(example1.history['aLvl'][i])) #compute mean of aggregate assets across all agents for each period of the simulation\n",
    "aLvls = np.array(aLvls)\n",
    "\n",
    "aLvl_tran_mat = []\n",
    "dstn = vecDstn\n",
    "for i in range(example1.T_sim-100):\n",
    "\n",
    "    A_val = np.dot(grida.flatten(),dstn) \n",
    "    \n",
    "    aLvl_tran_mat.append(A_val)\n",
    "    dstn = np.dot( example1.tran_matrix,dstn)\n",
    "\n",
    "plt.plot(aLvls[100:], label = 'Monte Carlo') # Plot time series path of aggregate assets using Monte Carlo simulation methods\n",
    "plt.plot(aLvl_tran_mat , label = 'Transition matrix') # Plot time series path of aggregate assets computed using transition matrix\n",
    "plt.legend()\n",
    "plt.ylim([1.1,1.4])\n",
    "plt.show()\n",
    "\n"
   ]
  },
  {
   "cell_type": "markdown",
   "id": "86ff2025",
   "metadata": {},
   "source": [
    "### Precision vs Accuracy\n",
    "\n",
    "Notice the mean level of aggregate assets differ between both simulation methods. The transition matrix plots a perfectly horizontal line as the initial distribution of agents across market resources and permanent is the unit eigenvector of the steady state transition matrix. Thus, as we take the produce of the transition matrix and the initial distribution, the new distribution does not change, implying the level of aggregate assets does not change. In contrast, the time series path simulated from Monte Carlo methods vacillates. This is because Monte Carlo methods are truly stochastic, randomly drawing shocks from a income distribution, while transition matrix methods are non-stochastic, the shock values are preset and the grid over market resources have is fixed. This contrast highlights the limitation of both methods, the monte carlo leads to a more accurate, yet less precise, level of aggregate assets while the transition matrix leads in precision but lacks  accuracy.  "
   ]
  },
  {
   "cell_type": "markdown",
   "id": "b9d6749e",
   "metadata": {},
   "source": [
    "### Increasing the number of permanent income grid points improves accuracy"
   ]
  },
  {
   "cell_type": "code",
   "execution_count": 10,
   "id": "eaaf3df8",
   "metadata": {},
   "outputs": [
    {
     "data": {
      "image/png": "[encoded data removed]",
      "text/plain": [
       "<Figure size 432x288 with 1 Axes>"
      ]
     },
     "metadata": {
      "needs_background": "light"
     },
     "output_type": "display_data"
    }
   ],
   "source": [
    "plt.plot(np.ones(example1.T_sim-100)*Asset_Lvls[0] , label = '101 gridpoints') # Plot time series path of aggregate assets computed using transition matrix\n",
    "plt.plot(np.ones(example1.T_sim-100)*Asset_Lvls[1] , label = '181 gridpoints') \n",
    "plt.plot(np.ones(example1.T_sim-100)*Asset_Lvls[2] , label = '261 gridpoints') \n",
    "plt.legend()\n",
    "plt.show()"
   ]
  },
  {
   "cell_type": "markdown",
   "id": "5a6e0f6e",
   "metadata": {},
   "source": [
    "## Distribution of Normalized Market Resources"
   ]
  },
  {
   "cell_type": "code",
   "execution_count": 11,
   "id": "32250b58",
   "metadata": {},
   "outputs": [
    {
     "data": {
      "image/png": "[encoded data removed]",
      "text/plain": [
       "<Figure size 432x288 with 1 Axes>"
      ]
     },
     "metadata": {
      "needs_background": "light"
     },
     "output_type": "display_data"
    }
   ],
   "source": [
    "\n",
    "mdstn = np.zeros(48) \n",
    "\n",
    "for i in range(48):\n",
    "    mdstn[i] = np.sum(example1.erg_dstn[i]) #distribution of normalized market resources\n",
    "\n",
    "h = np.histogram(example1.state_now['mNrm'],bins=example1.dist_mGrid)[0]/np.sum(np.histogram(example1.state_now['mNrm'],bins=example1.dist_mGrid)[0]) #Form Monte Carlo wealth data and put into histogram/bins\n",
    "plt.plot(example1.dist_mGrid,mdstn,label='Transition Matrix') # distribution using transition matrix method \n",
    "plt.plot(example1.dist_mGrid[:-1],h , label = 'Monte Carlo') #distribution using Monte Carlo\n",
    "plt.legend()\n",
    "plt.show()\n"
   ]
  },
  {
   "cell_type": "markdown",
   "id": "b35fe81b",
   "metadata": {},
   "source": [
    "## Distributions of Permanent Income "
   ]
  },
  {
   "cell_type": "code",
   "execution_count": 12,
   "id": "f5c5a54f",
   "metadata": {
    "scrolled": true
   },
   "outputs": [
    {
     "data": {
      "image/png": "[encoded data removed]",
      "text/plain": [
       "<Figure size 432x288 with 1 Axes>"
      ]
     },
     "metadata": {
      "needs_background": "light"
     },
     "output_type": "display_data"
    }
   ],
   "source": [
    "\n",
    "dstn = example1.erg_dstn\n",
    "\n",
    "pdstn = np.zeros(len(dstn[0]))\n",
    "for i in range(len(pdstn)):\n",
    "    pdstn[i] = np.sum(dstn[:,i])\n",
    "    \n",
    "h = np.histogram(example1.state_now['pLvl'],bins=example1.dist_pGrid)[0]/np.sum(np.histogram(example1.state_now['pLvl'],bins=example1.dist_pGrid)[0]) #Form Monte Carlo wealth data and put into histogram/bins\n",
    "plt.plot(example1.dist_pGrid[:-1],h,label='Monte Carlo') #distribution using Monte Carlo\n",
    "plt.plot(example1.dist_pGrid,pdstn , label = 'transition matrix')\n",
    "plt.ylabel('Probability')\n",
    "plt.xlim([0,10.0])\n",
    "plt.xlabel('Permanent Income')\n",
    "plt.title('Distribution of Permanent Income')\n",
    "plt.legend()\n",
    "plt.show()\n"
   ]
  },
  {
   "cell_type": "markdown",
   "id": "aa0a10fd",
   "metadata": {},
   "source": [
    "# Distribution of Wealth"
   ]
  },
  {
   "cell_type": "code",
   "execution_count": 13,
   "id": "943b6361",
   "metadata": {},
   "outputs": [],
   "source": [
    "#Compute all possible mLvl values given permanent income grid and normalized market resources grid\n",
    "\n",
    "mLvl_vals = []\n",
    "\n",
    "for m in example1.dist_mGrid:\n",
    "        \n",
    "    for p in example1.dist_pGrid:\n",
    "        \n",
    "        mLvl_vals.append(m*p)\n",
    "\n",
    "mLvl_vals = np.array(mLvl_vals)\n",
    "        "
   ]
  },
  {
   "cell_type": "code",
   "execution_count": 14,
   "id": "62467a20",
   "metadata": {},
   "outputs": [
    {
     "data": {
      "image/png": "[encoded data removed]",
      "text/plain": [
       "<Figure size 432x288 with 1 Axes>"
      ]
     },
     "metadata": {
      "needs_background": "light"
     },
     "output_type": "display_data"
    }
   ],
   "source": [
    "\n",
    "mLvl = example1.state_now['mNrm'] * example1.state_now['pLvl'] #market resources from Monte Carlo Simulations\n",
    "pmf = example1.jump_to_grid_fast(mLvl_vals, vecDstn, example1.dist_mGrid) # probabilities/distribution from transition matrix methods\n",
    "h = np.histogram(mLvl,bins=example1.dist_mGrid)[0]/np.sum(np.histogram(mLvl,bins=example1.dist_mGrid)[0]) #Form Monte Carlo wealth data and put into histogram/bins\n",
    "\n",
    "plt.plot(example1.dist_mGrid[:-1],h , label = 'Monte Carlo') #distribution using Monte Carlo\n",
    "plt.plot(example1.dist_mGrid,pmf, label = 'transition Matrix')\n",
    "plt.xlabel('Market Resources (Levels)')\n",
    "plt.title('Distribution of Market Resources')\n",
    "plt.legend()\n",
    "plt.show()\n"
   ]
  },
  {
   "cell_type": "markdown",
   "id": "5405776d",
   "metadata": {},
   "source": [
    "# Calculating the Path of Consumption given an Perfect foresight MIT shock\n",
    "\n",
    "This section details an experiment to exhibit how to the transition matrix method can be utilized to compute the paths of aggregate consumption and aggregate assets given a pertubation in a variable for one period. In particular, in this experiment, in period t=0, agents learn that there will be a shock in the Discount Factor in period t=10. Given this, the simulated paths of aggregate consumption and aggregate assets will be computed and plotted. \n",
    "\n"
   ]
  },
  {
   "cell_type": "markdown",
   "id": "f887786c",
   "metadata": {},
   "source": [
    "### Compute Steady State Distribution\n",
    "\n",
    "We will want the simulation to begin at the economy's steady state. Therefore first we will compute the steady state distribution over market resources and permanent income. This will be the distribution for which the computed transition matrices will be applied/multiplied to. "
   ]
  },
  {
   "cell_type": "code",
   "execution_count": 15,
   "id": "40cb1b7b",
   "metadata": {},
   "outputs": [
    {
     "name": "stderr",
     "output_type": "stream",
     "text": [
      "GPFRaw                 = 0.993461 \n",
      "GPFNrm                 = 0.995083 \n",
      "GPFAggLivPrb           = 0.987252 \n",
      "Thorn = APF            = 0.993461 \n",
      "PermGroFacAdj          = 0.998371 \n",
      "uInvEpShkuInv          = 0.998371 \n",
      "VAF                    = 0.967328 \n",
      "WRPF                   = 0.218765 \n",
      "DiscFacGPFNrmMax       = 0.984660 \n",
      "DiscFacGPFAggLivPrbMax = 0.994090 \n"
     ]
    }
   ],
   "source": [
    "\n",
    "ss = deepcopy(example1)\n",
    "\n",
    "ss.cycles = 0\n",
    "ss.solve()\n",
    "\n",
    "ss.define_distribution_grid()\n",
    "p = ss.dist_pGrid # Grid of permanent income \n",
    "\n",
    "ss.calc_transition_matrix()\n",
    "c = ss.cPol_Grid # Normalized Consumption Policy grid\n",
    "a = ss.aPol_Grid #Normalized Asset Policy grid\n",
    "\n",
    "ss.calc_ergodic_dist()\n",
    "vecDstn = ss.vec_erg_dstn # Steady State Distribution as a vector (m*p x 1) where m is the number of gridpoints on the market resources grid \n",
    "#and p is the number of gridpoints on the permanent income grid\n"
   ]
  },
  {
   "cell_type": "code",
   "execution_count": 16,
   "id": "52420de0",
   "metadata": {},
   "outputs": [
    {
     "data": {
      "text/plain": [
       "{'aLvl': array([[2.28208447, 0.85378013, 1.03678129, ..., 0.66287236, 1.06829241,\n",
       "         1.42715987],\n",
       "        [1.86563613, 0.88134085, 1.19870031, ..., 1.15648667, 0.93942994,\n",
       "         1.10717606],\n",
       "        [1.66229209, 0.89762137, 1.34533666, ..., 1.13761691, 0.82648482,\n",
       "         1.09642607],\n",
       "        ...,\n",
       "        [2.65438671, 0.85497639, 1.61069513, ..., 1.16436265, 1.51954039,\n",
       "         1.43482885],\n",
       "        [2.10082065, 0.61211664, 1.56973612, ..., 0.74585753, 1.26122115,\n",
       "         1.39239903],\n",
       "        [1.85203704, 0.41015865, 2.08330656, ..., 0.99076619, 1.52194747,\n",
       "         1.35331196]])}"
      ]
     },
     "execution_count": 16,
     "metadata": {},
     "output_type": "execute_result"
    }
   ],
   "source": [
    "\n",
    "ss.T_sim = 1400\n",
    "ss.initialize_sim()\n",
    "ss.simulate()\n"
   ]
  },
  {
   "cell_type": "markdown",
   "id": "95903c7c",
   "metadata": {},
   "source": [
    "## Simulating With Harmenberg (2021) Method\n",
    "\n",
    "Harmenberg (2021) method may also be implemented when simulating with transition matrices. In cells 16 and 17, we compute the steady distribution using Harmenberg's method.\n",
    "\n",
    "For more information on Harmenberg's Method to dramatically improve simulation times see https://econ-ark.org/materials/harmenberg-aggregation?launch\n"
   ]
  },
  {
   "cell_type": "code",
   "execution_count": 17,
   "id": "68d37656",
   "metadata": {},
   "outputs": [],
   "source": [
    "# Change the income process to use Neutral Measure\n",
    "ss.neutral_measure = True \n",
    "ss.update_income_process()"
   ]
  },
  {
   "cell_type": "code",
   "execution_count": 18,
   "id": "357c1baf",
   "metadata": {},
   "outputs": [],
   "source": [
    "\n",
    "# Set up grid and calculate transition Matrices\n",
    "\n",
    "ss.define_distribution_grid()\n",
    "ss.calc_transition_matrix()\n",
    "\n",
    "c = ss.cPol_Grid # Normalized Consumption Policy grid\n",
    "a = ss.aPol_Grid #Normalized Asset Policy grid\n",
    "\n",
    "ss.calc_ergodic_dist() #Calculate ergodic distribution\n",
    "vecDstn_fast = ss.vec_erg_dstn #Distribution as a vector (mx1) where m is the number of gridpoint on the market resources grid\n"
   ]
  },
  {
   "cell_type": "code",
   "execution_count": 19,
   "id": "bfc3fe24",
   "metadata": {},
   "outputs": [
    {
     "data": {
      "image/png": "[encoded data removed]",
      "text/plain": [
       "<Figure size 432x288 with 1 Axes>"
      ]
     },
     "metadata": {
      "needs_background": "light"
     },
     "output_type": "display_data"
    }
   ],
   "source": [
    "\n",
    "AggA_fast =  np.dot(ss.aPol_Grid,vecDstn_fast)\n",
    "\n",
    "plt.plot(aLvls[100:], label = 'Monte Carlo') # Plot time series path of aggregate assets using Monte Carlo simulation methods\n",
    "plt.plot(np.ones(example1.T_sim-100)*AggA , label = 'transition matrix') # Plot time series path of aggregate assets computed using transition matrix\n",
    "plt.plot(np.ones(example1.T_sim-100)*AggA_fast , label = 'transition matrix _harmenberg') # Plot time series path of aggregate assets computed using transition matrix\n",
    "plt.ylabel('Aggregate Assets')\n",
    "plt.legend()\n",
    "plt.show()\n"
   ]
  },
  {
   "cell_type": "markdown",
   "id": "617c21e3",
   "metadata": {},
   "source": [
    "Note the Harmenberg method note only reduces the time of computation but also improves the accuracy of the simulated path of assets. "
   ]
  },
  {
   "cell_type": "markdown",
   "id": "a414078e",
   "metadata": {},
   "source": [
    "### Solve an Agent who Anticipates a Change in the Discount Factor\n",
    "\n",
    "Now that we have the steady state distributions of which simulations will begin from, we will now solve an agent who anticipates a change in the Discount Factor in period t=10. Solving the agent will provide the consumption policies to be used to calculate the transition matrices of this economy. "
   ]
  },
  {
   "cell_type": "code",
   "execution_count": 20,
   "id": "2b898628",
   "metadata": {},
   "outputs": [],
   "source": [
    "\n",
    "# We will solve a finite horizon problem that begins at the steady state computed above. \n",
    "# Therefore parameters must be specified as lists, each item's index indicating the period of the horizon.\n",
    "\n",
    "params = deepcopy(Dict)\n",
    "params['T_cycle']= 20\n",
    "params['LivPrb']= params['T_cycle']*[ss.LivPrb[0]]\n",
    "params['PermGroFac']=params['T_cycle']*[1]\n",
    "params['PermShkStd'] = params['T_cycle']*[ss.PermShkStd[0]]\n",
    "params['TranShkStd']= params['T_cycle']*[ss.TranShkStd[0]]\n",
    "params['Rfree'] = params['T_cycle']*[ss.Rfree]\n",
    "params['DiscFac'] = params['T_cycle']*[ss.DiscFac]\n",
    "\n",
    "\n",
    "FinHorizonAgent = IndShockConsumerType(**params)\n",
    "FinHorizonAgent.cycles = 1\n",
    "\n",
    "FinHorizonAgent.del_from_time_inv('Rfree') #delete Rfree from time invariant list since it varies overtime\n",
    "FinHorizonAgent.add_to_time_vary('Rfree')\n",
    "\n",
    "FinHorizonAgent.del_from_time_inv('DiscFac') #delete Rfree from time invariant list since it varies overtime\n",
    "FinHorizonAgent.add_to_time_vary('DiscFac')\n",
    "\n",
    "FinHorizonAgent.IncShkDstn = params['T_cycle']*[ss.IncShkDstn[0]]\n",
    "FinHorizonAgent.cFunc_terminal_ = deepcopy(ss.solution[0].cFunc) # Set Terminal Solution as Steady State Consumption Function\n",
    "FinHorizonAgent.track_vars = ['cNrm','pLvl'] \n",
    "FinHorizonAgent.T_sim = params['T_cycle']\n",
    "\n"
   ]
  },
  {
   "cell_type": "markdown",
   "id": "9bff1e5d",
   "metadata": {},
   "source": [
    "### Implement perturbation in Discount Factor"
   ]
  },
  {
   "cell_type": "code",
   "execution_count": 21,
   "id": "3a1059a0",
   "metadata": {},
   "outputs": [],
   "source": [
    "\n",
    "dx = -.05 # Change in the Interest Rate\n",
    "i = 10 # Period in which the change in the interest rate occurs\n",
    "\n",
    "FinHorizonAgent.DiscFac = (i)*[ss.DiscFac] + [ss.DiscFac + dx] + (params['T_cycle'] - i -1 )*[ss.DiscFac] # Sequence of interest rates the agent faces\n",
    "\n"
   ]
  },
  {
   "cell_type": "markdown",
   "id": "fbd4f108",
   "metadata": {},
   "source": [
    "### Solve Agent"
   ]
  },
  {
   "cell_type": "code",
   "execution_count": 22,
   "id": "2c19a5c4",
   "metadata": {},
   "outputs": [],
   "source": [
    "\n",
    "FinHorizonAgent.solve()\n"
   ]
  },
  {
   "cell_type": "markdown",
   "id": "bde0ca6d",
   "metadata": {},
   "source": [
    "### Simulate with Monte Carlo"
   ]
  },
  {
   "cell_type": "code",
   "execution_count": 23,
   "id": "cd713927",
   "metadata": {},
   "outputs": [
    {
     "name": "stdout",
     "output_type": "stream",
     "text": [
      "seconds past : 1.7260565757751465\n"
     ]
    }
   ],
   "source": [
    "\n",
    "#Simulate with Monte Carlo\n",
    "\n",
    "FinHorizonAgent.PerfMITShk = True\n",
    "\n",
    "start = time.time()\n",
    "\n",
    "FinHorizonAgent.initialize_sim()\n",
    "\n",
    "#Begin simulation at steady state distribution of permanent income and permanent income\n",
    "FinHorizonAgent.state_now['aNrm'] = ss.state_now['aNrm']\n",
    "FinHorizonAgent.state_now['pLvl'] = ss.state_now['pLvl']\n",
    "\n",
    "FinHorizonAgent.simulate()\n",
    "\n",
    "print('seconds past : ' + str(time.time()-start))\n",
    "\n",
    "#Compute path of aggregate consumption\n",
    "clvl = []\n",
    "for i in range(FinHorizonAgent.T_sim):\n",
    "    \n",
    "    C = np.mean(FinHorizonAgent.history['pLvl'][i,:]*FinHorizonAgent.history['cNrm'][i,:]) #Aggregate Consumption for period i\n",
    "    clvl.append(C)\n"
   ]
  },
  {
   "cell_type": "markdown",
   "id": "69fc3c48",
   "metadata": {},
   "source": [
    "### Calculate Transition Matrices\n",
    "\n",
    "After the agent solves his problem, the consumption policies are stored in the solution attribute of self. calc_transition_matrix() will automatically call these attributes to compute the transition matrices."
   ]
  },
  {
   "cell_type": "code",
   "execution_count": 24,
   "id": "bed1bb70",
   "metadata": {},
   "outputs": [
    {
     "name": "stdout",
     "output_type": "stream",
     "text": [
      "seconds past : 89.30650019645691\n"
     ]
    }
   ],
   "source": [
    "\n",
    "start = time.time()\n",
    "FinHorizonAgent.define_distribution_grid() \n",
    "FinHorizonAgent.calc_transition_matrix()\n",
    "print('seconds past : ' + str(time.time()-start))\n",
    "\n",
    "FinHorizonAgent.calc_agg_path(init_dstn = vecDstn) #calc_agg_path calculates the paths of aggregate assets and consumption storing each as attributes self.\n",
    "\n",
    "AggC = FinHorizonAgent.AggC\n"
   ]
  },
  {
   "cell_type": "markdown",
   "id": "a8b023e1",
   "metadata": {},
   "source": [
    "calc_agg_path computes the paths of aggregate consumption and aggregate assets storing each time series as attributes of self given the initial distribution as an argument. This method is called after non stochastic simulation. "
   ]
  },
  {
   "cell_type": "markdown",
   "id": "05277961",
   "metadata": {},
   "source": [
    "### Calculate Transition matrices with Neutral Measure (Harmenberg 2021)\n",
    "In the cell below we calculate the transition matrix while utilizing the neutral measure."
   ]
  },
  {
   "cell_type": "code",
   "execution_count": 25,
   "id": "0b054e97",
   "metadata": {},
   "outputs": [
    {
     "name": "stdout",
     "output_type": "stream",
     "text": [
      "seconds past : 1.0433852672576904\n"
     ]
    }
   ],
   "source": [
    "\n",
    "# Change Income Process to allow permanent income shocks to be drawn from neutral measure\n",
    "FinHorizonAgent.neutral_measure = True\n",
    "FinHorizonAgent.update_income_process()\n",
    "\n",
    "# Calculate Transition Matrices\n",
    "start = time.time()\n",
    "FinHorizonAgent.define_distribution_grid() \n",
    "FinHorizonAgent.calc_transition_matrix()\n",
    "print('seconds past : ' + str(time.time()-start))\n",
    "\n",
    "#Calculate Macro Aggregates given Transition Matrices\n",
    "FinHorizonAgent.calc_agg_path(init_dstn = vecDstn_fast)\n",
    "\n",
    "AggC_fast = FinHorizonAgent.AggC #Path of Aggregate Consumption\n"
   ]
  },
  {
   "cell_type": "markdown",
   "id": "fc41793e",
   "metadata": {},
   "source": [
    "Notice the dramatic speed improvement."
   ]
  },
  {
   "cell_type": "markdown",
   "id": "edd797a5",
   "metadata": {},
   "source": [
    "### Path of Aggregate Consumption given an anticipated Discount Factor shock at $t=10$\n"
   ]
  },
  {
   "cell_type": "code",
   "execution_count": 26,
   "id": "67c68171",
   "metadata": {},
   "outputs": [
    {
     "data": {
      "image/png": "[encoded data removed]",
      "text/plain": [
       "<Figure size 432x288 with 1 Axes>"
      ]
     },
     "metadata": {
      "needs_background": "light"
     },
     "output_type": "display_data"
    }
   ],
   "source": [
    "\n",
    "#plt.plot(AggC, label = 'without Harmenberg') #Without Neutral Measure\n",
    "plt.plot(AggC_fast, label = ' Transition Matrices') #With Harmenberg Improvement\n",
    "plt.plot(clvl, label = 'Monte Carlo')\n",
    "plt.ylim([.98,1.05])\n",
    "plt.legend()\n",
    "plt.show()\n"
   ]
  }
 ],
 "metadata": {
  "kernelspec": {
   "display_name": "Python 3",
   "language": "python",
   "name": "python3"
  },
  "language_info": {
   "codemirror_mode": {
    "name": "ipython",
    "version": 3
   },
   "file_extension": ".py",
   "mimetype": "text/x-python",
   "name": "python",
   "nbconvert_exporter": "python",
   "pygments_lexer": "ipython3",
   "version": "3.8.8"
  }
 },
 "nbformat": 4,
 "nbformat_minor": 5
}
