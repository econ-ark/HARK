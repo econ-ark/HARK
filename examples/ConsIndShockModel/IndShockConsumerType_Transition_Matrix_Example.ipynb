{
 "cells": [
  {
   "cell_type": "markdown",
   "id": "54f0278c",
   "metadata": {},
   "source": [
    "# Using Transition Matrix Methods under IndShockConsumerType\n",
    "\n",
    "By William Du"
   ]
  },
  {
   "cell_type": "markdown",
   "id": "52ce71ba",
   "metadata": {},
   "source": [
    "This Jupyter Notebook demonstrates how to non-stochastically simulate an economy with transition matrices with functions under the IndShockConsumerType.\n",
    "\n",
    "The three key functions to non stochastically simulate are:\n",
    "\n",
    "##### define_distribution_grid\n",
    "- computes the grid of normalized market resources and the grid permanent income storing each as attributes of self.\n",
    "\n",
    "###### calc_transition_matrix \n",
    "- computes transition matrix (matrices), a grid of consumption policies, and a grid asset policies stored as attributes of self. If the problem has a finite horizon, this function stores lists of transition matrices, consumption policies and asset policies grid for each period as attributes of self.\n",
    "\n",
    "##### calc_ergodic_dist \n",
    "- computes the ergodic distribution stored as attributes. The distribution is stored as a vector (self.vec_erg_dstn) and as a grid (self.erg_dstn)\n",
    "\n"
   ]
  },
  {
   "cell_type": "markdown",
   "id": "ad742954",
   "metadata": {},
   "source": [
    "## Set up Computational Environment"
   ]
  },
  {
   "cell_type": "code",
   "execution_count": 1,
   "id": "1f08d05f",
   "metadata": {},
   "outputs": [
    {
     "name": "stderr",
     "output_type": "stream",
     "text": [
      "C:\\Users\\wdu\\Anaconda3\\lib\\site-packages\\numpy\\_distributor_init.py:30: UserWarning: loaded more than 1 DLL from .libs:\n",
      "C:\\Users\\wdu\\Anaconda3\\lib\\site-packages\\numpy\\.libs\\libopenblas.PYQHXLVVQ7VESDPUVUADXEVJOBGHJPAY.gfortran-win_amd64.dll\n",
      "C:\\Users\\wdu\\Anaconda3\\lib\\site-packages\\numpy\\.libs\\libopenblas.XWYDX2IKJW2NMTWSFYNGFUWKQU3LYTCZ.gfortran-win_amd64.dll\n",
      "  warnings.warn(\"loaded more than 1 DLL from .libs:\"\n"
     ]
    }
   ],
   "source": [
    "from HARK.ConsumptionSaving.ConsIndShockModel import IndShockConsumerType\n",
    "import time\n",
    "from copy import copy, deepcopy\n",
    "import numpy as np\n",
    "import matplotlib.pyplot as plt\n"
   ]
  },
  {
   "cell_type": "markdown",
   "id": "4b7e817f",
   "metadata": {},
   "source": [
    "## Set up the Dictionary"
   ]
  },
  {
   "cell_type": "code",
   "execution_count": 2,
   "id": "b7f01516",
   "metadata": {},
   "outputs": [],
   "source": [
    "\n",
    "Dict={\n",
    "    # Parameters shared with the perfect foresight model\n",
    "    \"CRRA\":2,                              # Coefficient of relative risk aversion\n",
    "    \"Rfree\": 1.05**.25,                    # Interest factor on assets\n",
    "    \"DiscFac\": 0.97,                       # Intertemporal discount factor\n",
    "    \"LivPrb\" : [.99375],                   # Survival probability\n",
    "    \"PermGroFac\" :[1.00],                  # Permanent income growth factor\n",
    "\n",
    "    # Parameters that specify the income distribution over the lifecycle\n",
    "   \n",
    "    \"PermShkStd\" :  [.05],                 # Standard deviation of log permanent shocks to income\n",
    "    \"PermShkCount\" : 5,                    # Number of points in discrete approximation to permanent income shocks\n",
    "    \"TranShkStd\" : [.3],                   # Standard deviation of log transitory shocks to income\n",
    "    \"TranShkCount\" : 5,                    # Number of points in discrete approximation to transitory income shocks\n",
    "    \"UnempPrb\" : 0.05,                     # Probability of unemployment while working\n",
    "    \"IncUnemp\" :  .2,                      # Unemployment benefits replacement rate\n",
    "    \"UnempPrbRet\" : 0.0005,                # Probability of \"unemployment\" while retired\n",
    "    \"IncUnempRet\" : 0.0,                   # \"Unemployment\" benefits when retired\n",
    "    \"T_retire\" : 0,                        # Period of retirement (0 --> no retirement)\n",
    "    \"tax_rate\" : .3,                       # Flat income tax rate (legacy parameter, will be removed in future)\n",
    "\n",
    "    # Parameters for constructing the \"assets above minimum\" grid\n",
    "    \"aXtraMin\" : 0.001,                    # Minimum end-of-period \"assets above minimum\" value\n",
    "    \"aXtraMax\" : 20,                       # Maximum end-of-period \"assets above minimum\" value\n",
    "    \"aXtraCount\" : 48,                     # Number of points in the base grid of \"assets above minimum\"\n",
    "    \"aXtraNestFac\" : 3,                    # Exponential nesting factor when constructing \"assets above minimum\" grid\n",
    "    \"aXtraExtra\" : [None],                 # Additional values to add to aXtraGrid\n",
    "\n",
    "    # A few other parameters\n",
    "    \"BoroCnstArt\" : 0.0,                   # Artificial borrowing constraint; imposed minimum level of end-of period assets\n",
    "    \"vFuncBool\" : False,                   # Whether to calculate the value function during solution\n",
    "    \"CubicBool\" : False,                   # Preference shocks currently only compatible with linear cFunc\n",
    "    \"T_cycle\" : 1,                         # Number of periods in the cycle for this agent type\n",
    "\n",
    "    # Parameters only used in simulation\n",
    "    \"AgentCount\" : 90000,                  # Number of agents of this type\n",
    "    \"T_sim\" : 600,                         # Number of periods to simulate\n",
    "    \"aNrmInitMean\" : np.log(1.6)-(.5**2)/2,# Mean of log initial assets\n",
    "    \"aNrmInitStd\"  : .5,                   # Standard deviation of log initial assets\n",
    "    \"pLvlInitMean\" : 0.0,                  # Mean of log initial permanent income\n",
    "    \"pLvlInitStd\"  : 0.0,                  # Standard deviation of log initial permanent income\n",
    "    \"PermGroFacAgg\" : 1.0,                 # Aggregate permanent income growth factor\n",
    "    \"T_age\" : None,                        # Age after which simulated agents are automatically killed\n",
    "    \n",
    "     }\n"
   ]
  },
  {
   "cell_type": "markdown",
   "id": "c91cd656",
   "metadata": {},
   "source": [
    "## Create an Instance of IndShockConsumerType and Solve"
   ]
  },
  {
   "cell_type": "code",
   "execution_count": 3,
   "id": "fae48368",
   "metadata": {},
   "outputs": [
    {
     "name": "stderr",
     "output_type": "stream",
     "text": [
      "GPFRaw                 = 0.990911 \n",
      "GPFNrm                 = 0.993135 \n",
      "GPFAggLivPrb           = 0.984718 \n",
      "Thorn = APF            = 0.990911 \n",
      "PermGroFacAdj          = 0.997760 \n",
      "uInvEpShkuInv          = 0.997760 \n",
      "VAF                    = 0.961779 \n",
      "WRPF                   = 0.218203 \n",
      "DiscFacGPFNrmMax       = 0.983457 \n",
      "DiscFacGPFAggLivPrbMax = 0.994090 \n"
     ]
    }
   ],
   "source": [
    "\n",
    "example1 = IndShockConsumerType(**Dict)\n",
    "example1.cycles = 0\n",
    "example1.solve()\n"
   ]
  },
  {
   "cell_type": "markdown",
   "id": "b2e9b917",
   "metadata": {},
   "source": [
    "# Simulation: Transition Matrix vs Monte Carlo"
   ]
  },
  {
   "cell_type": "markdown",
   "id": "736c044f",
   "metadata": {},
   "source": [
    "This section compares monte carlo methods against the transition matrix approach in computing aggregate consumption and aggregate assets."
   ]
  },
  {
   "cell_type": "markdown",
   "id": "c93e81d7",
   "metadata": {},
   "source": [
    "## Method 1: Monte Carlo "
   ]
  },
  {
   "cell_type": "code",
   "execution_count": 4,
   "id": "749d88aa",
   "metadata": {},
   "outputs": [],
   "source": [
    "#Simulate\n",
    "example1.track_vars = ['aLvl']\n",
    "example1.initialize_sim()\n",
    "example1.simulate() #Simulate with Monte Carlo\n",
    "\n",
    "#Compute Aggregate Consumption and Aggregate Assets\n",
    "Monte_Carlo_Consumption = np.mean((example1.state_now['mNrm'] - example1.state_now['aNrm'])*example1.state_now['pLvl'])\n",
    "Monte_Carlo_Assets = np.mean(example1.state_now['aNrm']*example1.state_now['pLvl'])"
   ]
  },
  {
   "cell_type": "markdown",
   "id": "c2507c98",
   "metadata": {},
   "source": [
    "## Method 2: Transition Matrices"
   ]
  },
  {
   "cell_type": "code",
   "execution_count": 5,
   "id": "74c568e6",
   "metadata": {},
   "outputs": [],
   "source": [
    "\n",
    "example1.define_distribution_grid()\n",
    "p = example1.dist_pGrid # Grid of permanent income levels\n",
    "\n",
    "example1.calc_transition_matrix()\n",
    "c = example1.cPol_Grid #Normalized Consumption Policy Grid\n",
    "asset = example1.aPol_Grid # Normalized Asset Policy Grid\n",
    "\n",
    "example1.calc_ergodic_dist()\n",
    "vecDstn = example1.vec_erg_dstn # Distribution of market resources and permanent income as a vector (m*p)x1 vector where \n",
    "# m is the number of market resource gridpoints and p is the number of permanent income gridpoints\n"
   ]
  },
  {
   "cell_type": "code",
   "execution_count": 6,
   "id": "cf241bb0",
   "metadata": {},
   "outputs": [],
   "source": [
    "#Compute Aggregate Consumption and Aggregate Assets\n",
    "gridc = np.zeros((len(c),len(p)))\n",
    "grida = np.zeros((len(asset),len(p)))\n",
    "\n",
    "for j in range(len(p)):\n",
    "    gridc[:,j] = p[j]*c # unnormalized Consumption policy grid\n",
    "    grida[:,j] = p[j]*asset # unnormalized Asset policy grid\n",
    "    \n",
    "AggC = np.dot(gridc.flatten(),vecDstn) #Aggregate Consumption\n",
    "AggA = np.dot(grida.flatten() ,vecDstn) #Aggregate Assets"
   ]
  },
  {
   "cell_type": "markdown",
   "id": "41339815",
   "metadata": {},
   "source": [
    "### Comparing Steady State Outputs of Both Methods"
   ]
  },
  {
   "cell_type": "code",
   "execution_count": 7,
   "id": "4508692e",
   "metadata": {},
   "outputs": [
    {
     "name": "stdout",
     "output_type": "stream",
     "text": [
      "TranMatrix Assets = 1.1474302931355933\n",
      "Simulated Assets = 1.2001867331617726\n",
      "TranMatrix Consumption = 1.0051038032589252\n",
      "Simulated Consumption = 1.0168991365573243\n"
     ]
    }
   ],
   "source": [
    "print('TranMatrix Assets = ' + str(AggA[0]))\n",
    "print('Simulated Assets = ' +str(Monte_Carlo_Assets))\n",
    "\n",
    "print('TranMatrix Consumption = ' + str(AggC[0]))\n",
    "print('Simulated Consumption = ' +str(Monte_Carlo_Consumption))"
   ]
  },
  {
   "cell_type": "markdown",
   "id": "5e99ab28",
   "metadata": {},
   "source": [
    "### Comparing Simulated Path of Aggregate Assets\n",
    "\n",
    "The following code plots the path of aggregate assets simulatef from both Monte Carlo methods and transition matrix methods."
   ]
  },
  {
   "cell_type": "code",
   "execution_count": 8,
   "id": "f69f719f",
   "metadata": {},
   "outputs": [
    {
     "data": {
      "image/png": "[encoded data removed]",
      "text/plain": [
       "<Figure size 432x288 with 1 Axes>"
      ]
     },
     "metadata": {
      "needs_background": "light"
     },
     "output_type": "display_data"
    }
   ],
   "source": [
    "aLvls =[] # time series of aggregate assets\n",
    "\n",
    "for i in range(example1.T_sim):\n",
    "    aLvls.append(np.mean(example1.history['aLvl'][i])) #compute mean of aggregate assets across all agents for each period of the simulation\n",
    "aLvls = np.array(aLvls)\n",
    "\n",
    "plt.plot(aLvls[100:], label = 'Monte Carlo') # Plot time series path of aggregate assets using Monte Carlo simulation methods\n",
    "plt.plot(np.ones(example1.T_sim-100)*AggA , label = 'transition matrix') # Plot time series path of aggregate assets computed using transition matrix\n",
    "plt.ylim(.95,1.4)\n",
    "plt.legend()\n",
    "plt.show()\n",
    "    "
   ]
  },
  {
   "cell_type": "markdown",
   "id": "3b49dad5",
   "metadata": {},
   "source": [
    "#### Precision vs Accuracy\n",
    "\n",
    "Notice the mean level of aggregate assets differ between both simulation methods. The transition matrix plots a perfectly horizontal line as the initial distribution of agents across market resources and permanent is the unit eigenvector of the steady state transition matrix. Thus, as we take the produce of the transition matrix and the initial distribution, the new distribution does not change, implying the level of aggregate assets does not change. In contrast, the time series path simulated from Monte Carlo methods vacillates. This is because Monte Carlo methods are truly stochastic, randomly drawing shocks from a income distribution, while transition matrix methods are non-stochastic, the shock values are preset and the grid over market resources have is fixed. This contrast highlights the limitation of both methods, the monte carlo leads to a more accurate, yet less precise, level of aggregate assets while the transition matrix leads in precision but lacks  accuracy.  "
   ]
  },
  {
   "cell_type": "markdown",
   "id": "5a6e0f6e",
   "metadata": {},
   "source": [
    "### Comparing Distributions of Normalized Market Resources"
   ]
  },
  {
   "cell_type": "code",
   "execution_count": 9,
   "id": "32250b58",
   "metadata": {},
   "outputs": [
    {
     "data": {
      "image/png": "[encoded data removed]",
      "text/plain": [
       "<Figure size 432x288 with 1 Axes>"
      ]
     },
     "metadata": {
      "needs_background": "light"
     },
     "output_type": "display_data"
    }
   ],
   "source": [
    "mdstn = np.zeros(48) \n",
    "\n",
    "for i in range(48):\n",
    "    mdstn[i] = np.sum(example1.erg_dstn[i]) #distribution of normalized market resources\n",
    "\n",
    "h = np.histogram(example1.state_now['mNrm'],bins=example1.dist_mGrid)[0]/np.sum(np.histogram(example1.state_now['mNrm'],bins=example1.dist_mGrid)[0]) #Form Monte Carlo wealth data and put into histogram/bins\n",
    "\n",
    "plt.plot(example1.dist_mGrid,mdstn,label='Monte Carlo') #distribution using Monte Carlo\n",
    "plt.plot(example1.dist_mGrid[:-1],h , label = 'Transition Matrix') # distribution using transition matrix method\n",
    "plt.legend()\n",
    "plt.show()\n"
   ]
  },
  {
   "cell_type": "markdown",
   "id": "210711d4",
   "metadata": {},
   "source": [
    "### Comparing Distributions of Permanent Income "
   ]
  },
  {
   "cell_type": "code",
   "execution_count": 10,
   "id": "620125d5",
   "metadata": {},
   "outputs": [
    {
     "data": {
      "image/png": "[encoded data removed]",
      "text/plain": [
       "<Figure size 432x288 with 1 Axes>"
      ]
     },
     "metadata": {
      "needs_background": "light"
     },
     "output_type": "display_data"
    }
   ],
   "source": [
    "\n",
    "dstn = example1.erg_dstn\n",
    "\n",
    "pdstn = np.zeros(len(dstn[0]))\n",
    "for i in range(len(pdstn)):\n",
    "    \n",
    "    pdstn[i] = np.sum(dstn[:,i])\n",
    "    \n",
    "h = np.histogram(example1.state_now['pLvl'],bins=example1.dist_mGrid)[0]/np.sum(np.histogram(example1.state_now['pLvl'],bins=example1.dist_mGrid)[0]) #Form Monte Carlo wealth data and put into histogram/bins\n",
    "plt.plot(example1.dist_mGrid[:-1],h,label='Monte Carlo') #distribution using Monte Carlo\n",
    "plt.plot(example1.dist_pGrid,pdstn , label = 'transition matrix')\n",
    "plt.legend()\n",
    "plt.show()\n"
   ]
  },
  {
   "cell_type": "markdown",
   "id": "5405776d",
   "metadata": {},
   "source": [
    "# Calculating the Path of Consumption given an MIT shock\n",
    "\n",
    "This section details an experiment to exhibit how to the transition matrix method can be utilized to compute the paths of aggregate consumption and aggregate assets given a pertubation in a variable for one period. In particular, in this experiment, agents anticipates a change in the interest rate during period 10 and plots the simulated paths of aggregate consumption and aggregate assets."
   ]
  },
  {
   "cell_type": "markdown",
   "id": "f887786c",
   "metadata": {},
   "source": [
    "### Compute Steady State Distribution\n",
    "\n",
    "We will want the simulation to begin at the economy's steady state. Therefore first we will compute the steady state distribution over market resources and permanent income. This will be the distribution for which the computed transition matrices will be applied/multiplied to. "
   ]
  },
  {
   "cell_type": "code",
   "execution_count": 11,
   "id": "40cb1b7b",
   "metadata": {},
   "outputs": [
    {
     "name": "stderr",
     "output_type": "stream",
     "text": [
      "GPFRaw                 = 0.990911 \n",
      "GPFNrm                 = 0.993135 \n",
      "GPFAggLivPrb           = 0.984718 \n",
      "Thorn = APF            = 0.990911 \n",
      "PermGroFacAdj          = 0.997760 \n",
      "uInvEpShkuInv          = 0.997760 \n",
      "VAF                    = 0.961779 \n",
      "WRPF                   = 0.218203 \n",
      "DiscFacGPFNrmMax       = 0.983457 \n",
      "DiscFacGPFAggLivPrbMax = 0.994090 \n"
     ]
    }
   ],
   "source": [
    "\n",
    "ss = IndShockConsumerType(**Dict) \n",
    "ss.cycles = 0\n",
    "ss.solve()\n",
    "\n",
    "ss.define_distribution_grid()\n",
    "p = ss.dist_pGrid # Grid of permanent income \n",
    "\n",
    "ss.calc_transition_matrix()\n",
    "c = ss.cPol_Grid # Normalized Consumption Policy grid\n",
    "a = ss.aPol_Grid #Normalized Asset Policy grid\n",
    "\n",
    "ss.calc_ergodic_dist()\n",
    "vecDstn = ss.vec_erg_dstn # Steady State Distribution as a vector (m*p x 1) where m is the number of gridpoints on the market resources grid \n",
    "#and p is the number of gridpoints on the permanent income grid\n"
   ]
  },
  {
   "cell_type": "markdown",
   "id": "95903c7c",
   "metadata": {},
   "source": [
    "## Simulating With Harmenberg (2021) Method\n",
    "\n",
    "Harmenberg (2021) method may also be implemented when simulating with transition matrices. In cells 12 and 13, we compute the steady distribution using Harmenberg's method.\n",
    "\n",
    "For more information on Harmenberg's Method to dramatically improve simulation times see https://econ-ark.org/materials/harmenberg-aggregation?launch\n"
   ]
  },
  {
   "cell_type": "code",
   "execution_count": 12,
   "id": "68d37656",
   "metadata": {},
   "outputs": [],
   "source": [
    "# Change the income process to use Neutral Measure\n",
    "ss.neutral_measure = True \n",
    "ss.update_income_process()"
   ]
  },
  {
   "cell_type": "code",
   "execution_count": 13,
   "id": "357c1baf",
   "metadata": {},
   "outputs": [],
   "source": [
    "# Set up grid and calculate transition Matrices\n",
    "ss.define_distribution_grid()\n",
    "ss.calc_transition_matrix()\n",
    "\n",
    "c = ss.cPol_Grid # Normalized Consumption Policy grid\n",
    "a = ss.aPol_Grid #Normalized Asset Policy grid\n",
    "\n",
    "ss.calc_ergodic_dist() #Calculate ergodic distribution\n",
    "vecDstn_fast = ss.vec_erg_dstn #Distribution as a vector (mx1) where m is the number of gridpoint on the market resources grid\n"
   ]
  },
  {
   "cell_type": "markdown",
   "id": "a414078e",
   "metadata": {},
   "source": [
    "### Solve an Agent who Anticipates a Change in the Interest Rate\n",
    "\n",
    "Now that we have the steady state distributions of which simulations will begin from, we will not solve an agent who anticipates a change in the interest rate. Solving the agent will provide the consumption policies to be used to calculate the transition matrices of this economy. "
   ]
  },
  {
   "cell_type": "code",
   "execution_count": 14,
   "id": "2b898628",
   "metadata": {},
   "outputs": [],
   "source": [
    "\n",
    "# We will solve a finite horizon problem that begins at the steady state computed above. \n",
    "# Therefore parameters must be specified as lists, each item's index indicating the period of the horizon.\n",
    "\n",
    "params = deepcopy(Dict)\n",
    "params['T_cycle']= 20\n",
    "params['LivPrb']= params['T_cycle']*[ss.LivPrb[0]]\n",
    "params['PermGroFac']=params['T_cycle']*[1]\n",
    "params['PermShkStd'] = params['T_cycle']*[ss.PermShkStd[0]]\n",
    "params['TranShkStd']= params['T_cycle']*[ss.TranShkStd[0]]\n",
    "params['Rfree'] = params['T_cycle']*[ss.Rfree]\n",
    "\n",
    "FinHorizonAgent = IndShockConsumerType(**params)\n",
    "FinHorizonAgent.cycles = 1\n",
    "FinHorizonAgent.del_from_time_inv('Rfree') #delete Rfree from time invariant list since it varies overtime\n",
    "FinHorizonAgent.add_to_time_vary('Rfree')\n",
    "FinHorizonAgent.IncShkDstn = params['T_cycle']*ss.IncShkDstn\n",
    "FinHorizonAgent.cFunc_terminal_ = deepcopy(ss.solution[0].cFunc) # Set Terminal Solution as Steady State Consumption Function\n",
    "FinHorizonAgent.track_vars = ['cNrm','pLvl'] \n"
   ]
  },
  {
   "cell_type": "markdown",
   "id": "9bff1e5d",
   "metadata": {},
   "source": [
    "### Implement perturbation in interest rate"
   ]
  },
  {
   "cell_type": "code",
   "execution_count": 15,
   "id": "3a1059a0",
   "metadata": {},
   "outputs": [],
   "source": [
    "dx=.01 # Change in the Interest Rate\n",
    "i = 10 # Period in which the change in the interest rate occurs\n",
    "FinHorizonAgent.Rfree = (i)*[ss.Rfree] + [ss.Rfree + dx] + (params['T_cycle'] - i -1 )*[ss.Rfree] # Sequence of interest rates the agent faces\n"
   ]
  },
  {
   "cell_type": "markdown",
   "id": "fbd4f108",
   "metadata": {},
   "source": [
    "### Solve Agent"
   ]
  },
  {
   "cell_type": "code",
   "execution_count": 16,
   "id": "2c19a5c4",
   "metadata": {},
   "outputs": [],
   "source": [
    "FinHorizonAgent.solve()"
   ]
  },
  {
   "cell_type": "markdown",
   "id": "69fc3c48",
   "metadata": {},
   "source": [
    "### Calculate Transition Matrices\n",
    "\n",
    "After the agent solves his problem, the consumption policies are stored in the solution attribute of self. calc_transition_matrix() will automatically call these attributes to compute the transition matrices."
   ]
  },
  {
   "cell_type": "code",
   "execution_count": 17,
   "id": "bed1bb70",
   "metadata": {},
   "outputs": [
    {
     "name": "stdout",
     "output_type": "stream",
     "text": [
      "seconds past : 56.96851992607117\n"
     ]
    }
   ],
   "source": [
    "\n",
    "start = time.time()\n",
    "FinHorizonAgent.define_distribution_grid() \n",
    "FinHorizonAgent.calc_transition_matrix()\n",
    "print('seconds past : ' + str(time.time()-start))\n",
    "\n",
    "FinHorizonAgent.calc_agg_path(init_dstn = vecDstn) #calc_agg_path calculates the paths of aggregate assets and consumption storing each as attributes self.\n",
    "\n",
    "AggC = FinHorizonAgent.AggC\n"
   ]
  },
  {
   "cell_type": "markdown",
   "id": "a8b023e1",
   "metadata": {},
   "source": [
    "calc_agg_path computes the paths of aggregate consumption and aggregate assets storing each time series as attributes of self given the initial distribution as an argument. This method is called after non stochastic simulation. "
   ]
  },
  {
   "cell_type": "markdown",
   "id": "05277961",
   "metadata": {},
   "source": [
    "### Calculate Transition matrices with Neutral Measure (Harmenberg 2021)"
   ]
  },
  {
   "cell_type": "code",
   "execution_count": 18,
   "id": "0b054e97",
   "metadata": {},
   "outputs": [
    {
     "name": "stdout",
     "output_type": "stream",
     "text": [
      "seconds past : 0.742750883102417\n"
     ]
    }
   ],
   "source": [
    "# Change Income Process to allow permanent income shocks to be drawn from neutral measure\n",
    "FinHorizonAgent.neutral_measure = True\n",
    "FinHorizonAgent.update_income_process()\n",
    "\n",
    "# Calculate Transition Matrices\n",
    "start = time.time()\n",
    "FinHorizonAgent.define_distribution_grid() \n",
    "FinHorizonAgent.calc_transition_matrix()\n",
    "print('seconds past : ' + str(time.time()-start))\n",
    "\n",
    "#Calculate Macro Aggregates given Transition Matrices\n",
    "FinHorizonAgent.calc_agg_path(init_dstn = vecDstn_fast)\n",
    "\n",
    "AggC_fast = FinHorizonAgent.AggC"
   ]
  },
  {
   "cell_type": "markdown",
   "id": "fc41793e",
   "metadata": {},
   "source": [
    "Notice the dramatic speed improvement."
   ]
  },
  {
   "cell_type": "markdown",
   "id": "edd797a5",
   "metadata": {},
   "source": [
    "### Path of Aggregate Consumption given an anticipated interest rate shock at $t=10$\n"
   ]
  },
  {
   "cell_type": "code",
   "execution_count": 19,
   "id": "67c68171",
   "metadata": {},
   "outputs": [
    {
     "data": {
      "image/png": "[encoded data removed]",
      "text/plain": [
       "<Figure size 432x288 with 1 Axes>"
      ]
     },
     "metadata": {
      "needs_background": "light"
     },
     "output_type": "display_data"
    }
   ],
   "source": [
    "\n",
    "plt.plot(AggC, label = 'without Harmenberg') #Without Neutral Measure\n",
    "plt.plot(AggC_fast, label = ' with Harmenberg Improvement') #With Harmenberg Improvement\n",
    "plt.legend()\n",
    "plt.show()\n"
   ]
  },
  {
   "cell_type": "markdown",
   "id": "78ead8b9",
   "metadata": {},
   "source": [
    "The minor difference in consumption paths is due to the fact that the original method's accuracy is limited by the size of the permanent income grid which in this exercise is only 101 points. Harmenberg's method eliminates the permanent income grid completely from the computation of aggregates and is more precise. "
   ]
  }
 ],
 "metadata": {
  "kernelspec": {
   "display_name": "Python 3",
   "language": "python",
   "name": "python3"
  },
  "language_info": {
   "codemirror_mode": {
    "name": "ipython",
    "version": 3
   },
   "file_extension": ".py",
   "mimetype": "text/x-python",
   "name": "python",
   "nbconvert_exporter": "python",
   "pygments_lexer": "ipython3",
   "version": "3.8.8"
  }
 },
 "nbformat": 4,
 "nbformat_minor": 5
}
