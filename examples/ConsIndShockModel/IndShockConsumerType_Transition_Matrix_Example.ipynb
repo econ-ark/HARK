{
 "cells": [
  {
   "cell_type": "markdown",
   "id": "54f0278c",
   "metadata": {},
   "source": [
    "# Using Transition Matrix Methods under IndShockConsumerType\n",
    "\n",
    "By William Du (wdu9@jhu.edu)"
   ]
  },
  {
   "cell_type": "markdown",
   "id": "52ce71ba",
   "metadata": {},
   "source": [
    "This Jupyter Notebook demonstrates how to non-stochastically simulate an economy with transition matrices with functions under the IndShockConsumerType.\n",
    "\n",
    "The three key functions to non stochastically simulate are:\n",
    "\n",
    "##### define_distribution_grid\n",
    "- computes the grid of normalized market resources and the grid permanent income storing each as attributes of self.\n",
    "\n",
    "###### calc_transition_matrix\n",
    "- computes transition matrix (matrices), a grid of consumption policies, and a grid asset policies stored as attributes of self. If the problem has a finite horizon, this function stores lists of transition matrices, consumption policies and asset policies grid for each period as attributes of self.\n",
    "\n",
    "##### calc_ergodic_dist\n",
    "- computes the ergodic distribution stored as attributes. The distribution is stored as a vector (self.vec_erg_dstn) and as a grid (self.erg_dstn)\n",
    "\n"
   ]
  },
  {
   "cell_type": "markdown",
   "id": "ad742954",
   "metadata": {},
   "source": [
    "## Set up Computational Environment"
   ]
  },
  {
   "cell_type": "code",
   "execution_count": 1,
   "id": "1f08d05f",
   "metadata": {
    "lines_to_next_cell": 2
   },
   "outputs": [],
   "source": [
    "from HARK.ConsumptionSaving.ConsIndShockModel import IndShockConsumerType\n",
    "\n",
    "\n",
    "import time\n",
    "from copy import deepcopy\n",
    "import numpy as np\n",
    "import matplotlib.pyplot as plt"
   ]
  },
  {
   "cell_type": "markdown",
   "id": "4b7e817f",
   "metadata": {},
   "source": [
    "## Set up the Dictionary"
   ]
  },
  {
   "cell_type": "code",
   "execution_count": 2,
   "id": "0dc82f9b",
   "metadata": {
    "lines_to_next_cell": 2
   },
   "outputs": [
    {
     "name": "stderr",
     "output_type": "stream",
     "text": [
      "D:\\Temp\\ipykernel_37140\\3411489450.py:25: RuntimeWarning: divide by zero encountered in log\n",
      "  \"aNrmInitMean\": np.log(0.0),  # Mean of log initial assets ,\n"
     ]
    }
   ],
   "source": [
    "Dict = {\n",
    "    # Parameters shared with the perfect foresight model\n",
    "    \"CRRA\": 2,  # Coefficient of relative risk aversion\n",
    "    \"Rfree\": 1.04**0.25,  # Interest factor on assets\n",
    "    \"DiscFac\": 0.975,  # Intertemporal discount factor\n",
    "    \"LivPrb\": [0.99375],  # Survival probability\n",
    "    \"PermGroFac\": [1.00],  # Permanent income growth factor\n",
    "    # Parameters that specify the income distribution over the lifecycle\n",
    "    \"PermShkStd\": [0.06],  # Standard deviation of log permanent shocks to income\n",
    "    \"PermShkCount\": 5,  # Number of points in discrete approximation to permanent income shocks\n",
    "    \"TranShkStd\": [0.2],  # Standard deviation of log transitory shocks to income\n",
    "    \"TranShkCount\": 5,  # Number of points in discrete approximation to transitory income shocks\n",
    "    \"UnempPrb\": 0.00,  # Probability of unemployment while working\n",
    "    \"IncUnemp\": 0.0,  # Unemployment benefits replacement rate\n",
    "    \"UnempPrbRet\": 0.0000,  # Probability of \"unemployment\" while retired\n",
    "    \"IncUnempRet\": 0.0,  # \"Unemployment\" benefits when retired\n",
    "    \"T_retire\": 0,  # Period of retirement (0 --> no retirement)\n",
    "    \"tax_rate\": 0.0,  # Flat income tax rate (legacy parameter, will be removed in future)\n",
    "    # A few other parameters\n",
    "    \"BoroCnstArt\": 0.0,  # Artificial borrowing constraint; imposed minimum level of end-of period assets\n",
    "    \"T_cycle\": 1,  # Number of periods in the cycle for this agent type\n",
    "    # Parameters only used in simulation\n",
    "    \"AgentCount\": 200000,  # Number of agents of this type\n",
    "    \"T_sim\": 1100,  # Number of periods to simulate\n",
    "    \"aNrmInitMean\": np.log(0.000001),  # Mean of log initial assets ,\n",
    "    # The value of np.log(0.0) causes the code to ensure newborns have have exactly 1.0 in market resources.\n",
    "    # Mean of log initial assets\n",
    "    \"aNrmInitStd\": 0.0,  # Standard deviation of log initial assets\n",
    "    \"pLvlInitMean\": 0.0,  # Mean of log initial permanent income\n",
    "    \"pLvlInitStd\": 0.0,  # Standard deviation of log initial permanent income\n",
    "    \"PermGroFacAgg\": 1.0,  # Aggregate permanent income growth factor\n",
    "    \"T_age\": None,  # Age after which simulated agents are automatically killed\n",
    "    # Parameters for constructing the \"assets above minimum\" grid\n",
    "    \"aXtraMin\": 0.0001,  # Minimum end-of-period \"assets above minimum\" value\n",
    "    \"aXtraMax\": 10000,  # Maximum end-of-period \"assets above minimum\" value\n",
    "    \"aXtraCount\": 130,  # Number of points in the base grid of \"assets above minimum\"\n",
    "    \"aXtraNestFac\": 3,  # Exponential nesting factor when constructing \"assets above minimum\" grid\n",
    "    \"aXtraExtra\": None,  # Additional values to add to aXtraGrid\n",
    "    # Parameters for Transition Matrix Simulation\n",
    "    \"mCount\": 90,\n",
    "    \"mFac\": 3,\n",
    "    \"mMin\": 1e-4,\n",
    "    \"mMax\": 10000,\n",
    "}"
   ]
  },
  {
   "cell_type": "markdown",
   "id": "c91cd656",
   "metadata": {},
   "source": [
    "## Create an Instance of IndShockConsumerType and Solve"
   ]
  },
  {
   "cell_type": "code",
   "execution_count": 3,
   "id": "fae48368",
   "metadata": {},
   "outputs": [],
   "source": [
    "example1 = IndShockConsumerType(**Dict)\n",
    "example1.cycles = 0\n",
    "example1.solve()"
   ]
  },
  {
   "cell_type": "markdown",
   "id": "b2e9b917",
   "metadata": {},
   "source": [
    "# Simulation: Transition Matrix vs Monte Carlo"
   ]
  },
  {
   "cell_type": "markdown",
   "id": "736c044f",
   "metadata": {},
   "source": [
    "This section compares monte carlo methods against the transition matrix approach in computing aggregate consumption and aggregate assets."
   ]
  },
  {
   "cell_type": "markdown",
   "id": "c93e81d7",
   "metadata": {},
   "source": [
    "## Method 1: Monte Carlo"
   ]
  },
  {
   "cell_type": "code",
   "execution_count": 4,
   "id": "749d88aa",
   "metadata": {
    "lines_to_next_cell": 2
   },
   "outputs": [],
   "source": [
    "# Simulation Parameters\n",
    "\n",
    "# Simulate\n",
    "example1.track_vars = [\"aLvl\"]  # Track level of assets\n",
    "example1.initialize_sim()\n",
    "example1.simulate()  # Simulate with Monte Carlo\n",
    "\n",
    "# Compute Aggregate Consumption and Aggregate Assets\n",
    "Monte_Carlo_Consumption = np.mean(\n",
    "    (example1.state_now[\"mNrm\"] - example1.state_now[\"aNrm\"])\n",
    "    * example1.state_now[\"pLvl\"]\n",
    ")  # Aggregate Consumption\n",
    "Monte_Carlo_Assets = np.mean(\n",
    "    example1.state_now[\"aNrm\"] * example1.state_now[\"pLvl\"]\n",
    ")  # Aggregate Assets"
   ]
  },
  {
   "cell_type": "markdown",
   "id": "c2507c98",
   "metadata": {},
   "source": [
    "## Method 2: Transition Matrices"
   ]
  },
  {
   "cell_type": "code",
   "execution_count": 5,
   "id": "74c568e6",
   "metadata": {
    "lines_to_next_cell": 2
   },
   "outputs": [
    {
     "name": "stdout",
     "output_type": "stream",
     "text": [
      "Seconds to calculate both the transition matrix and the steady state distribution 42.12000322341919\n"
     ]
    }
   ],
   "source": [
    "example1.define_distribution_grid(num_pointsP=110, timestonest=3)\n",
    "p = example1.dist_pGrid  # Grid of permanent income levels\n",
    "\n",
    "start = time.time()\n",
    "\n",
    "example1.calc_transition_matrix()\n",
    "c = example1.cPol_Grid  # Normalized Consumption Policy Grid\n",
    "asset = example1.aPol_Grid  # Normalized Asset Policy Grid\n",
    "\n",
    "example1.calc_ergodic_dist()\n",
    "vecDstn = example1.vec_erg_dstn  # Distribution of market resources and permanent income as a vector (m*p)x1 vector where\n",
    "# m is the number of market resource gridpoints and p is the number of permanent income gridpoints\n",
    "erg_dstn = example1.erg_dstn\n",
    "\n",
    "print(\n",
    "    \"Seconds to calculate both the transition matrix and the steady state distribution\",\n",
    "    time.time() - start,\n",
    ")"
   ]
  },
  {
   "cell_type": "code",
   "execution_count": 6,
   "id": "cf241bb0",
   "metadata": {
    "lines_to_next_cell": 2
   },
   "outputs": [],
   "source": [
    "# Compute Aggregate Consumption and Aggregate Assets\n",
    "gridc = np.zeros((len(c), len(p)))\n",
    "grida = np.zeros((len(asset), len(p)))\n",
    "\n",
    "for j in range(len(p)):\n",
    "    gridc[:, j] = p[j] * c  # unnormalized Consumption policy grid\n",
    "    grida[:, j] = p[j] * asset  # unnormalized Asset policy grid\n",
    "\n",
    "AggC = np.dot(gridc.flatten(), vecDstn)  # Aggregate Consumption\n",
    "AggA = np.dot(grida.flatten(), vecDstn)  # Aggregate Assets"
   ]
  },
  {
   "cell_type": "markdown",
   "id": "41339815",
   "metadata": {},
   "source": [
    "### Comparing Steady State Outputs of Both Methods"
   ]
  },
  {
   "cell_type": "code",
   "execution_count": 7,
   "id": "4508692e",
   "metadata": {
    "lines_to_next_cell": 2
   },
   "outputs": [
    {
     "name": "stdout",
     "output_type": "stream",
     "text": [
      "TranMatrix Assets = [0.41854438]\n",
      "Simulated Assets = 0.4116282108907816\n",
      "TranMatrix Consumption = [1.00153889]\n",
      "Simulated Consumption = 1.0011048645886242\n"
     ]
    }
   ],
   "source": [
    "print(\"TranMatrix Assets = \" + str(AggA))\n",
    "print(\"Simulated Assets = \" + str(Monte_Carlo_Assets))\n",
    "\n",
    "print(\"TranMatrix Consumption = \" + str(AggC))\n",
    "print(\"Simulated Consumption = \" + str(Monte_Carlo_Consumption))"
   ]
  },
  {
   "cell_type": "markdown",
   "id": "5e99ab28",
   "metadata": {},
   "source": [
    "### Comparing Simulated Path of Aggregate Assets\n",
    "\n",
    "The following code plots the path of aggregate assets simulate from both Monte Carlo methods and transition matrix methods."
   ]
  },
  {
   "cell_type": "code",
   "execution_count": null,
   "id": "4caa59e3",
   "metadata": {
    "lines_to_next_cell": 2
   },
   "outputs": [],
   "source": [
    "aLvls = []  # Time series of aggregate assets\n",
    "\n",
    "for i in range(example1.T_sim):\n",
    "    aLvls.append(\n",
    "        np.mean(example1.history[\"aLvl\"][i])\n",
    "    )  # compute mean of aggregate assets across all agents for each period of the simulation\n",
    "aLvls = np.array(aLvls)\n",
    "\n",
    "aLvl_tran_mat = []\n",
    "dstn = vecDstn\n",
    "for i in range(example1.T_sim - 400):\n",
    "    A_val = np.dot(grida.flatten(), dstn)\n",
    "\n",
    "    aLvl_tran_mat.append(A_val)\n",
    "    dstn = np.dot(example1.tran_matrix, dstn)"
   ]
  },
  {
   "cell_type": "code",
   "execution_count": null,
   "id": "ae083acc",
   "metadata": {
    "lines_to_next_cell": 2
   },
   "outputs": [],
   "source": [
    "plt.rcParams[\"figure.figsize\"] = (20, 10)\n",
    "plt.plot(\n",
    "    aLvls[400:], label=\"Monte Carlo\"\n",
    ")  # Plot time series path of aggregate assets using Monte Carlo simulation methods\n",
    "plt.plot(\n",
    "    aLvl_tran_mat, label=\"Transition matrix\"\n",
    ")  # Plot time series path of aggregate assets computed using transition matrix\n",
    "plt.legend(prop={\"size\": 15})\n",
    "plt.ylim([0.37, 0.46])\n",
    "plt.show()"
   ]
  },
  {
   "cell_type": "markdown",
   "id": "86ff2025",
   "metadata": {},
   "source": [
    "### Precision vs Accuracy\n",
    "\n",
    "Notice the mean level of aggregate assets differ between both simulation methods. The transition matrix plots a perfectly horizontal line as the initial distribution of agents across market resources and permanent is the unit eigenvector of the steady state transition matrix. Thus, as we take the produce of the transition matrix and the initial distribution, the new distribution does not change, implying the level of aggregate assets does not change. In contrast, the time series path simulated from Monte Carlo methods vacillates. This is because Monte Carlo methods are truly stochastic, randomly drawing shocks from a income distribution, while transition matrix methods are non-stochastic, the shock values are preset and the grid over market resources have is fixed. This contrast highlights the limitation of both methods, the monte carlo leads to a more accurate, yet less precise, level of aggregate assets while the transition matrix leads in precision but requires a larger number of gridpoints to be accurate."
   ]
  },
  {
   "cell_type": "markdown",
   "id": "5a6e0f6e",
   "metadata": {},
   "source": [
    "## Distribution of Normalized Market Resources"
   ]
  },
  {
   "cell_type": "code",
   "execution_count": null,
   "id": "32250b58",
   "metadata": {
    "lines_to_next_cell": 2
   },
   "outputs": [],
   "source": [
    "num_pts = len(example1.dist_mGrid)\n",
    "mdstn = np.zeros(num_pts)\n",
    "\n",
    "for i in range(num_pts):\n",
    "    mdstn[i] = np.sum(\n",
    "        example1.erg_dstn[i]\n",
    "    )  # distribution of normalized market resources\n",
    "\n",
    "h = np.histogram(example1.state_now[\"mNrm\"], bins=example1.dist_mGrid)[0] / np.sum(\n",
    "    np.histogram(example1.state_now[\"mNrm\"], bins=example1.dist_mGrid)[0]\n",
    ")  # Form Monte Carlo wealth data and put into histogram/bins\n",
    "\n",
    "\n",
    "plt.plot(\n",
    "    example1.dist_mGrid[: num_pts - 20],\n",
    "    mdstn[: num_pts - 20],\n",
    "    label=\"Transition Matrix\",\n",
    "    linewidth=3.0,\n",
    ")  # distribution using transition matrix method\n",
    "plt.plot(\n",
    "    example1.dist_mGrid[: num_pts - 20 - 1],\n",
    "    h[: num_pts - 20 - 1],\n",
    "    label=\"Monte Carlo\",\n",
    "    linewidth=3.0,\n",
    ")  # distribution using Monte Carlo\n",
    "plt.legend(prop={\"size\": 15})\n",
    "plt.xlim([-0.5, 10])\n",
    "plt.show()"
   ]
  },
  {
   "cell_type": "markdown",
   "id": "b35fe81b",
   "metadata": {},
   "source": [
    "## Distributions of Permanent Income"
   ]
  },
  {
   "cell_type": "code",
   "execution_count": null,
   "id": "f5c5a54f",
   "metadata": {
    "lines_to_next_cell": 2
   },
   "outputs": [],
   "source": [
    "dstn = example1.erg_dstn\n",
    "\n",
    "pdstn = np.zeros(len(dstn[0]))\n",
    "for i in range(len(pdstn)):\n",
    "    pdstn[i] = np.sum(dstn[:, i])\n",
    "\n",
    "h = np.histogram(example1.state_now[\"pLvl\"], bins=example1.dist_pGrid)[0] / np.sum(\n",
    "    np.histogram(example1.state_now[\"pLvl\"], bins=example1.dist_pGrid)[0]\n",
    ")  # Form Monte Carlo wealth data and put into histogram/bins\n",
    "plt.plot(\n",
    "    example1.dist_pGrid[:-1], h, label=\"Monte Carlo\", linewidth=3.0\n",
    ")  # distribution using Monte Carlo\n",
    "plt.plot(example1.dist_pGrid, pdstn, label=\"transition matrix\", linewidth=3.0)\n",
    "plt.ylabel(\"Probability\")\n",
    "plt.xlabel(\"Permanent Income\")\n",
    "plt.title(\"Distribution of Permanent Income\")\n",
    "plt.legend(prop={\"size\": 15})\n",
    "plt.xlim([-0.1, 4])\n",
    "plt.show()"
   ]
  },
  {
   "cell_type": "markdown",
   "id": "aa0a10fd",
   "metadata": {},
   "source": [
    "## Distribution of Wealth"
   ]
  },
  {
   "cell_type": "code",
   "execution_count": null,
   "id": "3f93f08e",
   "metadata": {},
   "outputs": [],
   "source": [
    "# Compute all possible mLvl values given permanent income grid and normalized market resources grid\n",
    "\n",
    "mLvl_vals = []\n",
    "\n",
    "for m in example1.dist_mGrid:\n",
    "    for p in example1.dist_pGrid:\n",
    "        mLvl_vals.append(m * p)\n",
    "\n",
    "mLvl_vals = np.array(mLvl_vals)\n",
    "\n",
    "\n",
    "aLvl_vals = []\n",
    "\n",
    "for a in example1.aPol_Grid:\n",
    "    for p in example1.dist_pGrid:\n",
    "        aLvl_vals.append(a * p)\n",
    "\n",
    "aLvl_vals = np.array(aLvl_vals)"
   ]
  },
  {
   "cell_type": "code",
   "execution_count": null,
   "id": "f591cffb",
   "metadata": {},
   "outputs": [],
   "source": [
    "def jump_to_grid_fast(m_vals, probs, Dist_mGrid):\n",
    "    \"\"\"\n",
    "    Distributes values onto a predefined grid, maintaining the means.\n",
    "\n",
    "\n",
    "    Parameters\n",
    "    ----------\n",
    "    m_vals: np.array\n",
    "            Market resource values\n",
    "\n",
    "    probs: np.array\n",
    "            Shock probabilities associated with combinations of m_vals.\n",
    "            Can be thought of as the probability mass function  of (m_vals).\n",
    "\n",
    "    dist_mGrid : np.array\n",
    "            Grid over normalized market resources\n",
    "\n",
    "    Returns\n",
    "    -------\n",
    "    probGrid.flatten(): np.array\n",
    "             Probabilities of each gridpoint on the combined grid of market resources\n",
    "\n",
    "    \"\"\"\n",
    "\n",
    "    probGrid = np.zeros(len(Dist_mGrid))\n",
    "    mIndex = np.digitize(m_vals, Dist_mGrid) - 1\n",
    "    mIndex[m_vals <= Dist_mGrid[0]] = -1\n",
    "    mIndex[m_vals >= Dist_mGrid[-1]] = len(Dist_mGrid) - 1\n",
    "\n",
    "    for i in range(len(m_vals)):\n",
    "        if mIndex[i] == -1:\n",
    "            mlowerIndex = 0\n",
    "            mupperIndex = 0\n",
    "            mlowerWeight = 1.0\n",
    "            mupperWeight = 0.0\n",
    "        elif mIndex[i] == len(Dist_mGrid) - 1:\n",
    "            mlowerIndex = -1\n",
    "            mupperIndex = -1\n",
    "            mlowerWeight = 1.0\n",
    "            mupperWeight = 0.0\n",
    "        else:\n",
    "            mlowerIndex = mIndex[i]\n",
    "            mupperIndex = mIndex[i] + 1\n",
    "            mlowerWeight = (Dist_mGrid[mupperIndex] - m_vals[i]) / (\n",
    "                Dist_mGrid[mupperIndex] - Dist_mGrid[mlowerIndex]\n",
    "            )\n",
    "            mupperWeight = 1.0 - mlowerWeight\n",
    "\n",
    "        probGrid[mlowerIndex] += probs[i] * mlowerWeight\n",
    "        probGrid[mupperIndex] += probs[i] * mupperWeight\n",
    "\n",
    "    return probGrid.flatten()"
   ]
  },
  {
   "cell_type": "code",
   "execution_count": null,
   "id": "9c6867ee",
   "metadata": {
    "lines_to_next_cell": 2
   },
   "outputs": [],
   "source": [
    "mLvl = (\n",
    "    example1.state_now[\"mNrm\"] * example1.state_now[\"pLvl\"]\n",
    ")  # market resources from Monte Carlo Simulations\n",
    "pmf = jump_to_grid_fast(\n",
    "    mLvl_vals, vecDstn, example1.dist_mGrid\n",
    ")  # probabilities/distribution from transition matrix methods\n",
    "h = np.histogram(mLvl, bins=example1.dist_mGrid)[0] / np.sum(\n",
    "    np.histogram(mLvl, bins=example1.dist_mGrid)[0]\n",
    ")  # Form Monte Carlo wealth data and put into histogram/bins\n",
    "\n",
    "plt.plot(\n",
    "    example1.dist_mGrid[: num_pts - 20 - 1],\n",
    "    h[: num_pts - 20 - 1],\n",
    "    label=\"Monte Carlo\",\n",
    "    linewidth=3.0,\n",
    ")  # distribution using Monte Carlo\n",
    "plt.plot(\n",
    "    example1.dist_mGrid[: num_pts - 20],\n",
    "    pmf[: num_pts - 20],\n",
    "    label=\"transition Matrix\",\n",
    "    linewidth=3.0,\n",
    ")\n",
    "plt.xlabel(\"Market Resources (Levels)\")\n",
    "plt.title(\"Distribution of Market Resources\")\n",
    "plt.legend(prop={\"size\": 15})\n",
    "plt.xlim([-0.5, 20])\n",
    "plt.show()"
   ]
  },
  {
   "cell_type": "markdown",
   "id": "11660f0b",
   "metadata": {},
   "source": [
    "## Distribution of Liquid Assets"
   ]
  },
  {
   "cell_type": "code",
   "execution_count": null,
   "id": "5d31a147",
   "metadata": {},
   "outputs": [],
   "source": [
    "asset_Lvl = example1.state_now[\"aLvl\"]  # market resources from Monte Carlo Simulations\n",
    "pmf = jump_to_grid_fast(\n",
    "    aLvl_vals, vecDstn, example1.aPol_Grid\n",
    ")  # probabilities/distribution from transition matrix methods\n",
    "h = np.histogram(asset_Lvl, bins=example1.aPol_Grid)[0] / np.sum(\n",
    "    np.histogram(asset_Lvl, bins=example1.aPol_Grid)[0]\n",
    ")  # Form Monte Carlo wealth data and put into histogram/bins\n",
    "\n",
    "plt.plot(\n",
    "    example1.aPol_Grid[: num_pts - 10 - 1],\n",
    "    h[: num_pts - 10 - 1],\n",
    "    label=\"Monte Carlo\",\n",
    "    linewidth=3.0,\n",
    ")  # distribution using Monte Carlo\n",
    "plt.plot(\n",
    "    example1.aPol_Grid[: num_pts - 10],\n",
    "    pmf[: num_pts - 10],\n",
    "    label=\"transition Matrix\",\n",
    "    linewidth=3.0,\n",
    ")\n",
    "plt.xlabel(\"Liquid Assets (Levels)\")\n",
    "plt.title(\"Distribution of Liquids Assets\")\n",
    "plt.legend()\n",
    "plt.xlim([-0.5, 10])\n",
    "plt.show()"
   ]
  },
  {
   "cell_type": "markdown",
   "id": "5405776d",
   "metadata": {},
   "source": [
    "# Calculating the Path of Consumption given an Perfect foresight MIT shock\n",
    "\n",
    "This section details an experiment to exhibit how to the transition matrix method can be utilized to compute the paths of aggregate consumption and aggregate assets given a pertubation in a variable for one period. In particular, in this experiment, in period t=0, agents learn that there will be a shock in the interest rate in period t=10. Given this, the simulated paths of aggregate consumption and aggregate assets will be computed and plotted.\n",
    "\n"
   ]
  },
  {
   "cell_type": "markdown",
   "id": "f887786c",
   "metadata": {},
   "source": [
    "### Compute Steady State Distribution\n",
    "\n",
    "We will want the simulation to begin at the economy's steady state. Therefore first we will compute the steady state distribution over market resources and permanent income. This will be the distribution for which the computed transition matrices will be applied/multiplied to."
   ]
  },
  {
   "cell_type": "code",
   "execution_count": null,
   "id": "582ea2c9",
   "metadata": {
    "lines_to_next_cell": 2
   },
   "outputs": [],
   "source": [
    "ss = IndShockConsumerType(**Dict)\n",
    "ss.cycles = 0\n",
    "ss.solve()"
   ]
  },
  {
   "cell_type": "markdown",
   "id": "95903c7c",
   "metadata": {},
   "source": [
    "## Simulating With Harmenberg (2021) Method\n",
    "\n",
    "Harmenberg (2021) method may also be implemented when simulating with transition matrices. In the following cells, we compute the steady distribution using Harmenberg's method.\n",
    "\n",
    "For more information on Harmenberg's Method to dramatically improve simulation times see https://econ-ark.org/materials/harmenberg-aggregation?launch\n",
    "\n"
   ]
  },
  {
   "cell_type": "code",
   "execution_count": null,
   "id": "68d37656",
   "metadata": {
    "lines_to_next_cell": 2
   },
   "outputs": [],
   "source": [
    "# Change the income process to use Neutral Measure\n",
    "ss.neutral_measure = True\n",
    "ss.update_income_process()\n",
    "\n",
    "ss.mCount = 1000\n",
    "ss.mMax = 3000"
   ]
  },
  {
   "cell_type": "code",
   "execution_count": null,
   "id": "357c1baf",
   "metadata": {
    "lines_to_next_cell": 2
   },
   "outputs": [],
   "source": [
    "# Set up grid and calculate steady state transition Matrices\n",
    "\n",
    "start = time.time()\n",
    "\n",
    "ss.define_distribution_grid()\n",
    "ss.calc_transition_matrix()\n",
    "\n",
    "c = ss.cPol_Grid  # Normalized Consumption Policy grid\n",
    "a = ss.aPol_Grid  # Normalized Asset Policy grid\n",
    "\n",
    "ss.calc_ergodic_dist()  # Calculate steady state distribution\n",
    "vecDstn_fast = ss.vec_erg_dstn  # Distribution as a vector (mx1) where m is the number of gridpoint on the market resources grid\n",
    "\n",
    "print(\n",
    "    \"Seconds to calculate both the transition matrix and the steady state distribution with Harmenberg\",\n",
    "    time.time() - start,\n",
    ")\n",
    "\n",
    "\n",
    "AggA_fast = np.dot(ss.aPol_Grid, vecDstn_fast)"
   ]
  },
  {
   "cell_type": "markdown",
   "id": "ef0fa769",
   "metadata": {},
   "source": [
    "Computing the transition matrix and ergodic distribution with the harmenberg measure is significantly faster. (Note the number of gridpoints on the market resources grid is 1000 instead of 90."
   ]
  },
  {
   "cell_type": "code",
   "execution_count": null,
   "id": "bfc3fe24",
   "metadata": {
    "lines_to_next_cell": 2
   },
   "outputs": [],
   "source": [
    "plt.plot(\n",
    "    aLvls[100:], label=\"Monte Carlo\", linewidth=2.0\n",
    ")  # Plot time series path of aggregate assets using Monte Carlo simulation methods\n",
    "plt.plot(\n",
    "    np.ones(example1.T_sim - 100) * AggA, label=\"transition matrix\", linewidth=3.0\n",
    ")  # Plot time series path of aggregate assets computed using transition matrix\n",
    "plt.plot(\n",
    "    np.ones(example1.T_sim - 100) * AggA_fast,\n",
    "    label=\"transition matrix _harmenberg\",\n",
    "    linewidth=3.0,\n",
    ")  # Plot time series path of aggregate assets computed using transition matrix\n",
    "plt.ylabel(\"Aggregate Assets\")\n",
    "plt.legend(prop={\"size\": 15})\n",
    "plt.rcParams[\"figure.figsize\"] = (20, 10)\n",
    "plt.show()"
   ]
  },
  {
   "cell_type": "markdown",
   "id": "aab9b0af",
   "metadata": {},
   "source": [
    "### Note* Increasing the number of gridpoints increases the accuracy of the transition matrix method"
   ]
  },
  {
   "cell_type": "code",
   "execution_count": null,
   "id": "bb5383de",
   "metadata": {
    "lines_to_next_cell": 2
   },
   "outputs": [],
   "source": [
    "Agg_AVals = []\n",
    "\n",
    "mpoints = [100, 150, 200, 500, 3000]\n",
    "for i in mpoints:\n",
    "    ss.mCount = i\n",
    "\n",
    "    ss.define_distribution_grid()\n",
    "    ss.calc_transition_matrix()\n",
    "\n",
    "    ss.calc_ergodic_dist()  # Calculate steady state distribution\n",
    "    vecDstn_fast = ss.vec_erg_dstn  # Distribution as a vector (mx1) where m is the number of gridpoint on the market resources grid\n",
    "    Asset_val = np.dot(ss.aPol_Grid, vecDstn_fast)\n",
    "\n",
    "    Agg_AVals.append(Asset_val)"
   ]
  },
  {
   "cell_type": "code",
   "execution_count": null,
   "id": "90ff7aad",
   "metadata": {
    "lines_to_next_cell": 2
   },
   "outputs": [],
   "source": [
    "for i in range(len(Agg_AVals)):\n",
    "    plt.plot(\n",
    "        np.ones(example1.T_sim - 100) * Agg_AVals[i],\n",
    "        label=\"gridpoints = \" + str(mpoints[i]),\n",
    "        linewidth=2.0,\n",
    "    )\n",
    "\n",
    "plt.plot(\n",
    "    aLvls[100:], label=\"Monte Carlo\", linewidth=2.0\n",
    ")  # Plot time series path of aggregate assets using Monte Carlo simulation methods\n",
    "plt.ylabel(\"Aggregate Assets\")\n",
    "plt.legend(prop={\"size\": 15})\n",
    "plt.rcParams[\"figure.figsize\"] = (20, 10)\n",
    "plt.show()"
   ]
  },
  {
   "cell_type": "markdown",
   "id": "617c21e3",
   "metadata": {},
   "source": [
    "Note the Harmenberg method not only reduces the time of computation but also improves the accuracy of the simulated path of assets."
   ]
  },
  {
   "cell_type": "markdown",
   "id": "3cc5e991",
   "metadata": {},
   "source": [
    "### Monte Carlo Simulation with Harmenberg Trick"
   ]
  },
  {
   "cell_type": "code",
   "execution_count": null,
   "id": "52420de0",
   "metadata": {
    "lines_to_next_cell": 2
   },
   "outputs": [],
   "source": [
    "ss.AgentCount = 25000\n",
    "ss.T_sim = 700\n",
    "ss.initialize_sim()\n",
    "ss.simulate()"
   ]
  },
  {
   "cell_type": "markdown",
   "id": "a414078e",
   "metadata": {},
   "source": [
    "## Solve an Agent who Anticipates a Change in the Real Interest Rate\n",
    "\n",
    "Now that we have the steady state distributions of which simulations will begin from, we will now solve an agent who anticipates a change in the real rate in period t=10. I first solve the agent's problem provide the consumption policies to be used to calculate the transition matrices of this economy."
   ]
  },
  {
   "cell_type": "code",
   "execution_count": null,
   "id": "2b898628",
   "metadata": {
    "lines_to_next_cell": 2
   },
   "outputs": [],
   "source": [
    "# We will solve a finite horizon problem that begins at the steady state computed above.\n",
    "# Therefore parameters must be specified as lists, each item's index indicating the period of the horizon.\n",
    "\n",
    "params = deepcopy(Dict)\n",
    "params[\"T_cycle\"] = 20\n",
    "params[\"LivPrb\"] = params[\"T_cycle\"] * [ss.LivPrb[0]]\n",
    "params[\"PermGroFac\"] = params[\"T_cycle\"] * [1]\n",
    "params[\"PermShkStd\"] = params[\"T_cycle\"] * [ss.PermShkStd[0]]\n",
    "params[\"TranShkStd\"] = params[\"T_cycle\"] * [ss.TranShkStd[0]]\n",
    "params[\"Rfree\"] = params[\"T_cycle\"] * [ss.Rfree]\n",
    "params[\"DiscFac\"] = params[\"T_cycle\"] * [ss.DiscFac]\n",
    "\n",
    "FinHorizonAgent = IndShockConsumerType(**params)\n",
    "FinHorizonAgent.cycles = 1\n",
    "\n",
    "FinHorizonAgent.del_from_time_inv(\n",
    "    \"Rfree\"\n",
    ")  # delete Rfree from time invariant list since it varies overtime\n",
    "FinHorizonAgent.add_to_time_vary(\"Rfree\")\n",
    "\n",
    "FinHorizonAgent.del_from_time_inv(\n",
    "    \"DiscFac\"\n",
    ")  # delete Rfree from time invariant list since it varies overtime\n",
    "FinHorizonAgent.add_to_time_vary(\"DiscFac\")\n",
    "\n",
    "FinHorizonAgent.IncShkDstn = params[\"T_cycle\"] * [ss.IncShkDstn[0]]\n",
    "FinHorizonAgent.cFunc_terminal_ = deepcopy(\n",
    "    ss.solution[0].cFunc\n",
    ")  # Set Terminal Solution as Steady State Consumption Function\n",
    "FinHorizonAgent.track_vars = [\"cNrm\", \"pLvl\", \"aNrm\"]\n",
    "FinHorizonAgent.T_sim = params[\"T_cycle\"]\n",
    "FinHorizonAgent.AgentCount = ss.AgentCount"
   ]
  },
  {
   "cell_type": "markdown",
   "id": "9bff1e5d",
   "metadata": {},
   "source": [
    "### Implement perturbation in Real Interest Rate"
   ]
  },
  {
   "cell_type": "code",
   "execution_count": null,
   "id": "16caa27d",
   "metadata": {
    "lines_to_next_cell": 2
   },
   "outputs": [],
   "source": [
    "dx = -0.05  # Change in the Interest Rate\n",
    "i = 10  # Period in which the change in the interest rate occurs\n",
    "\n",
    "FinHorizonAgent.Rfree = (\n",
    "    (i) * [ss.Rfree] + [ss.Rfree + dx] + (params[\"T_cycle\"] - i - 1) * [ss.Rfree]\n",
    ")  # Sequence of interest rates the agent faces\n",
    "\n",
    "# FinHorizonAgent.DiscFac = (i)*[ss.DiscFac] + [ss.DiscFac + dx] + (params['T_cycle'] - i -1 )*[ss.DiscFac] # Sequence of interest rates the agent faces"
   ]
  },
  {
   "cell_type": "markdown",
   "id": "fbd4f108",
   "metadata": {},
   "source": [
    "### Solve Agent"
   ]
  },
  {
   "cell_type": "code",
   "execution_count": null,
   "id": "2c19a5c4",
   "metadata": {
    "lines_to_next_cell": 2
   },
   "outputs": [],
   "source": [
    "FinHorizonAgent.solve()"
   ]
  },
  {
   "cell_type": "markdown",
   "id": "bde0ca6d",
   "metadata": {},
   "source": [
    "### Simulate with Monte Carlo with Harmenberg Trick"
   ]
  },
  {
   "cell_type": "code",
   "execution_count": null,
   "id": "cd713927",
   "metadata": {
    "lines_to_next_cell": 2
   },
   "outputs": [],
   "source": [
    "# Simulate with Monte Carlo\n",
    "\n",
    "FinHorizonAgent.PerfMITShk = True\n",
    "\n",
    "start = time.time()\n",
    "\n",
    "# Use Harmenberg Improvement for Monte Carlo\n",
    "FinHorizonAgent.neutral_measure = True\n",
    "FinHorizonAgent.update_income_process()\n",
    "\n",
    "FinHorizonAgent.initialize_sim()\n",
    "\n",
    "# Begin simulation at steady state distribution of permanent income and permanent income\n",
    "FinHorizonAgent.state_now[\"aNrm\"] = ss.state_now[\"aNrm\"]\n",
    "FinHorizonAgent.state_now[\"pLvl\"] = ss.state_now[\"pLvl\"]\n",
    "FinHorizonAgent.state_now[\"mNrm\"] = ss.state_now[\"mNrm\"]\n",
    "\n",
    "FinHorizonAgent.simulate()\n",
    "\n",
    "print(\"seconds past : \" + str(time.time() - start))\n",
    "\n",
    "# Compute path of aggregate consumption\n",
    "clvl = []\n",
    "alvl = []\n",
    "for i in range(FinHorizonAgent.T_sim):\n",
    "    # C = np.mean(FinHorizonAgent.history['pLvl'][i,:]*(FinHorizonAgent.history['cNrm'][i,:]  )) #Aggregate Consumption for period i\n",
    "\n",
    "    C = np.mean(\n",
    "        (FinHorizonAgent.history[\"cNrm\"][i, :])\n",
    "    )  # Aggregate Consumption for period i\n",
    "\n",
    "    clvl.append(C)\n",
    "\n",
    "    # A = np.mean(FinHorizonAgent.history['pLvl'][i,:]*FinHorizonAgent.history['aNrm'][i,:]) #Aggregate Consumption for period i\n",
    "    A = np.mean(\n",
    "        FinHorizonAgent.history[\"aNrm\"][i, :]\n",
    "    )  # Aggregate Consumption for period i\n",
    "\n",
    "    alvl.append(A)"
   ]
  },
  {
   "cell_type": "markdown",
   "id": "05277961",
   "metadata": {},
   "source": [
    "### Calculate Transition Matrices with Neutral Measure (Harmenberg 2021)\n",
    "After the agent solves his problem, the consumption policies are stored in the solution attribute of self. calc_transition_matrix() will automatically call these attributes to compute the transition matrices.\n",
    "\n",
    "In the cell below we calculate the transition matrix while utilizing the neutral measure for speed efficiency."
   ]
  },
  {
   "cell_type": "code",
   "execution_count": null,
   "id": "0b054e97",
   "metadata": {
    "lines_to_next_cell": 2
   },
   "outputs": [],
   "source": [
    "# Change Income Process to allow permanent income shocks to be drawn from neutral measure\n",
    "FinHorizonAgent.mCount = ss.mCount\n",
    "FinHorizonAgent.mMax = ss.mMax\n",
    "\n",
    "# Calculate Transition Matrices\n",
    "FinHorizonAgent.define_distribution_grid()\n",
    "\n",
    "start = time.time()\n",
    "FinHorizonAgent.calc_transition_matrix()\n",
    "print(\"Seconds to calc_transition_matrix\", time.time() - start)"
   ]
  },
  {
   "cell_type": "markdown",
   "id": "0afef45d",
   "metadata": {},
   "source": [
    "### Compute Path of Aggregate Consumption"
   ]
  },
  {
   "cell_type": "code",
   "execution_count": null,
   "id": "b93cddbd",
   "metadata": {
    "lines_to_next_cell": 2
   },
   "outputs": [],
   "source": [
    "AggC_fast = []  # List of aggregate consumption for each period t\n",
    "AggA_fast = []  # List of aggregate consumption for each period t\n",
    "\n",
    "dstn = vecDstn_fast  # Initial distribution set as steady state distribution\n",
    "\n",
    "c_ = FinHorizonAgent.cPol_Grid  # Consumption Policy Grid this period\n",
    "a_ = FinHorizonAgent.aPol_Grid  # asset policy grid\n",
    "\n",
    "c_.append(c)\n",
    "a_.append(asset)\n",
    "for i in range(20):\n",
    "    T_mat = FinHorizonAgent.tran_matrix[i]\n",
    "    dstn = np.dot(T_mat, dstn)\n",
    "\n",
    "    C = np.dot(c_[i], dstn)  # Compute Aggregate Consumption this period\n",
    "    AggC_fast.append(C[0])\n",
    "\n",
    "    A = np.dot(a_[i], dstn)  # Compute Aggregate Assets this period\n",
    "    AggA_fast.append(A[0])\n",
    "\n",
    "AggC_fast = np.array(AggC_fast)\n",
    "AggC_fast = AggC_fast.T\n",
    "\n",
    "AggA_fast = np.array(AggA_fast)\n",
    "AggA_fast = AggA_fast.T"
   ]
  },
  {
   "cell_type": "markdown",
   "id": "edd797a5",
   "metadata": {},
   "source": [
    "### Path of Aggregate Consumption given an anticipated interest rate shock at $t=10$\n"
   ]
  },
  {
   "cell_type": "code",
   "execution_count": null,
   "id": "67c68171",
   "metadata": {
    "lines_to_next_cell": 2
   },
   "outputs": [],
   "source": [
    "# plt.plot(AggC, label = 'without Harmenberg') #Without Neutral Measure\n",
    "plt.plot(\n",
    "    AggC_fast, label=\" Transition Matrices\", linewidth=3.0\n",
    ")  # With Harmenberg Improvement\n",
    "plt.plot(\n",
    "    clvl, label=\"Monte Carlo\", linewidth=3.0\n",
    ")  # Monte Carlo with Hamenberg Improvement\n",
    "plt.legend(prop={\"size\": 15})\n",
    "plt.ylim([0.95, 1.08])\n",
    "plt.show()"
   ]
  },
  {
   "cell_type": "markdown",
   "id": "157a398f",
   "metadata": {},
   "source": [
    "### Path of Aggregate Assets given an anticipated interest rate shock at $t=10$\n"
   ]
  },
  {
   "cell_type": "code",
   "execution_count": null,
   "id": "00d8dc82",
   "metadata": {
    "lines_to_next_cell": 2
   },
   "outputs": [],
   "source": [
    "plt.plot(\n",
    "    AggA_fast, label=\" Transition Matrices\", linewidth=3.0\n",
    ")  # With Harmenberg Improvement\n",
    "plt.plot(alvl, label=\"Monte Carlo\", linewidth=3.0)\n",
    "plt.legend(prop={\"size\": 15})\n",
    "plt.show()"
   ]
  },
  {
   "cell_type": "code",
   "execution_count": null,
   "id": "646398b1",
   "metadata": {},
   "outputs": [],
   "source": []
  }
 ],
 "metadata": {
  "jupytext": {
   "formats": "ipynb,py:percent"
  },
  "kernelspec": {
   "display_name": "Python 3 (ipykernel)",
   "language": "python",
   "name": "python3"
  },
  "language_info": {
   "codemirror_mode": {
    "name": "ipython",
    "version": 3
   },
   "file_extension": ".py",
   "mimetype": "text/x-python",
   "name": "python",
   "nbconvert_exporter": "python",
   "pygments_lexer": "ipython3",
   "version": "3.10.14"
  }
 },
 "nbformat": 4,
 "nbformat_minor": 5
}
