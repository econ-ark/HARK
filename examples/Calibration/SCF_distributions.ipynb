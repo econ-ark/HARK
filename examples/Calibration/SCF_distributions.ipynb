{
 "cells": [
  {
   "cell_type": "code",
   "execution_count": null,
   "id": "6ed24ac4",
   "metadata": {},
   "outputs": [],
   "source": [
    "\"\"\"\n",
    "Created on Mon Jan 18 13:57:50 2021\n",
    "\n",
    "@author: Mateo\n",
    "\"\"\"\n",
    "\n",
    "from HARK.datasets.SCF.WealthIncomeDist.SCFDistTools import income_wealth_dists_from_scf\n",
    "import seaborn as sns\n",
    "from itertools import product, starmap\n",
    "import pandas as pd\n",
    "\n",
    "# List the education levels and years\n",
    "educ_lvls = [\"NoHS\", \"HS\", \"College\"]\n",
    "years = list(range(1995, 2022, 3))\n",
    "\n",
    "age = 25\n",
    "base_year = 1992"
   ]
  },
  {
   "cell_type": "code",
   "execution_count": null,
   "id": "126e70de",
   "metadata": {
    "title": "Get the distribution of aNrm and pLvl at each year x education"
   },
   "outputs": [],
   "source": [
    "params = list(product([base_year], [age], educ_lvls, years))\n",
    "base_year, age, education, year = list(zip(*params))\n",
    "\n",
    "frame = pd.DataFrame(\n",
    "    {\"base_year\": base_year, \"age\": age, \"education\": education, \"wave\": year}\n",
    ")\n",
    "\n",
    "results = list(starmap(income_wealth_dists_from_scf, params))\n",
    "frame = pd.concat([frame, pd.DataFrame(results)], axis=1)"
   ]
  },
  {
   "cell_type": "code",
   "execution_count": null,
   "id": "f9a37ca2",
   "metadata": {
    "title": "Plot time trends at different education levels."
   },
   "outputs": [],
   "source": [
    "\n",
    "# Formatting\n",
    "frame = frame.melt(id_vars=[\"base_year\", \"age\", \"education\", \"wave\"])\n",
    "aux = frame[\"variable\"].str.split(\"(Mean|Std)\", n=1, expand=True)\n",
    "frame[\"variable\"] = aux[0]\n",
    "frame[\"stat\"] = aux[1]\n",
    "\n",
    "# Plot\n",
    "g = sns.FacetGrid(frame, col=\"stat\", row=\"variable\", hue=\"education\", sharey=True)\n",
    "g.map(sns.scatterplot, \"wave\", \"value\", alpha=0.7)\n",
    "g.add_legend()"
   ]
  }
 ],
 "metadata": {
  "jupytext": {
   "cell_metadata_filter": "title,-all",
   "encoding": "# -*- coding: utf-8 -*-",
   "formats": "ipynb,py:percent"
  },
  "kernelspec": {
   "display_name": "Python 3 (ipykernel)",
   "language": "python",
   "name": "python3"
  },
  "language_info": {
   "codemirror_mode": {
    "name": "ipython",
    "version": 3
   },
   "file_extension": ".py",
   "mimetype": "text/x-python",
   "name": "python",
   "nbconvert_exporter": "python",
   "pygments_lexer": "ipython3",
   "version": "3.10.12"
  }
 },
 "nbformat": 4,
 "nbformat_minor": 5
}
