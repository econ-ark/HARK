{
 "cells": [
  {
   "cell_type": "code",
   "execution_count": null,
   "id": "1c047f75",
   "metadata": {},
   "outputs": [],
   "source": [
    "from HARK.datasets.life_tables.us_ssa.SSATools import (\n",
    "    parse_ssa_life_table,\n",
    "    get_ssa_life_tables,\n",
    ")\n",
    "\n",
    "import numpy as np\n",
    "import matplotlib.pyplot as plt"
   ]
  },
  {
   "cell_type": "code",
   "execution_count": null,
   "id": "b56693d8",
   "metadata": {
    "title": "Inspect lifetables"
   },
   "outputs": [],
   "source": [
    "\n",
    "tables = get_ssa_life_tables()\n",
    "print(tables.head)"
   ]
  },
  {
   "cell_type": "code",
   "execution_count": null,
   "id": "c1d658a7",
   "metadata": {
    "title": "Survival probabilities from the SSA"
   },
   "outputs": [],
   "source": [
    "\n",
    "# We will find 1-year survival probabilities from ages 21 to 100\n",
    "min_age = 21\n",
    "max_age = 100\n",
    "ages = np.arange(min_age, max_age + 1)\n",
    "\n",
    "# In the years 1900 and 1950\n",
    "years = [1900, 1950]"
   ]
  },
  {
   "cell_type": "code",
   "execution_count": null,
   "id": "1922e95b",
   "metadata": {},
   "outputs": [],
   "source": [
    "\n",
    "# First, the \"longitudinal method\", which gives us the probabilities\n",
    "# experienced by agents born in \"year\" throughout their lived\n",
    "plt.figure()\n",
    "for cohort in years:\n",
    "    for s in [\"male\", \"female\"]:\n",
    "        fem = s == \"female\"\n",
    "        LivPrb = parse_ssa_life_table(\n",
    "            female=fem, cohort=cohort, min_age=min_age, max_age=max_age\n",
    "        )\n",
    "\n",
    "        plt.plot(ages, LivPrb, label=s + \" born in \" + str(cohort))\n",
    "\n",
    "plt.legend()\n",
    "plt.title(\"Longitudinal survival probabilities\")"
   ]
  },
  {
   "cell_type": "code",
   "execution_count": null,
   "id": "84551443",
   "metadata": {},
   "outputs": [],
   "source": [
    "\n",
    "# Second, the \"cross-sectional method\", which gives us the probabilities of\n",
    "# survivals of individuals of differnet ages that are alive in the given year.\n",
    "plt.figure()\n",
    "for year in years:\n",
    "    for s in [\"male\", \"female\"]:\n",
    "        fem = s == \"female\"\n",
    "        LivPrb = parse_ssa_life_table(\n",
    "            female=fem, year=year, cross_sec=True, min_age=min_age, max_age=max_age\n",
    "        )\n",
    "\n",
    "        plt.plot(ages, LivPrb, label=s + \"s in \" + str(year))\n",
    "\n",
    "plt.legend()\n",
    "plt.title(\"Cross-sectional survival probabilities\")"
   ]
  }
 ],
 "metadata": {
  "jupytext": {
   "cell_metadata_filter": "title,-all",
   "formats": "ipynb,py:percent"
  },
  "kernelspec": {
   "display_name": "Python 3 (ipykernel)",
   "language": "python",
   "name": "python3"
  },
  "language_info": {
   "codemirror_mode": {
    "name": "ipython",
    "version": 3
   },
   "file_extension": ".py",
   "mimetype": "text/x-python",
   "name": "python",
   "nbconvert_exporter": "python",
   "pygments_lexer": "ipython3",
   "version": "3.10.12"
  }
 },
 "nbformat": 4,
 "nbformat_minor": 5
}
