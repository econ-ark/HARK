{
 "cells": [
  {
   "cell_type": "code",
   "execution_count": null,
   "id": "1cf57cc2",
   "metadata": {},
   "outputs": [],
   "source": [
    "\"\"\"\n",
    "Created on Sun Jan  3 10:50:02 2021\n",
    "\n",
    "@author: Mateo\n",
    "\"\"\"\n",
    "\n",
    "from HARK.Calibration.Income.IncomeTools import (\n",
    "    parse_income_spec,\n",
    "    find_profile,\n",
    "    Cagetti_income,\n",
    "    CGM_income,\n",
    ")\n",
    "\n",
    "import numpy as np\n",
    "import matplotlib.pyplot as plt\n",
    "\n",
    "# What year to use as the base monetary year?\n",
    "# (pick 1992 as it is used by both of the papers we are comparing)\n",
    "adjust_infl_to = 1992"
   ]
  },
  {
   "cell_type": "code",
   "execution_count": null,
   "id": "8a2b66ca",
   "metadata": {
    "title": "Cocco, Gomes, Maenhout (2005) calibration"
   },
   "outputs": [],
   "source": [
    "age_min = 21\n",
    "age_max = 100\n",
    "\n",
    "ages = np.arange(age_min, age_max + 1)\n",
    "\n",
    "plt.figure()\n",
    "for spec in CGM_income.items():\n",
    "    label = spec[0]\n",
    "\n",
    "    params = parse_income_spec(\n",
    "        age_min=age_min, age_max=age_max, adjust_infl_to=adjust_infl_to, **spec[1]\n",
    "    )\n",
    "    MeanY = find_profile(params[\"PermGroFac\"], params[\"P0\"])\n",
    "\n",
    "    plt.plot(ages, MeanY, label=label)\n",
    "\n",
    "plt.title(\n",
    "    \"Mean paths of permanent income calibrations in\\n\"\n",
    "    + \"Cocco, Gomes & Maenhout (2005)\"\n",
    ")\n",
    "plt.xlabel(\"Age\")\n",
    "plt.ylabel(\n",
    "    \"Mean Permanent Income,\\n\" + \"Thousands of {} U.S. dollars\".format(adjust_infl_to)\n",
    ")\n",
    "plt.legend()\n",
    "plt.show()"
   ]
  },
  {
   "cell_type": "code",
   "execution_count": null,
   "id": "934dda85",
   "metadata": {
    "title": "Cagetti (2003) calibration"
   },
   "outputs": [],
   "source": [
    "\n",
    "age_min = 25\n",
    "age_max = 91\n",
    "# Cagetti has a year trend in his specification, so we have to say on what\n",
    "# year agents enter the model.\n",
    "start_year = 1980\n",
    "\n",
    "ages = np.arange(age_min, age_max + 1)\n",
    "\n",
    "plt.figure()\n",
    "for spec in Cagetti_income.items():\n",
    "    label = spec[0]\n",
    "\n",
    "    params = parse_income_spec(\n",
    "        age_min=age_min,\n",
    "        age_max=age_max,\n",
    "        adjust_infl_to=adjust_infl_to,\n",
    "        start_year=start_year,\n",
    "        **spec[1]\n",
    "    )\n",
    "    MeanY = find_profile(params[\"PermGroFac\"], params[\"P0\"])\n",
    "\n",
    "    plt.plot(ages, MeanY, label=label)\n",
    "\n",
    "plt.title(\"Mean paths of permanent income calibrations in\\n\" + \"Cagetti (2003)\")\n",
    "plt.xlabel(\"Age\")\n",
    "plt.ylabel(\n",
    "    \"Mean Permanent Income,\\n\" + \"Thousands of {} U.S. dollars\".format(adjust_infl_to)\n",
    ")\n",
    "plt.legend()\n",
    "plt.show()"
   ]
  }
 ],
 "metadata": {
  "jupytext": {
   "cell_metadata_filter": "title,-all",
   "encoding": "# -*- coding: utf-8 -*-",
   "formats": "ipynb,py:percent"
  },
  "kernelspec": {
   "display_name": "Python 3 (ipykernel)",
   "language": "python",
   "name": "python3"
  },
  "language_info": {
   "codemirror_mode": {
    "name": "ipython",
    "version": 3
   },
   "file_extension": ".py",
   "mimetype": "text/x-python",
   "name": "python",
   "nbconvert_exporter": "python",
   "pygments_lexer": "ipython3",
   "version": "3.10.12"
  }
 },
 "nbformat": 4,
 "nbformat_minor": 5
}
