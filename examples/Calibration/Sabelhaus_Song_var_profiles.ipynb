{
 "cells": [
  {
   "cell_type": "code",
   "execution_count": null,
   "id": "f6d16a7c",
   "metadata": {},
   "outputs": [],
   "source": [
    "\"\"\"\n",
    "Created on Thu Jan 14 16:44:09 2021\n",
    "\n",
    "@author: Mateo\n",
    "\n",
    "This short script demonstrates how to use the module for computing\n",
    "[1] Sabelhaus & Song (2010) age profiles of income volatility.\n",
    "It does so by replicating the results from the original paper (Figure 6 in [1])\n",
    "\n",
    "[1] Sabelhaus, J., & Song, J. (2010). The great moderation in micro labor\n",
    "    earnings. Journal of Monetary Economics, 57(4), 391-403.\n",
    "\n",
    "\"\"\"\n",
    "\n",
    "import matplotlib.pyplot as plt\n",
    "from HARK.Calibration.Income.IncomeTools import sabelhaus_song_var_profile\n",
    "import numpy as np\n",
    "\n",
    "# Set up ages and cohorts at which we will get the variances\n",
    "age_min = 27\n",
    "age_max = 54\n",
    "cohorts = [1940, 1965, None]\n",
    "\n",
    "# Find volatility profiles using the module\n",
    "variances = [\n",
    "    sabelhaus_song_var_profile(age_min=age_min, age_max=age_max, cohort=c)\n",
    "    for c in cohorts\n",
    "]"
   ]
  },
  {
   "cell_type": "code",
   "execution_count": null,
   "id": "2a399fc2",
   "metadata": {
    "title": "Plots"
   },
   "outputs": [],
   "source": [
    "\n",
    "# Plot transitory shock variances\n",
    "plt.figure()\n",
    "for i in range(len(cohorts)):\n",
    "    coh_label = \"aggregate\" if cohorts[i] is None else cohorts[i]\n",
    "    plt.plot(\n",
    "        variances[i][\"Age\"],\n",
    "        np.power(variances[i][\"TranShkStd\"], 2),\n",
    "        label=\"Tran. {} cohort\".format(coh_label),\n",
    "    )\n",
    "\n",
    "plt.legend()\n",
    "\n",
    "# Plot permanent shock variances\n",
    "plt.figure()\n",
    "for i in range(len(cohorts)):\n",
    "    coh_label = \"aggregate\" if cohorts[i] is None else cohorts[i]\n",
    "    plt.plot(\n",
    "        variances[i][\"Age\"],\n",
    "        np.power(variances[i][\"PermShkStd\"], 2),\n",
    "        label=\"Perm. {} cohort\".format(coh_label),\n",
    "    )\n",
    "\n",
    "plt.legend()"
   ]
  }
 ],
 "metadata": {
  "jupytext": {
   "cell_metadata_filter": "title,-all",
   "encoding": "# -*- coding: utf-8 -*-",
   "formats": "ipynb,py:percent"
  },
  "kernelspec": {
   "display_name": "Python 3 (ipykernel)",
   "language": "python",
   "name": "python3"
  },
  "language_info": {
   "codemirror_mode": {
    "name": "ipython",
    "version": 3
   },
   "file_extension": ".py",
   "mimetype": "text/x-python",
   "name": "python",
   "nbconvert_exporter": "python",
   "pygments_lexer": "ipython3",
   "version": "3.10.12"
  }
 },
 "nbformat": 4,
 "nbformat_minor": 5
}
