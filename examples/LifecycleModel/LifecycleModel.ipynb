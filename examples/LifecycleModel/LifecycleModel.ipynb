{
 "cells": [
  {
   "cell_type": "markdown",
   "metadata": {},
   "source": [
    "\n",
    "# The Distribution of Assets By Age\n",
    "\n",
    "National registry data on income and wealth from Scandinavian countries has recently become available (with a lot of security) to some (lucky!) researchers.   These data offer a uniquely powerful tool for testing (and improving) our models of consumption and saving behavior over the life cycle.\n",
    "\n",
    "\n",
    "But as of this writing (in March of 2019), the data are so new that there do not seem to be any published attempts to compare the data to the implications a standard life cycle model with income uncertainty, constraints, and other modern features.\n",
    "\n",
    "This notebook is an example of how one could counstruct a life cycle model with the HARK toolkit that would make predictions about the model analogues of the raw data statistics that are available.  \n",
    "\n",
    "For example, the papers have shown information about the growth rate of assets at different ages over the life cycle.  Here, we show how (under a given parameterization) we could produce the life cycle model's prediction about the distribution of assets at age 65 and age 66, and the growth rate between 65 and 66. \n",
    "\n",
    "The parameters of the model have not been optmized to match features of the Norwegian data; a first step in \"structural\" estimation would be to calibrate the inputs to the model (like the profile of income over the life cycle, and the magnitude of income shocks), and then to find the values of parameters like the time preference rate that allow the model to fit the data best.\n",
    "\n",
    "An interesting question is whether this exercise will suggest that it is necessary to allow for _ex ante_ heterogeneity in such preference parameters.\n",
    "\n",
    "This seems likely; a paper by [<cite data-cite=\"6202365/7MR8GUVS\"></cite>](https://www.econ2.jhu.edu/people/ccarroll/papers/cstwMPC) (all of whose results were constructed using the HARK toolkit) finds that, if all other parameters (e.g., rates of return on savings) are the same, models of this kind require substantial heterogeneity in preferences to generate the degree of inequality in U.S. data.\n",
    "\n",
    "But in one of the many new and interesting findings from the Norwegian data, <cite data-cite=\"6202365/B9BGV9W3\"></cite> have shown that there is substantial heterogeneity in rates of return, even on wealth held in public markets.  \n",
    "\n",
    "[Derin Aksit](https://github.com/econ-ark/REMARK) has shown that the degree of time preference heterogeneity needed to match observed inequality is considerably less when rate-of-return heterogeneity is calibrated to match these data."
   ]
  },
  {
   "cell_type": "code",
   "execution_count": 1,
   "metadata": {
    "code_folding": [
     0
    ],
    "lines_to_next_cell": 2
   },
   "outputs": [
    {
     "name": "stderr",
     "output_type": "stream",
     "text": [
      "/home/sb/projects/econ-ark/HARK/HARK/Calibration/Income/IncomeTools.py:449: UserWarning: Sabelhaus and Song (2010) provide variance profiles for ages 27 to 54. Extrapolating variances using the extreme points.\n",
      "  warn(\n",
      "/home/sb/projects/econ-ark/HARK/HARK/datasets/SCF/WealthIncomeDist/SCFDistTools.py:79: UserWarning: Returning SCF summary statistics for ages (20,25].\n",
      "  warn(\"Returning SCF summary statistics for ages \" + age_bracket + \".\")\n"
     ]
    }
   ],
   "source": [
    "# Initial imports and notebook setup, click arrow to show\n",
    "\n",
    "import HARK.ConsumptionSaving.ConsIndShockModel as Model        # The consumption-saving micro model\n",
    "import EstimationParameters as Params    # Parameters for the consumer type and the estimation\n",
    "from HARK.utilities import plot_funcs_der, plot_funcs              # Some tools\n",
    "\n",
    "import numpy as np"
   ]
  },
  {
   "cell_type": "code",
   "execution_count": 2,
   "metadata": {
    "code_folding": [
     0
    ],
    "lines_to_next_cell": 2
   },
   "outputs": [],
   "source": [
    "# Set up default values for CRRA, DiscFac, and simulation variables in the dictionary \n",
    "Params.init_consumer_objects[\"CRRA\"]= 2.00            # Default coefficient of relative risk aversion (rho)\n",
    "Params.init_consumer_objects[\"DiscFac\"]= 0.97         # Default intertemporal discount factor (beta)\n",
    "Params.init_consumer_objects[\"PermGroFacAgg\"]= 1.0    # Aggregate permanent income growth factor \n",
    "Params.init_consumer_objects[\"aNrmInitMean\"]= -10.0   # Mean of log initial assets \n",
    "Params.init_consumer_objects[\"aNrmInitStd\"]= 1.0      # Standard deviation of log initial assets\n",
    "Params.init_consumer_objects[\"pLvlInitMean\"]= 0.0     # Mean of log initial permanent income \n",
    "Params.init_consumer_objects[\"pLvlInitStd\"]= 0.0      # Standard deviation of log initial permanent income"
   ]
  },
  {
   "cell_type": "code",
   "execution_count": 3,
   "metadata": {
    "lines_to_next_cell": 2
   },
   "outputs": [],
   "source": [
    "# Make a lifecycle consumer to be used for estimation\n",
    "LifeCyclePop = Model.IndShockConsumerType(**Params.init_consumer_objects)"
   ]
  },
  {
   "cell_type": "code",
   "execution_count": 4,
   "metadata": {
    "code_folding": [
     0
    ],
    "lines_to_next_cell": 2
   },
   "outputs": [
    {
     "data": {
      "text/plain": [
       "{'aNrm': array([[0.15127711, 0.15125125, 0.15137639, ..., 0.15125154, 0.15129283,\n",
       "         0.15126218],\n",
       "        [0.20253365, 0.26403079, 0.36798854, ..., 0.27813025, 0.18217271,\n",
       "         0.14937687],\n",
       "        [0.31434768, 0.30047487, 0.39399445, ..., 0.41395886, 0.36698992,\n",
       "         0.35670865],\n",
       "        ...,\n",
       "        [0.        , 0.4105237 , 0.67977946, ..., 0.35135643, 0.19870174,\n",
       "         0.38609603],\n",
       "        [0.15125545, 0.36888134, 0.59571382, ..., 0.35422396, 0.12865324,\n",
       "         0.38228781],\n",
       "        [0.22612749, 0.35238072, 0.60192903, ..., 0.46027463, 0.0731549 ,\n",
       "         0.42506227]]),\n",
       " 'pLvl': array([[1.01994264, 1.05822383, 0.94158876, ..., 1.05822383, 1.01994264,\n",
       "         1.19556632],\n",
       "        [0.88907473, 0.99641167, 0.82077437, ..., 1.16925872, 1.12696084,\n",
       "         1.32101196],\n",
       "        [0.77499836, 1.05442658, 0.80687195, ..., 1.39792634, 1.19257682,\n",
       "         1.24385002],\n",
       "        ...,\n",
       "        [1.43550789, 2.03837237, 1.07766068, ..., 1.24372729, 0.84910745,\n",
       "         1.32203812],\n",
       "        [0.94158876, 2.25225004, 1.19073499, ..., 1.22266082, 0.84910745,\n",
       "         1.29964521],\n",
       "        [0.82077437, 2.38338467, 1.21448138, ..., 1.15124369, 0.84910745,\n",
       "         1.32556356]]),\n",
       " 'mNrm': array([[1.0000808 , 1.00002238, 1.00030507, ..., 1.00002304, 1.00011634,\n",
       "         1.00004708],\n",
       "        [1.10199015, 1.20305461, 1.35113558, ..., 1.22438835, 1.06427295,\n",
       "         0.99570868],\n",
       "        [1.27691759, 1.25705515, 1.38562517, ..., 1.41188128, 1.3495815 ,\n",
       "         1.33567024],\n",
       "        ...,\n",
       "        [1.01216882, 1.40260534, 1.73494352, ..., 1.32838083, 1.29993621,\n",
       "         1.3740572 ],\n",
       "        [1.00003185, 1.34659006, 1.6337495 , ..., 1.33203684, 1.20466279,\n",
       "         1.36843515],\n",
       "        [1.1426294 , 1.32294716, 1.63918948, ..., 1.47087737, 1.13251284,\n",
       "         1.42365894]]),\n",
       " 'cNrm': array([[0.8488037 , 0.84877113, 0.84892869, ..., 0.84877149, 0.8488235 ,\n",
       "         0.8487849 ],\n",
       "        [0.8994565 , 0.93902383, 0.98314704, ..., 0.9462581 , 0.88210024,\n",
       "         0.8463318 ],\n",
       "        [0.96256991, 0.95658029, 0.99163072, ..., 0.99792241, 0.98259158,\n",
       "         0.97896159],\n",
       "        ...,\n",
       "        [1.01216882, 0.99208163, 1.05516406, ..., 0.9770244 , 1.10123447,\n",
       "         0.98796117],\n",
       "        [0.84877641, 0.97770872, 1.03803568, ..., 0.97781288, 1.07600955,\n",
       "         0.98614735],\n",
       "        [0.91650191, 0.97056644, 1.03726045, ..., 1.01060274, 1.05935794,\n",
       "         0.99859666]]),\n",
       " 'TranShk': array([[1.        , 1.        , 1.        , ..., 1.        , 1.        ,\n",
       "         1.        ],\n",
       "        [0.92323938, 1.0376015 , 1.1722675 , ..., 1.08339327, 0.92323938,\n",
       "         0.85470368],\n",
       "        [1.0376015 , 1.00006632, 1.00006632, ..., 1.1722675 , 1.1722675 ,\n",
       "         1.1722675 ],\n",
       "        ...,\n",
       "        [1.        , 1.0376015 , 1.1722675 , ..., 1.1722675 , 1.        ,\n",
       "         1.00006632],\n",
       "        [1.        , 0.96390423, 1.00006632, ..., 0.96390423, 1.        ,\n",
       "         0.96390423],\n",
       "        [0.96390423, 0.96390423, 1.0376015 , ..., 1.08339327, 1.        ,\n",
       "         1.0376015 ]])}"
      ]
     },
     "execution_count": 4,
     "metadata": {},
     "output_type": "execute_result"
    }
   ],
   "source": [
    "# Solve and simulate the model (ignore the \"warning\" message)\n",
    "LifeCyclePop.solve()                            # Obtain consumption rules by age \n",
    "LifeCyclePop.unpack('cFunc')                      # Expose the consumption rules\n",
    "\n",
    "# Which variables do we want to track\n",
    "LifeCyclePop.track_vars = ['aNrm','pLvl','mNrm','cNrm','TranShk']\n",
    "\n",
    "LifeCyclePop.T_sim = 120                        # Nobody lives to be older than 145 years (=25+120)\n",
    "LifeCyclePop.initialize_sim()                    # Construct the age-25 distribution of income and assets\n",
    "LifeCyclePop.simulate()                         # Simulate a population behaving according to this model"
   ]
  },
  {
   "cell_type": "code",
   "execution_count": 5,
   "metadata": {
    "code_folding": [
     0
    ]
   },
   "outputs": [
    {
     "name": "stdout",
     "output_type": "stream",
     "text": [
      "Consumption as a function of market resources while working:\n"
     ]
    },
    {
     "data": {
      "image/png": "[encoded data removed]",
      "text/plain": [
       "<Figure size 432x288 with 1 Axes>"
      ]
     },
     "metadata": {
      "needs_background": "light"
     },
     "output_type": "display_data"
    }
   ],
   "source": [
    "# Plot the consumption functions during working life\n",
    "\n",
    "print('Consumption as a function of market resources while working:')\n",
    "mMin = min([LifeCyclePop.solution[t].mNrmMin for t in range(LifeCyclePop.T_cycle)])\n",
    "plot_funcs(LifeCyclePop.cFunc[:LifeCyclePop.T_retire],mMin,5)"
   ]
  },
  {
   "cell_type": "code",
   "execution_count": 6,
   "metadata": {
    "code_folding": [
     0
    ]
   },
   "outputs": [],
   "source": [
    "# Define the saving rate function\n",
    "def savingRateFunc(SomeType, m):\n",
    "    \"\"\"\n",
    "    Parameters:\n",
    "    ----------\n",
    "        SomeType: \n",
    "             Agent type that has been solved and simulated.\n",
    "        \n",
    "        \n",
    "    Returns:\n",
    "    --------\n",
    "        SavingRate: float\n",
    "    \n",
    "    \"\"\"\n",
    "    inc = (SomeType.Rfree -1.)*(m-1.)+1.\n",
    "    cons = SomeType.solution[0].cFunc(m)\n",
    "    Saving = inc - cons\n",
    "    SavingRate = Saving / inc\n",
    "    return SavingRate  "
   ]
  },
  {
   "cell_type": "code",
   "execution_count": 7,
   "metadata": {
    "code_folding": [
     0
    ],
    "lines_to_next_cell": 2
   },
   "outputs": [],
   "source": [
    "# Create a Giant matrix gathering useful data:\n",
    "# 't_now', 'aNrmNow_hist', 'cNrmNow_hist', employment-status in date t, in date t-1, aLvlGro_hist, Saving rate\n",
    "\n",
    "w, h = 1, LifeCyclePop.T_cycle\n",
    "giant_list = [[0 for x in range(w)] for y in range(h)]\n",
    "SavingRate_list = []\n",
    "\n",
    "import warnings\n",
    "warnings.filterwarnings(\"ignore\") # Suppress some disturbing but harmless warnings\n",
    "\n",
    "for t in range(1,LifeCyclePop.T_cycle+1):\n",
    "    #aLvlGro_hist[0] = 0 # set the first growth rate to 0, since there is no data for period 0\n",
    "    aLvlGroNow = np.log(LifeCyclePop.history['aNrm'][t]/LifeCyclePop.history['aNrm'][t-1]) # (10000,)\n",
    "\n",
    "    # Call the saving rate function with test value for \n",
    "    SavingRate = savingRateFunc(LifeCyclePop, LifeCyclePop.history['mNrm'][t] )\n",
    "      \n",
    "    SavingRate_list.append(SavingRate)\n",
    "\n",
    "    # Create elements of matrix list\n",
    "    matrix_list = [0 for number in range(7)]\n",
    "    matrix_list[0] = t\n",
    "    matrix_list[1] = LifeCyclePop.history['aNrm'][t]\n",
    "    matrix_list[2] = LifeCyclePop.history['cNrm'][t]\n",
    "    matrix_list[3] = LifeCyclePop.history['TranShk'][t]\n",
    "    matrix_list[4] = LifeCyclePop.history['TranShk'][t-1]\n",
    "    matrix_list[5] = aLvlGroNow\n",
    "    matrix_list[6] = SavingRate\n",
    "    \n",
    "    giant_list[t-1] = matrix_list\n",
    "    \n",
    "# Print command disabled to prevent giant print!\n",
    "#print giant_list"
   ]
  },
  {
   "cell_type": "code",
   "execution_count": 8,
   "metadata": {
    "code_folding": [
     0
    ],
    "lines_to_next_cell": 2
   },
   "outputs": [],
   "source": [
    "# Construct the level of assets A from a*p where a is the ratio to permanent income p\n",
    "LifeCyclePop.history['aLvl'] = LifeCyclePop.history['aNrm']*LifeCyclePop.history['pLvl']\n",
    "aGro41=LifeCyclePop.history['aLvl'][41]/LifeCyclePop.history['aLvl'][40]\n",
    "aGro41NoU=aGro41[aGro41[:]>0.2] # Throw out extreme outliers"
   ]
  },
  {
   "cell_type": "code",
   "execution_count": 9,
   "metadata": {
    "code_folding": [
     0
    ],
    "lines_to_next_cell": 2
   },
   "outputs": [
    {
     "data": {
      "image/png": "[encoded data removed]",
      "text/plain": [
       "<Figure size 432x288 with 1 Axes>"
      ]
     },
     "metadata": {
      "needs_background": "light"
     },
     "output_type": "display_data"
    }
   ],
   "source": [
    "# Plot the distribution of growth rates of wealth between age 65 and 66 (=25 + 41)\n",
    "from matplotlib import pyplot as plt\n",
    "n, bins, patches = plt.hist(aGro41NoU,50,density=True)"
   ]
  },
  {
   "cell_type": "code",
   "execution_count": null,
   "metadata": {},
   "outputs": [],
   "source": []
  }
 ],
 "metadata": {
  "jupytext": {
   "cell_metadata_filter": "collapsed,code_folding",
   "formats": "ipynb,py:percent",
   "notebook_metadata_filter": "all"
  },
  "kernelspec": {
   "display_name": "econ-ark-3.8",
   "language": "python",
   "name": "econ-ark-3.8"
  },
  "language_info": {
   "codemirror_mode": {
    "name": "ipython",
    "version": 3
   },
   "file_extension": ".py",
   "mimetype": "text/x-python",
   "name": "python",
   "nbconvert_exporter": "python",
   "pygments_lexer": "ipython3",
   "version": "3.8.7"
  }
 },
 "nbformat": 4,
 "nbformat_minor": 4
}
