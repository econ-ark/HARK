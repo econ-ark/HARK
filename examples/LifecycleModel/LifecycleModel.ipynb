{
 "cells": [
  {
   "cell_type": "markdown",
   "metadata": {},
   "source": [
    "\n",
    "# A Life Cycle Model: The Distribution of Assets By Age\n",
    "\n",
    "National registry data on income and wealth from Scandinavian countries has recently become available (with a lot of security) to some (lucky!) researchers. These data offer a uniquely powerful tool for testing (and improving) our models of consumption and saving behavior over the life cycle.\n",
    "\n",
    "\n",
    "But as of this writing (in March of 2019), the data are so new that there do not seem to be any published attempts to compare the data to the implications a standard life cycle model with income uncertainty, constraints, and other modern features.\n",
    "\n",
    "This notebook is an example of how one could counstruct a life cycle model with the HARK toolkit that would make predictions about the model analogues of the raw data statistics that are available.\n",
    "\n",
    "For example, the papers have shown information about the growth rate of assets at different ages over the life cycle.  Here, we show how (under a given parameterization) we could produce the life cycle model's prediction about the distribution of assets at age 65 and age 66, and the growth rate between 65 and 66.\n",
    "\n",
    "The parameters of the model have not been optimized to match features of the Norwegian data; a first step in \"structural\" estimation would be to calibrate the inputs to the model (like the profile of income over the life cycle, and the magnitude of income shocks), and then to find the values of parameters like the time preference rate that allow the model to fit the data best.\n",
    "\n",
    "An interesting question is whether this exercise will suggest that it is necessary to allow for _ex ante_ heterogeneity in such preference parameters.\n",
    "\n",
    "This seems likely; a paper by [Carroll et al (2017)](https://www.econ2.jhu.edu/people/ccarroll/papers/cstwMPC) (all of whose results were constructed using the HARK toolkit) finds that, if all other parameters (e.g., rates of return on savings) are the same, models of this kind require substantial heterogeneity in preferences to generate the degree of inequality in U.S. data. <!--- <cite data-cite=\"6202365/7MR8GUVS\"></cite> -->\n",
    "\n",
    "But in one of the many new and interesting findings from the Norwegian data, [Fagereng et al (2020)](https://onlinelibrary.wiley.com/doi/epdf/10.3982/ECTA14835) have shown that there is substantial heterogeneity in rates of return, even on wealth held in public markets.   <!--- <cite data-cite=\"6202365/B9BGV9W3\"></cite> -->\n",
    "\n",
    "[Derin Aksit](https://github.com/econ-ark/cstwMPC-RHetero) has shown that the degree of time preference heterogeneity needed to match observed inequality is considerably less when rate-of-return heterogeneity is calibrated to match these data."
   ]
  },
  {
   "cell_type": "code",
   "execution_count": 1,
   "metadata": {
    "code_folding": [
     0
    ],
    "lines_to_next_cell": 2
   },
   "outputs": [],
   "source": [
    "# Initial imports and notebook setup, click arrow to show\n",
    "\n",
    "import HARK.ConsumptionSaving.ConsIndShockModel as Model  # The consumption-saving micro model\n",
    "import EstimationParameters as Params  # Parameters for the consumer type and the estimation\n",
    "from HARK.utilities import plot_funcs  # Some tools\n",
    "\n",
    "import numpy as np"
   ]
  },
  {
   "cell_type": "code",
   "execution_count": 2,
   "metadata": {
    "code_folding": [
     0
    ],
    "lines_to_next_cell": 2
   },
   "outputs": [],
   "source": [
    "# Set up default values for CRRA, DiscFac, and simulation variables in the dictionary\n",
    "Params.init_consumer_objects[\"CRRA\"] = (\n",
    "    2.00  # Default coefficient of relative risk aversion (rho)\n",
    ")\n",
    "Params.init_consumer_objects[\"DiscFac\"] = (\n",
    "    0.97  # Default intertemporal discount factor (beta)\n",
    ")\n",
    "Params.init_consumer_objects[\"PermGroFacAgg\"] = (\n",
    "    1.0  # Aggregate permanent income growth factor\n",
    ")\n",
    "Params.init_consumer_objects[\"aNrmInitMean\"] = -10.0  # Mean of log initial assets\n",
    "Params.init_consumer_objects[\"aNrmInitStd\"] = (\n",
    "    1.0  # Standard deviation of log initial assets\n",
    ")\n",
    "Params.init_consumer_objects[\"pLvlInitMean\"] = (\n",
    "    0.0  # Mean of log initial permanent income\n",
    ")\n",
    "Params.init_consumer_objects[\"pLvlInitStd\"] = (\n",
    "    0.0  # Standard deviation of log initial permanent income\n",
    ")"
   ]
  },
  {
   "cell_type": "code",
   "execution_count": 3,
   "metadata": {
    "lines_to_next_cell": 2
   },
   "outputs": [
    {
     "ename": "TypeError",
     "evalue": "'<' not supported between instances of 'NoneType' and 'float'",
     "output_type": "error",
     "traceback": [
      "\u001b[1;31m---------------------------------------------------------------------------\u001b[0m",
      "\u001b[1;31mTypeError\u001b[0m                                 Traceback (most recent call last)",
      "Cell \u001b[1;32mIn[3], line 2\u001b[0m\n\u001b[0;32m      1\u001b[0m \u001b[38;5;66;03m# Make a lifecycle consumer to be used for estimation\u001b[39;00m\n\u001b[1;32m----> 2\u001b[0m LifeCyclePop \u001b[38;5;241m=\u001b[39m Model\u001b[38;5;241m.\u001b[39mIndShockConsumerType(\u001b[38;5;241m*\u001b[39m\u001b[38;5;241m*\u001b[39mParams\u001b[38;5;241m.\u001b[39minit_consumer_objects)\n",
      "File \u001b[1;32m~\\Documents\\GitHub\\HARK\\HARK\\ConsumptionSaving\\ConsIndShockModel.py:1774\u001b[0m, in \u001b[0;36mIndShockConsumerType.__init__\u001b[1;34m(self, verbose, quiet, **kwds)\u001b[0m\n\u001b[0;32m   1772\u001b[0m \u001b[38;5;66;03m# Add consumer-type specific objects, copying to create independent versions\u001b[39;00m\n\u001b[0;32m   1773\u001b[0m \u001b[38;5;28mself\u001b[39m\u001b[38;5;241m.\u001b[39msolve_one_period \u001b[38;5;241m=\u001b[39m solve_one_period_ConsIndShock\n\u001b[1;32m-> 1774\u001b[0m \u001b[38;5;28;43mself\u001b[39;49m\u001b[38;5;241;43m.\u001b[39;49m\u001b[43mupdate\u001b[49m\u001b[43m(\u001b[49m\u001b[43m)\u001b[49m\n",
      "File \u001b[1;32m~\\Documents\\GitHub\\HARK\\HARK\\ConsumptionSaving\\ConsIndShockModel.py:1820\u001b[0m, in \u001b[0;36mIndShockConsumerType.update\u001b[1;34m(self)\u001b[0m\n\u001b[0;32m   1808\u001b[0m \u001b[38;5;250m\u001b[39m\u001b[38;5;124;03m\"\"\"\u001b[39;00m\n\u001b[0;32m   1809\u001b[0m \u001b[38;5;124;03mUpdate the income process, the assets grid, and the terminal solution.\u001b[39;00m\n\u001b[0;32m   1810\u001b[0m \n\u001b[1;32m   (...)\u001b[0m\n\u001b[0;32m   1817\u001b[0m \u001b[38;5;124;03mNone\u001b[39;00m\n\u001b[0;32m   1818\u001b[0m \u001b[38;5;124;03m\"\"\"\u001b[39;00m\n\u001b[0;32m   1819\u001b[0m \u001b[38;5;28mself\u001b[39m\u001b[38;5;241m.\u001b[39mupdate_income_process()\n\u001b[1;32m-> 1820\u001b[0m \u001b[38;5;28;43mself\u001b[39;49m\u001b[38;5;241;43m.\u001b[39;49m\u001b[43mupdate_assets_grid\u001b[49m\u001b[43m(\u001b[49m\u001b[43m)\u001b[49m\n\u001b[0;32m   1821\u001b[0m \u001b[38;5;28mself\u001b[39m\u001b[38;5;241m.\u001b[39mupdate_solution_terminal()\n",
      "File \u001b[1;32m~\\Documents\\GitHub\\HARK\\HARK\\ConsumptionSaving\\ConsIndShockModel.py:1804\u001b[0m, in \u001b[0;36mIndShockConsumerType.update_assets_grid\u001b[1;34m(self)\u001b[0m\n\u001b[0;32m   1791\u001b[0m \u001b[38;5;28;01mdef\u001b[39;00m \u001b[38;5;21mupdate_assets_grid\u001b[39m(\u001b[38;5;28mself\u001b[39m):\n\u001b[0;32m   1792\u001b[0m \u001b[38;5;250m    \u001b[39m\u001b[38;5;124;03m\"\"\"\u001b[39;00m\n\u001b[0;32m   1793\u001b[0m \u001b[38;5;124;03m    Updates this agent's end-of-period assets grid by constructing a multi-\u001b[39;00m\n\u001b[0;32m   1794\u001b[0m \u001b[38;5;124;03m    exponentially spaced grid of aXtra values.\u001b[39;00m\n\u001b[1;32m   (...)\u001b[0m\n\u001b[0;32m   1802\u001b[0m \u001b[38;5;124;03m    none\u001b[39;00m\n\u001b[0;32m   1803\u001b[0m \u001b[38;5;124;03m    \"\"\"\u001b[39;00m\n\u001b[1;32m-> 1804\u001b[0m     \u001b[38;5;28;43mself\u001b[39;49m\u001b[38;5;241;43m.\u001b[39;49m\u001b[43mconstruct\u001b[49m\u001b[43m(\u001b[49m\u001b[38;5;124;43m\"\u001b[39;49m\u001b[38;5;124;43maXtraGrid\u001b[39;49m\u001b[38;5;124;43m\"\u001b[39;49m\u001b[43m)\u001b[49m\n\u001b[0;32m   1805\u001b[0m     \u001b[38;5;28mself\u001b[39m\u001b[38;5;241m.\u001b[39madd_to_time_inv(\u001b[38;5;124m\"\u001b[39m\u001b[38;5;124maXtraGrid\u001b[39m\u001b[38;5;124m\"\u001b[39m)\n",
      "File \u001b[1;32m~\\Documents\\GitHub\\HARK\\HARK\\core.py:406\u001b[0m, in \u001b[0;36mModel.construct\u001b[1;34m(self, *args)\u001b[0m\n\u001b[0;32m    403\u001b[0m \u001b[38;5;66;03m# If all of the required data was found, run the constructor and\u001b[39;00m\n\u001b[0;32m    404\u001b[0m \u001b[38;5;66;03m# store the result in parameters (and on self)\u001b[39;00m\n\u001b[0;32m    405\u001b[0m \u001b[38;5;28;01mif\u001b[39;00m \u001b[38;5;129;01mnot\u001b[39;00m any_missing:\n\u001b[1;32m--> 406\u001b[0m     temp \u001b[38;5;241m=\u001b[39m constructor(\u001b[38;5;241m*\u001b[39m\u001b[38;5;241m*\u001b[39mtemp_dict)\n\u001b[0;32m    407\u001b[0m     \u001b[38;5;28msetattr\u001b[39m(\u001b[38;5;28mself\u001b[39m, key, temp)\n\u001b[0;32m    408\u001b[0m     \u001b[38;5;28mself\u001b[39m\u001b[38;5;241m.\u001b[39mparameters[key] \u001b[38;5;241m=\u001b[39m temp\n",
      "File \u001b[1;32m~\\Documents\\GitHub\\HARK\\HARK\\utilities.py:161\u001b[0m, in \u001b[0;36mconstruct_assets_grid\u001b[1;34m(aXtraMin, aXtraMax, aXtraCount, aXtraExtra, aXtraNestFac)\u001b[0m\n\u001b[0;32m    159\u001b[0m \u001b[38;5;66;03m# Add in additional points for the grid:\u001b[39;00m\n\u001b[0;32m    160\u001b[0m \u001b[38;5;28;01mif\u001b[39;00m aXtraExtra \u001b[38;5;129;01mis\u001b[39;00m \u001b[38;5;129;01mnot\u001b[39;00m \u001b[38;5;28;01mNone\u001b[39;00m:\n\u001b[1;32m--> 161\u001b[0m     aXtraGrid \u001b[38;5;241m=\u001b[39m np\u001b[38;5;241m.\u001b[39msort(\u001b[43mnp\u001b[49m\u001b[38;5;241;43m.\u001b[39;49m\u001b[43munique\u001b[49m\u001b[43m(\u001b[49m\u001b[43mnp\u001b[49m\u001b[38;5;241;43m.\u001b[39;49m\u001b[43mconcatenate\u001b[49m\u001b[43m(\u001b[49m\u001b[43m(\u001b[49m\u001b[43maXtraGrid\u001b[49m\u001b[43m,\u001b[49m\u001b[43m \u001b[49m\u001b[43maXtraExtra\u001b[49m\u001b[43m)\u001b[49m\u001b[43m)\u001b[49m\u001b[43m)\u001b[49m)\n\u001b[0;32m    163\u001b[0m \u001b[38;5;28;01mreturn\u001b[39;00m aXtraGrid\n",
      "File \u001b[1;32m~\\Anaconda3\\envs\\HARKlatest\\lib\\site-packages\\numpy\\lib\\arraysetops.py:274\u001b[0m, in \u001b[0;36munique\u001b[1;34m(ar, return_index, return_inverse, return_counts, axis, equal_nan)\u001b[0m\n\u001b[0;32m    272\u001b[0m ar \u001b[38;5;241m=\u001b[39m np\u001b[38;5;241m.\u001b[39masanyarray(ar)\n\u001b[0;32m    273\u001b[0m \u001b[38;5;28;01mif\u001b[39;00m axis \u001b[38;5;129;01mis\u001b[39;00m \u001b[38;5;28;01mNone\u001b[39;00m:\n\u001b[1;32m--> 274\u001b[0m     ret \u001b[38;5;241m=\u001b[39m \u001b[43m_unique1d\u001b[49m\u001b[43m(\u001b[49m\u001b[43mar\u001b[49m\u001b[43m,\u001b[49m\u001b[43m \u001b[49m\u001b[43mreturn_index\u001b[49m\u001b[43m,\u001b[49m\u001b[43m \u001b[49m\u001b[43mreturn_inverse\u001b[49m\u001b[43m,\u001b[49m\u001b[43m \u001b[49m\u001b[43mreturn_counts\u001b[49m\u001b[43m,\u001b[49m\u001b[43m \u001b[49m\n\u001b[0;32m    275\u001b[0m \u001b[43m                    \u001b[49m\u001b[43mequal_nan\u001b[49m\u001b[38;5;241;43m=\u001b[39;49m\u001b[43mequal_nan\u001b[49m\u001b[43m)\u001b[49m\n\u001b[0;32m    276\u001b[0m     \u001b[38;5;28;01mreturn\u001b[39;00m _unpack_tuple(ret)\n\u001b[0;32m    278\u001b[0m \u001b[38;5;66;03m# axis was specified and not None\u001b[39;00m\n",
      "File \u001b[1;32m~\\Anaconda3\\envs\\HARKlatest\\lib\\site-packages\\numpy\\lib\\arraysetops.py:336\u001b[0m, in \u001b[0;36m_unique1d\u001b[1;34m(ar, return_index, return_inverse, return_counts, equal_nan)\u001b[0m\n\u001b[0;32m    334\u001b[0m     aux \u001b[38;5;241m=\u001b[39m ar[perm]\n\u001b[0;32m    335\u001b[0m \u001b[38;5;28;01melse\u001b[39;00m:\n\u001b[1;32m--> 336\u001b[0m     \u001b[43mar\u001b[49m\u001b[38;5;241;43m.\u001b[39;49m\u001b[43msort\u001b[49m\u001b[43m(\u001b[49m\u001b[43m)\u001b[49m\n\u001b[0;32m    337\u001b[0m     aux \u001b[38;5;241m=\u001b[39m ar\n\u001b[0;32m    338\u001b[0m mask \u001b[38;5;241m=\u001b[39m np\u001b[38;5;241m.\u001b[39mempty(aux\u001b[38;5;241m.\u001b[39mshape, dtype\u001b[38;5;241m=\u001b[39mnp\u001b[38;5;241m.\u001b[39mbool_)\n",
      "\u001b[1;31mTypeError\u001b[0m: '<' not supported between instances of 'NoneType' and 'float'"
     ]
    }
   ],
   "source": [
    "# Make a lifecycle consumer to be used for estimation\n",
    "LifeCyclePop = Model.IndShockConsumerType(**Params.init_consumer_objects)"
   ]
  },
  {
   "cell_type": "code",
   "execution_count": null,
   "metadata": {
    "code_folding": [
     0
    ],
    "lines_to_next_cell": 2
   },
   "outputs": [],
   "source": [
    "# Solve and simulate the model (ignore the \"warning\" message)\n",
    "LifeCyclePop.solve()  # Obtain consumption rules by age\n",
    "LifeCyclePop.unpack(\"cFunc\")  # Expose the consumption rules\n",
    "\n",
    "# Which variables do we want to track\n",
    "LifeCyclePop.track_vars = [\"aNrm\", \"pLvl\", \"mNrm\", \"cNrm\", \"TranShk\"]\n",
    "\n",
    "LifeCyclePop.T_sim = 120  # Nobody lives to be older than 145 years (=25+120)\n",
    "LifeCyclePop.initialize_sim()  # Construct the age-25 distribution of income and assets\n",
    "LifeCyclePop.simulate()  # Simulate a population behaving according to this model"
   ]
  },
  {
   "cell_type": "code",
   "execution_count": null,
   "metadata": {
    "code_folding": [
     0
    ]
   },
   "outputs": [],
   "source": [
    "# Plot the consumption functions during working life\n",
    "\n",
    "print(\"Consumption as a function of market resources while working:\")\n",
    "mMin = min([LifeCyclePop.solution[t].mNrmMin for t in range(LifeCyclePop.T_cycle)])\n",
    "plot_funcs(LifeCyclePop.cFunc[: LifeCyclePop.T_retire], mMin, 5)"
   ]
  },
  {
   "cell_type": "code",
   "execution_count": null,
   "metadata": {
    "code_folding": [
     0
    ]
   },
   "outputs": [],
   "source": [
    "# Define the saving rate function\n",
    "def savingRateFunc(SomeType, m):\n",
    "    \"\"\"\n",
    "    Parameters:\n",
    "    ----------\n",
    "        SomeType:\n",
    "             Agent type that has been solved and simulated.\n",
    "\n",
    "\n",
    "    Returns:\n",
    "    --------\n",
    "        SavingRate: float\n",
    "\n",
    "    \"\"\"\n",
    "    inc = (SomeType.Rfree - 1.0) * (m - 1.0) + 1.0\n",
    "    cons = SomeType.solution[0].cFunc(m)\n",
    "    Saving = inc - cons\n",
    "    SavingRate = Saving / inc\n",
    "    return SavingRate"
   ]
  },
  {
   "cell_type": "code",
   "execution_count": null,
   "metadata": {
    "code_folding": [
     0
    ],
    "lines_to_next_cell": 2
   },
   "outputs": [],
   "source": [
    "# Create a Giant matrix gathering useful data:\n",
    "# 't_now', 'aNrmNow_hist', 'cNrmNow_hist', employment-status in date t, in date t-1, aLvlGro_hist, Saving rate\n",
    "\n",
    "w, h = 1, LifeCyclePop.T_cycle\n",
    "giant_list = [[0 for x in range(w)] for y in range(h)]\n",
    "SavingRate_list = []\n",
    "\n",
    "import warnings\n",
    "\n",
    "warnings.filterwarnings(\"ignore\")  # Suppress some disturbing but harmless warnings\n",
    "\n",
    "for t in range(1, LifeCyclePop.T_cycle + 1):\n",
    "    # aLvlGro_hist[0] = 0 # set the first growth rate to 0, since there is no data for period 0\n",
    "    aLvlGroNow = np.log(\n",
    "        LifeCyclePop.history[\"aNrm\"][t] / LifeCyclePop.history[\"aNrm\"][t - 1]\n",
    "    )  # (10000,)\n",
    "\n",
    "    # Call the saving rate function with test value for\n",
    "    SavingRate = savingRateFunc(LifeCyclePop, LifeCyclePop.history[\"mNrm\"][t])\n",
    "\n",
    "    SavingRate_list.append(SavingRate)\n",
    "\n",
    "    # Create elements of matrix list\n",
    "    matrix_list = [0 for number in range(7)]\n",
    "    matrix_list[0] = t\n",
    "    matrix_list[1] = LifeCyclePop.history[\"aNrm\"][t]\n",
    "    matrix_list[2] = LifeCyclePop.history[\"cNrm\"][t]\n",
    "    matrix_list[3] = LifeCyclePop.history[\"TranShk\"][t]\n",
    "    matrix_list[4] = LifeCyclePop.history[\"TranShk\"][t - 1]\n",
    "    matrix_list[5] = aLvlGroNow\n",
    "    matrix_list[6] = SavingRate\n",
    "\n",
    "    giant_list[t - 1] = matrix_list\n",
    "\n",
    "# Print command disabled to prevent giant print!\n",
    "# print giant_list"
   ]
  },
  {
   "cell_type": "code",
   "execution_count": null,
   "metadata": {
    "code_folding": [
     0
    ],
    "lines_to_next_cell": 2
   },
   "outputs": [],
   "source": [
    "# Construct the level of assets A from a*p where a is the ratio to permanent income p\n",
    "LifeCyclePop.history[\"aLvl\"] = (\n",
    "    LifeCyclePop.history[\"aNrm\"] * LifeCyclePop.history[\"pLvl\"]\n",
    ")\n",
    "aGro41 = LifeCyclePop.history[\"aLvl\"][41] / LifeCyclePop.history[\"aLvl\"][40]\n",
    "aGro41NoU = aGro41[aGro41[:] > 0.2]  # Throw out extreme outliers"
   ]
  },
  {
   "cell_type": "code",
   "execution_count": null,
   "metadata": {
    "code_folding": [
     0
    ]
   },
   "outputs": [],
   "source": [
    "# Plot the distribution of growth rates of wealth between age 65 and 66 (=25 + 41)\n",
    "from matplotlib import pyplot as plt\n",
    "\n",
    "n, bins, patches = plt.hist(aGro41NoU, 50, density=True)"
   ]
  }
 ],
 "metadata": {
  "jupytext": {
   "cell_metadata_filter": "collapsed,code_folding",
   "formats": "ipynb,py:percent",
   "notebook_metadata_filter": "all"
  },
  "kernelspec": {
   "display_name": "Python 3 (ipykernel)",
   "language": "python",
   "name": "python3"
  },
  "language_info": {
   "codemirror_mode": {
    "name": "ipython",
    "version": 3
   },
   "file_extension": ".py",
   "mimetype": "text/x-python",
   "name": "python",
   "nbconvert_exporter": "python",
   "pygments_lexer": "ipython3",
   "version": "3.10.14"
  }
 },
 "nbformat": 4,
 "nbformat_minor": 4
}
