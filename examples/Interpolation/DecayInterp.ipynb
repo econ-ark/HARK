{
 "cells": [
  {
   "cell_type": "markdown",
   "id": "cbe149d9",
   "metadata": {},
   "source": [
    "# Interpolators with \"decay\" in HARK\n",
    "\n",
    "## Preliminaries\n",
    "\n",
    "Suppose we have an interpolator $f(\\cdot):\\mathbb{R}^n\\rightarrow \\mathbb{R}$ that is set up over a cartesian grid. Denote the greatest points of the i-th dimension grid with $\\bar{x}_i$. Suppose we have some limiting function $g(\\cdot): \\mathbb{R}^n\\rightarrow \\mathbb{R}$ and we want to construct some enhanced function $h(\\cdot):\\mathbb{R}^n\\rightarrow \\mathbb{R}$ such that:\n",
    "- $h(x) = f(x)$ when $x$ falls inside of the limits of $f$'s grids, that is $x_i \\leq \\bar{x}_i$ $\\forall i=1,...,n$.\n",
    "- $h(x)\\rightarrow g(x)$ when $x\\rightarrow\\infty$ in any of its dimensions.\n",
    "\n",
    "We might want to construct such functions if we are worried about the performance of our interpolator $f(\\cdot)$ when approximating values that fall far-off its grid. As demonstrated in Section 5.10 of [\"Solution Methods for Microeconomic Dynamic Stochastic Optimization Problems\"](https://llorracc.github.io/SolvingMicroDSOPs/) this situation arises when approximating the solution of consumption-saving problems: extrapolated solutions can have characteristics that are at odds with the basic theoretical properties of our problems. Fortunately, it is often possible to analytically solve the limiting version of these problems---for instance a version of a consumption-saving problem where wealth is infinitely larger than income---and to use these analytical solutions $g(\\cdot)$ to moderate the extrapolating behavior of our numerical solutions.\n",
    "\n",
    "This notebook exemplifies the use of HARK's `econforgeinterp.DecayInterp` class, which implements n-dimensional interpolators that assymptotically approach a given analytical function off their grids."
   ]
  },
  {
   "cell_type": "code",
   "execution_count": null,
   "id": "c3752a13",
   "metadata": {},
   "outputs": [],
   "source": [
    "# Setup\n",
    "import numpy as np\n",
    "import matplotlib.pyplot as plt\n",
    "from HARK.econforgeinterp import LinearFast, DecayInterp\n",
    "from HARK.interpolation import LinearInterp"
   ]
  },
  {
   "cell_type": "markdown",
   "id": "45640216",
   "metadata": {},
   "source": [
    "## Basic use of the `DecayInterp` class\n",
    "\n",
    "`DecayInterp` requires two basic inputs:\n",
    "- `interp`, which is the interpolator $f(\\cdot)$. It must be an instance of the `HARK.econforgeinterp.LinearFast` class.\n",
    "- `limit_fun`, which is the limiting function $g(\\cdot)$. It must receive the same number of inputs as `interp` and be able to take `numpy` arrays as inputs.\n",
    "\n",
    "And that's it!\n",
    "\n",
    "### An example with a 2D function\n",
    "\n",
    "Imagine an \"$h(\\cdot)$\" type of function of two dimensions for which:\n",
    "- $f(x,y) = 2*x + y$.\n",
    "- $g(x,y) = \\sqrt{x} + \\sin(y)$.\n",
    "The following cell creates a `DecayInterp` object representing such function."
   ]
  },
  {
   "cell_type": "code",
   "execution_count": null,
   "id": "044969e0",
   "metadata": {},
   "outputs": [],
   "source": [
    "# Construct the interpolator\n",
    "\n",
    "# Grids\n",
    "x_grid = np.linspace(0, 10, 11)\n",
    "y_grid = np.linspace(0, 10, 11)\n",
    "x, y = np.meshgrid(x_grid, y_grid, indexing=\"ij\")\n",
    "# Function value\n",
    "z = 2 * x + y\n",
    "# Create interpolator\n",
    "interp = LinearFast(z, [x_grid, y_grid])\n",
    "\n",
    "# Limit function\n",
    "lim_fun = lambda x, y: np.sqrt(x) - np.sin(y)\n",
    "\n",
    "# Construct the interpolator with decay extrapolation (h function)\n",
    "my_decay_interp = DecayInterp(\n",
    "    interp=interp,\n",
    "    limit_fun=lim_fun,\n",
    ")"
   ]
  },
  {
   "cell_type": "markdown",
   "id": "002450b0",
   "metadata": {},
   "source": [
    "The following cell plots the function."
   ]
  },
  {
   "cell_type": "code",
   "execution_count": null,
   "id": "99a79b39",
   "metadata": {},
   "outputs": [],
   "source": [
    "# Create some points to evaluate the function\n",
    "x_ev, y_ev = np.meshgrid(\n",
    "    np.linspace(5, 30, 100),\n",
    "    np.linspace(5, 30, 100),\n",
    "    indexing=\"ij\",\n",
    ")\n",
    "\n",
    "# Plot\n",
    "fig, ax = plt.subplots(subplot_kw={\"projection\": \"3d\"})\n",
    "ax.plot_surface(x_ev, y_ev, my_decay_interp(x_ev, y_ev))\n",
    "plt.show()"
   ]
  },
  {
   "cell_type": "markdown",
   "id": "49c31d89",
   "metadata": {},
   "source": [
    "Notice that the cell above defined $10$ as the greatest gridpoint in both dimensions $x$ and $y$. Therrefore, our plot should look like $2*x + y$ in the square $[0,10]^2$, and drift towards $\\sqrt{x} + \\sin(y)$ continuously when $x > 10$ or $y > 10$.\n",
    "\n",
    "This is indeed the case, but there is a 'kink' that occurs along the $x=10$ and $y=10$ lines: the change in the behavior of the function is abrupt, and we might not want that depending on our application. If we want to avoid this sort of behavior, or control what happens in points that are outside the interpolator's grid but close to it, we have to tinker with the way in which we combine the $f(\\cdot)$ and $g(\\cdot)$ functions. `DecayInterp` refers to the way in which it combines the functions as its `decay_method`.\n",
    "\n",
    "The class currently has three different decay methods:\n",
    "- \"`decay_prop`\", the default.\n",
    "- \"`decay_hark`\", which matches `HARK.interpolation.LinearInterp`'s decay method in the 1D case.\n",
    "- \"`paste`\".\n",
    "\n",
    "We now explain each method."
   ]
  },
  {
   "cell_type": "markdown",
   "id": "0b60b42b",
   "metadata": {},
   "source": [
    "## `decay_method==\"decay_prop\"`\n",
    "\n",
    "Imagine some $x$ that its outside of $f$'s grid in at least one dimension, that is, $\\exists i\\,\\, x_i > \\bar{x}_i$. Denote with $\\tilde{x}$ the point in $\\mathbb{R}^n$ that is inside the grid of $f$ and is closest to $x$; note that $\\tilde{x} = \\min\\{x, \\bar{x}\\}$ with the minimum taken element-wise.\n",
    "\n",
    "When `decay_method==\"decay_prop\"`, `DecayInterp` calculates a standardized distance between $x$ and $\\tilde{x}$ as $$d(x, \\tilde{x}) = \\sum_{i=1}^n \\left|  \\frac{x_i - \\tilde{x}_i}{\\bar{x}_i} \\right|$$ and uses it to compute the combination between the extrapolated value $f(x)$ and the limit value $g(x)$ as\n",
    "\n",
    "\\begin{equation}\n",
    "h(x) = e^{-d(x,\\tilde{x})} \\times f(x) + (1 - e^{-d(x,\\tilde{x})}) \\times g(x)\n",
    "\\end{equation}\n",
    "\n",
    "Notice that $f(x)$ is extrapolated using the provided interpolator. It's behavior will depend on the extrapolation options of the object you provide."
   ]
  },
  {
   "cell_type": "markdown",
   "id": "10f7af87",
   "metadata": {},
   "source": [
    "## `decay_method==\"decay_hark\"`\n",
    "\n",
    "The method `\"decay_hark\"` is an N-dimensional generalization of the method used by HARK's 1D linear interpolators (`HARK.interpolation.LinearInterp`) when a limiting function is provided. This method tries to preserve the rate at which the approximated function $f(\\cdot)$ approaches the limiting function $g(\\cdot)$ when the edge of the grid is reached.\n",
    "\n",
    "To explain this method intuitively, start with a one-dimensional case. Let $\\bar{x}$ be the largest girdpoint and consider some $x>\\bar{x}$.\n",
    "\n",
    "We want the distance between functions $h(\\cdot)$ and $g(\\cdot)$ to close at a constant rate as we move along $x$. Calling that constant rate $K$ for now, this requirement can be expressed as\n",
    "\\begin{equation}\n",
    "    \\frac{d (g(x) - h(x))/d x}{g(x) - h(x)} = K.\n",
    "\\end{equation}\n",
    "This is a simple differential equation with a known family of solutions of a form that we can express as\n",
    "\\begin{equation}\n",
    "    g(x) - h(x) = A e^{K\\times(x - \\bar{x})}\n",
    "\\end{equation}\n",
    "for any constant A.\n",
    "\n",
    "Now we can obtain $A$ and $K$ from the restrictions we want to impose on our particular solution. First, we want $h(\\bar{x})=f(\\bar{x})$ so that there is no jump at the edge of the grid. This implies $$A = g(\\bar{x}) - f(\\bar{x}).$$\n",
    "\n",
    "Finally, we want the rate of closing of the difference between the functions to be the same that it was exactly at the edge of the grid. That is\n",
    "\\begin{equation*}\n",
    "    K = \\left.\\frac{d (g(x) - f(x))/d x}{g(x) - f(x)}\\right|_{x=\\bar{x}} = \\frac{g'(\\bar{x}) - f'(\\bar{x})}{g(\\bar{x}) - f(\\bar{x})}\n",
    "\\end{equation*}\n",
    "\n",
    "Putting everything together, we have\n",
    "\\begin{equation*}\n",
    "    h(x) = g(x) - A\\times e^{K\\times(x - \\bar{x})},\\qquad A = g(\\bar{x}) - f(\\bar{x}) ,\\qquad K = \\frac{g'(\\bar{x}) - f'(\\bar{x})}{g(\\bar{x}) - f(\\bar{x})}\n",
    "\\end{equation*}\n",
    "\n",
    "To ensure that $h(x)\\rightarrow g(x)$ as $x\\rightarrow\\infty$, $K$ must be negative in the above expression, so we replace $K$ with $-|K|$.\n",
    "\n",
    "The muliti-dimensional version of this interpolator simply replaces the expression for $K$ above with\n",
    "\\begin{equation*}\n",
    "    K=\\frac{1}{g(\\bar{x}) - f(\\bar{x})}\\times(\\nabla g(\\bar{x}) - \\nabla f(\\bar{x})).\n",
    "\\end{equation*}"
   ]
  },
  {
   "cell_type": "markdown",
   "id": "4cbd2ddb",
   "metadata": {},
   "source": [
    "## `decay_method==\"paste\"`\n",
    "\n",
    "The option `decay_method==\"paste\"` is different from the other two in the sense that it does not enforce $h(x)\\rightarrow g(x)$ when $x\\rightarrow\\infty$. Instead, it \"pastes\" $g(\\cdot)$ on top of $f(\\cdot)$ so that, when extrapolating $h$ behaves like $g$ with a level shift that makes it coincide with $f$ at the edge of the grid. This is useful if we know that our function behaves like $g(\\cdot)$ in the limit in its derivatives, but might not exactly coincide in levels.\n",
    "\n",
    "Imagine some $x$ that its outside of $f$'s grid in at least one dimension, that is, $\\exists i\\,\\, x_i > \\bar{x}_i$. Denote with $\\tilde{x}$ the point in $\\mathbb{R}^n$ that is inside the grid of $f$ and is closest to $x$; note that $\\tilde{x} = \\min\\{x, \\bar{x}\\}$ with the minimum taken element-wise. `DecayInterp` will return\n",
    "\n",
    "$$\n",
    "h(x) = g(x) + (f(\\bar{x}) - g(\\bar{x})).\n",
    "$$"
   ]
  },
  {
   "cell_type": "markdown",
   "id": "aeb85d2a",
   "metadata": {},
   "source": [
    "## An ilustration of the different \"decay methods\""
   ]
  },
  {
   "cell_type": "code",
   "execution_count": null,
   "id": "4cf2e372",
   "metadata": {},
   "outputs": [],
   "source": [
    "# Compare decay methods\n",
    "\n",
    "x = np.linspace(0, 1, 20)\n",
    "interp = LinearFast(np.sqrt(x), [x])\n",
    "limit_fun = lambda x: 1 + 0.3 * x\n",
    "limit_grad = lambda x: [0.3 * np.ones_like(x)]\n",
    "\n",
    "dec_pr = DecayInterp(\n",
    "    interp,\n",
    "    limit_fun=limit_fun,\n",
    "    limit_grad=limit_grad,\n",
    "    extrap_method=\"decay_prop\",\n",
    ")\n",
    "\n",
    "dec_pa = DecayInterp(\n",
    "    interp,\n",
    "    limit_fun=limit_fun,\n",
    "    limit_grad=limit_grad,\n",
    "    extrap_method=\"paste\",\n",
    ")\n",
    "\n",
    "dec_ha = DecayInterp(\n",
    "    interp,\n",
    "    limit_fun=limit_fun,\n",
    "    limit_grad=limit_grad,\n",
    "    extrap_method=\"decay_hark\",\n",
    ")\n",
    "\n",
    "x_ev = np.linspace(0, 2, 200)\n",
    "\n",
    "plt.figure()\n",
    "plt.plot(x_ev, dec_pr(x_ev), label=\"prop\")\n",
    "plt.plot(x_ev, dec_pa(x_ev), label=\"paste\")\n",
    "plt.plot(x_ev, dec_ha(x_ev), label=\"decay_hark\")\n",
    "plt.plot(x_ev, limit_fun(x_ev), \"--\", label=\"limit\")\n",
    "plt.legend()\n",
    "plt.show()"
   ]
  },
  {
   "cell_type": "markdown",
   "id": "5a91abe9",
   "metadata": {},
   "source": [
    "## Comparing `econforge.DecayInterp` with `interpolation.LinearInterp`"
   ]
  },
  {
   "cell_type": "code",
   "execution_count": null,
   "id": "8fbdf9ed",
   "metadata": {},
   "outputs": [],
   "source": [
    "# Compare with base HARK\n",
    "lim_slope = 0.3\n",
    "lim_inter = 1.0\n",
    "\n",
    "# Irregular grid\n",
    "x = np.linspace(0, 1, 50)\n",
    "y = np.sqrt(x)\n",
    "\n",
    "# Hark's base implementation\n",
    "base_lim_interp = LinearInterp(x, y, intercept_limit=lim_inter, slope_limit=lim_slope)\n",
    "\n",
    "# New implementation\n",
    "efor_lim_interp = DecayInterp(\n",
    "    LinearFast(y, [x]),\n",
    "    limit_fun=lambda x: lim_inter + lim_slope * x,\n",
    "    limit_grad=lambda x: [lim_slope * np.ones_like(x)],\n",
    "    extrap_method=\"decay_hark\",\n",
    ")\n",
    "\n",
    "# Evaluate them\n",
    "x_eval = np.linspace(0, 2, 50)\n",
    "base_vals = base_lim_interp(x_eval)\n",
    "efor_vals = efor_lim_interp(x_eval)\n",
    "\n",
    "# Plot and compare\n",
    "plt.figure()\n",
    "plt.plot(x_eval, base_vals, label=\"base\")\n",
    "plt.plot(x_eval, efor_vals, \".\", label=\"efor\")\n",
    "plt.plot(x_eval, lim_inter + x_eval * lim_slope, \"--r\", label=\"limit\")\n",
    "plt.legend()\n",
    "plt.show()"
   ]
  }
 ],
 "metadata": {
  "jupytext": {
   "formats": "ipynb,py:percent"
  },
  "kernelspec": {
   "display_name": "Python 3 (ipykernel)",
   "language": "python",
   "name": "python3"
  },
  "language_info": {
   "codemirror_mode": {
    "name": "ipython",
    "version": 3
   },
   "file_extension": ".py",
   "mimetype": "text/x-python",
   "name": "python",
   "nbconvert_exporter": "python",
   "pygments_lexer": "ipython3",
   "version": "3.10.12"
  },
  "latex_envs": {
   "LaTeX_envs_menu_present": true,
   "autoclose": false,
   "autocomplete": true,
   "bibliofile": "biblio.bib",
   "cite_by": "apalike",
   "current_citInitial": 1,
   "eqLabelWithNumbers": true,
   "eqNumInitial": 1,
   "hotkeys": {
    "equation": "Ctrl-E",
    "itemize": "Ctrl-I"
   },
   "labels_anchors": false,
   "latex_user_defs": false,
   "report_style_numbering": false,
   "user_envs_cfg": false
  },
  "vscode": {
   "interpreter": {
    "hash": "e27fcdd3c9059c83cffd3539a848d5627b33a9d12e2ceb15b055e5d6764f9e32"
   }
  }
 },
 "nbformat": 4,
 "nbformat_minor": 5
}
