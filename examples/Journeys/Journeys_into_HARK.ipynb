{
 "cells": [
  {
   "cell_type": "markdown",
   "metadata": {},
   "source": [
    "Journeys into HARK\n",
    "======\n",
    "\n",
    "HARK is a tool designed for many types of users. Consequently, the ways how it can be learned are different depending on your knowledge about the structural modeling in economics, object oriented programing and economic modeling in general. Thus here we propose a few \"journeys\" which are intended to match your experience:\n"
   ]
  },
  {
   "cell_type": "markdown",
   "metadata": {},
   "source": [
    "## [1st year PhD student's track](../notebooks/Journey_1_PhD.ipynb)\n",
    "You have some knowledge in economic theory and structural modeling but you are not an expert in programing, in particular projects built in object-oriented programing paradigma. Therefore, this journey put a special effort to discuss how to create, solve and simulate HARK objects, not requiring a special skill in programming.  \n"
   ]
  },
  {
   "cell_type": "markdown",
   "metadata": {},
   "source": [
    "## Engineer's track\n",
    "\n",
    "You are familiar with numerical simulations as well as object oriented programming and Python. However, you do not work (much) with economic problems. Thus we propose you a quick tutorials to get used to the models and the basic classes of HARK\n"
   ]
  },
  {
   "cell_type": "markdown",
   "metadata": {},
   "source": [
    "## Lecturer's track\n",
    "You want to use HARK during your classes. We propose you a quick tutorials to get used to the models and the basic classes of HARK. "
   ]
  },
  {
   "cell_type": "code",
   "execution_count": null,
   "metadata": {},
   "outputs": [],
   "source": []
  }
 ],
 "metadata": {
  "kernelspec": {
   "display_name": "Python 3",
   "language": "python",
   "name": "python3"
  },
  "language_info": {
   "codemirror_mode": {
    "name": "ipython",
    "version": 3
   },
   "file_extension": ".py",
   "mimetype": "text/x-python",
   "name": "python",
   "nbconvert_exporter": "python",
   "pygments_lexer": "ipython3",
   "version": "3.7.3"
  }
 },
 "nbformat": 4,
 "nbformat_minor": 2
}
