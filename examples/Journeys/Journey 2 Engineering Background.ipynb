{
 "cells": [
  {
   "cell_type": "markdown",
   "metadata": {},
   "source": [
    "# Journey 2: Engineering background\n",
    "\n",
    "This is a second of the possible journeys into HARK - the Python package designed to solve economic models with the heterogeneous agents. As it is a \"journey\", it is not a one big tutorial, but a set of the links to the notebooks/other resources which will help you understand the different HARK objects and functionalities.\n",
    "\n",
    "This notebook was designed for users with some skill in programming. It does not require any knowledge of the economic theory - we are going to give you a very basic examples (which cannot substitute the macroeconomic textbooks if you want to learn theory more systematically, here we give you same examples: ) \n"
   ]
  },
  {
   "cell_type": "markdown",
   "metadata": {},
   "source": [
    "## Microeconomic agent-type problems\n",
    "\n",
    "In the economic analysis, one of the most used problems are \"consumers problems\" which are designed to model the consumer choices. In this class of problems consumers need to find the optimal set of goods given her resources. In the basic formulation of the problem there is only one good but can be consumed in different time periods (let us denote it by $C_t$, where $0\\leq t\\leq T\\leq \\infty$ denotes periods). Consumer receives some resources $w_t$ (think wages), which she can invest with interest rate $R$ (denote the investments by $A_t$) or consume. The utility of the consumption in the period $t=0$ is given by function $U()$, for the next periods it is given by the function $\\beta^t U ()$ as consumer prefer consumption now then in the future, $\\beta<1$. The consumption problem can be then formalize by the maximization problem:\n",
    "\n",
    "\\begin{eqnarray*}\n",
    " \\max_{C_t}&  \\sum_{t=0}^T \\beta^t U(C_t)\n",
    "\\end{eqnarray*}\n",
    "\n",
    "With the condition in each t:\n",
    "\\begin{eqnarray*}\n",
    "C_t + A_{t+1} = w_t+RA_t \n",
    "\\end{eqnarray*}\n",
    "\n",
    "U is typically assumed to be a constant risk aversion function:\n",
    "$$\n",
    "U(C)=\\frac{C^{1-\\rho}}{1-\\rho}\n",
    "$$\n",
    "\n",
    "As you see, the following problem enables to analyze the consumer's saving decisions. Obviously, the complexity of the problem depends on the $w_t$, if it is deterministic it is much easier to track down than in case if $w_t$ is given by a stochastic process. \n",
    "\n",
    "|Number | Tutorial | Description|\n",
    "| :---- |  :---- |  :---- |\n",
    "|1 |[Gentle_intro_I](../notebooks/Quickstart_tutorial/Gentle-Intro-To-HARK-PerfForesightCRRA.ipynb) |Here is your first tutorial in HARK, to solve the case when $w_t$ is deterministic|\n",
    "|2 |[Gentle_intro_II](../notebooks/Gentle-Intro-To-HARK-Buffer-Stock-Model.ipynb) |The notebook concerning the case when $w_t$ follows the idiosyncratic AR process| \n",
    "|3|[Chinese-Growth](../notebooks/Chinese-Growth.ipynb.ipynb)|The third notebook concern the case when $w_t$|\n",
    "\n",
    "\n",
    "O\n"
   ]
  },
  {
   "cell_type": "code",
   "execution_count": null,
   "metadata": {},
   "outputs": [],
   "source": []
  },
  {
   "cell_type": "code",
   "execution_count": null,
   "metadata": {},
   "outputs": [],
   "source": []
  }
 ],
 "metadata": {
  "kernelspec": {
   "display_name": "Python 3",
   "language": "python",
   "name": "python3"
  },
  "language_info": {
   "codemirror_mode": {
    "name": "ipython",
    "version": 3
   },
   "file_extension": ".py",
   "mimetype": "text/x-python",
   "name": "python",
   "nbconvert_exporter": "python",
   "pygments_lexer": "ipython3",
   "version": "3.7.5"
  },
  "latex_envs": {
   "LaTeX_envs_menu_present": true,
   "autoclose": false,
   "autocomplete": true,
   "bibliofile": "biblio.bib",
   "cite_by": "apalike",
   "current_citInitial": 1,
   "eqLabelWithNumbers": true,
   "eqNumInitial": 1,
   "hotkeys": {
    "equation": "Ctrl-E",
    "itemize": "Ctrl-I"
   },
   "labels_anchors": false,
   "latex_user_defs": false,
   "report_style_numbering": false,
   "user_envs_cfg": false
  },
  "toc": {
   "base_numbering": 1,
   "nav_menu": {},
   "number_sections": true,
   "sideBar": true,
   "skip_h1_title": false,
   "title_cell": "Table of Contents",
   "title_sidebar": "Contents",
   "toc_cell": false,
   "toc_position": {},
   "toc_section_display": true,
   "toc_window_display": false
  }
 },
 "nbformat": 4,
 "nbformat_minor": 2
}
