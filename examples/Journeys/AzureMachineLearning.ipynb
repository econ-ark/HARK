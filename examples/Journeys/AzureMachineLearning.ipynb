{
 "cells": [
  {
   "cell_type": "markdown",
   "metadata": {},
   "source": [
    "# [Azure Machine Learning](https://docs.microsoft.com/en-us/azure/machine-learning/)"
   ]
  },
  {
   "cell_type": "markdown",
   "metadata": {},
   "source": [
    "## [Quickstart: Create workspace resources you need to get started with Azure Machine Learning](https://docs.microsoft.com/en-us/azure/machine-learning/quickstart-create-resources)\n",
    "\n",
    "1. Create an azure account -- [Github Student developer pack](https://education.github.com/pack) provides free account with $100 credit\n",
    "2. Follow [\"Create the workspace\"](https://docs.microsoft.com/en-us/azure/machine-learning/quickstart-create-resources#create-the-workspace) to start a Azure Machine Learning Studio\n",
    "3. Follow [\"Create compute instance\"](https://docs.microsoft.com/en-us/azure/machine-learning/quickstart-create-resources#instance) to create 2 compute instances (don't use the defaults!). Here, you can create a 1-core (Standard_DS1_v2 (1 cores, 3.5 GB RAM, 7 GB disk) and a 4-core (Standard_DS3_v2 (4 cores, 14 GB RAM, 28 GB disk) instance."
   ]
  },
  {
   "cell_type": "markdown",
   "metadata": {
    "pycharm": {
     "name": "#%% md\n"
    }
   },
   "source": [
    "## Jupyter notebooks on Azure\n",
    "\n",
    "1. Download this notebook as a `.ipynb` file to your PC.\n",
    "2. On the home of Microsoft Azure Machine Learning Studio, you will see a panel with `Notebooks`. Click on `Start now`.\n",
    "3. Click on `Terminal` and type `pip install git+https://github.com/econ-ark/HARK.git` on both computes. You can switch computes on the top right part of the window.\n",
    "4. Close and terminate the terminals.\n",
    "5. Click on `+ Create` and `Upload files`. Upload this notebook.\n",
    "6. Make sure the kernel is set to `Python 3.8 AzureML` on upper right corner next to compute.\n",
    "\n",
    "Now, you should be able to run this notebook on either compute (switch computes on top right again) and test out the differences in computational resources. When you run into an issue on your desktop computer or laptop, you can take advantage of cloud computing resources."
   ]
  },
  {
   "cell_type": "markdown",
   "metadata": {},
   "source": [
    "# IndShockConsumerTypeFast Documentation\n",
    "## Consumption-Saving model with Idiosyncratic Income Shocks"
   ]
  },
  {
   "cell_type": "code",
   "execution_count": 1,
   "metadata": {
    "collapsed": false,
    "execution": {
     "iopub.execute_input": "2023-02-07T00:51:16.113342Z",
     "iopub.status.busy": "2023-02-07T00:51:16.112342Z",
     "iopub.status.idle": "2023-02-07T00:51:18.041308Z",
     "shell.execute_reply": "2023-02-07T00:51:18.040804Z"
    },
    "jupyter": {
     "outputs_hidden": false
    },
    "pycharm": {
     "name": "#%%\n"
    }
   },
   "outputs": [],
   "source": [
    "import matplotlib.pyplot as plt\n",
    "import numpy as np\n",
    "\n",
    "# Initial imports and notebook setup, click arrow to show\n",
    "from HARK.ConsumptionSaving.ConsIndShockModelFast import IndShockConsumerTypeFast\n",
    "from HARK.utilities import plot_funcs_der, plot_funcs\n",
    "\n",
    "mystr = lambda number: \"{:.4f}\".format(number)"
   ]
  },
  {
   "cell_type": "markdown",
   "metadata": {},
   "source": [
    "The module `HARK.ConsumptionSaving.ConsIndShockModelFast` concerns consumption-saving models with idiosyncratic shocks to (non-capital) income.  All of the models assume CRRA utility with geometric discounting, no bequest motive, and income shocks are fully transitory or fully permanent.\n",
    "\n",
    "$\\newcommand{\\CRRA}{\\rho}$\n",
    "$\\newcommand{\\DiePrb}{\\mathsf{D}}$\n",
    "$\\newcommand{\\PermGroFac}{\\Gamma}$\n",
    "$\\newcommand{\\Rfree}{\\mathsf{R}}$\n",
    "$\\newcommand{\\DiscFac}{\\beta}$"
   ]
  },
  {
   "cell_type": "markdown",
   "metadata": {},
   "source": [
    "## Statement of idiosyncratic income shocks model\n",
    "\n",
    "Suppose we want to solve a model like the one analyzed in [BufferStockTheory](http://www.econ2.jhu.edu/people/ccarroll/papers/BufferStockTheory/), which has all the same features as the perfect foresight consumer, plus idiosyncratic shocks to income each period.  Agents with this kind of model are represented by the class `IndShockConsumerTypeFast`.\n",
    "\n",
    "Specifically, this type of consumer receives two income shocks at the beginning of each period: a completely transitory shock $\\newcommand{\\tShkEmp}{\\theta}{\\tShkEmp_t}$ and a completely permanent shock $\\newcommand{\\pShk}{\\psi}{\\pShk_t}$.  Moreover, the agent is subject to borrowing a borrowing limit: the ratio of end-of-period assets $A_t$ to permanent income $P_t$ must be greater than $\\underline{a}$.  As with the perfect foresight problem, this model is stated in terms of *normalized* variables, dividing all real variables by $P_t$:\n",
    "\n",
    "\\begin{eqnarray*}\n",
    "v_t(m_t) &=& \\max_{c_t} {~} u(c_t) + \\DiscFac (1-\\DiePrb_{t+1})  \\mathbb{E}_{t} \\left[ (\\PermGroFac_{t+1}\\psi_{t+1})^{1-\\CRRA} v_{t+1}(m_{t+1}) \\right], \\\\\n",
    "a_t &=& m_t - c_t, \\\\\n",
    "a_t &\\geq& \\text{$\\underline{a}$}, \\\\\n",
    "m_{t+1} &=& \\Rfree/(\\PermGroFac_{t+1} \\psi_{t+1}) a_t + \\theta_{t+1}, \\\\\n",
    "(\\psi_{t+1},\\theta_{t+1}) &\\sim& F_{t+1}, \\\\\n",
    "\\mathbb{E}[\\psi]=\\mathbb{E}[\\theta] &=& 1, \\\\\n",
    "u(c) &=& \\frac{c^{1-\\rho}}{1-\\rho}.\n",
    "\\end{eqnarray*}"
   ]
  },
  {
   "cell_type": "markdown",
   "metadata": {},
   "source": [
    "## Solving and examining the solution of the idiosyncratic income shocks model\n",
    "\n",
    "The cell below creates an infinite horizon instance of `IndShockConsumerTypeFast` and solves its model by calling its `solve` method."
   ]
  },
  {
   "cell_type": "code",
   "execution_count": 2,
   "metadata": {
    "collapsed": false,
    "execution": {
     "iopub.execute_input": "2023-02-07T00:51:18.043313Z",
     "iopub.status.busy": "2023-02-07T00:51:18.043313Z",
     "iopub.status.idle": "2023-02-07T00:51:25.785832Z",
     "shell.execute_reply": "2023-02-07T00:51:25.785832Z"
    },
    "jupyter": {
     "outputs_hidden": false
    },
    "pycharm": {
     "name": "#%%\n"
    }
   },
   "outputs": [
    {
     "name": "stderr",
     "output_type": "stream",
     "text": [
      "GPFRaw                 = 0.984539 \n"
     ]
    },
    {
     "name": "stderr",
     "output_type": "stream",
     "text": [
      "GPFNrm                 = 0.993777 \n"
     ]
    },
    {
     "name": "stderr",
     "output_type": "stream",
     "text": [
      "GPFAggLivPrb           = 0.964848 \n"
     ]
    },
    {
     "name": "stderr",
     "output_type": "stream",
     "text": [
      "Thorn = APF            = 0.994384 \n"
     ]
    },
    {
     "name": "stderr",
     "output_type": "stream",
     "text": [
      "PermGroFacAdj          = 1.000611 \n"
     ]
    },
    {
     "name": "stderr",
     "output_type": "stream",
     "text": [
      "uInvEpShkuInv          = 0.990704 \n"
     ]
    },
    {
     "name": "stderr",
     "output_type": "stream",
     "text": [
      "VAF                    = 0.932054 \n"
     ]
    },
    {
     "name": "stderr",
     "output_type": "stream",
     "text": [
      "WRPF                   = 0.213705 \n"
     ]
    },
    {
     "name": "stderr",
     "output_type": "stream",
     "text": [
      "DiscFacGPFNrmMax       = 0.972061 \n"
     ]
    },
    {
     "name": "stderr",
     "output_type": "stream",
     "text": [
      "DiscFacGPFAggLivPrbMax = 1.010600 \n"
     ]
    },
    {
     "name": "stdout",
     "output_type": "stream",
     "text": [
      "CPU times: total: 9 s\n",
      "Wall time: 7.28 s\n"
     ]
    }
   ],
   "source": [
    "IndShockExample = IndShockConsumerTypeFast()\n",
    "IndShockExample.cycles = 0  # Make this type have an infinite horizon\n",
    "%time IndShockExample.solve()"
   ]
  },
  {
   "cell_type": "markdown",
   "metadata": {},
   "source": [
    "Because numba just-in-time compiles, we can see the effect of calling the solve method again on run-time."
   ]
  },
  {
   "cell_type": "code",
   "execution_count": 3,
   "metadata": {
    "collapsed": false,
    "execution": {
     "iopub.execute_input": "2023-02-07T00:51:25.787835Z",
     "iopub.status.busy": "2023-02-07T00:51:25.787835Z",
     "iopub.status.idle": "2023-02-07T00:51:25.864083Z",
     "shell.execute_reply": "2023-02-07T00:51:25.864083Z"
    },
    "jupyter": {
     "outputs_hidden": false
    },
    "pycharm": {
     "name": "#%%\n"
    }
   },
   "outputs": [
    {
     "name": "stderr",
     "output_type": "stream",
     "text": [
      "GPFRaw                 = 0.984539 \n"
     ]
    },
    {
     "name": "stderr",
     "output_type": "stream",
     "text": [
      "GPFNrm                 = 0.993777 \n"
     ]
    },
    {
     "name": "stderr",
     "output_type": "stream",
     "text": [
      "GPFAggLivPrb           = 0.964848 \n"
     ]
    },
    {
     "name": "stderr",
     "output_type": "stream",
     "text": [
      "Thorn = APF            = 0.994384 \n"
     ]
    },
    {
     "name": "stderr",
     "output_type": "stream",
     "text": [
      "PermGroFacAdj          = 1.000611 \n"
     ]
    },
    {
     "name": "stderr",
     "output_type": "stream",
     "text": [
      "uInvEpShkuInv          = 0.990704 \n"
     ]
    },
    {
     "name": "stderr",
     "output_type": "stream",
     "text": [
      "VAF                    = 0.932054 \n"
     ]
    },
    {
     "name": "stderr",
     "output_type": "stream",
     "text": [
      "WRPF                   = 0.213705 \n"
     ]
    },
    {
     "name": "stderr",
     "output_type": "stream",
     "text": [
      "DiscFacGPFNrmMax       = 0.972061 \n"
     ]
    },
    {
     "name": "stderr",
     "output_type": "stream",
     "text": [
      "DiscFacGPFAggLivPrbMax = 1.010600 \n"
     ]
    },
    {
     "name": "stdout",
     "output_type": "stream",
     "text": [
      "CPU times: total: 1.22 s\n",
      "Wall time: 70.2 ms\n"
     ]
    }
   ],
   "source": [
    "%time IndShockExample.solve()"
   ]
  },
  {
   "cell_type": "markdown",
   "metadata": {},
   "source": [
    "After solving the model, we can examine an element of this type's $\\texttt{solution}$:"
   ]
  },
  {
   "cell_type": "code",
   "execution_count": 4,
   "metadata": {
    "collapsed": false,
    "execution": {
     "iopub.execute_input": "2023-02-07T00:51:25.866083Z",
     "iopub.status.busy": "2023-02-07T00:51:25.866083Z",
     "iopub.status.idle": "2023-02-07T00:51:25.879620Z",
     "shell.execute_reply": "2023-02-07T00:51:25.879620Z"
    },
    "jupyter": {
     "outputs_hidden": false
    },
    "pycharm": {
     "name": "#%%\n"
    }
   },
   "outputs": [
    {
     "name": "stdout",
     "output_type": "stream",
     "text": [
      "{'cFunc': <HARK.interpolation.LowerEnvelope object at 0x000001A2870A6BB0>, 'vFunc': <HARK.utilities.NullFunc object at 0x000001A287234C70>, 'vPfunc': <HARK.interpolation.MargValueFuncCRRA object at 0x000001A2870C1400>, 'vPPfunc': <HARK.utilities.NullFunc object at 0x000001A287234970>, 'mNrmMin': 0.0, 'hNrm': 44.991920196607595, 'MPCmin': 0.044536273404377116, 'MPCmax': 1.0}\n"
     ]
    }
   ],
   "source": [
    "print(vars(IndShockExample.solution[0]))"
   ]
  },
  {
   "cell_type": "markdown",
   "metadata": {},
   "source": [
    "The single-period solution to an idiosyncratic shocks consumer's problem has all of the same attributes as in the perfect foresight model, with a couple additions.  The solution can include the marginal marginal value of market resources function $\\texttt{vPPfunc}$, but this is only constructed if $\\texttt{CubicBool}$ is `True`, so that the MPC can be accurately computed; when it is `False`, then $\\texttt{vPPfunc}$ merely returns `NaN` everywhere.\n",
    "\n",
    "The `solveConsIndShock` function calculates steady state market resources and stores it in the attribute $\\texttt{mNrmSS}$.  This represents the steady state level of $m_t$ if *this period* were to occur indefinitely, but with income shocks turned off.  This is relevant in a \"one period infinite horizon\" model like we've specified here, but is less useful in a lifecycle model.\n",
    "\n",
    "Let's take a look at the consumption function by plotting it, along with its derivative (the MPC):"
   ]
  },
  {
   "cell_type": "code",
   "execution_count": 5,
   "metadata": {
    "collapsed": false,
    "execution": {
     "iopub.execute_input": "2023-02-07T00:51:25.882136Z",
     "iopub.status.busy": "2023-02-07T00:51:25.882136Z",
     "iopub.status.idle": "2023-02-07T00:51:26.052593Z",
     "shell.execute_reply": "2023-02-07T00:51:26.052593Z"
    },
    "jupyter": {
     "outputs_hidden": false
    },
    "pycharm": {
     "name": "#%%\n"
    }
   },
   "outputs": [
    {
     "name": "stdout",
     "output_type": "stream",
     "text": [
      "Consumption function for an idiosyncratic shocks consumer type:\n"
     ]
    },
    {
     "data": {
      "image/png": "[encoded data removed]",
      "text/plain": [
       "<Figure size 640x480 with 1 Axes>"
      ]
     },
     "metadata": {},
     "output_type": "display_data"
    },
    {
     "name": "stdout",
     "output_type": "stream",
     "text": [
      "Marginal propensity to consume for an idiosyncratic shocks consumer type:\n"
     ]
    },
    {
     "data": {
      "image/png": "[encoded data removed]",
      "text/plain": [
       "<Figure size 640x480 with 1 Axes>"
      ]
     },
     "metadata": {},
     "output_type": "display_data"
    }
   ],
   "source": [
    "print(\"Consumption function for an idiosyncratic shocks consumer type:\")\n",
    "plot_funcs(IndShockExample.solution[0].cFunc, IndShockExample.solution[0].mNrmMin, 5)\n",
    "print(\"Marginal propensity to consume for an idiosyncratic shocks consumer type:\")\n",
    "plot_funcs_der(\n",
    "    IndShockExample.solution[0].cFunc, IndShockExample.solution[0].mNrmMin, 5\n",
    ")"
   ]
  },
  {
   "cell_type": "markdown",
   "metadata": {},
   "source": [
    "The lower part of the consumption function is linear with a slope of 1, representing the *constrained* part of the consumption function where the consumer *would like* to consume more by borrowing-- his marginal utility of consumption exceeds the marginal value of assets-- but he is prevented from doing so by the artificial borrowing constraint.\n",
    "\n",
    "The MPC is a step function, as the $\\texttt{cFunc}$ itself is a piecewise linear function; note the large jump in the MPC where the borrowing constraint begins to bind.\n",
    "\n",
    "If you want to look at the interpolation nodes for the consumption function, these can be found by \"digging into\" attributes of $\\texttt{cFunc}$:"
   ]
  },
  {
   "cell_type": "markdown",
   "metadata": {},
   "source": [
    "The consumption function in this model is an instance of `LowerEnvelope1D`, a class that takes an arbitrary number of 1D interpolants as arguments to its initialization method.  When called, a `LowerEnvelope1D` evaluates each of its component functions and returns the lowest value.  Here, the two component functions are the *unconstrained* consumption function-- how the agent would consume if the artificial borrowing constraint did not exist for *just this period*-- and the *borrowing constrained* consumption function-- how much he would consume if the artificial borrowing constraint is binding.\n",
    "\n",
    "The *actual* consumption function is the lower of these two functions, pointwise.  We can see this by plotting the component functions on the same figure:"
   ]
  },
  {
   "cell_type": "code",
   "execution_count": 6,
   "metadata": {
    "collapsed": false,
    "execution": {
     "iopub.execute_input": "2023-02-07T00:51:26.055597Z",
     "iopub.status.busy": "2023-02-07T00:51:26.054597Z",
     "iopub.status.idle": "2023-02-07T00:51:26.130246Z",
     "shell.execute_reply": "2023-02-07T00:51:26.130246Z"
    },
    "jupyter": {
     "outputs_hidden": false
    },
    "pycharm": {
     "name": "#%%\n"
    }
   },
   "outputs": [
    {
     "data": {
      "image/png": "[encoded data removed]",
      "text/plain": [
       "<Figure size 640x480 with 1 Axes>"
      ]
     },
     "metadata": {},
     "output_type": "display_data"
    }
   ],
   "source": [
    "plot_funcs(IndShockExample.solution[0].cFunc.functions, -0.25, 5.0)"
   ]
  },
  {
   "cell_type": "code",
   "execution_count": null,
   "metadata": {
    "collapsed": false,
    "jupyter": {
     "outputs_hidden": false
    },
    "pycharm": {
     "name": "#%%\n"
    }
   },
   "outputs": [],
   "source": []
  }
 ],
 "metadata": {
  "jupytext": {
   "cell_metadata_filter": "collapsed,code_folding,heading_collapsed,hidden,jupyter,pycharm",
   "cell_metadata_json": true,
   "formats": "ipynb,py:percent"
  },
  "kernelspec": {
   "display_name": "Python 3 (ipykernel)",
   "language": "python",
   "name": "python3"
  },
  "language_info": {
   "codemirror_mode": {
    "name": "ipython",
    "version": 3
   },
   "file_extension": ".py",
   "mimetype": "text/x-python",
   "name": "python",
   "nbconvert_exporter": "python",
   "pygments_lexer": "ipython3",
   "version": "3.9.16"
  }
 },
 "nbformat": 4,
 "nbformat_minor": 4
}
