{
 "cells": [
  {
   "cell_type": "code",
   "execution_count": null,
   "metadata": {},
   "outputs": [],
   "source": [
    "from HARK.ConsumptionSaving.ConsIndShockModel import (\n",
    "    PerfForesightConsumerType,\n",
    "    IndShockConsumerType,\n",
    "    KinkedRconsumerType,\n",
    "    init_lifecycle,\n",
    "    init_cyclical\n",
    ")\n",
    "from HARK.utilities import plot_funcs_der, plot_funcs\n",
    "from time import time"
   ]
  },
  {
   "cell_type": "code",
   "execution_count": null,
   "metadata": {
    "lines_to_next_cell": 2
   },
   "outputs": [],
   "source": [
    "mystr = lambda number: \"{:.4f}\".format(number)"
   ]
  },
  {
   "cell_type": "code",
   "execution_count": null,
   "metadata": {},
   "outputs": [],
   "source": [
    "do_simulation = True"
   ]
  },
  {
   "cell_type": "code",
   "execution_count": null,
   "metadata": {},
   "outputs": [],
   "source": [
    "# Make and solve an example perfect foresight consumer\n",
    "PFexample = PerfForesightConsumerType()\n",
    "# Make this type have an infinite horizon\n",
    "PFexample.cycles = 0"
   ]
  },
  {
   "cell_type": "code",
   "execution_count": null,
   "metadata": {},
   "outputs": [],
   "source": [
    "start_time = time()\n",
    "PFexample.solve()\n",
    "end_time = time()\n",
    "print(\n",
    "    \"Solving a perfect foresight consumer took \"\n",
    "    + mystr(end_time - start_time)\n",
    "    + \" seconds.\"\n",
    ")\n",
    "PFexample.unpack('cFunc')"
   ]
  },
  {
   "cell_type": "code",
   "execution_count": null,
   "metadata": {},
   "outputs": [],
   "source": [
    "# Plot the perfect foresight consumption function\n",
    "print(\"Perfect foresight consumption function:\")\n",
    "mMin = PFexample.solution[0].mNrmMin\n",
    "plot_funcs(PFexample.cFunc[0], mMin, mMin + 10)"
   ]
  },
  {
   "cell_type": "code",
   "execution_count": null,
   "metadata": {},
   "outputs": [],
   "source": [
    "if do_simulation:\n",
    "    PFexample.T_sim = 120  # Set number of simulation periods\n",
    "    PFexample.track_vars = ['mNrm']\n",
    "    PFexample.initialize_sim()\n",
    "    PFexample.simulate()"
   ]
  },
  {
   "cell_type": "code",
   "execution_count": null,
   "metadata": {},
   "outputs": [],
   "source": [
    "# Make and solve an example consumer with idiosyncratic income shocks\n",
    "IndShockExample = IndShockConsumerType()\n",
    "IndShockExample.cycles = 0  # Make this type have an infinite horizon"
   ]
  },
  {
   "cell_type": "code",
   "execution_count": null,
   "metadata": {},
   "outputs": [],
   "source": [
    "start_time = time()\n",
    "IndShockExample.solve()\n",
    "end_time = time()\n",
    "print(\n",
    "    \"Solving a consumer with idiosyncratic shocks took \"\n",
    "    + mystr(end_time - start_time)\n",
    "    + \" seconds.\"\n",
    ")\n",
    "IndShockExample.unpack('cFunc')"
   ]
  },
  {
   "cell_type": "code",
   "execution_count": null,
   "metadata": {},
   "outputs": [],
   "source": [
    "# Plot the consumption function and MPC for the infinite horizon consumer\n",
    "print(\"Concave consumption function:\")\n",
    "plot_funcs(IndShockExample.cFunc[0], IndShockExample.solution[0].mNrmMin, 5)\n",
    "print(\"Marginal consumption function:\")\n",
    "plot_funcs_der(IndShockExample.cFunc[0], IndShockExample.solution[0].mNrmMin, 5)"
   ]
  },
  {
   "cell_type": "code",
   "execution_count": null,
   "metadata": {},
   "outputs": [],
   "source": [
    "# Compare the consumption functions for the perfect foresight and idiosyncratic\n",
    "# shock types.  Risky income cFunc asymptotically approaches perfect foresight cFunc.\n",
    "print(\"Consumption functions for perfect foresight vs idiosyncratic shocks:\")\n",
    "plot_funcs(\n",
    "    [PFexample.cFunc[0], IndShockExample.cFunc[0]],\n",
    "    IndShockExample.solution[0].mNrmMin,\n",
    "    100,\n",
    ")"
   ]
  },
  {
   "cell_type": "code",
   "execution_count": null,
   "metadata": {},
   "outputs": [],
   "source": [
    "# Compare the value functions for the two types\n",
    "if IndShockExample.vFuncBool:\n",
    "    print(\"Value functions for perfect foresight vs idiosyncratic shocks:\")\n",
    "    plot_funcs(\n",
    "        [PFexample.solution[0].vFunc, IndShockExample.solution[0].vFunc],\n",
    "        IndShockExample.solution[0].mNrmMin + 0.5,\n",
    "        10,\n",
    "    )"
   ]
  },
  {
   "cell_type": "code",
   "execution_count": null,
   "metadata": {},
   "outputs": [],
   "source": [
    "# Simulate some data; results stored in mNrm_hist, cNrm_hist, and pLvl_hist\n",
    "if do_simulation:\n",
    "    IndShockExample.T_sim = 120\n",
    "    IndShockExample.track_vars = ['mNrm', 'cNrm', 'pLvl']\n",
    "    IndShockExample.make_shock_history()  # This is optional, simulation will draw shocks on the fly if it isn't run.\n",
    "    IndShockExample.initialize_sim()\n",
    "    IndShockExample.simulate()"
   ]
  },
  {
   "cell_type": "code",
   "execution_count": null,
   "metadata": {},
   "outputs": [],
   "source": [
    "# Make and solve an idiosyncratic shocks consumer with a finite lifecycle\n",
    "LifecycleExample = IndShockConsumerType(**init_lifecycle)\n",
    "LifecycleExample.cycles = (\n",
    "    1\n",
    ")  # Make this consumer live a sequence of periods exactly once"
   ]
  },
  {
   "cell_type": "code",
   "execution_count": null,
   "metadata": {},
   "outputs": [],
   "source": [
    "start_time = time()\n",
    "LifecycleExample.solve()\n",
    "end_time = time()\n",
    "print(\"Solving a lifecycle consumer took \" + mystr(end_time - start_time) + \" seconds.\")\n",
    "LifecycleExample.unpack('cFunc')"
   ]
  },
  {
   "cell_type": "code",
   "execution_count": null,
   "metadata": {},
   "outputs": [],
   "source": [
    "# Plot the consumption functions during working life\n",
    "print(\"Consumption functions while working:\")\n",
    "mMin = min(\n",
    "    [LifecycleExample.solution[t].mNrmMin for t in range(LifecycleExample.T_cycle)]\n",
    ")\n",
    "plot_funcs(LifecycleExample.cFunc[: LifecycleExample.T_retire], mMin, 5)"
   ]
  },
  {
   "cell_type": "code",
   "execution_count": null,
   "metadata": {},
   "outputs": [],
   "source": [
    "# Plot the consumption functions during retirement\n",
    "print(\"Consumption functions while retired:\")\n",
    "plot_funcs(LifecycleExample.cFunc[LifecycleExample.T_retire :], 0, 5)"
   ]
  },
  {
   "cell_type": "code",
   "execution_count": null,
   "metadata": {},
   "outputs": [],
   "source": [
    "# Simulate some data; results stored in mNrm_hist, cNrm_hist, pLvl_hist, and t_age_hist\n",
    "if do_simulation:\n",
    "    LifecycleExample.T_sim = 120\n",
    "    LifecycleExample.track_vars = ['mNrm', 'cNrm', 'pLvl', \"t_age\"]\n",
    "    LifecycleExample.initialize_sim()\n",
    "    LifecycleExample.simulate()"
   ]
  },
  {
   "cell_type": "code",
   "execution_count": null,
   "metadata": {},
   "outputs": [],
   "source": [
    "# Make and solve a \"cyclical\" consumer type who lives the same four quarters repeatedly.\n",
    "# The consumer has income that greatly fluctuates throughout the year.\n",
    "CyclicalExample = IndShockConsumerType(**init_cyclical)\n",
    "CyclicalExample.cycles = 0"
   ]
  },
  {
   "cell_type": "code",
   "execution_count": null,
   "metadata": {},
   "outputs": [],
   "source": [
    "start_time = time()\n",
    "CyclicalExample.solve()\n",
    "end_time = time()\n",
    "print(\"Solving a cyclical consumer took \" + mystr(end_time - start_time) + \" seconds.\")\n",
    "CyclicalExample.unpack('cFunc')"
   ]
  },
  {
   "cell_type": "code",
   "execution_count": null,
   "metadata": {},
   "outputs": [],
   "source": [
    "# Plot the consumption functions for the cyclical consumer type\n",
    "print(\"Quarterly consumption functions:\")\n",
    "mMin = min([X.mNrmMin for X in CyclicalExample.solution])\n",
    "plot_funcs(CyclicalExample.cFunc, mMin, 5)"
   ]
  },
  {
   "cell_type": "code",
   "execution_count": null,
   "metadata": {},
   "outputs": [],
   "source": [
    "# Simulate some data; results stored in cHist, mHist, bHist, aHist, MPChist, and pHist\n",
    "if do_simulation:\n",
    "    CyclicalExample.T_sim = 480\n",
    "    CyclicalExample.track_vars = ['mNrm', 'cNrm', 'pLvl', \"t_cycle\"]\n",
    "    CyclicalExample.initialize_sim()\n",
    "    CyclicalExample.simulate()"
   ]
  },
  {
   "cell_type": "code",
   "execution_count": null,
   "metadata": {},
   "outputs": [],
   "source": [
    "# Make and solve an agent with a kinky interest rate\n",
    "KinkyExample = KinkedRconsumerType()\n",
    "KinkyExample.cycles = 0  # Make the Example infinite horizon"
   ]
  },
  {
   "cell_type": "code",
   "execution_count": null,
   "metadata": {},
   "outputs": [],
   "source": [
    "start_time = time()\n",
    "KinkyExample.solve()\n",
    "end_time = time()\n",
    "print(\"Solving a kinky consumer took \" + mystr(end_time - start_time) + \" seconds.\")\n",
    "KinkyExample.unpack('cFunc')\n",
    "print(\"Kinky consumption function:\")\n",
    "plot_funcs(KinkyExample.cFunc[0], KinkyExample.solution[0].mNrmMin, 5)"
   ]
  },
  {
   "cell_type": "code",
   "execution_count": null,
   "metadata": {},
   "outputs": [],
   "source": [
    "if do_simulation:\n",
    "    KinkyExample.T_sim = 120\n",
    "    KinkyExample.track_vars = ['mNrm', 'cNrm', 'pLvl']\n",
    "    KinkyExample.initialize_sim()\n",
    "    KinkyExample.simulate()"
   ]
  }
 ],
 "metadata": {
  "jupytext": {
   "cell_metadata_filter": "-all",
   "main_language": "python",
   "notebook_metadata_filter": "-all"
  }
 },
 "nbformat": 4,
 "nbformat_minor": 4
}
