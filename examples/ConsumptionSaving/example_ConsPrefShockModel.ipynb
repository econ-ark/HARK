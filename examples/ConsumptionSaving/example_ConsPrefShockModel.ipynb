{
 "cells": [
  {
   "cell_type": "code",
   "execution_count": 1,
   "metadata": {},
   "outputs": [
    {
     "ename": "SyntaxError",
     "evalue": "invalid syntax (ConsPrefShockModel.py, line 24)",
     "output_type": "error",
     "traceback": [
      "Traceback \u001b[0;36m(most recent call last)\u001b[0m:\n",
      "  File \u001b[1;32m\"/home/sb/anaconda3/lib/python3.6/site-packages/IPython/core/interactiveshell.py\"\u001b[0m, line \u001b[1;32m3331\u001b[0m, in \u001b[1;35mrun_code\u001b[0m\n    exec(code_obj, self.user_global_ns, self.user_ns)\n",
      "\u001b[0;36m  File \u001b[0;32m\"<ipython-input-1-13069612c38a>\"\u001b[0;36m, line \u001b[0;32m5\u001b[0;36m, in \u001b[0;35m<module>\u001b[0;36m\u001b[0m\n\u001b[0;31m    from HARK.ConsumptionSaving.ConsPrefShockModel import (\u001b[0m\n",
      "\u001b[0;36m  File \u001b[0;32m\"/home/sb/projects/econ-ark/HARK/HARK/ConsumptionSaving/ConsPrefShockModel.py\"\u001b[0;36m, line \u001b[0;32m24\u001b[0m\n\u001b[0;31m    'PrefShk_tail_N'] : 4,  # Number of \"tail points\" on each end of pref shock dist\u001b[0m\n\u001b[0m                    ^\u001b[0m\n\u001b[0;31mSyntaxError\u001b[0m\u001b[0;31m:\u001b[0m invalid syntax\n"
     ]
    }
   ],
   "source": [
    "import matplotlib.pyplot as plt\n",
    "from HARK.utilities import plotFuncs\n",
    "from time import process_time\n",
    "import numpy as np\n",
    "from HARK.ConsumptionSaving.ConsPrefShockModel import (\n",
    "    PrefShockConsumerType,\n",
    "    KinkyPrefConsumerType,\n",
    ")\n",
    "mystr = lambda number: \"{:.4f}\".format(number)\n",
    "do_simulation = True"
   ]
  },
  {
   "cell_type": "code",
   "execution_count": null,
   "metadata": {},
   "outputs": [],
   "source": [
    "# Make and solve a preference shock consumer\n",
    "PrefShockExample = PrefShockConsumerType()\n",
    "PrefShockExample.cycles = 0  # Infinite horizon"
   ]
  },
  {
   "cell_type": "code",
   "execution_count": null,
   "metadata": {},
   "outputs": [],
   "source": [
    "t_start = process_time()\n",
    "PrefShockExample.solve()\n",
    "t_end = process_time()\n",
    "print(\"Solving a preference shock consumer took \" + str(t_end - t_start) + \" seconds.\")"
   ]
  },
  {
   "cell_type": "code",
   "execution_count": null,
   "metadata": {},
   "outputs": [],
   "source": [
    "# Plot the consumption function at each discrete shock\n",
    "m = np.linspace(PrefShockExample.solution[0].mNrmMin, 5, 200)\n",
    "print(\"Consumption functions at each discrete shock:\")\n",
    "for j in range(PrefShockExample.PrefShkDstn[0][1].size):\n",
    "    PrefShk = PrefShockExample.PrefShkDstn[0][1][j]\n",
    "    c = PrefShockExample.solution[0].cFunc(m, PrefShk * np.ones_like(m))\n",
    "    plt.plot(m, c)\n",
    "plt.xlim([0.0, None])\n",
    "plt.ylim([0.0, None])\n",
    "plt.show()"
   ]
  },
  {
   "cell_type": "code",
   "execution_count": null,
   "metadata": {},
   "outputs": [],
   "source": [
    "print(\"Consumption function (and MPC) when shock=1:\")\n",
    "c = PrefShockExample.solution[0].cFunc(m, np.ones_like(m))\n",
    "k = PrefShockExample.solution[0].cFunc.derivativeX(m, np.ones_like(m))\n",
    "plt.plot(m, c)\n",
    "plt.plot(m, k)\n",
    "plt.xlim([0.0, None])\n",
    "plt.ylim([0.0, None])\n",
    "plt.show()"
   ]
  },
  {
   "cell_type": "code",
   "execution_count": null,
   "metadata": {},
   "outputs": [],
   "source": [
    "if PrefShockExample.vFuncBool:\n",
    "    print(\"Value function (unconditional on shock):\")\n",
    "    plotFuncs(\n",
    "        PrefShockExample.solution[0].vFunc,\n",
    "        PrefShockExample.solution[0].mNrmMin + 0.5,\n",
    "        5,\n",
    "    )"
   ]
  },
  {
   "cell_type": "code",
   "execution_count": null,
   "metadata": {},
   "outputs": [],
   "source": [
    "# Test the simulator for the pref shock class\n",
    "if do_simulation:\n",
    "    PrefShockExample.T_sim = 120\n",
    "    PrefShockExample.track_vars = [\"cNrmNow\"]\n",
    "    PrefShockExample.makeShockHistory()  # This is optional\n",
    "    PrefShockExample.initializeSim()\n",
    "    PrefShockExample.simulate()"
   ]
  },
  {
   "cell_type": "code",
   "execution_count": null,
   "metadata": {},
   "outputs": [],
   "source": [
    "# Make and solve a \"kinky preferece\" consumer, whose model combines KinkedR and PrefShock\n",
    "KinkyPrefExample = KinkyPrefConsumerType()\n",
    "KinkyPrefExample.cycles = 0  # Infinite horizon"
   ]
  },
  {
   "cell_type": "code",
   "execution_count": null,
   "metadata": {},
   "outputs": [],
   "source": [
    "t_start = process_time()\n",
    "KinkyPrefExample.solve()\n",
    "t_end = process_time()\n",
    "print(\"Solving a kinky preference consumer took \" + str(t_end - t_start) + \" seconds.\")"
   ]
  },
  {
   "cell_type": "code",
   "execution_count": null,
   "metadata": {},
   "outputs": [],
   "source": [
    "# Plot the consumption function at each discrete shock\n",
    "m = np.linspace(KinkyPrefExample.solution[0].mNrmMin, 5, 200)\n",
    "print(\"Consumption functions at each discrete shock:\")\n",
    "for j in range(KinkyPrefExample.PrefShkDstn[0][1].size):\n",
    "    PrefShk = KinkyPrefExample.PrefShkDstn[0][1][j]\n",
    "    c = KinkyPrefExample.solution[0].cFunc(m, PrefShk * np.ones_like(m))\n",
    "    plt.plot(m, c)\n",
    "plt.ylim([0.0, None])\n",
    "plt.show()"
   ]
  },
  {
   "cell_type": "code",
   "execution_count": null,
   "metadata": {},
   "outputs": [],
   "source": [
    "print(\"Consumption function (and MPC) when shock=1:\")\n",
    "c = KinkyPrefExample.solution[0].cFunc(m, np.ones_like(m))\n",
    "k = KinkyPrefExample.solution[0].cFunc.derivativeX(m, np.ones_like(m))\n",
    "plt.plot(m, c)\n",
    "plt.plot(m, k)\n",
    "plt.ylim([0.0, None])\n",
    "plt.show()"
   ]
  },
  {
   "cell_type": "code",
   "execution_count": null,
   "metadata": {},
   "outputs": [],
   "source": [
    "if KinkyPrefExample.vFuncBool:\n",
    "    print(\"Value function (unconditional on shock):\")\n",
    "    plotFuncs(\n",
    "        KinkyPrefExample.solution[0].vFunc,\n",
    "        KinkyPrefExample.solution[0].mNrmMin + 0.5,\n",
    "        5,\n",
    "    )"
   ]
  },
  {
   "cell_type": "code",
   "execution_count": null,
   "metadata": {},
   "outputs": [],
   "source": [
    "# Test the simulator for the kinky preference class\n",
    "if do_simulation:\n",
    "    KinkyPrefExample.T_sim = 120\n",
    "    KinkyPrefExample.track_vars = [\"cNrmNow\", \"PrefShkNow\"]\n",
    "    KinkyPrefExample.initializeSim()\n",
    "    KinkyPrefExample.simulate()"
   ]
  }
 ],
 "metadata": {
  "jupytext": {
   "cell_metadata_filter": "-all",
   "main_language": "python",
   "notebook_metadata_filter": "-all"
  },
  "kernelspec": {
   "display_name": "Python 3",
   "language": "python",
   "name": "python3"
  },
  "language_info": {
   "codemirror_mode": {
    "name": "ipython",
    "version": 3
   },
   "file_extension": ".py",
   "mimetype": "text/x-python",
   "name": "python",
   "nbconvert_exporter": "python",
   "pygments_lexer": "ipython3",
   "version": "3.6.9"
  }
 },
 "nbformat": 4,
 "nbformat_minor": 4
}
