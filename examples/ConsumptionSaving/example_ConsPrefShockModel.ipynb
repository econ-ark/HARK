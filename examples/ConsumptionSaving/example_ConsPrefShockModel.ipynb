{
 "cells": [
  {
   "cell_type": "code",
   "execution_count": null,
   "metadata": {},
   "outputs": [],
   "source": [
    "import matplotlib.pyplot as plt\n",
    "from HARK.utilities import plot_funcs\n",
    "from time import process_time\n",
    "import numpy as np\n",
    "from HARK.ConsumptionSaving.ConsPrefShockModel import (\n",
    "    PrefShockConsumerType,\n",
    "    KinkyPrefConsumerType,\n",
    ")\n",
    "\n",
    "mystr = lambda number: \"{:.4f}\".format(number)\n",
    "do_simulation = True"
   ]
  },
  {
   "cell_type": "markdown",
   "metadata": {},
   "source": [
    "This module defines consumption-saving models in which agents have CRRA utility over a unitary consumption good, geometric discounting, who face idiosyncratic shocks to income and to their utility or preferences. That is, this module contains models that extend `ConsIndShockModel` with preference shocks.\n",
    "\n",
    "`ConsPrefShockModel` currently solves two types of models:\n",
    "1. An extension of `ConsIndShock`, but with an iid lognormal multiplicative shock each period.\n",
    "2. A combination of (1) and $\\texttt{ConsKinkedR}$, demonstrating how to construct a new model\n",
    "   by inheriting from multiple classes."
   ]
  },
  {
   "cell_type": "markdown",
   "metadata": {},
   "source": [
    "### Multiplicative Shocks to Utility\n",
    "\n",
    "In this model, an agent is very similar to the one in the \"idiosyncratic shocks\" model, except that in `ConsPrefShockModel` an agent receives an iid multiplicative shock to his/her utility at the beginning of each period, before making the consumption decision.\n",
    "\n",
    "The agent's problem can be written in (normalized) Bellman form as:\n",
    "\n",
    "\\begin{eqnarray*}\n",
    "v_t(m_t,\\eta_t) &=& \\max_{c_t} u(\\eta_t.c_t) + \\beta (1-\\mathsf{D}_{t+1}) \\mathbb{E} [(\\Gamma_{t+1}\\psi_{t+1})^{1-\\rho} v_{t+1}(m_{t+1}, \\eta_{t+1}) ], \\\\\n",
    "a_t &=& m_t - c_t, \\\\\n",
    "a_t &\\geq& \\underline{a}, \\\\\n",
    "m_{t+1} &=& R/(\\Gamma_{t+1}\\psi_{t+1}) a_t + \\theta_{t+1}, \\\\\n",
    "\\psi_{t},\\theta_{t} \\sim F_{t}, &\\qquad& \\mathbb{E} [F_{\\psi t}] = 1, \\\\\n",
    "u(c) &=& \\frac{c^{1-\\rho}}{1-\\rho}, \\eta_t \\sim F_{\\eta t}\n",
    "\\end{eqnarray*}\n"
   ]
  },
  {
   "cell_type": "markdown",
   "metadata": {},
   "source": [
    "The one period problem for this model is solved by the function `solveConsPrefShock`, which creates an instance of the class `ConsPrefShockSolver`. The class `PrefShockConsumerType` extends `IndShockConsumerType` to represents agents in this model.\n",
    "\n",
    "To construct an instance of this class, 3 additional attributes must be passed to the constructor as shown in the table below (parameters can be either \"primitive\" if they are directly specified by the user or \"constructed\" if they are built by a class method using simple parameters specified by the user)."
   ]
  },
  {
   "cell_type": "markdown",
   "metadata": {},
   "source": [
    "### Additional parameter values to solve an instance of PrefShockConsumerType\n",
    "\n",
    "| Param | Description | Code | Value | Constructed |\n",
    "| :---: | --- | --- | --- | :---: |\n",
    "| $N{\\eta}$ |Number of discrete points in \"body\" of preference shock distribution  | $\\texttt{PerfShkCount}$ | 12 |$\\surd$ |\n",
    "| $N{\\eta}$ |Number of discrete points in \"tails\" of preference shock distribution  | $\\texttt{PrefShk_tail_N}$ |4|$\\surd$ |\n",
    "| $\\sigma_{\\eta}$ |Log standard deviation of multiplicative utility shocks  | $\\texttt{PerfShkStd}$ | [0.30] |$\\surd$ |\n",
    "\n"
   ]
  },
  {
   "cell_type": "markdown",
   "metadata": {},
   "source": [
    "### Constructed inputs to solve ConsPrefShockModel\n",
    "\n",
    "* The tails of the preference shock distribution are of great importance for the accuracy of the solution and are underrepresented by the default equiprobable discrete approximation (unless a very large number of points are used).\n",
    "To fix this issue, the attribute $\\texttt{PerfShk_tail_N}$ specifies the number of points in each \" augmented tail\" section of the preference shock discrete approximation.\n",
    "See [HARK.utilities.approxLognormal](https://github.com/econ-ark/HARK/blob/master/HARK/utilities.py) for more details.\n",
    "\n",
    "\n",
    "* The standard deviation of preference shocks might vary by period. Therefore, $\\texttt{PerShkStd}$ should be input as a list."
   ]
  },
  {
   "cell_type": "markdown",
   "metadata": {},
   "source": [
    "Note that the `solve` method of `PerfShockConsumerType` populates the `solution` with a list of `ConsumerSolution` instances. These single-period-solution objects have the same attributes as the \"idiosyncratic shocks\" model, but the attribute $\\texttt{cFunc}$ is defined over the space of ($m_{t}$, $\\eta_{t}$) rather than just $m_{t}$.\n",
    "\n",
    "The value function $\\texttt{vFunc}$ and marginal value $\\texttt{vPfunc}$, however, are defined *only* over $m_{t}$, as they represent expected (marginal) value *just before* the preference shock $\\eta_{t}$ is realized."
   ]
  },
  {
   "cell_type": "code",
   "execution_count": null,
   "metadata": {},
   "outputs": [],
   "source": [
    "# Make and solve a preference shock consumer\n",
    "PrefShockExample = PrefShockConsumerType()\n",
    "PrefShockExample.cycles = 0  # Infinite horizon"
   ]
  },
  {
   "cell_type": "code",
   "execution_count": null,
   "metadata": {},
   "outputs": [],
   "source": [
    "t_start = process_time()\n",
    "PrefShockExample.solve()\n",
    "t_end = process_time()\n",
    "print(\"Solving a preference shock consumer took \" + str(t_end - t_start) + \" seconds.\")"
   ]
  },
  {
   "cell_type": "code",
   "execution_count": null,
   "metadata": {},
   "outputs": [],
   "source": [
    "# Plot the consumption function at each discrete shock\n",
    "m = np.linspace(PrefShockExample.solution[0].mNrmMin, 5, 200)\n",
    "print(\"Consumption functions at each discrete shock:\")\n",
    "for j in range(PrefShockExample.PrefShkDstn[0].pmv.size):\n",
    "    PrefShk = PrefShockExample.PrefShkDstn[0].atoms.flatten()[j]\n",
    "    c = PrefShockExample.solution[0].cFunc(m, PrefShk * np.ones_like(m))\n",
    "    plt.plot(m, c)\n",
    "plt.xlim([0.0, None])\n",
    "plt.ylim([0.0, None])\n",
    "plt.show()"
   ]
  },
  {
   "cell_type": "code",
   "execution_count": null,
   "metadata": {},
   "outputs": [],
   "source": [
    "print(\"Consumption function (and MPC) when shock=1:\")\n",
    "c = PrefShockExample.solution[0].cFunc(m, np.ones_like(m))\n",
    "k = PrefShockExample.solution[0].cFunc.derivativeX(m, np.ones_like(m))\n",
    "plt.plot(m, c)\n",
    "plt.plot(m, k)\n",
    "plt.xlim([0.0, None])\n",
    "plt.ylim([0.0, None])\n",
    "plt.show()"
   ]
  },
  {
   "cell_type": "code",
   "execution_count": null,
   "metadata": {},
   "outputs": [],
   "source": [
    "if PrefShockExample.vFuncBool:\n",
    "    print(\"Value function (unconditional on shock):\")\n",
    "    plot_funcs(\n",
    "        PrefShockExample.solution[0].vFunc,\n",
    "        PrefShockExample.solution[0].mNrmMin + 0.5,\n",
    "        5,\n",
    "    )"
   ]
  },
  {
   "cell_type": "code",
   "execution_count": null,
   "metadata": {},
   "outputs": [],
   "source": [
    "# Test the simulator for the pref shock class\n",
    "if do_simulation:\n",
    "    PrefShockExample.T_sim = 120\n",
    "    PrefShockExample.track_vars = [\"cNrm\"]\n",
    "    PrefShockExample.make_shock_history()  # This is optional\n",
    "    PrefShockExample.initialize_sim()\n",
    "    PrefShockExample.simulate()"
   ]
  },
  {
   "cell_type": "markdown",
   "metadata": {},
   "source": [
    "### Utility Shocks and Different Interest Rates\n",
    "\n",
    "In this model, an agent face idiosyncratic shocks to permanent and transitory income and multiplicative shocks to utility *and* faces a different interst rate on borrowing vs saving. This agent's model is identical to that of the `ConsPrefShockModel` with the addition of the interst rate rule from the `kinkedRConsumerType` from `ConsIndShock` model."
   ]
  },
  {
   "cell_type": "markdown",
   "metadata": {},
   "source": [
    "The one period problem of this model is solved by the function `solveConsKinkyPref`, which creates an instance of `ConsKinkyPrefSolver`. The class `KinkyPrefConsumerType` represents agents in this model.\n",
    "\n",
    "Thanks to HARK's object-oriented approach to solution methods, it is trivial to combine two models to make a new one. In this current case, the solver and consumer classes each inherit from both $\\texttt{KinkedR}$ and $\\texttt{PrefShock}$ and only need a trivial constructor function to rectify the differences between the two.\n",
    "\n"
   ]
  },
  {
   "cell_type": "markdown",
   "metadata": {},
   "source": [
    "### Constructed inputs to solve KinkyPref\n",
    "\n",
    "* The attributes required to properly construct an instance of $\\texttt{KinkyPrefConsumerType}$ are the same as $\\texttt{PrefShockConsumerType}$, except that $\\texttt{Rfree}$ should not be replace with $\\texttt{Rboro}$ and $\\texttt{Rsave}$ - like the \"kinked R\" parent model.\n",
    "\n",
    "* Also, as in $\\texttt{KinkedR}$ and $\\texttt{PrefShock}$, $\\texttt{KinkyPref}$ is not yet compatible with cubic spline interpolation of the consumption function."
   ]
  },
  {
   "cell_type": "code",
   "execution_count": null,
   "metadata": {},
   "outputs": [],
   "source": [
    "# Make and solve a \"kinky preferece\" consumer, whose model combines KinkedR and PrefShock\n",
    "KinkyPrefExample = KinkyPrefConsumerType()\n",
    "KinkyPrefExample.cycles = 0  # Infinite horizon"
   ]
  },
  {
   "cell_type": "code",
   "execution_count": null,
   "metadata": {},
   "outputs": [],
   "source": [
    "t_start = process_time()\n",
    "KinkyPrefExample.solve()\n",
    "t_end = process_time()\n",
    "print(\"Solving a kinky preference consumer took \" + str(t_end - t_start) + \" seconds.\")"
   ]
  },
  {
   "cell_type": "code",
   "execution_count": null,
   "metadata": {},
   "outputs": [],
   "source": [
    "# Plot the consumption function at each discrete shock\n",
    "m = np.linspace(KinkyPrefExample.solution[0].mNrmMin, 5, 200)\n",
    "print(\"Consumption functions at each discrete shock:\")\n",
    "for j in range(KinkyPrefExample.PrefShkDstn[0].atoms.size):\n",
    "    PrefShk = KinkyPrefExample.PrefShkDstn[0].atoms.flatten()[j]\n",
    "    c = KinkyPrefExample.solution[0].cFunc(m, PrefShk * np.ones_like(m))\n",
    "    plt.plot(m, c)\n",
    "plt.ylim([0.0, None])\n",
    "plt.show()"
   ]
  },
  {
   "cell_type": "code",
   "execution_count": null,
   "metadata": {},
   "outputs": [],
   "source": [
    "print(\"Consumption function (and MPC) when shock=1:\")\n",
    "c = KinkyPrefExample.solution[0].cFunc(m, np.ones_like(m))\n",
    "k = KinkyPrefExample.solution[0].cFunc.derivativeX(m, np.ones_like(m))\n",
    "plt.plot(m, c)\n",
    "plt.plot(m, k)\n",
    "plt.ylim([0.0, None])\n",
    "plt.show()"
   ]
  },
  {
   "cell_type": "code",
   "execution_count": null,
   "metadata": {},
   "outputs": [],
   "source": [
    "if KinkyPrefExample.vFuncBool:\n",
    "    print(\"Value function (unconditional on shock):\")\n",
    "    plot_funcs(\n",
    "        KinkyPrefExample.solution[0].vFunc,\n",
    "        KinkyPrefExample.solution[0].mNrmMin + 0.5,\n",
    "        5,\n",
    "    )"
   ]
  },
  {
   "cell_type": "code",
   "execution_count": null,
   "metadata": {},
   "outputs": [],
   "source": [
    "# Test the simulator for the kinky preference class\n",
    "if do_simulation:\n",
    "    KinkyPrefExample.T_sim = 120\n",
    "    KinkyPrefExample.track_vars = [\"cNrm\", \"PrefShk\"]\n",
    "    KinkyPrefExample.initialize_sim()\n",
    "    KinkyPrefExample.simulate()"
   ]
  },
  {
   "cell_type": "code",
   "execution_count": null,
   "metadata": {},
   "outputs": [],
   "source": []
  },
  {
   "cell_type": "code",
   "execution_count": null,
   "metadata": {},
   "outputs": [],
   "source": []
  }
 ],
 "metadata": {
  "jupytext": {
   "cell_metadata_filter": "-all",
   "formats": "ipynb,py:percent"
  },
  "kernelspec": {
   "display_name": "Python 3 (ipykernel)",
   "language": "python",
   "name": "python3"
  },
  "language_info": {
   "codemirror_mode": {
    "name": "ipython",
    "version": 3
   },
   "file_extension": ".py",
   "mimetype": "text/x-python",
   "name": "python",
   "nbconvert_exporter": "python",
   "pygments_lexer": "ipython3",
   "version": "3.10.12"
  },
  "latex_envs": {
   "LaTeX_envs_menu_present": true,
   "autoclose": false,
   "autocomplete": true,
   "bibliofile": "biblio.bib",
   "cite_by": "apalike",
   "current_citInitial": 1,
   "eqLabelWithNumbers": true,
   "eqNumInitial": 1,
   "hotkeys": {
    "equation": "Ctrl-E",
    "itemize": "Ctrl-I"
   },
   "labels_anchors": false,
   "latex_user_defs": false,
   "report_style_numbering": false,
   "user_envs_cfg": false
  }
 },
 "nbformat": 4,
 "nbformat_minor": 4
}
