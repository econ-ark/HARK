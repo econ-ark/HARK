{
 "cells": [
  {
   "cell_type": "code",
   "execution_count": 1,
   "metadata": {},
   "outputs": [
    {
     "ename": "ImportError",
     "evalue": "cannot import name 'approxLognormal'",
     "output_type": "error",
     "traceback": [
      "\u001b[0;31m---------------------------------------------------------------------------\u001b[0m",
      "\u001b[0;31mImportError\u001b[0m                               Traceback (most recent call last)",
      "\u001b[0;32m<ipython-input-1-b32c24d46aa7>\u001b[0m in \u001b[0;36m<module>\u001b[0;34m\u001b[0m\n\u001b[1;32m      3\u001b[0m \u001b[0;32mimport\u001b[0m \u001b[0mmatplotlib\u001b[0m\u001b[0;34m.\u001b[0m\u001b[0mpyplot\u001b[0m \u001b[0;32mas\u001b[0m \u001b[0mplt\u001b[0m\u001b[0;34m\u001b[0m\u001b[0;34m\u001b[0m\u001b[0m\n\u001b[1;32m      4\u001b[0m \u001b[0;32mimport\u001b[0m \u001b[0mnumpy\u001b[0m \u001b[0;32mas\u001b[0m \u001b[0mnp\u001b[0m\u001b[0;34m\u001b[0m\u001b[0;34m\u001b[0m\u001b[0m\n\u001b[0;32m----> 5\u001b[0;31m \u001b[0;32mfrom\u001b[0m \u001b[0mHARK\u001b[0m\u001b[0;34m.\u001b[0m\u001b[0mConsumptionSaving\u001b[0m\u001b[0;34m.\u001b[0m\u001b[0mConsMedModel\u001b[0m \u001b[0;32mimport\u001b[0m \u001b[0mMedShockConsumerType\u001b[0m\u001b[0;34m\u001b[0m\u001b[0;34m\u001b[0m\u001b[0m\n\u001b[0m",
      "\u001b[0;32m~/projects/econ-ark/HARK/HARK/ConsumptionSaving/ConsMedModel.py\u001b[0m in \u001b[0;36m<module>\u001b[0;34m\u001b[0m\n\u001b[1;32m      9\u001b[0m \u001b[0;32mfrom\u001b[0m \u001b[0mscipy\u001b[0m\u001b[0;34m.\u001b[0m\u001b[0moptimize\u001b[0m \u001b[0;32mimport\u001b[0m \u001b[0mbrentq\u001b[0m\u001b[0;34m\u001b[0m\u001b[0;34m\u001b[0m\u001b[0m\n\u001b[1;32m     10\u001b[0m \u001b[0;32mfrom\u001b[0m \u001b[0mHARK\u001b[0m \u001b[0;32mimport\u001b[0m \u001b[0mHARKobject\u001b[0m\u001b[0;34m\u001b[0m\u001b[0;34m\u001b[0m\u001b[0m\n\u001b[0;32m---> 11\u001b[0;31m \u001b[0;32mfrom\u001b[0m \u001b[0mHARK\u001b[0m\u001b[0;34m.\u001b[0m\u001b[0mutilities\u001b[0m \u001b[0;32mimport\u001b[0m \u001b[0mapproxLognormal\u001b[0m\u001b[0;34m,\u001b[0m \u001b[0maddDiscreteOutcomeConstantMean\u001b[0m\u001b[0;34m,\u001b[0m \u001b[0mCRRAutilityP_inv\u001b[0m\u001b[0;34m,\u001b[0m\u001b[0;31m\\\u001b[0m\u001b[0;34m\u001b[0m\u001b[0;34m\u001b[0m\u001b[0m\n\u001b[0m\u001b[1;32m     12\u001b[0m                            \u001b[0mCRRAutility\u001b[0m\u001b[0;34m,\u001b[0m \u001b[0mCRRAutility_inv\u001b[0m\u001b[0;34m,\u001b[0m \u001b[0mCRRAutility_invP\u001b[0m\u001b[0;34m,\u001b[0m \u001b[0mCRRAutilityPP\u001b[0m\u001b[0;34m,\u001b[0m\u001b[0;31m\\\u001b[0m\u001b[0;34m\u001b[0m\u001b[0;34m\u001b[0m\u001b[0m\n\u001b[1;32m     13\u001b[0m                            \u001b[0mmakeGridExpMult\u001b[0m\u001b[0;34m,\u001b[0m \u001b[0mNullFunc\u001b[0m\u001b[0;34m\u001b[0m\u001b[0;34m\u001b[0m\u001b[0m\n",
      "\u001b[0;31mImportError\u001b[0m: cannot import name 'approxLognormal'"
     ]
    }
   ],
   "source": [
    "from HARK.utilities import CRRAutility_inv\n",
    "from time import time\n",
    "import matplotlib.pyplot as plt\n",
    "import numpy as np\n",
    "from HARK.ConsumptionSaving.ConsMedModel import MedShockConsumerType"
   ]
  },
  {
   "cell_type": "code",
   "execution_count": null,
   "metadata": {},
   "outputs": [],
   "source": [
    "mystr = lambda number: \"{:.4f}\".format(number)"
   ]
  },
  {
   "cell_type": "code",
   "execution_count": null,
   "metadata": {},
   "outputs": [],
   "source": [
    "do_simulation = True"
   ]
  },
  {
   "cell_type": "code",
   "execution_count": null,
   "metadata": {},
   "outputs": [],
   "source": [
    "# Make and solve an example medical shocks consumer type\n",
    "MedicalExample = MedShockConsumerType()\n",
    "t_start = time()\n",
    "MedicalExample.solve()\n",
    "t_end = time()\n",
    "print(\"Solving a medical shocks consumer took \" + mystr(t_end - t_start) + \" seconds.\")"
   ]
  },
  {
   "cell_type": "code",
   "execution_count": null,
   "metadata": {},
   "outputs": [],
   "source": [
    "# Plot the consumption function\n",
    "M = np.linspace(0, 30, 300)\n",
    "pLvl = 1.0\n",
    "P = pLvl * np.ones_like(M)\n",
    "for j in range(MedicalExample.MedShkDstn[0][0].size):\n",
    "    MedShk = MedicalExample.MedShkDstn[0][1][j] * np.ones_like(M)\n",
    "    M_temp = M + MedicalExample.solution[0].mLvlMin(pLvl)\n",
    "    C = MedicalExample.solution[0].cFunc(M_temp, P, MedShk)\n",
    "    plt.plot(M_temp, C)\n",
    "print(\"Consumption function by medical need shock (constant permanent income)\")\n",
    "plt.show()"
   ]
  },
  {
   "cell_type": "code",
   "execution_count": null,
   "metadata": {},
   "outputs": [],
   "source": [
    "# Plot the medical care function\n",
    "for j in range(MedicalExample.MedShkDstn[0][0].size):\n",
    "    MedShk = MedicalExample.MedShkDstn[0][1][j] * np.ones_like(M)\n",
    "    Med = MedicalExample.solution[0].MedFunc(M_temp, P, MedShk)\n",
    "    plt.plot(M_temp, Med)\n",
    "print(\"Medical care function by medical need shock (constant permanent income)\")\n",
    "plt.ylim([0, 20])\n",
    "plt.show()"
   ]
  },
  {
   "cell_type": "code",
   "execution_count": null,
   "metadata": {},
   "outputs": [],
   "source": [
    "# Plot the savings function\n",
    "for j in range(MedicalExample.MedShkDstn[0][0].size):\n",
    "    MedShk = MedicalExample.MedShkDstn[0][1][j] * np.ones_like(M)\n",
    "    Sav = (\n",
    "        M_temp\n",
    "        - MedicalExample.solution[0].cFunc(M_temp, P, MedShk)\n",
    "        - MedicalExample.MedPrice[0]\n",
    "        * MedicalExample.solution[0].MedFunc(M_temp, P, MedShk)\n",
    "    )\n",
    "    plt.plot(M_temp, Sav)\n",
    "print(\"End of period savings by medical need shock (constant permanent income)\")\n",
    "plt.show()"
   ]
  },
  {
   "cell_type": "code",
   "execution_count": null,
   "metadata": {},
   "outputs": [],
   "source": [
    "# Plot the marginal value function\n",
    "M = np.linspace(0.0, 30, 300)\n",
    "for p in range(MedicalExample.pLvlGrid[0].size):\n",
    "    pLvl = MedicalExample.pLvlGrid[0][p]\n",
    "    M_temp = pLvl * M + MedicalExample.solution[0].mLvlMin(pLvl)\n",
    "    P = pLvl * np.ones_like(M)\n",
    "    vP = MedicalExample.solution[0].vPfunc(M_temp, P) ** (-1.0 / MedicalExample.CRRA)\n",
    "    plt.plot(M_temp, vP)\n",
    "print(\"Marginal value function (pseudo inverse)\")\n",
    "plt.show()"
   ]
  },
  {
   "cell_type": "code",
   "execution_count": null,
   "metadata": {},
   "outputs": [],
   "source": [
    "if MedicalExample.vFuncBool:\n",
    "    # Plot the value function\n",
    "    M = np.linspace(0.0, 1, 300)\n",
    "    for p in range(MedicalExample.pLvlGrid[0].size):\n",
    "        pLvl = MedicalExample.pLvlGrid[0][p]\n",
    "        M_temp = pLvl * M + MedicalExample.solution[0].mLvlMin(pLvl)\n",
    "        P = pLvl * np.ones_like(M)\n",
    "        v = CRRAutility_inv(\n",
    "            MedicalExample.solution[0].vFunc(M_temp, P), gam=MedicalExample.CRRA\n",
    "        )\n",
    "        plt.plot(M_temp, v)\n",
    "    print(\"Value function (pseudo inverse)\")\n",
    "    plt.show()"
   ]
  },
  {
   "cell_type": "code",
   "execution_count": null,
   "metadata": {},
   "outputs": [],
   "source": [
    "if do_simulation:\n",
    "    t_start = time()\n",
    "    MedicalExample.T_sim = 100\n",
    "    MedicalExample.track_vars = [\"mLvlNow\", \"cLvlNow\", \"MedNow\"]\n",
    "    MedicalExample.makeShockHistory()\n",
    "    MedicalExample.initializeSim()\n",
    "    MedicalExample.simulate()\n",
    "    t_end = time()\n",
    "    print(\n",
    "        \"Simulating \"\n",
    "        + str(MedicalExample.AgentCount)\n",
    "        + \" agents for \"\n",
    "        + str(MedicalExample.T_sim)\n",
    "        + \" periods took \"\n",
    "        + mystr(t_end - t_start)\n",
    "        + \" seconds.\"\n",
    "    )"
   ]
  }
 ],
 "metadata": {
  "jupytext": {
   "cell_metadata_filter": "-all",
   "main_language": "python",
   "notebook_metadata_filter": "-all"
  },
  "kernelspec": {
   "display_name": "Python 3",
   "language": "python",
   "name": "python3"
  },
  "language_info": {
   "codemirror_mode": {
    "name": "ipython",
    "version": 3
   },
   "file_extension": ".py",
   "mimetype": "text/x-python",
   "name": "python",
   "nbconvert_exporter": "python",
   "pygments_lexer": "ipython3",
   "version": "3.6.9"
  }
 },
 "nbformat": 4,
 "nbformat_minor": 4
}
