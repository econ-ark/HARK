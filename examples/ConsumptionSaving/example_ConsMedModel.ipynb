{
 "cells": [
  {
   "cell_type": "code",
   "execution_count": null,
   "metadata": {},
   "outputs": [],
   "source": [
    "from HARK.utilities import CRRAutility_inv\n",
    "from time import time\n",
    "import matplotlib.pyplot as plt\n",
    "import numpy as np\n",
    "from HARK.ConsumptionSaving.ConsMedModel import MedShockConsumerType"
   ]
  },
  {
   "cell_type": "code",
   "execution_count": null,
   "metadata": {},
   "outputs": [],
   "source": [
    "mystr = lambda number: \"{:.4f}\".format(number)"
   ]
  },
  {
   "cell_type": "code",
   "execution_count": null,
   "metadata": {},
   "outputs": [],
   "source": [
    "do_simulation = True"
   ]
  },
  {
   "cell_type": "markdown",
   "metadata": {},
   "source": [
    "This module defines consumption-saving models in which an agent faces medical expenditures and the optimal spending is shared between consumption and medical care.\n",
    "\n",
    "In this model, the agent consumes two goods: an ordinary composite consumption and medical care, which yield CRRAutility, and the coefficients on the goods might be different. The agent expects to receive shocks to permanent and transitory income as well as multiplicative shocks to utility from medical care (medical need shocks)."
   ]
  },
  {
   "cell_type": "markdown",
   "metadata": {},
   "source": [
    "The agent's problem can be written in Bellman form as:\n",
    "\n",
    "\\begin{eqnarray*}\n",
    "v_t(M_t,p_t, medShk_t) &=& \\max_{c_t, med_t} U(c_t, med_t) + \\beta (1-\\mathsf{D}_{t+1}) \\mathbb{E} [v_{t+1}(M_{t+1}, p_{t+1}, medShk_{t+1})], \\\\\n",
    "a_t &=& M_t - c_t, \\\\\n",
    "a_t &\\geq& \\underline{a}, \\\\\n",
    "M_{t+1} &=& R a_t + \\theta_{t+1}, \\\\\n",
    "p_{t+1} &=& \\gimel_{t+1}(p_t)\\psi_{t+1}, \\\\\n",
    "medShk_{t+1} &=&   ,\\\\\n",
    "\\psi_t \\sim F_{\\psi t} &\\qquad&  \\theta_t \\sim F_{\\theta t}, \\mathbb{E} [F_{\\psi t}] = 1, \\\\\n",
    "U(c, med) &=& \\frac{c^{1-\\rho}}{1-\\rho}\\frac{med^{1-\\rho_{med}}}{1-\\rho_{med}}.\n",
    "\\end{eqnarray*}"
   ]
  },
  {
   "cell_type": "markdown",
   "metadata": {},
   "source": [
    "The one period problem for this model is solved by the function $\\texttt{solveConsMedShock}$, which creates an instance of the class $\\texttt{ConsMedShockSolver}$. The class $\\texttt{MedShockConsumerType}$ extends $\\texttt{PersistentShockConsumerType}$ from $\\texttt{GenIncProcessModel}$ to represents agents in this model."
   ]
  },
  {
   "cell_type": "code",
   "execution_count": null,
   "metadata": {},
   "outputs": [],
   "source": [
    "# Make and solve an example medical shocks consumer type\n",
    "MedicalExample = MedShockConsumerType()\n",
    "t_start = time()\n",
    "MedicalExample.solve()\n",
    "t_end = time()\n",
    "print(\"Solving a medical shocks consumer took \" + mystr(t_end - t_start) + \" seconds.\")"
   ]
  },
  {
   "cell_type": "code",
   "execution_count": null,
   "metadata": {},
   "outputs": [],
   "source": [
    "# Plot the consumption function\n",
    "M = np.linspace(0, 30, 300)\n",
    "pLvl = 1.0\n",
    "P = pLvl * np.ones_like(M)\n",
    "for j in range(MedicalExample.MedShkDstn[0].pmf.size):\n",
    "    MedShk = MedicalExample.MedShkDstn[0].X[j] * np.ones_like(M)\n",
    "    M_temp = M + MedicalExample.solution[0].mLvlMin(pLvl)\n",
    "    C = MedicalExample.solution[0].cFunc(M_temp, P, MedShk)\n",
    "    plt.plot(M_temp, C)\n",
    "print(\"Consumption function by medical need shock (constant permanent income)\")\n",
    "plt.show()"
   ]
  },
  {
   "cell_type": "code",
   "execution_count": null,
   "metadata": {},
   "outputs": [],
   "source": [
    "# Plot the medical care function\n",
    "for j in range(MedicalExample.MedShkDstn[0].pmf.size):\n",
    "    MedShk = MedicalExample.MedShkDstn[0].X[j] * np.ones_like(M)\n",
    "    Med = MedicalExample.solution[0].MedFunc(M_temp, P, MedShk)\n",
    "    plt.plot(M_temp, Med)\n",
    "print(\"Medical care function by medical need shock (constant permanent income)\")\n",
    "plt.ylim([0, 20])\n",
    "plt.show()"
   ]
  },
  {
   "cell_type": "code",
   "execution_count": null,
   "metadata": {},
   "outputs": [],
   "source": [
    "# Plot the savings function\n",
    "for j in range(MedicalExample.MedShkDstn[0].pmf.size):\n",
    "    MedShk = MedicalExample.MedShkDstn[0].X[j] * np.ones_like(M)\n",
    "    Sav = (\n",
    "        M_temp\n",
    "        - MedicalExample.solution[0].cFunc(M_temp, P, MedShk)\n",
    "        - MedicalExample.MedPrice[0]\n",
    "        * MedicalExample.solution[0].MedFunc(M_temp, P, MedShk)\n",
    "    )\n",
    "    plt.plot(M_temp, Sav)\n",
    "print(\"End of period savings by medical need shock (constant permanent income)\")\n",
    "plt.show()"
   ]
  },
  {
   "cell_type": "code",
   "execution_count": null,
   "metadata": {},
   "outputs": [],
   "source": [
    "# Plot the marginal value function\n",
    "M = np.linspace(0.0, 30, 300)\n",
    "for p in range(MedicalExample.pLvlGrid[0].size):\n",
    "    pLvl = MedicalExample.pLvlGrid[0][p]\n",
    "    M_temp = pLvl * M + MedicalExample.solution[0].mLvlMin(pLvl)\n",
    "    P = pLvl * np.ones_like(M)\n",
    "    vP = MedicalExample.solution[0].vPfunc(M_temp, P) ** (-1.0 / MedicalExample.CRRA)\n",
    "    plt.plot(M_temp, vP)\n",
    "print(\"Marginal value function (pseudo inverse)\")\n",
    "plt.show()"
   ]
  },
  {
   "cell_type": "code",
   "execution_count": null,
   "metadata": {},
   "outputs": [],
   "source": [
    "if MedicalExample.vFuncBool:\n",
    "    # Plot the value function\n",
    "    M = np.linspace(0.0, 1, 300)\n",
    "    for p in range(MedicalExample.pLvlGrid[0].size):\n",
    "        pLvl = MedicalExample.pLvlGrid[0][p]\n",
    "        M_temp = pLvl * M + MedicalExample.solution[0].mLvlMin(pLvl)\n",
    "        P = pLvl * np.ones_like(M)\n",
    "        v = CRRAutility_inv(\n",
    "            MedicalExample.solution[0].vFunc(M_temp, P), gam=MedicalExample.CRRA\n",
    "        )\n",
    "        plt.plot(M_temp, v)\n",
    "    print(\"Value function (pseudo inverse)\")\n",
    "    plt.show()"
   ]
  },
  {
   "cell_type": "code",
   "execution_count": null,
   "metadata": {},
   "outputs": [],
   "source": [
    "if do_simulation:\n",
    "    t_start = time()\n",
    "    MedicalExample.T_sim = 100\n",
    "    MedicalExample.track_vars = [\"mLvl\", \"cLvl\", \"Med\"]\n",
    "    MedicalExample.make_shock_history()\n",
    "    MedicalExample.initialize_sim()\n",
    "    MedicalExample.simulate()\n",
    "    t_end = time()\n",
    "    print(\n",
    "        \"Simulating \"\n",
    "        + str(MedicalExample.AgentCount)\n",
    "        + \" agents for \"\n",
    "        + str(MedicalExample.T_sim)\n",
    "        + \" periods took \"\n",
    "        + mystr(t_end - t_start)\n",
    "        + \" seconds.\"\n",
    "    )"
   ]
  },
  {
   "cell_type": "code",
   "execution_count": null,
   "metadata": {},
   "outputs": [],
   "source": []
  }
 ],
 "metadata": {
  "jupytext": {
   "cell_metadata_filter": "-all",
   "main_language": "python",
   "notebook_metadata_filter": "-all"
  }
 },
 "nbformat": 4,
 "nbformat_minor": 4
}
