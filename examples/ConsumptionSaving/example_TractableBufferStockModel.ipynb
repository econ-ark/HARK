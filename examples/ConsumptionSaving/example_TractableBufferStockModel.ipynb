{
 "cells": [
  {
   "cell_type": "code",
   "execution_count": null,
   "metadata": {},
   "outputs": [],
   "source": [
    "import numpy as np  # numeric Python\n",
    "from HARK.utilities import plotFuncs  # basic plotting tools\n",
    "from HARK.ConsumptionSaving.ConsMarkovModel import (\n",
    "    MarkovConsumerType,\n",
    ")  # An alternative, much longer way to solve the TBS model\n",
    "from time import process_time  # timing utility\n",
    "from HARK.distribution import DiscreteDistribution\n",
    "from HARK.ConsumptionSaving.TractableBufferStockModel import TractableConsumerType\n",
    "do_simulation = True"
   ]
  },
  {
   "cell_type": "code",
   "execution_count": null,
   "metadata": {},
   "outputs": [],
   "source": [
    "# Define the model primitives\n",
    "base_primitives = {\n",
    "    \"UnempPrb\": 0.00625,  # Probability of becoming unemployed\n",
    "    \"DiscFac\": 0.975,  # Intertemporal discount factor\n",
    "    \"Rfree\": 1.01,  # Risk-free interest factor on assets\n",
    "    \"PermGroFac\": 1.0025,  # Permanent income growth factor (uncompensated)\n",
    "    \"CRRA\": 1.0,\n",
    "}  # Coefficient of relative risk aversion"
   ]
  },
  {
   "cell_type": "code",
   "execution_count": null,
   "metadata": {},
   "outputs": [],
   "source": [
    "# Define a dictionary to be used in case of simulation\n",
    "simulation_values = {\n",
    "    \"aLvlInitMean\": 0.0,  # Mean of log initial assets for new agents\n",
    "    \"aLvlInitStd\": 1.0,  # Stdev of log initial assets for new agents\n",
    "    \"AgentCount\": 10000,  # Number of agents to simulate\n",
    "    \"T_sim\": 120,  # Number of periods to simulate\n",
    "    \"T_cycle\": 1,\n",
    "}  # Number of periods in the cycle"
   ]
  },
  {
   "cell_type": "code",
   "execution_count": null,
   "metadata": {},
   "outputs": [],
   "source": [
    "# Make and solve a tractable consumer type\n",
    "ExampleType = TractableConsumerType(**base_primitives)\n",
    "t_start = process_time()\n",
    "ExampleType.solve()\n",
    "t_end = process_time()\n",
    "print(\n",
    "    \"Solving a tractable consumption-savings model took \"\n",
    "    + str(t_end - t_start)\n",
    "    + \" seconds.\"\n",
    ")"
   ]
  },
  {
   "cell_type": "code",
   "execution_count": null,
   "metadata": {},
   "outputs": [],
   "source": [
    "# Plot the consumption function and whatnot\n",
    "m_upper = 1.5 * ExampleType.mTarg\n",
    "conFunc_PF = lambda m: ExampleType.h * ExampleType.PFMPC + ExampleType.PFMPC * m\n",
    "# plotFuncs([ExampleType.solution[0].cFunc,ExampleType.mSSfunc,ExampleType.cSSfunc],0,m_upper)\n",
    "plotFuncs([ExampleType.solution[0].cFunc, ExampleType.solution[0].cFunc_U], 0, m_upper)"
   ]
  },
  {
   "cell_type": "code",
   "execution_count": null,
   "metadata": {
    "lines_to_next_cell": 2
   },
   "outputs": [],
   "source": [
    "if do_simulation:\n",
    "    ExampleType(**simulation_values)  # Set attributes needed for simulation\n",
    "    ExampleType.track_vars = [\"mLvlNow\"]\n",
    "    ExampleType.makeShockHistory()\n",
    "    ExampleType.initializeSim()\n",
    "    ExampleType.simulate()"
   ]
  },
  {
   "cell_type": "code",
   "execution_count": null,
   "metadata": {},
   "outputs": [],
   "source": [
    "# Now solve the same model using backward induction rather than the analytic method of TBS.\n",
    "# The TBS model is equivalent to a Markov model with two states, one of them absorbing (permanent unemployment).\n",
    "MrkvArray = np.array(\n",
    "    [[1.0 - base_primitives[\"UnempPrb\"], base_primitives[\"UnempPrb\"]], [0.0, 1.0]]\n",
    ")  # Define the two state, absorbing unemployment Markov array\n",
    "init_consumer_objects = {\n",
    "    \"CRRA\": base_primitives[\"CRRA\"],\n",
    "    \"Rfree\": np.array(\n",
    "        2 * [base_primitives[\"Rfree\"]]\n",
    "    ),  # Interest factor (same in both states)\n",
    "    \"PermGroFac\": [\n",
    "        np.array(\n",
    "            2 * [base_primitives[\"PermGroFac\"] / (1.0 - base_primitives[\"UnempPrb\"])]\n",
    "        )\n",
    "    ],  # Unemployment-compensated permanent growth factor\n",
    "    \"BoroCnstArt\": None,  # Artificial borrowing constraint\n",
    "    \"PermShkStd\": [0.0],  # Permanent shock standard deviation\n",
    "    \"PermShkCount\": 1,  # Number of shocks in discrete permanent shock distribution\n",
    "    \"TranShkStd\": [0.0],  # Transitory shock standard deviation\n",
    "    \"TranShkCount\": 1,  # Number of shocks in discrete permanent shock distribution\n",
    "    \"T_cycle\": 1,  # Number of periods in cycle\n",
    "    \"UnempPrb\": 0.0,  # Unemployment probability (not used, as the unemployment here is *permanent*, not transitory)\n",
    "    \"UnempPrbRet\": 0.0,  # Unemployment probability when retired (irrelevant here)\n",
    "    \"T_retire\": 0,  # Age at retirement (turned off)\n",
    "    \"IncUnemp\": 0.0,  # Income when unemployed (irrelevant)\n",
    "    \"IncUnempRet\": 0.0,  # Income when unemployed and retired (irrelevant)\n",
    "    \"aXtraMin\": 0.001,  # Minimum value of assets above minimum in grid\n",
    "    \"aXtraMax\": ExampleType.mUpperBnd,  # Maximum value of assets above minimum in grid\n",
    "    \"aXtraCount\": 48,  # Number of points in assets grid\n",
    "    \"aXtraExtra\": [None],  # Additional points to include in assets grid\n",
    "    \"aXtraNestFac\": 3,  # Degree of exponential nesting when constructing assets grid\n",
    "    \"LivPrb\": [np.array([1.0, 1.0])],  # Survival probability\n",
    "    \"DiscFac\": base_primitives[\"DiscFac\"],  # Intertemporal discount factor\n",
    "    \"AgentCount\": 1,  # Number of agents in a simulation (irrelevant)\n",
    "    \"tax_rate\": 0.0,  # Tax rate on labor income (irrelevant)\n",
    "    \"vFuncBool\": False,  # Whether to calculate the value function\n",
    "    \"CubicBool\": True,  # Whether to use cubic splines (False --> linear splines)\n",
    "    \"MrkvArray\": [MrkvArray],  # State transition probabilities\n",
    "}\n",
    "MarkovType = MarkovConsumerType(**init_consumer_objects)  # Make a basic consumer type\n",
    "employed_income_dist = DiscreteDistribution(np.ones(1),\n",
    "    [np.ones(1), np.ones(1)]\n",
    "    )  # Income distribution when employed\n",
    "unemployed_income_dist = DiscreteDistribution(np.ones(1),\n",
    "    [np.ones(1), np.zeros(1)]\n",
    "    )  # Income distribution when permanently unemployed\n",
    "MarkovType.IncomeDstn = [\n",
    "    [employed_income_dist, unemployed_income_dist]\n",
    "]  # set the income distribution in each state\n",
    "MarkovType.cycles = 0"
   ]
  },
  {
   "cell_type": "code",
   "execution_count": null,
   "metadata": {},
   "outputs": [],
   "source": [
    "# Solve the \"Markov TBS\" model\n",
    "t_start = process_time()\n",
    "MarkovType.solve()\n",
    "t_end = process_time()\n",
    "MarkovType.unpack('cFunc')"
   ]
  },
  {
   "cell_type": "code",
   "execution_count": null,
   "metadata": {},
   "outputs": [],
   "source": [
    "print(\n",
    "    'Solving the same model \"the long way\" took ' + str(t_end - t_start) + \" seconds.\"\n",
    ")\n",
    "# plotFuncs([ExampleType.solution[0].cFunc,ExampleType.solution[0].cFunc_U],0,m_upper)\n",
    "plotFuncs(MarkovType.cFunc[0], 0, m_upper)\n",
    "diffFunc = lambda m: ExampleType.solution[0].cFunc(m) - MarkovType.cFunc[0][0](m)\n",
    "print(\"Difference between the (employed) consumption functions:\")\n",
    "plotFuncs(diffFunc, 0, m_upper)"
   ]
  }
 ],
 "metadata": {
  "jupytext": {
   "cell_metadata_filter": "-all",
   "formats": "ipynb,py",
   "main_language": "python",
   "notebook_metadata_filter": "-all"
  },
  "kernelspec": {
   "display_name": "Python 3",
   "language": "python",
   "name": "python3"
  },
  "language_info": {
   "codemirror_mode": {
    "name": "ipython",
    "version": 3
   },
   "file_extension": ".py",
   "mimetype": "text/x-python",
   "name": "python",
   "nbconvert_exporter": "python",
   "pygments_lexer": "ipython3",
   "version": "3.7.6"
  }
 },
 "nbformat": 4,
 "nbformat_minor": 4
}
