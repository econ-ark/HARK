{
 "cells": [
  {
   "cell_type": "markdown",
   "metadata": {},
   "source": [
    "# Example TractableBufferStockModel"
   ]
  },
  {
   "cell_type": "code",
   "execution_count": 1,
   "metadata": {},
   "outputs": [],
   "source": [
    "import numpy as np  # numeric Python\n",
    "from HARK.utilities import plot_funcs  # basic plotting tools\n",
    "from HARK.ConsumptionSaving.ConsMarkovModel import (\n",
    "    MarkovConsumerType,\n",
    ")  # An alternative, much longer way to solve the TBS model\n",
    "from time import process_time  # timing utility\n",
    "from HARK.distribution import DiscreteDistributionLabeled\n",
    "from HARK.ConsumptionSaving.TractableBufferStockModel import TractableConsumerType\n",
    "\n",
    "do_simulation = True"
   ]
  },
  {
   "cell_type": "code",
   "execution_count": 2,
   "metadata": {},
   "outputs": [],
   "source": [
    "# Define the model primitives\n",
    "base_primitives = {\n",
    "    \"UnempPrb\": 0.00625,  # Probability of becoming unemployed\n",
    "    \"DiscFac\": 0.975,  # Intertemporal discount factor\n",
    "    \"Rfree\": 1.01,  # Risk-free interest factor on assets\n",
    "    \"PermGroFac\": 1.0025,  # Permanent income growth factor (uncompensated)\n",
    "    \"CRRA\": 1.0,\n",
    "}  # Coefficient of relative risk aversion"
   ]
  },
  {
   "cell_type": "code",
   "execution_count": 3,
   "metadata": {},
   "outputs": [],
   "source": [
    "# Define a dictionary to be used in case of simulation\n",
    "simulation_values = {\n",
    "    \"aLvlInitMean\": 0.0,  # Mean of log initial assets for new agents\n",
    "    \"aLvlInitStd\": 1.0,  # Stdev of log initial assets for new agents\n",
    "    \"AgentCount\": 10000,  # Number of agents to simulate\n",
    "    \"T_sim\": 120,  # Number of periods to simulate\n",
    "    \"T_cycle\": 1,\n",
    "}  # Number of periods in the cycle"
   ]
  },
  {
   "cell_type": "code",
   "execution_count": 4,
   "metadata": {},
   "outputs": [
    {
     "name": "stdout",
     "output_type": "stream",
     "text": [
      "Solving a tractable consumption-savings model took 0.0 seconds.\n"
     ]
    }
   ],
   "source": [
    "# Make and solve a tractable consumer type\n",
    "ExampleType = TractableConsumerType()\n",
    "ExampleType.assign_parameters(**base_primitives)\n",
    "t_start = process_time()\n",
    "ExampleType.solve()\n",
    "t_end = process_time()\n",
    "print(\n",
    "    \"Solving a tractable consumption-savings model took \"\n",
    "    + str(t_end - t_start)\n",
    "    + \" seconds.\"\n",
    ")"
   ]
  },
  {
   "cell_type": "code",
   "execution_count": 5,
   "metadata": {},
   "outputs": [
    {
     "data": {
      "image/png": "[encoded data removed]",
      "text/plain": [
       "<Figure size 640x480 with 1 Axes>"
      ]
     },
     "metadata": {},
     "output_type": "display_data"
    }
   ],
   "source": [
    "# Plot the consumption function and whatnot\n",
    "m_upper = 1.5 * ExampleType.mTarg\n",
    "conFunc_PF = lambda m: ExampleType.h * ExampleType.PFMPC + ExampleType.PFMPC * m\n",
    "# plot_funcs([ExampleType.solution[0].cFunc,ExampleType.mSSfunc,ExampleType.cSSfunc],0,m_upper)\n",
    "plot_funcs([ExampleType.solution[0].cFunc, ExampleType.solution[0].cFunc_U], 0, m_upper)"
   ]
  },
  {
   "cell_type": "code",
   "execution_count": 6,
   "metadata": {
    "lines_to_next_cell": 2
   },
   "outputs": [],
   "source": [
    "if do_simulation:\n",
    "    ExampleType.assign_parameters(\n",
    "        **simulation_values\n",
    "    )  # Set attributes needed for simulation\n",
    "    ExampleType.track_vars = [\"mLvl\"]\n",
    "    ExampleType.make_shock_history()\n",
    "    ExampleType.initialize_sim()\n",
    "    ExampleType.simulate()"
   ]
  },
  {
   "cell_type": "code",
   "execution_count": 7,
   "metadata": {},
   "outputs": [
    {
     "ename": "TypeError",
     "evalue": "'<' not supported between instances of 'NoneType' and 'float'",
     "output_type": "error",
     "traceback": [
      "\u001b[1;31m---------------------------------------------------------------------------\u001b[0m",
      "\u001b[1;31mTypeError\u001b[0m                                 Traceback (most recent call last)",
      "Cell \u001b[1;32mIn[7], line 40\u001b[0m\n\u001b[0;32m      3\u001b[0m MrkvArray \u001b[38;5;241m=\u001b[39m np\u001b[38;5;241m.\u001b[39marray(\n\u001b[0;32m      4\u001b[0m     [[\u001b[38;5;241m1.0\u001b[39m \u001b[38;5;241m-\u001b[39m base_primitives[\u001b[38;5;124m\"\u001b[39m\u001b[38;5;124mUnempPrb\u001b[39m\u001b[38;5;124m\"\u001b[39m], base_primitives[\u001b[38;5;124m\"\u001b[39m\u001b[38;5;124mUnempPrb\u001b[39m\u001b[38;5;124m\"\u001b[39m]], [\u001b[38;5;241m0.0\u001b[39m, \u001b[38;5;241m1.0\u001b[39m]]\n\u001b[0;32m      5\u001b[0m )  \u001b[38;5;66;03m# Define the two state, absorbing unemployment Markov array\u001b[39;00m\n\u001b[0;32m      6\u001b[0m init_consumer_objects \u001b[38;5;241m=\u001b[39m {\n\u001b[0;32m      7\u001b[0m     \u001b[38;5;124m\"\u001b[39m\u001b[38;5;124mCRRA\u001b[39m\u001b[38;5;124m\"\u001b[39m: base_primitives[\u001b[38;5;124m\"\u001b[39m\u001b[38;5;124mCRRA\u001b[39m\u001b[38;5;124m\"\u001b[39m],\n\u001b[0;32m      8\u001b[0m     \u001b[38;5;124m\"\u001b[39m\u001b[38;5;124mRfree\u001b[39m\u001b[38;5;124m\"\u001b[39m: np\u001b[38;5;241m.\u001b[39marray(\n\u001b[1;32m   (...)\u001b[0m\n\u001b[0;32m     38\u001b[0m     \u001b[38;5;124m\"\u001b[39m\u001b[38;5;124mMrkvArray\u001b[39m\u001b[38;5;124m\"\u001b[39m: [MrkvArray],  \u001b[38;5;66;03m# State transition probabilities\u001b[39;00m\n\u001b[0;32m     39\u001b[0m }\n\u001b[1;32m---> 40\u001b[0m MarkovType \u001b[38;5;241m=\u001b[39m MarkovConsumerType(\u001b[38;5;241m*\u001b[39m\u001b[38;5;241m*\u001b[39minit_consumer_objects)\n",
      "File \u001b[1;32m~\\Documents\\GitHub\\HARK\\HARK\\ConsumptionSaving\\ConsMarkovModel.py:533\u001b[0m, in \u001b[0;36mMarkovConsumerType.__init__\u001b[1;34m(self, **kwds)\u001b[0m\n\u001b[0;32m    532\u001b[0m \u001b[38;5;28;01mdef\u001b[39;00m \u001b[38;5;21m__init__\u001b[39m(\u001b[38;5;28mself\u001b[39m, \u001b[38;5;241m*\u001b[39m\u001b[38;5;241m*\u001b[39mkwds):\n\u001b[1;32m--> 533\u001b[0m     IndShockConsumerType\u001b[38;5;241m.\u001b[39m\u001b[38;5;21m__init__\u001b[39m(\u001b[38;5;28mself\u001b[39m, \u001b[38;5;241m*\u001b[39m\u001b[38;5;241m*\u001b[39mkwds)\n\u001b[0;32m    534\u001b[0m     \u001b[38;5;28mself\u001b[39m\u001b[38;5;241m.\u001b[39msolve_one_period \u001b[38;5;241m=\u001b[39m solve_one_period_ConsMarkov\n\u001b[0;32m    536\u001b[0m     \u001b[38;5;28;01mif\u001b[39;00m \u001b[38;5;129;01mnot\u001b[39;00m \u001b[38;5;28mhasattr\u001b[39m(\u001b[38;5;28mself\u001b[39m, \u001b[38;5;124m\"\u001b[39m\u001b[38;5;124mglobal_markov\u001b[39m\u001b[38;5;124m\"\u001b[39m):\n",
      "File \u001b[1;32m~\\Documents\\GitHub\\HARK\\HARK\\ConsumptionSaving\\ConsIndShockModel.py:1774\u001b[0m, in \u001b[0;36mIndShockConsumerType.__init__\u001b[1;34m(self, verbose, quiet, **kwds)\u001b[0m\n\u001b[0;32m   1772\u001b[0m \u001b[38;5;66;03m# Add consumer-type specific objects, copying to create independent versions\u001b[39;00m\n\u001b[0;32m   1773\u001b[0m \u001b[38;5;28mself\u001b[39m\u001b[38;5;241m.\u001b[39msolve_one_period \u001b[38;5;241m=\u001b[39m solve_one_period_ConsIndShock\n\u001b[1;32m-> 1774\u001b[0m \u001b[38;5;28;43mself\u001b[39;49m\u001b[38;5;241;43m.\u001b[39;49m\u001b[43mupdate\u001b[49m\u001b[43m(\u001b[49m\u001b[43m)\u001b[49m\n",
      "File \u001b[1;32m~\\Documents\\GitHub\\HARK\\HARK\\ConsumptionSaving\\ConsIndShockModel.py:1820\u001b[0m, in \u001b[0;36mIndShockConsumerType.update\u001b[1;34m(self)\u001b[0m\n\u001b[0;32m   1808\u001b[0m \u001b[38;5;250m\u001b[39m\u001b[38;5;124;03m\"\"\"\u001b[39;00m\n\u001b[0;32m   1809\u001b[0m \u001b[38;5;124;03mUpdate the income process, the assets grid, and the terminal solution.\u001b[39;00m\n\u001b[0;32m   1810\u001b[0m \n\u001b[1;32m   (...)\u001b[0m\n\u001b[0;32m   1817\u001b[0m \u001b[38;5;124;03mNone\u001b[39;00m\n\u001b[0;32m   1818\u001b[0m \u001b[38;5;124;03m\"\"\"\u001b[39;00m\n\u001b[0;32m   1819\u001b[0m \u001b[38;5;28mself\u001b[39m\u001b[38;5;241m.\u001b[39mupdate_income_process()\n\u001b[1;32m-> 1820\u001b[0m \u001b[38;5;28;43mself\u001b[39;49m\u001b[38;5;241;43m.\u001b[39;49m\u001b[43mupdate_assets_grid\u001b[49m\u001b[43m(\u001b[49m\u001b[43m)\u001b[49m\n\u001b[0;32m   1821\u001b[0m \u001b[38;5;28mself\u001b[39m\u001b[38;5;241m.\u001b[39mupdate_solution_terminal()\n",
      "File \u001b[1;32m~\\Documents\\GitHub\\HARK\\HARK\\ConsumptionSaving\\ConsIndShockModel.py:1804\u001b[0m, in \u001b[0;36mIndShockConsumerType.update_assets_grid\u001b[1;34m(self)\u001b[0m\n\u001b[0;32m   1791\u001b[0m \u001b[38;5;28;01mdef\u001b[39;00m \u001b[38;5;21mupdate_assets_grid\u001b[39m(\u001b[38;5;28mself\u001b[39m):\n\u001b[0;32m   1792\u001b[0m \u001b[38;5;250m    \u001b[39m\u001b[38;5;124;03m\"\"\"\u001b[39;00m\n\u001b[0;32m   1793\u001b[0m \u001b[38;5;124;03m    Updates this agent's end-of-period assets grid by constructing a multi-\u001b[39;00m\n\u001b[0;32m   1794\u001b[0m \u001b[38;5;124;03m    exponentially spaced grid of aXtra values.\u001b[39;00m\n\u001b[1;32m   (...)\u001b[0m\n\u001b[0;32m   1802\u001b[0m \u001b[38;5;124;03m    none\u001b[39;00m\n\u001b[0;32m   1803\u001b[0m \u001b[38;5;124;03m    \"\"\"\u001b[39;00m\n\u001b[1;32m-> 1804\u001b[0m     \u001b[38;5;28;43mself\u001b[39;49m\u001b[38;5;241;43m.\u001b[39;49m\u001b[43mconstruct\u001b[49m\u001b[43m(\u001b[49m\u001b[38;5;124;43m\"\u001b[39;49m\u001b[38;5;124;43maXtraGrid\u001b[39;49m\u001b[38;5;124;43m\"\u001b[39;49m\u001b[43m)\u001b[49m\n\u001b[0;32m   1805\u001b[0m     \u001b[38;5;28mself\u001b[39m\u001b[38;5;241m.\u001b[39madd_to_time_inv(\u001b[38;5;124m\"\u001b[39m\u001b[38;5;124maXtraGrid\u001b[39m\u001b[38;5;124m\"\u001b[39m)\n",
      "File \u001b[1;32m~\\Documents\\GitHub\\HARK\\HARK\\core.py:406\u001b[0m, in \u001b[0;36mModel.construct\u001b[1;34m(self, *args)\u001b[0m\n\u001b[0;32m    403\u001b[0m \u001b[38;5;66;03m# If all of the required data was found, run the constructor and\u001b[39;00m\n\u001b[0;32m    404\u001b[0m \u001b[38;5;66;03m# store the result in parameters (and on self)\u001b[39;00m\n\u001b[0;32m    405\u001b[0m \u001b[38;5;28;01mif\u001b[39;00m \u001b[38;5;129;01mnot\u001b[39;00m any_missing:\n\u001b[1;32m--> 406\u001b[0m     temp \u001b[38;5;241m=\u001b[39m constructor(\u001b[38;5;241m*\u001b[39m\u001b[38;5;241m*\u001b[39mtemp_dict)\n\u001b[0;32m    407\u001b[0m     \u001b[38;5;28msetattr\u001b[39m(\u001b[38;5;28mself\u001b[39m, key, temp)\n\u001b[0;32m    408\u001b[0m     \u001b[38;5;28mself\u001b[39m\u001b[38;5;241m.\u001b[39mparameters[key] \u001b[38;5;241m=\u001b[39m temp\n",
      "File \u001b[1;32m~\\Documents\\GitHub\\HARK\\HARK\\utilities.py:161\u001b[0m, in \u001b[0;36mconstruct_assets_grid\u001b[1;34m(aXtraMin, aXtraMax, aXtraCount, aXtraExtra, aXtraNestFac)\u001b[0m\n\u001b[0;32m    159\u001b[0m \u001b[38;5;66;03m# Add in additional points for the grid:\u001b[39;00m\n\u001b[0;32m    160\u001b[0m \u001b[38;5;28;01mif\u001b[39;00m aXtraExtra \u001b[38;5;129;01mis\u001b[39;00m \u001b[38;5;129;01mnot\u001b[39;00m \u001b[38;5;28;01mNone\u001b[39;00m:\n\u001b[1;32m--> 161\u001b[0m     aXtraGrid \u001b[38;5;241m=\u001b[39m np\u001b[38;5;241m.\u001b[39msort(\u001b[43mnp\u001b[49m\u001b[38;5;241;43m.\u001b[39;49m\u001b[43munique\u001b[49m\u001b[43m(\u001b[49m\u001b[43mnp\u001b[49m\u001b[38;5;241;43m.\u001b[39;49m\u001b[43mconcatenate\u001b[49m\u001b[43m(\u001b[49m\u001b[43m(\u001b[49m\u001b[43maXtraGrid\u001b[49m\u001b[43m,\u001b[49m\u001b[43m \u001b[49m\u001b[43maXtraExtra\u001b[49m\u001b[43m)\u001b[49m\u001b[43m)\u001b[49m\u001b[43m)\u001b[49m)\n\u001b[0;32m    163\u001b[0m \u001b[38;5;28;01mreturn\u001b[39;00m aXtraGrid\n",
      "File \u001b[1;32m~\\Anaconda3\\envs\\HARKlatest\\lib\\site-packages\\numpy\\lib\\arraysetops.py:274\u001b[0m, in \u001b[0;36munique\u001b[1;34m(ar, return_index, return_inverse, return_counts, axis, equal_nan)\u001b[0m\n\u001b[0;32m    272\u001b[0m ar \u001b[38;5;241m=\u001b[39m np\u001b[38;5;241m.\u001b[39masanyarray(ar)\n\u001b[0;32m    273\u001b[0m \u001b[38;5;28;01mif\u001b[39;00m axis \u001b[38;5;129;01mis\u001b[39;00m \u001b[38;5;28;01mNone\u001b[39;00m:\n\u001b[1;32m--> 274\u001b[0m     ret \u001b[38;5;241m=\u001b[39m \u001b[43m_unique1d\u001b[49m\u001b[43m(\u001b[49m\u001b[43mar\u001b[49m\u001b[43m,\u001b[49m\u001b[43m \u001b[49m\u001b[43mreturn_index\u001b[49m\u001b[43m,\u001b[49m\u001b[43m \u001b[49m\u001b[43mreturn_inverse\u001b[49m\u001b[43m,\u001b[49m\u001b[43m \u001b[49m\u001b[43mreturn_counts\u001b[49m\u001b[43m,\u001b[49m\u001b[43m \u001b[49m\n\u001b[0;32m    275\u001b[0m \u001b[43m                    \u001b[49m\u001b[43mequal_nan\u001b[49m\u001b[38;5;241;43m=\u001b[39;49m\u001b[43mequal_nan\u001b[49m\u001b[43m)\u001b[49m\n\u001b[0;32m    276\u001b[0m     \u001b[38;5;28;01mreturn\u001b[39;00m _unpack_tuple(ret)\n\u001b[0;32m    278\u001b[0m \u001b[38;5;66;03m# axis was specified and not None\u001b[39;00m\n",
      "File \u001b[1;32m~\\Anaconda3\\envs\\HARKlatest\\lib\\site-packages\\numpy\\lib\\arraysetops.py:336\u001b[0m, in \u001b[0;36m_unique1d\u001b[1;34m(ar, return_index, return_inverse, return_counts, equal_nan)\u001b[0m\n\u001b[0;32m    334\u001b[0m     aux \u001b[38;5;241m=\u001b[39m ar[perm]\n\u001b[0;32m    335\u001b[0m \u001b[38;5;28;01melse\u001b[39;00m:\n\u001b[1;32m--> 336\u001b[0m     \u001b[43mar\u001b[49m\u001b[38;5;241;43m.\u001b[39;49m\u001b[43msort\u001b[49m\u001b[43m(\u001b[49m\u001b[43m)\u001b[49m\n\u001b[0;32m    337\u001b[0m     aux \u001b[38;5;241m=\u001b[39m ar\n\u001b[0;32m    338\u001b[0m mask \u001b[38;5;241m=\u001b[39m np\u001b[38;5;241m.\u001b[39mempty(aux\u001b[38;5;241m.\u001b[39mshape, dtype\u001b[38;5;241m=\u001b[39mnp\u001b[38;5;241m.\u001b[39mbool_)\n",
      "\u001b[1;31mTypeError\u001b[0m: '<' not supported between instances of 'NoneType' and 'float'"
     ]
    }
   ],
   "source": [
    "# Now solve the same model using backward induction rather than the analytic method of TBS.\n",
    "# The TBS model is equivalent to a Markov model with two states, one of them absorbing (permanent unemployment).\n",
    "MrkvArray = np.array(\n",
    "    [[1.0 - base_primitives[\"UnempPrb\"], base_primitives[\"UnempPrb\"]], [0.0, 1.0]]\n",
    ")  # Define the two state, absorbing unemployment Markov array\n",
    "init_consumer_objects = {\n",
    "    \"CRRA\": base_primitives[\"CRRA\"],\n",
    "    \"Rfree\": np.array(\n",
    "        2 * [base_primitives[\"Rfree\"]]\n",
    "    ),  # Interest factor (same in both states)\n",
    "    \"PermGroFac\": [\n",
    "        np.array(\n",
    "            2 * [base_primitives[\"PermGroFac\"] / (1.0 - base_primitives[\"UnempPrb\"])]\n",
    "        )\n",
    "    ],  # Unemployment-compensated permanent growth factor\n",
    "    \"BoroCnstArt\": None,  # Artificial borrowing constraint\n",
    "    \"PermShkStd\": [0.0],  # Permanent shock standard deviation\n",
    "    \"PermShkCount\": 1,  # Number of shocks in discrete permanent shock distribution\n",
    "    \"TranShkStd\": [0.0],  # Transitory shock standard deviation\n",
    "    \"TranShkCount\": 1,  # Number of shocks in discrete permanent shock distribution\n",
    "    \"T_cycle\": 1,  # Number of periods in cycle\n",
    "    \"UnempPrb\": 0.0,  # Unemployment probability (not used, as the unemployment here is *permanent*, not transitory)\n",
    "    \"UnempPrbRet\": 0.0,  # Unemployment probability when retired (irrelevant here)\n",
    "    \"T_retire\": 0,  # Age at retirement (turned off)\n",
    "    \"IncUnemp\": 0.0,  # Income when unemployed (irrelevant)\n",
    "    \"IncUnempRet\": 0.0,  # Income when unemployed and retired (irrelevant)\n",
    "    \"aXtraMin\": 0.001,  # Minimum value of assets above minimum in grid\n",
    "    \"aXtraMax\": ExampleType.mUpperBnd,  # Maximum value of assets above minimum in grid\n",
    "    \"aXtraCount\": 48,  # Number of points in assets grid\n",
    "    \"aXtraExtra\": None,  # Additional points to include in assets grid\n",
    "    \"aXtraNestFac\": 3,  # Degree of exponential nesting when constructing assets grid\n",
    "    \"LivPrb\": [np.array([1.0, 1.0])],  # Survival probability\n",
    "    \"DiscFac\": base_primitives[\"DiscFac\"],  # Intertemporal discount factor\n",
    "    \"AgentCount\": 1,  # Number of agents in a simulation (irrelevant)\n",
    "    \"tax_rate\": 0.0,  # Tax rate on labor income (irrelevant)\n",
    "    \"vFuncBool\": False,  # Whether to calculate the value function\n",
    "    \"CubicBool\": True,  # Whether to use cubic splines (False --> linear splines)\n",
    "    \"MrkvArray\": [MrkvArray],  # State transition probabilities\n",
    "}\n",
    "MarkovType = MarkovConsumerType(**init_consumer_objects)  # Make a basic consumer type"
   ]
  },
  {
   "cell_type": "code",
   "execution_count": null,
   "metadata": {},
   "outputs": [],
   "source": [
    "employed_income_dist = DiscreteDistributionLabeled(\n",
    "    pmv=np.ones(1), atoms=np.array([[1.0], [1.0]]), var_names=[\"PermShk\", \"TranShk\"]\n",
    ")  # Income distribution when employed\n",
    "unemployed_income_dist = DiscreteDistributionLabeled(\n",
    "    pmv=np.ones(1), atoms=np.array([[1.0], [0.0]]), var_names=[\"PermShk\", \"TranShk\"]\n",
    ")  # Income distribution when permanently unemployed"
   ]
  },
  {
   "cell_type": "code",
   "execution_count": null,
   "metadata": {},
   "outputs": [],
   "source": [
    "MarkovType.IncShkDstn = [\n",
    "    [employed_income_dist, unemployed_income_dist]\n",
    "]  # set the income distribution in each state\n",
    "MarkovType.cycles = 0"
   ]
  },
  {
   "cell_type": "code",
   "execution_count": null,
   "metadata": {},
   "outputs": [],
   "source": [
    "# Solve the \"Markov TBS\" model\n",
    "t_start = process_time()\n",
    "MarkovType.solve()\n",
    "t_end = process_time()\n",
    "MarkovType.unpack(\"cFunc\")"
   ]
  },
  {
   "cell_type": "code",
   "execution_count": null,
   "metadata": {},
   "outputs": [],
   "source": [
    "print(\n",
    "    'Solving the same model \"the long way\" took ' + str(t_end - t_start) + \" seconds.\"\n",
    ")\n",
    "# plot_funcs([ExampleType.solution[0].cFunc,ExampleType.solution[0].cFunc_U],0,m_upper)\n",
    "plot_funcs(MarkovType.cFunc[0], 0, m_upper)\n",
    "diffFunc = lambda m: ExampleType.solution[0].cFunc(m) - MarkovType.cFunc[0][0](m)\n",
    "print(\"Difference between the (employed) consumption functions:\")\n",
    "plot_funcs(diffFunc, 0, m_upper)"
   ]
  },
  {
   "cell_type": "code",
   "execution_count": null,
   "metadata": {},
   "outputs": [],
   "source": []
  },
  {
   "cell_type": "code",
   "execution_count": null,
   "metadata": {},
   "outputs": [],
   "source": []
  }
 ],
 "metadata": {
  "jupytext": {
   "cell_metadata_filter": "-all",
   "formats": "ipynb,py:percent"
  },
  "kernelspec": {
   "display_name": "Python 3 (ipykernel)",
   "language": "python",
   "name": "python3"
  },
  "language_info": {
   "codemirror_mode": {
    "name": "ipython",
    "version": 3
   },
   "file_extension": ".py",
   "mimetype": "text/x-python",
   "name": "python",
   "nbconvert_exporter": "python",
   "pygments_lexer": "ipython3",
   "version": "3.10.14"
  },
  "latex_envs": {
   "LaTeX_envs_menu_present": true,
   "autoclose": false,
   "autocomplete": true,
   "bibliofile": "biblio.bib",
   "cite_by": "apalike",
   "current_citInitial": 1,
   "eqLabelWithNumbers": true,
   "eqNumInitial": 1,
   "hotkeys": {
    "equation": "Ctrl-E",
    "itemize": "Ctrl-I"
   },
   "labels_anchors": false,
   "latex_user_defs": false,
   "report_style_numbering": false,
   "user_envs_cfg": false
  }
 },
 "nbformat": 4,
 "nbformat_minor": 4
}
