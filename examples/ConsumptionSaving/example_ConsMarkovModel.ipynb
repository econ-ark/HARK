{
 "cells": [
  {
   "cell_type": "code",
   "execution_count": 1,
   "metadata": {},
   "outputs": [],
   "source": [
    "from HARK.utilities import plot_funcs\n",
    "from time import process_time\n",
    "from copy import deepcopy, copy\n",
    "import numpy as np\n",
    "from HARK.ConsumptionSaving.ConsIndShockModel import init_idiosyncratic_shocks\n",
    "from HARK.ConsumptionSaving.ConsMarkovModel import MarkovConsumerType\n",
    "from HARK.distribution import DiscreteDistribution\n",
    "mystr = lambda number: \"{:.4f}\".format(number)\n",
    "do_simulation = True"
   ]
  },
  {
   "cell_type": "markdown",
   "metadata": {},
   "source": [
    "This module defines consumption-saving models in which an agent has CRRA utility over consumption, geometrically discounts future utility flows and expects to experience transitory and permanent shocks to his/her income. Moreover, in any given period s/he is in exactly one of several discrete states. This state evolves from period to period according to a Markov process."
   ]
  },
  {
   "cell_type": "markdown",
   "metadata": {},
   "source": [
    "In this model, an agent is very similar to the one in the \"idiosyncratic shocks\" model of $\\texttt{ConsPrefShockModel}$, except that here, an agent's income distribution ($F_{\\psi t},F_{\\theta t}$), permanent income growth rate $\\Gamma_{t+1}$ and interest factor $R$ are all functions of the Markov state and might vary across states.\n",
    "\n",
    "The agent's problem can be written in Bellman form as:\n",
    "\n",
    "\\begin{eqnarray*}\n",
    "v_t(m_t,s_t) &=& \\max_{c_t} u(c_t) + \\beta (1-\\mathsf{D}_{t+1}) \\mathbb{E} [v_{t+1}(m_{t+1}, s_{t+1}) ], \\\\\n",
    "a_t &=& m_t - c_t, \\\\\n",
    "a_t &\\geq& \\underline{a}, \\\\\n",
    "m_{t+1} &=& \\frac{R(s_{t+1})}{\\Gamma(s_{t+1})\\psi_{t+1}} a_t + \\theta_{t+1}, \\\\\n",
    "\\theta_{t} \\sim F_{\\theta t}(s_t), &\\qquad& \\psi_{t} \\sim F_{\\psi t}(s_t), \\mathbb{E} [F_{\\psi t}(s_t)] = 1, \\\\\n",
    "Prob[s_{t+1}=j| s_t=i] &=& \\triangle_{ij}, \\\\\n",
    "u(c) &=& \\frac{c^{1-\\rho}}{1-\\rho}\n",
    "\\end{eqnarray*}\n",
    "\n",
    "The Markov matrix $\\triangle$ is giving transition probabilities from current state $i$ to future state $j$. "
   ]
  },
  {
   "cell_type": "markdown",
   "metadata": {},
   "source": [
    "The one period problem for this model is solved by the function $\\texttt{solveConsMarkov}$, which creates an instance of the class $\\texttt{ConsMarkovSolver}$. The class $\\texttt{MarkovConsumerType}$ extends $\\texttt{IndShockConsumerType}$ to represents agents in this model.\n",
    "\n",
    "To construct an instance of this class, the same attributes as for $\\texttt{IndShockConsumerType}$ are required, except for one as described below:"
   ]
  },
  {
   "cell_type": "markdown",
   "metadata": {},
   "source": [
    "### Additional parameter value to solve an instance of MarkovConsumerType\n",
    "\n",
    "| Param | Description | Code | Value | Constructed |\n",
    "| :---: | --- | --- | --- | :---: |\n",
    "| $\\triangle$ |Discrete state transition probability matrix  | $\\texttt{MrkvArray}$ |  |$\\surd$ |\n",
    "\n",
    "The attribute $\\texttt{MrkvArray}$ is a $\\texttt{numpy.array}$ of size ($N_s$, $N_s$) corresponding to the number of discrete states. \n",
    "\n",
    "Note that $\\texttt{MrkvArray}$ is am element of $\\texttt{time_inv}$, so that the same transition probabilities are used for each period. However, it can be moved to $\\texttt{time_vary}$ and specified as a list of $\\texttt{array}$s instead.\n",
    "\n",
    "The attributes $\\texttt{Rfree}$, $\\texttt{PermGroFac}$ and $\\texttt{IncomeDstn}$ should be specified as arrays or lists with $N_s$ elements for each period."
   ]
  },
  {
   "cell_type": "markdown",
   "metadata": {},
   "source": [
    "### Solve MarkovConsumerType\n",
    "\n",
    "When the $\\texttt{MarkovConsumerType}$ method of a $\\texttt{MarkovConsumerType}$ is invoked, the $\\texttt{solution}$ attribute is populated with a list of $\\texttt{ConsumerSolution}$ objects, which each have the same attributes as the \"idiosyncratic shocks\" model. However, each attribute is now a list (or array) whose elements are *state-conditional* values of that object. \n",
    "\n",
    "For example, in a model with 4 discrete states, each the $\\texttt{cFunc}$ attribute of each element of $\\texttt{solution}$ is a length-4 list whose elements are state-conditional consumption functions. That is, $\\texttt{cFunc[2]}$ is the consumption function when $s_t = 2$.\n",
    "\n",
    "$\\texttt{ConsMarkovModel}$ is compatible with cubic spline interpolation for the consumption functions, so $\\texttt{CubicBool = True}$ will not generate an exception. The problem is solved using the [method of endogenous gridpoints](http://www.econ2.jhu.edu/people/ccarroll/EndogenousGridpoints.pdf), which is moderately more complicated than in the basic $\\texttt{ConsPrefShockModel}$."
   ]
  },
  {
   "cell_type": "code",
   "execution_count": 2,
   "metadata": {},
   "outputs": [],
   "source": [
    "# Define the Markov transition matrix for serially correlated unemployment\n",
    "unemp_length = 5  # Averange length of unemployment spell\n",
    "urate_good = 0.05  # Unemployment rate when economy is in good state\n",
    "urate_bad = 0.12  # Unemployment rate when economy is in bad state\n",
    "bust_prob = 0.01  # Probability of economy switching from good to bad\n",
    "recession_length = 20  # Averange length of bad state\n",
    "p_reemploy = 1.0 / unemp_length\n",
    "p_unemploy_good = p_reemploy * urate_good / (1 - urate_good)\n",
    "p_unemploy_bad = p_reemploy * urate_bad / (1 - urate_bad)\n",
    "boom_prob = 1.0 / recession_length\n",
    "MrkvArray = np.array(\n",
    "    [\n",
    "        [\n",
    "            (1 - p_unemploy_good) * (1 - bust_prob),\n",
    "            p_unemploy_good * (1 - bust_prob),\n",
    "            (1 - p_unemploy_good) * bust_prob,\n",
    "            p_unemploy_good * bust_prob,\n",
    "        ],\n",
    "        [\n",
    "            p_reemploy * (1 - bust_prob),\n",
    "            (1 - p_reemploy) * (1 - bust_prob),\n",
    "            p_reemploy * bust_prob,\n",
    "            (1 - p_reemploy) * bust_prob,\n",
    "        ],\n",
    "        [\n",
    "            (1 - p_unemploy_bad) * boom_prob,\n",
    "            p_unemploy_bad * boom_prob,\n",
    "            (1 - p_unemploy_bad) * (1 - boom_prob),\n",
    "            p_unemploy_bad * (1 - boom_prob),\n",
    "        ],\n",
    "        [\n",
    "            p_reemploy * boom_prob,\n",
    "            (1 - p_reemploy) * boom_prob,\n",
    "            p_reemploy * (1 - boom_prob),\n",
    "            (1 - p_reemploy) * (1 - boom_prob),\n",
    "        ],\n",
    "    ]\n",
    ")"
   ]
  },
  {
   "cell_type": "markdown",
   "metadata": {},
   "source": [
    "Several variant examples of the model will be illustrated below such that:\n",
    "1. Model with serially correlated unemployment\n",
    "2. Model with period of \"unemployment immunity\"\n",
    "3. Model with serially correlated permanent income growth\n",
    "4. Model with serially correlated interest factor\n",
    "\n",
    "### 1. Serial Unemployment \n",
    "\n",
    "Let's create a consumer similar to the one in \"idiosyncratic shock\" model but who faces serially correlated unemployment during boom or bust cycles of the economy."
   ]
  },
  {
   "cell_type": "code",
   "execution_count": 3,
   "metadata": {},
   "outputs": [],
   "source": [
    "# Make a consumer with serially correlated unemployment, subject to boom and bust cycles\n",
    "init_serial_unemployment = copy(init_idiosyncratic_shocks)\n",
    "init_serial_unemployment[\"MrkvArray\"] = [MrkvArray]\n",
    "init_serial_unemployment[\"UnempPrb\"] = 0.0  # to make income distribution when employed\n",
    "init_serial_unemployment[\"global_markov\"] = False\n",
    "SerialUnemploymentExample = MarkovConsumerType(**init_serial_unemployment)\n",
    "SerialUnemploymentExample.cycles = 0\n",
    "SerialUnemploymentExample.vFuncBool = False  # for easy toggling here"
   ]
  },
  {
   "cell_type": "code",
   "execution_count": 4,
   "metadata": {},
   "outputs": [],
   "source": [
    "# Replace the default (lognormal) income distribution with a custom one\n",
    "employed_income_dist = DiscreteDistribution(np.ones(1), [np.ones(1), np.ones(1)])  # Definitely get income\n",
    "unemployed_income_dist = DiscreteDistribution(np.ones(1), [np.ones(1), np.zeros(1)]) # Definitely don't\n",
    "SerialUnemploymentExample.IncShkDstn = [\n",
    "    [\n",
    "        employed_income_dist,\n",
    "        unemployed_income_dist,\n",
    "        employed_income_dist,\n",
    "        unemployed_income_dist,\n",
    "    ]\n",
    "]"
   ]
  },
  {
   "cell_type": "markdown",
   "metadata": {},
   "source": [
    "Note that $\\texttt{MarkovConsumerType}$ currently has no method to automatically construct a valid IncomeDstn - $\\texttt{IncomeDstn}$ is manually constructed in each case. Writing a method to supersede $\\texttt{IndShockConsumerType.update_income_process}$ for the “Markov model” would be a welcome contribution!"
   ]
  },
  {
   "cell_type": "code",
   "execution_count": 5,
   "metadata": {},
   "outputs": [],
   "source": [
    "# Interest factor, permanent growth rates, and survival probabilities are constant arrays\n",
    "SerialUnemploymentExample.assign_parameters(Rfree = np.array(4 * [SerialUnemploymentExample.Rfree]))\n",
    "SerialUnemploymentExample.PermGroFac = [\n",
    "    np.array(4 * SerialUnemploymentExample.PermGroFac)\n",
    "]\n",
    "SerialUnemploymentExample.LivPrb = [SerialUnemploymentExample.LivPrb * np.ones(4)]"
   ]
  },
  {
   "cell_type": "code",
   "execution_count": 6,
   "metadata": {},
   "outputs": [
    {
     "name": "stdout",
     "output_type": "stream",
     "text": [
      "Solving a Markov consumer with serially correlated unemployment took 0.3281 seconds.\n",
      "Consumption functions for each discrete state:\n"
     ]
    },
    {
     "data": {
      "image/png": "[encoded data removed]",
      "text/plain": [
       "<Figure size 432x288 with 1 Axes>"
      ]
     },
     "metadata": {
      "needs_background": "light"
     },
     "output_type": "display_data"
    }
   ],
   "source": [
    "# Solve the serial unemployment consumer's problem and display solution\n",
    "start_time = process_time()\n",
    "SerialUnemploymentExample.solve()\n",
    "end_time = process_time()\n",
    "print(\n",
    "    \"Solving a Markov consumer with serially correlated unemployment took \"\n",
    "    + mystr(end_time - start_time)\n",
    "    + \" seconds.\"\n",
    ")\n",
    "print(\"Consumption functions for each discrete state:\")\n",
    "plot_funcs(SerialUnemploymentExample.solution[0].cFunc, 0, 50)\n",
    "if SerialUnemploymentExample.vFuncBool:\n",
    "    print(\"Value functions for each discrete state:\")\n",
    "    plot_funcs(SerialUnemploymentExample.solution[0].vFunc, 5, 50)"
   ]
  },
  {
   "cell_type": "code",
   "execution_count": 7,
   "metadata": {},
   "outputs": [],
   "source": [
    "# Simulate some data; results stored in cHist, mNrm_hist, cNrm_hist, and Mrkv_hist\n",
    "if do_simulation:\n",
    "    SerialUnemploymentExample.T_sim = 120\n",
    "    SerialUnemploymentExample.MrkvPrbsInit = [0.25, 0.25, 0.25, 0.25]\n",
    "    SerialUnemploymentExample.track_vars = [\"mNrm\", \"cNrm\"]\n",
    "    SerialUnemploymentExample.make_shock_history()  # This is optional\n",
    "    SerialUnemploymentExample.initialize_sim()\n",
    "    SerialUnemploymentExample.simulate()"
   ]
  },
  {
   "cell_type": "markdown",
   "metadata": {},
   "source": [
    "### 2. Unemployment immunity for a fixed period\n",
    "\n",
    "Let's create a consumer similar to the one in \"idiosyncratic shock\" model but who occasionally gets \"unemployment immunity\" for a fixed period in an economy subject to boom and bust cycles."
   ]
  },
  {
   "cell_type": "code",
   "execution_count": 8,
   "metadata": {},
   "outputs": [],
   "source": [
    "# Make a consumer who occasionally gets \"unemployment immunity\" for a fixed period\n",
    "UnempPrb = 0.05  # Probability of becoming unemployed each period\n",
    "ImmunityPrb = 0.01  # Probability of becoming \"immune\" to unemployment\n",
    "ImmunityT = 6  # Number of periods of immunity"
   ]
  },
  {
   "cell_type": "code",
   "execution_count": 9,
   "metadata": {},
   "outputs": [],
   "source": [
    "StateCount = ImmunityT + 1  # Total number of Markov states\n",
    "IncomeDstnReg = DiscreteDistribution(\n",
    "    np.array([1 - UnempPrb, UnempPrb]),\n",
    "    [np.array([1.0, 1.0]),\n",
    "     np.array([1.0 / (1.0 - UnempPrb), 0.0])]\n",
    ")  # Ordinary income distribution\n",
    "IncomeDstnImm = DiscreteDistribution(\n",
    "    np.array([1.0]),\n",
    "    [np.array([1.0]),\n",
    "     np.array([1.0])]\n",
    ")\n",
    "IncomeDstn = [IncomeDstnReg] + ImmunityT * [\n",
    "    IncomeDstnImm\n",
    "]  # Income distribution for each Markov state, in a list"
   ]
  },
  {
   "cell_type": "code",
   "execution_count": 10,
   "metadata": {},
   "outputs": [],
   "source": [
    "# Make the Markov transition array.  MrkvArray[i,j] is the probability of transitioning\n",
    "# to state j in period t+1 from state i in period t.\n",
    "MrkvArray = np.zeros((StateCount, StateCount))\n",
    "MrkvArray[0, 0] = (\n",
    "    1.0 - ImmunityPrb\n",
    ")  # Probability of not becoming immune in ordinary state: stay in ordinary state\n",
    "MrkvArray[\n",
    "    0, ImmunityT\n",
    "] = (\n",
    "    ImmunityPrb\n",
    ")  # Probability of becoming immune in ordinary state: begin immunity periods\n",
    "for j in range(ImmunityT):\n",
    "    MrkvArray[\n",
    "        j + 1, j\n",
    "    ] = (\n",
    "        1.0\n",
    "    )  # When immune, have 100% chance of transition to state with one fewer immunity periods remaining"
   ]
  },
  {
   "cell_type": "code",
   "execution_count": 11,
   "metadata": {},
   "outputs": [],
   "source": [
    "init_unemployment_immunity = copy(init_idiosyncratic_shocks)\n",
    "init_unemployment_immunity[\"MrkvArray\"] = [MrkvArray]\n",
    "ImmunityExample = MarkovConsumerType(**init_unemployment_immunity)\n",
    "ImmunityExample.assign_parameters(\n",
    "    Rfree=np.array(np.array(StateCount * [1.03])),  # Interest factor same in all states\n",
    "    PermGroFac=[\n",
    "        np.array(StateCount * [1.01])\n",
    "    ],  # Permanent growth factor same in all states\n",
    "    LivPrb=[np.array(StateCount * [0.98])],  # Same survival probability in all states\n",
    "    BoroCnstArt=None,  # No artificial borrowing constraint\n",
    "    cycles=0,\n",
    ")  # Infinite horizon\n",
    "ImmunityExample.IncShkDstn = [IncomeDstn]"
   ]
  },
  {
   "cell_type": "code",
   "execution_count": 12,
   "metadata": {},
   "outputs": [
    {
     "name": "stdout",
     "output_type": "stream",
     "text": [
      "Solving an \"unemployment immunity\" consumer took 0.3750 seconds.\n",
      "Consumption functions for each discrete state:\n"
     ]
    },
    {
     "name": "stderr",
     "output_type": "stream",
     "text": [
      "C:\\GitHub\\HARK\\HARK\\interpolation.py:2188: RuntimeWarning: All-NaN slice encountered\n",
      "  y = self.compare(fx, axis=1)\n",
      "C:\\GitHub\\HARK\\HARK\\interpolation.py:2188: RuntimeWarning: All-NaN slice encountered\n",
      "  y = self.compare(fx, axis=1)\n",
      "C:\\GitHub\\HARK\\HARK\\interpolation.py:2188: RuntimeWarning: All-NaN slice encountered\n",
      "  y = self.compare(fx, axis=1)\n",
      "C:\\GitHub\\HARK\\HARK\\interpolation.py:2188: RuntimeWarning: All-NaN slice encountered\n",
      "  y = self.compare(fx, axis=1)\n",
      "C:\\GitHub\\HARK\\HARK\\interpolation.py:2188: RuntimeWarning: All-NaN slice encountered\n",
      "  y = self.compare(fx, axis=1)\n",
      "C:\\GitHub\\HARK\\HARK\\interpolation.py:2188: RuntimeWarning: All-NaN slice encountered\n",
      "  y = self.compare(fx, axis=1)\n"
     ]
    },
    {
     "data": {
      "image/png": "[encoded data removed]",
      "text/plain": [
       "<Figure size 432x288 with 1 Axes>"
      ]
     },
     "metadata": {
      "needs_background": "light"
     },
     "output_type": "display_data"
    }
   ],
   "source": [
    "# Solve the unemployment immunity problem and display the consumption functions\n",
    "start_time = process_time()\n",
    "ImmunityExample.solve()\n",
    "end_time = process_time()\n",
    "print(\n",
    "    'Solving an \"unemployment immunity\" consumer took '\n",
    "    + mystr(end_time - start_time)\n",
    "    + \" seconds.\"\n",
    ")\n",
    "print(\"Consumption functions for each discrete state:\")\n",
    "mNrmMin = np.min([ImmunityExample.solution[0].mNrmMin[j] for j in range(StateCount)])\n",
    "plot_funcs(ImmunityExample.solution[0].cFunc, mNrmMin, 10)"
   ]
  },
  {
   "cell_type": "markdown",
   "metadata": {},
   "source": [
    "### 3. Serial permanent income growth\n",
    "\n",
    "Let's create a consumer similar to the one in \"idiosyncratic shock\" model but who faces serially correlated permanent income growth in an economy subject to boom and bust cycles."
   ]
  },
  {
   "cell_type": "code",
   "execution_count": 13,
   "metadata": {},
   "outputs": [],
   "source": [
    "# Make a consumer with serially correlated permanent income growth\n",
    "UnempPrb = 0.05  # Unemployment probability\n",
    "StateCount = 5  # Number of permanent income growth rates\n",
    "Persistence = (\n",
    "    0.5\n",
    ")  # Probability of getting the same permanent income growth rate next period"
   ]
  },
  {
   "cell_type": "code",
   "execution_count": 14,
   "metadata": {},
   "outputs": [],
   "source": [
    "IncomeDstnReg = DiscreteDistribution(\n",
    "    np.array([1 - UnempPrb, UnempPrb]),\n",
    "    [np.array([1.0, 1.0]),\n",
    "     np.array([1.0, 0.0])]\n",
    ")\n",
    "IncomeDstn = StateCount * [\n",
    "    IncomeDstnReg\n",
    "]  # Same simple income distribution in each state"
   ]
  },
  {
   "cell_type": "code",
   "execution_count": 15,
   "metadata": {},
   "outputs": [],
   "source": [
    "# Make the state transition array for this type: Persistence probability of remaining in the same state, equiprobable otherwise\n",
    "MrkvArray = Persistence * np.eye(StateCount) + (1.0 / StateCount) * (\n",
    "    1.0 - Persistence\n",
    ") * np.ones((StateCount, StateCount))"
   ]
  },
  {
   "cell_type": "code",
   "execution_count": 16,
   "metadata": {
    "lines_to_next_cell": 2
   },
   "outputs": [],
   "source": [
    "init_serial_growth = copy(init_idiosyncratic_shocks)\n",
    "init_serial_growth[\"MrkvArray\"] = [MrkvArray]\n",
    "SerialGroExample = MarkovConsumerType(**init_serial_growth)\n",
    "SerialGroExample.assign_parameters(\n",
    "    Rfree=np.array(\n",
    "        np.array(StateCount * [1.03])\n",
    "    ),  # Same interest factor in each Markov state\n",
    "    PermGroFac=[\n",
    "        np.array([0.97, 0.99, 1.01, 1.03, 1.05])\n",
    "    ],  # Different permanent growth factor in each Markov state\n",
    "    LivPrb=[np.array(StateCount * [0.98])],  # Same survival probability in all states\n",
    "    cycles=0,\n",
    ")\n",
    "SerialGroExample.IncShkDstn = [IncomeDstn]"
   ]
  },
  {
   "cell_type": "markdown",
   "metadata": {},
   "source": [
    "### 4. Serial Interest factor\n",
    "\n",
    "Finally, suppose that the consumer faces a interest factor serially correlated while his/her permanent income growth rate is constant. "
   ]
  },
  {
   "cell_type": "code",
   "execution_count": 17,
   "metadata": {},
   "outputs": [
    {
     "name": "stdout",
     "output_type": "stream",
     "text": [
      "Solving a serially correlated growth consumer took 0.3281 seconds.\n",
      "Consumption functions for each discrete state:\n"
     ]
    },
    {
     "data": {
      "image/png": "[encoded data removed]",
      "text/plain": [
       "<Figure size 432x288 with 1 Axes>"
      ]
     },
     "metadata": {
      "needs_background": "light"
     },
     "output_type": "display_data"
    }
   ],
   "source": [
    "# Solve the serially correlated permanent growth shock problem and display the consumption functions\n",
    "start_time = process_time()\n",
    "SerialGroExample.solve()\n",
    "end_time = process_time()\n",
    "print(\n",
    "    \"Solving a serially correlated growth consumer took \"\n",
    "    + mystr(end_time - start_time)\n",
    "    + \" seconds.\"\n",
    ")\n",
    "print(\"Consumption functions for each discrete state:\")\n",
    "plot_funcs(SerialGroExample.solution[0].cFunc, 0, 10)"
   ]
  },
  {
   "cell_type": "code",
   "execution_count": 18,
   "metadata": {},
   "outputs": [],
   "source": [
    "# Make a consumer with serially correlated interest factors\n",
    "SerialRExample = deepcopy(SerialGroExample)  # Same as the last problem...\n",
    "SerialRExample.assign_parameters(\n",
    "    PermGroFac=[\n",
    "        np.array(StateCount * [1.01])\n",
    "    ],  # ...but now the permanent growth factor is constant...\n",
    "    Rfree=np.array([1.01, 1.02, 1.03, 1.04, 1.05]),\n",
    ")  # ...and the interest factor is what varies across states"
   ]
  },
  {
   "cell_type": "code",
   "execution_count": 19,
   "metadata": {},
   "outputs": [
    {
     "name": "stdout",
     "output_type": "stream",
     "text": [
      "Solving a serially correlated interest consumer took 0.3125 seconds.\n",
      "Consumption functions for each discrete state:\n"
     ]
    },
    {
     "data": {
      "image/png": "[encoded data removed]",
      "text/plain": [
       "<Figure size 432x288 with 1 Axes>"
      ]
     },
     "metadata": {
      "needs_background": "light"
     },
     "output_type": "display_data"
    }
   ],
   "source": [
    "# Solve the serially correlated interest rate problem and display the consumption functions\n",
    "start_time = process_time()\n",
    "SerialRExample.solve()\n",
    "end_time = process_time()\n",
    "print(\n",
    "    \"Solving a serially correlated interest consumer took \"\n",
    "    + mystr(end_time - start_time)\n",
    "    + \" seconds.\"\n",
    ")\n",
    "print(\"Consumption functions for each discrete state:\")\n",
    "plot_funcs(SerialRExample.solution[0].cFunc, 0, 10)"
   ]
  },
  {
   "cell_type": "code",
   "execution_count": null,
   "metadata": {},
   "outputs": [],
   "source": []
  }
 ],
 "metadata": {
  "jupytext": {
   "cell_metadata_filter": "-all",
   "encoding": "# -*- coding: utf-8 -*-",
   "main_language": "python",
   "notebook_metadata_filter": "-all"
  },
  "kernelspec": {
   "display_name": "Python 3 (ipykernel)",
   "language": "python",
   "name": "python3"
  },
  "language_info": {
   "codemirror_mode": {
    "name": "ipython",
    "version": 3
   },
   "file_extension": ".py",
   "mimetype": "text/x-python",
   "name": "python",
   "nbconvert_exporter": "python",
   "pygments_lexer": "ipython3",
   "version": "3.8.8"
  },
  "latex_envs": {
   "LaTeX_envs_menu_present": true,
   "autoclose": false,
   "autocomplete": true,
   "bibliofile": "biblio.bib",
   "cite_by": "apalike",
   "current_citInitial": 1,
   "eqLabelWithNumbers": true,
   "eqNumInitial": 1,
   "hotkeys": {
    "equation": "Ctrl-E",
    "itemize": "Ctrl-I"
   },
   "labels_anchors": false,
   "latex_user_defs": false,
   "report_style_numbering": false,
   "user_envs_cfg": false
  }
 },
 "nbformat": 4,
 "nbformat_minor": 4
}
