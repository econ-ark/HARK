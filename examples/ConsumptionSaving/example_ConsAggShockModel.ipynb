{
 "cells": [
  {
   "cell_type": "markdown",
   "metadata": {
    "tags": []
   },
   "source": [
    "# Example ConsAggShockModel"
   ]
  },
  {
   "cell_type": "code",
   "execution_count": 1,
   "metadata": {
    "execution": {
     "iopub.execute_input": "2023-02-07T00:39:43.630058Z",
     "iopub.status.busy": "2023-02-07T00:39:43.630058Z",
     "iopub.status.idle": "2023-02-07T00:39:45.243023Z",
     "shell.execute_reply": "2023-02-07T00:39:45.243023Z"
    }
   },
   "outputs": [],
   "source": [
    "from time import process_time\n",
    "import numpy as np\n",
    "import matplotlib.pyplot as plt\n",
    "from HARK.utilities import plot_funcs\n",
    "from HARK.distribution import DiscreteDistribution\n",
    "from HARK.ConsumptionSaving.ConsAggShockModel import (\n",
    "    AggShockConsumerType,\n",
    "    CobbDouglasEconomy,\n",
    "    AggShockMarkovConsumerType,\n",
    "    CobbDouglasMarkovEconomy,\n",
    ")\n",
    "from copy import deepcopy\n",
    "\n",
    "\n",
    "def mystr(number):\n",
    "    return \"{:.4f}\".format(number)"
   ]
  },
  {
   "cell_type": "code",
   "execution_count": 2,
   "metadata": {
    "execution": {
     "iopub.execute_input": "2023-02-07T00:39:45.246031Z",
     "iopub.status.busy": "2023-02-07T00:39:45.246031Z",
     "iopub.status.idle": "2023-02-07T00:39:45.258549Z",
     "shell.execute_reply": "2023-02-07T00:39:45.258549Z"
    }
   },
   "outputs": [],
   "source": [
    "# Solve an AggShockConsumerType's microeconomic problem\n",
    "solve_agg_shocks_micro = False\n",
    "# Solve for the equilibrium aggregate saving rule in a CobbDouglasEconomy\n",
    "solve_agg_shocks_market = True\n",
    "# Solve an AggShockMarkovConsumerType's microeconomic problem\n",
    "solve_markov_micro = False\n",
    "# Solve for the equilibrium aggregate saving rule in a CobbDouglasMarkovEconomy\n",
    "solve_markov_market = False\n",
    "# Solve a simple Krusell-Smith-style two state, two shock model\n",
    "solve_krusell_smith = True\n",
    "# Solve a CobbDouglasEconomy with many states, potentially utilizing the \"state jumper\"\n",
    "solve_poly_state = False"
   ]
  },
  {
   "cell_type": "markdown",
   "metadata": {},
   "source": [
    "### Example implementation of AggShockConsumerType"
   ]
  },
  {
   "cell_type": "code",
   "execution_count": 3,
   "metadata": {
    "execution": {
     "iopub.execute_input": "2023-02-07T00:39:45.261055Z",
     "iopub.status.busy": "2023-02-07T00:39:45.261055Z",
     "iopub.status.idle": "2023-02-07T00:39:45.274593Z",
     "shell.execute_reply": "2023-02-07T00:39:45.274593Z"
    }
   },
   "outputs": [],
   "source": [
    "if solve_agg_shocks_micro or solve_agg_shocks_market:\n",
    "    # Make an aggregate shocks consumer type\n",
    "    AggShockExample = AggShockConsumerType()\n",
    "    AggShockExample.cycles = 0\n",
    "\n",
    "    # Make a Cobb-Douglas economy for the agents\n",
    "    EconomyExample = CobbDouglasEconomy(agents=[AggShockExample])\n",
    "    EconomyExample.make_AggShkHist()  # Simulate a history of aggregate shocks\n",
    "\n",
    "    # Have the consumers inherit relevant objects from the economy\n",
    "    AggShockExample.get_economy_data(EconomyExample)"
   ]
  },
  {
   "cell_type": "code",
   "execution_count": 4,
   "metadata": {
    "execution": {
     "iopub.execute_input": "2023-02-07T00:39:45.276594Z",
     "iopub.status.busy": "2023-02-07T00:39:45.276594Z",
     "iopub.status.idle": "2023-02-07T00:39:45.290110Z",
     "shell.execute_reply": "2023-02-07T00:39:45.290110Z"
    }
   },
   "outputs": [],
   "source": [
    "if solve_agg_shocks_micro:\n",
    "    # Solve the microeconomic model for the aggregate shocks example type (and display results)\n",
    "    t_start = process_time()\n",
    "    AggShockExample.solve()\n",
    "    t_end = process_time()\n",
    "    print(\n",
    "        \"Solving an aggregate shocks consumer took \"\n",
    "        + mystr(t_end - t_start)\n",
    "        + \" seconds.\"\n",
    "    )\n",
    "    print(\n",
    "        \"Consumption function at each aggregate market resources-to-labor ratio gridpoint:\"\n",
    "    )\n",
    "    m_grid = np.linspace(0, 10, 200)\n",
    "    AggShockExample.unpack(\"cFunc\")\n",
    "    for M in AggShockExample.Mgrid.tolist():\n",
    "        mMin = AggShockExample.solution[0].mNrmMin(M)\n",
    "        c_at_this_M = AggShockExample.cFunc[0](m_grid + mMin, M * np.ones_like(m_grid))\n",
    "        plt.plot(m_grid + mMin, c_at_this_M)\n",
    "    plt.ylim(0.0, None)\n",
    "    plt.show()"
   ]
  },
  {
   "cell_type": "code",
   "execution_count": 5,
   "metadata": {
    "execution": {
     "iopub.execute_input": "2023-02-07T00:39:45.292619Z",
     "iopub.status.busy": "2023-02-07T00:39:45.291615Z",
     "iopub.status.idle": "2023-02-07T00:43:00.342617Z",
     "shell.execute_reply": "2023-02-07T00:43:00.342617Z"
    }
   },
   "outputs": [
    {
     "name": "stdout",
     "output_type": "stream",
     "text": [
      "Now solving for the equilibrium of a Cobb-Douglas economy.  This might take a few minutes...\n"
     ]
    },
    {
     "name": "stdout",
     "output_type": "stream",
     "text": [
      "intercept=-0.33966384051602805, slope=1.102624348735711, r-sq=0.9966224603747357\n"
     ]
    },
    {
     "name": "stdout",
     "output_type": "stream",
     "text": [
      "intercept=-0.49599237141651215, slope=1.1479009506512385, r-sq=0.9947366916205707\n"
     ]
    },
    {
     "name": "stdout",
     "output_type": "stream",
     "text": [
      "intercept=-0.45166864478060875, slope=1.1124057973784136, r-sq=0.9821113562470466\n"
     ]
    },
    {
     "name": "stdout",
     "output_type": "stream",
     "text": [
      "intercept=-0.3840154156210825, slope=1.0841395602960584, r-sq=0.9875705261040257\n"
     ]
    },
    {
     "name": "stdout",
     "output_type": "stream",
     "text": [
      "intercept=-0.3619812815502955, slope=1.0753681485578617, r-sq=0.9905843996750167\n"
     ]
    },
    {
     "name": "stdout",
     "output_type": "stream",
     "text": [
      "intercept=-0.3523090029998183, slope=1.0715656485158442, r-sq=0.9908961093312039\n"
     ]
    },
    {
     "name": "stdout",
     "output_type": "stream",
     "text": [
      "intercept=-0.3480566606673833, slope=1.0699082913395126, r-sq=0.9910154806768872\n"
     ]
    },
    {
     "name": "stdout",
     "output_type": "stream",
     "text": [
      "intercept=-0.3461952993752178, slope=1.0691876132809162, r-sq=0.9910650108743626\n"
     ]
    },
    {
     "name": "stdout",
     "output_type": "stream",
     "text": [
      "intercept=-0.3453850118498396, slope=1.0688755589956198, r-sq=0.9910860802385031\n"
     ]
    },
    {
     "name": "stdout",
     "output_type": "stream",
     "text": [
      "intercept=-0.3450341442894487, slope=1.068741033425316, r-sq=0.9910951040899093\n"
     ]
    },
    {
     "name": "stdout",
     "output_type": "stream",
     "text": [
      "intercept=-0.3448829558954375, slope=1.0686832829276536, r-sq=0.9910989700363702\n"
     ]
    },
    {
     "name": "stdout",
     "output_type": "stream",
     "text": [
      "intercept=-0.344818090063619, slope=1.0686585844571515, r-sq=0.9911006230018382\n",
      "Solving the \"macroeconomic\" aggregate shocks model took 231.421875 seconds.\n",
      "Aggregate savings as a function of aggregate market resources:\n"
     ]
    },
    {
     "name": "stderr",
     "output_type": "stream",
     "text": [
      "c:\\users\\alujan\\github\\alanlujan91\\hark\\HARK\\ConsumptionSaving\\ConsAggShockModel.py:3197: RuntimeWarning: divide by zero encountered in log\n",
      "  Aagg = np.exp(self.intercept + self.slope * np.log(Mnow))\n"
     ]
    },
    {
     "data": {
      "image/png": "[encoded data removed]",
      "text/plain": [
       "<Figure size 640x480 with 1 Axes>"
      ]
     },
     "metadata": {},
     "output_type": "display_data"
    },
    {
     "name": "stdout",
     "output_type": "stream",
     "text": [
      "Consumption function at each aggregate market resources gridpoint (in general equilibrium):\n"
     ]
    },
    {
     "data": {
      "image/png": "[encoded data removed]",
      "text/plain": [
       "<Figure size 640x480 with 1 Axes>"
      ]
     },
     "metadata": {},
     "output_type": "display_data"
    }
   ],
   "source": [
    "if solve_agg_shocks_market:\n",
    "    # Solve the \"macroeconomic\" model by searching for a \"fixed point dynamic rule\"\n",
    "    t_start = process_time()\n",
    "    print(\n",
    "        \"Now solving for the equilibrium of a Cobb-Douglas economy.  This might take a few minutes...\"\n",
    "    )\n",
    "    EconomyExample.solve()\n",
    "    t_end = process_time()\n",
    "    print(\n",
    "        'Solving the \"macroeconomic\" aggregate shocks model took '\n",
    "        + str(t_end - t_start)\n",
    "        + \" seconds.\"\n",
    "    )\n",
    "\n",
    "    print(\"Aggregate savings as a function of aggregate market resources:\")\n",
    "    plot_funcs(EconomyExample.AFunc, 0, 2 * EconomyExample.kSS)\n",
    "    print(\n",
    "        \"Consumption function at each aggregate market resources gridpoint (in general equilibrium):\"\n",
    "    )\n",
    "    AggShockExample.unpack(\"cFunc\")\n",
    "    m_grid = np.linspace(0, 10, 200)\n",
    "    AggShockExample.unpack(\"cFunc\")\n",
    "    for M in AggShockExample.Mgrid.tolist():\n",
    "        mMin = AggShockExample.solution[0].mNrmMin(M)\n",
    "        c_at_this_M = AggShockExample.cFunc[0](m_grid + mMin, M * np.ones_like(m_grid))\n",
    "        plt.plot(m_grid + mMin, c_at_this_M)\n",
    "    plt.ylim(0.0, None)\n",
    "    plt.show()"
   ]
  },
  {
   "cell_type": "markdown",
   "metadata": {},
   "source": [
    "### Example Implementations of AggShockMarkovConsumerType"
   ]
  },
  {
   "cell_type": "code",
   "execution_count": 6,
   "metadata": {
    "execution": {
     "iopub.execute_input": "2023-02-07T00:43:00.345624Z",
     "iopub.status.busy": "2023-02-07T00:43:00.345624Z",
     "iopub.status.idle": "2023-02-07T00:43:00.389225Z",
     "shell.execute_reply": "2023-02-07T00:43:00.389225Z"
    }
   },
   "outputs": [],
   "source": [
    "if solve_markov_micro or solve_markov_market or solve_krusell_smith:\n",
    "    # Make a Markov aggregate shocks consumer type\n",
    "    AggShockMrkvExample = AggShockMarkovConsumerType()\n",
    "    AggShockMrkvExample.IncShkDstn = [2 * [AggShockMrkvExample.IncShkDstn[0]]]\n",
    "    AggShockMrkvExample.cycles = 0\n",
    "\n",
    "    # Make a Cobb-Douglas economy for the agents\n",
    "    MrkvEconomyExample = CobbDouglasMarkovEconomy(agents=[AggShockMrkvExample])\n",
    "    MrkvEconomyExample.DampingFac = 0.2  # Turn down damping\n",
    "    MrkvEconomyExample.make_AggShkHist()  # Simulate a history of aggregate shocks\n",
    "    AggShockMrkvExample.get_economy_data(\n",
    "        MrkvEconomyExample\n",
    "    )  # Have the consumers inherit relevant objects from the economy"
   ]
  },
  {
   "cell_type": "code",
   "execution_count": 7,
   "metadata": {
    "execution": {
     "iopub.execute_input": "2023-02-07T00:43:00.391737Z",
     "iopub.status.busy": "2023-02-07T00:43:00.391737Z",
     "iopub.status.idle": "2023-02-07T00:43:00.404771Z",
     "shell.execute_reply": "2023-02-07T00:43:00.404771Z"
    }
   },
   "outputs": [],
   "source": [
    "if solve_markov_micro:\n",
    "    # Solve the microeconomic model for the Markov aggregate shocks example type (and display results)\n",
    "    t_start = process_time()\n",
    "    AggShockMrkvExample.solve()\n",
    "    t_end = process_time()\n",
    "    print(\n",
    "        \"Solving an aggregate shocks Markov consumer took \"\n",
    "        + mystr(t_end - t_start)\n",
    "        + \" seconds.\"\n",
    "    )\n",
    "\n",
    "    print(\n",
    "        \"Consumption function at each aggregate market \\\n",
    "            resources-to-labor ratio gridpoint (for each macro state):\"\n",
    "    )\n",
    "    m_grid = np.linspace(0, 10, 200)\n",
    "    AggShockMrkvExample.unpack(\"cFunc\")\n",
    "    for i in range(2):\n",
    "        for M in AggShockMrkvExample.Mgrid.tolist():\n",
    "            mMin = AggShockMrkvExample.solution[0].mNrmMin[i](M)\n",
    "            c_at_this_M = AggShockMrkvExample.cFunc[0][i](\n",
    "                m_grid + mMin, M * np.ones_like(m_grid)\n",
    "            )\n",
    "            plt.plot(m_grid + mMin, c_at_this_M)\n",
    "        plt.ylim(0.0, None)\n",
    "        plt.show()"
   ]
  },
  {
   "cell_type": "code",
   "execution_count": 8,
   "metadata": {
    "execution": {
     "iopub.execute_input": "2023-02-07T00:43:00.406773Z",
     "iopub.status.busy": "2023-02-07T00:43:00.406773Z",
     "iopub.status.idle": "2023-02-07T00:43:00.421338Z",
     "shell.execute_reply": "2023-02-07T00:43:00.420833Z"
    }
   },
   "outputs": [],
   "source": [
    "if solve_markov_market:\n",
    "    # Solve the \"macroeconomic\" model by searching for a \"fixed point dynamic rule\"\n",
    "    t_start = process_time()\n",
    "    print(\"Now solving a two-state Markov economy.  This should take a few minutes...\")\n",
    "    MrkvEconomyExample.solve()\n",
    "    t_end = process_time()\n",
    "    print(\n",
    "        'Solving the \"macroeconomic\" aggregate shocks model took '\n",
    "        + str(t_end - t_start)\n",
    "        + \" seconds.\"\n",
    "    )\n",
    "\n",
    "    print(\n",
    "        \"Consumption function at each aggregate market \\\n",
    "            resources-to-labor ratio gridpoint (for each macro state):\"\n",
    "    )\n",
    "    m_grid = np.linspace(0, 10, 200)\n",
    "    AggShockMrkvExample.unpack(\"cFunc\")\n",
    "    for i in range(2):\n",
    "        for M in AggShockMrkvExample.Mgrid.tolist():\n",
    "            mMin = AggShockMrkvExample.solution[0].mNrmMin[i](M)\n",
    "            c_at_this_M = AggShockMrkvExample.cFunc[0][i](\n",
    "                m_grid + mMin, M * np.ones_like(m_grid)\n",
    "            )\n",
    "            plt.plot(m_grid + mMin, c_at_this_M)\n",
    "        plt.ylim(0.0, None)\n",
    "        plt.show()"
   ]
  },
  {
   "cell_type": "code",
   "execution_count": 9,
   "metadata": {
    "execution": {
     "iopub.execute_input": "2023-02-07T00:43:00.422347Z",
     "iopub.status.busy": "2023-02-07T00:43:00.422347Z",
     "iopub.status.idle": "2023-02-07T00:43:51.400038Z",
     "shell.execute_reply": "2023-02-07T00:43:51.400038Z"
    }
   },
   "outputs": [
    {
     "name": "stdout",
     "output_type": "stream",
     "text": [
      "Now solving a Krusell-Smith-style economy.  This should take about a minute...\n"
     ]
    },
    {
     "name": "stdout",
     "output_type": "stream",
     "text": [
      "intercept=[-0.5817183825422844, -0.570331941435353], slope=[1.1803079148353923, 1.1824082067172506], r-sq=[0.9975542198241373, 0.9980320884474997]\n"
     ]
    },
    {
     "name": "stdout",
     "output_type": "stream",
     "text": [
      "intercept=[-0.4180260563496855, -0.4131653956481459], slope=[1.0834273589110301, 1.0852799171504517], r-sq=[0.9997337760398891, 0.9993225507148134]\n"
     ]
    },
    {
     "name": "stdout",
     "output_type": "stream",
     "text": [
      "intercept=[-0.3600899736514912, -0.3551201645233749], slope=[1.0714753213364983, 1.0712256905434416], r-sq=[0.9999986714166434, 0.9999961301697307]\n"
     ]
    },
    {
     "name": "stdout",
     "output_type": "stream",
     "text": [
      "intercept=[-0.37883953200059806, -0.37151098173211017], slope=[1.0786573434429674, 1.0774887741894945], r-sq=[0.9999982037028008, 0.9999942754223831]\n"
     ]
    },
    {
     "name": "stdout",
     "output_type": "stream",
     "text": [
      "intercept=[-0.3789601295431742, -0.37156486819095036], slope=[1.0787111353569707, 1.07752415042328], r-sq=[0.9999982049718268, 0.9999940788572954]\n"
     ]
    },
    {
     "name": "stdout",
     "output_type": "stream",
     "text": [
      "intercept=[-0.3789955040701963, -0.37159566602844885], slope=[1.0787232463104637, 1.0775357473879448], r-sq=[0.9999982037318689, 0.9999940713848703]\n",
      "Solving the Krusell-Smith model took 68.328125 seconds.\n"
     ]
    }
   ],
   "source": [
    "if solve_krusell_smith:\n",
    "    # Make a Krusell-Smith agent type\n",
    "    # NOTE: These agents aren't exactly like KS, as they don't have serially correlated unemployment\n",
    "    KSexampleType = deepcopy(AggShockMrkvExample)\n",
    "    KSexampleType.IncShkDstn[0] = [\n",
    "        DiscreteDistribution(\n",
    "            np.array([0.96, 0.04]), np.array([[1.0, 1.0], [1.0 / 0.96, 0.0]])\n",
    "        ),\n",
    "        DiscreteDistribution(\n",
    "            np.array([0.90, 0.10]), np.array([[1.0, 1.0], [1.0 / 0.90, 0.0]])\n",
    "        ),\n",
    "    ]\n",
    "\n",
    "    # Make a KS economy\n",
    "    KSeconomy = deepcopy(MrkvEconomyExample)\n",
    "    KSeconomy.agents = [KSexampleType]\n",
    "    KSeconomy.AggShkDstn = [\n",
    "        DiscreteDistribution(\n",
    "            np.array([1.0]),\n",
    "            np.array([[1.0], [1.05]]),\n",
    "        ),\n",
    "        DiscreteDistribution(\n",
    "            np.array([1.0]),\n",
    "            np.array([[1.0], [0.95]]),\n",
    "        ),\n",
    "    ]\n",
    "    KSeconomy.PermGroFacAgg = [1.0, 1.0]\n",
    "    KSexampleType.get_economy_data(KSeconomy)\n",
    "    KSeconomy.make_AggShkHist()\n",
    "\n",
    "    # Solve the K-S model\n",
    "    t_start = process_time()\n",
    "    print(\n",
    "        \"Now solving a Krusell-Smith-style economy.  This should take about a minute...\"\n",
    "    )\n",
    "    KSeconomy.solve()\n",
    "    t_end = process_time()\n",
    "    print(\"Solving the Krusell-Smith model took \" + str(t_end - t_start) + \" seconds.\")"
   ]
  },
  {
   "cell_type": "code",
   "execution_count": 10,
   "metadata": {
    "execution": {
     "iopub.execute_input": "2023-02-07T00:43:51.403555Z",
     "iopub.status.busy": "2023-02-07T00:43:51.402550Z",
     "iopub.status.idle": "2023-02-07T00:43:51.415576Z",
     "shell.execute_reply": "2023-02-07T00:43:51.415576Z"
    }
   },
   "outputs": [],
   "source": [
    "if solve_poly_state:\n",
    "    StateCount = 15  # Number of Markov states\n",
    "    GrowthAvg = 1.01  # Average permanent income growth factor\n",
    "    GrowthWidth = 0.02  # PermGroFacAgg deviates from PermGroFacAgg in this range\n",
    "    Persistence = 0.90  # Probability of staying in the same Markov state\n",
    "    PermGroFacAgg = np.linspace(\n",
    "        GrowthAvg - GrowthWidth, GrowthAvg + GrowthWidth, num=StateCount\n",
    "    )\n",
    "\n",
    "    # Make the Markov array with chosen states and persistence\n",
    "    PolyMrkvArray = np.zeros((StateCount, StateCount))\n",
    "    for i in range(StateCount):\n",
    "        for j in range(StateCount):\n",
    "            if i == j:\n",
    "                PolyMrkvArray[i, j] = Persistence\n",
    "            elif (i == (j - 1)) or (i == (j + 1)):\n",
    "                PolyMrkvArray[i, j] = 0.5 * (1.0 - Persistence)\n",
    "    PolyMrkvArray[0, 0] += 0.5 * (1.0 - Persistence)\n",
    "    PolyMrkvArray[StateCount - 1, StateCount - 1] += 0.5 * (1.0 - Persistence)\n",
    "\n",
    "    # Make a consumer type to inhabit the economy\n",
    "    PolyStateExample = AggShockMarkovConsumerType()\n",
    "    PolyStateExample.MrkvArray = PolyMrkvArray\n",
    "    PolyStateExample.PermGroFacAgg = PermGroFacAgg\n",
    "    PolyStateExample.IncShkDstn[0] = StateCount * [PolyStateExample.IncShkDstn[0]]\n",
    "    PolyStateExample.cycles = 0\n",
    "\n",
    "    # Make a Cobb-Douglas economy for the agents\n",
    "    # Use verbose=False to remove printing of intercept\n",
    "    PolyStateEconomy = CobbDouglasMarkovEconomy(\n",
    "        agents=[PolyStateExample], verbose=False\n",
    "    )\n",
    "    PolyStateEconomy.MrkvArray = PolyMrkvArray\n",
    "    PolyStateEconomy.PermGroFacAgg = PermGroFacAgg\n",
    "    PolyStateEconomy.PermShkAggStd = StateCount * [0.006]\n",
    "    PolyStateEconomy.TranShkAggStd = StateCount * [0.003]\n",
    "    PolyStateEconomy.slope_prev = StateCount * [1.0]\n",
    "    PolyStateEconomy.intercept_prev = StateCount * [0.0]\n",
    "    PolyStateEconomy.update()\n",
    "    PolyStateEconomy.makeAggShkDstn()\n",
    "    PolyStateEconomy.make_AggShkHist()  # Simulate a history of aggregate shocks\n",
    "    PolyStateExample.get_economy_data(\n",
    "        PolyStateEconomy\n",
    "    )  # Have the consumers inherit relevant objects from the economy\n",
    "\n",
    "    # Solve the many state model\n",
    "    t_start = process_time()\n",
    "    print(\n",
    "        \"Now solving an economy with \"\n",
    "        + str(StateCount)\n",
    "        + \" Markov states.  This might take a while...\"\n",
    "    )\n",
    "    PolyStateEconomy.solve()\n",
    "    t_end = process_time()\n",
    "    print(\n",
    "        \"Solving a model with \"\n",
    "        + str(StateCount)\n",
    "        + \" states took \"\n",
    "        + str(t_end - t_start)\n",
    "        + \" seconds.\"\n",
    "    )"
   ]
  }
 ],
 "metadata": {
  "jupytext": {
   "cell_metadata_filter": "-all",
   "formats": "ipynb,py:percent"
  },
  "kernelspec": {
   "display_name": "Python 3 (ipykernel)",
   "language": "python",
   "name": "python3"
  },
  "language_info": {
   "codemirror_mode": {
    "name": "ipython",
    "version": 3
   },
   "file_extension": ".py",
   "mimetype": "text/x-python",
   "name": "python",
   "nbconvert_exporter": "python",
   "pygments_lexer": "ipython3",
   "version": "3.9.16"
  },
  "latex_envs": {
   "LaTeX_envs_menu_present": true,
   "autoclose": false,
   "autocomplete": true,
   "bibliofile": "biblio.bib",
   "cite_by": "apalike",
   "current_citInitial": 1,
   "eqLabelWithNumbers": true,
   "eqNumInitial": 1,
   "hotkeys": {
    "equation": "Ctrl-E",
    "itemize": "Ctrl-I"
   },
   "labels_anchors": false,
   "latex_user_defs": false,
   "report_style_numbering": false,
   "user_envs_cfg": false
  }
 },
 "nbformat": 4,
 "nbformat_minor": 4
}
