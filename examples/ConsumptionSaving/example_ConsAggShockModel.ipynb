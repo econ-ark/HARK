{
 "cells": [
  {
   "cell_type": "markdown",
   "metadata": {
    "tags": []
   },
   "source": [
    "# Example ConsAggShockModel"
   ]
  },
  {
   "cell_type": "code",
   "execution_count": 1,
   "metadata": {
    "execution": {
     "iopub.execute_input": "2024-07-11T15:23:22.349452Z",
     "iopub.status.busy": "2024-07-11T15:23:22.349156Z",
     "iopub.status.idle": "2024-07-11T15:23:23.282879Z",
     "shell.execute_reply": "2024-07-11T15:23:23.282351Z"
    }
   },
   "outputs": [],
   "source": [
    "from copy import deepcopy\n",
    "from time import process_time\n",
    "\n",
    "import matplotlib.pyplot as plt\n",
    "import numpy as np\n",
    "\n",
    "from HARK.ConsumptionSaving.ConsAggShockModel import (\n",
    "    AggShockConsumerType,\n",
    "    AggShockMarkovConsumerType,\n",
    "    CobbDouglasEconomy,\n",
    "    CobbDouglasMarkovEconomy,\n",
    ")\n",
    "from HARK.distribution import DiscreteDistribution\n",
    "from HARK.utilities import plot_funcs\n",
    "\n",
    "\n",
    "def mystr(number):\n",
    "    return f\"{number:.4f}\""
   ]
  },
  {
   "cell_type": "code",
   "execution_count": 2,
   "metadata": {
    "execution": {
     "iopub.execute_input": "2024-07-11T15:23:23.284817Z",
     "iopub.status.busy": "2024-07-11T15:23:23.284556Z",
     "iopub.status.idle": "2024-07-11T15:23:23.287378Z",
     "shell.execute_reply": "2024-07-11T15:23:23.286915Z"
    }
   },
   "outputs": [],
   "source": [
    "# Solve an AggShockConsumerType's microeconomic problem\n",
    "solve_agg_shocks_micro = False\n",
    "# Solve for the equilibrium aggregate saving rule in a CobbDouglasEconomy\n",
    "solve_agg_shocks_market = True\n",
    "# Solve an AggShockMarkovConsumerType's microeconomic problem\n",
    "solve_markov_micro = False\n",
    "# Solve for the equilibrium aggregate saving rule in a CobbDouglasMarkovEconomy\n",
    "solve_markov_market = False\n",
    "# Solve a simple Krusell-Smith-style two state, two shock model\n",
    "solve_krusell_smith = True\n",
    "# Solve a CobbDouglasEconomy with many states, potentially utilizing the \"state jumper\"\n",
    "solve_poly_state = False"
   ]
  },
  {
   "cell_type": "markdown",
   "metadata": {},
   "source": [
    "### Example implementation of AggShockConsumerType"
   ]
  },
  {
   "cell_type": "code",
   "execution_count": 3,
   "metadata": {
    "execution": {
     "iopub.execute_input": "2024-07-11T15:23:23.288851Z",
     "iopub.status.busy": "2024-07-11T15:23:23.288677Z",
     "iopub.status.idle": "2024-07-11T15:23:23.297131Z",
     "shell.execute_reply": "2024-07-11T15:23:23.296662Z"
    }
   },
   "outputs": [],
   "source": [
    "if solve_agg_shocks_micro or solve_agg_shocks_market:\n",
    "    # Make an aggregate shocks consumer type\n",
    "    AggShockExample = AggShockConsumerType()\n",
    "    AggShockExample.cycles = 0\n",
    "\n",
    "    # Make a Cobb-Douglas economy for the agents\n",
    "    EconomyExample = CobbDouglasEconomy(agents=[AggShockExample])\n",
    "    EconomyExample.make_AggShkHist()  # Simulate a history of aggregate shocks\n",
    "\n",
    "    # Have the consumers inherit relevant objects from the economy\n",
    "    AggShockExample.get_economy_data(EconomyExample)"
   ]
  },
  {
   "cell_type": "code",
   "execution_count": 4,
   "metadata": {
    "execution": {
     "iopub.execute_input": "2024-07-11T15:23:23.298622Z",
     "iopub.status.busy": "2024-07-11T15:23:23.298385Z",
     "iopub.status.idle": "2024-07-11T15:23:23.301612Z",
     "shell.execute_reply": "2024-07-11T15:23:23.301166Z"
    }
   },
   "outputs": [],
   "source": [
    "if solve_agg_shocks_micro:\n",
    "    # Solve the microeconomic model for the aggregate shocks example type (and display results)\n",
    "    t_start = process_time()\n",
    "    AggShockExample.solve()\n",
    "    t_end = process_time()\n",
    "    print(\n",
    "        \"Solving an aggregate shocks consumer took \"\n",
    "        + mystr(t_end - t_start)\n",
    "        + \" seconds.\",\n",
    "    )\n",
    "    print(\n",
    "        \"Consumption function at each aggregate market resources-to-labor ratio gridpoint:\",\n",
    "    )\n",
    "    m_grid = np.linspace(0, 10, 200)\n",
    "    AggShockExample.unpack(\"cFunc\")\n",
    "    for M in AggShockExample.Mgrid.tolist():\n",
    "        mMin = AggShockExample.solution[0].mNrmMin(M)\n",
    "        c_at_this_M = AggShockExample.cFunc[0](m_grid + mMin, M * np.ones_like(m_grid))\n",
    "        plt.plot(m_grid + mMin, c_at_this_M)\n",
    "    plt.ylim(0.0, None)\n",
    "    plt.show()"
   ]
  },
  {
   "cell_type": "code",
   "execution_count": 5,
   "metadata": {
    "execution": {
     "iopub.execute_input": "2024-07-11T15:23:23.302965Z",
     "iopub.status.busy": "2024-07-11T15:23:23.302762Z",
     "iopub.status.idle": "2024-07-11T15:25:57.519420Z",
     "shell.execute_reply": "2024-07-11T15:25:57.518916Z"
    }
   },
   "outputs": [
    {
     "name": "stdout",
     "output_type": "stream",
     "text": [
      "Now solving for the equilibrium of a Cobb-Douglas economy.  This might take a few minutes...\n"
     ]
    },
    {
     "name": "stdout",
     "output_type": "stream",
     "text": [
      "intercept=-0.33966384051602827, slope=1.102624348735711, r-sq=0.9966224603747361\n"
     ]
    },
    {
     "name": "stdout",
     "output_type": "stream",
     "text": [
      "intercept=-0.4959923714165125, slope=1.1479009506512385, r-sq=0.99473669162057\n"
     ]
    },
    {
     "name": "stdout",
     "output_type": "stream",
     "text": [
      "intercept=-0.45166864478060786, slope=1.1124057973784134, r-sq=0.9821113562470477\n"
     ]
    },
    {
     "name": "stdout",
     "output_type": "stream",
     "text": [
      "intercept=-0.3840154156210827, slope=1.0841395602960584, r-sq=0.9875705261040257\n"
     ]
    },
    {
     "name": "stdout",
     "output_type": "stream",
     "text": [
      "intercept=-0.36198128155029563, slope=1.0753681485578617, r-sq=0.9905843996750162\n"
     ]
    },
    {
     "name": "stdout",
     "output_type": "stream",
     "text": [
      "intercept=-0.3523090029998188, slope=1.0715656485158445, r-sq=0.9908961093312041\n"
     ]
    },
    {
     "name": "stdout",
     "output_type": "stream",
     "text": [
      "intercept=-0.34805666066738283, slope=1.0699082913395124, r-sq=0.9910154806768872\n"
     ]
    },
    {
     "name": "stdout",
     "output_type": "stream",
     "text": [
      "intercept=-0.3461952993752169, slope=1.0691876132809157, r-sq=0.991065010874361\n"
     ]
    },
    {
     "name": "stdout",
     "output_type": "stream",
     "text": [
      "intercept=-0.3453850118498396, slope=1.0688755589956198, r-sq=0.9910860802385022\n"
     ]
    },
    {
     "name": "stdout",
     "output_type": "stream",
     "text": [
      "intercept=-0.3450341442894489, slope=1.068741033425316, r-sq=0.9910951040899086\n"
     ]
    },
    {
     "name": "stdout",
     "output_type": "stream",
     "text": [
      "intercept=-0.3448829558954367, slope=1.0686832829276534, r-sq=0.9910989700363684\n"
     ]
    },
    {
     "name": "stdout",
     "output_type": "stream",
     "text": [
      "intercept=-0.3448180900636173, slope=1.0686585844571508, r-sq=0.991100623001836\n",
      "Solving the \"macroeconomic\" aggregate shocks model took 154.01046979999998 seconds.\n",
      "Aggregate savings as a function of aggregate market resources:\n"
     ]
    },
    {
     "name": "stderr",
     "output_type": "stream",
     "text": [
      "/mnt/c/Users/alujan/GitHub/alanlujan91/HARK/HARK/ConsumptionSaving/ConsAggShockModel.py:3207: RuntimeWarning: divide by zero encountered in log\n",
      "  Aagg = np.exp(self.intercept + self.slope * np.log(Mnow))\n"
     ]
    },
    {
     "data": {
      "image/png": "[encoded data removed]",
      "text/plain": [
       "<Figure size 640x480 with 1 Axes>"
      ]
     },
     "metadata": {},
     "output_type": "display_data"
    },
    {
     "name": "stdout",
     "output_type": "stream",
     "text": [
      "Consumption function at each aggregate market resources gridpoint (in general equilibrium):\n"
     ]
    },
    {
     "data": {
      "image/png": "[encoded data removed]",
      "text/plain": [
       "<Figure size 640x480 with 1 Axes>"
      ]
     },
     "metadata": {},
     "output_type": "display_data"
    }
   ],
   "source": [
    "if solve_agg_shocks_market:\n",
    "    # Solve the \"macroeconomic\" model by searching for a \"fixed point dynamic rule\"\n",
    "    t_start = process_time()\n",
    "    print(\n",
    "        \"Now solving for the equilibrium of a Cobb-Douglas economy.  This might take a few minutes...\",\n",
    "    )\n",
    "    EconomyExample.solve()\n",
    "    t_end = process_time()\n",
    "    print(\n",
    "        'Solving the \"macroeconomic\" aggregate shocks model took '\n",
    "        + str(t_end - t_start)\n",
    "        + \" seconds.\",\n",
    "    )\n",
    "\n",
    "    print(\"Aggregate savings as a function of aggregate market resources:\")\n",
    "    plot_funcs(EconomyExample.AFunc, 0, 2 * EconomyExample.kSS)\n",
    "    print(\n",
    "        \"Consumption function at each aggregate market resources gridpoint (in general equilibrium):\",\n",
    "    )\n",
    "    AggShockExample.unpack(\"cFunc\")\n",
    "    m_grid = np.linspace(0, 10, 200)\n",
    "    AggShockExample.unpack(\"cFunc\")\n",
    "    for M in AggShockExample.Mgrid.tolist():\n",
    "        mMin = AggShockExample.solution[0].mNrmMin(M)\n",
    "        c_at_this_M = AggShockExample.cFunc[0](m_grid + mMin, M * np.ones_like(m_grid))\n",
    "        plt.plot(m_grid + mMin, c_at_this_M)\n",
    "    plt.ylim(0.0, None)\n",
    "    plt.show()"
   ]
  },
  {
   "cell_type": "markdown",
   "metadata": {},
   "source": [
    "### Example Implementations of AggShockMarkovConsumerType"
   ]
  },
  {
   "cell_type": "code",
   "execution_count": 6,
   "metadata": {
    "execution": {
     "iopub.execute_input": "2024-07-11T15:25:57.521152Z",
     "iopub.status.busy": "2024-07-11T15:25:57.520884Z",
     "iopub.status.idle": "2024-07-11T15:25:57.550165Z",
     "shell.execute_reply": "2024-07-11T15:25:57.549432Z"
    }
   },
   "outputs": [],
   "source": [
    "if solve_markov_micro or solve_markov_market or solve_krusell_smith:\n",
    "    # Make a Markov aggregate shocks consumer type\n",
    "    AggShockMrkvExample = AggShockMarkovConsumerType()\n",
    "    AggShockMrkvExample.IncShkDstn = [2 * [AggShockMrkvExample.IncShkDstn[0]]]\n",
    "    AggShockMrkvExample.cycles = 0\n",
    "\n",
    "    # Make a Cobb-Douglas economy for the agents\n",
    "    MrkvEconomyExample = CobbDouglasMarkovEconomy(agents=[AggShockMrkvExample])\n",
    "    MrkvEconomyExample.DampingFac = 0.2  # Turn down damping\n",
    "    MrkvEconomyExample.make_AggShkHist()  # Simulate a history of aggregate shocks\n",
    "    AggShockMrkvExample.get_economy_data(\n",
    "        MrkvEconomyExample,\n",
    "    )  # Have the consumers inherit relevant objects from the economy"
   ]
  },
  {
   "cell_type": "code",
   "execution_count": 7,
   "metadata": {
    "execution": {
     "iopub.execute_input": "2024-07-11T15:25:57.552124Z",
     "iopub.status.busy": "2024-07-11T15:25:57.551838Z",
     "iopub.status.idle": "2024-07-11T15:25:57.556201Z",
     "shell.execute_reply": "2024-07-11T15:25:57.555663Z"
    }
   },
   "outputs": [],
   "source": [
    "if solve_markov_micro:\n",
    "    # Solve the microeconomic model for the Markov aggregate shocks example type (and display results)\n",
    "    t_start = process_time()\n",
    "    AggShockMrkvExample.solve()\n",
    "    t_end = process_time()\n",
    "    print(\n",
    "        \"Solving an aggregate shocks Markov consumer took \"\n",
    "        + mystr(t_end - t_start)\n",
    "        + \" seconds.\",\n",
    "    )\n",
    "\n",
    "    print(\n",
    "        \"Consumption function at each aggregate market \\\n",
    "            resources-to-labor ratio gridpoint (for each macro state):\",\n",
    "    )\n",
    "    m_grid = np.linspace(0, 10, 200)\n",
    "    AggShockMrkvExample.unpack(\"cFunc\")\n",
    "    for i in range(2):\n",
    "        for M in AggShockMrkvExample.Mgrid.tolist():\n",
    "            mMin = AggShockMrkvExample.solution[0].mNrmMin[i](M)\n",
    "            c_at_this_M = AggShockMrkvExample.cFunc[0][i](\n",
    "                m_grid + mMin,\n",
    "                M * np.ones_like(m_grid),\n",
    "            )\n",
    "            plt.plot(m_grid + mMin, c_at_this_M)\n",
    "        plt.ylim(0.0, None)\n",
    "        plt.show()"
   ]
  },
  {
   "cell_type": "code",
   "execution_count": 8,
   "metadata": {
    "execution": {
     "iopub.execute_input": "2024-07-11T15:25:57.557710Z",
     "iopub.status.busy": "2024-07-11T15:25:57.557447Z",
     "iopub.status.idle": "2024-07-11T15:25:57.561222Z",
     "shell.execute_reply": "2024-07-11T15:25:57.560704Z"
    }
   },
   "outputs": [],
   "source": [
    "if solve_markov_market:\n",
    "    # Solve the \"macroeconomic\" model by searching for a \"fixed point dynamic rule\"\n",
    "    t_start = process_time()\n",
    "    print(\"Now solving a two-state Markov economy.  This should take a few minutes...\")\n",
    "    MrkvEconomyExample.solve()\n",
    "    t_end = process_time()\n",
    "    print(\n",
    "        'Solving the \"macroeconomic\" aggregate shocks model took '\n",
    "        + str(t_end - t_start)\n",
    "        + \" seconds.\",\n",
    "    )\n",
    "\n",
    "    print(\n",
    "        \"Consumption function at each aggregate market \\\n",
    "            resources-to-labor ratio gridpoint (for each macro state):\",\n",
    "    )\n",
    "    m_grid = np.linspace(0, 10, 200)\n",
    "    AggShockMrkvExample.unpack(\"cFunc\")\n",
    "    for i in range(2):\n",
    "        for M in AggShockMrkvExample.Mgrid.tolist():\n",
    "            mMin = AggShockMrkvExample.solution[0].mNrmMin[i](M)\n",
    "            c_at_this_M = AggShockMrkvExample.cFunc[0][i](\n",
    "                m_grid + mMin,\n",
    "                M * np.ones_like(m_grid),\n",
    "            )\n",
    "            plt.plot(m_grid + mMin, c_at_this_M)\n",
    "        plt.ylim(0.0, None)\n",
    "        plt.show()"
   ]
  },
  {
   "cell_type": "code",
   "execution_count": 9,
   "metadata": {
    "execution": {
     "iopub.execute_input": "2024-07-11T15:25:57.562719Z",
     "iopub.status.busy": "2024-07-11T15:25:57.562451Z",
     "iopub.status.idle": "2024-07-11T15:26:38.867366Z",
     "shell.execute_reply": "2024-07-11T15:26:38.866872Z"
    }
   },
   "outputs": [
    {
     "name": "stdout",
     "output_type": "stream",
     "text": [
      "Now solving a Krusell-Smith-style economy.  This should take about a minute...\n"
     ]
    },
    {
     "name": "stdout",
     "output_type": "stream",
     "text": [
      "intercept=[-0.5817183825422839, -0.5703319414353534], slope=[1.180307914835392, 1.182408206717251], r-sq=[0.9975542198241366, 0.9980320884475001]\n"
     ]
    },
    {
     "name": "stdout",
     "output_type": "stream",
     "text": [
      "intercept=[-0.4180260563496857, -0.41316539564814475], slope=[1.08342735891103, 1.0852799171504508], r-sq=[0.99973377603989, 0.9993225507148125]\n"
     ]
    },
    {
     "name": "stdout",
     "output_type": "stream",
     "text": [
      "intercept=[-0.3600899736514895, -0.35512016452337497], slope=[1.0714753213364976, 1.0712256905434414], r-sq=[0.9999986714166439, 0.9999961301697309]\n"
     ]
    },
    {
     "name": "stdout",
     "output_type": "stream",
     "text": [
      "intercept=[-0.3788395320005977, -0.3715109817321105], slope=[1.0786573434429672, 1.0774887741894947], r-sq=[0.9999982037028008, 0.9999942754223826]\n"
     ]
    },
    {
     "name": "stdout",
     "output_type": "stream",
     "text": [
      "intercept=[-0.37896012954317376, -0.37156486819095047], slope=[1.0787111353569707, 1.0775241504232804], r-sq=[0.9999982049718272, 0.9999940788572959]\n"
     ]
    },
    {
     "name": "stdout",
     "output_type": "stream",
     "text": [
      "intercept=[-0.37899550407019866, -0.3715956660284524], slope=[1.0787232463104646, 1.0775357473879463], r-sq=[0.9999982037318698, 0.9999940713848707]\n",
      "Solving the Krusell-Smith model took 41.253191999999984 seconds.\n"
     ]
    }
   ],
   "source": [
    "if solve_krusell_smith:\n",
    "    # Make a Krusell-Smith agent type\n",
    "    # NOTE: These agents aren't exactly like KS, as they don't have serially correlated unemployment\n",
    "    KSexampleType = deepcopy(AggShockMrkvExample)\n",
    "    KSexampleType.IncShkDstn[0] = [\n",
    "        DiscreteDistribution(\n",
    "            np.array([0.96, 0.04]),\n",
    "            np.array([[1.0, 1.0], [1.0 / 0.96, 0.0]]),\n",
    "        ),\n",
    "        DiscreteDistribution(\n",
    "            np.array([0.90, 0.10]),\n",
    "            np.array([[1.0, 1.0], [1.0 / 0.90, 0.0]]),\n",
    "        ),\n",
    "    ]\n",
    "\n",
    "    # Make a KS economy\n",
    "    KSeconomy = deepcopy(MrkvEconomyExample)\n",
    "    KSeconomy.agents = [KSexampleType]\n",
    "    KSeconomy.AggShkDstn = [\n",
    "        DiscreteDistribution(\n",
    "            np.array([1.0]),\n",
    "            np.array([[1.0], [1.05]]),\n",
    "        ),\n",
    "        DiscreteDistribution(\n",
    "            np.array([1.0]),\n",
    "            np.array([[1.0], [0.95]]),\n",
    "        ),\n",
    "    ]\n",
    "    KSeconomy.PermGroFacAgg = [1.0, 1.0]\n",
    "    KSexampleType.get_economy_data(KSeconomy)\n",
    "    KSeconomy.make_AggShkHist()\n",
    "\n",
    "    # Solve the K-S model\n",
    "    t_start = process_time()\n",
    "    print(\n",
    "        \"Now solving a Krusell-Smith-style economy.  This should take about a minute...\",\n",
    "    )\n",
    "    KSeconomy.solve()\n",
    "    t_end = process_time()\n",
    "    print(\"Solving the Krusell-Smith model took \" + str(t_end - t_start) + \" seconds.\")"
   ]
  },
  {
   "cell_type": "code",
   "execution_count": 10,
   "metadata": {
    "execution": {
     "iopub.execute_input": "2024-07-11T15:26:38.869121Z",
     "iopub.status.busy": "2024-07-11T15:26:38.868870Z",
     "iopub.status.idle": "2024-07-11T15:26:38.873890Z",
     "shell.execute_reply": "2024-07-11T15:26:38.873386Z"
    }
   },
   "outputs": [],
   "source": [
    "if solve_poly_state:\n",
    "    StateCount = 15  # Number of Markov states\n",
    "    GrowthAvg = 1.01  # Average permanent income growth factor\n",
    "    GrowthWidth = 0.02  # PermGroFacAgg deviates from PermGroFacAgg in this range\n",
    "    Persistence = 0.90  # Probability of staying in the same Markov state\n",
    "    PermGroFacAgg = np.linspace(\n",
    "        GrowthAvg - GrowthWidth,\n",
    "        GrowthAvg + GrowthWidth,\n",
    "        num=StateCount,\n",
    "    )\n",
    "\n",
    "    # Make the Markov array with chosen states and persistence\n",
    "    PolyMrkvArray = np.zeros((StateCount, StateCount))\n",
    "    for i in range(StateCount):\n",
    "        for j in range(StateCount):\n",
    "            if i == j:\n",
    "                PolyMrkvArray[i, j] = Persistence\n",
    "            elif (i == (j - 1)) or (i == (j + 1)):\n",
    "                PolyMrkvArray[i, j] = 0.5 * (1.0 - Persistence)\n",
    "    PolyMrkvArray[0, 0] += 0.5 * (1.0 - Persistence)\n",
    "    PolyMrkvArray[StateCount - 1, StateCount - 1] += 0.5 * (1.0 - Persistence)\n",
    "\n",
    "    # Make a consumer type to inhabit the economy\n",
    "    PolyStateExample = AggShockMarkovConsumerType()\n",
    "    PolyStateExample.MrkvArray = PolyMrkvArray\n",
    "    PolyStateExample.PermGroFacAgg = PermGroFacAgg\n",
    "    PolyStateExample.IncShkDstn[0] = StateCount * [PolyStateExample.IncShkDstn[0]]\n",
    "    PolyStateExample.cycles = 0\n",
    "\n",
    "    # Make a Cobb-Douglas economy for the agents\n",
    "    # Use verbose=False to remove printing of intercept\n",
    "    PolyStateEconomy = CobbDouglasMarkovEconomy(\n",
    "        agents=[PolyStateExample],\n",
    "        verbose=False,\n",
    "    )\n",
    "    PolyStateEconomy.MrkvArray = PolyMrkvArray\n",
    "    PolyStateEconomy.PermGroFacAgg = PermGroFacAgg\n",
    "    PolyStateEconomy.PermShkAggStd = StateCount * [0.006]\n",
    "    PolyStateEconomy.TranShkAggStd = StateCount * [0.003]\n",
    "    PolyStateEconomy.slope_prev = StateCount * [1.0]\n",
    "    PolyStateEconomy.intercept_prev = StateCount * [0.0]\n",
    "    PolyStateEconomy.update()\n",
    "    PolyStateEconomy.makeAggShkDstn()\n",
    "    PolyStateEconomy.make_AggShkHist()  # Simulate a history of aggregate shocks\n",
    "    PolyStateExample.get_economy_data(\n",
    "        PolyStateEconomy,\n",
    "    )  # Have the consumers inherit relevant objects from the economy\n",
    "\n",
    "    # Solve the many state model\n",
    "    t_start = process_time()\n",
    "    print(\n",
    "        \"Now solving an economy with \"\n",
    "        + str(StateCount)\n",
    "        + \" Markov states.  This might take a while...\",\n",
    "    )\n",
    "    PolyStateEconomy.solve()\n",
    "    t_end = process_time()\n",
    "    print(\n",
    "        \"Solving a model with \"\n",
    "        + str(StateCount)\n",
    "        + \" states took \"\n",
    "        + str(t_end - t_start)\n",
    "        + \" seconds.\",\n",
    "    )"
   ]
  }
 ],
 "metadata": {
  "jupytext": {
   "cell_metadata_filter": "-all",
   "formats": "ipynb,py:percent"
  },
  "kernelspec": {
   "display_name": "Python 3 (ipykernel)",
   "language": "python",
   "name": "python3"
  },
  "language_info": {
   "codemirror_mode": {
    "name": "ipython",
    "version": 3
   },
   "file_extension": ".py",
   "mimetype": "text/x-python",
   "name": "python",
   "nbconvert_exporter": "python",
   "pygments_lexer": "ipython3",
   "version": "3.11.9"
  },
  "latex_envs": {
   "LaTeX_envs_menu_present": true,
   "autoclose": false,
   "autocomplete": true,
   "bibliofile": "biblio.bib",
   "cite_by": "apalike",
   "current_citInitial": 1,
   "eqLabelWithNumbers": true,
   "eqNumInitial": 1,
   "hotkeys": {
    "equation": "Ctrl-E",
    "itemize": "Ctrl-I"
   },
   "labels_anchors": false,
   "latex_user_defs": false,
   "report_style_numbering": false,
   "user_envs_cfg": false
  }
 },
 "nbformat": 4,
 "nbformat_minor": 4
}
