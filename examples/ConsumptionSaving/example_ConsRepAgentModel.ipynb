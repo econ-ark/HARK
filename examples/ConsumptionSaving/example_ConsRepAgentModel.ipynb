{
 "cells": [
  {
   "cell_type": "code",
   "execution_count": 1,
   "metadata": {},
   "outputs": [],
   "source": [
    "from copy import deepcopy\n",
    "from time import time\n",
    "import numpy as np\n",
    "from HARK.utilities import plot_funcs\n",
    "from HARK.ConsumptionSaving.ConsIndShockModel import (\n",
    "    init_idiosyncratic_shocks\n",
    ")\n",
    "\n",
    "from HARK.ConsumptionSaving.ConsRepAgentModel import (\n",
    "    RepAgentConsumerType,\n",
    "    RepAgentMarkovConsumerType,\n",
    ")"
   ]
  },
  {
   "cell_type": "markdown",
   "metadata": {},
   "source": [
    "This module contains models for solving representative agent (RA) macroeconomic models. This stands in contrast to all other model modules in HARK, which (unsurprisingly) take a heterogeneous agents approach.  \n",
    "In RA models, all attributes are either time invariant or exist on a short cycle. Also, models must be infinite horizon."
   ]
  },
  {
   "cell_type": "markdown",
   "metadata": {},
   "source": [
    "Each period, the representative agent makes a decision about how much of his resources $m_t$ he should consume $c_t$ and how much should retain as assets $a_t$. He gets a flow of utility from consumption, with CRRA preferences (with coefficient $\\rho$). Retained assets are used to finance productive capital $k_{t+1}$ in the next period. Output is produced according to a Cobb-Douglas production function using capital and labor $\\ell_{t+1}$, with a capital share of $\\alpha$; a fraction $\\delta$ of capital depreciates immediately after production.\n",
    "\n",
    "The agent's labor productivity is subject to permanent and transitory shocks, $\\psi_t$ and $\\theta_t$ respectively. The representative agent stands in for a continuum of identical households, so markets are assumed competitive: the factor returns to capital and income are the (net) marginal product of these inputs.\n",
    "\n",
    "In the notation below, all lowercase state and control variables ($m_t$, $c_t$, etc) are normalized by the permanent labor productivity of the agent. The level of these variables at any time $t$ can be recovered by multiplying by permanent labor productivity $p_t$ (itself usually normalized to 1 at model start)."
   ]
  },
  {
   "cell_type": "markdown",
   "metadata": {},
   "source": [
    "The agent's problem can be written in Bellman form as:\n",
    "\n",
    "\\begin{eqnarray*}\n",
    "v_t(m_t) &=& \\max_{c_t} U(c_t) + \\beta \\mathbb{E} [(\\Gamma_{t+1}\\psi_{t+1})^{1-\\rho} v_{t+1}(m_{t+1})], \\\\\n",
    "a_t &=& m_t - c_t, \\\\\n",
    "\\psi_{t+1} &\\sim& F_{\\psi t+1}, \\qquad  \\mathbb{E} [F_{\\psi t}] = 1,\\\\\n",
    "\\theta_{t+1} &\\sim& F_{\\theta t+1}, \\\\\n",
    "k_{t+1} &=& a_t/(\\Gamma_{t+1}\\psi_{t+1}), \\\\\n",
    "R_{t+1} &=& 1 - \\delta + \\alpha (k_{t+1}/\\theta_{t+1})^{(\\alpha - 1)}, \\\\\n",
    "w_{t+1} &=& (1-\\alpha) (k_{t+1}/\\theta_{t+1})^\\alpha, \\\\\n",
    "m_{t+1} &=& R_{t+1} k_{t+1} + w_{t+1}\\theta_{t+1}, \\\\\n",
    "U(c) &=& \\frac{c^{1-\\rho}}{1-\\rho}\n",
    "\\end{eqnarray*}"
   ]
  },
  {
   "cell_type": "markdown",
   "metadata": {},
   "source": [
    "The one period problem for this model is solved by the function $\\texttt{solveConsRepAgent}$."
   ]
  },
  {
   "cell_type": "code",
   "execution_count": 2,
   "metadata": {},
   "outputs": [],
   "source": [
    "# Make a quick example dictionary\n",
    "RA_params = deepcopy(init_idiosyncratic_shocks)\n",
    "RA_params[\"DeprFac\"] = 0.05\n",
    "RA_params[\"CapShare\"] = 0.36\n",
    "RA_params[\"UnempPrb\"] = 0.0\n",
    "RA_params[\"LivPrb\"] = [1.0]"
   ]
  },
  {
   "cell_type": "code",
   "execution_count": 3,
   "metadata": {},
   "outputs": [
    {
     "name": "stdout",
     "output_type": "stream",
     "text": [
      "Solving a representative agent problem took 0.18442797660827637 seconds.\n"
     ]
    },
    {
     "data": {
      "image/png": "[encoded data removed]",
      "text/plain": [
       "<Figure size 432x288 with 1 Axes>"
      ]
     },
     "metadata": {
      "needs_background": "light"
     },
     "output_type": "display_data"
    }
   ],
   "source": [
    "# Make and solve a rep agent model\n",
    "RAexample = RepAgentConsumerType(**RA_params)\n",
    "t_start = time()\n",
    "RAexample.solve()\n",
    "t_end = time()\n",
    "print(\n",
    "    \"Solving a representative agent problem took \" + str(t_end - t_start) + \" seconds.\"\n",
    ")\n",
    "plot_funcs(RAexample.solution[0].cFunc, 0, 20)"
   ]
  },
  {
   "cell_type": "code",
   "execution_count": 4,
   "metadata": {},
   "outputs": [
    {
     "name": "stdout",
     "output_type": "stream",
     "text": [
      "Simulating a representative agent for 2000 periods took 1.6448969841003418 seconds.\n"
     ]
    }
   ],
   "source": [
    "# Simulate the representative agent model\n",
    "RAexample.T_sim = 2000\n",
    "RAexample.track_vars = [\"cNrm\", \"mNrm\", \"Rfree\", \"wRte\"]\n",
    "RAexample.initialize_sim()\n",
    "t_start = time()\n",
    "RAexample.simulate()\n",
    "t_end = time()\n",
    "print(\n",
    "    \"Simulating a representative agent for \"\n",
    "    + str(RAexample.T_sim)\n",
    "    + \" periods took \"\n",
    "    + str(t_end - t_start)\n",
    "    + \" seconds.\"\n",
    ")"
   ]
  },
  {
   "cell_type": "code",
   "execution_count": 7,
   "metadata": {},
   "outputs": [
    {
     "name": "stdout",
     "output_type": "stream",
     "text": [
      "Solving a two state representative agent problem took 0.5294573307037354 seconds.\n"
     ]
    },
    {
     "data": {
      "image/png": "[encoded data removed]",
      "text/plain": [
       "<Figure size 432x288 with 1 Axes>"
      ]
     },
     "metadata": {
      "needs_background": "light"
     },
     "output_type": "display_data"
    }
   ],
   "source": [
    "# Make and solve a Markov representative agent\n",
    "RA_markov_params = deepcopy(RA_params)\n",
    "RA_markov_params[\"PermGroFac\"] = [[0.97, 1.03]]\n",
    "RA_markov_params[\"MrkvArray\"] = np.array([[0.99, 0.01], [0.01, 0.99]])\n",
    "RA_markov_params[\"Mrkv\"] = 0\n",
    "RAmarkovExample = RepAgentMarkovConsumerType(**RA_markov_params)\n",
    "RAmarkovExample.IncShkDstn[0] = 2 * [RAmarkovExample.IncShkDstn[0]]\n",
    "t_start = time()\n",
    "RAmarkovExample.solve()\n",
    "t_end = time()\n",
    "print(\n",
    "    \"Solving a two state representative agent problem took \"\n",
    "    + str(t_end - t_start)\n",
    "    + \" seconds.\"\n",
    ")\n",
    "plot_funcs(RAmarkovExample.solution[0].cFunc, 0, 10)"
   ]
  },
  {
   "cell_type": "code",
   "execution_count": 8,
   "metadata": {},
   "outputs": [
    {
     "name": "stdout",
     "output_type": "stream",
     "text": [
      "Simulating a two state representative agent for 2000 periods took 2.599355459213257 seconds.\n"
     ]
    }
   ],
   "source": [
    "# Simulate the two state representative agent model\n",
    "RAmarkovExample.T_sim = 2000\n",
    "RAmarkovExample.track_vars = [\"cNrm\", \"mNrm\", \"Rfree\", \"wRte\", \"Mrkv\"]\n",
    "RAmarkovExample.initialize_sim()\n",
    "t_start = time()\n",
    "RAmarkovExample.simulate()\n",
    "t_end = time()\n",
    "print(\n",
    "    \"Simulating a two state representative agent for \"\n",
    "    + str(RAexample.T_sim)\n",
    "    + \" periods took \"\n",
    "    + str(t_end - t_start)\n",
    "    + \" seconds.\"\n",
    ")"
   ]
  },
  {
   "cell_type": "code",
   "execution_count": null,
   "metadata": {},
   "outputs": [],
   "source": []
  }
 ],
 "metadata": {
  "jupytext": {
   "cell_metadata_filter": "-all",
   "main_language": "python",
   "notebook_metadata_filter": "-all"
  },
  "kernelspec": {
   "display_name": "econ-ark-3.8",
   "language": "python",
   "name": "econ-ark-3.8"
  },
  "language_info": {
   "codemirror_mode": {
    "name": "ipython",
    "version": 3
   },
   "file_extension": ".py",
   "mimetype": "text/x-python",
   "name": "python",
   "nbconvert_exporter": "python",
   "pygments_lexer": "ipython3",
   "version": "3.8.7"
  }
 },
 "nbformat": 4,
 "nbformat_minor": 4
}
