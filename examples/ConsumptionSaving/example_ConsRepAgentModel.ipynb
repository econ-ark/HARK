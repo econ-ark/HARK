{
 "cells": [
  {
   "cell_type": "code",
   "execution_count": 1,
   "metadata": {},
   "outputs": [],
   "source": [
    "from copy import deepcopy\n",
    "from time import time\n",
    "import numpy as np\n",
    "from HARK.utilities import plotFuncs\n",
    "from HARK.ConsumptionSaving.ConsIndShockModel import (\n",
    "    init_idiosyncratic_shocks\n",
    ")\n",
    "\n",
    "from HARK.ConsumptionSaving.ConsRepAgentModel import (\n",
    "    RepAgentConsumerType,\n",
    "    RepAgentMarkovConsumerType,\n",
    ")"
   ]
  },
  {
   "cell_type": "code",
   "execution_count": 2,
   "metadata": {},
   "outputs": [],
   "source": [
    "# Make a quick example dictionary\n",
    "RA_params = deepcopy(init_idiosyncratic_shocks)\n",
    "RA_params[\"DeprFac\"] = 0.05\n",
    "RA_params[\"CapShare\"] = 0.36\n",
    "RA_params[\"UnempPrb\"] = 0.0\n",
    "RA_params[\"LivPrb\"] = [1.0]"
   ]
  },
  {
   "cell_type": "code",
   "execution_count": 3,
   "metadata": {},
   "outputs": [
    {
     "name": "stdout",
     "output_type": "stream",
     "text": [
      "Solving a representative agent problem took 0.16342997550964355 seconds.\n"
     ]
    },
    {
     "data": {
      "image/png": "[encoded data removed]",
      "text/plain": [
       "<Figure size 432x288 with 1 Axes>"
      ]
     },
     "metadata": {
      "needs_background": "light"
     },
     "output_type": "display_data"
    }
   ],
   "source": [
    "# Make and solve a rep agent model\n",
    "RAexample = RepAgentConsumerType(**RA_params)\n",
    "t_start = time()\n",
    "RAexample.solve()\n",
    "t_end = time()\n",
    "print(\n",
    "    \"Solving a representative agent problem took \" + str(t_end - t_start) + \" seconds.\"\n",
    ")\n",
    "plotFuncs(RAexample.solution[0].cFunc, 0, 20)"
   ]
  },
  {
   "cell_type": "code",
   "execution_count": 4,
   "metadata": {},
   "outputs": [
    {
     "name": "stdout",
     "output_type": "stream",
     "text": [
      "Simulating a representative agent for 2000 periods took 2.174649715423584 seconds.\n"
     ]
    }
   ],
   "source": [
    "# Simulate the representative agent model\n",
    "RAexample.T_sim = 2000\n",
    "RAexample.track_vars = [\"cNrmNow\", \"mNrmNow\", \"Rfree\", \"wRte\"]\n",
    "RAexample.initializeSim()\n",
    "t_start = time()\n",
    "RAexample.simulate()\n",
    "t_end = time()\n",
    "print(\n",
    "    \"Simulating a representative agent for \"\n",
    "    + str(RAexample.T_sim)\n",
    "    + \" periods took \"\n",
    "    + str(t_end - t_start)\n",
    "    + \" seconds.\"\n",
    ")"
   ]
  },
  {
   "cell_type": "code",
   "execution_count": 5,
   "metadata": {},
   "outputs": [
    {
     "name": "stdout",
     "output_type": "stream",
     "text": [
      "Solving a two state representative agent problem took 0.4681053161621094 seconds.\n"
     ]
    },
    {
     "data": {
      "image/png": "[encoded data removed]",
      "text/plain": [
       "<Figure size 432x288 with 1 Axes>"
      ]
     },
     "metadata": {
      "needs_background": "light"
     },
     "output_type": "display_data"
    }
   ],
   "source": [
    "# Make and solve a Markov representative agent\n",
    "RA_markov_params = deepcopy(RA_params)\n",
    "RA_markov_params[\"PermGroFac\"] = [[0.97, 1.03]]\n",
    "RA_markov_params[\"MrkvArray\"] = np.array([[0.99, 0.01], [0.01, 0.99]])\n",
    "RA_markov_params[\"MrkvNow\"] = 0\n",
    "RAmarkovExample = RepAgentMarkovConsumerType(**RA_markov_params)\n",
    "RAmarkovExample.IncomeDstn[0] = 2 * [RAmarkovExample.IncomeDstn[0]]\n",
    "t_start = time()\n",
    "RAmarkovExample.solve()\n",
    "t_end = time()\n",
    "print(\n",
    "    \"Solving a two state representative agent problem took \"\n",
    "    + str(t_end - t_start)\n",
    "    + \" seconds.\"\n",
    ")\n",
    "plotFuncs(RAmarkovExample.solution[0].cFunc, 0, 10)"
   ]
  },
  {
   "cell_type": "code",
   "execution_count": 6,
   "metadata": {},
   "outputs": [
    {
     "name": "stdout",
     "output_type": "stream",
     "text": [
      "Simulating a two state representative agent for 2000 periods took 2.6130998134613037 seconds.\n"
     ]
    }
   ],
   "source": [
    "# Simulate the two state representative agent model\n",
    "RAmarkovExample.T_sim = 2000\n",
    "RAmarkovExample.track_vars = [\"cNrmNow\", \"mNrmNow\", \"Rfree\", \"wRte\", \"MrkvNow\"]\n",
    "RAmarkovExample.initializeSim()\n",
    "t_start = time()\n",
    "RAmarkovExample.simulate()\n",
    "t_end = time()\n",
    "print(\n",
    "    \"Simulating a two state representative agent for \"\n",
    "    + str(RAexample.T_sim)\n",
    "    + \" periods took \"\n",
    "    + str(t_end - t_start)\n",
    "    + \" seconds.\"\n",
    ")"
   ]
  }
 ],
 "metadata": {
  "jupytext": {
   "cell_metadata_filter": "-all",
   "main_language": "python",
   "notebook_metadata_filter": "-all"
  },
  "kernelspec": {
   "display_name": "Python 3",
   "language": "python",
   "name": "python3"
  },
  "language_info": {
   "codemirror_mode": {
    "name": "ipython",
    "version": 3
   },
   "file_extension": ".py",
   "mimetype": "text/x-python",
   "name": "python",
   "nbconvert_exporter": "python",
   "pygments_lexer": "ipython3",
   "version": "3.6.9"
  }
 },
 "nbformat": 4,
 "nbformat_minor": 4
}
