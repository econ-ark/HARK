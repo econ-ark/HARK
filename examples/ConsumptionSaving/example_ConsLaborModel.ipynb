{
 "cells": [
  {
   "cell_type": "code",
   "execution_count": null,
   "metadata": {},
   "outputs": [],
   "source": [
    "from HARK.ConsumptionSaving.ConsLaborModel import (\n",
    "    LaborIntMargConsumerType,\n",
    "    init_labor_lifecycle,\n",
    ")\n",
    "import numpy as np\n",
    "import matplotlib.pyplot as plt\n",
    "from time import process_time"
   ]
  },
  {
   "cell_type": "code",
   "execution_count": null,
   "metadata": {},
   "outputs": [],
   "source": [
    "mystr = lambda number: \"{:.4f}\".format(number)  # Format numbers as strings"
   ]
  },
  {
   "cell_type": "code",
   "execution_count": null,
   "metadata": {},
   "outputs": [],
   "source": [
    "do_simulation = True"
   ]
  },
  {
   "cell_type": "code",
   "execution_count": null,
   "metadata": {},
   "outputs": [],
   "source": [
    "# Make and solve a labor intensive margin consumer i.e. a consumer with utility for leisure\n",
    "LaborIntMargExample = LaborIntMargConsumerType(verbose=0)\n",
    "LaborIntMargExample.cycles = 0"
   ]
  },
  {
   "cell_type": "code",
   "execution_count": null,
   "metadata": {},
   "outputs": [],
   "source": [
    "t_start = process_time()\n",
    "LaborIntMargExample.solve()\n",
    "t_end = process_time()\n",
    "print(\n",
    "    \"Solving a labor intensive margin consumer took \"\n",
    "    + str(t_end - t_start)\n",
    "    + \" seconds.\"\n",
    ")"
   ]
  },
  {
   "cell_type": "code",
   "execution_count": null,
   "metadata": {},
   "outputs": [],
   "source": [
    "t = 0\n",
    "bMin_orig = 0.0\n",
    "bMax = 100.0"
   ]
  },
  {
   "cell_type": "code",
   "execution_count": null,
   "metadata": {},
   "outputs": [],
   "source": [
    "# Plot the consumption function at various transitory productivity shocks\n",
    "TranShkSet = LaborIntMargExample.TranShkGrid[t]\n",
    "bMin = bMin_orig\n",
    "B = np.linspace(bMin, bMax, 300)\n",
    "bMin = bMin_orig\n",
    "for Shk in TranShkSet:\n",
    "    B_temp = B + LaborIntMargExample.solution[t].bNrmMin(Shk)\n",
    "    C = LaborIntMargExample.solution[t].cFunc(B_temp, Shk * np.ones_like(B_temp))\n",
    "    plt.plot(B_temp, C)\n",
    "    bMin = np.minimum(bMin, B_temp[0])\n",
    "plt.xlabel(\"Beginning of period bank balances\")\n",
    "plt.ylabel(\"Normalized consumption level\")\n",
    "plt.xlim(bMin, bMax - bMin_orig + bMin)\n",
    "plt.ylim(0.0, None)\n",
    "plt.show()"
   ]
  },
  {
   "cell_type": "code",
   "execution_count": null,
   "metadata": {},
   "outputs": [],
   "source": [
    "# Plot the marginal consumption function at various transitory productivity shocks\n",
    "TranShkSet = LaborIntMargExample.TranShkGrid[t]\n",
    "bMin = bMin_orig\n",
    "B = np.linspace(bMin, bMax, 300)\n",
    "for Shk in TranShkSet:\n",
    "    B_temp = B + LaborIntMargExample.solution[t].bNrmMin(Shk)\n",
    "    C = LaborIntMargExample.solution[t].cFunc.derivativeX(\n",
    "        B_temp, Shk * np.ones_like(B_temp)\n",
    "    )\n",
    "    plt.plot(B_temp, C)\n",
    "    bMin = np.minimum(bMin, B_temp[0])\n",
    "plt.xlabel(\"Beginning of period bank balances\")\n",
    "plt.ylabel(\"Marginal propensity to consume\")\n",
    "plt.xlim(bMin, bMax - bMin_orig + bMin)\n",
    "plt.ylim(0.0, 1.0)\n",
    "plt.show()"
   ]
  },
  {
   "cell_type": "code",
   "execution_count": null,
   "metadata": {},
   "outputs": [],
   "source": [
    "# Plot the labor function at various transitory productivity shocks\n",
    "TranShkSet = LaborIntMargExample.TranShkGrid[t]\n",
    "bMin = bMin_orig\n",
    "B = np.linspace(0.0, bMax, 300)\n",
    "for Shk in TranShkSet:\n",
    "    B_temp = B + LaborIntMargExample.solution[t].bNrmMin(Shk)\n",
    "    Lbr = LaborIntMargExample.solution[t].LbrFunc(B_temp, Shk * np.ones_like(B_temp))\n",
    "    bMin = np.minimum(bMin, B_temp[0])\n",
    "    plt.plot(B_temp, Lbr)\n",
    "plt.xlabel(\"Beginning of period bank balances\")\n",
    "plt.ylabel(\"Labor supply\")\n",
    "plt.xlim(bMin, bMax - bMin_orig + bMin)\n",
    "plt.ylim(0.0, 1.0)\n",
    "plt.show()"
   ]
  },
  {
   "cell_type": "code",
   "execution_count": null,
   "metadata": {},
   "outputs": [],
   "source": [
    "# Plot the marginal value function at various transitory productivity shocks\n",
    "pseudo_inverse = True\n",
    "TranShkSet = LaborIntMargExample.TranShkGrid[t]\n",
    "bMin = bMin_orig\n",
    "B = np.linspace(0.0, bMax, 300)\n",
    "for Shk in TranShkSet:\n",
    "    B_temp = B + LaborIntMargExample.solution[t].bNrmMin(Shk)\n",
    "    if pseudo_inverse:\n",
    "        vP = LaborIntMargExample.solution[t].vPfunc.cFunc(\n",
    "            B_temp, Shk * np.ones_like(B_temp)\n",
    "        )\n",
    "    else:\n",
    "        vP = LaborIntMargExample.solution[t].vPfunc(B_temp, Shk * np.ones_like(B_temp))\n",
    "    bMin = np.minimum(bMin, B_temp[0])\n",
    "    plt.plot(B_temp, vP)\n",
    "plt.xlabel(\"Beginning of period bank balances\")\n",
    "if pseudo_inverse:\n",
    "    plt.ylabel(\"Pseudo inverse marginal value\")\n",
    "else:\n",
    "    plt.ylabel(\"Marginal value\")\n",
    "plt.xlim(bMin, bMax - bMin_orig + bMin)\n",
    "plt.ylim(0.0, None)\n",
    "plt.show()"
   ]
  },
  {
   "cell_type": "code",
   "execution_count": null,
   "metadata": {},
   "outputs": [],
   "source": [
    "if do_simulation:\n",
    "    t_start = process_time()\n",
    "    LaborIntMargExample.T_sim = 120  # Set number of simulation periods\n",
    "    LaborIntMargExample.track_vars = [\"bNrm\", 'cNrm']\n",
    "    LaborIntMargExample.initialize_sim()\n",
    "    LaborIntMargExample.simulate()\n",
    "    t_end = process_time()\n",
    "    print(\n",
    "        \"Simulating \"\n",
    "        + str(LaborIntMargExample.AgentCount)\n",
    "        + \" intensive-margin labor supply consumers for \"\n",
    "        + str(LaborIntMargExample.T_sim)\n",
    "        + \" periods took \"\n",
    "        + mystr(t_end - t_start)\n",
    "        + \" seconds.\"\n",
    "    )\n",
    "\n",
    "    N = LaborIntMargExample.AgentCount\n",
    "    CDF = np.linspace(0.0, 1, N)\n",
    "\n",
    "    plt.plot(np.sort(LaborIntMargExample.controls['cNrm']), CDF)\n",
    "    plt.xlabel(\n",
    "        \"Consumption cNrm in \" + str(LaborIntMargExample.T_sim) + \"th simulated period\"\n",
    "    )\n",
    "    plt.ylabel(\"Cumulative distribution\")\n",
    "    plt.xlim(0.0, None)\n",
    "    plt.ylim(0.0, 1.0)\n",
    "    plt.show()\n",
    "\n",
    "    plt.plot(np.sort(LaborIntMargExample.controls['Lbr']), CDF)\n",
    "    plt.xlabel(\n",
    "        \"Labor supply Lbr in \" + str(LaborIntMargExample.T_sim) + \"th simulated period\"\n",
    "    )\n",
    "    plt.ylabel(\"Cumulative distribution\")\n",
    "    plt.xlim(0.0, 1.0)\n",
    "    plt.ylim(0.0, 1.0)\n",
    "    plt.show()\n",
    "\n",
    "    plt.plot(np.sort(LaborIntMargExample.state_now['aNrm']), CDF)\n",
    "    plt.xlabel(\n",
    "        \"End-of-period assets aNrm in \"\n",
    "        + str(LaborIntMargExample.T_sim)\n",
    "        + \"th simulated period\"\n",
    "    )\n",
    "    plt.ylabel(\"Cumulative distribution\")\n",
    "    plt.xlim(0.0, 20.0)\n",
    "    plt.ylim(0.0, 1.0)\n",
    "    plt.show()"
   ]
  },
  {
   "cell_type": "code",
   "execution_count": null,
   "metadata": {},
   "outputs": [],
   "source": [
    "# Make and solve a labor intensive margin consumer with a finite lifecycle\n",
    "LifecycleExample = LaborIntMargConsumerType(**init_labor_lifecycle)\n",
    "LifecycleExample.cycles = (\n",
    "    1  # Make this consumer live a sequence of periods exactly once\n",
    ")"
   ]
  },
  {
   "cell_type": "code",
   "execution_count": null,
   "metadata": {},
   "outputs": [],
   "source": [
    "start_time = process_time()\n",
    "LifecycleExample.solve()\n",
    "end_time = process_time()\n",
    "print(\n",
    "    \"Solving a lifecycle labor intensive margin consumer took \"\n",
    "    + str(end_time - start_time)\n",
    "    + \" seconds.\"\n",
    ")\n",
    "LifecycleExample.unpack('cFunc')"
   ]
  },
  {
   "cell_type": "code",
   "execution_count": null,
   "metadata": {},
   "outputs": [],
   "source": [
    "bMax = 20.0"
   ]
  },
  {
   "cell_type": "code",
   "execution_count": null,
   "metadata": {},
   "outputs": [],
   "source": [
    "# Plot the consumption function in each period of the lifecycle, using median shock\n",
    "B = np.linspace(0.0, bMax, 300)\n",
    "b_min = np.inf\n",
    "b_max = -np.inf\n",
    "for t in range(LifecycleExample.T_cycle):\n",
    "    TranShkSet = LifecycleExample.TranShkGrid[t]\n",
    "    Shk = TranShkSet[int(len(TranShkSet) // 2)]  # Use the median shock, more or less\n",
    "    B_temp = B + LifecycleExample.solution[t].bNrmMin(Shk)\n",
    "    C = LifecycleExample.solution[t].cFunc(B_temp, Shk * np.ones_like(B_temp))\n",
    "    plt.plot(B_temp, C)\n",
    "    b_min = np.minimum(b_min, B_temp[0])\n",
    "    b_max = np.maximum(b_min, B_temp[-1])\n",
    "plt.title(\"Consumption function across periods of the lifecycle\")\n",
    "plt.xlabel(\"Beginning of period bank balances\")\n",
    "plt.ylabel(\"Normalized consumption level\")\n",
    "plt.xlim(b_min, b_max)\n",
    "plt.ylim(0.0, None)\n",
    "plt.show()"
   ]
  },
  {
   "cell_type": "code",
   "execution_count": null,
   "metadata": {},
   "outputs": [],
   "source": [
    "# Plot the marginal consumption function in each period of the lifecycle, using median shock\n",
    "B = np.linspace(0.0, bMax, 300)\n",
    "b_min = np.inf\n",
    "b_max = -np.inf\n",
    "for t in range(LifecycleExample.T_cycle):\n",
    "    TranShkSet = LifecycleExample.TranShkGrid[t]\n",
    "    Shk = TranShkSet[int(len(TranShkSet) // 2)]  # Use the median shock, more or less\n",
    "    B_temp = B + LifecycleExample.solution[t].bNrmMin(Shk)\n",
    "    MPC = LifecycleExample.solution[t].cFunc.derivativeX(\n",
    "        B_temp, Shk * np.ones_like(B_temp)\n",
    "    )\n",
    "    plt.plot(B_temp, MPC)\n",
    "    b_min = np.minimum(b_min, B_temp[0])\n",
    "    b_max = np.maximum(b_min, B_temp[-1])\n",
    "plt.title(\"Marginal consumption function across periods of the lifecycle\")\n",
    "plt.xlabel(\"Beginning of period bank balances\")\n",
    "plt.ylabel(\"Marginal propensity to consume\")\n",
    "plt.xlim(b_min, b_max)\n",
    "plt.ylim(0.0, 1.0)\n",
    "plt.show()"
   ]
  },
  {
   "cell_type": "code",
   "execution_count": null,
   "metadata": {},
   "outputs": [],
   "source": [
    "# Plot the labor supply function in each period of the lifecycle, using median shock\n",
    "B = np.linspace(0.0, bMax, 300)\n",
    "b_min = np.inf\n",
    "b_max = -np.inf\n",
    "for t in range(LifecycleExample.T_cycle):\n",
    "    TranShkSet = LifecycleExample.TranShkGrid[t]\n",
    "    Shk = TranShkSet[int(len(TranShkSet) // 2)]  # Use the median shock, more or less\n",
    "    B_temp = B + LifecycleExample.solution[t].bNrmMin(Shk)\n",
    "    L = LifecycleExample.solution[t].LbrFunc(B_temp, Shk * np.ones_like(B_temp))\n",
    "    plt.plot(B_temp, L)\n",
    "    b_min = np.minimum(b_min, B_temp[0])\n",
    "    b_max = np.maximum(b_min, B_temp[-1])\n",
    "plt.title(\"Labor supply function across periods of the lifecycle\")\n",
    "plt.xlabel(\"Beginning of period bank balances\")\n",
    "plt.ylabel(\"Labor supply\")\n",
    "plt.xlim(b_min, b_max)\n",
    "plt.ylim(0.0, 1.01)\n",
    "plt.show()"
   ]
  },
  {
   "cell_type": "code",
   "execution_count": null,
   "metadata": {},
   "outputs": [],
   "source": [
    "# Plot the marginal value function at various transitory productivity shocks\n",
    "pseudo_inverse = True\n",
    "TranShkSet = LifecycleExample.TranShkGrid[t]\n",
    "B = np.linspace(0.0, bMax, 300)\n",
    "b_min = np.inf\n",
    "b_max = -np.inf\n",
    "for t in range(LifecycleExample.T_cycle):\n",
    "    TranShkSet = LifecycleExample.TranShkGrid[t]\n",
    "    Shk = TranShkSet[int(len(TranShkSet) / 2)]  # Use the median shock, more or less\n",
    "    B_temp = B + LifecycleExample.solution[t].bNrmMin(Shk)\n",
    "    if pseudo_inverse:\n",
    "        vP = LifecycleExample.solution[t].vPfunc.cFunc(\n",
    "            B_temp, Shk * np.ones_like(B_temp)\n",
    "        )\n",
    "    else:\n",
    "        vP = LifecycleExample.solution[t].vPfunc(B_temp, Shk * np.ones_like(B_temp))\n",
    "    plt.plot(B_temp, vP)\n",
    "    b_min = np.minimum(b_min, B_temp[0])\n",
    "    b_max = np.maximum(b_min, B_temp[-1])\n",
    "plt.xlabel(\"Beginning of period bank balances\")\n",
    "if pseudo_inverse:\n",
    "    plt.ylabel(\"Pseudo inverse marginal value\")\n",
    "else:\n",
    "    plt.ylabel(\"Marginal value\")\n",
    "plt.title(\"Marginal value across periods of the lifecycle\")\n",
    "plt.xlim(b_min, b_max)\n",
    "plt.ylim(0.0, None)\n",
    "plt.show()"
   ]
  },
  {
   "cell_type": "code",
   "execution_count": null,
   "metadata": {},
   "outputs": [],
   "source": []
  }
 ],
 "metadata": {
  "jupytext": {
   "cell_metadata_filter": "-all",
   "formats": "ipynb,py:light",
   "notebook_metadata_filter": "all"
  },
  "kernelspec": {
   "display_name": "econ-ark-3.8",
   "language": "python",
   "name": "econ-ark-3.8"
  },
  "language_info": {
   "codemirror_mode": {
    "name": "ipython",
    "version": 3
   },
   "file_extension": ".py",
   "mimetype": "text/x-python",
   "name": "python",
   "nbconvert_exporter": "python",
   "pygments_lexer": "ipython3",
   "version": "3.8.7"
  }
 },
 "nbformat": 4,
 "nbformat_minor": 4
}
