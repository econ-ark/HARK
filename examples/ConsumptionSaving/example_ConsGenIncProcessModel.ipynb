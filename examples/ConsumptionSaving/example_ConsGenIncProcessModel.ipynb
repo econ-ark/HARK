{
 "cells": [
  {
   "cell_type": "code",
   "execution_count": null,
   "metadata": {},
   "outputs": [],
   "source": [
    "from HARK.utilities import plot_funcs\n",
    "from time import process_time\n",
    "import matplotlib.pyplot as plt\n",
    "import numpy as np\n",
    "from HARK.ConsumptionSaving.ConsGenIncProcessModel import (\n",
    "    IndShockExplicitPermIncConsumerType,\n",
    "    IndShockConsumerType,\n",
    "    PersistentShockConsumerType,\n",
    "    init_explicit_perm_inc,\n",
    ")\n",
    "from HARK.ConsumptionSaving.ConsIndShockModel import indshk_constructor_dict\n",
    "\n",
    "\n",
    "def mystr(number):\n",
    "    return \"{:.4f}\".format(number)"
   ]
  },
  {
   "cell_type": "code",
   "execution_count": null,
   "metadata": {},
   "outputs": [],
   "source": [
    "do_simulation = True"
   ]
  },
  {
   "cell_type": "code",
   "execution_count": null,
   "metadata": {},
   "outputs": [],
   "source": [
    "# Make and solve an example \"explicit permanent income\" consumer with idiosyncratic shocks\n",
    "ExplicitExample = IndShockExplicitPermIncConsumerType()\n",
    "ExplicitExample.cycles = 0\n",
    "ExplicitExample.update()\n",
    "t_start = process_time()\n",
    "ExplicitExample.solve()\n",
    "t_end = process_time()\n",
    "print(\n",
    "    \"Solving an explicit permanent income consumer took \"\n",
    "    + mystr(t_end - t_start)\n",
    "    + \" seconds.\"\n",
    ")"
   ]
  },
  {
   "cell_type": "code",
   "execution_count": null,
   "metadata": {},
   "outputs": [],
   "source": [
    "# Display information about the pLvlGrid used in these examples\n",
    "print(\n",
    "    \"The infinite horizon examples presented here use a grid of persistent income levels (pLvlGrid)\"\n",
    ")\n",
    "print(\n",
    "    \"based on percentiles of the long run distribution of pLvl for the given parameters. These percentiles\"\n",
    ")\n",
    "print(\n",
    "    \"are specified in the attribute pLvlPctiles. Here, the lowest percentile is \"\n",
    "    + mystr(ExplicitExample.pLvlPctiles[0] * 100)\n",
    "    + \" and the highest\"\n",
    ")\n",
    "print(\"percentile is \" + mystr(ExplicitExample.pLvlPctiles[-1] * 100) + \".\\n\")"
   ]
  },
  {
   "cell_type": "code",
   "execution_count": null,
   "metadata": {},
   "outputs": [],
   "source": [
    "# Plot the consumption function at various permanent income levels\n",
    "print(\"Consumption function by pLvl for explicit permanent income consumer:\")\n",
    "pLvlGrid = ExplicitExample.pLvlGrid[0]\n",
    "mLvlGrid = np.linspace(0, 20, 300)\n",
    "for p in pLvlGrid:\n",
    "    M_temp = mLvlGrid + ExplicitExample.solution[0].mLvlMin(p)\n",
    "    C = ExplicitExample.solution[0].cFunc(M_temp, p * np.ones_like(M_temp))\n",
    "    plt.plot(M_temp, C)\n",
    "plt.xlim(0.0, 20.0)\n",
    "plt.ylim(0.0, None)\n",
    "plt.xlabel(\"Market resource level mLvl\")\n",
    "plt.ylabel(\"Consumption level cLvl\")\n",
    "plt.show()"
   ]
  },
  {
   "cell_type": "code",
   "execution_count": null,
   "metadata": {},
   "outputs": [],
   "source": [
    "# Now solve the *exact same* problem, but with the permanent income normalization\n",
    "temp_dict = init_explicit_perm_inc.copy()\n",
    "temp_dict[\"constructors\"] = indshk_constructor_dict\n",
    "NormalizedExample = IndShockConsumerType(**temp_dict)\n",
    "NormalizedExample.cycles = 0\n",
    "t_start = process_time()\n",
    "NormalizedExample.solve()\n",
    "t_end = process_time()\n",
    "print(\n",
    "    \"Solving the equivalent problem with permanent income normalized out took \"\n",
    "    + mystr(t_end - t_start)\n",
    "    + \" seconds.\"\n",
    ")"
   ]
  },
  {
   "cell_type": "code",
   "execution_count": null,
   "metadata": {},
   "outputs": [],
   "source": [
    "# Show that the normalized consumption function for the \"explicit permanent income\" consumer\n",
    "# is almost identical for every permanent income level (and the same as the normalized problem's\n",
    "# cFunc), but is less accurate due to extrapolation outside the bounds of pLvlGrid.\n",
    "print(\"Normalized consumption function by pLvl for explicit permanent income consumer:\")\n",
    "pLvlGrid = ExplicitExample.pLvlGrid[0]\n",
    "mNrmGrid = np.linspace(0, 20, 300)\n",
    "for p in pLvlGrid:\n",
    "    M_temp = mNrmGrid * p + ExplicitExample.solution[0].mLvlMin(p)\n",
    "    C = ExplicitExample.solution[0].cFunc(M_temp, p * np.ones_like(M_temp))\n",
    "    plt.plot(M_temp / p, C / p)\n",
    "plt.xlim(0.0, 20.0)\n",
    "plt.ylim(0.0, None)\n",
    "plt.xlabel(\"Normalized market resources mNrm\")\n",
    "plt.ylabel(\"Normalized consumption cNrm\")\n",
    "plt.show()\n",
    "print(\n",
    "    \"Consumption function for normalized problem (without explicit permanent income):\"\n",
    ")\n",
    "mNrmMin = NormalizedExample.solution[0].mNrmMin\n",
    "plot_funcs(NormalizedExample.solution[0].cFunc, mNrmMin, mNrmMin + 20)"
   ]
  },
  {
   "cell_type": "markdown",
   "metadata": {},
   "source": [
    "The \"explicit permanent income\" solution deviates from the solution to the normalized problem because\n",
    "of errors from extrapolating beyond the bounds of the pLvlGrid.\n",
    "The error is largest for pLvl values\n",
    "near the upper and lower bounds, and propagates toward the center of the distribution."
   ]
  },
  {
   "cell_type": "code",
   "execution_count": null,
   "metadata": {},
   "outputs": [],
   "source": [
    "# Plot the value function at various permanent income levels\n",
    "if ExplicitExample.vFuncBool:\n",
    "    pGrid = np.linspace(0.1, 3.0, 24)\n",
    "    M = np.linspace(0.001, 5, 300)\n",
    "    for p in pGrid:\n",
    "        M_temp = M + ExplicitExample.solution[0].mLvlMin(p)\n",
    "        C = ExplicitExample.solution[0].vFunc(M_temp, p * np.ones_like(M_temp))\n",
    "        plt.plot(M_temp, C)\n",
    "    plt.ylim([-200, 0])\n",
    "    plt.xlabel(\"Market resource level mLvl\")\n",
    "    plt.ylabel(\"Value v\")\n",
    "    plt.show()"
   ]
  },
  {
   "cell_type": "code",
   "execution_count": null,
   "metadata": {},
   "outputs": [],
   "source": [
    "# Simulate some data\n",
    "if do_simulation:\n",
    "    ExplicitExample.T_sim = 500\n",
    "    ExplicitExample.track_vars = [\"mLvl\", \"cLvl\", \"pLvl\"]\n",
    "    ExplicitExample.make_shock_history()  # This is optional\n",
    "    ExplicitExample.initialize_sim()\n",
    "    ExplicitExample.simulate()\n",
    "    plt.plot(np.mean(ExplicitExample.history[\"mLvl\"], axis=1))\n",
    "    plt.xlabel(\"Simulated time period\")\n",
    "    plt.ylabel(\"Average market resources mLvl\")\n",
    "    plt.show()"
   ]
  },
  {
   "cell_type": "code",
   "execution_count": null,
   "metadata": {},
   "outputs": [],
   "source": [
    "# Make and solve an example \"persistent idisyncratic shocks\" consumer\n",
    "PersistentExample = PersistentShockConsumerType()\n",
    "PersistentExample.cycles = 0\n",
    "PersistentExample.update()\n",
    "t_start = process_time()\n",
    "PersistentExample.solve()\n",
    "t_end = process_time()\n",
    "print(\n",
    "    \"Solving a persistent income shocks consumer took \"\n",
    "    + mystr(t_end - t_start)\n",
    "    + \" seconds.\"\n",
    ")"
   ]
  },
  {
   "cell_type": "code",
   "execution_count": null,
   "metadata": {},
   "outputs": [],
   "source": [
    "# Plot the consumption function at various levels of persistent income pLvl\n",
    "print(\n",
    "    \"Consumption function by persistent income level pLvl for a consumer with AR1 coefficient of \"\n",
    "    + str(PersistentExample.PrstIncCorr)\n",
    "    + \":\"\n",
    ")\n",
    "pLvlGrid = PersistentExample.pLvlGrid[0]\n",
    "mLvlGrid = np.linspace(0, 20, 300)\n",
    "for p in pLvlGrid:\n",
    "    M_temp = mLvlGrid + PersistentExample.solution[0].mLvlMin(p)\n",
    "    C = PersistentExample.solution[0].cFunc(M_temp, p * np.ones_like(M_temp))\n",
    "    plt.plot(M_temp, C)\n",
    "plt.xlim(0.0, 20.0)\n",
    "plt.ylim(0.0, None)\n",
    "plt.xlabel(\"Market resource level mLvl\")\n",
    "plt.ylabel(\"Consumption level cLvl\")\n",
    "plt.show()"
   ]
  },
  {
   "cell_type": "code",
   "execution_count": null,
   "metadata": {},
   "outputs": [],
   "source": [
    "# Plot the value function at various persistent income levels\n",
    "if PersistentExample.vFuncBool:\n",
    "    pGrid = PersistentExample.pLvlGrid[0]\n",
    "    M = np.linspace(0.001, 5, 300)\n",
    "    for p in pGrid:\n",
    "        M_temp = M + PersistentExample.solution[0].mLvlMin(p)\n",
    "        C = PersistentExample.solution[0].vFunc(M_temp, p * np.ones_like(M_temp))\n",
    "        plt.plot(M_temp, C)\n",
    "    plt.ylim([-200, 0])\n",
    "    plt.xlabel(\"Market resource level mLvl\")\n",
    "    plt.ylabel(\"Value v\")\n",
    "    plt.show()"
   ]
  },
  {
   "cell_type": "code",
   "execution_count": null,
   "metadata": {},
   "outputs": [],
   "source": [
    "# Simulate some data\n",
    "if do_simulation:\n",
    "    PersistentExample.T_sim = 500\n",
    "    PersistentExample.track_vars = [\"mLvl\", \"cLvl\", \"pLvl\"]\n",
    "    PersistentExample.initialize_sim()\n",
    "    PersistentExample.simulate()\n",
    "    plt.plot(np.mean(PersistentExample.history[\"mLvl\"], axis=1))\n",
    "    plt.xlabel(\"Simulated time period\")\n",
    "    plt.ylabel(\"Average market resources mLvl\")\n",
    "    plt.show()"
   ]
  },
  {
   "cell_type": "code",
   "execution_count": null,
   "metadata": {},
   "outputs": [],
   "source": []
  }
 ],
 "metadata": {
  "jupytext": {
   "cell_metadata_filter": "-all",
   "formats": "ipynb,py:percent"
  },
  "kernelspec": {
   "display_name": "Python 3 (ipykernel)",
   "language": "python",
   "name": "python3"
  },
  "language_info": {
   "codemirror_mode": {
    "name": "ipython",
    "version": 3
   },
   "file_extension": ".py",
   "mimetype": "text/x-python",
   "name": "python",
   "nbconvert_exporter": "python",
   "pygments_lexer": "ipython3",
   "version": "3.10.14"
  }
 },
 "nbformat": 4,
 "nbformat_minor": 4
}
