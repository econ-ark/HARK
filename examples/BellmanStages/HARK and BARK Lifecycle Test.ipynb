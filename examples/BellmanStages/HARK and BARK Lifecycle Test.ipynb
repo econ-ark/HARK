{
 "cells": [
  {
   "cell_type": "code",
   "execution_count": 1,
   "id": "00761cd4",
   "metadata": {},
   "outputs": [],
   "source": [
    "#from HARK.utilities import CRRAutility, CRRAutilityP\n",
    "import matplotlib.pyplot as plt\n",
    "import numpy as np\n",
    "\n",
    "#CRRAutilityP_hack = lambda c, gam: float('inf') if c == 0.0 else CRRAutilityP(c, gam)"
   ]
  },
  {
   "cell_type": "code",
   "execution_count": 2,
   "id": "fa5849e2",
   "metadata": {},
   "outputs": [],
   "source": [
    "## Doing this because of the CRRAutility warnings\n",
    "\n",
    "import warnings\n",
    "warnings.filterwarnings('ignore')"
   ]
  },
  {
   "cell_type": "markdown",
   "id": "b8595177",
   "metadata": {},
   "source": [
    "## Consumption with Independent Shocks\n",
    "\n",
    "_Notebook by Sebastian Benthall_\n",
    "\n",
    "In this notebook, we will use both HARK and BARK to build and solve a household consumption model with independent shocks, and compare the results."
   ]
  },
  {
   "cell_type": "markdown",
   "id": "d52db535",
   "metadata": {},
   "source": [
    "### With HARK"
   ]
  },
  {
   "cell_type": "code",
   "execution_count": 3,
   "id": "1e2cf845",
   "metadata": {},
   "outputs": [],
   "source": [
    "from HARK.ConsumptionSaving.ConsIndShockModel import IndShockConsumerType\n",
    "from HARK.ConsumptionSaving.ConsIndShockModel import init_lifecycle\n",
    "from copy import copy"
   ]
  },
  {
   "cell_type": "code",
   "execution_count": 4,
   "id": "40e3d11d",
   "metadata": {},
   "outputs": [
    {
     "data": {
      "text/plain": [
       "{'cycles': 1,\n",
       " 'CRRA': 2.0,\n",
       " 'Rfree': 1.03,\n",
       " 'DiscFac': 0.96,\n",
       " 'LivPrb': [0.998566,\n",
       "  0.998583,\n",
       "  0.998599,\n",
       "  0.998609,\n",
       "  0.998611,\n",
       "  0.99861,\n",
       "  0.998601,\n",
       "  0.998569,\n",
       "  0.998508,\n",
       "  0.998419,\n",
       "  0.998312,\n",
       "  0.998192,\n",
       "  0.998056,\n",
       "  0.997906,\n",
       "  0.99774,\n",
       "  0.997556,\n",
       "  0.997348,\n",
       "  0.997115,\n",
       "  0.996852,\n",
       "  0.996562,\n",
       "  0.996249,\n",
       "  0.995916,\n",
       "  0.995561,\n",
       "  0.995186,\n",
       "  0.99479,\n",
       "  0.994349,\n",
       "  0.993881,\n",
       "  0.993428,\n",
       "  0.993005,\n",
       "  0.992583,\n",
       "  0.992124,\n",
       "  0.991583,\n",
       "  0.990942,\n",
       "  0.990175,\n",
       "  0.98929,\n",
       "  0.988296,\n",
       "  0.987216,\n",
       "  0.986059,\n",
       "  0.984831,\n",
       "  0.983509,\n",
       "  0.982022,\n",
       "  0.980368,\n",
       "  0.978602,\n",
       "  0.976732,\n",
       "  0.974708,\n",
       "  0.97243,\n",
       "  0.969863,\n",
       "  0.967036,\n",
       "  0.963933,\n",
       "  0.960506,\n",
       "  0.956589,\n",
       "  0.952211,\n",
       "  0.947534,\n",
       "  0.942585,\n",
       "  0.937209,\n",
       "  0.931163,\n",
       "  0.924276,\n",
       "  0.916534,\n",
       "  0.907855,\n",
       "  0.898197,\n",
       "  0.887532,\n",
       "  0.8758360000000001,\n",
       "  0.863084,\n",
       "  0.849246,\n",
       "  0.834296],\n",
       " 'PermGroFac': [1.0419577244168425,\n",
       "  1.042054094671763,\n",
       "  1.0419741368106594,\n",
       "  1.0417252594892363,\n",
       "  1.0413149489133513,\n",
       "  1.0407507570649859,\n",
       "  1.0400402904123676,\n",
       "  1.0391911991207914,\n",
       "  1.0382111667783425,\n",
       "  1.037107900648818,\n",
       "  1.0358891224620352,\n",
       "  1.0345625597498693,\n",
       "  1.033135937734555,\n",
       "  1.0316169717741344,\n",
       "  1.0300133603683237,\n",
       "  1.028332778726538,\n",
       "  1.026582872898662,\n",
       "  1.024771254467621,\n",
       "  1.0229054958019392,\n",
       "  1.02099312586525,\n",
       "  1.0190416265789666,\n",
       "  1.017058429733484,\n",
       "  1.0150509144425075,\n",
       "  1.0130264051347224,\n",
       "  1.010992170076407,\n",
       "  1.008955420418281,\n",
       "  1.0069233097596955,\n",
       "  1.004902934223072,\n",
       "  1.0029013330314762,\n",
       "  1.0009254895822242,\n",
       "  0.9989823330098385,\n",
       "  0.9970787402313398,\n",
       "  0.9952215384681294,\n",
       "  0.9934175082380994,\n",
       "  0.9916733868131228,\n",
       "  0.9899958721369814,\n",
       "  0.988391627199911,\n",
       "  0.9868672848666444,\n",
       "  0.9854294531556278,\n",
       "  0.9840847209682329,\n",
       "  0.5719733840877929,\n",
       "  0.9892378656535716,\n",
       "  0.9892378656535721,\n",
       "  0.9892378656535716,\n",
       "  0.9892378656535716,\n",
       "  0.9892378656535716,\n",
       "  0.9892378656535716,\n",
       "  0.9892378656535721,\n",
       "  0.9892378656535716,\n",
       "  0.9892378656535721,\n",
       "  0.9892378656535716,\n",
       "  0.9892378656535716,\n",
       "  0.9892378656535721,\n",
       "  0.9892378656535712,\n",
       "  0.9892378656535721,\n",
       "  0.9892378656535721,\n",
       "  0.9892378656535716,\n",
       "  0.9892378656535712,\n",
       "  0.9892378656535721,\n",
       "  0.9892378656535716,\n",
       "  0.9892378656535721,\n",
       "  0.9892378656535716,\n",
       "  0.9892378656535716,\n",
       "  0.9892378656535716,\n",
       "  0.9892378656535721],\n",
       " 'BoroCnstArt': 0.0,\n",
       " 'MaxKinks': 400,\n",
       " 'AgentCount': 10000,\n",
       " 'aNrmInitMean': -0.928110551297082,\n",
       " 'aNrmInitStd': 1.6577133299830675,\n",
       " 'pLvlInitMean': 3.0632665110178623,\n",
       " 'pLvlInitStd': 0.758541123818503,\n",
       " 'PermGroFacAgg': 1.016128685406095,\n",
       " 'T_age': 65,\n",
       " 'T_cycle': 65,\n",
       " 'PerfMITShk': False,\n",
       " 'aXtraMin': 0.001,\n",
       " 'aXtraMax': 20,\n",
       " 'aXtraNestFac': 3,\n",
       " 'aXtraCount': 48,\n",
       " 'aXtraExtra': [None],\n",
       " 'PermShkStd': [0.25109284348539185,\n",
       "  0.25109284348539185,\n",
       "  0.2401556615138516,\n",
       "  0.22965736371530632,\n",
       "  0.21962767025150176,\n",
       "  0.21009896926797517,\n",
       "  0.2011061992747872,\n",
       "  0.19268653734486266,\n",
       "  0.1848788262215828,\n",
       "  0.17772267203735634,\n",
       "  0.171257156414067,\n",
       "  0.165519139140674,\n",
       "  0.16054118533450223,\n",
       "  0.15634923267876916,\n",
       "  0.15296020779851535,\n",
       "  0.1503798811549553,\n",
       "  0.1486012841616002,\n",
       "  0.14760397284848392,\n",
       "  0.14735430340072395,\n",
       "  0.14780671189307618,\n",
       "  0.14890581414586596,\n",
       "  0.15058901548290188,\n",
       "  0.15278927648771293,\n",
       "  0.15543771871404613,\n",
       "  0.15846584612549877,\n",
       "  0.16180726687440553,\n",
       "  0.16539889573484967,\n",
       "  0.16918168433697098,\n",
       "  0.173100962053138,\n",
       "  0.173100962053138,\n",
       "  0.173100962053138,\n",
       "  0.173100962053138,\n",
       "  0.173100962053138,\n",
       "  0.173100962053138,\n",
       "  0.173100962053138,\n",
       "  0.173100962053138,\n",
       "  0.173100962053138,\n",
       "  0.173100962053138,\n",
       "  0.173100962053138,\n",
       "  0.173100962053138,\n",
       "  0.0,\n",
       "  0.0,\n",
       "  0.0,\n",
       "  0.0,\n",
       "  0.0,\n",
       "  0.0,\n",
       "  0.0,\n",
       "  0.0,\n",
       "  0.0,\n",
       "  0.0,\n",
       "  0.0,\n",
       "  0.0,\n",
       "  0.0,\n",
       "  0.0,\n",
       "  0.0,\n",
       "  0.0,\n",
       "  0.0,\n",
       "  0.0,\n",
       "  0.0,\n",
       "  0.0,\n",
       "  0.0,\n",
       "  0.0,\n",
       "  0.0,\n",
       "  0.0,\n",
       "  0.0],\n",
       " 'PermShkCount': 7,\n",
       " 'TranShkStd': [0.35281013567100616,\n",
       "  0.35281013567100616,\n",
       "  0.35531333613610194,\n",
       "  0.35704979853211827,\n",
       "  0.3580626470026157,\n",
       "  0.35838995582409144,\n",
       "  0.35806557271315087,\n",
       "  0.35711977391104266,\n",
       "  0.3555797914147736,\n",
       "  0.35347024168187435,\n",
       "  0.35081347744040203,\n",
       "  0.3476298787783863,\n",
       "  0.3439380957540672,\n",
       "  0.3397552518910478,\n",
       "  0.3350971157868557,\n",
       "  0.32997824645518786,\n",
       "  0.3244121167925305,\n",
       "  0.31841121860343674,\n",
       "  0.3119871518590683,\n",
       "  0.3051507002433068,\n",
       "  0.2979118945148287,\n",
       "  0.2902800647440017,\n",
       "  0.282263882034932,\n",
       "  0.27387138987799703,\n",
       "  0.2651100247519063,\n",
       "  0.25598662494655605,\n",
       "  0.24650742572135625,\n",
       "  0.23667803771374116,\n",
       "  0.22650340375289543,\n",
       "  0.22650340375289543,\n",
       "  0.22650340375289543,\n",
       "  0.22650340375289543,\n",
       "  0.22650340375289543,\n",
       "  0.22650340375289543,\n",
       "  0.22650340375289543,\n",
       "  0.22650340375289543,\n",
       "  0.22650340375289543,\n",
       "  0.22650340375289543,\n",
       "  0.22650340375289543,\n",
       "  0.22650340375289543,\n",
       "  0.0,\n",
       "  0.0,\n",
       "  0.0,\n",
       "  0.0,\n",
       "  0.0,\n",
       "  0.0,\n",
       "  0.0,\n",
       "  0.0,\n",
       "  0.0,\n",
       "  0.0,\n",
       "  0.0,\n",
       "  0.0,\n",
       "  0.0,\n",
       "  0.0,\n",
       "  0.0,\n",
       "  0.0,\n",
       "  0.0,\n",
       "  0.0,\n",
       "  0.0,\n",
       "  0.0,\n",
       "  0.0,\n",
       "  0.0,\n",
       "  0.0,\n",
       "  0.0,\n",
       "  0.0],\n",
       " 'TranShkCount': 7,\n",
       " 'UnempPrb': 0.05,\n",
       " 'UnempPrbRet': 0.005,\n",
       " 'IncUnemp': 0.3,\n",
       " 'IncUnempRet': 0.0,\n",
       " 'tax_rate': 0.0,\n",
       " 'T_retire': 0,\n",
       " 'vFuncBool': False,\n",
       " 'CubicBool': False,\n",
       " 'neutral_measure': False,\n",
       " 'NewbornTransShk': False,\n",
       " 'P0': 21.397337769996003}"
      ]
     },
     "execution_count": 4,
     "metadata": {},
     "output_type": "execute_result"
    }
   ],
   "source": [
    "init_lifecycle"
   ]
  },
  {
   "cell_type": "code",
   "execution_count": 7,
   "id": "35c934fe",
   "metadata": {},
   "outputs": [
    {
     "ename": "TypeError",
     "evalue": "unsupported operand type(s) for -: 'int' and 'dict'",
     "output_type": "error",
     "traceback": [
      "\u001b[0;31m---------------------------------------------------------------------------\u001b[0m",
      "\u001b[0;31mTypeError\u001b[0m                                 Traceback (most recent call last)",
      "Input \u001b[0;32mIn [7]\u001b[0m, in \u001b[0;36m<cell line: 3>\u001b[0;34m()\u001b[0m\n\u001b[1;32m      1\u001b[0m \u001b[38;5;66;03m# Solve the agent over a standard life-cycle\u001b[39;00m\n\u001b[0;32m----> 3\u001b[0m LifeCycleType \u001b[38;5;241m=\u001b[39m \u001b[43mIndShockConsumerType\u001b[49m\u001b[43m(\u001b[49m\u001b[43minit_lifecycle\u001b[49m\u001b[43m)\u001b[49m\n\u001b[1;32m      5\u001b[0m LifeCycleType\u001b[38;5;241m.\u001b[39mcycles \u001b[38;5;241m=\u001b[39m \u001b[38;5;241m1\u001b[39m  \u001b[38;5;66;03m## life cycle problem instead of infinite horizon\u001b[39;00m\n\u001b[1;32m      6\u001b[0m LifeCycleType\u001b[38;5;241m.\u001b[39mvFuncBool \u001b[38;5;241m=\u001b[39m \u001b[38;5;28;01mFalse\u001b[39;00m\n",
      "File \u001b[0;32m~/projects/HARK/HARK/ConsumptionSaving/ConsIndShockModel.py:2136\u001b[0m, in \u001b[0;36mIndShockConsumerType.__init__\u001b[0;34m(self, verbose, quiet, **kwds)\u001b[0m\n\u001b[1;32m   2133\u001b[0m params\u001b[38;5;241m.\u001b[39mupdate(kwds)\n\u001b[1;32m   2135\u001b[0m \u001b[38;5;66;03m# Initialize a basic AgentType\u001b[39;00m\n\u001b[0;32m-> 2136\u001b[0m \u001b[43mPerfForesightConsumerType\u001b[49m\u001b[38;5;241;43m.\u001b[39;49m\u001b[38;5;21;43m__init__\u001b[39;49m\u001b[43m(\u001b[49m\u001b[38;5;28;43mself\u001b[39;49m\u001b[43m,\u001b[49m\u001b[43m \u001b[49m\u001b[43mverbose\u001b[49m\u001b[38;5;241;43m=\u001b[39;49m\u001b[43mverbose\u001b[49m\u001b[43m,\u001b[49m\u001b[43m \u001b[49m\u001b[43mquiet\u001b[49m\u001b[38;5;241;43m=\u001b[39;49m\u001b[43mquiet\u001b[49m\u001b[43m,\u001b[49m\u001b[43m \u001b[49m\u001b[38;5;241;43m*\u001b[39;49m\u001b[38;5;241;43m*\u001b[39;49m\u001b[43mparams\u001b[49m\u001b[43m)\u001b[49m\n\u001b[1;32m   2138\u001b[0m \u001b[38;5;66;03m# Add consumer-type specific objects, copying to create independent versions\u001b[39;00m\n\u001b[1;32m   2139\u001b[0m \u001b[38;5;28;01mif\u001b[39;00m (\u001b[38;5;129;01mnot\u001b[39;00m \u001b[38;5;28mself\u001b[39m\u001b[38;5;241m.\u001b[39mCubicBool) \u001b[38;5;129;01mand\u001b[39;00m (\u001b[38;5;129;01mnot\u001b[39;00m \u001b[38;5;28mself\u001b[39m\u001b[38;5;241m.\u001b[39mvFuncBool):\n",
      "File \u001b[0;32m~/projects/HARK/HARK/ConsumptionSaving/ConsIndShockModel.py:1611\u001b[0m, in \u001b[0;36mPerfForesightConsumerType.__init__\u001b[0;34m(self, verbose, quiet, **kwds)\u001b[0m\n\u001b[1;32m   1609\u001b[0m \u001b[38;5;28mself\u001b[39m\u001b[38;5;241m.\u001b[39mquiet \u001b[38;5;241m=\u001b[39m quiet\n\u001b[1;32m   1610\u001b[0m \u001b[38;5;28mself\u001b[39m\u001b[38;5;241m.\u001b[39msolve_one_period \u001b[38;5;241m=\u001b[39m make_one_period_oo_solver(ConsPerfForesightSolver)\n\u001b[0;32m-> 1611\u001b[0m set_verbosity_level((\u001b[38;5;241;43m4\u001b[39;49m\u001b[43m \u001b[49m\u001b[38;5;241;43m-\u001b[39;49m\u001b[43m \u001b[49m\u001b[43mverbose\u001b[49m) \u001b[38;5;241m*\u001b[39m \u001b[38;5;241m10\u001b[39m)\n\u001b[1;32m   1613\u001b[0m \u001b[38;5;28mself\u001b[39m\u001b[38;5;241m.\u001b[39mupdate_Rfree()\n",
      "\u001b[0;31mTypeError\u001b[0m: unsupported operand type(s) for -: 'int' and 'dict'"
     ]
    }
   ],
   "source": [
    "# Solve the agent over a standard life-cycle\n",
    "\n",
    "LifeCycleType = IndShockConsumerType(init_lifecycle)\n",
    "\n",
    "LifeCycleType.cycles = 1  ## life cycle problem instead of infinite horizon\n",
    "LifeCycleType.vFuncBool = False  ## no need to calculate the value for the purpose here\n"
   ]
  },
  {
   "cell_type": "code",
   "execution_count": null,
   "id": "0ce491f6",
   "metadata": {},
   "outputs": [],
   "source": [
    "## solving the model\n",
    "t0 = time()\n",
    "LifeCycleType.solve()\n",
    "LifeCycleType.cFunc = [\n",
    "    LifeCycleType.solution[t].cFuncAdj for t in range(LifeCycleType.T_cycle)\n",
    "]\n",
    "LifeCycleType.ShareFunc = [\n",
    "    LifeCycleType.solution[t].ShareFuncAdj for t in range(LifeCycleType.T_cycle)\n",
    "]\n",
    "t1 = time()\n",
    "print(\n",
    "    \"Solving a \"\n",
    "    + str(LifeCycleType.T_cycle)\n",
    "    + \" period portfolio choice problem takes \"\n",
    "    + str(t1 - t0)\n",
    "    + \" seconds.\"\n",
    ")"
   ]
  },
  {
   "cell_type": "code",
   "execution_count": null,
   "id": "55faad2b",
   "metadata": {},
   "outputs": [],
   "source": [
    "## compare the consumption function for the T-1 period\n",
    "which_period = 1\n",
    "mGrid = mGridPort_life[which_period]\n",
    "plt.plot(mGrid, LifeCycleType.cFunc[which_period - 1](mGrid), \"r--\", label=\"HARK\")\n",
    "plt.plot(mGrid, cFuncPort_life[which_period](mGrid), \"k-\", label=\"MicroDSOP\")\n",
    "plt.legend(loc=0)\n",
    "plt.title(\"consumption function solved by MicroDSOP and HARK\")\n",
    "plt.xlabel(\"m\")\n",
    "plt.ylabel(r\"$c_{T-1}(m)$\")"
   ]
  },
  {
   "cell_type": "markdown",
   "id": "d8c8eac2",
   "metadata": {},
   "source": [
    "### With BARK"
   ]
  },
  {
   "cell_type": "markdown",
   "id": "19aac182",
   "metadata": {},
   "source": [
    "We have predefined some stage definitions in this module:"
   ]
  },
  {
   "cell_type": "code",
   "execution_count": null,
   "id": "44833a98",
   "metadata": {},
   "outputs": [],
   "source": [
    "import cons_stages\n",
    "\n",
    "CRRA = cons_stages.CRRA\n",
    "epsilon = cons_stages.epsilon"
   ]
  },
  {
   "cell_type": "code",
   "execution_count": null,
   "id": "c238bb8b",
   "metadata": {},
   "outputs": [],
   "source": [
    "def display_stage(stage):\n",
    "    print(f\"x: {stage.inputs}, k: {stage.shocks}, a: {stage.actions}, y: {stage.outputs}\")"
   ]
  },
  {
   "cell_type": "markdown",
   "id": "ef312460",
   "metadata": {},
   "source": [
    "The labor stage has no actions. In this stage, the agent experiences exogenous shocks and grows their resources."
   ]
  },
  {
   "cell_type": "code",
   "execution_count": null,
   "id": "ee625311",
   "metadata": {},
   "outputs": [],
   "source": [
    "l_stage = cons_stages.labor_stage\n",
    "\n",
    "display_stage(l_stage)"
   ]
  },
  {
   "cell_type": "code",
   "execution_count": null,
   "id": "2ef4ace0",
   "metadata": {},
   "outputs": [],
   "source": [
    "def l_v_y_der_terminal(y):\n",
    "    return CRRAutilityP_hack(y['m'], CRRA)\n",
    "\n",
    "l_sol = l_stage.solve(\n",
    "    x_grid = {'b' : np.linspace(epsilon, 10,50)},\n",
    "    v_y_der = l_v_y_der_terminal, ## Is this working, using the derivative value function here?\n",
    "    ## Why?\n",
    "    ### Is there a default set somewhere?\n",
    "    shock_approx_params = {\n",
    "            'psi' : 5, \n",
    "            'theta' : 5, \n",
    "        },\n",
    "    policy_finder_method = 'opt'\n",
    ")\n"
   ]
  },
  {
   "cell_type": "markdown",
   "id": "3eeaca0f",
   "metadata": {},
   "source": [
    "$$v'_x(x) = \\mathbb{E}_k\\left[\\frac{\\partial q}{\\partial x}(x, k, \\pi^*(x, k)) \\right] = \\mathbb{E}_k\\left[\\beta v'_y(T(x, k, \\pi^*(x, k)))\\frac{\\partial T}{\\partial x} (x, k, \\pi^*(x, k) \\right]$$\n",
    "\n",
    "$$v'_x(b) = \\mathbb{E}_{\\psi, \\theta} \\left[(G\\psi)^{\\rho - 1} v'_y \\left( \\frac{b + \\theta}{G \\psi} \\right) \\frac{1}{G\\psi} \\right]$$"
   ]
  },
  {
   "cell_type": "code",
   "execution_count": null,
   "id": "740e655d",
   "metadata": {},
   "outputs": [],
   "source": [
    "l_sol.dataset"
   ]
  },
  {
   "cell_type": "code",
   "execution_count": null,
   "id": "6f8a5f1e",
   "metadata": {},
   "outputs": [],
   "source": [
    "l_sol.dataset['v_x_der']"
   ]
  },
  {
   "cell_type": "code",
   "execution_count": null,
   "id": "20a828ab",
   "metadata": {},
   "outputs": [],
   "source": [
    "x = np.linspace(0.5, 5,100)\n",
    "\n",
    "plt.plot(x, [CRRAutilityP_hack(xi, CRRA) for xi in x], label = \"l_v_der_terminal\")\n",
    "plt.plot(l_sol.dataset['b'][5:], l_sol.dataset['v_x_der'][5:], label = 'l_sol')\n",
    "plt.legend()"
   ]
  },
  {
   "cell_type": "markdown",
   "id": "e0e76bca",
   "metadata": {},
   "source": [
    "We can repeat these stages again and again to simulate the household earning and consuming over time.\n",
    "\n",
    "But there's one small problem: the output of the consumption stage is $m$ while the input of the labor stage is $b$.\n",
    "\n",
    "We need to transform $m$ to $b$."
   ]
  },
  {
   "cell_type": "code",
   "execution_count": null,
   "id": "03f735f1",
   "metadata": {},
   "outputs": [],
   "source": [
    "from HARK.stage import Stage, backwards_induction\n",
    "\n",
    "### TWIST STAGE\n",
    "\n",
    "def twist(mapper):\n",
    "    return Stage(\n",
    "        transition = lambda x, k, a : {mapper[xi] : x[xi] for xi in mapper}, \n",
    "        transition_der_x = 1,\n",
    "        inputs = list(mapper.keys()), \n",
    "        actions = [],\n",
    "        outputs = list(mapper.values())\n",
    "    )\n",
    "    \n",
    "      \n",
    "twist_stage = twist({'a' : 'b'})\n",
    "\n"
   ]
  },
  {
   "cell_type": "code",
   "execution_count": null,
   "id": "2451a480",
   "metadata": {},
   "outputs": [],
   "source": [
    "t_sol = twist_stage.solve(\n",
    "    x_grid = {'a' : np.linspace(epsilon, 10,50)},\n",
    "    next_sol = l_sol,\n",
    "    shock_approx_params = {},\n",
    "    policy_finder_method = 'opt'\n",
    ")\n"
   ]
  },
  {
   "cell_type": "code",
   "execution_count": null,
   "id": "308a5ec7",
   "metadata": {},
   "outputs": [],
   "source": [
    "t_sol.dataset"
   ]
  },
  {
   "cell_type": "markdown",
   "id": "317fb8da",
   "metadata": {},
   "source": [
    "Note this is identical to the marginal value function for the labor stage, but relabeled."
   ]
  },
  {
   "cell_type": "markdown",
   "id": "0c24fcee",
   "metadata": {},
   "source": [
    "The consumption stage models the transition $a = m - c$ where $c$ is the choice of consumption. It has no shocks."
   ]
  },
  {
   "cell_type": "code",
   "execution_count": null,
   "id": "8ae4e25a",
   "metadata": {},
   "outputs": [],
   "source": [
    "c_stage = cons_stages.consumption_stage\n",
    "\n",
    "c_sol = c_stage.solve(\n",
    "    y_grid = {'a' : np.linspace(epsilon, 10,50)},\n",
    "    v_y_der = t_sol.v_x_der,\n",
    "    policy_finder_method = 'egm'\n",
    ")\n",
    "\n",
    "c_sol.dataset"
   ]
  },
  {
   "cell_type": "markdown",
   "id": "8bf298d3",
   "metadata": {},
   "source": [
    "**Revise the order**:\n",
    "\n",
    "- Start with taking expectations over (labor) shocks\n",
    "- Consumption stage\n",
    "- twist, tick as necessary.\n",
    "\n",
    "\n",
    "**Scoping parameters**\n",
    "\n",
    "You can share parameters within a tick,\n",
    "but not across ticks.\n",
    "\n",
    "Parameters may be shared between stages."
   ]
  },
  {
   "cell_type": "code",
   "execution_count": null,
   "id": "b415c4bb",
   "metadata": {},
   "outputs": [],
   "source": [
    "x_space =  np.linspace(epsilon,4,500)\n",
    "\n",
    "stages_data = [\n",
    "    {\n",
    "        'stage' : c_stage,\n",
    "        'y_grid' : {'a' : x_space},\n",
    "        'optimizer_args' :{\n",
    "            'a0f' : lambda x: x['m'] - epsilon\n",
    "        },\n",
    "        'method' : 'egm'\n",
    "    },\n",
    "    {\n",
    "        'stage' : twist({'a' : 'b'}),\n",
    "        'x_grid' : {'a' : x_space},\n",
    "    },\n",
    "    {\n",
    "        'stage' : l_stage,\n",
    "        'x_grid' : {\n",
    "            'b' : x_space,\n",
    "        },\n",
    "        'shock_approx_params' : {\n",
    "            'psi' : 5, \n",
    "            'theta' : 5, \n",
    "        },\n",
    "    },\n",
    "    #tick\n",
    "]"
   ]
  },
  {
   "cell_type": "code",
   "execution_count": null,
   "id": "4c52d2a9",
   "metadata": {},
   "outputs": [],
   "source": [
    "sols = backwards_induction(stages_data * 3, x_space, terminal_v_y_der = l_v_y_der_terminal)"
   ]
  },
  {
   "cell_type": "code",
   "execution_count": null,
   "id": "915fbb02",
   "metadata": {},
   "outputs": [],
   "source": [
    "sols[-1].dataset['v_x_der']"
   ]
  },
  {
   "cell_type": "code",
   "execution_count": null,
   "id": "f08b8038",
   "metadata": {},
   "outputs": [],
   "source": [
    "l_sol = l_stage.solve(\n",
    "    x_grid = {'b' : x_space},\n",
    "    y_grid = {'m' : x_space},\n",
    "    v_y_der = l_v_y_der_terminal, ## Is this working, using the derivative value function here?\n",
    "    ## Why?\n",
    "    ### Is there a default set somewhere?\n",
    "    shock_approx_params = {\n",
    "            'psi' : 5, \n",
    "            'theta' : 5, \n",
    "        },\n",
    "    policy_finder_method = 'opt'\n",
    ")"
   ]
  },
  {
   "cell_type": "markdown",
   "id": "f2b23348",
   "metadata": {},
   "source": [
    "Note: There is a small difference between the computed $v^{l'}_x$ with backwards induction and the same function computed by passing in the terminal $v^{l'}_y$ directly. This is because in the former case the terminal marginal value function is first passed to an interpolator. The disparity is small, but worse for lower values. "
   ]
  },
  {
   "cell_type": "code",
   "execution_count": null,
   "id": "5a971e9e",
   "metadata": {},
   "outputs": [],
   "source": [
    "plt.plot(sols[-1].dataset['v_x_der'][13:], label=\"bi\")\n",
    "plt.plot(l_sol.dataset['v_x_der'][13:], label='l_sol')\n",
    "plt.legend()"
   ]
  },
  {
   "cell_type": "code",
   "execution_count": null,
   "id": "cd6bb35d",
   "metadata": {},
   "outputs": [],
   "source": [
    "c_sol = c_stage.solve(\n",
    "    y_grid = {'a' : np.linspace(epsilon, 4,500)},\n",
    "    next_sol = sols[-2],\n",
    "    policy_finder_method = 'egm'\n",
    ")"
   ]
  },
  {
   "cell_type": "code",
   "execution_count": null,
   "id": "8eff2046",
   "metadata": {},
   "outputs": [],
   "source": [
    "plt.plot(c_sol.dataset['v_x_der'][13:])\n",
    "plt.plot(sols[-3].dataset['v_x_der'][13:])\n",
    "\n"
   ]
  },
  {
   "cell_type": "code",
   "execution_count": null,
   "id": "0f4eb598",
   "metadata": {},
   "outputs": [],
   "source": [
    "plt.plot(sols[-3].dataset['pi*'][3:])\n",
    "plt.plot(c_sol.dataset['pi*'][3:])"
   ]
  },
  {
   "cell_type": "code",
   "execution_count": null,
   "id": "7046cbb1",
   "metadata": {},
   "outputs": [],
   "source": [
    "import matplotlib.pyplot as plt\n",
    "\n",
    "for i, s in enumerate([sols[i] for i in (range(0,9, 3))]):\n",
    "    plt.plot(x_space[:50], [s.pi_star({'m' : m,}, {})['c'] for m in x_space[:50]], label = f\"pi*_{i}\")\n",
    "    \n",
    "plt.legend()"
   ]
  },
  {
   "cell_type": "code",
   "execution_count": null,
   "id": "0f298a1c",
   "metadata": {},
   "outputs": [],
   "source": [
    "sols[-1].dataset['v_x_der'][13:]"
   ]
  },
  {
   "cell_type": "code",
   "execution_count": null,
   "id": "b265d2f2",
   "metadata": {},
   "outputs": [],
   "source": [
    "l_sol.dataset['v_x_der'][:13]"
   ]
  },
  {
   "cell_type": "code",
   "execution_count": null,
   "id": "d6c72d02",
   "metadata": {},
   "outputs": [],
   "source": [
    "plt.plot(x_space, [np.log(CRRAutilityP_hack(xi, CRRA)) for xi in x_space])\n",
    "plt.plot(x_space, np.log(sols[-1].dataset['v_x_der']), label=\"bi\")\n",
    "plt.legend()"
   ]
  },
  {
   "cell_type": "code",
   "execution_count": null,
   "id": "ec71d13d",
   "metadata": {},
   "outputs": [],
   "source": [
    "sols[-1].dataset['v_x_der']"
   ]
  },
  {
   "cell_type": "code",
   "execution_count": null,
   "id": "baeef5b4",
   "metadata": {},
   "outputs": [],
   "source": []
  },
  {
   "cell_type": "code",
   "execution_count": null,
   "id": "9d0632ca",
   "metadata": {},
   "outputs": [],
   "source": []
  }
 ],
 "metadata": {
  "kernelspec": {
   "display_name": "hark-env",
   "language": "python",
   "name": "hark-env"
  },
  "language_info": {
   "codemirror_mode": {
    "name": "ipython",
    "version": 3
   },
   "file_extension": ".py",
   "mimetype": "text/x-python",
   "name": "python",
   "nbconvert_exporter": "python",
   "pygments_lexer": "ipython3",
   "version": "3.10.6"
  }
 },
 "nbformat": 4,
 "nbformat_minor": 5
}
