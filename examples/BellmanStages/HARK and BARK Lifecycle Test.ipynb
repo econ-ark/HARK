{
 "cells": [
  {
   "cell_type": "code",
   "execution_count": 1,
   "id": "00761cd4",
   "metadata": {},
   "outputs": [],
   "source": [
    "from HARK.rewards import CRRAutility, CRRAutilityP\n",
    "import matplotlib.pyplot as plt\n",
    "import numpy as np\n",
    "\n",
    "CRRAutilityP_hack = lambda c, gam: float('inf') if c == 0.0 else CRRAutilityP(c, gam)"
   ]
  },
  {
   "cell_type": "code",
   "execution_count": 2,
   "id": "19f07845",
   "metadata": {},
   "outputs": [],
   "source": [
    "from HARK.ConsumptionSaving.ConsIndShockModel import (\n",
    "    IndShockConsumerType, init_lifecycle\n",
    ")\n",
    "import matplotlib.pyplot as plt\n",
    "import numpy as np\n",
    "import seaborn as sns\n"
   ]
  },
  {
   "cell_type": "code",
   "execution_count": 3,
   "id": "44833a98",
   "metadata": {},
   "outputs": [],
   "source": [
    "import cons_stages\n",
    "\n",
    "CRRA = cons_stages.CRRA\n",
    "epsilon = cons_stages.epsilon"
   ]
  },
  {
   "cell_type": "code",
   "execution_count": 4,
   "id": "c238bb8b",
   "metadata": {},
   "outputs": [],
   "source": [
    "def display_stage(stage):\n",
    "    print(f\"x: {stage.inputs}, k: {stage.shocks}, a: {stage.actions}, y: {stage.outputs}\")"
   ]
  },
  {
   "cell_type": "code",
   "execution_count": 5,
   "id": "fa5849e2",
   "metadata": {},
   "outputs": [],
   "source": [
    "## Doing this because of the CRRAutility warnings\n",
    "\n",
    "import warnings\n",
    "warnings.filterwarnings('ignore')"
   ]
  },
  {
   "cell_type": "markdown",
   "id": "b8595177",
   "metadata": {},
   "source": [
    "## Consumption with Independent Shocks\n",
    "\n",
    "_Notebook by Sebastian Benthall_\n",
    "\n",
    "In this notebook, we will use both HARK and BARK to build and solve a household consumption model with independent shocks, and compare the results."
   ]
  },
  {
   "cell_type": "markdown",
   "id": "ccacc150",
   "metadata": {},
   "source": [
    "### Simple Lifecycle Model"
   ]
  },
  {
   "cell_type": "markdown",
   "id": "cf0be2ce",
   "metadata": {},
   "source": [
    "**TODO**: Develop a very simple (unrealistic) lifecycle with easy parameters that can be passed to HARK and BARK for comparison."
   ]
  },
  {
   "cell_type": "code",
   "execution_count": 36,
   "id": "d58f2f75",
   "metadata": {},
   "outputs": [
    {
     "data": {
      "text/plain": [
       "{'cycles': 1,\n",
       " 'CRRA': 2.0,\n",
       " 'Rfree': 1.03,\n",
       " 'DiscFac': 0.96,\n",
       " 'LivPrb': [0.998566,\n",
       "  0.998583,\n",
       "  0.998599,\n",
       "  0.998609,\n",
       "  0.998611,\n",
       "  0.99861,\n",
       "  0.998601,\n",
       "  0.998569,\n",
       "  0.998508,\n",
       "  0.998419,\n",
       "  0.998312,\n",
       "  0.998192,\n",
       "  0.998056,\n",
       "  0.997906,\n",
       "  0.99774,\n",
       "  0.997556,\n",
       "  0.997348,\n",
       "  0.997115,\n",
       "  0.996852,\n",
       "  0.996562,\n",
       "  0.996249,\n",
       "  0.995916,\n",
       "  0.995561,\n",
       "  0.995186,\n",
       "  0.99479,\n",
       "  0.994349,\n",
       "  0.993881,\n",
       "  0.993428,\n",
       "  0.993005,\n",
       "  0.992583,\n",
       "  0.992124,\n",
       "  0.991583,\n",
       "  0.990942,\n",
       "  0.990175,\n",
       "  0.98929,\n",
       "  0.988296,\n",
       "  0.987216,\n",
       "  0.986059,\n",
       "  0.984831,\n",
       "  0.983509,\n",
       "  0.982022,\n",
       "  0.980368,\n",
       "  0.978602,\n",
       "  0.976732,\n",
       "  0.974708,\n",
       "  0.97243,\n",
       "  0.969863,\n",
       "  0.967036,\n",
       "  0.963933,\n",
       "  0.960506,\n",
       "  0.956589,\n",
       "  0.952211,\n",
       "  0.947534,\n",
       "  0.942585,\n",
       "  0.937209,\n",
       "  0.931163,\n",
       "  0.924276,\n",
       "  0.916534,\n",
       "  0.907855,\n",
       "  0.898197,\n",
       "  0.887532,\n",
       "  0.8758360000000001,\n",
       "  0.863084,\n",
       "  0.849246,\n",
       "  0.834296],\n",
       " 'PermGroFac': [1.0419577244168425,\n",
       "  1.042054094671763,\n",
       "  1.0419741368106594,\n",
       "  1.0417252594892363,\n",
       "  1.0413149489133513,\n",
       "  1.0407507570649859,\n",
       "  1.0400402904123676,\n",
       "  1.0391911991207914,\n",
       "  1.0382111667783425,\n",
       "  1.037107900648818,\n",
       "  1.0358891224620352,\n",
       "  1.0345625597498693,\n",
       "  1.033135937734555,\n",
       "  1.0316169717741344,\n",
       "  1.0300133603683237,\n",
       "  1.028332778726538,\n",
       "  1.026582872898662,\n",
       "  1.024771254467621,\n",
       "  1.0229054958019392,\n",
       "  1.02099312586525,\n",
       "  1.0190416265789666,\n",
       "  1.017058429733484,\n",
       "  1.0150509144425075,\n",
       "  1.0130264051347224,\n",
       "  1.010992170076407,\n",
       "  1.008955420418281,\n",
       "  1.0069233097596955,\n",
       "  1.004902934223072,\n",
       "  1.0029013330314762,\n",
       "  1.0009254895822242,\n",
       "  0.9989823330098385,\n",
       "  0.9970787402313398,\n",
       "  0.9952215384681294,\n",
       "  0.9934175082380994,\n",
       "  0.9916733868131228,\n",
       "  0.9899958721369814,\n",
       "  0.988391627199911,\n",
       "  0.9868672848666444,\n",
       "  0.9854294531556278,\n",
       "  0.9840847209682329,\n",
       "  0.5719733840877929,\n",
       "  0.9892378656535716,\n",
       "  0.9892378656535721,\n",
       "  0.9892378656535716,\n",
       "  0.9892378656535716,\n",
       "  0.9892378656535716,\n",
       "  0.9892378656535716,\n",
       "  0.9892378656535721,\n",
       "  0.9892378656535716,\n",
       "  0.9892378656535721,\n",
       "  0.9892378656535716,\n",
       "  0.9892378656535716,\n",
       "  0.9892378656535721,\n",
       "  0.9892378656535712,\n",
       "  0.9892378656535721,\n",
       "  0.9892378656535721,\n",
       "  0.9892378656535716,\n",
       "  0.9892378656535712,\n",
       "  0.9892378656535721,\n",
       "  0.9892378656535716,\n",
       "  0.9892378656535721,\n",
       "  0.9892378656535716,\n",
       "  0.9892378656535716,\n",
       "  0.9892378656535716,\n",
       "  0.9892378656535721],\n",
       " 'BoroCnstArt': 0.0,\n",
       " 'MaxKinks': 400,\n",
       " 'AgentCount': 10000,\n",
       " 'aNrmInitMean': -0.928110551297082,\n",
       " 'aNrmInitStd': 1.6577133299830675,\n",
       " 'pLvlInitMean': 3.0632665110178623,\n",
       " 'pLvlInitStd': 0.758541123818503,\n",
       " 'PermGroFacAgg': 1.016128685406095,\n",
       " 'T_age': 65,\n",
       " 'T_cycle': 65,\n",
       " 'PerfMITShk': False,\n",
       " 'aXtraMin': 0.001,\n",
       " 'aXtraMax': 20,\n",
       " 'aXtraNestFac': 3,\n",
       " 'aXtraCount': 48,\n",
       " 'aXtraExtra': [None],\n",
       " 'PermShkStd': [0.25109284348539185,\n",
       "  0.25109284348539185,\n",
       "  0.2401556615138516,\n",
       "  0.22965736371530632,\n",
       "  0.21962767025150176,\n",
       "  0.21009896926797517,\n",
       "  0.2011061992747872,\n",
       "  0.19268653734486266,\n",
       "  0.1848788262215828,\n",
       "  0.17772267203735634,\n",
       "  0.171257156414067,\n",
       "  0.165519139140674,\n",
       "  0.16054118533450223,\n",
       "  0.15634923267876916,\n",
       "  0.15296020779851535,\n",
       "  0.1503798811549553,\n",
       "  0.1486012841616002,\n",
       "  0.14760397284848392,\n",
       "  0.14735430340072395,\n",
       "  0.14780671189307618,\n",
       "  0.14890581414586596,\n",
       "  0.15058901548290188,\n",
       "  0.15278927648771293,\n",
       "  0.15543771871404613,\n",
       "  0.15846584612549877,\n",
       "  0.16180726687440553,\n",
       "  0.16539889573484967,\n",
       "  0.16918168433697098,\n",
       "  0.173100962053138,\n",
       "  0.173100962053138,\n",
       "  0.173100962053138,\n",
       "  0.173100962053138,\n",
       "  0.173100962053138,\n",
       "  0.173100962053138,\n",
       "  0.173100962053138,\n",
       "  0.173100962053138,\n",
       "  0.173100962053138,\n",
       "  0.173100962053138,\n",
       "  0.173100962053138,\n",
       "  0.173100962053138,\n",
       "  0.0,\n",
       "  0.0,\n",
       "  0.0,\n",
       "  0.0,\n",
       "  0.0,\n",
       "  0.0,\n",
       "  0.0,\n",
       "  0.0,\n",
       "  0.0,\n",
       "  0.0,\n",
       "  0.0,\n",
       "  0.0,\n",
       "  0.0,\n",
       "  0.0,\n",
       "  0.0,\n",
       "  0.0,\n",
       "  0.0,\n",
       "  0.0,\n",
       "  0.0,\n",
       "  0.0,\n",
       "  0.0,\n",
       "  0.0,\n",
       "  0.0,\n",
       "  0.0,\n",
       "  0.0],\n",
       " 'PermShkCount': 7,\n",
       " 'TranShkStd': [0.35281013567100616,\n",
       "  0.35281013567100616,\n",
       "  0.35531333613610194,\n",
       "  0.35704979853211827,\n",
       "  0.3580626470026157,\n",
       "  0.35838995582409144,\n",
       "  0.35806557271315087,\n",
       "  0.35711977391104266,\n",
       "  0.3555797914147736,\n",
       "  0.35347024168187435,\n",
       "  0.35081347744040203,\n",
       "  0.3476298787783863,\n",
       "  0.3439380957540672,\n",
       "  0.3397552518910478,\n",
       "  0.3350971157868557,\n",
       "  0.32997824645518786,\n",
       "  0.3244121167925305,\n",
       "  0.31841121860343674,\n",
       "  0.3119871518590683,\n",
       "  0.3051507002433068,\n",
       "  0.2979118945148287,\n",
       "  0.2902800647440017,\n",
       "  0.282263882034932,\n",
       "  0.27387138987799703,\n",
       "  0.2651100247519063,\n",
       "  0.25598662494655605,\n",
       "  0.24650742572135625,\n",
       "  0.23667803771374116,\n",
       "  0.22650340375289543,\n",
       "  0.22650340375289543,\n",
       "  0.22650340375289543,\n",
       "  0.22650340375289543,\n",
       "  0.22650340375289543,\n",
       "  0.22650340375289543,\n",
       "  0.22650340375289543,\n",
       "  0.22650340375289543,\n",
       "  0.22650340375289543,\n",
       "  0.22650340375289543,\n",
       "  0.22650340375289543,\n",
       "  0.22650340375289543,\n",
       "  0.0,\n",
       "  0.0,\n",
       "  0.0,\n",
       "  0.0,\n",
       "  0.0,\n",
       "  0.0,\n",
       "  0.0,\n",
       "  0.0,\n",
       "  0.0,\n",
       "  0.0,\n",
       "  0.0,\n",
       "  0.0,\n",
       "  0.0,\n",
       "  0.0,\n",
       "  0.0,\n",
       "  0.0,\n",
       "  0.0,\n",
       "  0.0,\n",
       "  0.0,\n",
       "  0.0,\n",
       "  0.0,\n",
       "  0.0,\n",
       "  0.0,\n",
       "  0.0,\n",
       "  0.0],\n",
       " 'TranShkCount': 7,\n",
       " 'UnempPrb': 0.05,\n",
       " 'UnempPrbRet': 0.005,\n",
       " 'IncUnemp': 0.3,\n",
       " 'IncUnempRet': 0.0,\n",
       " 'tax_rate': 0.0,\n",
       " 'T_retire': 0,\n",
       " 'vFuncBool': False,\n",
       " 'CubicBool': False,\n",
       " 'neutral_measure': False,\n",
       " 'NewbornTransShk': False,\n",
       " 'P0': 21.397337769996003}"
      ]
     },
     "execution_count": 36,
     "metadata": {},
     "output_type": "execute_result"
    }
   ],
   "source": [
    "init_lifecycle"
   ]
  },
  {
   "cell_type": "code",
   "execution_count": 35,
   "id": "8d5b205f",
   "metadata": {},
   "outputs": [],
   "source": [
    "init_simple_lifecycle = {}"
   ]
  },
  {
   "cell_type": "markdown",
   "id": "d52db535",
   "metadata": {},
   "source": [
    "### With HARK"
   ]
  },
  {
   "cell_type": "code",
   "execution_count": 17,
   "id": "39fff2ad",
   "metadata": {},
   "outputs": [
    {
     "data": {
      "image/png": "[encoded data removed]",
      "text/plain": [
       "<Figure size 432x288 with 1 Axes>"
      ]
     },
     "metadata": {
      "needs_background": "light"
     },
     "output_type": "display_data"
    }
   ],
   "source": [
    "agent = IndShockConsumerType(**init_simple_lifecycle)\n",
    "agent.solve()\n",
    "\n",
    "fig = plt.figure()\n",
    "\n",
    "x = np.linspace(0,3, 100)\n",
    "N = 3\n",
    "\n",
    "for t in range(agent.T_age, agent.T_age - N, -1):\n",
    "    plt.plot(x, agent.solution[t].cFunc(x))\n",
    "    \n",
    "plt.show()"
   ]
  },
  {
   "cell_type": "code",
   "execution_count": 30,
   "id": "19d8ccd7",
   "metadata": {},
   "outputs": [
    {
     "data": {
      "text/plain": [
       "<HARK.ConsumptionSaving.ConsIndShockModel.IndShockConsumerType object at 0x7ff92118b5b0.\n",
       "Parameters:\n",
       "cycles: 1\n",
       "CRRA: 2.0\n",
       "Rfree: 1.03\n",
       "DiscFac: 0.96\n",
       "LivPrb: [0.998566, 0.998583, 0.998599, 0.998609, 0.998611, 0.99861, 0.998601, 0.998569, 0.998508, 0.998419, 0.998312, 0.998192, 0.998056, 0.997906, 0.99774, 0.997556, 0.997348, 0.997115, 0.996852, 0.996562, 0.996249, 0.995916, 0.995561, 0.995186, 0.99479, 0.994349, 0.993881, 0.993428, 0.993005, 0.992583, 0.992124, 0.991583, 0.990942, 0.990175, 0.98929, 0.988296, 0.987216, 0.986059, 0.984831, 0.983509, 0.982022, 0.980368, 0.978602, 0.976732, 0.974708, 0.97243, 0.969863, 0.967036, 0.963933, 0.960506, 0.956589, 0.952211, 0.947534, 0.942585, 0.937209, 0.931163, 0.924276, 0.916534, 0.907855, 0.898197, 0.887532, 0.8758360000000001, 0.863084, 0.849246, 0.834296]\n",
       "PermGroFac: [1.0419577244168425, 1.042054094671763, 1.0419741368106594, 1.0417252594892363, 1.0413149489133513, 1.0407507570649859, 1.0400402904123676, 1.0391911991207914, 1.0382111667783425, 1.037107900648818, 1.0358891224620352, 1.0345625597498693, 1.033135937734555, 1.0316169717741344, 1.0300133603683237, 1.028332778726538, 1.026582872898662, 1.024771254467621, 1.0229054958019392, 1.02099312586525, 1.0190416265789666, 1.017058429733484, 1.0150509144425075, 1.0130264051347224, 1.010992170076407, 1.008955420418281, 1.0069233097596955, 1.004902934223072, 1.0029013330314762, 1.0009254895822242, 0.9989823330098385, 0.9970787402313398, 0.9952215384681294, 0.9934175082380994, 0.9916733868131228, 0.9899958721369814, 0.988391627199911, 0.9868672848666444, 0.9854294531556278, 0.9840847209682329, 0.5719733840877929, 0.9892378656535716, 0.9892378656535721, 0.9892378656535716, 0.9892378656535716, 0.9892378656535716, 0.9892378656535716, 0.9892378656535721, 0.9892378656535716, 0.9892378656535721, 0.9892378656535716, 0.9892378656535716, 0.9892378656535721, 0.9892378656535712, 0.9892378656535721, 0.9892378656535721, 0.9892378656535716, 0.9892378656535712, 0.9892378656535721, 0.9892378656535716, 0.9892378656535721, 0.9892378656535716, 0.9892378656535716, 0.9892378656535716, 0.9892378656535721]\n",
       "BoroCnstArt: 0.0\n",
       "MaxKinks: 400\n",
       "AgentCount: 10000\n",
       "aNrmInitMean: -0.928110551297082\n",
       "aNrmInitStd: 1.6577133299830675\n",
       "pLvlInitMean: 3.0632665110178623\n",
       "pLvlInitStd: 0.758541123818503\n",
       "PermGroFacAgg: 1.016128685406095\n",
       "T_age: 65\n",
       "T_cycle: 65\n",
       "PerfMITShk: False\n",
       "aXtraMin: 0.001\n",
       "aXtraMax: 20\n",
       "aXtraNestFac: 3\n",
       "aXtraCount: 48\n",
       "aXtraExtra: [None]\n",
       "PermShkStd: [0.25109284348539185, 0.25109284348539185, 0.2401556615138516, 0.22965736371530632, 0.21962767025150176, 0.21009896926797517, 0.2011061992747872, 0.19268653734486266, 0.1848788262215828, 0.17772267203735634, 0.171257156414067, 0.165519139140674, 0.16054118533450223, 0.15634923267876916, 0.15296020779851535, 0.1503798811549553, 0.1486012841616002, 0.14760397284848392, 0.14735430340072395, 0.14780671189307618, 0.14890581414586596, 0.15058901548290188, 0.15278927648771293, 0.15543771871404613, 0.15846584612549877, 0.16180726687440553, 0.16539889573484967, 0.16918168433697098, 0.173100962053138, 0.173100962053138, 0.173100962053138, 0.173100962053138, 0.173100962053138, 0.173100962053138, 0.173100962053138, 0.173100962053138, 0.173100962053138, 0.173100962053138, 0.173100962053138, 0.173100962053138, 0.0, 0.0, 0.0, 0.0, 0.0, 0.0, 0.0, 0.0, 0.0, 0.0, 0.0, 0.0, 0.0, 0.0, 0.0, 0.0, 0.0, 0.0, 0.0, 0.0, 0.0, 0.0, 0.0, 0.0, 0.0]\n",
       "PermShkCount: 7\n",
       "TranShkStd: [0.35281013567100616, 0.35281013567100616, 0.35531333613610194, 0.35704979853211827, 0.3580626470026157, 0.35838995582409144, 0.35806557271315087, 0.35711977391104266, 0.3555797914147736, 0.35347024168187435, 0.35081347744040203, 0.3476298787783863, 0.3439380957540672, 0.3397552518910478, 0.3350971157868557, 0.32997824645518786, 0.3244121167925305, 0.31841121860343674, 0.3119871518590683, 0.3051507002433068, 0.2979118945148287, 0.2902800647440017, 0.282263882034932, 0.27387138987799703, 0.2651100247519063, 0.25598662494655605, 0.24650742572135625, 0.23667803771374116, 0.22650340375289543, 0.22650340375289543, 0.22650340375289543, 0.22650340375289543, 0.22650340375289543, 0.22650340375289543, 0.22650340375289543, 0.22650340375289543, 0.22650340375289543, 0.22650340375289543, 0.22650340375289543, 0.22650340375289543, 0.0, 0.0, 0.0, 0.0, 0.0, 0.0, 0.0, 0.0, 0.0, 0.0, 0.0, 0.0, 0.0, 0.0, 0.0, 0.0, 0.0, 0.0, 0.0, 0.0, 0.0, 0.0, 0.0, 0.0, 0.0]\n",
       "TranShkCount: 7\n",
       "UnempPrb: 0.05\n",
       "UnempPrbRet: 0.005\n",
       "IncUnemp: 0.3\n",
       "IncUnempRet: 0.0\n",
       "tax_rate: 0.0\n",
       "T_retire: 0\n",
       "vFuncBool: False\n",
       "CubicBool: False\n",
       "neutral_measure: False\n",
       "NewbornTransShk: False\n",
       "P0: 21.397337769996003>"
      ]
     },
     "execution_count": 30,
     "metadata": {},
     "output_type": "execute_result"
    }
   ],
   "source": [
    "agent "
   ]
  },
  {
   "cell_type": "markdown",
   "id": "d8c8eac2",
   "metadata": {},
   "source": [
    "### With BARK"
   ]
  },
  {
   "cell_type": "markdown",
   "id": "19aac182",
   "metadata": {},
   "source": [
    "We have predefined some stage definitions in this module:"
   ]
  },
  {
   "cell_type": "markdown",
   "id": "ef312460",
   "metadata": {},
   "source": [
    "The labor stage has no actions. In this stage, the agent experiences exogenous shocks and grows their resources."
   ]
  },
  {
   "cell_type": "code",
   "execution_count": 10,
   "id": "ee625311",
   "metadata": {},
   "outputs": [
    {
     "name": "stdout",
     "output_type": "stream",
     "text": [
      "x: ['b'], k: {'theta': <HARK.distribution.Lognormal object at 0x7ff922151d20>, 'psi': <HARK.distribution.Lognormal object at 0x7ff922151ab0>}, a: [], y: ['m']\n"
     ]
    }
   ],
   "source": [
    "c_stage = cons_stages.consumption_stage\n",
    "l_stage = cons_stages.labor_stage\n",
    "\n",
    "display_stage(l_stage)"
   ]
  },
  {
   "cell_type": "markdown",
   "id": "645c4f09",
   "metadata": {},
   "source": [
    "#### Consumption stage"
   ]
  },
  {
   "cell_type": "code",
   "execution_count": 12,
   "id": "199747b7",
   "metadata": {},
   "outputs": [
    {
     "name": "stdout",
     "output_type": "stream",
     "text": [
      "x: ['m'], k: {}, a: ['c'], y: ['a']\n"
     ]
    }
   ],
   "source": [
    "display_stage(c_stage)"
   ]
  },
  {
   "cell_type": "markdown",
   "id": "54e6786c",
   "metadata": {},
   "source": [
    "The consumption stage models the transition $a = m - c$ where $c$ is the choice of consumption. It has no shocks."
   ]
  },
  {
   "cell_type": "markdown",
   "id": "4405b7bc",
   "metadata": {},
   "source": [
    "We will straightforwardly solve the consumption stage/block using EGM."
   ]
  },
  {
   "cell_type": "markdown",
   "id": "014ce3b1",
   "metadata": {},
   "source": [
    "#### Labor stage"
   ]
  },
  {
   "cell_type": "code",
   "execution_count": 14,
   "id": "232def3d",
   "metadata": {},
   "outputs": [
    {
     "name": "stdout",
     "output_type": "stream",
     "text": [
      "x: ['b'], k: {'theta': <HARK.distribution.Lognormal object at 0x7ff922151d20>, 'psi': <HARK.distribution.Lognormal object at 0x7ff922151ab0>}, a: [], y: ['m']\n"
     ]
    }
   ],
   "source": [
    "display_stage(l_stage)"
   ]
  },
  {
   "cell_type": "markdown",
   "id": "3eeaca0f",
   "metadata": {},
   "source": [
    "The general form of the marginal value update for a b-block is:\n",
    "\n",
    "$$v'_x(x) = \\mathbb{E}_k\\left[\\frac{\\partial q}{\\partial x}(x, k, \\pi^*(x, k)) \\right] = \\mathbb{E}_k\\left[\\beta v'_y(T(x, k, \\pi^*(x, k)))\\frac{\\partial T}{\\partial x} (x, k, \\pi^*(x, k) \\right]$$\n",
    "\n",
    "In the case of the labor stage:\n",
    "\n",
    "- $g(b, \\theta, \\psi) = \\frac{b + \\theta}{G \\psi}$\n",
    "  - $\\frac{\\partial g}{\\partial b} = \\frac{1}{G \\psi}$\n",
    "- $\\beta(\\theta, \\psi) = (G \\psi) ^ {\\rho -1}$ -- disputed\n",
    "\n",
    "Therefore:\n",
    "\n",
    "$$v'_x(b) = \\mathbb{E}_{\\psi, \\theta} \\left[(G\\psi)^{\\rho - 1} v'_y \\left( \\frac{b + \\theta}{G \\psi} \\right) \\frac{1}{G\\psi} \\right]$$"
   ]
  },
  {
   "cell_type": "markdown",
   "id": "e0e76bca",
   "metadata": {},
   "source": [
    "We can repeat these stages again and again to simulate the household earning and consuming over time.\n",
    "\n",
    "But there's one small problem: the output of the consumption stage is $m$ while the input of the labor stage is $b$.\n",
    "\n",
    "We need to transform $m$ to $b$."
   ]
  },
  {
   "cell_type": "markdown",
   "id": "dae6afdc",
   "metadata": {},
   "source": [
    "#### Twist stage\n",
    "\n",
    "**DE**: What about the rate of return on the assets -- *a = Rb* ?"
   ]
  },
  {
   "cell_type": "code",
   "execution_count": 15,
   "id": "03f735f1",
   "metadata": {},
   "outputs": [],
   "source": [
    "from HARK.stage import Stage, backwards_induction\n",
    "\n",
    "### TWIST STAGE\n",
    "\n",
    "def twist(mapper):\n",
    "    return Stage(\n",
    "        transition = lambda x, k, a : {mapper[xi] : x[xi] for xi in mapper}, \n",
    "        transition_der_x = 1,\n",
    "        inputs = list(mapper.keys()), \n",
    "        actions = [],\n",
    "        outputs = list(mapper.values())\n",
    "    )\n",
    "    \n",
    "      \n",
    "twist_stage = twist({'a' : 'b'})"
   ]
  },
  {
   "cell_type": "markdown",
   "id": "0c24fcee",
   "metadata": {},
   "source": [
    "#### Setting up the problem"
   ]
  },
  {
   "cell_type": "code",
   "execution_count": 20,
   "id": "e896b76f",
   "metadata": {},
   "outputs": [],
   "source": [
    "l_v_y_der_terminal = lambda y : CRRAutilityP_hack(y['m'], CRRA)"
   ]
  },
  {
   "cell_type": "markdown",
   "id": "8bf298d3",
   "metadata": {},
   "source": [
    "**TODO: Revise the order??**:\n",
    "\n",
    "- Start with taking expectations over (labor) shocks\n",
    "- Consumption stage\n",
    "- twist, tick as necessary.\n",
    "\n"
   ]
  },
  {
   "cell_type": "code",
   "execution_count": 31,
   "id": "b415c4bb",
   "metadata": {},
   "outputs": [],
   "source": [
    "x_space =  np.linspace(epsilon,3,100)\n",
    "\n",
    "stages_data = [\n",
    "    {\n",
    "        'stage' : c_stage,\n",
    "        'y_grid' : {'a' : x_space},\n",
    "        'optimizer_args' :{\n",
    "            'a0f' : lambda x: x['m'] - epsilon\n",
    "        },\n",
    "        'method' : 'egm'\n",
    "    },\n",
    "    {\n",
    "        'stage' : twist({'a' : 'b'}),\n",
    "        'x_grid' : {'a' : x_space},\n",
    "    },\n",
    "    {\n",
    "        'stage' : l_stage,\n",
    "        'x_grid' : {\n",
    "            'b' : x_space,\n",
    "        },\n",
    "        'shock_approx_params' : {\n",
    "            'psi' : 7, \n",
    "            'theta' : 7, \n",
    "        },\n",
    "    },\n",
    "    #tick\n",
    "]"
   ]
  },
  {
   "cell_type": "code",
   "execution_count": 32,
   "id": "4c52d2a9",
   "metadata": {},
   "outputs": [
    {
     "name": "stdout",
     "output_type": "stream",
     "text": [
      "5: X: ['b'], K: ['theta', 'psi'], A: [], Y: ['m']\n",
      "solve: X: ['b'], K: ['theta', 'psi'], A: [], Y: ['m']\n",
      "{'b': array([1.00000000e-04, 3.04020202e-02, 6.07040404e-02, 9.10060606e-02,\n",
      "       1.21308081e-01, 1.51610101e-01, 1.81912121e-01, 2.12214141e-01,\n",
      "       2.42516162e-01, 2.72818182e-01, 3.03120202e-01, 3.33422222e-01,\n",
      "       3.63724242e-01, 3.94026263e-01, 4.24328283e-01, 4.54630303e-01,\n",
      "       4.84932323e-01, 5.15234343e-01, 5.45536364e-01, 5.75838384e-01,\n",
      "       6.06140404e-01, 6.36442424e-01, 6.66744444e-01, 6.97046465e-01,\n",
      "       7.27348485e-01, 7.57650505e-01, 7.87952525e-01, 8.18254545e-01,\n",
      "       8.48556566e-01, 8.78858586e-01, 9.09160606e-01, 9.39462626e-01,\n",
      "       9.69764646e-01, 1.00006667e+00, 1.03036869e+00, 1.06067071e+00,\n",
      "       1.09097273e+00, 1.12127475e+00, 1.15157677e+00, 1.18187879e+00,\n",
      "       1.21218081e+00, 1.24248283e+00, 1.27278485e+00, 1.30308687e+00,\n",
      "       1.33338889e+00, 1.36369091e+00, 1.39399293e+00, 1.42429495e+00,\n",
      "       1.45459697e+00, 1.48489899e+00, 1.51520101e+00, 1.54550303e+00,\n",
      "       1.57580505e+00, 1.60610707e+00, 1.63640909e+00, 1.66671111e+00,\n",
      "       1.69701313e+00, 1.72731515e+00, 1.75761717e+00, 1.78791919e+00,\n",
      "       1.81822121e+00, 1.84852323e+00, 1.87882525e+00, 1.90912727e+00,\n",
      "       1.93942929e+00, 1.96973131e+00, 2.00003333e+00, 2.03033535e+00,\n",
      "       2.06063737e+00, 2.09093939e+00, 2.12124141e+00, 2.15154343e+00,\n",
      "       2.18184545e+00, 2.21214747e+00, 2.24244949e+00, 2.27275152e+00,\n",
      "       2.30305354e+00, 2.33335556e+00, 2.36365758e+00, 2.39395960e+00,\n",
      "       2.42426162e+00, 2.45456364e+00, 2.48486566e+00, 2.51516768e+00,\n",
      "       2.54546970e+00, 2.57577172e+00, 2.60607374e+00, 2.63637576e+00,\n",
      "       2.66667778e+00, 2.69697980e+00, 2.72728182e+00, 2.75758384e+00,\n",
      "       2.78788586e+00, 2.81818788e+00, 2.84848990e+00, 2.87879192e+00,\n",
      "       2.90909394e+00, 2.93939596e+00, 2.96969798e+00, 3.00000000e+00])} None {'psi': 7, 'theta': 7} None None <xarray.Dataset>\n",
      "Dimensions:  (m: 100)\n",
      "Coordinates:\n",
      "  * m        (m) float64 0.0001 0.0304 0.0607 0.09101 ... 2.909 2.939 2.97 3.0\n",
      "Data variables:\n",
      "    v_x_der  (m) float64 1e+20 3.85e+07 1.213e+06 ... 0.004557 0.00433 0.004115 opt\n",
      "No actions for this stage. Skipping to value backup.\n",
      "None\n",
      "Time to backwards induce v_x: 0:00:19.339769\n",
      "<xarray.Dataset>\n",
      "Dimensions:  (b: 100)\n",
      "Coordinates:\n",
      "  * b        (b) float64 0.0001 0.0304 0.0607 0.09101 ... 2.909 2.939 2.97 3.0\n",
      "Data variables:\n",
      "    v_x_der  (b) float64 1.349e+19 1.602e+08 1.308e+08 ... 368.2 352.0 337.9\n",
      "4: X: ['a'], K: [], A: [], Y: ['b']\n",
      "solve: X: ['a'], K: [], A: [], Y: ['b']\n",
      "{'a': array([1.00000000e-04, 3.04020202e-02, 6.07040404e-02, 9.10060606e-02,\n",
      "       1.21308081e-01, 1.51610101e-01, 1.81912121e-01, 2.12214141e-01,\n",
      "       2.42516162e-01, 2.72818182e-01, 3.03120202e-01, 3.33422222e-01,\n",
      "       3.63724242e-01, 3.94026263e-01, 4.24328283e-01, 4.54630303e-01,\n",
      "       4.84932323e-01, 5.15234343e-01, 5.45536364e-01, 5.75838384e-01,\n",
      "       6.06140404e-01, 6.36442424e-01, 6.66744444e-01, 6.97046465e-01,\n",
      "       7.27348485e-01, 7.57650505e-01, 7.87952525e-01, 8.18254545e-01,\n",
      "       8.48556566e-01, 8.78858586e-01, 9.09160606e-01, 9.39462626e-01,\n",
      "       9.69764646e-01, 1.00006667e+00, 1.03036869e+00, 1.06067071e+00,\n",
      "       1.09097273e+00, 1.12127475e+00, 1.15157677e+00, 1.18187879e+00,\n",
      "       1.21218081e+00, 1.24248283e+00, 1.27278485e+00, 1.30308687e+00,\n",
      "       1.33338889e+00, 1.36369091e+00, 1.39399293e+00, 1.42429495e+00,\n",
      "       1.45459697e+00, 1.48489899e+00, 1.51520101e+00, 1.54550303e+00,\n",
      "       1.57580505e+00, 1.60610707e+00, 1.63640909e+00, 1.66671111e+00,\n",
      "       1.69701313e+00, 1.72731515e+00, 1.75761717e+00, 1.78791919e+00,\n",
      "       1.81822121e+00, 1.84852323e+00, 1.87882525e+00, 1.90912727e+00,\n",
      "       1.93942929e+00, 1.96973131e+00, 2.00003333e+00, 2.03033535e+00,\n",
      "       2.06063737e+00, 2.09093939e+00, 2.12124141e+00, 2.15154343e+00,\n",
      "       2.18184545e+00, 2.21214747e+00, 2.24244949e+00, 2.27275152e+00,\n",
      "       2.30305354e+00, 2.33335556e+00, 2.36365758e+00, 2.39395960e+00,\n",
      "       2.42426162e+00, 2.45456364e+00, 2.48486566e+00, 2.51516768e+00,\n",
      "       2.54546970e+00, 2.57577172e+00, 2.60607374e+00, 2.63637576e+00,\n",
      "       2.66667778e+00, 2.69697980e+00, 2.72728182e+00, 2.75758384e+00,\n",
      "       2.78788586e+00, 2.81818788e+00, 2.84848990e+00, 2.87879192e+00,\n",
      "       2.90909394e+00, 2.93939596e+00, 2.96969798e+00, 3.00000000e+00])} None {} None None <xarray.Dataset>\n",
      "Dimensions:  (b: 100)\n",
      "Coordinates:\n",
      "  * b        (b) float64 0.0001 0.0304 0.0607 0.09101 ... 2.909 2.939 2.97 3.0\n",
      "Data variables:\n",
      "    v_x_der  (b) float64 1.349e+19 1.602e+08 1.308e+08 ... 368.2 352.0 337.9 opt\n",
      "No actions for this stage. Skipping to value backup.\n",
      "None\n",
      "Time to backwards induce v_x: 0:00:00.250806\n",
      "<xarray.Dataset>\n",
      "Dimensions:  (a: 100)\n",
      "Coordinates:\n",
      "  * a        (a) float64 0.0001 0.0304 0.0607 0.09101 ... 2.909 2.939 2.97 3.0\n",
      "Data variables:\n",
      "    v_x_der  (a) float64 1.349e+19 1.602e+08 1.308e+08 ... 368.2 352.0 337.9\n",
      "3: X: ['m'], K: [], A: ['c'], Y: ['a']\n",
      "solve: X: ['m'], K: [], A: ['c'], Y: ['a']\n",
      "None {'a': array([1.00000000e-04, 3.04020202e-02, 6.07040404e-02, 9.10060606e-02,\n",
      "       1.21308081e-01, 1.51610101e-01, 1.81912121e-01, 2.12214141e-01,\n",
      "       2.42516162e-01, 2.72818182e-01, 3.03120202e-01, 3.33422222e-01,\n",
      "       3.63724242e-01, 3.94026263e-01, 4.24328283e-01, 4.54630303e-01,\n",
      "       4.84932323e-01, 5.15234343e-01, 5.45536364e-01, 5.75838384e-01,\n",
      "       6.06140404e-01, 6.36442424e-01, 6.66744444e-01, 6.97046465e-01,\n",
      "       7.27348485e-01, 7.57650505e-01, 7.87952525e-01, 8.18254545e-01,\n",
      "       8.48556566e-01, 8.78858586e-01, 9.09160606e-01, 9.39462626e-01,\n",
      "       9.69764646e-01, 1.00006667e+00, 1.03036869e+00, 1.06067071e+00,\n",
      "       1.09097273e+00, 1.12127475e+00, 1.15157677e+00, 1.18187879e+00,\n",
      "       1.21218081e+00, 1.24248283e+00, 1.27278485e+00, 1.30308687e+00,\n",
      "       1.33338889e+00, 1.36369091e+00, 1.39399293e+00, 1.42429495e+00,\n",
      "       1.45459697e+00, 1.48489899e+00, 1.51520101e+00, 1.54550303e+00,\n",
      "       1.57580505e+00, 1.60610707e+00, 1.63640909e+00, 1.66671111e+00,\n",
      "       1.69701313e+00, 1.72731515e+00, 1.75761717e+00, 1.78791919e+00,\n",
      "       1.81822121e+00, 1.84852323e+00, 1.87882525e+00, 1.90912727e+00,\n",
      "       1.93942929e+00, 1.96973131e+00, 2.00003333e+00, 2.03033535e+00,\n",
      "       2.06063737e+00, 2.09093939e+00, 2.12124141e+00, 2.15154343e+00,\n",
      "       2.18184545e+00, 2.21214747e+00, 2.24244949e+00, 2.27275152e+00,\n",
      "       2.30305354e+00, 2.33335556e+00, 2.36365758e+00, 2.39395960e+00,\n",
      "       2.42426162e+00, 2.45456364e+00, 2.48486566e+00, 2.51516768e+00,\n",
      "       2.54546970e+00, 2.57577172e+00, 2.60607374e+00, 2.63637576e+00,\n",
      "       2.66667778e+00, 2.69697980e+00, 2.72728182e+00, 2.75758384e+00,\n",
      "       2.78788586e+00, 2.81818788e+00, 2.84848990e+00, 2.87879192e+00,\n",
      "       2.90909394e+00, 2.93939596e+00, 2.96969798e+00, 3.00000000e+00])} {} None None <xarray.Dataset>\n",
      "Dimensions:  (a: 100)\n",
      "Coordinates:\n",
      "  * a        (a) float64 0.0001 0.0304 0.0607 0.09101 ... 2.909 2.939 2.97 3.0\n",
      "Data variables:\n",
      "    v_x_der  (a) float64 1.349e+19 1.602e+08 1.308e+08 ... 368.2 352.0 337.9 egm\n",
      "pi_star.coords: Coordinates:\n",
      "  * m        (m) float64 0.0 0.0002505 0.05345 0.0847 ... 3.249 3.282 3.315\n",
      "Time to backwards induce v_x: 0:00:00.265374\n",
      "<xarray.Dataset>\n",
      "Dimensions:  (m: 101)\n",
      "Coordinates:\n",
      "  * m        (m) float64 0.0 0.0002505 0.05345 0.0847 ... 3.249 3.282 3.315\n",
      "Data variables:\n",
      "    v_x_der  (m) float64 inf 1.295e+19 1.537e+08 1.256e+08 ... 353.5 338.0 324.4\n",
      "    pi*      (m) float64 0.0 0.0001505 0.02305 0.024 ... 0.3093 0.3121 0.3146\n",
      "2: X: ['b'], K: ['theta', 'psi'], A: [], Y: ['m']\n",
      "solve: X: ['b'], K: ['theta', 'psi'], A: [], Y: ['m']\n",
      "{'b': array([1.00000000e-04, 3.04020202e-02, 6.07040404e-02, 9.10060606e-02,\n",
      "       1.21308081e-01, 1.51610101e-01, 1.81912121e-01, 2.12214141e-01,\n",
      "       2.42516162e-01, 2.72818182e-01, 3.03120202e-01, 3.33422222e-01,\n",
      "       3.63724242e-01, 3.94026263e-01, 4.24328283e-01, 4.54630303e-01,\n",
      "       4.84932323e-01, 5.15234343e-01, 5.45536364e-01, 5.75838384e-01,\n",
      "       6.06140404e-01, 6.36442424e-01, 6.66744444e-01, 6.97046465e-01,\n",
      "       7.27348485e-01, 7.57650505e-01, 7.87952525e-01, 8.18254545e-01,\n",
      "       8.48556566e-01, 8.78858586e-01, 9.09160606e-01, 9.39462626e-01,\n",
      "       9.69764646e-01, 1.00006667e+00, 1.03036869e+00, 1.06067071e+00,\n",
      "       1.09097273e+00, 1.12127475e+00, 1.15157677e+00, 1.18187879e+00,\n",
      "       1.21218081e+00, 1.24248283e+00, 1.27278485e+00, 1.30308687e+00,\n",
      "       1.33338889e+00, 1.36369091e+00, 1.39399293e+00, 1.42429495e+00,\n",
      "       1.45459697e+00, 1.48489899e+00, 1.51520101e+00, 1.54550303e+00,\n",
      "       1.57580505e+00, 1.60610707e+00, 1.63640909e+00, 1.66671111e+00,\n",
      "       1.69701313e+00, 1.72731515e+00, 1.75761717e+00, 1.78791919e+00,\n",
      "       1.81822121e+00, 1.84852323e+00, 1.87882525e+00, 1.90912727e+00,\n",
      "       1.93942929e+00, 1.96973131e+00, 2.00003333e+00, 2.03033535e+00,\n",
      "       2.06063737e+00, 2.09093939e+00, 2.12124141e+00, 2.15154343e+00,\n",
      "       2.18184545e+00, 2.21214747e+00, 2.24244949e+00, 2.27275152e+00,\n",
      "       2.30305354e+00, 2.33335556e+00, 2.36365758e+00, 2.39395960e+00,\n",
      "       2.42426162e+00, 2.45456364e+00, 2.48486566e+00, 2.51516768e+00,\n",
      "       2.54546970e+00, 2.57577172e+00, 2.60607374e+00, 2.63637576e+00,\n",
      "       2.66667778e+00, 2.69697980e+00, 2.72728182e+00, 2.75758384e+00,\n",
      "       2.78788586e+00, 2.81818788e+00, 2.84848990e+00, 2.87879192e+00,\n",
      "       2.90909394e+00, 2.93939596e+00, 2.96969798e+00, 3.00000000e+00])} None {'psi': 7, 'theta': 7} None None <xarray.Dataset>\n",
      "Dimensions:  (m: 101)\n",
      "Coordinates:\n",
      "  * m        (m) float64 0.0 0.0002505 0.05345 0.0847 ... 3.249 3.282 3.315\n",
      "Data variables:\n",
      "    v_x_der  (m) float64 inf 1.295e+19 1.537e+08 1.256e+08 ... 353.5 338.0 324.4\n",
      "    pi*      (m) float64 0.0 0.0001505 0.02305 0.024 ... 0.3093 0.3121 0.3146 opt\n",
      "No actions for this stage. Skipping to value backup.\n",
      "None\n"
     ]
    },
    {
     "name": "stdout",
     "output_type": "stream",
     "text": [
      "Time to backwards induce v_x: 0:00:19.503986\n",
      "<xarray.Dataset>\n",
      "Dimensions:  (b: 100)\n",
      "Coordinates:\n",
      "  * b        (b) float64 0.0001 0.0304 0.0607 0.09101 ... 2.909 2.939 2.97 3.0\n",
      "Data variables:\n",
      "    v_x_der  (b) float64 2.709e+19 2.147e+19 1.586e+19 ... 9.424e+06 9.134e+06\n",
      "1: X: ['a'], K: [], A: [], Y: ['b']\n",
      "solve: X: ['a'], K: [], A: [], Y: ['b']\n",
      "{'a': array([1.00000000e-04, 3.04020202e-02, 6.07040404e-02, 9.10060606e-02,\n",
      "       1.21308081e-01, 1.51610101e-01, 1.81912121e-01, 2.12214141e-01,\n",
      "       2.42516162e-01, 2.72818182e-01, 3.03120202e-01, 3.33422222e-01,\n",
      "       3.63724242e-01, 3.94026263e-01, 4.24328283e-01, 4.54630303e-01,\n",
      "       4.84932323e-01, 5.15234343e-01, 5.45536364e-01, 5.75838384e-01,\n",
      "       6.06140404e-01, 6.36442424e-01, 6.66744444e-01, 6.97046465e-01,\n",
      "       7.27348485e-01, 7.57650505e-01, 7.87952525e-01, 8.18254545e-01,\n",
      "       8.48556566e-01, 8.78858586e-01, 9.09160606e-01, 9.39462626e-01,\n",
      "       9.69764646e-01, 1.00006667e+00, 1.03036869e+00, 1.06067071e+00,\n",
      "       1.09097273e+00, 1.12127475e+00, 1.15157677e+00, 1.18187879e+00,\n",
      "       1.21218081e+00, 1.24248283e+00, 1.27278485e+00, 1.30308687e+00,\n",
      "       1.33338889e+00, 1.36369091e+00, 1.39399293e+00, 1.42429495e+00,\n",
      "       1.45459697e+00, 1.48489899e+00, 1.51520101e+00, 1.54550303e+00,\n",
      "       1.57580505e+00, 1.60610707e+00, 1.63640909e+00, 1.66671111e+00,\n",
      "       1.69701313e+00, 1.72731515e+00, 1.75761717e+00, 1.78791919e+00,\n",
      "       1.81822121e+00, 1.84852323e+00, 1.87882525e+00, 1.90912727e+00,\n",
      "       1.93942929e+00, 1.96973131e+00, 2.00003333e+00, 2.03033535e+00,\n",
      "       2.06063737e+00, 2.09093939e+00, 2.12124141e+00, 2.15154343e+00,\n",
      "       2.18184545e+00, 2.21214747e+00, 2.24244949e+00, 2.27275152e+00,\n",
      "       2.30305354e+00, 2.33335556e+00, 2.36365758e+00, 2.39395960e+00,\n",
      "       2.42426162e+00, 2.45456364e+00, 2.48486566e+00, 2.51516768e+00,\n",
      "       2.54546970e+00, 2.57577172e+00, 2.60607374e+00, 2.63637576e+00,\n",
      "       2.66667778e+00, 2.69697980e+00, 2.72728182e+00, 2.75758384e+00,\n",
      "       2.78788586e+00, 2.81818788e+00, 2.84848990e+00, 2.87879192e+00,\n",
      "       2.90909394e+00, 2.93939596e+00, 2.96969798e+00, 3.00000000e+00])} None {} None None <xarray.Dataset>\n",
      "Dimensions:  (b: 100)\n",
      "Coordinates:\n",
      "  * b        (b) float64 0.0001 0.0304 0.0607 0.09101 ... 2.909 2.939 2.97 3.0\n",
      "Data variables:\n",
      "    v_x_der  (b) float64 2.709e+19 2.147e+19 1.586e+19 ... 9.424e+06 9.134e+06 opt\n",
      "No actions for this stage. Skipping to value backup.\n",
      "None\n",
      "Time to backwards induce v_x: 0:00:00.244670\n",
      "<xarray.Dataset>\n",
      "Dimensions:  (a: 100)\n",
      "Coordinates:\n",
      "  * a        (a) float64 0.0001 0.0304 0.0607 0.09101 ... 2.909 2.939 2.97 3.0\n",
      "Data variables:\n",
      "    v_x_der  (a) float64 2.709e+19 2.147e+19 1.586e+19 ... 9.424e+06 9.134e+06\n",
      "0: X: ['m'], K: [], A: ['c'], Y: ['a']\n",
      "solve: X: ['m'], K: [], A: ['c'], Y: ['a']\n",
      "None {'a': array([1.00000000e-04, 3.04020202e-02, 6.07040404e-02, 9.10060606e-02,\n",
      "       1.21308081e-01, 1.51610101e-01, 1.81912121e-01, 2.12214141e-01,\n",
      "       2.42516162e-01, 2.72818182e-01, 3.03120202e-01, 3.33422222e-01,\n",
      "       3.63724242e-01, 3.94026263e-01, 4.24328283e-01, 4.54630303e-01,\n",
      "       4.84932323e-01, 5.15234343e-01, 5.45536364e-01, 5.75838384e-01,\n",
      "       6.06140404e-01, 6.36442424e-01, 6.66744444e-01, 6.97046465e-01,\n",
      "       7.27348485e-01, 7.57650505e-01, 7.87952525e-01, 8.18254545e-01,\n",
      "       8.48556566e-01, 8.78858586e-01, 9.09160606e-01, 9.39462626e-01,\n",
      "       9.69764646e-01, 1.00006667e+00, 1.03036869e+00, 1.06067071e+00,\n",
      "       1.09097273e+00, 1.12127475e+00, 1.15157677e+00, 1.18187879e+00,\n",
      "       1.21218081e+00, 1.24248283e+00, 1.27278485e+00, 1.30308687e+00,\n",
      "       1.33338889e+00, 1.36369091e+00, 1.39399293e+00, 1.42429495e+00,\n",
      "       1.45459697e+00, 1.48489899e+00, 1.51520101e+00, 1.54550303e+00,\n",
      "       1.57580505e+00, 1.60610707e+00, 1.63640909e+00, 1.66671111e+00,\n",
      "       1.69701313e+00, 1.72731515e+00, 1.75761717e+00, 1.78791919e+00,\n",
      "       1.81822121e+00, 1.84852323e+00, 1.87882525e+00, 1.90912727e+00,\n",
      "       1.93942929e+00, 1.96973131e+00, 2.00003333e+00, 2.03033535e+00,\n",
      "       2.06063737e+00, 2.09093939e+00, 2.12124141e+00, 2.15154343e+00,\n",
      "       2.18184545e+00, 2.21214747e+00, 2.24244949e+00, 2.27275152e+00,\n",
      "       2.30305354e+00, 2.33335556e+00, 2.36365758e+00, 2.39395960e+00,\n",
      "       2.42426162e+00, 2.45456364e+00, 2.48486566e+00, 2.51516768e+00,\n",
      "       2.54546970e+00, 2.57577172e+00, 2.60607374e+00, 2.63637576e+00,\n",
      "       2.66667778e+00, 2.69697980e+00, 2.72728182e+00, 2.75758384e+00,\n",
      "       2.78788586e+00, 2.81818788e+00, 2.84848990e+00, 2.87879192e+00,\n",
      "       2.90909394e+00, 2.93939596e+00, 2.96969798e+00, 3.00000000e+00])} {} None None <xarray.Dataset>\n",
      "Dimensions:  (a: 100)\n",
      "Coordinates:\n",
      "  * a        (a) float64 0.0001 0.0304 0.0607 0.09101 ... 2.909 2.939 2.97 3.0\n",
      "Data variables:\n",
      "    v_x_der  (a) float64 2.709e+19 2.147e+19 1.586e+19 ... 9.424e+06 9.134e+06 egm\n",
      "pi_star.coords: Coordinates:\n",
      "  * m        (m) float64 0.0 0.0002309 0.03054 0.06085 ... 2.949 2.98 3.01 3.041\n",
      "Time to backwards induce v_x: 0:00:00.259526\n",
      "<xarray.Dataset>\n",
      "Dimensions:  (m: 101)\n",
      "Coordinates:\n",
      "  * m        (m) float64 0.0 0.0002309 0.03054 0.06085 ... 2.949 2.98 3.01 3.041\n",
      "Data variables:\n",
      "    v_x_der  (m) float64 inf 2.601e+19 2.062e+19 ... 9.047e+06 8.768e+06\n",
      "    pi*      (m) float64 0.0 0.0001309 0.0001371 ... 0.04037 0.04062 0.04087\n"
     ]
    }
   ],
   "source": [
    "sols = backwards_induction(stages_data * 2, x_space, terminal_v_y_der = l_v_y_der_terminal)"
   ]
  },
  {
   "cell_type": "code",
   "execution_count": 33,
   "id": "7046cbb1",
   "metadata": {},
   "outputs": [
    {
     "data": {
      "text/plain": [
       "<matplotlib.legend.Legend at 0x7ff921135d50>"
      ]
     },
     "execution_count": 33,
     "metadata": {},
     "output_type": "execute_result"
    },
    {
     "data": {
      "image/png": "[encoded data removed]",
      "text/plain": [
       "<Figure size 432x288 with 1 Axes>"
      ]
     },
     "metadata": {
      "needs_background": "light"
     },
     "output_type": "display_data"
    }
   ],
   "source": [
    "import matplotlib.pyplot as plt\n",
    "\n",
    "for i, s in enumerate([sols[i] for i in (range(0,len(sols), 3))]):\n",
    "    plt.plot(x_space[:50], [s.pi_star({'m' : m,}, {})['c'] for m in x_space[:50]], label = f\"pi*_{i}\")\n",
    "    \n",
    "plt.legend()"
   ]
  },
  {
   "cell_type": "markdown",
   "id": "1c018ab8",
   "metadata": {},
   "source": [
    "**TODO**: These are quite unsmooth and it would be good to figure out why."
   ]
  },
  {
   "cell_type": "markdown",
   "id": "b065d2cb",
   "metadata": {},
   "source": [
    "### Combined plot"
   ]
  },
  {
   "cell_type": "code",
   "execution_count": 34,
   "id": "baeef5b4",
   "metadata": {},
   "outputs": [
    {
     "data": {
      "image/png": "[encoded data removed]",
      "text/plain": [
       "<Figure size 432x288 with 1 Axes>"
      ]
     },
     "metadata": {
      "needs_background": "light"
     },
     "output_type": "display_data"
    }
   ],
   "source": [
    "agent = IndShockConsumerType(**init_lifecycle)\n",
    "agent.solve()\n",
    "\n",
    "fig = plt.figure()\n",
    "\n",
    "x = np.linspace(0,3, 100)\n",
    "N = 3\n",
    "\n",
    "for t in range(agent.T_age, agent.T_age - N, -1):\n",
    "    plt.plot(x, agent.solution[t].cFunc(x), label = f\"HARK T - {agent.T_age - t}\")\n",
    "    \n",
    "for i, s in enumerate([sols[i] for i in (range(0,len(sols), 3))]):\n",
    "    plt.plot(x_space[:50], [s.pi_star({'m' : m,}, {})['c'] for m in x_space[:50]], label = f\"BARK T-{i+1}\")\n",
    "\n",
    "plt.legend()\n",
    "plt.show()"
   ]
  },
  {
   "cell_type": "markdown",
   "id": "cbd50dc4",
   "metadata": {},
   "source": [
    "**TODO** These are not even in the same ballpark. It's probably because the constants are off. The discounting may also be off."
   ]
  },
  {
   "cell_type": "code",
   "execution_count": null,
   "id": "9d0632ca",
   "metadata": {},
   "outputs": [],
   "source": []
  }
 ],
 "metadata": {
  "kernelspec": {
   "display_name": "hark-env",
   "language": "python",
   "name": "hark-env"
  },
  "language_info": {
   "codemirror_mode": {
    "name": "ipython",
    "version": 3
   },
   "file_extension": ".py",
   "mimetype": "text/x-python",
   "name": "python",
   "nbconvert_exporter": "python",
   "pygments_lexer": "ipython3",
   "version": "3.10.6"
  }
 },
 "nbformat": 4,
 "nbformat_minor": 5
}
