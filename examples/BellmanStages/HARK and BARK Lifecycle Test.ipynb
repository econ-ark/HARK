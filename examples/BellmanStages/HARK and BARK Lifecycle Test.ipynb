{
 "cells": [
  {
   "cell_type": "code",
   "execution_count": 1,
   "id": "00761cd4",
   "metadata": {},
   "outputs": [],
   "source": [
    "from HARK.rewards import CRRAutility, CRRAutilityP\n",
    "from HARK.utilities import construct_assets_grid\n",
    "import matplotlib.pyplot as plt\n",
    "import numpy as np"
   ]
  },
  {
   "cell_type": "code",
   "execution_count": 2,
   "id": "19f07845",
   "metadata": {},
   "outputs": [],
   "source": [
    "from HARK.ConsumptionSaving.ConsIndShockModel import (\n",
    "    IndShockConsumerType, init_lifecycle, init_idiosyncratic_shocks\n",
    ")\n",
    "import matplotlib.pyplot as plt\n",
    "import numpy as np\n",
    "import seaborn as sns\n"
   ]
  },
  {
   "cell_type": "code",
   "execution_count": 3,
   "id": "44833a98",
   "metadata": {},
   "outputs": [],
   "source": [
    "from HARK.stage import Stage, backwards_induction\n",
    "import cons_stages\n",
    "\n",
    "R = cons_stages.R # 1.01\n",
    "G = cons_stages.G # 1.02\n",
    "\n",
    "CRRA = cons_stages.CRRA\n",
    "epsilon = cons_stages.epsilon\n",
    "sigma_psi = cons_stages.sigma_psi # 1.05\n",
    "sigma_theta = cons_stages.sigma_theta #1.15\n",
    "#sigma_eta = 1.1\n",
    "p_live = 0.98\n",
    "DiscFac = .96"
   ]
  },
  {
   "cell_type": "code",
   "execution_count": 4,
   "id": "c238bb8b",
   "metadata": {},
   "outputs": [],
   "source": [
    "def display_stage(stage):\n",
    "    print(f\"x: {stage.inputs}, k: {stage.shocks}, a: {stage.actions}, y: {stage.outputs}\")"
   ]
  },
  {
   "cell_type": "code",
   "execution_count": 5,
   "id": "fa5849e2",
   "metadata": {},
   "outputs": [],
   "source": [
    "## Doing this because of the CRRAutility warnings\n",
    "\n",
    "import warnings\n",
    "warnings.filterwarnings('ignore')"
   ]
  },
  {
   "cell_type": "markdown",
   "id": "b8595177",
   "metadata": {},
   "source": [
    "## Consumption with Independent Shocks\n",
    "\n",
    "_Notebook by Sebastian Benthall_\n",
    "\n",
    "In this notebook, we will use both HARK and BARK to build and solve a household consumption model with independent shocks, and compare the results."
   ]
  },
  {
   "cell_type": "markdown",
   "id": "ccacc150",
   "metadata": {},
   "source": [
    "### Simple Model"
   ]
  },
  {
   "cell_type": "code",
   "execution_count": 6,
   "id": "d58f2f75",
   "metadata": {},
   "outputs": [],
   "source": [
    "cycles = 10\n",
    "init_simple = init_idiosyncratic_shocks.copy()\n",
    "init_simple['cycles'] = cycles"
   ]
  },
  {
   "cell_type": "code",
   "execution_count": 7,
   "id": "8d5b205f",
   "metadata": {},
   "outputs": [],
   "source": [
    "init_simple.update({\n",
    "    'CRRA' : CRRA,\n",
    "    'Rfree' : R,\n",
    "    'DiscFac' : DiscFac,\n",
    "    'LivPrb' : [p_live],\n",
    "    'PermGroFac' : [G],\n",
    "    'PermShkStd' : [sigma_psi],\n",
    "    'TranShkStd' : [sigma_theta],\n",
    "    'UnempPrb': 0.00,\n",
    "})"
   ]
  },
  {
   "cell_type": "markdown",
   "id": "d52db535",
   "metadata": {},
   "source": [
    "### With HARK"
   ]
  },
  {
   "cell_type": "code",
   "execution_count": 8,
   "id": "39fff2ad",
   "metadata": {},
   "outputs": [
    {
     "data": {
      "image/png": "[encoded data removed]",
      "text/plain": [
       "<Figure size 432x288 with 1 Axes>"
      ]
     },
     "metadata": {
      "needs_background": "light"
     },
     "output_type": "display_data"
    }
   ],
   "source": [
    "agent = IndShockConsumerType(**init_simple)\n",
    "agent.solve()\n",
    "\n",
    "fig = plt.figure()\n",
    "\n",
    "x = np.linspace(0,2, 100)\n",
    "N = 5\n",
    "\n",
    "for t in range(cycles, cycles - N, -1):\n",
    "    plt.plot(x, agent.solution[t].cFunc(x))\n",
    "    \n",
    "plt.show()"
   ]
  },
  {
   "cell_type": "code",
   "execution_count": 9,
   "id": "939360e5",
   "metadata": {},
   "outputs": [
    {
     "data": {
      "text/plain": [
       "<HARK.ConsumptionSaving.ConsIndShockModel.IndShockConsumerType object at 0x7fe017c37be0.\n",
       "Parameters:\n",
       "cycles: 10\n",
       "CRRA: 2.0\n",
       "Rfree: 1.03\n",
       "DiscFac: 0.96\n",
       "LivPrb: [0.98]\n",
       "PermGroFac: [1.01]\n",
       "BoroCnstArt: 0.0\n",
       "MaxKinks: 400\n",
       "AgentCount: 10000\n",
       "aNrmInitMean: 0.0\n",
       "aNrmInitStd: 1.0\n",
       "pLvlInitMean: 0.0\n",
       "pLvlInitStd: 0.0\n",
       "PermGroFacAgg: 1.0\n",
       "T_age: None\n",
       "T_cycle: 1\n",
       "PerfMITShk: False\n",
       "aXtraMin: 0.001\n",
       "aXtraMax: 20\n",
       "aXtraNestFac: 3\n",
       "aXtraCount: 48\n",
       "aXtraExtra: [None]\n",
       "PermShkStd: [0.1]\n",
       "PermShkCount: 7\n",
       "TranShkStd: [0.1]\n",
       "TranShkCount: 7\n",
       "UnempPrb: 0.0\n",
       "UnempPrbRet: 0.005\n",
       "IncUnemp: 0.3\n",
       "IncUnempRet: 0.0\n",
       "tax_rate: 0.0\n",
       "T_retire: 0\n",
       "vFuncBool: False\n",
       "CubicBool: False\n",
       "neutral_measure: False\n",
       "NewbornTransShk: False>"
      ]
     },
     "execution_count": 9,
     "metadata": {},
     "output_type": "execute_result"
    }
   ],
   "source": [
    "agent"
   ]
  },
  {
   "cell_type": "code",
   "execution_count": 10,
   "id": "290c3dc6",
   "metadata": {},
   "outputs": [
    {
     "data": {
      "text/plain": [
       "array([-7.09188128e-01, -7.00869926e-01, -5.67724557e-01, -4.80271631e-01,\n",
       "       -4.11858639e-01, -3.49633193e-01, -2.88867070e-01, -2.27448488e-01,\n",
       "       -1.64203305e-01, -9.83375533e-02, -2.92212879e-02,  4.37083898e-02,\n",
       "        1.20997297e-01,  2.03203827e-01,  2.90919379e-01,  3.84784684e-01,\n",
       "        4.85504652e-01,  5.93863260e-01,  7.10739526e-01,  8.37125398e-01,\n",
       "        9.74146330e-01,  1.12308537e+00,  1.28541173e+00,  1.46281487e+00,\n",
       "        1.65724565e+00,  1.87096608e+00,  2.10660997e+00,  2.36725727e+00,\n",
       "        2.65652557e+00,  2.97868343e+00,  3.33879160e+00,  3.74287979e+00,\n",
       "        4.19816957e+00,  4.71335697e+00,  5.29897316e+00,  5.96784815e+00,\n",
       "        6.73571078e+00,  7.62197141e+00,  8.65075052e+00,  9.85224207e+00,\n",
       "        1.12645361e+01,  1.29360774e+01,  1.49290150e+01,  1.73238111e+01,\n",
       "        2.02256502e+01,  2.37734560e+01,  2.81527253e+01,  3.36140296e+01,\n",
       "        4.05000465e+01])"
      ]
     },
     "execution_count": 10,
     "metadata": {},
     "output_type": "execute_result"
    }
   ],
   "source": [
    "agent.solution[-2].cFunc.functions[0].x_list"
   ]
  },
  {
   "cell_type": "code",
   "execution_count": 11,
   "id": "4cdfde86",
   "metadata": {},
   "outputs": [
    {
     "data": {
      "text/plain": [
       "array([0., 1.])"
      ]
     },
     "execution_count": 11,
     "metadata": {},
     "output_type": "execute_result"
    }
   ],
   "source": [
    "agent.solution[-2].cFunc.functions[1].x_list"
   ]
  },
  {
   "cell_type": "markdown",
   "id": "d8c8eac2",
   "metadata": {},
   "source": [
    "### With BARK"
   ]
  },
  {
   "cell_type": "markdown",
   "id": "19aac182",
   "metadata": {},
   "source": [
    "We have predefined some stage definitions in this module:"
   ]
  },
  {
   "cell_type": "markdown",
   "id": "ef312460",
   "metadata": {},
   "source": [
    "The labor stage has no actions. In this stage, the agent experiences exogenous shocks and grows their resources."
   ]
  },
  {
   "cell_type": "code",
   "execution_count": 12,
   "id": "ee625311",
   "metadata": {},
   "outputs": [
    {
     "name": "stdout",
     "output_type": "stream",
     "text": [
      "x: ['b'], k: {'theta': <HARK.distribution.Lognormal object at 0x7fe017c36a10>, 'psi': <HARK.distribution.Lognormal object at 0x7fe017c34250>}, a: [], y: ['m']\n"
     ]
    }
   ],
   "source": [
    "c_stage = cons_stages.consumption_stage\n",
    "l_stage = cons_stages.labor_stage\n",
    "r_stage = cons_stages.rfree_stage\n",
    "\n",
    "display_stage(l_stage)"
   ]
  },
  {
   "cell_type": "markdown",
   "id": "645c4f09",
   "metadata": {},
   "source": [
    "#### Consumption stage"
   ]
  },
  {
   "cell_type": "code",
   "execution_count": 13,
   "id": "199747b7",
   "metadata": {},
   "outputs": [
    {
     "name": "stdout",
     "output_type": "stream",
     "text": [
      "x: ['m'], k: {}, a: ['c'], y: ['a']\n"
     ]
    }
   ],
   "source": [
    "display_stage(c_stage)"
   ]
  },
  {
   "cell_type": "markdown",
   "id": "54e6786c",
   "metadata": {},
   "source": [
    "The consumption stage models the transition $a = m - c$ where $c$ is the choice of consumption. It has no shocks."
   ]
  },
  {
   "cell_type": "markdown",
   "id": "4405b7bc",
   "metadata": {},
   "source": [
    "We will straightforwardly solve the consumption stage/block using EGM."
   ]
  },
  {
   "cell_type": "markdown",
   "id": "b2147d96",
   "metadata": {},
   "source": [
    "#### Returns stage"
   ]
  },
  {
   "cell_type": "code",
   "execution_count": 14,
   "id": "86d8612d",
   "metadata": {},
   "outputs": [
    {
     "name": "stdout",
     "output_type": "stream",
     "text": [
      "x: ['a'], k: {}, a: [], y: ['b']\n"
     ]
    }
   ],
   "source": [
    "display_stage(r_stage)"
   ]
  },
  {
   "cell_type": "markdown",
   "id": "e0e76bca",
   "metadata": {},
   "source": [
    "We can repeat these stages again and again to simulate the household earning and consuming over time.\n",
    "\n",
    "But there's one small problem: the output of the consumption stage is $m$ while the input of the labor stage is $b$.\n",
    "\n",
    "We need to transform $m$ to $b$."
   ]
  },
  {
   "cell_type": "markdown",
   "id": "014ce3b1",
   "metadata": {},
   "source": [
    "#### Labor stage"
   ]
  },
  {
   "cell_type": "code",
   "execution_count": 15,
   "id": "232def3d",
   "metadata": {},
   "outputs": [
    {
     "name": "stdout",
     "output_type": "stream",
     "text": [
      "x: ['b'], k: {'theta': <HARK.distribution.Lognormal object at 0x7fe017c36a10>, 'psi': <HARK.distribution.Lognormal object at 0x7fe017c34250>}, a: [], y: ['m']\n"
     ]
    }
   ],
   "source": [
    "display_stage(l_stage)"
   ]
  },
  {
   "cell_type": "markdown",
   "id": "3eeaca0f",
   "metadata": {},
   "source": [
    "The general form of the marginal value update for a b-block is:\n",
    "\n",
    "$$v'_x(x) = \\mathbb{E}_k\\left[\\frac{\\partial q}{\\partial x}(x, k, \\pi^*(x, k)) \\right] = \\mathbb{E}_k\\left[\\beta v'_y(T(x, k, \\pi^*(x, k)))\\frac{\\partial T}{\\partial x} (x, k, \\pi^*(x, k) \\right]$$\n",
    "\n",
    "In the case of the labor stage:\n",
    "\n",
    "- $g(b, \\theta, \\psi) = \\frac{b + \\theta}{G \\psi}$\n",
    "  - $\\frac{\\partial g}{\\partial b} = \\frac{1}{G \\psi}$\n",
    "- $\\beta(\\theta, \\psi) = (G \\psi) ^ {\\rho -1}$ -- disputed\n",
    "\n",
    "Therefore:\n",
    "\n",
    "$$v'_x(b) = \\mathbb{E}_{\\psi, \\theta} \\left[(G\\psi)^{\\rho - 1} v'_y \\left( \\frac{b + \\theta}{G \\psi} \\right) \\frac{1}{G\\psi} \\right]$$"
   ]
  },
  {
   "cell_type": "code",
   "execution_count": 16,
   "id": "0bdc852b",
   "metadata": {},
   "outputs": [
    {
     "data": {
      "text/plain": [
       "0.8546929589435168"
      ]
     },
     "execution_count": 16,
     "metadata": {},
     "output_type": "execute_result"
    }
   ],
   "source": [
    "l_stage.shocks['theta'].discretize(7).atoms.min()"
   ]
  },
  {
   "cell_type": "markdown",
   "id": "0c24fcee",
   "metadata": {},
   "source": [
    "#### Setting up the problem"
   ]
  },
  {
   "cell_type": "code",
   "execution_count": 17,
   "id": "e896b76f",
   "metadata": {},
   "outputs": [],
   "source": [
    "l_v_y_der_terminal = lambda y : CRRAutilityP(y['m'], CRRA) if y['m'] >= 0 else float('inf')"
   ]
  },
  {
   "cell_type": "code",
   "execution_count": 18,
   "id": "b415c4bb",
   "metadata": {},
   "outputs": [],
   "source": [
    "x_space = np.append([-l_stage.shocks['theta'].discretize(7).atoms.min(),0],\n",
    "                    construct_assets_grid(agent))\n",
    "\n",
    "stages_data = [\n",
    "    {\n",
    "        'stage' : c_stage,\n",
    "        'y_grid' : {'a' : x_space},\n",
    "        'optimizer_args' :{\n",
    "            'a0f' : lambda x: x['m'] - epsilon\n",
    "        },\n",
    "        'method' : 'egm'\n",
    "    },\n",
    "    {\n",
    "        'stage' : r_stage,\n",
    "        'x_grid' : {'a' : x_space},\n",
    "    },\n",
    "    {\n",
    "        'stage' : l_stage,\n",
    "        'x_grid' : {\n",
    "            'b' : x_space # * R commenting this out has no effect\n",
    "        },\n",
    "        'shock_approx_params' : {\n",
    "            'psi' : 7, \n",
    "            'theta' : 7, \n",
    "        }\n",
    "    },\n",
    "    #tick\n",
    "]"
   ]
  },
  {
   "cell_type": "code",
   "execution_count": 19,
   "id": "87ee21df",
   "metadata": {},
   "outputs": [],
   "source": [
    "c_v_y_der_terminal = lambda y : CRRAutilityP(y['a'], CRRA)"
   ]
  },
  {
   "cell_type": "code",
   "execution_count": 20,
   "id": "4c52d2a9",
   "metadata": {},
   "outputs": [
    {
     "name": "stdout",
     "output_type": "stream",
     "text": [
      "5: X: ['b'], K: ['theta', 'psi'], A: [], Y: ['m']\n",
      "solve: X: ['b'], K: ['theta', 'psi'], A: [], Y: ['m']\n",
      "No actions for this stage. Skipping to value backup.\n",
      "None\n",
      "Time to backwards induce v_x: 0:00:12.384750\n",
      "<xarray.Dataset>\n",
      "Dimensions:  (b: 50)\n",
      "Coordinates:\n",
      "  * b        (b) float64 -0.8547 0.0 0.001 0.02017 ... 11.83 13.97 16.64 20.0\n",
      "Data variables:\n",
      "    v_x_der  (b) float64 inf 1.018 1.016 0.9774 ... 0.004462 0.003214 0.002267\n",
      "4: X: ['a'], K: [], A: [], Y: ['b']\n",
      "solve: X: ['a'], K: [], A: [], Y: ['b']\n",
      "No actions for this stage. Skipping to value backup.\n",
      "None\n",
      "Time to backwards induce v_x: 0:00:00.182235\n",
      "<xarray.Dataset>\n",
      "Dimensions:  (a: 50)\n",
      "Coordinates:\n",
      "  * a        (a) float64 -0.8547 0.0 0.001 0.02017 ... 11.83 13.97 16.64 20.0\n",
      "Data variables:\n",
      "    v_x_der  (a) float64 1.142e+03 1.028 1.026 ... 0.004262 0.003068 0.002163\n",
      "3: X: ['m'], K: [], A: ['c'], Y: ['a']\n",
      "solve: X: ['m'], K: [], A: ['c'], Y: ['a']\n",
      "pi_star.coords: Coordinates:\n",
      "  * m        (m) float64 -0.8245 0.0 1.007 1.009 ... 25.22 29.6 35.06 41.95\n",
      "Time to backwards induce v_x: 0:00:00.193657\n",
      "<xarray.Dataset>\n",
      "Dimensions:  (m: 51)\n",
      "Coordinates:\n",
      "  * m        (m) float64 -0.8245 0.0 1.007 1.009 ... 25.22 29.6 35.06 41.95\n",
      "Data variables:\n",
      "    v_x_der  (m) float64 1.096e+03 inf 0.9866 ... 0.004092 0.002945 0.002076\n",
      "    pi*      (m) float64 0.0302 0.0 1.007 1.008 ... 13.39 15.63 18.43 21.95\n",
      "2: X: ['b'], K: ['theta', 'psi'], A: [], Y: ['m']\n",
      "solve: X: ['b'], K: ['theta', 'psi'], A: [], Y: ['m']\n",
      "No actions for this stage. Skipping to value backup.\n",
      "None\n",
      "Time to backwards induce v_x: 0:00:12.738388\n",
      "<xarray.Dataset>\n",
      "Dimensions:  (b: 50)\n",
      "Coordinates:\n",
      "  * b        (b) float64 -0.8547 0.0 0.001 0.02017 ... 11.83 13.97 16.64 20.0\n",
      "Data variables:\n",
      "    v_x_der  (b) float64 inf 1.058 1.057 1.024 ... 0.01502 0.01102 0.007908\n",
      "1: X: ['a'], K: [], A: [], Y: ['b']\n",
      "solve: X: ['a'], K: [], A: [], Y: ['b']\n",
      "No actions for this stage. Skipping to value backup.\n",
      "None\n",
      "Time to backwards induce v_x: 0:00:00.184134\n",
      "<xarray.Dataset>\n",
      "Dimensions:  (a: 50)\n",
      "Coordinates:\n",
      "  * a        (a) float64 -0.8547 0.0 0.001 0.02017 ... 11.83 13.97 16.64 20.0\n",
      "Data variables:\n",
      "    v_x_der  (a) float64 1.187e+03 1.068 1.067 ... 0.01439 0.01055 0.007564\n",
      "0: X: ['m'], K: [], A: ['c'], Y: ['a']\n",
      "solve: X: ['m'], K: [], A: ['c'], Y: ['a']\n",
      "pi_star.coords: Coordinates:\n",
      "  * m        (m) float64 -0.8251 0.0 0.9874 0.9893 ... 19.19 22.47 26.57 31.74\n",
      "Time to backwards induce v_x: 0:00:00.195156\n",
      "<xarray.Dataset>\n",
      "Dimensions:  (m: 51)\n",
      "Coordinates:\n",
      "  * m        (m) float64 -0.8251 0.0 0.9874 0.9893 ... 19.19 22.47 26.57 31.74\n",
      "Data variables:\n",
      "    v_x_der  (m) float64 1.14e+03 8.308e+34 1.026 ... 0.01382 0.01013 0.007261\n",
      "    pi*      (m) float64 0.02962 0.0 0.9874 0.9883 ... 7.362 8.507 9.935 11.74\n"
     ]
    }
   ],
   "source": [
    "#sols = backwards_induction(stages_data, x_space, terminal_v_y_der = l_v_y_der_terminal)\n",
    "\n",
    "# Failing on second expectation ...\n",
    "sols = backwards_induction(stages_data * 2, x_space, terminal_v_y_der = l_v_y_der_terminal)"
   ]
  },
  {
   "cell_type": "code",
   "execution_count": 21,
   "id": "7046cbb1",
   "metadata": {},
   "outputs": [
    {
     "data": {
      "text/plain": [
       "<matplotlib.legend.Legend at 0x7fe017a63850>"
      ]
     },
     "execution_count": 21,
     "metadata": {},
     "output_type": "execute_result"
    },
    {
     "data": {
      "image/png": "[encoded data removed]",
      "text/plain": [
       "<Figure size 432x288 with 1 Axes>"
      ]
     },
     "metadata": {
      "needs_background": "light"
     },
     "output_type": "display_data"
    }
   ],
   "source": [
    "import matplotlib.pyplot as plt\n",
    "\n",
    "for i, s in enumerate([sols[i] for i in (range(0,len(sols), 3))]):\n",
    "    plt.plot(x_space[:50], [s.pi_star({'m' : m,}, {})['c'] for m in x_space[:50]], label = f\"pi*_{i}\")\n",
    "    \n",
    "plt.legend()"
   ]
  },
  {
   "cell_type": "markdown",
   "id": "820c21f3",
   "metadata": {},
   "source": [
    "### Comparing the Grids\n",
    "\n"
   ]
  },
  {
   "cell_type": "code",
   "execution_count": 22,
   "id": "bab5d45c",
   "metadata": {},
   "outputs": [
    {
     "data": {
      "text/plain": [
       "array([-8.54692959e-01,  0.00000000e+00,  1.00000000e-03,  2.01713727e-02,\n",
       "        4.04645973e-02,  6.19689346e-02,  8.47826891e-02,  1.09014323e-01,\n",
       "        1.34783729e-01,  1.62223697e-01,  1.91481594e-01,  2.22721307e-01,\n",
       "        2.56125489e-01,  2.91898165e-01,  3.30267760e-01,  3.71490637e-01,\n",
       "        4.15855231e-01,  4.63686907e-01,  5.15353678e-01,  5.71272965e-01,\n",
       "        6.31919613e-01,  6.97835428e-01,  7.69640582e-01,  8.48047286e-01,\n",
       "        9.33876256e-01,  1.02807664e+00,  1.13175022e+00,  1.24618095e+00,\n",
       "        1.37287121e+00,  1.51358644e+00,  1.67041051e+00,  1.84581461e+00,\n",
       "        2.04274370e+00,  2.26472534e+00,  2.51600777e+00,  2.80173618e+00,\n",
       "        3.12817922e+00,  3.50302228e+00,  3.93574988e+00,  4.43814835e+00,\n",
       "        5.02497206e+00,  5.71483401e+00,  6.53140746e+00,  7.50506263e+00,\n",
       "        8.67511887e+00,  1.00929770e+01,  1.18265253e+01,  1.39664114e+01,\n",
       "        1.66350835e+01,  2.00000000e+01])"
      ]
     },
     "execution_count": 22,
     "metadata": {},
     "output_type": "execute_result"
    }
   ],
   "source": [
    "x_space"
   ]
  },
  {
   "cell_type": "code",
   "execution_count": 23,
   "id": "8ec85e08",
   "metadata": {},
   "outputs": [
    {
     "data": {
      "text/plain": [
       "<xarray.Dataset>\n",
       "Dimensions:  (m: 51)\n",
       "Coordinates:\n",
       "  * m        (m) float64 -0.8245 0.0 1.007 1.009 ... 25.22 29.6 35.06 41.95\n",
       "Data variables:\n",
       "    v_x_der  (m) float64 1.096e+03 inf 0.9866 ... 0.004092 0.002945 0.002076\n",
       "    pi*      (m) float64 0.0302 0.0 1.007 1.008 ... 13.39 15.63 18.43 21.95"
      ]
     },
     "execution_count": 23,
     "metadata": {},
     "output_type": "execute_result"
    }
   ],
   "source": [
    "sols[3]"
   ]
  },
  {
   "cell_type": "code",
   "execution_count": 24,
   "id": "673387c9",
   "metadata": {},
   "outputs": [
    {
     "data": {
      "text/plain": [
       "array([-7.09188128e-01, -7.00869926e-01, -5.67724557e-01, -4.80271631e-01,\n",
       "       -4.11858639e-01, -3.49633193e-01, -2.88867070e-01, -2.27448488e-01,\n",
       "       -1.64203305e-01, -9.83375533e-02, -2.92212879e-02,  4.37083898e-02,\n",
       "        1.20997297e-01,  2.03203827e-01,  2.90919379e-01,  3.84784684e-01,\n",
       "        4.85504652e-01,  5.93863260e-01,  7.10739526e-01,  8.37125398e-01,\n",
       "        9.74146330e-01,  1.12308537e+00,  1.28541173e+00,  1.46281487e+00,\n",
       "        1.65724565e+00,  1.87096608e+00,  2.10660997e+00,  2.36725727e+00,\n",
       "        2.65652557e+00,  2.97868343e+00,  3.33879160e+00,  3.74287979e+00,\n",
       "        4.19816957e+00,  4.71335697e+00,  5.29897316e+00,  5.96784815e+00,\n",
       "        6.73571078e+00,  7.62197141e+00,  8.65075052e+00,  9.85224207e+00,\n",
       "        1.12645361e+01,  1.29360774e+01,  1.49290150e+01,  1.73238111e+01,\n",
       "        2.02256502e+01,  2.37734560e+01,  2.81527253e+01,  3.36140296e+01,\n",
       "        4.05000465e+01])"
      ]
     },
     "execution_count": 24,
     "metadata": {},
     "output_type": "execute_result"
    }
   ],
   "source": [
    "agent.solution[-2].cFunc.functions[0].x_list"
   ]
  },
  {
   "cell_type": "markdown",
   "id": "b065d2cb",
   "metadata": {},
   "source": [
    "### Combined plot"
   ]
  },
  {
   "cell_type": "code",
   "execution_count": 25,
   "id": "543e879a",
   "metadata": {},
   "outputs": [
    {
     "data": {
      "text/plain": [
       "<xarray.Dataset>\n",
       "Dimensions:  (m: 51)\n",
       "Coordinates:\n",
       "  * m        (m) float64 -0.8245 0.0 1.007 1.009 ... 25.22 29.6 35.06 41.95\n",
       "Data variables:\n",
       "    v_x_der  (m) float64 1.096e+03 inf 0.9866 ... 0.004092 0.002945 0.002076\n",
       "    pi*      (m) float64 0.0302 0.0 1.007 1.008 ... 13.39 15.63 18.43 21.95"
      ]
     },
     "execution_count": 25,
     "metadata": {},
     "output_type": "execute_result"
    }
   ],
   "source": [
    "sols[-3]"
   ]
  },
  {
   "cell_type": "code",
   "execution_count": 26,
   "id": "573ba753",
   "metadata": {},
   "outputs": [
    {
     "data": {
      "text/plain": [
       "[3, 0]"
      ]
     },
     "execution_count": 26,
     "metadata": {},
     "output_type": "execute_result"
    }
   ],
   "source": [
    "list(range(len(sols)-3, -1, -3))"
   ]
  },
  {
   "cell_type": "code",
   "execution_count": 27,
   "id": "baeef5b4",
   "metadata": {},
   "outputs": [
    {
     "name": "stdout",
     "output_type": "stream",
     "text": [
      "6\n"
     ]
    },
    {
     "data": {
      "image/png": "[encoded data removed]",
      "text/plain": [
       "<Figure size 432x288 with 1 Axes>"
      ]
     },
     "metadata": {
      "needs_background": "light"
     },
     "output_type": "display_data"
    }
   ],
   "source": [
    "agent = IndShockConsumerType(**init_simple)\n",
    "agent.solve()\n",
    "\n",
    "fig = plt.figure()\n",
    "\n",
    "x = np.linspace(0.98,1.02, 200)\n",
    "N = 3\n",
    "\n",
    "for t in range(cycles, cycles - N, -1):\n",
    "    plt.plot(x, agent.solution[t].cFunc(x), label = f\"HARK T-{10 - t}\")\n",
    "\n",
    "print(len(sols))\n",
    "    \n",
    "for i, s in enumerate([sols[i] for i in (range(len(sols)-3, -1, -3))]):\n",
    "    plt.plot(x, [s.pi_star({'m' : m,}, {})['c'] for m in x], label = f\"BARK T-{i+1}\")\n",
    "\n",
    "plt.legend()\n",
    "plt.xlabel('m')\n",
    "plt.ylabel('c')\n",
    "plt.show()"
   ]
  },
  {
   "cell_type": "markdown",
   "id": "cbd50dc4",
   "metadata": {},
   "source": [
    "**Problems**\n",
    "\n",
    "* BARK at T - 1 is still slightly off of HARK at T - 1\n",
    "  * (Marginal) value function transformation slightly off? (This doesn't seem to change the numbers)"
   ]
  },
  {
   "cell_type": "markdown",
   "id": "89e6d232",
   "metadata": {},
   "source": [
    "Plotting the difference:"
   ]
  },
  {
   "cell_type": "markdown",
   "id": "4199141b",
   "metadata": {},
   "source": [
    "Plotted difference in the consumption functions"
   ]
  },
  {
   "cell_type": "code",
   "execution_count": 28,
   "id": "9d0632ca",
   "metadata": {},
   "outputs": [
    {
     "name": "stdout",
     "output_type": "stream",
     "text": [
      "0.38756310040632025\n"
     ]
    },
    {
     "data": {
      "image/png": "[encoded data removed]",
      "text/plain": [
       "<Figure size 432x288 with 1 Axes>"
      ]
     },
     "metadata": {
      "needs_background": "light"
     },
     "output_type": "display_data"
    }
   ],
   "source": [
    "bark_cfunc = np.array([sols[3].pi_star({'m' : m,}, {})['c'] for m in x])\n",
    "\n",
    "plt.plot(x, agent.solution[9].cFunc(x) - bark_cfunc)\n",
    "\n",
    "print(np.abs(agent.solution[9].cFunc(x) - bark_cfunc).sum())"
   ]
  },
  {
   "cell_type": "code",
   "execution_count": 29,
   "id": "646845aa",
   "metadata": {},
   "outputs": [
    {
     "data": {
      "text/plain": [
       "[<matplotlib.lines.Line2D at 0x7fe0178c53f0>]"
      ]
     },
     "execution_count": 29,
     "metadata": {},
     "output_type": "execute_result"
    },
    {
     "data": {
      "image/png": "[encoded data removed]",
      "text/plain": [
       "<Figure size 432x288 with 1 Axes>"
      ]
     },
     "metadata": {
      "needs_background": "light"
     },
     "output_type": "display_data"
    }
   ],
   "source": [
    "plt.plot(x, agent.solution[9].cFunc(x))\n",
    "plt.plot(x, bark_cfunc)"
   ]
  },
  {
   "cell_type": "code",
   "execution_count": 30,
   "id": "e9c16c74",
   "metadata": {},
   "outputs": [
    {
     "name": "stdout",
     "output_type": "stream",
     "text": [
      "0.5141319128800148\n"
     ]
    },
    {
     "data": {
      "image/png": "[encoded data removed]",
      "text/plain": [
       "<Figure size 432x288 with 1 Axes>"
      ]
     },
     "metadata": {
      "needs_background": "light"
     },
     "output_type": "display_data"
    }
   ],
   "source": [
    "bark_cfunc = np.array([sols[0].pi_star({'m' : m,}, {})['c'] for m in x])\n",
    "\n",
    "plt.plot(x, agent.solution[8].cFunc(x) - bark_cfunc)\n",
    "\n",
    "print(np.abs(agent.solution[8].cFunc(x) - bark_cfunc).sum())"
   ]
  },
  {
   "cell_type": "markdown",
   "id": "4efbbee8",
   "metadata": {},
   "source": [
    "Plotted differences in the _marginal_ value functions a $T - 1$."
   ]
  },
  {
   "cell_type": "code",
   "execution_count": 31,
   "id": "18ce8aff",
   "metadata": {},
   "outputs": [
    {
     "data": {
      "text/plain": [
       "[<matplotlib.lines.Line2D at 0x7fe017796c80>]"
      ]
     },
     "execution_count": 31,
     "metadata": {},
     "output_type": "execute_result"
    },
    {
     "data": {
      "image/png": "[encoded data removed]",
      "text/plain": [
       "<Figure size 432x288 with 1 Axes>"
      ]
     },
     "metadata": {
      "needs_background": "light"
     },
     "output_type": "display_data"
    }
   ],
   "source": [
    "plt.plot(x, agent.solution[9].vPfunc(x))\n",
    "\n",
    "\n",
    "bark_vPfunc = sols[0].v_x_der({'m' : x,})# np.array([sols[0].v_x_der({'m' : m,}) for m in x])\n",
    "plt.plot(x, bark_vPfunc)"
   ]
  },
  {
   "cell_type": "markdown",
   "id": "996a2a0e",
   "metadata": {},
   "source": [
    "**TODO: Pick a better marginal value interpolation transform** "
   ]
  },
  {
   "cell_type": "code",
   "execution_count": 32,
   "id": "3a757a20",
   "metadata": {},
   "outputs": [
    {
     "data": {
      "text/plain": [
       "[<matplotlib.lines.Line2D at 0x7fe0179581c0>]"
      ]
     },
     "execution_count": 32,
     "metadata": {},
     "output_type": "execute_result"
    },
    {
     "data": {
      "image/png": "[encoded data removed]",
      "text/plain": [
       "<Figure size 432x288 with 1 Axes>"
      ]
     },
     "metadata": {
      "needs_background": "light"
     },
     "output_type": "display_data"
    }
   ],
   "source": [
    "plt.plot(x, agent.solution[9].vPfunc(x) - bark_vPfunc)"
   ]
  },
  {
   "cell_type": "code",
   "execution_count": 33,
   "id": "e6830e37",
   "metadata": {},
   "outputs": [
    {
     "data": {
      "text/plain": [
       "<xarray.Dataset>\n",
       "Dimensions:  (b: 50)\n",
       "Coordinates:\n",
       "  * b        (b) float64 -0.8547 0.0 0.001 0.02017 ... 11.83 13.97 16.64 20.0\n",
       "Data variables:\n",
       "    v_x_der  (b) float64 inf 1.058 1.057 1.024 ... 0.01502 0.01102 0.007908"
      ]
     },
     "execution_count": 33,
     "metadata": {},
     "output_type": "execute_result"
    }
   ],
   "source": [
    "sols[2]"
   ]
  },
  {
   "cell_type": "code",
   "execution_count": 34,
   "id": "6cdddce5",
   "metadata": {},
   "outputs": [
    {
     "data": {
      "text/plain": [
       "<xarray.Dataset>\n",
       "Dimensions:  (m: 51)\n",
       "Coordinates:\n",
       "  * m        (m) float64 -0.8251 0.0 0.9874 0.9893 ... 19.19 22.47 26.57 31.74\n",
       "Data variables:\n",
       "    v_x_der  (m) float64 1.14e+03 8.308e+34 1.026 ... 0.01382 0.01013 0.007261\n",
       "    pi*      (m) float64 0.02962 0.0 0.9874 0.9883 ... 7.362 8.507 9.935 11.74"
      ]
     },
     "execution_count": 34,
     "metadata": {},
     "output_type": "execute_result"
    }
   ],
   "source": [
    "sols[0]"
   ]
  },
  {
   "cell_type": "code",
   "execution_count": 35,
   "id": "b11b2f1a",
   "metadata": {},
   "outputs": [
    {
     "data": {
      "text/html": [
       "<div><svg style=\"position: absolute; width: 0; height: 0; overflow: hidden\">\n",
       "<defs>\n",
       "<symbol id=\"icon-database\" viewBox=\"0 0 32 32\">\n",
       "<path d=\"M16 0c-8.837 0-16 2.239-16 5v4c0 2.761 7.163 5 16 5s16-2.239 16-5v-4c0-2.761-7.163-5-16-5z\"></path>\n",
       "<path d=\"M16 17c-8.837 0-16-2.239-16-5v6c0 2.761 7.163 5 16 5s16-2.239 16-5v-6c0 2.761-7.163 5-16 5z\"></path>\n",
       "<path d=\"M16 26c-8.837 0-16-2.239-16-5v6c0 2.761 7.163 5 16 5s16-2.239 16-5v-6c0 2.761-7.163 5-16 5z\"></path>\n",
       "</symbol>\n",
       "<symbol id=\"icon-file-text2\" viewBox=\"0 0 32 32\">\n",
       "<path d=\"M28.681 7.159c-0.694-0.947-1.662-2.053-2.724-3.116s-2.169-2.030-3.116-2.724c-1.612-1.182-2.393-1.319-2.841-1.319h-15.5c-1.378 0-2.5 1.121-2.5 2.5v27c0 1.378 1.122 2.5 2.5 2.5h23c1.378 0 2.5-1.122 2.5-2.5v-19.5c0-0.448-0.137-1.23-1.319-2.841zM24.543 5.457c0.959 0.959 1.712 1.825 2.268 2.543h-4.811v-4.811c0.718 0.556 1.584 1.309 2.543 2.268zM28 29.5c0 0.271-0.229 0.5-0.5 0.5h-23c-0.271 0-0.5-0.229-0.5-0.5v-27c0-0.271 0.229-0.5 0.5-0.5 0 0 15.499-0 15.5 0v7c0 0.552 0.448 1 1 1h7v19.5z\"></path>\n",
       "<path d=\"M23 26h-14c-0.552 0-1-0.448-1-1s0.448-1 1-1h14c0.552 0 1 0.448 1 1s-0.448 1-1 1z\"></path>\n",
       "<path d=\"M23 22h-14c-0.552 0-1-0.448-1-1s0.448-1 1-1h14c0.552 0 1 0.448 1 1s-0.448 1-1 1z\"></path>\n",
       "<path d=\"M23 18h-14c-0.552 0-1-0.448-1-1s0.448-1 1-1h14c0.552 0 1 0.448 1 1s-0.448 1-1 1z\"></path>\n",
       "</symbol>\n",
       "</defs>\n",
       "</svg>\n",
       "<style>/* CSS stylesheet for displaying xarray objects in jupyterlab.\n",
       " *\n",
       " */\n",
       "\n",
       ":root {\n",
       "  --xr-font-color0: var(--jp-content-font-color0, rgba(0, 0, 0, 1));\n",
       "  --xr-font-color2: var(--jp-content-font-color2, rgba(0, 0, 0, 0.54));\n",
       "  --xr-font-color3: var(--jp-content-font-color3, rgba(0, 0, 0, 0.38));\n",
       "  --xr-border-color: var(--jp-border-color2, #e0e0e0);\n",
       "  --xr-disabled-color: var(--jp-layout-color3, #bdbdbd);\n",
       "  --xr-background-color: var(--jp-layout-color0, white);\n",
       "  --xr-background-color-row-even: var(--jp-layout-color1, white);\n",
       "  --xr-background-color-row-odd: var(--jp-layout-color2, #eeeeee);\n",
       "}\n",
       "\n",
       "html[theme=dark],\n",
       "body[data-theme=dark],\n",
       "body.vscode-dark {\n",
       "  --xr-font-color0: rgba(255, 255, 255, 1);\n",
       "  --xr-font-color2: rgba(255, 255, 255, 0.54);\n",
       "  --xr-font-color3: rgba(255, 255, 255, 0.38);\n",
       "  --xr-border-color: #1F1F1F;\n",
       "  --xr-disabled-color: #515151;\n",
       "  --xr-background-color: #111111;\n",
       "  --xr-background-color-row-even: #111111;\n",
       "  --xr-background-color-row-odd: #313131;\n",
       "}\n",
       "\n",
       ".xr-wrap {\n",
       "  display: block !important;\n",
       "  min-width: 300px;\n",
       "  max-width: 700px;\n",
       "}\n",
       "\n",
       ".xr-text-repr-fallback {\n",
       "  /* fallback to plain text repr when CSS is not injected (untrusted notebook) */\n",
       "  display: none;\n",
       "}\n",
       "\n",
       ".xr-header {\n",
       "  padding-top: 6px;\n",
       "  padding-bottom: 6px;\n",
       "  margin-bottom: 4px;\n",
       "  border-bottom: solid 1px var(--xr-border-color);\n",
       "}\n",
       "\n",
       ".xr-header > div,\n",
       ".xr-header > ul {\n",
       "  display: inline;\n",
       "  margin-top: 0;\n",
       "  margin-bottom: 0;\n",
       "}\n",
       "\n",
       ".xr-obj-type,\n",
       ".xr-array-name {\n",
       "  margin-left: 2px;\n",
       "  margin-right: 10px;\n",
       "}\n",
       "\n",
       ".xr-obj-type {\n",
       "  color: var(--xr-font-color2);\n",
       "}\n",
       "\n",
       ".xr-sections {\n",
       "  padding-left: 0 !important;\n",
       "  display: grid;\n",
       "  grid-template-columns: 150px auto auto 1fr 20px 20px;\n",
       "}\n",
       "\n",
       ".xr-section-item {\n",
       "  display: contents;\n",
       "}\n",
       "\n",
       ".xr-section-item input {\n",
       "  display: none;\n",
       "}\n",
       "\n",
       ".xr-section-item input + label {\n",
       "  color: var(--xr-disabled-color);\n",
       "}\n",
       "\n",
       ".xr-section-item input:enabled + label {\n",
       "  cursor: pointer;\n",
       "  color: var(--xr-font-color2);\n",
       "}\n",
       "\n",
       ".xr-section-item input:enabled + label:hover {\n",
       "  color: var(--xr-font-color0);\n",
       "}\n",
       "\n",
       ".xr-section-summary {\n",
       "  grid-column: 1;\n",
       "  color: var(--xr-font-color2);\n",
       "  font-weight: 500;\n",
       "}\n",
       "\n",
       ".xr-section-summary > span {\n",
       "  display: inline-block;\n",
       "  padding-left: 0.5em;\n",
       "}\n",
       "\n",
       ".xr-section-summary-in:disabled + label {\n",
       "  color: var(--xr-font-color2);\n",
       "}\n",
       "\n",
       ".xr-section-summary-in + label:before {\n",
       "  display: inline-block;\n",
       "  content: '►';\n",
       "  font-size: 11px;\n",
       "  width: 15px;\n",
       "  text-align: center;\n",
       "}\n",
       "\n",
       ".xr-section-summary-in:disabled + label:before {\n",
       "  color: var(--xr-disabled-color);\n",
       "}\n",
       "\n",
       ".xr-section-summary-in:checked + label:before {\n",
       "  content: '▼';\n",
       "}\n",
       "\n",
       ".xr-section-summary-in:checked + label > span {\n",
       "  display: none;\n",
       "}\n",
       "\n",
       ".xr-section-summary,\n",
       ".xr-section-inline-details {\n",
       "  padding-top: 4px;\n",
       "  padding-bottom: 4px;\n",
       "}\n",
       "\n",
       ".xr-section-inline-details {\n",
       "  grid-column: 2 / -1;\n",
       "}\n",
       "\n",
       ".xr-section-details {\n",
       "  display: none;\n",
       "  grid-column: 1 / -1;\n",
       "  margin-bottom: 5px;\n",
       "}\n",
       "\n",
       ".xr-section-summary-in:checked ~ .xr-section-details {\n",
       "  display: contents;\n",
       "}\n",
       "\n",
       ".xr-array-wrap {\n",
       "  grid-column: 1 / -1;\n",
       "  display: grid;\n",
       "  grid-template-columns: 20px auto;\n",
       "}\n",
       "\n",
       ".xr-array-wrap > label {\n",
       "  grid-column: 1;\n",
       "  vertical-align: top;\n",
       "}\n",
       "\n",
       ".xr-preview {\n",
       "  color: var(--xr-font-color3);\n",
       "}\n",
       "\n",
       ".xr-array-preview,\n",
       ".xr-array-data {\n",
       "  padding: 0 5px !important;\n",
       "  grid-column: 2;\n",
       "}\n",
       "\n",
       ".xr-array-data,\n",
       ".xr-array-in:checked ~ .xr-array-preview {\n",
       "  display: none;\n",
       "}\n",
       "\n",
       ".xr-array-in:checked ~ .xr-array-data,\n",
       ".xr-array-preview {\n",
       "  display: inline-block;\n",
       "}\n",
       "\n",
       ".xr-dim-list {\n",
       "  display: inline-block !important;\n",
       "  list-style: none;\n",
       "  padding: 0 !important;\n",
       "  margin: 0;\n",
       "}\n",
       "\n",
       ".xr-dim-list li {\n",
       "  display: inline-block;\n",
       "  padding: 0;\n",
       "  margin: 0;\n",
       "}\n",
       "\n",
       ".xr-dim-list:before {\n",
       "  content: '(';\n",
       "}\n",
       "\n",
       ".xr-dim-list:after {\n",
       "  content: ')';\n",
       "}\n",
       "\n",
       ".xr-dim-list li:not(:last-child):after {\n",
       "  content: ',';\n",
       "  padding-right: 5px;\n",
       "}\n",
       "\n",
       ".xr-has-index {\n",
       "  font-weight: bold;\n",
       "}\n",
       "\n",
       ".xr-var-list,\n",
       ".xr-var-item {\n",
       "  display: contents;\n",
       "}\n",
       "\n",
       ".xr-var-item > div,\n",
       ".xr-var-item label,\n",
       ".xr-var-item > .xr-var-name span {\n",
       "  background-color: var(--xr-background-color-row-even);\n",
       "  margin-bottom: 0;\n",
       "}\n",
       "\n",
       ".xr-var-item > .xr-var-name:hover span {\n",
       "  padding-right: 5px;\n",
       "}\n",
       "\n",
       ".xr-var-list > li:nth-child(odd) > div,\n",
       ".xr-var-list > li:nth-child(odd) > label,\n",
       ".xr-var-list > li:nth-child(odd) > .xr-var-name span {\n",
       "  background-color: var(--xr-background-color-row-odd);\n",
       "}\n",
       "\n",
       ".xr-var-name {\n",
       "  grid-column: 1;\n",
       "}\n",
       "\n",
       ".xr-var-dims {\n",
       "  grid-column: 2;\n",
       "}\n",
       "\n",
       ".xr-var-dtype {\n",
       "  grid-column: 3;\n",
       "  text-align: right;\n",
       "  color: var(--xr-font-color2);\n",
       "}\n",
       "\n",
       ".xr-var-preview {\n",
       "  grid-column: 4;\n",
       "}\n",
       "\n",
       ".xr-var-name,\n",
       ".xr-var-dims,\n",
       ".xr-var-dtype,\n",
       ".xr-preview,\n",
       ".xr-attrs dt {\n",
       "  white-space: nowrap;\n",
       "  overflow: hidden;\n",
       "  text-overflow: ellipsis;\n",
       "  padding-right: 10px;\n",
       "}\n",
       "\n",
       ".xr-var-name:hover,\n",
       ".xr-var-dims:hover,\n",
       ".xr-var-dtype:hover,\n",
       ".xr-attrs dt:hover {\n",
       "  overflow: visible;\n",
       "  width: auto;\n",
       "  z-index: 1;\n",
       "}\n",
       "\n",
       ".xr-var-attrs,\n",
       ".xr-var-data {\n",
       "  display: none;\n",
       "  background-color: var(--xr-background-color) !important;\n",
       "  padding-bottom: 5px !important;\n",
       "}\n",
       "\n",
       ".xr-var-attrs-in:checked ~ .xr-var-attrs,\n",
       ".xr-var-data-in:checked ~ .xr-var-data {\n",
       "  display: block;\n",
       "}\n",
       "\n",
       ".xr-var-data > table {\n",
       "  float: right;\n",
       "}\n",
       "\n",
       ".xr-var-name span,\n",
       ".xr-var-data,\n",
       ".xr-attrs {\n",
       "  padding-left: 25px !important;\n",
       "}\n",
       "\n",
       ".xr-attrs,\n",
       ".xr-var-attrs,\n",
       ".xr-var-data {\n",
       "  grid-column: 1 / -1;\n",
       "}\n",
       "\n",
       "dl.xr-attrs {\n",
       "  padding: 0;\n",
       "  margin: 0;\n",
       "  display: grid;\n",
       "  grid-template-columns: 125px auto;\n",
       "}\n",
       "\n",
       ".xr-attrs dt,\n",
       ".xr-attrs dd {\n",
       "  padding: 0;\n",
       "  margin: 0;\n",
       "  float: left;\n",
       "  padding-right: 10px;\n",
       "  width: auto;\n",
       "}\n",
       "\n",
       ".xr-attrs dt {\n",
       "  font-weight: normal;\n",
       "  grid-column: 1;\n",
       "}\n",
       "\n",
       ".xr-attrs dt:hover span {\n",
       "  display: inline-block;\n",
       "  background: var(--xr-background-color);\n",
       "  padding-right: 10px;\n",
       "}\n",
       "\n",
       ".xr-attrs dd {\n",
       "  grid-column: 2;\n",
       "  white-space: pre-wrap;\n",
       "  word-break: break-all;\n",
       "}\n",
       "\n",
       ".xr-icon-database,\n",
       ".xr-icon-file-text2 {\n",
       "  display: inline-block;\n",
       "  vertical-align: middle;\n",
       "  width: 1em;\n",
       "  height: 1.5em !important;\n",
       "  stroke-width: 0;\n",
       "  stroke: currentColor;\n",
       "  fill: currentColor;\n",
       "}\n",
       "</style><pre class='xr-text-repr-fallback'>&lt;xarray.DataArray &#x27;v_x_der&#x27; ()&gt;\n",
       "array(4.)\n",
       "Coordinates:\n",
       "    m        float64 0.5</pre><div class='xr-wrap' style='display:none'><div class='xr-header'><div class='xr-obj-type'>xarray.DataArray</div><div class='xr-array-name'>'v_x_der'</div></div><ul class='xr-sections'><li class='xr-section-item'><div class='xr-array-wrap'><input id='section-b8ecf46c-0a8f-4777-bbe4-0a47e22aa5d8' class='xr-array-in' type='checkbox' checked><label for='section-b8ecf46c-0a8f-4777-bbe4-0a47e22aa5d8' title='Show/hide data repr'><svg class='icon xr-icon-database'><use xlink:href='#icon-database'></use></svg></label><div class='xr-array-preview xr-preview'><span>4.0</span></div><div class='xr-array-data'><pre>array(4.)</pre></div></div></li><li class='xr-section-item'><input id='section-f4c73f25-bc70-4515-bc4a-9520305e6977' class='xr-section-summary-in' type='checkbox'  checked><label for='section-f4c73f25-bc70-4515-bc4a-9520305e6977' class='xr-section-summary' >Coordinates: <span>(1)</span></label><div class='xr-section-inline-details'></div><div class='xr-section-details'><ul class='xr-var-list'><li class='xr-var-item'><div class='xr-var-name'><span>m</span></div><div class='xr-var-dims'>()</div><div class='xr-var-dtype'>float64</div><div class='xr-var-preview xr-preview'>0.5</div><input id='attrs-1c66fdf9-d979-40a5-be0a-7c133b1d5e57' class='xr-var-attrs-in' type='checkbox' disabled><label for='attrs-1c66fdf9-d979-40a5-be0a-7c133b1d5e57' title='Show/Hide attributes'><svg class='icon xr-icon-file-text2'><use xlink:href='#icon-file-text2'></use></svg></label><input id='data-26435033-82a3-48b3-96ab-d466d69e12cc' class='xr-var-data-in' type='checkbox'><label for='data-26435033-82a3-48b3-96ab-d466d69e12cc' title='Show/Hide data repr'><svg class='icon xr-icon-database'><use xlink:href='#icon-database'></use></svg></label><div class='xr-var-attrs'><dl class='xr-attrs'></dl></div><div class='xr-var-data'><pre>array(0.5)</pre></div></li></ul></div></li><li class='xr-section-item'><input id='section-a68a5c78-a5ad-4ba8-ab78-d0d4eed73497' class='xr-section-summary-in' type='checkbox' disabled ><label for='section-a68a5c78-a5ad-4ba8-ab78-d0d4eed73497' class='xr-section-summary'  title='Expand/collapse section'>Attributes: <span>(0)</span></label><div class='xr-section-inline-details'></div><div class='xr-section-details'><dl class='xr-attrs'></dl></div></li></ul></div></div>"
      ],
      "text/plain": [
       "<xarray.DataArray 'v_x_der' ()>\n",
       "array(4.)\n",
       "Coordinates:\n",
       "    m        float64 0.5"
      ]
     },
     "execution_count": 35,
     "metadata": {},
     "output_type": "execute_result"
    }
   ],
   "source": [
    "sols[0].v_x_der({'m':0.5})"
   ]
  },
  {
   "cell_type": "code",
   "execution_count": 36,
   "id": "3d082ca7",
   "metadata": {},
   "outputs": [
    {
     "data": {
      "text/plain": [
       "array([-8.54692959e-01,  0.00000000e+00,  1.00000000e-03,  2.01713727e-02,\n",
       "        4.04645973e-02,  6.19689346e-02,  8.47826891e-02,  1.09014323e-01,\n",
       "        1.34783729e-01,  1.62223697e-01,  1.91481594e-01,  2.22721307e-01,\n",
       "        2.56125489e-01,  2.91898165e-01,  3.30267760e-01,  3.71490637e-01,\n",
       "        4.15855231e-01,  4.63686907e-01,  5.15353678e-01,  5.71272965e-01,\n",
       "        6.31919613e-01,  6.97835428e-01,  7.69640582e-01,  8.48047286e-01,\n",
       "        9.33876256e-01,  1.02807664e+00,  1.13175022e+00,  1.24618095e+00,\n",
       "        1.37287121e+00,  1.51358644e+00,  1.67041051e+00,  1.84581461e+00,\n",
       "        2.04274370e+00,  2.26472534e+00,  2.51600777e+00,  2.80173618e+00,\n",
       "        3.12817922e+00,  3.50302228e+00,  3.93574988e+00,  4.43814835e+00,\n",
       "        5.02497206e+00,  5.71483401e+00,  6.53140746e+00,  7.50506263e+00,\n",
       "        8.67511887e+00,  1.00929770e+01,  1.18265253e+01,  1.39664114e+01,\n",
       "        1.66350835e+01,  2.00000000e+01])"
      ]
     },
     "execution_count": 36,
     "metadata": {},
     "output_type": "execute_result"
    }
   ],
   "source": [
    "x_space"
   ]
  },
  {
   "cell_type": "markdown",
   "id": "6bd299fa",
   "metadata": {},
   "source": [
    "#### old material\n",
    "\n",
    "We used to use a twist stage but then replaced it with rfree_stage, because of investing and probability of death."
   ]
  },
  {
   "cell_type": "code",
   "execution_count": 37,
   "id": "03f735f1",
   "metadata": {},
   "outputs": [],
   "source": [
    "from HARK.stage import Stage, backwards_induction\n",
    "\n",
    "### TWIST STAGE\n",
    "\n",
    "def twist(mapper):\n",
    "    return Stage(\n",
    "        transition = lambda x, k, a : {mapper[xi] : x[xi] for xi in mapper}, \n",
    "        transition_der_x = 1,\n",
    "        inputs = list(mapper.keys()), \n",
    "        actions = [],\n",
    "        outputs = list(mapper.values())\n",
    "    )\n",
    "    \n",
    "      \n",
    "twist_stage = twist({'a' : 'b'})"
   ]
  },
  {
   "cell_type": "code",
   "execution_count": null,
   "id": "6e18bb82",
   "metadata": {},
   "outputs": [],
   "source": []
  }
 ],
 "metadata": {
  "kernelspec": {
   "display_name": "hark-env",
   "language": "python",
   "name": "hark-env"
  },
  "language_info": {
   "codemirror_mode": {
    "name": "ipython",
    "version": 3
   },
   "file_extension": ".py",
   "mimetype": "text/x-python",
   "name": "python",
   "nbconvert_exporter": "python",
   "pygments_lexer": "ipython3",
   "version": "3.10.6"
  }
 },
 "nbformat": 4,
 "nbformat_minor": 5
}
