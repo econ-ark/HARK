{
 "cells": [
  {
   "cell_type": "markdown",
   "id": "5348411a",
   "metadata": {},
   "source": [
    "Beyond individual blocks,\n",
    "\n",
    "blocks can be composed into problems.\n",
    "\n",
    "The Chomskyian grammar and discussion of ticks, etc. go here."
   ]
  },
  {
   "cell_type": "markdown",
   "id": "6ced94e2",
   "metadata": {},
   "source": [
    "\n",
    "**Scoping parameters**\n",
    "\n",
    "You can share parameters within a tick,\n",
    "but not across ticks.\n",
    "\n",
    "Parameters may be shared between stages."
   ]
  },
  {
   "cell_type": "code",
   "execution_count": null,
   "id": "c283c342",
   "metadata": {},
   "outputs": [],
   "source": []
  }
 ],
 "metadata": {
  "kernelspec": {
   "display_name": "hark-env",
   "language": "python",
   "name": "hark-env"
  },
  "language_info": {
   "codemirror_mode": {
    "name": "ipython",
    "version": 3
   },
   "file_extension": ".py",
   "mimetype": "text/x-python",
   "name": "python",
   "nbconvert_exporter": "python",
   "pygments_lexer": "ipython3",
   "version": "3.10.6"
  }
 },
 "nbformat": 4,
 "nbformat_minor": 5
}
