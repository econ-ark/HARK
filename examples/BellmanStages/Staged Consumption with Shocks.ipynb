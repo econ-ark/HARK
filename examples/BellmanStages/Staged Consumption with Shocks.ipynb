{
 "cells": [
  {
   "cell_type": "code",
   "execution_count": 1,
   "id": "0afd4019",
   "metadata": {},
   "outputs": [],
   "source": [
    "import numpy as np"
   ]
  },
  {
   "cell_type": "code",
   "execution_count": 45,
   "id": "9522b42a",
   "metadata": {},
   "outputs": [],
   "source": [
    "## Doing this because of the CRRAutility warnings\n",
    "\n",
    "import warnings\n",
    "warnings.filterwarnings('ignore')"
   ]
  },
  {
   "cell_type": "markdown",
   "id": "b8595177",
   "metadata": {},
   "source": [
    "### Consumption with Independent Shocks\n",
    "\n",
    "_Notebook by Sebastian Benthall_\n",
    "\n",
    "In this notebook, we will use the generic Bellman stage tools to build and solve a household consumption model with independent shocks (called elsewhere in HARK `ConsIndShock`)."
   ]
  },
  {
   "cell_type": "markdown",
   "id": "c4c7200e",
   "metadata": {},
   "source": [
    "We have predefined some stage definitions in this module:"
   ]
  },
  {
   "cell_type": "code",
   "execution_count": 2,
   "id": "44833a98",
   "metadata": {},
   "outputs": [],
   "source": [
    "import cons_stages"
   ]
  },
  {
   "cell_type": "code",
   "execution_count": 3,
   "id": "80289fd6",
   "metadata": {},
   "outputs": [],
   "source": [
    "def display_stage(stage):\n",
    "    print(f\"x: {stage.inputs}, k: {stage.shocks}, a: {stage.actions}, y: {stage.outputs}\")"
   ]
  },
  {
   "cell_type": "markdown",
   "id": "362e0df7",
   "metadata": {},
   "source": [
    "The consumption stage models the transition $a = m - c$ where $c$ is the choice of consumption. It has not shocks."
   ]
  },
  {
   "cell_type": "code",
   "execution_count": 4,
   "id": "1f1cffbd",
   "metadata": {},
   "outputs": [
    {
     "name": "stdout",
     "output_type": "stream",
     "text": [
      "x: ['m'], k: {}, a: ['c'], y: ['a']\n"
     ]
    }
   ],
   "source": [
    "c_stage = cons_stages.consumption_stage\n",
    "\n",
    "display_stage(c_stage)"
   ]
  },
  {
   "cell_type": "markdown",
   "id": "6e97fd09",
   "metadata": {},
   "source": [
    "The labor stage has no actions. In this stage, the agent experiences exogenous shocks and grows their resources."
   ]
  },
  {
   "cell_type": "code",
   "execution_count": 5,
   "id": "ee625311",
   "metadata": {},
   "outputs": [
    {
     "name": "stdout",
     "output_type": "stream",
     "text": [
      "x: ['b'], k: {'theta': <HARK.distribution.Lognormal object at 0x7f51155acf10>, 'psi': <HARK.distribution.Lognormal object at 0x7f51155acfa0>}, a: [], y: ['m']\n"
     ]
    }
   ],
   "source": [
    "l_stage = cons_stages.labor_stage\n",
    "\n",
    "display_stage(l_stage)"
   ]
  },
  {
   "cell_type": "markdown",
   "id": "2907d678",
   "metadata": {},
   "source": [
    "We can repeat these stages again and again to simulate the household earning and consuming over time.\n",
    "\n",
    "But there's one small problem: the output of the consumption stage is $m$ while the input of the labor stage is $b$.\n",
    "\n",
    "We need to transform $m$ to $b$."
   ]
  },
  {
   "cell_type": "code",
   "execution_count": 9,
   "id": "03f735f1",
   "metadata": {},
   "outputs": [],
   "source": [
    "from HARK.stage import Stage, backwards_induction\n",
    "\n",
    "### TWIST STAGE\n",
    "\n",
    "def twist(mapper):\n",
    "    return Stage(\n",
    "        transition = lambda x, k, a : {mapper[xi] : x[xi] for xi in mapper}, \n",
    "        inputs = list(mapper.keys()), \n",
    "        actions = [],\n",
    "        outputs = list(mapper.values())\n",
    "    )\n",
    "    \n",
    "      \n",
    "twist_stage = twist({'a' : 'b'})\n",
    "\n"
   ]
  },
  {
   "cell_type": "code",
   "execution_count": 43,
   "id": "b415c4bb",
   "metadata": {},
   "outputs": [],
   "source": [
    "epsilon = cons_stages.epsilon\n",
    "\n",
    "x_space =  np.linspace(epsilon*2,8,50)\n",
    "\n",
    "stages_data = [\n",
    "    {\n",
    "        'stage' : c_stage,\n",
    "        'x_grid' : {'m' : x_space},\n",
    "        'optimizer_args' :{\n",
    "            'a0f' : lambda x: x['m'] - epsilon\n",
    "        }\n",
    "    },\n",
    "    {\n",
    "        'stage' : twist_stage,\n",
    "        'x_grid' : {'a' : x_space},\n",
    "        'optimizer_args' :{}\n",
    "    },\n",
    "    {\n",
    "        'stage' : l_stage,\n",
    "        'x_grid' : {\n",
    "            'b' : x_space,\n",
    "        },\n",
    "        'shock_approx_params' : {\n",
    "            'psi' : 7, \n",
    "            'theta' : 7, \n",
    "        },\n",
    "    }\n",
    "]"
   ]
  },
  {
   "cell_type": "code",
   "execution_count": 47,
   "id": "4c52d2a9",
   "metadata": {},
   "outputs": [
    {
     "name": "stdout",
     "output_type": "stream",
     "text": [
      "11: X: ['b'], K: ['theta', 'psi'], A: [], Y: ['m']\n",
      "Grid size: 2450\n",
      "Time to backwards induce v_x: 0:00:06.096781\n",
      "10: X: ['a'], K: [], A: [], Y: ['b']\n",
      "Grid size: 50.0\n",
      "Time to backwards induce v_x: 0:00:00.217839\n",
      "9: X: ['m'], K: [], A: ['c'], Y: ['a']\n",
      "Grid size: 50.0\n",
      "Time to backwards induce v_x: 0:00:02.473512\n",
      "8: X: ['b'], K: ['theta', 'psi'], A: [], Y: ['m']\n",
      "Grid size: 2450\n",
      "Time to backwards induce v_x: 0:00:15.470068\n",
      "7: X: ['a'], K: [], A: [], Y: ['b']\n",
      "Grid size: 50.0\n",
      "Time to backwards induce v_x: 0:00:00.215863\n",
      "6: X: ['m'], K: [], A: ['c'], Y: ['a']\n",
      "Grid size: 50.0\n",
      "Time to backwards induce v_x: 0:00:04.177904\n",
      "5: X: ['b'], K: ['theta', 'psi'], A: [], Y: ['m']\n",
      "Grid size: 2450\n",
      "Time to backwards induce v_x: 0:00:15.602854\n",
      "4: X: ['a'], K: [], A: [], Y: ['b']\n",
      "Grid size: 50.0\n",
      "Time to backwards induce v_x: 0:00:00.228912\n",
      "3: X: ['m'], K: [], A: ['c'], Y: ['a']\n",
      "Grid size: 50.0\n",
      "Time to backwards induce v_x: 0:00:03.809969\n",
      "2: X: ['b'], K: ['theta', 'psi'], A: [], Y: ['m']\n",
      "Grid size: 2450\n",
      "Time to backwards induce v_x: 0:00:15.120237\n",
      "1: X: ['a'], K: [], A: [], Y: ['b']\n",
      "Grid size: 50.0\n",
      "Time to backwards induce v_x: 0:00:00.221320\n",
      "0: X: ['m'], K: [], A: ['c'], Y: ['a']\n",
      "Grid size: 50.0\n",
      "Time to backwards induce v_x: 0:00:03.631440\n"
     ]
    }
   ],
   "source": [
    "def growth_v_y_terminal(y):\n",
    "    return 0\n",
    "\n",
    "sols = backwards_induction(stages_data * 4, growth_v_y_terminal)"
   ]
  },
  {
   "cell_type": "code",
   "execution_count": 48,
   "id": "2ac3a126",
   "metadata": {},
   "outputs": [
    {
     "data": {
      "text/plain": [
       "<matplotlib.legend.Legend at 0x7f5108d5ec50>"
      ]
     },
     "execution_count": 48,
     "metadata": {},
     "output_type": "execute_result"
    },
    {
     "data": {
      "image/png": "[encoded data removed]",
      "text/plain": [
       "<Figure size 432x288 with 1 Axes>"
      ]
     },
     "metadata": {
      "needs_background": "light"
     },
     "output_type": "display_data"
    }
   ],
   "source": [
    "import matplotlib.pyplot as plt\n",
    "\n",
    "for i, s in enumerate([sols[i] for i in (range(0,12, 3))]):\n",
    "    plt.plot(x_space, [s.pi_star({'m' : m,}, {})['c'] for m in x_space], label = f\"{i}\")\n",
    "    \n",
    "plt.legend()"
   ]
  },
  {
   "cell_type": "code",
   "execution_count": null,
   "id": "a7fe55e7",
   "metadata": {},
   "outputs": [],
   "source": []
  }
 ],
 "metadata": {
  "kernelspec": {
   "display_name": "hark-env",
   "language": "python",
   "name": "hark-env"
  },
  "language_info": {
   "codemirror_mode": {
    "name": "ipython",
    "version": 3
   },
   "file_extension": ".py",
   "mimetype": "text/x-python",
   "name": "python",
   "nbconvert_exporter": "python",
   "pygments_lexer": "ipython3",
   "version": "3.10.6"
  }
 },
 "nbformat": 4,
 "nbformat_minor": 5
}
