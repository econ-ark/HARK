{
 "cells": [
  {
   "cell_type": "code",
   "execution_count": 1,
   "id": "00761cd4",
   "metadata": {},
   "outputs": [],
   "source": [
    "from HARK.utilities import CRRAutility, CRRAutilityP\n",
    "import numpy as np\n",
    "\n",
    "CRRAutilityP_hack = lambda c, gam: float('inf') if c == 0.0 else CRRAutilityP(c, gam)"
   ]
  },
  {
   "cell_type": "code",
   "execution_count": 2,
   "id": "fa5849e2",
   "metadata": {},
   "outputs": [],
   "source": [
    "## Doing this because of the CRRAutility warnings\n",
    "\n",
    "import warnings\n",
    "warnings.filterwarnings('ignore')"
   ]
  },
  {
   "cell_type": "markdown",
   "id": "b8595177",
   "metadata": {},
   "source": [
    "### Consumption with Independent Shocks\n",
    "\n",
    "_Notebook by Sebastian Benthall_\n",
    "\n",
    "In this notebook, we will use the generic Bellman stage tools to build and solve a household consumption model with independent shocks (called elsewhere in HARK `ConsIndShock`)."
   ]
  },
  {
   "cell_type": "markdown",
   "id": "19aac182",
   "metadata": {},
   "source": [
    "We have predefined some stage definitions in this module:"
   ]
  },
  {
   "cell_type": "code",
   "execution_count": 3,
   "id": "44833a98",
   "metadata": {},
   "outputs": [],
   "source": [
    "import cons_stages\n",
    "\n",
    "CRRA = cons_stages.CRRA\n",
    "epsilon = cons_stages.epsilon"
   ]
  },
  {
   "cell_type": "code",
   "execution_count": 4,
   "id": "c238bb8b",
   "metadata": {},
   "outputs": [],
   "source": [
    "def display_stage(stage):\n",
    "    print(f\"x: {stage.inputs}, k: {stage.shocks}, a: {stage.actions}, y: {stage.outputs}\")"
   ]
  },
  {
   "cell_type": "markdown",
   "id": "79e67fc4",
   "metadata": {},
   "source": [
    "The consumption stage models the transition $a = m - c$ where $c$ is the choice of consumption. It has not shocks."
   ]
  },
  {
   "cell_type": "code",
   "execution_count": 5,
   "id": "1f1cffbd",
   "metadata": {},
   "outputs": [
    {
     "name": "stdout",
     "output_type": "stream",
     "text": [
      "x: ['m'], k: {}, a: ['c'], y: ['a']\n"
     ]
    }
   ],
   "source": [
    "c_stage = cons_stages.consumption_stage\n",
    "\n",
    "display_stage(c_stage)"
   ]
  },
  {
   "cell_type": "code",
   "execution_count": 6,
   "id": "7aeb37b4",
   "metadata": {},
   "outputs": [],
   "source": [
    "\n",
    "\n",
    "def c_v_y_der_terminal(y):\n",
    "    return CRRAutilityP_hack(y['a'], CRRA)\n",
    "\n",
    "sol = c_stage.solve(\n",
    "    y_grid = {'a' : np.linspace(epsilon, 10,50)},\n",
    "    v_y_der = c_v_y_der_terminal,\n",
    "    policy_finder_method = 'egm'\n",
    ")\n",
    "\n"
   ]
  },
  {
   "cell_type": "code",
   "execution_count": 7,
   "id": "e83a1ca8",
   "metadata": {},
   "outputs": [
    {
     "data": {
      "text/plain": [
       "<xarray.Dataset>\n",
       "Dimensions:  (m: 51)\n",
       "Coordinates:\n",
       "  * m        (m) float64 0.0 0.0002008 0.41 0.8199 ... 18.85 19.26 19.67 20.08\n",
       "Data variables:\n",
       "    v_x_der  (m) float64 inf 9.6e+19 2.705e+03 ... 1.182e-05 1.064e-05 9.6e-06\n",
       "    pi*      (m) float64 0.0 0.0001008 0.2059 0.4116 ... 9.465 9.67 9.876 10.08"
      ]
     },
     "execution_count": 7,
     "metadata": {},
     "output_type": "execute_result"
    }
   ],
   "source": [
    "sol"
   ]
  },
  {
   "cell_type": "markdown",
   "id": "ef312460",
   "metadata": {},
   "source": [
    "The labor stage has no actions. In this stage, the agent experiences exogenous shocks and grows their resources."
   ]
  },
  {
   "cell_type": "code",
   "execution_count": 8,
   "id": "ee625311",
   "metadata": {},
   "outputs": [
    {
     "name": "stdout",
     "output_type": "stream",
     "text": [
      "x: ['b'], k: {'theta': <HARK.distribution.Lognormal object at 0x7f49dfb7cf10>, 'psi': <HARK.distribution.Lognormal object at 0x7f49dfb7cfa0>}, a: [], y: ['m']\n"
     ]
    }
   ],
   "source": [
    "l_stage = cons_stages.labor_stage\n",
    "\n",
    "display_stage(l_stage)"
   ]
  },
  {
   "cell_type": "markdown",
   "id": "e0e76bca",
   "metadata": {},
   "source": [
    "We can repeat these stages again and again to simulate the household earning and consuming over time.\n",
    "\n",
    "But there's one small problem: the output of the consumption stage is $m$ while the input of the labor stage is $b$.\n",
    "\n",
    "We need to transform $m$ to $b$."
   ]
  },
  {
   "cell_type": "code",
   "execution_count": 9,
   "id": "03f735f1",
   "metadata": {},
   "outputs": [],
   "source": [
    "from HARK.stage import Stage, backwards_induction\n",
    "\n",
    "### TWIST STAGE\n",
    "\n",
    "def twist(mapper):\n",
    "    return Stage(\n",
    "        transition = lambda x, k, a : {mapper[xi] : x[xi] for xi in mapper}, \n",
    "        inputs = list(mapper.keys()), \n",
    "        actions = [],\n",
    "        outputs = list(mapper.values())\n",
    "    )\n",
    "    \n",
    "      \n",
    "twist_stage = twist({'a' : 'b'})\n",
    "\n"
   ]
  },
  {
   "cell_type": "code",
   "execution_count": 10,
   "id": "b415c4bb",
   "metadata": {},
   "outputs": [],
   "source": [
    "x_space =  np.linspace(epsilon*2,8,50)\n",
    "\n",
    "stages_data = [\n",
    "    {\n",
    "        'stage' : c_stage,\n",
    "        'x_grid' : {'m' : x_space},\n",
    "        'optimizer_args' :{\n",
    "            'a0f' : lambda x: x['m'] - epsilon\n",
    "        },\n",
    "        'method' : 'egm'\n",
    "    },\n",
    "    {\n",
    "        'stage' : twist_stage,\n",
    "        'x_grid' : {'a' : x_space},\n",
    "        'optimizer_args' :{}\n",
    "    },\n",
    "    {\n",
    "        'stage' : l_stage,\n",
    "        'x_grid' : {\n",
    "            'b' : x_space,\n",
    "        },\n",
    "        'shock_approx_params' : {\n",
    "            'psi' : 4, \n",
    "            'theta' : 4, \n",
    "        },\n",
    "    }\n",
    "]"
   ]
  },
  {
   "cell_type": "code",
   "execution_count": 12,
   "id": "4c52d2a9",
   "metadata": {},
   "outputs": [
    {
     "name": "stdout",
     "output_type": "stream",
     "text": [
      "11: X: ['b'], K: ['theta', 'psi'], A: [], Y: ['m']\n",
      "Grid size: 800\n"
     ]
    },
    {
     "ename": "TypeError",
     "evalue": "interp only works for a numeric type array. Given object.",
     "output_type": "error",
     "traceback": [
      "\u001b[0;31m---------------------------------------------------------------------------\u001b[0m",
      "\u001b[0;31mTypeError\u001b[0m                                 Traceback (most recent call last)",
      "Input \u001b[0;32mIn [12]\u001b[0m, in \u001b[0;36m<cell line: 4>\u001b[0;34m()\u001b[0m\n\u001b[1;32m      1\u001b[0m \u001b[38;5;28;01mdef\u001b[39;00m \u001b[38;5;21mg_v_y_der_terminal\u001b[39m(y):\n\u001b[1;32m      2\u001b[0m     \u001b[38;5;28;01mreturn\u001b[39;00m CRRAutilityP_hack(y[\u001b[38;5;124m'\u001b[39m\u001b[38;5;124ma\u001b[39m\u001b[38;5;124m'\u001b[39m], CRRA)\n\u001b[0;32m----> 4\u001b[0m sols \u001b[38;5;241m=\u001b[39m \u001b[43mbackwards_induction\u001b[49m\u001b[43m(\u001b[49m\u001b[43mstages_data\u001b[49m\u001b[43m \u001b[49m\u001b[38;5;241;43m*\u001b[39;49m\u001b[43m \u001b[49m\u001b[38;5;241;43m4\u001b[39;49m\u001b[43m,\u001b[49m\u001b[43m \u001b[49m\u001b[43mg_v_y_der_terminal\u001b[49m\u001b[43m)\u001b[49m\n",
      "File \u001b[0;32m~/projects/HARK/HARK/stage.py:1123\u001b[0m, in \u001b[0;36mbackwards_induction\u001b[0;34m(stages_data, terminal_v_y, terminal_v_y_der)\u001b[0m\n\u001b[1;32m   1119\u001b[0m     method \u001b[38;5;241m=\u001b[39m \u001b[38;5;124m'\u001b[39m\u001b[38;5;124mopt\u001b[39m\u001b[38;5;124m'\u001b[39m\n\u001b[1;32m   1121\u001b[0m optimizer_args \u001b[38;5;241m=\u001b[39m stage_data[\u001b[38;5;124m'\u001b[39m\u001b[38;5;124moptimizer_args\u001b[39m\u001b[38;5;124m'\u001b[39m] \u001b[38;5;28;01mif\u001b[39;00m \u001b[38;5;124m'\u001b[39m\u001b[38;5;124moptimizer_args\u001b[39m\u001b[38;5;124m'\u001b[39m \u001b[38;5;129;01min\u001b[39;00m stage_data \u001b[38;5;28;01melse\u001b[39;00m \u001b[38;5;28;01mNone\u001b[39;00m\n\u001b[0;32m-> 1123\u001b[0m sol \u001b[38;5;241m=\u001b[39m \u001b[43mstage\u001b[49m\u001b[38;5;241;43m.\u001b[39;49m\u001b[43msolve\u001b[49m\u001b[43m(\u001b[49m\n\u001b[1;32m   1124\u001b[0m \u001b[43m    \u001b[49m\u001b[43mx_grid\u001b[49m\u001b[43m \u001b[49m\u001b[38;5;241;43m=\u001b[39;49m\u001b[43m \u001b[49m\u001b[43mx_grid\u001b[49m\u001b[43m,\u001b[49m\n\u001b[1;32m   1125\u001b[0m \u001b[43m    \u001b[49m\u001b[43mshock_approx_params\u001b[49m\u001b[43m \u001b[49m\u001b[38;5;241;43m=\u001b[39;49m\u001b[43m \u001b[49m\u001b[43mshock_approx_params\u001b[49m\u001b[43m,\u001b[49m\n\u001b[1;32m   1126\u001b[0m \u001b[43m    \u001b[49m\u001b[43mnext_sol\u001b[49m\u001b[43m \u001b[49m\u001b[38;5;241;43m=\u001b[39;49m\u001b[43m \u001b[49m\u001b[43msol\u001b[49m\u001b[43m,\u001b[49m\n\u001b[1;32m   1127\u001b[0m \u001b[43m    \u001b[49m\u001b[43mpolicy_finder_method\u001b[49m\u001b[43m \u001b[49m\u001b[38;5;241;43m=\u001b[39;49m\u001b[43m \u001b[49m\u001b[43mmethod\u001b[49m\n\u001b[1;32m   1128\u001b[0m \u001b[43m    \u001b[49m\u001b[38;5;66;43;03m#\u001b[39;49;00m\n\u001b[1;32m   1129\u001b[0m \u001b[43m    \u001b[49m\u001b[38;5;66;43;03m# optimizer_args = optimizer_args\u001b[39;49;00m\n\u001b[1;32m   1130\u001b[0m \u001b[43m\u001b[49m\u001b[43m)\u001b[49m\n\u001b[1;32m   1132\u001b[0m sols\u001b[38;5;241m.\u001b[39minsert(\u001b[38;5;241m0\u001b[39m, sol)\n\u001b[1;32m   1134\u001b[0m v_y \u001b[38;5;241m=\u001b[39m sol\u001b[38;5;241m.\u001b[39mv_x\n",
      "File \u001b[0;32m~/projects/HARK/HARK/stage.py:939\u001b[0m, in \u001b[0;36mStage.solve\u001b[0;34m(self, x_grid, y_grid, shock_approx_params, v_y, v_y_der, next_sol, policy_finder_method, policy_finder_args)\u001b[0m\n\u001b[1;32m    933\u001b[0m \u001b[38;5;28;01mif\u001b[39;00m policy_finder_method \u001b[38;5;241m==\u001b[39m \u001b[38;5;124m'\u001b[39m\u001b[38;5;124mopt\u001b[39m\u001b[38;5;124m'\u001b[39m:\n\u001b[1;32m    934\u001b[0m \n\u001b[1;32m    935\u001b[0m     \u001b[38;5;66;03m## Build the grid\u001b[39;00m\n\u001b[1;32m    937\u001b[0m     discretized_shocks, k_grid, k_grid_i \u001b[38;5;241m=\u001b[39m \u001b[38;5;28mself\u001b[39m\u001b[38;5;241m.\u001b[39mdiscretize_shocks(shock_approx_params)\n\u001b[0;32m--> 939\u001b[0m     pi_star, q_data \u001b[38;5;241m=\u001b[39m \u001b[38;5;28;43mself\u001b[39;49m\u001b[38;5;241;43m.\u001b[39;49m\u001b[43moptimal_policy\u001b[49m\u001b[43m(\u001b[49m\n\u001b[1;32m    940\u001b[0m \u001b[43m        \u001b[49m\u001b[43mx_grid\u001b[49m\u001b[43m,\u001b[49m\n\u001b[1;32m    941\u001b[0m \u001b[43m        \u001b[49m\u001b[43mk_grid\u001b[49m\u001b[43m,\u001b[49m\n\u001b[1;32m    942\u001b[0m \u001b[43m        \u001b[49m\u001b[43mv_y\u001b[49m\n\u001b[1;32m    943\u001b[0m \u001b[43m    \u001b[49m\u001b[43m)\u001b[49m\n\u001b[1;32m    945\u001b[0m     \u001b[38;5;66;03m## TODO: value backup can take the already discretized shocks,\u001b[39;00m\n\u001b[1;32m    946\u001b[0m     \u001b[38;5;66;03m## or the other way around, to m\u001b[39;00m\n\u001b[1;32m    947\u001b[0m     sol \u001b[38;5;241m=\u001b[39m \u001b[38;5;28mself\u001b[39m\u001b[38;5;241m.\u001b[39mvalue_backup(\n\u001b[1;32m    948\u001b[0m         pi_star,\n\u001b[1;32m    949\u001b[0m         x_grid,\n\u001b[1;32m    950\u001b[0m         shock_approx_params,\n\u001b[1;32m    951\u001b[0m         v_y\n\u001b[1;32m    952\u001b[0m     )\n",
      "File \u001b[0;32m~/projects/HARK/HARK/stage.py:278\u001b[0m, in \u001b[0;36mStage.optimal_policy\u001b[0;34m(self, x_grid, k_grid, v_y, optimizer_args)\u001b[0m\n\u001b[1;32m    275\u001b[0m k_vals \u001b[38;5;241m=\u001b[39m {k : v \u001b[38;5;28;01mfor\u001b[39;00m k, v \u001b[38;5;129;01min\u001b[39;00m \u001b[38;5;28mzip\u001b[39m(k_grid\u001b[38;5;241m.\u001b[39mkeys() , k_point)}\n\u001b[1;32m    277\u001b[0m \u001b[38;5;28;01mif\u001b[39;00m \u001b[38;5;28mlen\u001b[39m(\u001b[38;5;28mself\u001b[39m\u001b[38;5;241m.\u001b[39mactions) \u001b[38;5;241m==\u001b[39m \u001b[38;5;241m0\u001b[39m:\n\u001b[0;32m--> 278\u001b[0m     q_xk \u001b[38;5;241m=\u001b[39m \u001b[38;5;28;43mself\u001b[39;49m\u001b[38;5;241;43m.\u001b[39;49m\u001b[43mq\u001b[49m\u001b[43m(\u001b[49m\n\u001b[1;32m    279\u001b[0m \u001b[43m        \u001b[49m\u001b[43mx\u001b[49m\u001b[43m \u001b[49m\u001b[38;5;241;43m=\u001b[39;49m\u001b[43m \u001b[49m\u001b[43mx_vals\u001b[49m\u001b[43m,\u001b[49m\n\u001b[1;32m    280\u001b[0m \u001b[43m        \u001b[49m\u001b[43mk\u001b[49m\u001b[43m \u001b[49m\u001b[38;5;241;43m=\u001b[39;49m\u001b[43m \u001b[49m\u001b[43mk_vals\u001b[49m\u001b[43m,\u001b[49m\n\u001b[1;32m    281\u001b[0m \u001b[43m        \u001b[49m\u001b[43ma\u001b[49m\u001b[43m \u001b[49m\u001b[38;5;241;43m=\u001b[39;49m\u001b[43m \u001b[49m\u001b[43m{\u001b[49m\u001b[43m}\u001b[49m\u001b[43m,\u001b[49m\n\u001b[1;32m    282\u001b[0m \u001b[43m        \u001b[49m\u001b[43mv_y\u001b[49m\u001b[43m \u001b[49m\u001b[38;5;241;43m=\u001b[39;49m\u001b[43m \u001b[49m\u001b[43mv_y\u001b[49m\n\u001b[1;32m    283\u001b[0m \u001b[43m    \u001b[49m\u001b[43m)\u001b[49m\n\u001b[1;32m    285\u001b[0m     pi_data\u001b[38;5;241m.\u001b[39msel(\u001b[38;5;241m*\u001b[39m\u001b[38;5;241m*\u001b[39mx_vals, \u001b[38;5;241m*\u001b[39m\u001b[38;5;241m*\u001b[39mk_vals)\u001b[38;5;241m.\u001b[39mvariable\u001b[38;5;241m.\u001b[39mdata\u001b[38;5;241m.\u001b[39mput(\u001b[38;5;241m0\u001b[39m, np\u001b[38;5;241m.\u001b[39mnan)\n\u001b[1;32m    286\u001b[0m     q_data\u001b[38;5;241m.\u001b[39msel(\u001b[38;5;241m*\u001b[39m\u001b[38;5;241m*\u001b[39mx_vals, \u001b[38;5;241m*\u001b[39m\u001b[38;5;241m*\u001b[39mk_vals)\u001b[38;5;241m.\u001b[39mvariable\u001b[38;5;241m.\u001b[39mdata\u001b[38;5;241m.\u001b[39mput(\u001b[38;5;241m0\u001b[39m, q_xk)\n",
      "File \u001b[0;32m~/projects/HARK/HARK/stage.py:165\u001b[0m, in \u001b[0;36mStage.q\u001b[0;34m(self, x, k, a, v_y)\u001b[0m\n\u001b[1;32m    162\u001b[0m \u001b[38;5;28;01melif\u001b[39;00m callable(\u001b[38;5;28mself\u001b[39m\u001b[38;5;241m.\u001b[39mdiscount):\n\u001b[1;32m    163\u001b[0m     discount \u001b[38;5;241m=\u001b[39m \u001b[38;5;28mself\u001b[39m\u001b[38;5;241m.\u001b[39mdiscount(x, k, a)\n\u001b[0;32m--> 165\u001b[0m q \u001b[38;5;241m=\u001b[39m \u001b[38;5;28mself\u001b[39m\u001b[38;5;241m.\u001b[39mreward(x, k, a) \u001b[38;5;241m+\u001b[39m discount \u001b[38;5;241m*\u001b[39m \u001b[43mv_y\u001b[49m\u001b[43m(\u001b[49m\u001b[38;5;28;43mself\u001b[39;49m\u001b[38;5;241;43m.\u001b[39;49m\u001b[43mT\u001b[49m\u001b[43m(\u001b[49m\u001b[43mx\u001b[49m\u001b[43m,\u001b[49m\u001b[43m \u001b[49m\u001b[43mk\u001b[49m\u001b[43m,\u001b[49m\u001b[43m \u001b[49m\u001b[43ma\u001b[49m\u001b[43m,\u001b[49m\u001b[43m \u001b[49m\u001b[43mconstrain\u001b[49m\u001b[43m \u001b[49m\u001b[38;5;241;43m=\u001b[39;49m\u001b[43m \u001b[49m\u001b[38;5;28;43;01mFalse\u001b[39;49;00m\u001b[43m)\u001b[49m\u001b[43m)\u001b[49m \n\u001b[1;32m    167\u001b[0m \u001b[38;5;66;03m#print(f'q: {q}')\u001b[39;00m\n\u001b[1;32m    168\u001b[0m \u001b[38;5;28;01mreturn\u001b[39;00m q\n",
      "File \u001b[0;32m~/projects/HARK/HARK/stage.py:52\u001b[0m, in \u001b[0;36mSolutionDataset.v_x\u001b[0;34m(self, x)\u001b[0m\n\u001b[1;32m     50\u001b[0m \u001b[38;5;28;01mdef\u001b[39;00m \u001b[38;5;21mv_x\u001b[39m(\u001b[38;5;28mself\u001b[39m, x : Mapping[\u001b[38;5;28mstr\u001b[39m, Any]) \u001b[38;5;241m-\u001b[39m\u001b[38;5;241m>\u001b[39m \u001b[38;5;28mfloat\u001b[39m:\n\u001b[1;32m     51\u001b[0m     \u001b[38;5;66;03m# Note: 'fill_value' expects None or 'extrapolate' based on software version?\u001b[39;00m\n\u001b[0;32m---> 52\u001b[0m     \u001b[38;5;28;01mreturn\u001b[39;00m \u001b[38;5;28;43mself\u001b[39;49m\u001b[38;5;241;43m.\u001b[39;49m\u001b[43mdataset\u001b[49m\u001b[38;5;241;43m.\u001b[39;49m\u001b[43mmap\u001b[49m\u001b[43m(\u001b[49m\u001b[38;5;28;43mself\u001b[39;49m\u001b[38;5;241;43m.\u001b[39;49m\u001b[43mvalue_transform\u001b[49m\u001b[43m)\u001b[49m\u001b[43m[\u001b[49m\u001b[38;5;124;43m'\u001b[39;49m\u001b[38;5;124;43mv_x\u001b[39;49m\u001b[38;5;124;43m'\u001b[39;49m\u001b[43m]\u001b[49m\u001b[43m \u001b[49m\u001b[43m\\\u001b[49m\n\u001b[1;32m     53\u001b[0m \u001b[43m                       \u001b[49m\u001b[38;5;241;43m.\u001b[39;49m\u001b[43minterp\u001b[49m\u001b[43m(\u001b[49m\u001b[38;5;241;43m*\u001b[39;49m\u001b[38;5;241;43m*\u001b[39;49m\u001b[43mx\u001b[49m\u001b[43m,\u001b[49m\u001b[43m \u001b[49m\u001b[43mkwargs\u001b[49m\u001b[38;5;241;43m=\u001b[39;49m\u001b[43m{\u001b[49m\u001b[38;5;124;43m\"\u001b[39;49m\u001b[38;5;124;43mfill_value\u001b[39;49m\u001b[38;5;124;43m\"\u001b[39;49m\u001b[43m:\u001b[49m\u001b[43m \u001b[49m\u001b[38;5;124;43m'\u001b[39;49m\u001b[38;5;124;43mextrapolate\u001b[39;49m\u001b[38;5;124;43m'\u001b[39;49m\u001b[43m}\u001b[49m\u001b[43m)\u001b[49m \\\n\u001b[1;32m     54\u001b[0m                        \u001b[38;5;241m.\u001b[39mto_dataset()\u001b[38;5;241m.\u001b[39mmap(\u001b[38;5;28mself\u001b[39m\u001b[38;5;241m.\u001b[39mvalue_transform_inv)[\u001b[38;5;124m'\u001b[39m\u001b[38;5;124mv_x\u001b[39m\u001b[38;5;124m'\u001b[39m]\n",
      "File \u001b[0;32m~/projects/HARK/hark-env/lib/python3.10/site-packages/xarray/core/dataarray.py:1911\u001b[0m, in \u001b[0;36mDataArray.interp\u001b[0;34m(self, coords, method, assume_sorted, kwargs, **coords_kwargs)\u001b[0m\n\u001b[1;32m   1788\u001b[0m \u001b[38;5;124;03m\"\"\"Interpolate a DataArray onto new coordinates\u001b[39;00m\n\u001b[1;32m   1789\u001b[0m \n\u001b[1;32m   1790\u001b[0m \u001b[38;5;124;03mPerforms univariate or multivariate interpolation of a DataArray onto\u001b[39;00m\n\u001b[0;32m   (...)\u001b[0m\n\u001b[1;32m   1908\u001b[0m \u001b[38;5;124;03m  * y        (y) int64 11 13 15\u001b[39;00m\n\u001b[1;32m   1909\u001b[0m \u001b[38;5;124;03m\"\"\"\u001b[39;00m\n\u001b[1;32m   1910\u001b[0m \u001b[38;5;28;01mif\u001b[39;00m \u001b[38;5;28mself\u001b[39m\u001b[38;5;241m.\u001b[39mdtype\u001b[38;5;241m.\u001b[39mkind \u001b[38;5;129;01mnot\u001b[39;00m \u001b[38;5;129;01min\u001b[39;00m \u001b[38;5;124m\"\u001b[39m\u001b[38;5;124muifc\u001b[39m\u001b[38;5;124m\"\u001b[39m:\n\u001b[0;32m-> 1911\u001b[0m     \u001b[38;5;28;01mraise\u001b[39;00m \u001b[38;5;167;01mTypeError\u001b[39;00m(\n\u001b[1;32m   1912\u001b[0m         \u001b[38;5;124m\"\u001b[39m\u001b[38;5;124minterp only works for a numeric type array. \u001b[39m\u001b[38;5;124m\"\u001b[39m\n\u001b[1;32m   1913\u001b[0m         \u001b[38;5;124m\"\u001b[39m\u001b[38;5;124mGiven \u001b[39m\u001b[38;5;132;01m{}\u001b[39;00m\u001b[38;5;124m.\u001b[39m\u001b[38;5;124m\"\u001b[39m\u001b[38;5;241m.\u001b[39mformat(\u001b[38;5;28mself\u001b[39m\u001b[38;5;241m.\u001b[39mdtype)\n\u001b[1;32m   1914\u001b[0m     )\n\u001b[1;32m   1915\u001b[0m ds \u001b[38;5;241m=\u001b[39m \u001b[38;5;28mself\u001b[39m\u001b[38;5;241m.\u001b[39m_to_temp_dataset()\u001b[38;5;241m.\u001b[39minterp(\n\u001b[1;32m   1916\u001b[0m     coords,\n\u001b[1;32m   1917\u001b[0m     method\u001b[38;5;241m=\u001b[39mmethod,\n\u001b[0;32m   (...)\u001b[0m\n\u001b[1;32m   1920\u001b[0m     \u001b[38;5;241m*\u001b[39m\u001b[38;5;241m*\u001b[39mcoords_kwargs,\n\u001b[1;32m   1921\u001b[0m )\n\u001b[1;32m   1922\u001b[0m \u001b[38;5;28;01mreturn\u001b[39;00m \u001b[38;5;28mself\u001b[39m\u001b[38;5;241m.\u001b[39m_from_temp_dataset(ds)\n",
      "\u001b[0;31mTypeError\u001b[0m: interp only works for a numeric type array. Given object."
     ]
    }
   ],
   "source": [
    "def g_v_y_der_terminal(y):\n",
    "    return CRRAutilityP_hack(y['a'], CRRA)\n",
    "\n",
    "sols = backwards_induction(stages_data * 4, g_v_y_der_terminal)"
   ]
  },
  {
   "cell_type": "code",
   "execution_count": null,
   "id": "7046cbb1",
   "metadata": {},
   "outputs": [],
   "source": [
    "import matplotlib.pyplot as plt\n",
    "\n",
    "for i, s in enumerate([sols[i] for i in (range(0,12, 3))]):\n",
    "    plt.plot(x_space, [s.pi_star({'m' : m,}, {})['c'] for m in x_space], label = f\"{i}\")\n",
    "    \n",
    "plt.legend()"
   ]
  },
  {
   "cell_type": "code",
   "execution_count": null,
   "id": "0f298a1c",
   "metadata": {},
   "outputs": [],
   "source": []
  }
 ],
 "metadata": {
  "kernelspec": {
   "display_name": "hark-env",
   "language": "python",
   "name": "hark-env"
  },
  "language_info": {
   "codemirror_mode": {
    "name": "ipython",
    "version": 3
   },
   "file_extension": ".py",
   "mimetype": "text/x-python",
   "name": "python",
   "nbconvert_exporter": "python",
   "pygments_lexer": "ipython3",
   "version": "3.10.6"
  }
 },
 "nbformat": 4,
 "nbformat_minor": 5
}
