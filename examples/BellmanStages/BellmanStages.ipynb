{
 "cells": [
  {
   "cell_type": "code",
   "execution_count": 1,
   "id": "95a56b66",
   "metadata": {},
   "outputs": [],
   "source": [
    "from dataclasses import dataclass, field\n",
    "\n",
    "import itertools\n",
    "import matplotlib.pyplot as plt\n",
    "import numpy as np\n",
    "from scipy.optimize import minimize\n",
    "from typing import Any, Callable, Mapping, Sequence\n",
    "import xarray as xr\n",
    "\n",
    "from HARK import distribution\n",
    "from HARK.utilities import CRRAutility, CRRAutility_inv"
   ]
  },
  {
   "cell_type": "code",
   "execution_count": 2,
   "id": "ca78447b",
   "metadata": {},
   "outputs": [],
   "source": [
    "from HARK.stage import Stage, backwards_induction"
   ]
  },
  {
   "cell_type": "code",
   "execution_count": 3,
   "id": "d9e8184a",
   "metadata": {},
   "outputs": [],
   "source": [
    "## Doing this because of the CRRAutility warnings\n",
    "\n",
    "import warnings\n",
    "warnings.filterwarnings('ignore')"
   ]
  },
  {
   "cell_type": "markdown",
   "id": "135c5631",
   "metadata": {},
   "source": [
    "# General Bellman Stage Form"
   ]
  },
  {
   "cell_type": "markdown",
   "id": "40d04c7c",
   "metadata": {},
   "source": [
    "This notebook demonstrates HARK's ability to represent and compose Bellman stages.\n",
    "This is possible because all Bellman stages have a general form.\n",
    "\n",
    "In each Bellman stage, the agent:\n",
    " - begins in some input states $\\vec{X} \\in \\vec{X}$\n",
    " - experiences some exogeneous shocks $\\vec{k} \\in \\vec{K}$\n",
    " - can choose some actions $\\vec{a} \\in \\vec{A}$\n",
    " - subject to constraints $\\Gamma: \\vec{X} \\times \\vec{K} \\times \\vec{A} \\rightarrow \\mathbb{B}$\n",
    "     - For scalar actions, these may be expressed as upper and lower bounds, such that $\\Gamma_{lb} \\lte a \\lte \\Gamma_{ub}$:\n",
    "         - $\\Gamma_{ub}: \\vec{X} \\times \\vec{K} \\rightarrow \\mathbb{R}$\n",
    "         - $\\Gamma_{lb}: \\vec{X} \\times \\vec{K} \\vec{A} \\rightarrow \\mathbb{R}$\n",
    " - experience a reward $F: \\vec{X} \\times \\vec{K} \\times \\vec{A} \\rightarrow \\mathbb{R}$\n",
    " - together, these determine some output states $\\vec{y} \\in \\vec{Y}$ via...\n",
    " - a **deterministic** transition function $T: \\vec{X} \\times \\vec{K} \\times \\vec{A} \\rightarrow \\vec{Y}$\n",
    "   - _This is deterministic because shocks have been isolated to the beginning of the stage._\n",
    "   - CDC thinks there needs to be an additional between-stage transition function.\n",
    " - The agent has a discount factor $\\beta$ for future utility.\n",
    "   - CDC: These can be a function of..."
   ]
  },
  {
   "cell_type": "markdown",
   "id": "6361fbce",
   "metadata": {},
   "source": [
    "## Solving one stage\n",
    "\n",
    "For any stage, consider two value functions.\n",
    " - $v_x : X \\rightarrow \\mathbb{R}$ is the value of its input states.\n",
    " - $v_y : Y \\rightarrow \\mathbb{R}$ is the value of its output states. Others migth write this $\\mathfrak{v}$'\n",
    " \n",
    "The stage is solved with respect to a value function $v_y : \\vec{Y} \\rightarrow \\mathbb{R}$ over the output states. The $q: \\vec{X} \\times \\vec{K} \\times \\vec{A} \\rightarrow \\mathbb{R}$ is the action-value of a state, shock, action combination.\n",
    "\n",
    "$$q(\\vec{x}, \\vec{k}, \\vec{a}) = F(\\vec{x}, \\vec{k}, \\vec{a}) + \\overbrace{\\beta(\\vec{x},\\vec{k},\\vec{a}) v_y(T(\\vec{x}, \\vec{k}, \\vec{a}))}^{\\hat{v}_y}$$\n",
    "\n",
    "where $\\beta$ is the agent's discount factor for that stage, and $\\hat{v}_y : X \\times K \\times A \\rightarrow \\mathbb{R}$ is an alternative structure for the value funcion. Note that there is no expectation taking in this operation because $T$ is deterministic.\n",
    "\n",
    "The optimal policy $\\pi: \\vec{X} \\times \\vec{K} \\rightarrow \\vec{A}$ is:\n",
    "\n",
    "$$\\pi^*(\\vec{x}, \\vec{k}) = \\mathrm{argmax}_{\\vec{a} \\in \\vec{A}} q(\\vec{x}, \\vec{k}, \\vec{a})$$\n",
    "\n",
    "(This is solved by griding over $x$ and $k$ ...)\n",
    "\n",
    "The optimal policy $\\pi^*$ can then be used to derive the value function over the input states $V_x: \\vec{X} \\rightarrow \\mathbb{R}$.\n",
    "\n",
    "$$v_x(\\vec{x}) = \\mathbb{E}_{\\vec{k} \\in \\vec{K}}[q(\\vec{x}, \\vec{k}, \\pi^*(\\vec{x}, \\vec{k}))]$$\n",
    "\n",
    "Note that this requires no optimization, but does require the taking of expectations over the probability distribution over the shocks."
   ]
  },
  {
   "cell_type": "markdown",
   "id": "cb0e0548",
   "metadata": {},
   "source": [
    "**TODO**: Include the transformed interpolation technique here. -- using the inverted utility function."
   ]
  },
  {
   "cell_type": "markdown",
   "id": "85f3420f",
   "metadata": {},
   "source": [
    "# Portfolio Choice Problem\n",
    "\n",
    "We demonstrate the expressivity of the general Bellman stage form by representing a well-understood problem, the Portfolio Choice problem.\n",
    "\n",
    "In this intertemporal choice problem, the agent has two decisions to make at each time step: $c$, how many resources to consume; and $\\alpha$, what proportion of their savings to allocate to a risky asset. They earn income every time period; this income is subject to permanent ($\\psi$) and transitory ($\\theta$) shocks. The risky asset's growth is also subject to a shock ($\\eta$). The agent is rewarded for consumption through a CRRA utility function governed by $\\rho$.\n",
    "\n",
    "This problem is implemented and analyzed in other HARK materials. In this notebook, we focus on representing the problem as a series of Bellman stages of the above form, implementing them using HARK's `stage` module, and solving the composed problem with a generic value iteration algorithm."
   ]
  },
  {
   "cell_type": "markdown",
   "id": "d5d09cc8",
   "metadata": {},
   "source": [
    "### Epsilon -- A Tiny Hack\n",
    "\n",
    "We have a small technical problem which is that the CRRA utility function has a value of $-\\infty$ when consumption is 0, and this throws off the optimizers.\n",
    "\n",
    "As a hack, we will define $\\epsilon$ (`epsilon` in Python) for the minimum value of resources/consumption that we will use in the discretization of the resource space."
   ]
  },
  {
   "cell_type": "code",
   "execution_count": 4,
   "id": "011521ca",
   "metadata": {},
   "outputs": [],
   "source": [
    "epsilon = 1e-4"
   ]
  },
  {
   "cell_type": "markdown",
   "id": "267a8b0e",
   "metadata": {},
   "source": [
    "Optimizer args ..."
   ]
  },
  {
   "cell_type": "code",
   "execution_count": 9,
   "id": "f24053ce",
   "metadata": {},
   "outputs": [
    {
     "data": {
      "text/plain": [
       "-inf"
      ]
     },
     "execution_count": 9,
     "metadata": {},
     "output_type": "execute_result"
    }
   ],
   "source": [
    "float('-inf')"
   ]
  },
  {
   "cell_type": "markdown",
   "id": "bdbe2172",
   "metadata": {},
   "source": [
    "## Stages"
   ]
  },
  {
   "cell_type": "markdown",
   "id": "9615a67c",
   "metadata": {},
   "source": [
    "First we define the stages. Then we combine the stages together and solve them recursively."
   ]
  },
  {
   "cell_type": "markdown",
   "id": "10cddc7d",
   "metadata": {},
   "source": [
    "### Consumption stage"
   ]
  },
  {
   "cell_type": "markdown",
   "id": "483326fe",
   "metadata": {},
   "source": [
    "The consumption stage:\n",
    "\n",
    "* $c \\in A_0 = \\mathbb{R}$\n",
    "* $m \\in X_0 = \\mathbb{R}$\n",
    "* $a \\in Y_0 = \\mathbb{R}$\n",
    "* $\\Gamma_0$ ... restricts consumption $c \\leq m$\n",
    "* $F_0(m,c) = CRRA(c, \\rho)$\n",
    "* $T_0(m,c) = m - c$ \n",
    "* $\\beta_0 = \\beta $\n",
    "\n",
    "Requires a parameter $\\rho$"
   ]
  },
  {
   "cell_type": "code",
   "execution_count": 10,
   "id": "99a5a286",
   "metadata": {},
   "outputs": [],
   "source": [
    "CRRA = 5\n",
    "\n",
    "consumption_stage = Stage(\n",
    "    transition = lambda x, k, a : {'a' : x['m'] - a['c']}, \n",
    "    reward = lambda x, k, a : CRRAutility(a['c'], CRRA), \n",
    "    inputs = ['m'], \n",
    "    actions = ['c'],\n",
    "    outputs = ['a'],\n",
    "    action_upper_bound = lambda x, k: (x['m'],) , \n",
    "    action_lower_bound = lambda x, k: (0,) , # This is a kludge.\n",
    "    #constraints = [lambda x, k, a: x['m'] - a['c'],\n",
    "    #               lambda x, k, a: a['c'] - epsilon\n",
    "    #              ], # has to be nonnegative to clear\\n\"\n",
    "    discount = .96, # lambda x, k, a : .96 * k['psi']^(1 - CRRA) < --- \n",
    "    optimizer_args = {\n",
    "        'method' : 'Nelder-Mead',\n",
    "        'options' : {\n",
    "            'maxiter': 50000,\n",
    "        }\n",
    "    },\n",
    "    value_transform = np.exp,\n",
    "    value_transform_inv = np.log,\n",
    "    # For configuring the stage with given pi* values.\n",
    "    pi_star_points = {((0.0,),()) : (0.0,)}\n",
    ")"
   ]
  },
  {
   "cell_type": "markdown",
   "id": "720015f8",
   "metadata": {},
   "source": [
    "_Two points to add by hand to the consumption function_\n",
    " - (0, 0)\n",
    " - the kink point -- the point at which (or below) you will consume everything you have.\n",
    "   - which can be solved for, leads to the EGM.\n",
    "   - You can calculate the marginal value of ending the period at exactly 0.\n",
    "   - Envelope theorem to calculate the level of consumption that yields the same marginal utility."
   ]
  },
  {
   "cell_type": "markdown",
   "id": "cf872dfc",
   "metadata": {},
   "source": [
    "Given a value function over stage outputs, we can then compute components of the solution for this stage.\n",
    "\n",
    "Here `pi_star` represents $\\pi^*$, the optimal policy (action) at each input value in the given grid. (There are no shocks in this period, otherwise they would also be included as an argument of $\\pi^*$.)\n",
    "\n",
    "`q` represents $q$, the action-value given the input state $m$ and the optimal action $\\pi^*(m)$."
   ]
  },
  {
   "cell_type": "code",
   "execution_count": 11,
   "id": "f1d03685",
   "metadata": {},
   "outputs": [
    {
     "ename": "ZeroDivisionError",
     "evalue": "0.0 cannot be raised to a negative power",
     "output_type": "error",
     "traceback": [
      "\u001b[0;31m---------------------------------------------------------------------------\u001b[0m",
      "\u001b[0;31mZeroDivisionError\u001b[0m                         Traceback (most recent call last)",
      "Input \u001b[0;32mIn [11]\u001b[0m, in \u001b[0;36m<cell line: 4>\u001b[0;34m()\u001b[0m\n\u001b[1;32m      1\u001b[0m \u001b[38;5;28;01mdef\u001b[39;00m \u001b[38;5;21mconsumption_v_y\u001b[39m(y : Mapping[\u001b[38;5;28mstr\u001b[39m,Any]):\n\u001b[1;32m      2\u001b[0m     \u001b[38;5;28;01mreturn\u001b[39;00m \u001b[38;5;241m0\u001b[39m\n\u001b[0;32m----> 4\u001b[0m pi_star, q \u001b[38;5;241m=\u001b[39m \u001b[43mconsumption_stage\u001b[49m\u001b[38;5;241;43m.\u001b[39;49m\u001b[43moptimal_policy\u001b[49m\u001b[43m(\u001b[49m\n\u001b[1;32m      5\u001b[0m \u001b[43m    \u001b[49m\u001b[43m{\u001b[49m\u001b[38;5;124;43m'\u001b[39;49m\u001b[38;5;124;43mm\u001b[39;49m\u001b[38;5;124;43m'\u001b[39;49m\u001b[43m \u001b[49m\u001b[43m:\u001b[49m\u001b[43m \u001b[49m\u001b[43m[\u001b[49m\u001b[38;5;241;43m9\u001b[39;49m\u001b[43m,\u001b[49m\u001b[43m \u001b[49m\u001b[38;5;241;43m11\u001b[39;49m\u001b[43m,\u001b[49m\u001b[43m \u001b[49m\u001b[38;5;241;43m20\u001b[39;49m\u001b[43m,\u001b[49m\u001b[43m \u001b[49m\u001b[38;5;241;43m300\u001b[39;49m\u001b[43m,\u001b[49m\u001b[43m \u001b[49m\u001b[38;5;241;43m1000\u001b[39;49m\u001b[43m]\u001b[49m\u001b[43m}\u001b[49m\u001b[43m,\u001b[49m\n\u001b[1;32m      6\u001b[0m \u001b[43m    \u001b[49m\u001b[43mv_y\u001b[49m\u001b[43m \u001b[49m\u001b[38;5;241;43m=\u001b[39;49m\u001b[43m \u001b[49m\u001b[43mconsumption_v_y\u001b[49m\n\u001b[1;32m      7\u001b[0m \u001b[43m)\u001b[49m\n",
      "File \u001b[0;32m~/projects/HARK/HARK/stage.py:174\u001b[0m, in \u001b[0;36mStage.optimal_policy\u001b[0;34m(self, x_grid, k_grid, v_y, optimizer_args)\u001b[0m\n\u001b[1;32m    170\u001b[0m k_vals \u001b[38;5;241m=\u001b[39m {k : v \u001b[38;5;28;01mfor\u001b[39;00m k, v \u001b[38;5;129;01min\u001b[39;00m \u001b[38;5;28mzip\u001b[39m(k_grid\u001b[38;5;241m.\u001b[39mkeys() , k_point)}\n\u001b[1;32m    172\u001b[0m acts \u001b[38;5;241m=\u001b[39m \u001b[38;5;28mself\u001b[39m\u001b[38;5;241m.\u001b[39mpi_star_points[(x_point, k_point)]\n\u001b[0;32m--> 174\u001b[0m q \u001b[38;5;241m=\u001b[39m \u001b[38;5;241m-\u001b[39m\u001b[43mq_for_minimizer\u001b[49m\u001b[43m(\u001b[49m\u001b[43macts\u001b[49m\u001b[43m,\u001b[49m\u001b[43m \u001b[49m\u001b[43mx_vals\u001b[49m\u001b[43m,\u001b[49m\u001b[43m \u001b[49m\u001b[43mk_vals\u001b[49m\u001b[43m,\u001b[49m\u001b[43m \u001b[49m\u001b[43mv_y\u001b[49m\u001b[43m)\u001b[49m\n\u001b[1;32m    176\u001b[0m pi_data\u001b[38;5;241m.\u001b[39msel(\u001b[38;5;241m*\u001b[39m\u001b[38;5;241m*\u001b[39mx_vals, \u001b[38;5;241m*\u001b[39m\u001b[38;5;241m*\u001b[39mk_vals)\u001b[38;5;241m.\u001b[39mvariable\u001b[38;5;241m.\u001b[39mdata\u001b[38;5;241m.\u001b[39mput(\u001b[38;5;241m0\u001b[39m, acts)\n\u001b[1;32m    177\u001b[0m q_data\u001b[38;5;241m.\u001b[39msel(\u001b[38;5;241m*\u001b[39m\u001b[38;5;241m*\u001b[39mx_vals, \u001b[38;5;241m*\u001b[39m\u001b[38;5;241m*\u001b[39mk_vals)\u001b[38;5;241m.\u001b[39mvariable\u001b[38;5;241m.\u001b[39mdata\u001b[38;5;241m.\u001b[39mput(\n\u001b[1;32m    178\u001b[0m     \u001b[38;5;241m0\u001b[39m, q\n\u001b[1;32m    179\u001b[0m )\n",
      "File \u001b[0;32m~/projects/HARK/HARK/stage.py:157\u001b[0m, in \u001b[0;36mStage.optimal_policy.<locals>.q_for_minimizer\u001b[0;34m(action_values, x, k, v_y)\u001b[0m\n\u001b[1;32m    155\u001b[0m \u001b[38;5;28;01mdef\u001b[39;00m \u001b[38;5;21mq_for_minimizer\u001b[39m(action_values, x : Mapping[\u001b[38;5;28mstr\u001b[39m, Any] , k : Mapping[\u001b[38;5;28mstr\u001b[39m, Any], v_y):\n\u001b[1;32m    156\u001b[0m     \u001b[38;5;124;03m\"\"\"Flips negative for the _minimizer_\"\"\"\u001b[39;00m\n\u001b[0;32m--> 157\u001b[0m     \u001b[38;5;28;01mreturn\u001b[39;00m \u001b[38;5;241m-\u001b[39m\u001b[38;5;28;43mself\u001b[39;49m\u001b[38;5;241;43m.\u001b[39;49m\u001b[43mq\u001b[49m\u001b[43m(\u001b[49m\n\u001b[1;32m    158\u001b[0m \u001b[43m        \u001b[49m\u001b[43mx\u001b[49m\u001b[43m \u001b[49m\u001b[38;5;241;43m=\u001b[39;49m\u001b[43m \u001b[49m\u001b[43mx\u001b[49m\u001b[43m,\u001b[49m\n\u001b[1;32m    159\u001b[0m \u001b[43m        \u001b[49m\u001b[43mk\u001b[49m\u001b[43m \u001b[49m\u001b[38;5;241;43m=\u001b[39;49m\u001b[43m \u001b[49m\u001b[43mk\u001b[49m\u001b[43m,\u001b[49m\n\u001b[1;32m    160\u001b[0m \u001b[43m        \u001b[49m\u001b[43ma\u001b[49m\u001b[43m \u001b[49m\u001b[38;5;241;43m=\u001b[39;49m\u001b[43m \u001b[49m\u001b[43m{\u001b[49m\u001b[43man\u001b[49m\u001b[43m \u001b[49m\u001b[43m:\u001b[49m\u001b[43m \u001b[49m\u001b[43mav\u001b[49m\u001b[43m \u001b[49m\u001b[38;5;28;43;01mfor\u001b[39;49;00m\u001b[43m \u001b[49m\u001b[43man\u001b[49m\u001b[43m,\u001b[49m\u001b[43mav\u001b[49m\u001b[43m \u001b[49m\u001b[38;5;129;43;01min\u001b[39;49;00m\u001b[43m \u001b[49m\u001b[38;5;28;43mzip\u001b[39;49m\u001b[43m(\u001b[49m\u001b[38;5;28;43mself\u001b[39;49m\u001b[38;5;241;43m.\u001b[39;49m\u001b[43mactions\u001b[49m\u001b[43m,\u001b[49m\u001b[43m \u001b[49m\u001b[43maction_values\u001b[49m\u001b[43m)\u001b[49m\u001b[43m}\u001b[49m\u001b[43m,\u001b[49m\n\u001b[1;32m    161\u001b[0m \u001b[43m        \u001b[49m\u001b[43mv_y\u001b[49m\u001b[43m \u001b[49m\u001b[38;5;241;43m=\u001b[39;49m\u001b[43m \u001b[49m\u001b[43mv_y\u001b[49m\n\u001b[1;32m    162\u001b[0m \u001b[43m    \u001b[49m\u001b[43m)\u001b[49m\n",
      "File \u001b[0;32m~/projects/HARK/HARK/stage.py:117\u001b[0m, in \u001b[0;36mStage.q\u001b[0;34m(self, x, k, a, v_y)\u001b[0m\n\u001b[1;32m    114\u001b[0m \u001b[38;5;28;01melif\u001b[39;00m callable(\u001b[38;5;28mself\u001b[39m\u001b[38;5;241m.\u001b[39mdiscount):\n\u001b[1;32m    115\u001b[0m     discount \u001b[38;5;241m=\u001b[39m \u001b[38;5;28mself\u001b[39m\u001b[38;5;241m.\u001b[39mdiscount(x, k, a)\n\u001b[0;32m--> 117\u001b[0m q \u001b[38;5;241m=\u001b[39m \u001b[38;5;28;43mself\u001b[39;49m\u001b[38;5;241;43m.\u001b[39;49m\u001b[43mreward\u001b[49m\u001b[43m(\u001b[49m\u001b[43mx\u001b[49m\u001b[43m,\u001b[49m\u001b[43m \u001b[49m\u001b[43mk\u001b[49m\u001b[43m,\u001b[49m\u001b[43m \u001b[49m\u001b[43ma\u001b[49m\u001b[43m)\u001b[49m \u001b[38;5;241m+\u001b[39m discount \u001b[38;5;241m*\u001b[39m v_y(\u001b[38;5;28mself\u001b[39m\u001b[38;5;241m.\u001b[39mT(x, k, a, constrain \u001b[38;5;241m=\u001b[39m \u001b[38;5;28;01mFalse\u001b[39;00m)) \n\u001b[1;32m    119\u001b[0m \u001b[38;5;66;03m#print(f'q: {q}')\u001b[39;00m\n\u001b[1;32m    120\u001b[0m \u001b[38;5;28;01mreturn\u001b[39;00m q\n",
      "Input \u001b[0;32mIn [10]\u001b[0m, in \u001b[0;36m<lambda>\u001b[0;34m(x, k, a)\u001b[0m\n\u001b[1;32m      1\u001b[0m CRRA \u001b[38;5;241m=\u001b[39m \u001b[38;5;241m5\u001b[39m\n\u001b[1;32m      3\u001b[0m consumption_stage \u001b[38;5;241m=\u001b[39m Stage(\n\u001b[1;32m      4\u001b[0m     transition \u001b[38;5;241m=\u001b[39m \u001b[38;5;28;01mlambda\u001b[39;00m x, k, a : {\u001b[38;5;124m'\u001b[39m\u001b[38;5;124ma\u001b[39m\u001b[38;5;124m'\u001b[39m : x[\u001b[38;5;124m'\u001b[39m\u001b[38;5;124mm\u001b[39m\u001b[38;5;124m'\u001b[39m] \u001b[38;5;241m-\u001b[39m a[\u001b[38;5;124m'\u001b[39m\u001b[38;5;124mc\u001b[39m\u001b[38;5;124m'\u001b[39m]}, \n\u001b[0;32m----> 5\u001b[0m     reward \u001b[38;5;241m=\u001b[39m \u001b[38;5;28;01mlambda\u001b[39;00m x, k, a : \u001b[43mCRRAutility\u001b[49m\u001b[43m(\u001b[49m\u001b[43ma\u001b[49m\u001b[43m[\u001b[49m\u001b[38;5;124;43m'\u001b[39;49m\u001b[38;5;124;43mc\u001b[39;49m\u001b[38;5;124;43m'\u001b[39;49m\u001b[43m]\u001b[49m\u001b[43m,\u001b[49m\u001b[43m \u001b[49m\u001b[43mCRRA\u001b[49m\u001b[43m)\u001b[49m, \n\u001b[1;32m      6\u001b[0m     inputs \u001b[38;5;241m=\u001b[39m [\u001b[38;5;124m'\u001b[39m\u001b[38;5;124mm\u001b[39m\u001b[38;5;124m'\u001b[39m], \n\u001b[1;32m      7\u001b[0m     actions \u001b[38;5;241m=\u001b[39m [\u001b[38;5;124m'\u001b[39m\u001b[38;5;124mc\u001b[39m\u001b[38;5;124m'\u001b[39m],\n\u001b[1;32m      8\u001b[0m     outputs \u001b[38;5;241m=\u001b[39m [\u001b[38;5;124m'\u001b[39m\u001b[38;5;124ma\u001b[39m\u001b[38;5;124m'\u001b[39m],\n\u001b[1;32m      9\u001b[0m     action_upper_bound \u001b[38;5;241m=\u001b[39m \u001b[38;5;28;01mlambda\u001b[39;00m x, k: (x[\u001b[38;5;124m'\u001b[39m\u001b[38;5;124mm\u001b[39m\u001b[38;5;124m'\u001b[39m],) , \n\u001b[1;32m     10\u001b[0m     action_lower_bound \u001b[38;5;241m=\u001b[39m \u001b[38;5;28;01mlambda\u001b[39;00m x, k: (epsilon,) , \u001b[38;5;66;03m# This is a kludge.\u001b[39;00m\n\u001b[1;32m     11\u001b[0m     \u001b[38;5;66;03m#constraints = [lambda x, k, a: x['m'] - a['c'],\u001b[39;00m\n\u001b[1;32m     12\u001b[0m     \u001b[38;5;66;03m#               lambda x, k, a: a['c'] - epsilon\u001b[39;00m\n\u001b[1;32m     13\u001b[0m     \u001b[38;5;66;03m#              ], # has to be nonnegative to clear\\n\"\u001b[39;00m\n\u001b[1;32m     14\u001b[0m     discount \u001b[38;5;241m=\u001b[39m \u001b[38;5;241m.96\u001b[39m, \u001b[38;5;66;03m# lambda x, k, a : .96 * k['psi']^(1 - CRRA) < --- \u001b[39;00m\n\u001b[1;32m     15\u001b[0m     optimizer_args \u001b[38;5;241m=\u001b[39m {\n\u001b[1;32m     16\u001b[0m         \u001b[38;5;124m'\u001b[39m\u001b[38;5;124mmethod\u001b[39m\u001b[38;5;124m'\u001b[39m : \u001b[38;5;124m'\u001b[39m\u001b[38;5;124mNelder-Mead\u001b[39m\u001b[38;5;124m'\u001b[39m,\n\u001b[1;32m     17\u001b[0m         \u001b[38;5;124m'\u001b[39m\u001b[38;5;124moptions\u001b[39m\u001b[38;5;124m'\u001b[39m : {\n\u001b[1;32m     18\u001b[0m             \u001b[38;5;124m'\u001b[39m\u001b[38;5;124mmaxiter\u001b[39m\u001b[38;5;124m'\u001b[39m: \u001b[38;5;241m50000\u001b[39m,\n\u001b[1;32m     19\u001b[0m         }\n\u001b[1;32m     20\u001b[0m     },\n\u001b[1;32m     21\u001b[0m     value_transform \u001b[38;5;241m=\u001b[39m np\u001b[38;5;241m.\u001b[39mexp,\n\u001b[1;32m     22\u001b[0m     value_transform_inv \u001b[38;5;241m=\u001b[39m np\u001b[38;5;241m.\u001b[39mlog,\n\u001b[1;32m     23\u001b[0m     \u001b[38;5;66;03m# For configuring the stage with given pi* values.\u001b[39;00m\n\u001b[1;32m     24\u001b[0m     pi_star_points \u001b[38;5;241m=\u001b[39m {((\u001b[38;5;241m0.0\u001b[39m,),()) : (\u001b[38;5;241m0.0\u001b[39m,)}\n\u001b[1;32m     25\u001b[0m )\n",
      "File \u001b[0;32m~/projects/HARK/HARK/utilities.py:141\u001b[0m, in \u001b[0;36mCRRAutility\u001b[0;34m(c, gam)\u001b[0m\n\u001b[1;32m    139\u001b[0m     \u001b[38;5;28;01mreturn\u001b[39;00m np\u001b[38;5;241m.\u001b[39mlog(c)\n\u001b[1;32m    140\u001b[0m \u001b[38;5;28;01melse\u001b[39;00m:\n\u001b[0;32m--> 141\u001b[0m     \u001b[38;5;28;01mreturn\u001b[39;00m \u001b[43mc\u001b[49m\u001b[43m \u001b[49m\u001b[38;5;241;43m*\u001b[39;49m\u001b[38;5;241;43m*\u001b[39;49m\u001b[43m \u001b[49m\u001b[43m(\u001b[49m\u001b[38;5;241;43m1.0\u001b[39;49m\u001b[43m \u001b[49m\u001b[38;5;241;43m-\u001b[39;49m\u001b[43m \u001b[49m\u001b[43mgam\u001b[49m\u001b[43m)\u001b[49m \u001b[38;5;241m/\u001b[39m (\u001b[38;5;241m1.0\u001b[39m \u001b[38;5;241m-\u001b[39m gam)\n",
      "\u001b[0;31mZeroDivisionError\u001b[0m: 0.0 cannot be raised to a negative power"
     ]
    }
   ],
   "source": [
    "def consumption_v_y(y : Mapping[str,Any]):\n",
    "    return 0\n",
    "\n",
    "pi_star, q = consumption_stage.optimal_policy(\n",
    "    {'m' : [9, 11, 20, 300, 1000]},\n",
    "    v_y = consumption_v_y\n",
    ")"
   ]
  },
  {
   "cell_type": "code",
   "execution_count": 12,
   "id": "66a85e85",
   "metadata": {},
   "outputs": [
    {
     "ename": "NameError",
     "evalue": "name 'q' is not defined",
     "output_type": "error",
     "traceback": [
      "\u001b[0;31m---------------------------------------------------------------------------\u001b[0m",
      "\u001b[0;31mNameError\u001b[0m                                 Traceback (most recent call last)",
      "Input \u001b[0;32mIn [12]\u001b[0m, in \u001b[0;36m<cell line: 1>\u001b[0;34m()\u001b[0m\n\u001b[0;32m----> 1\u001b[0m \u001b[43mq\u001b[49m\n",
      "\u001b[0;31mNameError\u001b[0m: name 'q' is not defined"
     ]
    }
   ],
   "source": [
    "q"
   ]
  },
  {
   "cell_type": "markdown",
   "id": "5510a25e",
   "metadata": {},
   "source": [
    "Because we picked the trivial output value function $v_y = 0$, the best policy is to consume all available resources."
   ]
  },
  {
   "cell_type": "code",
   "execution_count": null,
   "id": "59b0247b",
   "metadata": {},
   "outputs": [],
   "source": [
    "pi_star"
   ]
  },
  {
   "cell_type": "markdown",
   "id": "a3fc83eb",
   "metadata": {},
   "source": [
    "To compute a solution to the stage, the solver requires grids over the input and shock spaces as well as a output value function $v_y$."
   ]
  },
  {
   "cell_type": "code",
   "execution_count": null,
   "id": "16cd1120",
   "metadata": {},
   "outputs": [],
   "source": [
    "sol = consumption_stage.solve(\n",
    "    {'m' : np.linspace(epsilon,50,25)}, {},\n",
    "    v_y = consumption_v_y\n",
    ")"
   ]
  },
  {
   "cell_type": "markdown",
   "id": "9435564c",
   "metadata": {},
   "source": [
    "The 'solution object' is an `xarray.Dataset` coordinated over the state and shock spaces that includes data for the $v_x$ input state value function, optimal policy $\\pi^*$, and action-value function $q$."
   ]
  },
  {
   "cell_type": "code",
   "execution_count": null,
   "id": "2d785a60",
   "metadata": {},
   "outputs": [],
   "source": [
    "sol"
   ]
  },
  {
   "cell_type": "markdown",
   "id": "f1627fa2",
   "metadata": {},
   "source": [
    "### Allocation stage"
   ]
  },
  {
   "cell_type": "markdown",
   "id": "3d51084a",
   "metadata": {},
   "source": [
    "The allocation stage. Note that this is a trivial transition function.:\n",
    "\n",
    "* $\\alpha \\in A_1 = \\mathbb{R}$\n",
    "* $a \\in X_1 = \\mathbb{R}$\n",
    "* $(a, \\alpha) \\in Y_1 = \\mathbb{R}^2$\n",
    "* $\\Gamma_1$ ... restricts allocation $0 \\leq \\alpha \\leq 1$\n",
    "* $F_1(a,\\alpha) = 0$\n",
    "* $T_1(a,\\alpha) = (a, \\alpha)$\n",
    "* $\\beta_1 = 1 $"
   ]
  },
  {
   "cell_type": "code",
   "execution_count": null,
   "id": "dc5f908f",
   "metadata": {},
   "outputs": [],
   "source": [
    "allocation_stage = Stage(\n",
    "    transition = lambda x, k, a : {'a' : x['a'], 'alpha' : a['alpha']}, \n",
    "    inputs = ['a'], \n",
    "    actions = ['alpha'],\n",
    "    outputs = ['a', 'alpha'],\n",
    "    # Using bounds instead of constraints will result in a different optimizer\n",
    "    action_upper_bound = lambda x, k: (1,) , \n",
    "    action_lower_bound = lambda x, k: (0,) ,\n",
    "    value_transform = np.exp,\n",
    "    value_transform_inv = np.log\n",
    ")"
   ]
  },
  {
   "cell_type": "markdown",
   "id": "7e56f415",
   "metadata": {},
   "source": [
    "Optimize portfolio allocation $\\alpha$ with a more complex value function:"
   ]
  },
  {
   "cell_type": "code",
   "execution_count": null,
   "id": "4ffe9665",
   "metadata": {},
   "outputs": [],
   "source": [
    "def allocation_v_y(y : Mapping[str,Any]):\n",
    "    return 0\n",
    "\n",
    "pi_star, q = allocation_stage.optimal_policy(\n",
    "    {'a' : [9, 11, 20, 300, 4000, 5500]},\n",
    "    v_y = allocation_v_y\n",
    ")\n",
    "\n",
    "q"
   ]
  },
  {
   "cell_type": "code",
   "execution_count": null,
   "id": "e05df3a2",
   "metadata": {},
   "outputs": [],
   "source": [
    "pi_star"
   ]
  },
  {
   "cell_type": "markdown",
   "id": "6f8bffb9",
   "metadata": {},
   "source": [
    "### Growth stage"
   ]
  },
  {
   "cell_type": "markdown",
   "id": "74bd8a7c",
   "metadata": {},
   "source": [
    "The growth stage stage:\n",
    "\n",
    "* $A_2 = \\emptyset$\n",
    "* $(a, \\alpha) \\in X_2 = \\mathbb{R}^2$\n",
    "* $m \\in Y_0 = \\mathbb{R}$\n",
    "* Shocks:\n",
    "    * $\\psi \\sim \\text{Lognormal}(0,\\sigma_\\psi)$\n",
    "    * $\\theta \\sim \\text{Lognormal}(0,\\sigma_\\theta)$\n",
    "    * $\\eta \\sim \\text{Lognormal}(0,\\sigma_\\eta)$\n",
    "* $F_2(a,\\alpha) = 0$\n",
    "* $T_2(a,\\alpha) =  \\frac{(\\alpha \\eta + (1 - \\alpha) R) a + \\theta}{\\psi G} $ \n",
    "* $\\text{discount}(\\psi) = \\beta L \\psi^{1-\\rho}$ ?? where $L$ is chance to remain alive\n",
    "\n",
    "Requires parameters $R$ and $G$"
   ]
  },
  {
   "cell_type": "code",
   "execution_count": null,
   "id": "42275fd8",
   "metadata": {},
   "outputs": [],
   "source": [
    "R = 1.01\n",
    "G = 1.02\n",
    "\n",
    "sigma_psi = 1.05\n",
    "sigma_theta = 1.15\n",
    "sigma_eta = 1.1\n",
    "p_live = 0.98\n",
    "\n",
    "def growth_transition(x, k, a): \n",
    "    return {'m' : ((x['alpha'] * k['eta'] + (1 - x['alpha']) * R) \n",
    "                   * x['a'] + k['theta']) \n",
    "            / (k['psi'] * G)}\n",
    "\n",
    "growth_stage = Stage(\n",
    "    transition = growth_transition,\n",
    "    inputs = ['a', 'alpha'],\n",
    "    discount = lambda x, k, a: p_live * k['psi'] ** (1 - CRRA), \n",
    "    shocks = {\n",
    "        'psi' : distribution.Lognormal(0, sigma_psi),\n",
    "        'theta' : distribution.Lognormal(0, sigma_theta),\n",
    "        'eta' : distribution.Lognormal(0, sigma_eta),\n",
    "        # 'live' : distribution.Bernoulli(p_live) ## Not implemented for now\n",
    "    },\n",
    "    outputs = ['m'],\n",
    ")"
   ]
  },
  {
   "cell_type": "code",
   "execution_count": null,
   "id": "2e965e5c",
   "metadata": {},
   "outputs": [],
   "source": [
    "def growth_v_y(y : Mapping[str,Any]):\n",
    "    return CRRAutility(y['m'], CRRA) # * 'live' ?\n",
    "\n",
    "pi_star, q = growth_stage.optimal_policy(\n",
    "    {'a' : [300, 600],\n",
    "     'alpha' : [0, 1.0]\n",
    "    },\n",
    "    {'psi' : [1., 1.1], \n",
    "     'theta' : [1., 1.1], \n",
    "     'eta' : [1., 1.1],\n",
    "     # 'live' : [0, 1] \n",
    "    }, \n",
    "    v_y = growth_v_y)\n",
    "\n",
    "q"
   ]
  },
  {
   "cell_type": "markdown",
   "id": "657ad4ab",
   "metadata": {},
   "source": [
    "Because there are no actions to optimize, the $\\pi^*$ function data is 'not a number'."
   ]
  },
  {
   "cell_type": "code",
   "execution_count": null,
   "id": "613811fa",
   "metadata": {},
   "outputs": [],
   "source": [
    "pi_star"
   ]
  },
  {
   "cell_type": "code",
   "execution_count": null,
   "id": "64086685",
   "metadata": {
    "scrolled": true
   },
   "outputs": [],
   "source": [
    "sol = growth_stage.solve(\n",
    "    {'a' : [0, 500, 1000], 'alpha' : [0, 0.5, 1.0]},\n",
    "    {\n",
    "        'psi' : 4, \n",
    "        'theta' : 4, \n",
    "        'eta' : 4,\n",
    "     # 'live' : [0, 1] \n",
    "    }, growth_v_y)\n",
    "\n",
    "sol.dataset"
   ]
  },
  {
   "cell_type": "markdown",
   "id": "ab54e27c",
   "metadata": {},
   "source": [
    "Note that solving this stage involves computing over a large grid, as it is the product of the sizes of the input and shock spaces."
   ]
  },
  {
   "cell_type": "code",
   "execution_count": null,
   "id": "e8c95da5",
   "metadata": {},
   "outputs": [],
   "source": [
    "sol.dataset.map(np.exp)['v_x'].interp(a = 10, kwargs={\"fill_value\": 'extrapolate'}).to_dataset().map(np.log)['v_x']"
   ]
  },
  {
   "cell_type": "code",
   "execution_count": null,
   "id": "5c8697ea",
   "metadata": {},
   "outputs": [],
   "source": [
    "sol = growth_stage.solve(\n",
    "    {'a' : [epsilon, 250, 500, 750, 1000], 'alpha' : [epsilon, 0.2, 0.4, 0.6, 0.8, 1.0]},\n",
    "    {\n",
    "        'psi' : 4, \n",
    "        'theta' : 4, \n",
    "        'eta' : 4,\n",
    "     # 'live' : [0, 1] \n",
    "    }, growth_v_y)\n",
    "\n",
    "sol.v_x({'a' : 300, 'alpha' : 0.25})"
   ]
  },
  {
   "cell_type": "code",
   "execution_count": null,
   "id": "67909ee5",
   "metadata": {},
   "outputs": [],
   "source": [
    "sol.dataset.data_vars"
   ]
  },
  {
   "cell_type": "markdown",
   "id": "0f54acb8",
   "metadata": {},
   "source": [
    "## Solving in sequence"
   ]
  },
  {
   "cell_type": "code",
   "execution_count": null,
   "id": "5a14fc91",
   "metadata": {},
   "outputs": [],
   "source": [
    "x_grid = np.linspace(0,25,35)\n",
    "alpha_grid = np.linspace(0,1,15)\n",
    "\n",
    "shock_approx_params = {\n",
    "            'psi' : 5, \n",
    "            'theta' : 5, \n",
    "            'eta' : 5,\n",
    "        }"
   ]
  },
  {
   "cell_type": "markdown",
   "id": "9b239490",
   "metadata": {},
   "source": [
    "Solve the growth stage with the terminal utility of $0$."
   ]
  },
  {
   "cell_type": "code",
   "execution_count": null,
   "id": "dc2cc27b",
   "metadata": {},
   "outputs": [],
   "source": [
    "def growth_v_y_terminated(y : Mapping[str,Any]):\n",
    "    return 0\n",
    "\n",
    "g_sol = growth_stage.solve(\n",
    "    {'a' : x_grid, 'alpha' : alpha_grid},\n",
    "    shock_approx_params,\n",
    "    v_y = growth_v_y_terminated\n",
    ")"
   ]
  },
  {
   "cell_type": "markdown",
   "id": "b7f78912",
   "metadata": {},
   "source": [
    "Solve allocation stage with value function from previous step."
   ]
  },
  {
   "cell_type": "code",
   "execution_count": null,
   "id": "cd0eebbc",
   "metadata": {},
   "outputs": [],
   "source": [
    "a_sol = allocation_stage.solve(\n",
    "    {'a' : x_grid},\n",
    "    {},\n",
    "    v_y = g_sol.v_x\n",
    ")"
   ]
  },
  {
   "cell_type": "markdown",
   "id": "415cffe2",
   "metadata": {},
   "source": [
    "Solve the consumption stage with the value function from the previous step."
   ]
  },
  {
   "cell_type": "code",
   "execution_count": null,
   "id": "532673c0",
   "metadata": {},
   "outputs": [],
   "source": [
    "c_sol = consumption_stage.solve(\n",
    "    {'m' : x_grid},\n",
    "    {},\n",
    "    v_y = a_sol.v_x\n",
    ")"
   ]
  },
  {
   "cell_type": "markdown",
   "id": "17bc4a6f",
   "metadata": {},
   "source": [
    "The consumption function looks right! Consume all the resources!"
   ]
  },
  {
   "cell_type": "code",
   "execution_count": null,
   "id": "4a565fe0",
   "metadata": {},
   "outputs": [],
   "source": [
    "c_sol.dataset.data_vars['pi*'].plot(x='m')"
   ]
  },
  {
   "cell_type": "markdown",
   "id": "f88c604c",
   "metadata": {},
   "source": [
    "The value function data does not support a good linear interpolation because the true function is so curved."
   ]
  },
  {
   "cell_type": "code",
   "execution_count": null,
   "id": "0fd49713",
   "metadata": {},
   "outputs": [],
   "source": [
    "c_sol.dataset.data_vars['v_x'].plot(marker=\"o\",ls=\":\",x='m')"
   ]
  },
  {
   "cell_type": "code",
   "execution_count": null,
   "id": "650bdc7b",
   "metadata": {},
   "outputs": [],
   "source": [
    "m = np.linspace(-3,25,500)\n",
    "plt.plot(m, c_sol.v_x({'m' : m}), label = 'v_x (with transform)')\n",
    "#c_sol.dataset.map(np.exp).data_vars['v_x'].plot(marker=\"o\",ls=\":\",x='m')\n",
    "#plt.plot(m, sols[0].v_x({'m' :m}), label = 'v_x')\n",
    "plt.legend()"
   ]
  },
  {
   "cell_type": "markdown",
   "id": "2588f521",
   "metadata": {},
   "source": [
    "**TODO**: Do the interpolation in the decurved space. (inverse utility)"
   ]
  },
  {
   "cell_type": "markdown",
   "id": "2f9e7b30",
   "metadata": {},
   "source": [
    "Now, let's do the next round."
   ]
  },
  {
   "cell_type": "code",
   "execution_count": null,
   "id": "5b002401",
   "metadata": {},
   "outputs": [],
   "source": [
    "g_sol = growth_stage.solve(\n",
    "    {'a' : x_grid, 'alpha' : alpha_grid},\n",
    "    shock_approx_params,\n",
    "    v_y = c_sol.v_x\n",
    ")"
   ]
  },
  {
   "cell_type": "code",
   "execution_count": null,
   "id": "442dd881",
   "metadata": {},
   "outputs": [],
   "source": [
    "g_sol.dataset.map(np.exp).data_vars['v_x'].plot(x=None)"
   ]
  },
  {
   "cell_type": "code",
   "execution_count": null,
   "id": "10c5b924",
   "metadata": {},
   "outputs": [],
   "source": [
    "m = np.linspace(-3,25,500)\n",
    "plt.plot(m, g_sol.v_x({'a' : m, 'alpha' : 0.5}), label = 'v_x (with transform)')\n",
    "plt.legend()"
   ]
  },
  {
   "cell_type": "code",
   "execution_count": null,
   "id": "c1adc620",
   "metadata": {},
   "outputs": [],
   "source": [
    "a_sol = allocation_stage.solve(\n",
    "    {'a' : x_grid},\n",
    "    {},\n",
    "    v_y = g_sol.v_x\n",
    ")"
   ]
  },
  {
   "cell_type": "code",
   "execution_count": null,
   "id": "29b878b3",
   "metadata": {},
   "outputs": [],
   "source": [
    "a_sol"
   ]
  },
  {
   "cell_type": "code",
   "execution_count": null,
   "id": "5f30e210",
   "metadata": {},
   "outputs": [],
   "source": [
    "a_sol.dataset.map(np.exp).data_vars['v_x'].plot(x=None)"
   ]
  },
  {
   "cell_type": "code",
   "execution_count": null,
   "id": "e1cd968f",
   "metadata": {},
   "outputs": [],
   "source": [
    "m = np.linspace(-3,25,500)\n",
    "plt.plot(m, a_sol.v_x({'a' : m}), label = 'v_x (with transform)')\n",
    "#c_sol.dataset.map(np.exp).data_vars['v_x'].plot(marker=\"o\",ls=\":\",x='m')\n",
    "#plt.plot(m, sols[0].v_x({'m' :m}), label = 'v_x')\n",
    "plt.legend()"
   ]
  },
  {
   "cell_type": "code",
   "execution_count": null,
   "id": "cb24b589",
   "metadata": {},
   "outputs": [],
   "source": [
    "a_sol.dataset.data_vars['pi*'].plot(x=None)"
   ]
  },
  {
   "cell_type": "code",
   "execution_count": null,
   "id": "ff075a5c",
   "metadata": {},
   "outputs": [],
   "source": [
    "c_sol = consumption_stage.solve(\n",
    "    {'m' : x_grid},\n",
    "    {},\n",
    "    v_y = a_sol.v_x\n",
    ")"
   ]
  },
  {
   "cell_type": "code",
   "execution_count": null,
   "id": "e6b25566",
   "metadata": {},
   "outputs": [],
   "source": [
    "c_sol.dataset.data_vars['v_x'].plot(x='m')"
   ]
  },
  {
   "cell_type": "code",
   "execution_count": null,
   "id": "bd2a1036",
   "metadata": {},
   "outputs": [],
   "source": [
    "c_sol.dataset.data_vars['pi*'].plot(x='m')"
   ]
  },
  {
   "cell_type": "markdown",
   "id": "a575c87d",
   "metadata": {},
   "source": [
    "## Curving the value function\n",
    "\n"
   ]
  },
  {
   "cell_type": "code",
   "execution_count": null,
   "id": "234370fb",
   "metadata": {},
   "outputs": [],
   "source": [
    "a_sol.dataset.data_vars['v_x']"
   ]
  },
  {
   "cell_type": "markdown",
   "id": "dd9a02f7",
   "metadata": {},
   "source": [
    "## Backward Induction Solver\n",
    "\n",
    "We chain together the stages and iterative solve each stage backwards, feeding $v_x$ into $v_y$, until convergence.\n",
    "\n",
    "We will use a very coarse grid to start with, for demonstration purposes."
   ]
  },
  {
   "cell_type": "code",
   "execution_count": null,
   "id": "3dfa076c",
   "metadata": {},
   "outputs": [],
   "source": [
    "stages_data = [\n",
    "    #{\n",
    "    #    'stage' : consumption_stage,\n",
    "    #   'x_grid' : {'m' : np.linspace(epsilon*2,50,25)},\n",
    "    #    'optimizer_args' :{\n",
    "    #        'a0f' : lambda x: x['m'] - epsilon\n",
    "    #    }\n",
    "    #},\n",
    "    {\n",
    "        'stage' : allocation_stage,\n",
    "        'x_grid' : {'a' : np.linspace(epsilon*2,50,25)},\n",
    "        'optimizer_args' :{}\n",
    "    },\n",
    "    {\n",
    "        'stage' : growth_stage,\n",
    "        'x_grid' : {\n",
    "            'a' : np.linspace(epsilon*2,50,25),\n",
    "            'alpha' : np.linspace(0,1,11)\n",
    "        },\n",
    "        'shock_approx_params' : {\n",
    "            'psi' : 3, \n",
    "            'theta' : 3, \n",
    "            'eta' : 3,\n",
    "        },\n",
    "    }\n",
    "]"
   ]
  },
  {
   "cell_type": "markdown",
   "id": "c4a0b30b",
   "metadata": {},
   "source": [
    "We can then solve each stage with backwards induction. Let's do this for one time-period, starting with the trivial terminal value function $v_y = 0$."
   ]
  },
  {
   "cell_type": "code",
   "execution_count": null,
   "id": "53dd10b5",
   "metadata": {},
   "outputs": [],
   "source": [
    "def growth_v_y_terminal(y : Mapping[str,Any]):\n",
    "    return 0"
   ]
  },
  {
   "cell_type": "code",
   "execution_count": null,
   "id": "95d00c90",
   "metadata": {
    "scrolled": true
   },
   "outputs": [],
   "source": [
    "sols = backwards_induction(stages_data, growth_v_y_terminal)"
   ]
  },
  {
   "cell_type": "code",
   "execution_count": null,
   "id": "c85cd3cb",
   "metadata": {},
   "outputs": [],
   "source": [
    "sols[0].v_x({'a' : 3})"
   ]
  },
  {
   "cell_type": "code",
   "execution_count": null,
   "id": "77149a01",
   "metadata": {},
   "outputs": [],
   "source": [
    "sol = consumption_stage.solve(\n",
    "    {'m' : np.linspace(epsilon*2,50,25)}, {},\n",
    "    v_y = sols[1].v_x\n",
    ")"
   ]
  },
  {
   "cell_type": "code",
   "execution_count": null,
   "id": "bea2bbfa",
   "metadata": {},
   "outputs": [],
   "source": [
    "sol.dataset.data_vars['v_x']"
   ]
  },
  {
   "cell_type": "code",
   "execution_count": null,
   "id": "f437eec7",
   "metadata": {},
   "outputs": [],
   "source": [
    "sols[1].dataset.data_vars['v_x'].plot(x='a')"
   ]
  },
  {
   "cell_type": "code",
   "execution_count": null,
   "id": "ca0e34d1",
   "metadata": {},
   "outputs": [],
   "source": [
    "sols[1].v_x({'a' : 8.333499999999999 - 8.12633439})"
   ]
  },
  {
   "cell_type": "code",
   "execution_count": null,
   "id": "f70a932e",
   "metadata": {},
   "outputs": [],
   "source": [
    "sols[0].v_x({'m' : np.linspace(epsilon,50,25)})"
   ]
  },
  {
   "cell_type": "markdown",
   "id": "37334892",
   "metadata": {},
   "source": [
    "We can then retrieve the solution object for the first stage, a consumption stage."
   ]
  },
  {
   "cell_type": "code",
   "execution_count": null,
   "id": "d891dfe5",
   "metadata": {},
   "outputs": [],
   "source": [
    "sols[0]"
   ]
  },
  {
   "cell_type": "markdown",
   "id": "9b07891f",
   "metadata": {},
   "source": [
    "We find that as expected, the optimal policy $\\pi^*$ of the consumption stage is to consume all available resources."
   ]
  },
  {
   "cell_type": "code",
   "execution_count": null,
   "id": "d8f8d786",
   "metadata": {},
   "outputs": [],
   "source": [
    "sols[0].dataset.data_vars['pi*'].plot(x='m')"
   ]
  },
  {
   "cell_type": "markdown",
   "id": "d11298b5",
   "metadata": {},
   "source": [
    "Next, we can take the _input_ value function $v_x$ of this consumption stage, and use it as the final _output_ function for another round of backwards induction.\n",
    "\n",
    "First, let's look at $v_x$. It is a close approximation of the reward function for the consumption stage.\n",
    "This is expected!"
   ]
  },
  {
   "cell_type": "code",
   "execution_count": null,
   "id": "6c2ff5f8",
   "metadata": {},
   "outputs": [],
   "source": [
    "f = lambda c : consumption_stage.reward({},{}, {'c':c})\n",
    "m = np.linspace(1,25,200)\n",
    "plt.plot(m, f(m), label = 'R')\n",
    "plt.plot(m, sols[0].v_x({'m' :m}), label = 'v_x')\n",
    "plt.legend()\n",
    "#sols[0].dataset.data_vars['v_x'].plot(x='m', ax = ax)"
   ]
  },
  {
   "cell_type": "markdown",
   "id": "55ae6e69",
   "metadata": {},
   "source": [
    "Now we can run backwards induction with the new (penultimate) value function:"
   ]
  },
  {
   "cell_type": "code",
   "execution_count": null,
   "id": "f096d8f1",
   "metadata": {},
   "outputs": [],
   "source": [
    "sols = backwards_induction(stages_data, sols[0].v_x)"
   ]
  },
  {
   "cell_type": "markdown",
   "id": "8908bd3e",
   "metadata": {},
   "source": [
    "Now we have a new consumption function!\n",
    "\n",
    "It is not smooth because of the coarseness of the discretization grid."
   ]
  },
  {
   "cell_type": "code",
   "execution_count": null,
   "id": "1ec0eff9",
   "metadata": {},
   "outputs": [],
   "source": [
    "sols[0].dataset.data_vars['pi*'].plot(x='m')"
   ]
  },
  {
   "cell_type": "markdown",
   "id": "1ace3c75",
   "metadata": {},
   "source": [
    "#### Alternative Composition: splitting independent shocks\n",
    "\n",
    "Above, we found that the growth stage had a very large grid because of the size of the shock space. One optimization we can do with generalized Bellman stages is break down the effects of each independent shock into a separate stage.\n",
    "\n",
    "\n",
    "#### $\\eta$ Risky growth\n",
    "\n",
    "The growth stage stage:\n",
    "\n",
    "* $A_2 = \\emptyset$\n",
    "* $(a, \\alpha) \\in X_2 = \\mathbb{R}^2$\n",
    "* $a_\\eta \\in Y_0 = \\mathbb{R}$\n",
    "* Shocks:\n",
    "    * $\\eta \\sim \\text{Lognormal}(0,\\sigma_\\eta)$\n",
    "* $F_2(a,\\alpha) = 0$\n",
    "* $T_2(a,\\alpha) =  \\alpha \\eta + (1 - \\alpha) R$\n",
    "* $\\beta = L$\n",
    "\n",
    "Requires parameter $R$.\n",
    "\n",
    "#### $\\theta$ Transitory Growth\n",
    "\n",
    "* $A_2 = \\emptyset$\n",
    "* $a_\\eta \\in X_2 = \\mathbb{R}$\n",
    "* $a_\\theta \\in Y_0 = \\mathbb{R}$\n",
    "* Shocks:\n",
    "    * $\\theta \\sim \\text{Lognormal}(0,\\sigma_\\theta)$\n",
    "* $F_2(a,\\alpha) = 0$\n",
    "* $T_2(a,\\alpha) =  a_\\eta + \\theta$ \n",
    "\n",
    "#### $\\psi$ Permanent growth\n",
    "\n",
    "* $A_2 = \\emptyset$\n",
    "* $a_\\theta \\in X_2 = \\mathbb{R}$\n",
    "* $m \\in Y_0 = \\mathbb{R}$\n",
    "* Shocks:\n",
    "    * $\\psi \\sim \\text{Lognormal}(0,\\sigma_\\psi)$\n",
    "* $F_2(a,\\alpha) = 0$\n",
    "* $T_2(a,\\alpha) =  \\frac{a_\\theta}{R\\psi}$\n",
    "* $\\beta(\\psi) = \\psi^{1 - \\rho}$ ??"
   ]
  },
  {
   "cell_type": "code",
   "execution_count": null,
   "id": "097c62e2",
   "metadata": {},
   "outputs": [],
   "source": [
    "def risky_growth_transition(x, k, a): \n",
    "    return {'a_eta' : ((x['alpha'] * k['eta'] + (1 - x['alpha']) * R))}\n",
    "\n",
    "risky_growth_stage = Stage(\n",
    "    transition = growth_transition,\n",
    "    inputs = ['a', 'alpha'],\n",
    "    discount = lambda x, k, a: p_live, \n",
    "    shocks = {\n",
    "        'eta' : distribution.Lognormal(0, sigma_eta),\n",
    "        # 'live' : distribution.Bernoulli(p_live) ## Not implemented for now\n",
    "    },\n",
    "    outputs = ['a_eta'],\n",
    ")\n",
    "\n",
    "transitory_growth_stage = Stage(\n",
    "    transition = lambda x, k, a : {'a_theta' : (x['a_eta'] + k['theta'])},\n",
    "    inputs = ['a_eta'],\n",
    "    shocks = {\n",
    "        'theta' : distribution.Lognormal(0, sigma_theta),\n",
    "        # 'live' : distribution.Bernoulli(p_live) ## Not implemented for now\n",
    "    },\n",
    "    outputs = ['a_theta'],\n",
    ")\n",
    "\n",
    "permanent_growth_stage = Stage(\n",
    "    transition = lambda x, k, a : {'a_theta' : (x['a_theta'] / ( k['psi'] * G))},\n",
    "    inputs = ['a_theta'],\n",
    "    discount = lambda x, k, a: k['psi'] ** (1 - CRRA), \n",
    "    shocks = {\n",
    "        'psi' : distribution.Lognormal(0, sigma_psi),\n",
    "        # 'live' : distribution.Bernoulli(p_live) ## Not implemented for now\n",
    "    },\n",
    "    outputs = ['m'],\n",
    ")"
   ]
  }
 ],
 "metadata": {
  "kernelspec": {
   "display_name": "hark-env",
   "language": "python",
   "name": "hark-env"
  },
  "language_info": {
   "codemirror_mode": {
    "name": "ipython",
    "version": 3
   },
   "file_extension": ".py",
   "mimetype": "text/x-python",
   "name": "python",
   "nbconvert_exporter": "python",
   "pygments_lexer": "ipython3",
   "version": "3.10.6"
  },
  "latex_envs": {
   "LaTeX_envs_menu_present": true,
   "autoclose": false,
   "autocomplete": true,
   "bibliofile": "biblio.bib",
   "cite_by": "apalike",
   "current_citInitial": 1,
   "eqLabelWithNumbers": true,
   "eqNumInitial": 1,
   "hotkeys": {
    "equation": "Ctrl-E",
    "itemize": "Ctrl-I"
   },
   "labels_anchors": false,
   "latex_user_defs": false,
   "report_style_numbering": false,
   "user_envs_cfg": false
  },
  "toc": {
   "base_numbering": 1,
   "nav_menu": {},
   "number_sections": true,
   "sideBar": true,
   "skip_h1_title": false,
   "title_cell": "Table of Contents",
   "title_sidebar": "Contents",
   "toc_cell": false,
   "toc_position": {},
   "toc_section_display": true,
   "toc_window_display": false
  }
 },
 "nbformat": 4,
 "nbformat_minor": 5
}
