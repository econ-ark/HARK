{
 "cells": [
  {
   "cell_type": "markdown",
   "id": "c7021446",
   "metadata": {},
   "source": [
    "In this notebook we will generalize [these notes](http://www.econ2.jhu.edu/people/ccarroll/public/lecturenotes/consumption/Envelope/) about the Envelope Theorem to abstract Bellman stages."
   ]
  },
  {
   "cell_type": "markdown",
   "id": "6a722923",
   "metadata": {},
   "source": [
    "Recall that an abstact Bellman stage is defined as a tuple $S = (\\vec{X}, P_\\vec{K}, \\vec{A}, \\Gamma, F, \\vec{Y}, T, B)$.\n",
    "\n",
    "## Defining the value function\n",
    "\n",
    "The agent will choose the action $\\vec{a} \\in \\vec{A}$ that optimizes their beginning of stage value $v_x$ given an end-of-stage value function $v_y$.\n",
    "\n",
    "Given the output value function $v_y : \\vec{Y} \\rightarrow \\mathbb{R}$, the action-value function $q$ is defined as:\n",
    "\n",
    "$$q(\\vec{x}, \\vec{k}, \\vec{a}) = F(\\vec{x}, \\vec{k}, \\vec{a}) + B(\\vec{x},\\vec{k},\\vec{a}) v_y(T(\\vec{x}, \\vec{k}, \\vec{a}))$$\n",
    "\n",
    "$$v_x(\\vec{x}) = \\mathbb{E}_{\\vec{k} \\in \\vec{K}}[ \\text{max}_{\\vec{a}}  q(\\vec{x}, \\vec{k}, \\vec{a}, \\vec{k}))]$$\n",
    "\n",
    "(This corresponds to **Equation 3** in the notes.)\n",
    "\n",
    "The optimal policy $\\pi: \\vec{X} \\times \\vec{K} \\rightarrow \\vec{A}$ is:\n",
    "\n",
    "$$\\pi^*(\\vec{x}, \\vec{k}) = \\underset{\\vec{a} \\in \\Gamma(\\vec{x}, \\vec{k})}{\\mathrm{argmax}} q(\\vec{x}, \\vec{k}, \\vec{a})$$\n",
    "\n",
    "With the optimal policy $\\pi^*$ in hand, it is possible to compute the input value function $v_x: \\vec{X} \\rightarrow \\mathbb{R}$. \n",
    "\n",
    "$$v_x(\\vec{x}) = \\mathbb{E}_{\\vec{k} \\in \\vec{K}}[q(\\vec{x}, \\vec{k}, \\pi^*(\\vec{x}, \\vec{k}))]$$"
   ]
  },
  {
   "cell_type": "markdown",
   "id": "01e9d445",
   "metadata": {},
   "source": [
    "## First order condition\n",
    "\n",
    "Given: **TODO: Use partials throughout here, or super- derivative notation.**\n",
    "\n",
    " - $v'_y : Y \\rightarrow \\mathbb{R}$ is the marginal value of output states with respect to actions.\n",
    " - A marginal reward function $F^a = \\frac{\\partial F}{\\partial \\vec{a}}$\n",
    " - A marginal transition function $T^a = \\frac{\\partial T}{\\partial \\vec{a}}$\n",
    " - A discount factor $B$ such that $B^a = \\frac{\\partial B}{\\partial a} = 0$, i.e. because it is constant.\n",
    " \n",
    "Assuming the $q$ function is concave, then the optimal $\\pi^*(\\vec{x}, \\vec{k}) \\in \\vec{A}$ will satisfy the first order condition (FOC). This condition is that the marginal action value function $q^a =  \\frac{\\partial q}{\\partial \\vec{a}}$ is 0:\n",
    "\n",
    "$$0 = \\frac{\\partial q}{\\partial \\vec{a}}(\\vec{x}, \\vec{k}, \\vec{a}) = F^a(\\vec{x}, \\vec{k}, \\vec{a}) + B(\\vec{x},\\vec{k},\\vec{a}) v'_y(T(\\vec{x}, \\vec{k}, \\vec{a}))T^a(\\vec{x}, \\vec{k}, \\vec{a})$$\n",
    "\n",
    "(This condition is more complex if $B$ depends on the actions because of the Product Rule of differentiation.)"
   ]
  },
  {
   "cell_type": "markdown",
   "id": "1c243284",
   "metadata": {},
   "source": [
    "Thus:\n",
    "\n",
    "$$F^a(\\vec{x}, \\vec{k}, \\vec{a}) = - B(\\vec{x},\\vec{k},\\vec{a}) v'_y(T(\\vec{x}, \\vec{k}, \\vec{a}))T^a(\\vec{x}, \\vec{k}, \\vec{a})$$\n",
    "\n",
    "(This is, roughly, **Equation 4** in the notes.)"
   ]
  },
  {
   "cell_type": "markdown",
   "id": "430dd526",
   "metadata": {},
   "source": [
    "Under the right conditions, this can be solved with a numerical solver to get the optimal policy $\\pi^*$.\n",
    "\n",
    "However a puzzle remains if this method is to be used to solve a problem that has been decomposed into a series of stages recursively: Given $v'_y$ and $\\pi^*$, how does one recover the marginal beginning-of-stage value function $v'_x$? This can be derived using the Envelope condition."
   ]
  },
  {
   "cell_type": "markdown",
   "id": "87557d6f",
   "metadata": {},
   "source": [
    "## Envelope condition\n",
    "\n",
    "Consider again the state-action value function $q$. We now want to know its derivative with respect to the beginning-of-stage states.\n",
    "\n",
    "$$\\frac{\\partial q}{\\partial \\vec{x}} = \\frac{\\partial F}{\\partial \\vec{x}}(\\vec{x}, \\vec{k}, \\vec{a}) + \\frac{\\partial B}{\\partial \\vec{x}}(\\vec{x},\\vec{k},\\vec{a}) v_y(T(\\vec{x}, \\vec{k}, \\vec{a})) + B(\\vec{x},\\vec{k},\\vec{a}) \\frac{\\partial v_y}{\\partial \\vec{x}}(T(\\vec{x}, \\vec{k}, \\vec{a}))\\frac{\\partial T}{\\partial \\vec{x}}(\\vec{x}, \\vec{k}, \\vec{a})$$\n",
    "\n",
    "Given:\n",
    "\n",
    " - A reward function such that $\\frac{\\partial F}{\\partial \\vec{x}} = 0$\n",
    " - A discount factor such that $\\frac{\\partial B}{\\partial x} = 0$.\n",
    "\n",
    "This simplifies to:\n",
    "\n",
    "$$\\frac{\\partial q}{\\partial \\vec{x}} = B(\\vec{x},\\vec{k},\\vec{a}) v'_y(T(\\vec{x}, \\vec{k}, \\vec{a}))\\frac{\\partial T}{\\partial \\vec{x}}(\\vec{x}, \\vec{k}, \\vec{a})$$\n",
    "\n",
    "(This corresponds to **Equation 8** in the notes)."
   ]
  },
  {
   "cell_type": "markdown",
   "id": "23bfd283",
   "metadata": {},
   "source": [
    "Note that:\n",
    "\n",
    "$$v_x(\\vec{x}) = \\mathbb{E}[q(\\vec{x}, \\vec{k}, \\pi^*(\\vec{x}, \\vec{k}))]$$\n",
    "\n",
    "(This corresponds to **Equation 9** in the notes)."
   ]
  },
  {
   "cell_type": "markdown",
   "id": "7a35f312",
   "metadata": {},
   "source": [
    "By the Chain Rule:\n",
    "\n",
    "$$v'_x(\\vec{x}) \\equiv \\frac{\\partial v_x}{\\partial \\vec{x}} = \\mathbb{E}\\left[\\frac{\\partial q}{\\partial \\vec{x}}(\\vec{x}, \\vec{k}, \\pi^*(\\vec{x}, \\vec{k})) + \\frac{\\partial \\pi^*}{\\partial \\vec{a}}(\\vec{x}, \\vec{k})\\frac{\\partial q}{\\partial \\vec{a}}(\\vec{x}, \\vec{k}, \\pi^*(\\vec{x}, \\vec{k}))\\right]$$\n",
    "\n",
    "(This corresponds to **Equation 10** in the notes).\n",
    "\n",
    "Note that this depends on the term $\\frac{\\partial \\pi^*}{\\partial \\vec{a}}(\\vec{x}, \\vec{k})$, which we don't have! Luckily, we don't need it, because of the Envelope theorem.\n",
    "\n"
   ]
  },
  {
   "cell_type": "markdown",
   "id": "1f5165bb",
   "metadata": {},
   "source": [
    "We know that, from the FOC:\n",
    "\n",
    "$$0 = \\frac{\\partial q}{\\partial \\vec{a}}(\\vec{x}, \\vec{k}, \\pi^*(\\vec{x}))$$"
   ]
  },
  {
   "cell_type": "markdown",
   "id": "f67090ad",
   "metadata": {},
   "source": [
    "So the marginal starting value function simplifies to:\n",
    "\n",
    "$$\\frac{\\partial v_x}{\\partial \\vec{x}} = \\mathbb{E}\\left[\\frac{\\partial q}{\\partial \\vec{x}}(\\vec{x}, \\pi^*(\\vec{x}, \\vec{k}))\\right] = \\mathbb{E}[B(\\vec{x},\\vec{k},\\pi^*(\\vec{x}, \\vec{k})) v'_y(T(\\vec{x}, \\vec{k}, \\pi^*(\\vec{x}, \\vec{k})))T^x(\\vec{x}, \\vec{k},\\pi^*(\\vec{x}, \\vec{k}))]$$\n",
    "\n",
    "(Corresponding to **Equation 11**.)\n"
   ]
  },
  {
   "cell_type": "markdown",
   "id": "962c19b0",
   "metadata": {},
   "source": [
    "\n",
    "Note the similarity to the balanced FOC:\n",
    "\n",
    "$$F^a(\\vec{x}, \\vec{k}, \\pi^*(\\vec{x}, \\vec{k})) = - B(\\vec{x},\\vec{k},\\pi^*(\\vec{x}, \\vec{k})) v'_y(T(\\vec{x}, \\vec{k}, \\pi^*(\\vec{x}, \\vec{k})))T^a(\\vec{x}, \\vec{k}, \\pi^*(\\vec{x}, \\vec{k}))$$\n",
    "\n",
    "Thus:\n",
    "\n",
    "$$B(\\vec{x},\\vec{k},\\pi^*(\\vec{x}, \\vec{k})) v'_y(T(\\vec{x}, \\vec{k}, \\pi^*(\\vec{x}, \\vec{k})))T^x(\\vec{x}, \\vec{k}, \\pi^*(\\vec{x}, \\vec{k})) = - \\frac{T^x(\\vec{x}, \\vec{k}, \\pi^*(\\vec{x}, \\vec{k}))}{T^a(\\vec{x}, \\vec{k}, \\pi^*(\\vec{x}, \\vec{k}))} F^a(\\vec{x}, \\vec{k}, \\pi^*(\\vec{x}, \\vec{k})) $$"
   ]
  },
  {
   "cell_type": "markdown",
   "id": "4617a492",
   "metadata": {},
   "source": [
    "We can then plug this expression into the formula for $v'_x$:\n",
    "\n",
    "$$v'_x(\\vec{x}) = \\mathbb{E}\\left[- \\frac{T^x(\\vec{x}, \\vec{k}, \\pi^*(\\vec{x}, \\vec{k}))}{T^a(\\vec{x}, \\vec{k}, \\pi^*(\\vec{x}, \\vec{k}))} F^a(\\vec{x}, \\vec{k}, \\pi^*(\\vec{x}, \\vec{k})) \\right]$$"
   ]
  },
  {
   "cell_type": "markdown",
   "id": "fe72b4ae",
   "metadata": {},
   "source": [
    "This looks complicated! But consider the simple, common case where $y = x - a$. Under this condition:\n",
    "\n",
    "$$v'_x(\\vec{x}) = \\mathbb{E}\\left[F^a(\\vec{x}, \\vec{k}, \\pi^*(\\vec{x}, \\vec{k})) \\right]$$\n",
    "\n",
    "Which is what economists working with intertemporal consumption functions are used to seeing!"
   ]
  },
  {
   "cell_type": "markdown",
   "id": "d0b6d6a3",
   "metadata": {},
   "source": [
    "## References\n",
    "\n",
    "Carroll, C. 20**. The Envelope Theorem and the Euler Equation. http://www.econ2.jhu.edu/people/ccarroll/public/lecturenotes/consumption/Envelope/\n",
    "\n",
    "Parker, J.A., 2007. Euler equations. Prepared for the New Palgrave Dictionary of Economics, pp.1-6."
   ]
  },
  {
   "cell_type": "code",
   "execution_count": null,
   "id": "ae16c7c5",
   "metadata": {},
   "outputs": [],
   "source": []
  }
 ],
 "metadata": {
  "kernelspec": {
   "display_name": "hark-env",
   "language": "python",
   "name": "hark-env"
  },
  "language_info": {
   "codemirror_mode": {
    "name": "ipython",
    "version": 3
   },
   "file_extension": ".py",
   "mimetype": "text/x-python",
   "name": "python",
   "nbconvert_exporter": "python",
   "pygments_lexer": "ipython3",
   "version": "3.10.6"
  }
 },
 "nbformat": 4,
 "nbformat_minor": 5
}
