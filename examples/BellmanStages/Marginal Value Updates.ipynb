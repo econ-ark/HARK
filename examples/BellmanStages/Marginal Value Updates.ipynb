{
 "cells": [
  {
   "cell_type": "code",
   "execution_count": null,
   "id": "13961918",
   "metadata": {},
   "outputs": [],
   "source": [
    "c_sol_v_x_der = consumption_stage.solve_v_x_der(\n",
    "    {'m' : np.linspace(epsilon,50,25)}, {},\n",
    "    v_y_der = consumption_v_y_der\n",
    ")"
   ]
  },
  {
   "cell_type": "code",
   "execution_count": null,
   "id": "029e407f",
   "metadata": {},
   "outputs": [],
   "source": [
    "c_sol_v_x_der"
   ]
  },
  {
   "cell_type": "code",
   "execution_count": null,
   "id": "8a7e2488",
   "metadata": {},
   "outputs": [],
   "source": [
    "c_sol_v_x_der.dataset"
   ]
  },
  {
   "cell_type": "code",
   "execution_count": null,
   "id": "f91f0f14",
   "metadata": {},
   "outputs": [],
   "source": [
    "We can try to recover the value function by integrating the marginal value function but:\n",
    " - It takes time to compute each integral\n",
    " - It is off by an additive constant."
   ]
  },
  {
   "cell_type": "code",
   "execution_count": null,
   "id": "02f7c7cb",
   "metadata": {},
   "outputs": [],
   "source": [
    "from scipy.integrate import quad\n",
    "\n",
    "def c_v_x_der(m):\n",
    "    return c_sol_v_x_der.v_x_der({'m' : m})\n",
    "\n",
    "def int_c_v_x_der(m):\n",
    "    return quad(c_v_x_der, epsilon, m)[0]\n",
    "\n",
    "plt.figure()\n",
    "m = np.linspace(-3,8,40)\n",
    "## THIS IS TOO SLOW\n",
    "int_v_x_der = [int_c_v_x_der(n) for n in m]\n",
    "\n",
    "plt.plot(m, int_v_x_der, label = 'v_x integrated from v_x_der')\n",
    "plt.plot(m, c_sol_v_x.v_x({'m' :m}), label = 'v_x solved')\n",
    "plt.legend()\n",
    "print(int_v_x_der)"
   ]
  }
 ],
 "metadata": {
  "kernelspec": {
   "display_name": "hark-env",
   "language": "python",
   "name": "hark-env"
  },
  "language_info": {
   "codemirror_mode": {
    "name": "ipython",
    "version": 3
   },
   "file_extension": ".py",
   "mimetype": "text/x-python",
   "name": "python",
   "nbconvert_exporter": "python",
   "pygments_lexer": "ipython3",
   "version": "3.10.6"
  }
 },
 "nbformat": 4,
 "nbformat_minor": 5
}
