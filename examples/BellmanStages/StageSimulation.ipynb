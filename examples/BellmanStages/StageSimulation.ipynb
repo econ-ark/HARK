{
 "cells": [
  {
   "cell_type": "code",
   "execution_count": 4,
   "id": "234158f5",
   "metadata": {},
   "outputs": [],
   "source": [
    "from dataclasses import dataclass\n",
    "from HARK.distribution import Normal, Uniform\n",
    "from HARK.stage import Stage, simulate_stage\n",
    "import numpy as np"
   ]
  },
  {
   "cell_type": "markdown",
   "id": "0951cf47",
   "metadata": {},
   "source": [
    "The purpose of this notebook is to show how Stages can be linked together into a more complex simulation.\n",
    "\n",
    "We will not try to solve for optimal policies in this notebook -- this is only about constructing simulations!"
   ]
  },
  {
   "cell_type": "markdown",
   "id": "902044de",
   "metadata": {},
   "source": []
  },
  {
   "cell_type": "code",
   "execution_count": 12,
   "id": "8966bb56",
   "metadata": {},
   "outputs": [
    {
     "data": {
      "text/plain": [
       "({'p': array([18.82026173]), 'q': 16.464405117819744},\n",
       " {'a': array([354.20225158])},\n",
       " {'r': array([-318.91758473])},\n",
       " array([37.64052346]))"
      ]
     },
     "execution_count": 12,
     "metadata": {},
     "output_type": "execute_result"
    }
   ],
   "source": [
    "mu_p = 10\n",
    "sigma_p = 5\n",
    "\n",
    "l_q = 0\n",
    "u_q = 30\n",
    "\n",
    "demand_stage = Stage(\n",
    "    transition = lambda x, k, a : {'r' : k['p'] + k['q'] - a['a']}, \n",
    "    outputs = ['r'],\n",
    "    actions = ['a'],\n",
    "    shocks = {\n",
    "        'p' : Normal(mu_p, sigma_p),\n",
    "        'q' : Uniform(l_q, u_q)\n",
    "    },\n",
    "    reward = lambda x, k, a : k['p'] * 2\n",
    ")\n",
    "\n",
    "## TODO: Add this default policy to the library?\n",
    "simulate_stage(demand_stage, {}, lambda x, k : {'a' : k['p'] ** 2})"
   ]
  },
  {
   "cell_type": "code",
   "execution_count": null,
   "id": "eb338f51",
   "metadata": {},
   "outputs": [],
   "source": []
  }
 ],
 "metadata": {
  "kernelspec": {
   "display_name": "hark-env",
   "language": "python",
   "name": "hark-env"
  },
  "language_info": {
   "codemirror_mode": {
    "name": "ipython",
    "version": 3
   },
   "file_extension": ".py",
   "mimetype": "text/x-python",
   "name": "python",
   "nbconvert_exporter": "python",
   "pygments_lexer": "ipython3",
   "version": "3.10.6"
  }
 },
 "nbformat": 4,
 "nbformat_minor": 5
}
