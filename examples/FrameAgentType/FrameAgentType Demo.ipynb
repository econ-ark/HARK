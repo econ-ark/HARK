{
 "cells": [
  {
   "cell_type": "code",
   "execution_count": null,
   "metadata": {},
   "outputs": [],
   "source": [
    "import HARK.ConsumptionSaving.ConsPortfolioFrameModel as cpfm\n",
    "import HARK.ConsumptionSaving.ConsPortfolioModel as cpm\n",
    "\n",
    "from HARK.frame import Frame, draw_frame_model\n",
    "import numpy as np\n",
    "\n",
    "from HARK.rewards import (\n",
    "    CRRAutility,\n",
    ")"
   ]
  },
  {
   "cell_type": "markdown",
   "metadata": {},
   "source": [
    "The `FrameAgentType` is an alternative way to specify a model.\n",
    "\n",
    "The library contains a demonstration of this form of model, `ConsPortfolioFrameModel`, which is a replica of the `ConsPortfolioModel`.\n",
    "\n",
    "This notebook compares the results of simulations of the two models."
   ]
  },
  {
   "cell_type": "code",
   "execution_count": null,
   "metadata": {},
   "outputs": [],
   "source": [
    "pct = cpm.PortfolioConsumerType(T_sim=5000, AgentCount=200)\n",
    "pct.cycles = 0\n",
    "\n",
    "# Solve the model under the given parameters\n",
    "\n",
    "pct.solve()\n",
    "pct.track_vars += [\n",
    "    \"mNrm\",\n",
    "    \"cNrm\",\n",
    "    \"Share\",\n",
    "    \"aNrm\",\n",
    "    \"Risky\",\n",
    "    \"Adjust\",\n",
    "    \"PermShk\",\n",
    "    \"TranShk\",\n",
    "    \"bNrm\",\n",
    "    \"who_dies\",\n",
    "]\n",
    "\n",
    "pct.make_shock_history()\n",
    "pct.read_shocks = True\n",
    "\n",
    "pct.initialize_sim()\n",
    "\n",
    "pct.simulate()"
   ]
  },
  {
   "cell_type": "code",
   "execution_count": null,
   "metadata": {},
   "outputs": [],
   "source": [
    "pcft = cpfm.PortfolioConsumerFrameType(T_sim=5000, AgentCount=200, read_shocks=True)\n",
    "\n",
    "pcft.cycles = 0\n",
    "\n",
    "# Solve the model under the given parameters\n",
    "pcft.solve()\n",
    "\n",
    "pcft.track_vars += [\n",
    "    \"mNrm\",\n",
    "    \"cNrm\",\n",
    "    \"Share\",\n",
    "    \"aNrm\",\n",
    "    \"Adjust\",\n",
    "    \"PermShk\",\n",
    "    \"TranShk\",\n",
    "    \"bNrm\",\n",
    "    \"U\",\n",
    "]\n",
    "\n",
    "pcft.shock_history = pct.shock_history\n",
    "pcft.newborn_init_history = pct.newborn_init_history\n",
    "\n",
    "pcft.initialize_sim()\n",
    "\n",
    "pcft.simulate()"
   ]
  },
  {
   "cell_type": "code",
   "execution_count": null,
   "metadata": {},
   "outputs": [],
   "source": [
    "import matplotlib.pyplot as plt\n",
    "\n",
    "plt.plot(range(5000), pct.history[\"PermShk\"].mean(axis=1), label=\"original\")\n",
    "plt.plot(range(5000), pcft.history[\"PermShk\"].mean(axis=1), label=\"frames\", alpha=0.5)\n",
    "plt.legend()"
   ]
  },
  {
   "cell_type": "code",
   "execution_count": null,
   "metadata": {},
   "outputs": [],
   "source": [
    "plt.plot(range(5000), pct.history[\"TranShk\"].mean(axis=1), label=\"original\")\n",
    "plt.plot(range(5000), pcft.history[\"TranShk\"].mean(axis=1), label=\"frames\", alpha=0.5)\n",
    "plt.legend()"
   ]
  },
  {
   "cell_type": "code",
   "execution_count": null,
   "metadata": {},
   "outputs": [],
   "source": [
    "plt.plot(range(5000), pct.history[\"bNrm\"].mean(axis=1), label=\"original\")\n",
    "plt.plot(range(5000), pcft.history[\"bNrm\"].mean(axis=1), label=\"frames\", alpha=0.5)\n",
    "plt.legend()"
   ]
  },
  {
   "cell_type": "code",
   "execution_count": null,
   "metadata": {},
   "outputs": [],
   "source": [
    "# plt.plot(range(5000), pct.history['Risky'].mean(axis=1), label = 'original')\n",
    "# plt.plot(range(5000), pcft.history['Risky'].mean(axis=1), label = 'frames', alpha = 0.5)\n",
    "# plt.legend()"
   ]
  },
  {
   "cell_type": "code",
   "execution_count": null,
   "metadata": {},
   "outputs": [],
   "source": [
    "plt.plot(range(5000), pct.history[\"aNrm\"].mean(axis=1), label=\"original\")\n",
    "plt.plot(range(5000), pcft.history[\"aNrm\"].mean(axis=1), label=\"frames\", alpha=0.5)\n",
    "plt.legend()"
   ]
  },
  {
   "cell_type": "code",
   "execution_count": null,
   "metadata": {},
   "outputs": [],
   "source": [
    "plt.plot(range(5000), pct.history[\"mNrm\"].mean(axis=1), label=\"original\")\n",
    "plt.plot(range(5000), pcft.history[\"mNrm\"].mean(axis=1), label=\"frames\", alpha=0.5)\n",
    "plt.legend()"
   ]
  },
  {
   "cell_type": "code",
   "execution_count": null,
   "metadata": {},
   "outputs": [],
   "source": [
    "plt.plot(range(5000), pct.history[\"cNrm\"].mean(axis=1), label=\"original\")\n",
    "plt.plot(range(5000), pcft.history[\"cNrm\"].mean(axis=1), label=\"frames\", alpha=0.5)\n",
    "plt.legend()"
   ]
  },
  {
   "cell_type": "markdown",
   "metadata": {},
   "source": [
    "**TODO**: Handly Risky as an aggregate value."
   ]
  },
  {
   "cell_type": "code",
   "execution_count": null,
   "metadata": {},
   "outputs": [],
   "source": [
    "# pct.history['Risky'][:3, :3]"
   ]
  },
  {
   "cell_type": "code",
   "execution_count": null,
   "metadata": {},
   "outputs": [],
   "source": [
    "# pcft.history['Risky'][:3, :3]"
   ]
  },
  {
   "cell_type": "code",
   "execution_count": null,
   "metadata": {},
   "outputs": [],
   "source": [
    "plt.plot(range(5000), pct.history[\"Share\"].mean(axis=1), label=\"original\")\n",
    "plt.plot(range(5000), pcft.history[\"Share\"].mean(axis=1), label=\"frames\", alpha=0.5)\n",
    "plt.legend()"
   ]
  },
  {
   "cell_type": "code",
   "execution_count": null,
   "metadata": {},
   "outputs": [],
   "source": [
    "plt.plot(\n",
    "    range(5000), pcft.history[\"cNrm\"].mean(axis=1), label=\"frames - cNrm\", alpha=0.5\n",
    ")\n",
    "plt.plot(range(5000), pcft.history[\"U\"].mean(axis=1), label=\"frames - U\", alpha=0.5)\n",
    "plt.legend()"
   ]
  },
  {
   "cell_type": "code",
   "execution_count": null,
   "metadata": {},
   "outputs": [],
   "source": [
    "pcft.history[\"U\"]"
   ]
  },
  {
   "cell_type": "code",
   "execution_count": null,
   "metadata": {},
   "outputs": [],
   "source": [
    "pcft.history[\"U\"].mean(axis=1)"
   ]
  },
  {
   "cell_type": "code",
   "execution_count": null,
   "metadata": {},
   "outputs": [],
   "source": [
    "pcft.history[\"U\"][0, :]"
   ]
  },
  {
   "cell_type": "code",
   "execution_count": null,
   "metadata": {},
   "outputs": [],
   "source": [
    "pcft.history[\"cNrm\"][0, :]"
   ]
  },
  {
   "cell_type": "code",
   "execution_count": null,
   "metadata": {},
   "outputs": [],
   "source": [
    "pcft.parameters[\"CRRA\"]"
   ]
  },
  {
   "cell_type": "code",
   "execution_count": null,
   "metadata": {},
   "outputs": [],
   "source": [
    "CRRAutility(pcft.history[\"cNrm\"][0, :], 5)"
   ]
  },
  {
   "cell_type": "markdown",
   "metadata": {},
   "source": [
    "# Visualizing the Transition Equations"
   ]
  },
  {
   "cell_type": "markdown",
   "metadata": {},
   "source": [
    "Note that in the HARK `ConsIndShockModel`, from which the `ConsPortfolio` model inherits, the aggregate permanent shocks are considered to be portions of the permanent shocks experienced by the agents, not additions to those idiosyncratic shocks. Hence, they do not show up directly in the problem solved by the agent. This explains why the aggregate income levels are in a separarte component of the graph."
   ]
  },
  {
   "cell_type": "code",
   "execution_count": null,
   "metadata": {},
   "outputs": [],
   "source": [
    "draw_frame_model(pcft.model, figsize=(14, 12))"
   ]
  },
  {
   "cell_type": "markdown",
   "metadata": {},
   "source": [
    "# Building the Solver [INCOMPLETE]"
   ]
  },
  {
   "cell_type": "markdown",
   "metadata": {},
   "source": [
    "Preliminery work towards a generic solver for FramedAgentTypes."
   ]
  },
  {
   "cell_type": "code",
   "execution_count": null,
   "metadata": {},
   "outputs": [],
   "source": [
    "controls = [frame for frame in pcft.frames.values() if frame.control]"
   ]
  },
  {
   "cell_type": "code",
   "execution_count": null,
   "metadata": {},
   "outputs": [],
   "source": [
    "def get_expected_return_function(control: Frame):\n",
    "    # Input: a control frame\n",
    "    # Returns: function of the control variable (control frame target)\n",
    "    #      that returns the expected return, which is\n",
    "    #          the sum of:\n",
    "    #              - direct rewards\n",
    "    #              - expected value of next-frame states (not yet implemented)\n",
    "    #\n",
    "\n",
    "    rewards = [child for child in control.children if child.reward]\n",
    "    expected_values = []  # TODO\n",
    "\n",
    "    ## note: function signature is what's needed for scipy.optimize\n",
    "    def expected_return_function(x, *args):\n",
    "        ##   returns the sum of\n",
    "        ##     the reward functions evaluated in context of\n",
    "        ##       - parameters\n",
    "        ##       - the control variable input\n",
    "\n",
    "        # x - array of inputs, here the control frame target\n",
    "        # args - a tuple of other parameters needed to complete the function\n",
    "\n",
    "        expected_return = 0\n",
    "\n",
    "        for reward in rewards:\n",
    "            ## TODO: figuring out the ordering of `x` and `args` needed for multiple downstream scopes\n",
    "\n",
    "            local_context = {}\n",
    "\n",
    "            # indexing through the x and args values\n",
    "            i = 0\n",
    "            num_control_vars = None\n",
    "\n",
    "            # assumes that all frame scopes list model variables first, parameters later\n",
    "            # should enforce or clarify at the frame level.\n",
    "            for var in reward.scope:\n",
    "                if var in control.target:\n",
    "                    local_context[var] = x[i]\n",
    "                    i = i + 1\n",
    "                elif var in pcft.parameters:\n",
    "                    if num_control_vars is None:\n",
    "                        num_control_vars = i\n",
    "\n",
    "                    local_context[var] = args[i - num_control_vars]\n",
    "                    i = i + 1\n",
    "\n",
    "            # can `self` be implicit here?\n",
    "            expected_return += reward.transition(reward, **local_context)\n",
    "\n",
    "        return expected_return\n",
    "\n",
    "    return expected_return_function"
   ]
  },
  {
   "cell_type": "code",
   "execution_count": null,
   "metadata": {},
   "outputs": [],
   "source": [
    "def optimal_policy_function(control: Frame):\n",
    "    erf = get_expected_return_function(control)\n",
    "    constraints = (\n",
    "        control.constraints\n",
    "    )  ## these will reference the context of the control transition, including scope\n",
    "\n",
    "    ## Returns function:\n",
    "    ##   input: control frame scope\n",
    "    ##   output: result of scipy.optimize of the erf with respect to constraints\n",
    "    ##           getting the optimal input (control variable) value\n",
    "    return func"
   ]
  },
  {
   "cell_type": "code",
   "execution_count": null,
   "metadata": {},
   "outputs": [],
   "source": [
    "def approximate_optimal_policy_function(control, grid):\n",
    "    ## returns a new function:\n",
    "    ##   that is an interpolation over optimal_policy_function\n",
    "    ##   over the grid\n",
    "\n",
    "    return func"
   ]
  }
 ],
 "metadata": {
  "jupytext": {
   "formats": "ipynb,py:percent"
  },
  "kernelspec": {
   "display_name": "Python 3 (ipykernel)",
   "language": "python",
   "name": "python3"
  },
  "language_info": {
   "codemirror_mode": {
    "name": "ipython",
    "version": 3
   },
   "file_extension": ".py",
   "mimetype": "text/x-python",
   "name": "python",
   "nbconvert_exporter": "python",
   "pygments_lexer": "ipython3",
   "version": "3.10.12"
  },
  "latex_envs": {
   "LaTeX_envs_menu_present": true,
   "autoclose": false,
   "autocomplete": true,
   "bibliofile": "biblio.bib",
   "cite_by": "apalike",
   "current_citInitial": 1,
   "eqLabelWithNumbers": true,
   "eqNumInitial": 1,
   "hotkeys": {
    "equation": "Ctrl-E",
    "itemize": "Ctrl-I"
   },
   "labels_anchors": false,
   "latex_user_defs": false,
   "report_style_numbering": false,
   "user_envs_cfg": false
  },
  "toc": {
   "base_numbering": 1,
   "nav_menu": {},
   "number_sections": true,
   "sideBar": true,
   "skip_h1_title": false,
   "title_cell": "Table of Contents",
   "title_sidebar": "Contents",
   "toc_cell": false,
   "toc_position": {},
   "toc_section_display": true,
   "toc_window_display": false
  }
 },
 "nbformat": 4,
 "nbformat_minor": 4
}
