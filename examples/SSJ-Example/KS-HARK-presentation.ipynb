{
 "cells": [
  {
   "cell_type": "markdown",
   "id": "602e0365",
   "metadata": {},
   "source": [
    "# Solving Krusell Smith Model with HARK and SSJ\n",
    "\n",
    "By William Du"
   ]
  },
  {
   "cell_type": "code",
   "execution_count": null,
   "id": "46e98a1e",
   "metadata": {},
   "outputs": [],
   "source": [
    "%pip install sequence_jacobian -q"
   ]
  },
  {
   "cell_type": "code",
   "execution_count": null,
   "id": "58617d0d",
   "metadata": {},
   "outputs": [],
   "source": [
    "import time\n",
    "\n",
    "import matplotlib.pyplot as plt\n",
    "import numpy as np\n",
    "from scipy import optimize\n",
    "from sequence_jacobian import create_model, simple  # functions\n",
    "from sequence_jacobian.classes import JacobianDict, SteadyStateDict\n",
    "\n",
    "from HARK.ConsumptionSaving.ConsNewKeynesianModel import NewKeynesianConsumerType"
   ]
  },
  {
   "cell_type": "code",
   "execution_count": null,
   "id": "50a586f7",
   "metadata": {},
   "outputs": [],
   "source": [
    "calibration = {\n",
    "    \"eis\": 1,\n",
    "    \"delta\": 0.025,\n",
    "    \"alpha\": 0.11,\n",
    "    \"L\": 1.0,\n",
    "    \"K\": 1.0,\n",
    "    \"Y\": 1.0,\n",
    "    \"r\": 0.01,\n",
    "}"
   ]
  },
  {
   "cell_type": "code",
   "execution_count": null,
   "id": "2a97701f",
   "metadata": {},
   "outputs": [],
   "source": [
    "L_ss = 1.0  # Steady state labor\n",
    "r_ss = 0.01  # steady state interest rate\n",
    "Y_ss = 1.0  # steady state output"
   ]
  },
  {
   "cell_type": "markdown",
   "id": "1bac99bf",
   "metadata": {},
   "source": [
    "## \n",
    "\n",
    "Given these steady state choices, we will need to find $K, Z$ to clear the firm first order conditions.\n"
   ]
  },
  {
   "cell_type": "code",
   "execution_count": null,
   "id": "2e8a59d1",
   "metadata": {},
   "outputs": [],
   "source": [
    "from scipy.optimize import root\n",
    "\n",
    "\n",
    "def your_funcs(X):\n",
    "    L = calibration[\"L\"]\n",
    "    alpha = calibration[\"alpha\"]\n",
    "    delta = calibration[\"delta\"]\n",
    "\n",
    "    K, Z = X\n",
    "    # all RHS have to be 0\n",
    "    f = [\n",
    "        alpha * Z * (K / L) ** (alpha - 1) - delta - r_ss,  # r = MPK\n",
    "        Z * K**alpha * L ** (1 - alpha) - Y_ss,  # Y = Z*F(K,L)\n",
    "    ]\n",
    "\n",
    "    return f\n",
    "\n",
    "\n",
    "sol = root(your_funcs, [1.0, 1.0])  # find roots\n",
    "\n",
    "K_ss, Z_ss = sol.x"
   ]
  },
  {
   "cell_type": "code",
   "execution_count": null,
   "id": "3e580acc",
   "metadata": {},
   "outputs": [],
   "source": [
    "print(sol)"
   ]
  },
  {
   "cell_type": "markdown",
   "id": "922dce5d",
   "metadata": {},
   "source": [
    " Let's double check the roots we find produce our chosen steady state values for $ r, Y , L$."
   ]
  },
  {
   "cell_type": "code",
   "execution_count": null,
   "id": "9b15804e",
   "metadata": {},
   "outputs": [],
   "source": [
    "def firm(\n",
    "    K, Z, L=calibration[\"L\"], alpha=calibration[\"alpha\"], delta=calibration[\"delta\"]\n",
    "):\n",
    "    r = alpha * Z * (K / L) ** (alpha - 1) - delta\n",
    "    w = (1 - alpha) * Z * (K / L) ** alpha\n",
    "    Y = Z * K**alpha * L ** (1 - alpha)\n",
    "    return r, w, Y\n",
    "\n",
    "\n",
    "r_ss, w_ss, Y_ss = firm(sol.x[0], sol.x[1])"
   ]
  },
  {
   "cell_type": "code",
   "execution_count": null,
   "id": "08aa3eeb",
   "metadata": {},
   "outputs": [],
   "source": [
    "print(r_ss, w_ss, Y_ss)"
   ]
  },
  {
   "cell_type": "code",
   "execution_count": null,
   "id": "89a3c40a",
   "metadata": {},
   "outputs": [],
   "source": [
    "HANK_Dict = {\n",
    "    # Parameters shared with the perfect foresight model\n",
    "    \"CRRA\": calibration[\"eis\"],  # Coefficient of relative risk aversion\n",
    "    \"Rfree\": (1 + r_ss),  # Interest factor on assets\n",
    "    \"DiscFac\": 0.98,  # Intertemporal discount factor\n",
    "    \"LivPrb\": [0.99375],  # Survival probability\n",
    "    \"PermGroFac\": [1.00],  # Permanent income growth factor\n",
    "    # Parameters that specify the income distribution over the lifecycle\n",
    "    # Standard deviation of log permanent shocks to income\n",
    "    \"PermShkStd\": [0.06],\n",
    "    \"PermShkCount\": 5,  # Number of points in discrete approximation to permanent income shocks\n",
    "    # Standard deviation of log transitory shocks to income\n",
    "    \"TranShkStd\": [0.2],\n",
    "    \"TranShkCount\": 5,\n",
    "    # HANK params\n",
    "    \"tax_rate\": [\n",
    "        0\n",
    "    ],  # set to 0.0 because we are going to assume that labor here is actually after tax income\n",
    "    \"labor\": [L_ss],\n",
    "    \"wage\": [w_ss],\n",
    "    # Number of points in discrete approximation to transitory income shocks\n",
    "    \"UnempPrb\": 0.0,  # Probability of unemployment while working\n",
    "    \"IncUnemp\": 0.0,  # Unemployment benefits replacement rate\n",
    "    \"UnempPrbRet\": 0.0000,  # Probability of \"unemployment\" while retired\n",
    "    \"IncUnempRet\": 0.0,  # \"Unemployment\" benefits when retired\n",
    "    \"T_retire\": 0.0,  # Period of retirement (0 --> no retirement)\n",
    "    # Parameters for constructing the \"assets above minimum\" grid\n",
    "    \"aXtraMin\": 0.0001,  # Minimum end-of-period \"assets above minimum\" value\n",
    "    \"aXtraMax\": 2000,  # Maximum end-of-period \"assets above minimum\" value\n",
    "    \"aXtraCount\": 200,  # Number of points in the base grid of \"assets above minimum\"\n",
    "    # Exponential nesting factor when constructing \"assets above minimum\" grid\n",
    "    \"aXtraNestFac\": 3,\n",
    "    \"aXtraExtra\": None,  # Additional values to add to aXtraGrid\n",
    "    # Transition Matrix simulation parameters\n",
    "    \"mCount\": 200,\n",
    "    \"mMax\": 2000,\n",
    "    \"mMin\": 0.0001,\n",
    "    \"mFac\": 3,\n",
    "}"
   ]
  },
  {
   "cell_type": "markdown",
   "id": "3be9593e",
   "metadata": {},
   "source": [
    "# Create HARK agent"
   ]
  },
  {
   "cell_type": "code",
   "execution_count": null,
   "id": "2754eb05",
   "metadata": {},
   "outputs": [],
   "source": [
    "Agent = NewKeynesianConsumerType(**HANK_Dict)"
   ]
  },
  {
   "cell_type": "markdown",
   "id": "fa266888",
   "metadata": {},
   "source": [
    "# Find Steady state discount factor clear asset market\n",
    "\n",
    "We will estimate the discount factor to ensure that asset supply equals the steady state capital we found earlier. \n",
    "\n"
   ]
  },
  {
   "cell_type": "code",
   "execution_count": null,
   "id": "5b97b7a8",
   "metadata": {},
   "outputs": [],
   "source": [
    "def A_ss_func(beta):\n",
    "    HANK_Dict[\"DiscFac\"] = beta\n",
    "\n",
    "    Agent_func = NewKeynesianConsumerType(**HANK_Dict, verbose=False)\n",
    "    A_ss = Agent_func.compute_steady_state()[0]\n",
    "\n",
    "    return A_ss\n",
    "\n",
    "\n",
    "def ss_dif(beta):\n",
    "    return A_ss_func(beta) - Asset_target\n",
    "\n",
    "\n",
    "start = time.time()\n",
    "Asset_target = K_ss\n",
    "\n",
    "DiscFac = optimize.brentq(ss_dif, 0.8, 0.9999)\n",
    "\n",
    "print(\"Time taken to solve for steady state\", time.time() - start)"
   ]
  },
  {
   "cell_type": "code",
   "execution_count": null,
   "id": "d2dfab8c",
   "metadata": {},
   "outputs": [],
   "source": [
    "# Create a new agent\n",
    "HANK_Dict[\"DiscFac\"] = DiscFac\n",
    "Agent_GE = NewKeynesianConsumerType(**HANK_Dict, verbose=False)\n",
    "A_ss, C_ss = Agent_GE.compute_steady_state()"
   ]
  },
  {
   "cell_type": "code",
   "execution_count": null,
   "id": "8f59e006",
   "metadata": {},
   "outputs": [],
   "source": [
    "# to make sure goods and asset markets clear\n",
    "print(\"goods_clearing\", Y_ss - C_ss - calibration[\"delta\"] * K_ss)\n",
    "print(\"asset_clearing\", A_ss - K_ss)"
   ]
  },
  {
   "cell_type": "markdown",
   "id": "a8167383",
   "metadata": {},
   "source": [
    "# Computing Heterogenous Agent Jacobians"
   ]
  },
  {
   "cell_type": "code",
   "execution_count": null,
   "id": "c05c0391",
   "metadata": {},
   "outputs": [],
   "source": [
    "start = time.time()\n",
    "\n",
    "CJACW, AJACW = Agent_GE.calc_jacobian(\"wage\", 300)  # Wage jacobians\n",
    "\n",
    "print(\"Time taken to compute jacobians\", time.time() - start)"
   ]
  },
  {
   "cell_type": "code",
   "execution_count": null,
   "id": "39f4d57e",
   "metadata": {},
   "outputs": [],
   "source": [
    "plt.plot(CJACW.T[0])\n",
    "plt.plot(CJACW.T[20])\n",
    "plt.plot(CJACW.T[50])\n",
    "plt.plot(CJACW.T[100])\n",
    "plt.xlim(-2, 300)\n",
    "plt.plot(np.arange(300), np.zeros(300), color=\"k\")\n",
    "plt.title(\"Consumption Jacobian Wage\")\n",
    "plt.xlabel(\"quarters\")\n",
    "plt.ylabel(\"C response\")\n",
    "plt.show()"
   ]
  },
  {
   "cell_type": "code",
   "execution_count": null,
   "id": "e072e75a",
   "metadata": {},
   "outputs": [],
   "source": [
    "start = time.time()\n",
    "\n",
    "CJACR, AJACR = Agent_GE.calc_jacobian(\"Rfree\", 300)  # Rfree jacobians\n",
    "\n",
    "print(\"Time taken to compute jacobians\", time.time() - start)"
   ]
  },
  {
   "cell_type": "code",
   "execution_count": null,
   "id": "72b5f7b6",
   "metadata": {},
   "outputs": [],
   "source": [
    "plt.plot(CJACR.T[0])\n",
    "plt.plot(CJACR.T[30])\n",
    "plt.plot(CJACR.T[50])\n",
    "plt.plot(np.arange(300), np.zeros(300), color=\"k\")\n",
    "plt.title(\"Consumption Jacobian interest rate\")\n",
    "plt.xlabel(\"quarters\")\n",
    "plt.ylabel(\"C response\")\n",
    "plt.show()"
   ]
  },
  {
   "cell_type": "code",
   "execution_count": null,
   "id": "03d2d6a1",
   "metadata": {},
   "outputs": [],
   "source": [
    "# Store Jacobians in JacobianDict Object\n",
    "Jacobian_Dict = JacobianDict(\n",
    "    {\n",
    "        \"C\": {\n",
    "            \"w\": CJACW,\n",
    "            \"r\": CJACR,\n",
    "        },\n",
    "        \"A\": {\n",
    "            \"w\": AJACW,\n",
    "            \"r\": AJACR,\n",
    "        },\n",
    "    }\n",
    ")\n",
    "\n",
    "# Construct SteadyStateDict object\n",
    "SteadyState_Dict = SteadyStateDict(\n",
    "    {\n",
    "        \"asset_mkt\": 0.0,\n",
    "        \"goods_mkt\": 0.0,\n",
    "        \"r\": r_ss,\n",
    "        \"Y\": Y_ss,\n",
    "        \"A\": K_ss,\n",
    "        \"C\": C_ss,\n",
    "        \"Z\": Z_ss,\n",
    "        \"delta\": calibration[\"delta\"],\n",
    "        \"alpha\": calibration[\"alpha\"],\n",
    "        \"L\": L_ss,\n",
    "        \"K\": K_ss,\n",
    "        \"w\": w_ss,\n",
    "    }\n",
    ")"
   ]
  },
  {
   "cell_type": "markdown",
   "id": "d3669fab",
   "metadata": {},
   "source": [
    "## Other Blocks of the Model"
   ]
  },
  {
   "cell_type": "code",
   "execution_count": null,
   "id": "87abc1e4",
   "metadata": {},
   "outputs": [],
   "source": [
    "@simple\n",
    "def firm(K, L, Z, alpha, delta):\n",
    "    r = alpha * Z * (K(-1) / L) ** (alpha - 1) - delta\n",
    "    w = (1 - alpha) * Z * (K(-1) / L) ** alpha\n",
    "    Y = Z * K(-1) ** alpha * L ** (1 - alpha)\n",
    "    return r, w, Y\n",
    "\n",
    "\n",
    "@simple\n",
    "def mkt_clearing(K, A, Y, C, delta):\n",
    "    asset_mkt = A - K\n",
    "    goods_mkt = Y - C - delta * K\n",
    "    return asset_mkt, goods_mkt"
   ]
  },
  {
   "cell_type": "code",
   "execution_count": null,
   "id": "f95cd93a",
   "metadata": {},
   "outputs": [],
   "source": [
    "ks = create_model([Jacobian_Dict, firm, mkt_clearing], name=\"Krusell-Smith\")"
   ]
  },
  {
   "cell_type": "markdown",
   "id": "f3d569b5",
   "metadata": {},
   "source": [
    "# Solving for Impulse Responses"
   ]
  },
  {
   "cell_type": "code",
   "execution_count": null,
   "id": "48330acf",
   "metadata": {},
   "outputs": [],
   "source": [
    "T = 300  # <-- the length of the IRF\n",
    "rho_Z = 0.8  # persistence of IRF shock\n",
    "dZ = 0.001 * Z_ss * rho_Z ** np.arange(T)\n",
    "shocks = {\"Z\": dZ}\n",
    "\n",
    "inputs = [\"Z\"]\n",
    "unknowns = [\"K\"]\n",
    "targets = [\"asset_mkt\"]\n",
    "\n",
    "\n",
    "irfs_Z = ks.solve_impulse_linear(SteadyState_Dict, unknowns, targets, shocks)"
   ]
  },
  {
   "cell_type": "code",
   "execution_count": null,
   "id": "2f5a085f",
   "metadata": {},
   "outputs": [],
   "source": [
    "def show_irfs(\n",
    "    irfs_list,\n",
    "    variables,\n",
    "    labels=[\" \"],\n",
    "    ylabel=r\"Percentage points (dev. from ss)\",\n",
    "    T_plot=50,\n",
    "    figsize=(18, 6),\n",
    "):\n",
    "    if len(irfs_list) != len(labels):\n",
    "        labels = [\" \"] * len(irfs_list)\n",
    "    n_var = len(variables)\n",
    "    fig, ax = plt.subplots(1, n_var, figsize=figsize, sharex=True)\n",
    "    for i in range(n_var):\n",
    "        # plot all irfs\n",
    "        for j, irf in enumerate(irfs_list):\n",
    "            ax[i].plot(irf[variables[i]][:50], label=labels[j])\n",
    "        ax[i].set_title(variables[i])\n",
    "        ax[i].set_xlabel(r\"$t$\")\n",
    "        if i == 0:\n",
    "            ax[i].set_ylabel(ylabel)\n",
    "        ax[i].legend()\n",
    "    plt.show()"
   ]
  },
  {
   "cell_type": "code",
   "execution_count": null,
   "id": "71cceab3",
   "metadata": {},
   "outputs": [],
   "source": [
    "# Impulse Responses to Productivity Shock\n",
    "show_irfs([irfs_Z], [\"Y\", \"C\", \"Z\", \"K\", \"r\"])"
   ]
  },
  {
   "cell_type": "markdown",
   "id": "a0130fc3",
   "metadata": {},
   "source": [
    "# Simulating the model"
   ]
  },
  {
   "cell_type": "code",
   "execution_count": null,
   "id": "d9887a17",
   "metadata": {},
   "outputs": [],
   "source": [
    "from estimation.plots import plot_timeseries\n",
    "from estimation.routines import simulate"
   ]
  },
  {
   "cell_type": "code",
   "execution_count": null,
   "id": "74dbf468",
   "metadata": {},
   "outputs": [],
   "source": [
    "outputs = [\"Y\", \"K\", \"r\"]\n",
    "\n",
    "sigmas = {\"Z\": 0.001}\n",
    "rhos = {\"Z\": 0.8}\n",
    "impulses = {}\n",
    "\n",
    "\n",
    "for i in inputs:\n",
    "    own_shock = {i: sigmas[i] * rhos[i] ** np.arange(T)}\n",
    "    impulses[i] = ks.solve_impulse_linear(\n",
    "        SteadyState_Dict, unknowns, targets, own_shock\n",
    "    )\n",
    "\n",
    "\n",
    "T_sim = 156  # 39 years, as in the original SW (2007) sample\n",
    "data_simul = simulate(list(impulses.values()), outputs, T_sim)\n",
    "plot_timeseries(data_simul, (1, 3), figsize=(12, 4))"
   ]
  },
  {
   "cell_type": "code",
   "execution_count": null,
   "id": "27732edd",
   "metadata": {},
   "outputs": [],
   "source": []
  }
 ],
 "metadata": {
  "kernelspec": {
   "display_name": "Python 3 (ipykernel)",
   "language": "python",
   "name": "python3"
  },
  "language_info": {
   "codemirror_mode": {
    "name": "ipython",
    "version": 3
   },
   "file_extension": ".py",
   "mimetype": "text/x-python",
   "name": "python",
   "nbconvert_exporter": "python",
   "pygments_lexer": "ipython3",
   "version": "3.10.14"
  }
 },
 "nbformat": 4,
 "nbformat_minor": 5
}
