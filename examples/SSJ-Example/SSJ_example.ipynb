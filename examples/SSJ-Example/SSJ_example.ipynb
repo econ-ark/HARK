{
 "cells": [
  {
   "cell_type": "markdown",
   "id": "9aff8c24",
   "metadata": {},
   "source": [
    "# HARK and SSJ example\n",
    "\n",
    "By William Du (wdu9@jhu.edu) \n",
    "\n",
    "\n",
    "- This notebook demonstrates how HARK and the Sequence Space Jacobian toolkit can be combined to solve HANK models.\n",
    "\n",
    "- HARK was designed to solve rich microeconomic models:\n",
    "    - Lifecycle models\n",
    "    - Discrete continuous choice\n",
    "    - Portfolio choice. \n",
    "    \n",
    "<br />\n",
    "\n",
    "- SSJ was created to solve HANK models with incredibly speed and ease\n",
    "\n",
    "- Connecting HARK to SSJ allows us to solve macro models with richer micro features.\n"
   ]
  },
  {
   "cell_type": "markdown",
   "id": "bf4b8cce",
   "metadata": {},
   "source": [
    "# Model\n",
    "\n",
    "\n",
    "To begin a basic HANK model is introduced. The model follows these lecture [SSJ slides](https://github.com/shade-econ/nber-workshop-2022/blob/main/Lectures/Lecture%204%20Fiscal%20Policy.pdf) from their heterogeneous agent workshop.\n",
    "\n",
    "\n",
    "- Heterogenous agent households that consume/save into one asset. \n",
    "\n",
    "- Households face idiosyncratic income shocks.\n",
    "\n",
    "- Cobb Douglas Production function with Labor.\n",
    "\n",
    "- Sticky Wages\n",
    "\n",
    "- Government taxes labor income, rolls over debt, to pay its expenditures.\n"
   ]
  },
  {
   "cell_type": "markdown",
   "id": "f10546d3",
   "metadata": {},
   "source": [
    "# Bringing Model to Code"
   ]
  },
  {
   "cell_type": "code",
   "execution_count": null,
   "id": "49d75e2d",
   "metadata": {},
   "outputs": [],
   "source": [
    "from HARK.ConsumptionSaving.ConsNewKeynesianModel import (\n",
    "    NewKeynesianConsumerType,\n",
    ")\n",
    "\n",
    "from sequence_jacobian.classes import JacobianDict, SteadyStateDict\n",
    "import sequence_jacobian as sj  # SSJ will allow us to define blocks, models, compute IRFs, etc"
   ]
  },
  {
   "cell_type": "code",
   "execution_count": null,
   "id": "df3f455b",
   "metadata": {
    "tags": []
   },
   "outputs": [],
   "source": [
    "import matplotlib.pyplot as plt\n",
    "import numpy as np  # '1.22.0'\n",
    "import time\n",
    "from scipy import optimize  # scipy version '1.10.0'"
   ]
  },
  {
   "cell_type": "markdown",
   "id": "b676fc68",
   "metadata": {},
   "source": [
    "### Calibrate Steady State Values"
   ]
  },
  {
   "cell_type": "code",
   "execution_count": null,
   "id": "3fa9a283",
   "metadata": {},
   "outputs": [],
   "source": [
    "# Steady state parameters\n",
    "r_ss = 0.03  # Interest rate\n",
    "G_ss = 0.2  # government spending\n",
    "B_ss = 0.2  # government debt\n",
    "Y_ss = 1.0  # output\n",
    "\n",
    "T_ss = G_ss + r_ss * B_ss  # Lump sum taxes\n",
    "Z_ss = Y_ss - T_ss  # after tax labor income\n",
    "deficit_ss = G_ss - T_ss  # deficit"
   ]
  },
  {
   "cell_type": "code",
   "execution_count": null,
   "id": "e4a84511",
   "metadata": {
    "tags": []
   },
   "outputs": [],
   "source": [
    "HANK_dict = {\n",
    "    \"cycles\": 0,  # Infinite horizon problem\n",
    "    # Parameters shared with the perfect foresight model\n",
    "    \"Rfree\": 1.0 + r_ss,  # Interest factor on assets\n",
    "    \"LivPrb\": [0.99375],  # Survival probability\n",
    "    # Parameters that specify the income distribution over the lifecycle\n",
    "    \"PermShkStd\": [0.06],  # Standard deviation of log permanent shocks to income\n",
    "    \"PermShkCount\": 5,  # Number of points in discrete approximation to permanent income shocks\n",
    "    \"TranShkStd\": [0.2],  # Standard deviation of log transitory shocks to income\n",
    "    \"TranShkCount\": 5,  # Number of points in discrete approximation to transitory income shocks\n",
    "    # HANK parameters\n",
    "    \"tax_rate\": [\n",
    "        0.0\n",
    "    ],  # set to 0.0 because we are going to assume that labor here is actually after tax income\n",
    "    \"labor\": [Z_ss],\n",
    "    \"wage\": [1.0],\n",
    "    \"UnempPrb\": 0.0,  # Probability of unemployment while working\n",
    "    \"IncUnemp\": 0.0,  # Unemployment benefits replacement rate\n",
    "    # Parameters for constructing the \"assets above minimum\" grid\n",
    "    \"aXtraMax\": 50,  # Maximum end-of-period \"assets above minimum\" value\n",
    "    \"aXtraCount\": 100,  # Number of points in the base grid of \"assets above minimum\"\n",
    "    \"BoroCnstArt\": 0.0,\n",
    "    # Transition matrix simulation parameters\n",
    "    \"mCount\": 200,\n",
    "    \"mMax\": 50,\n",
    "    \"mMin\": 1e-5,\n",
    "    \"mFac\": 3,\n",
    "}"
   ]
  },
  {
   "cell_type": "markdown",
   "id": "0b97096a",
   "metadata": {},
   "source": [
    "# Solve for Steady State"
   ]
  },
  {
   "cell_type": "code",
   "execution_count": null,
   "id": "ac7ec69c",
   "metadata": {},
   "outputs": [],
   "source": [
    "def ss_func(beta):\n",
    "    HANK_dict[\"DiscFac\"] = beta\n",
    "    TempAgent = NewKeynesianConsumerType(**HANK_dict, verbose=False)\n",
    "    A_ss = TempAgent.compute_steady_state()[0]\n",
    "    return A_ss\n",
    "\n",
    "\n",
    "def ss_dif(beta):\n",
    "    return ss_func(beta) - Asset_target\n",
    "\n",
    "\n",
    "Asset_target = B_ss\n",
    "DiscFac = optimize.brentq(ss_dif, 0.85, 0.99)"
   ]
  },
  {
   "cell_type": "code",
   "execution_count": null,
   "id": "dc28006a",
   "metadata": {},
   "outputs": [],
   "source": [
    "# Create a HARK agent\n",
    "HANK_dict[\"DiscFac\"] = DiscFac\n",
    "Agent_GE = NewKeynesianConsumerType(**HANK_dict, verbose=False)\n",
    "A_ss, C_ss = Agent_GE.compute_steady_state()"
   ]
  },
  {
   "cell_type": "code",
   "execution_count": null,
   "id": "f4fadaab",
   "metadata": {},
   "outputs": [],
   "source": [
    "print(\"goods_clearing\", Y_ss - C_ss - G_ss)\n",
    "print(\"asset_clearing\", A_ss - B_ss)"
   ]
  },
  {
   "cell_type": "markdown",
   "id": "f7336168",
   "metadata": {},
   "source": [
    "## Compute Jacobians"
   ]
  },
  {
   "cell_type": "code",
   "execution_count": null,
   "id": "ea09fc75",
   "metadata": {},
   "outputs": [],
   "source": [
    "start = time.time()\n",
    "\n",
    "CJACR, AJACR = Agent_GE.calc_jacobian(\"Rfree\", 300)\n",
    "CJACZ, AJACZ = Agent_GE.calc_jacobian(\"labor\", 300)\n",
    "\n",
    "print(\"Time taken to compute jacobians\", time.time() - start)"
   ]
  },
  {
   "cell_type": "code",
   "execution_count": null,
   "id": "ce169ef9",
   "metadata": {},
   "outputs": [],
   "source": [
    "plt.plot(CJACR.T[0])\n",
    "plt.plot(CJACR.T[30])\n",
    "plt.plot(CJACR.T[50])\n",
    "plt.xlim(-2, 100)\n",
    "plt.title(\"Consumption Jacobians wrt Interest rate\")\n",
    "plt.show()"
   ]
  },
  {
   "cell_type": "code",
   "execution_count": null,
   "id": "6eff21bb",
   "metadata": {},
   "outputs": [],
   "source": [
    "plt.plot(CJACZ.T[0])\n",
    "plt.plot(CJACZ.T[20])\n",
    "plt.plot(CJACZ.T[50])\n",
    "plt.xlim(-2, 100)\n",
    "plt.title(\"Consumption Jacobians wrt Income\")\n",
    "plt.show()"
   ]
  },
  {
   "cell_type": "markdown",
   "id": "fe6feb98",
   "metadata": {},
   "source": [
    "# Specify Government Budget Constraint and Market Clearing Conditions"
   ]
  },
  {
   "cell_type": "code",
   "execution_count": null,
   "id": "b35ed9e0",
   "metadata": {},
   "outputs": [],
   "source": [
    "# Government Budget Constraint\n",
    "@sj.simple\n",
    "def fiscal(B, r, G, Y):\n",
    "    T = (1 + r) * B(-1) + G - B  # total tax burden\n",
    "    Z = Y - T  # after tax income\n",
    "    deficit = G - T\n",
    "    return T, Z, deficit\n",
    "\n",
    "\n",
    "# Market Clearing Conditions\n",
    "@sj.simple\n",
    "def mkt_clearing(A, B, Y, C, G):\n",
    "    asset_mkt = A - B\n",
    "    goods_mkt = Y - C - G\n",
    "    return asset_mkt, goods_mkt"
   ]
  },
  {
   "cell_type": "code",
   "execution_count": null,
   "id": "f5710651",
   "metadata": {},
   "outputs": [],
   "source": [
    "# Store Jacobians in JacobianDict Object\n",
    "Jacobian_dict = JacobianDict({\"C\": {\"Z\": CJACZ}, \"A\": {\"Z\": AJACZ}})"
   ]
  },
  {
   "cell_type": "code",
   "execution_count": null,
   "id": "ffe65da0-7cea-4d60-9afe-f89adae896f8",
   "metadata": {
    "tags": []
   },
   "outputs": [],
   "source": [
    "# Construct SteadyStateDict object\n",
    "SteadyState_dict = SteadyStateDict(\n",
    "    {\n",
    "        \"asset_mkt\": 0.0,\n",
    "        \"goods_mkt\": 0.0,\n",
    "        \"deficit\": G_ss - T_ss,\n",
    "        \"B\": B_ss,  # Gov. Debt\n",
    "        \"r\": r_ss,  # Interest rate\n",
    "        \"G\": G_ss,  # Gov. Spending\n",
    "        \"Y\": Y_ss,  # Output\n",
    "        \"A\": B_ss,  # Assets\n",
    "        \"C\": C_ss,  # Consumption\n",
    "        \"Z\": Y_ss - T_ss,  # Income (post-tax)\n",
    "        \"T\": T_ss,  # Lump Sum Taxes\n",
    "    }\n",
    ")"
   ]
  },
  {
   "cell_type": "code",
   "execution_count": null,
   "id": "dbce1742",
   "metadata": {},
   "outputs": [],
   "source": [
    "T = 300  # <-- the length of the IRF\n",
    "rho_G = 0.8  # peristence of shock\n",
    "dG = 0.01 * rho_G ** np.arange(T)\n",
    "shocks = {\"G\": dG}\n",
    "\n",
    "unknowns_td = [\"Y\"]\n",
    "targets_td = [\"asset_mkt\"]\n",
    "\n",
    "# Create model\n",
    "ha_lin = sj.create_model([Jacobian_dict, fiscal, mkt_clearing], name=\"HA Model\")\n",
    "\n",
    "# obtain impulse responses\n",
    "irfs_G_lin = ha_lin.solve_impulse_linear(\n",
    "    SteadyState_dict, unknowns_td, targets_td, shocks\n",
    ")"
   ]
  },
  {
   "cell_type": "code",
   "execution_count": null,
   "id": "93a0c5fc",
   "metadata": {
    "tags": []
   },
   "outputs": [],
   "source": [
    "def show_irfs(\n",
    "    irfs_list,\n",
    "    variables,\n",
    "    labels=[\" \"],\n",
    "    ylabel=r\"Percentage points (dev. from ss)\",\n",
    "    T_plot=50,\n",
    "    figsize=(18, 6),\n",
    "):\n",
    "    if len(irfs_list) != len(labels):\n",
    "        labels = [\" \"] * len(irfs_list)\n",
    "    n_var = len(variables)\n",
    "    fig, ax = plt.subplots(1, n_var, figsize=figsize, sharex=True)\n",
    "    for i in range(n_var):\n",
    "        # plot all irfs\n",
    "        for j, irf in enumerate(irfs_list):\n",
    "            ax[i].plot(irf[variables[i]][:50], label=labels[j])\n",
    "        ax[i].set_title(variables[i])\n",
    "        ax[i].set_xlabel(r\"$t$\")\n",
    "        if i == 0:\n",
    "            ax[i].set_ylabel(ylabel)\n",
    "        ax[i].legend()\n",
    "    plt.show()"
   ]
  },
  {
   "cell_type": "markdown",
   "id": "523314a5",
   "metadata": {},
   "source": [
    "## Government Spending Shock (Balanced Budget)"
   ]
  },
  {
   "cell_type": "code",
   "execution_count": null,
   "id": "d287b37c",
   "metadata": {},
   "outputs": [],
   "source": [
    "show_irfs([irfs_G_lin], [\"G\", \"Y\", \"T\"])"
   ]
  },
  {
   "cell_type": "markdown",
   "id": "d6b166b2",
   "metadata": {},
   "source": [
    "## Government Spending shock (deficit financed)"
   ]
  },
  {
   "cell_type": "code",
   "execution_count": null,
   "id": "603c9385",
   "metadata": {},
   "outputs": [],
   "source": [
    "rho_B = 0.9\n",
    "dB = np.cumsum(dG) * rho_B ** np.arange(T)\n",
    "shocks_B = {\"G\": dG, \"B\": dB}\n",
    "\n",
    "irfs_B_lin = ha_lin.solve_impulse_linear(\n",
    "    SteadyState_dict, unknowns_td, targets_td, shocks_B\n",
    ")"
   ]
  },
  {
   "cell_type": "code",
   "execution_count": null,
   "id": "332b34b6",
   "metadata": {},
   "outputs": [],
   "source": [
    "show_irfs(\n",
    "    [irfs_G_lin, irfs_B_lin],\n",
    "    [\"G\", \"Y\", \"T\", \"deficit\", \"goods_mkt\"],\n",
    "    labels=[\"balanced budget\", \"deficit financed\"],\n",
    ")"
   ]
  },
  {
   "cell_type": "markdown",
   "id": "e5030fdc",
   "metadata": {},
   "source": [
    "## Nonlinear Impulse Responses"
   ]
  },
  {
   "cell_type": "code",
   "execution_count": null,
   "id": "9f7d1534",
   "metadata": {},
   "outputs": [],
   "source": [
    "# NOTE: These cells have been commented out because they rely on files that are not present in the HARK repo.\n",
    "\n",
    "# def hh(Z):\n",
    "#    C,A = Agent_GE.calc_agg_path(Z,300)\n",
    "#    return C,A"
   ]
  },
  {
   "cell_type": "code",
   "execution_count": null,
   "id": "29783be3",
   "metadata": {},
   "outputs": [],
   "source": [
    "# from Misc_Utilities.simple_block import exog # import wrapper so SSJ can identify HARK household object\n",
    "\n",
    "# hh_block = exog(Jacobian_dict,hh,hh)\n",
    "# hh_block.name = hh\n",
    "\n",
    "# ha = sj.create_model([hh_block,fiscal,mkt_clearing], name=\"HA Model\")\n",
    "# irfs_G_nonlin = ha.solve_impulse_nonlinear(SteadyState_dict, unknowns_td, targets_td, shocks)\n"
   ]
  },
  {
   "cell_type": "code",
   "execution_count": null,
   "id": "a327b50f",
   "metadata": {},
   "outputs": [],
   "source": [
    "# plt.plot(irfs_G_nonlin['Y'], label ='nonlinear')\n",
    "# plt.plot(irfs_G_lin['Y'], label = 'linear', linestyle='--')\n",
    "# plt.xlim(-1,50)\n",
    "# plt.legend()\n",
    "# plt.title('Nonlinear Impulse responses of output')\n",
    "# plt.show()"
   ]
  },
  {
   "cell_type": "code",
   "execution_count": null,
   "id": "558d31cc",
   "metadata": {},
   "outputs": [],
   "source": [
    "# show_irfs([irfs_G_lin,irfs_G_nonlin], ['G', 'Y','T'], ['Linear', 'Nonlinear'])"
   ]
  }
 ],
 "metadata": {
  "kernelspec": {
   "display_name": "Python 3 (ipykernel)",
   "language": "python",
   "name": "python3"
  },
  "language_info": {
   "codemirror_mode": {
    "name": "ipython",
    "version": 3
   },
   "file_extension": ".py",
   "mimetype": "text/x-python",
   "name": "python",
   "nbconvert_exporter": "python",
   "pygments_lexer": "ipython3",
   "version": "3.10.14"
  }
 },
 "nbformat": 4,
 "nbformat_minor": 5
}
