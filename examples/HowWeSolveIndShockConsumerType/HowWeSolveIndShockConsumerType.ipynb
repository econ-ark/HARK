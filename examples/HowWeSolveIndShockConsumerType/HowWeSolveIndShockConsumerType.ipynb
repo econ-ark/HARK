{
 "cells": [
  {
   "cell_type": "markdown",
   "metadata": {},
   "source": [
    "# How we solve a model defined by the `IndShockConsumerType` class\n",
    "The IndShockConsumerType reprents the work-horse consumption savings model with temporary and permanent shocks to income, finite or infinite horizons, CRRA utility and more. In this DemARK we take you through the steps involved in solving one period of such a model. The inheritance chains can be a little long, so figuring out where all the parameters and methods come from can be a bit confusing. Hence this map! The intention is to make it easier to know how to inheret from IndShockConsumerType in the sense that you know where to look for specific solver logic, but also so you know can figure out which methods to overwrite or supplement in your own `AgentType` and solver!\n",
    "## The `solveConsIndShock` function\n",
    "In HARK, a period's problem is always solved by the callable (function or callable object instance) stored in the field `solve_one_period`. In the case of `IndShockConsumerType`, this function is called `solveConsIndShock`. The function accepts a number of arguments, that it uses to construct an instance of either a `ConsIndShockSolverBasic` or a `ConsIndShockSolver`. These solvers both have the methods `prepare_to_solve` and `solve`, that we will have a closer look at in this notebook. This means, that the logic of `solveConsIndShock` is basically:\n",
    "\n",
    " 1. Check if cubic interpolation (`CubicBool`) or construction of the value function interpolant (`vFuncBool`) are requested. Construct an instance of `ConsIndShockSolverBasic` if neither are requested, else construct a `ConsIndShockSolver`. Call this `solver`.\n",
    " 1. Call `solver.prepare_to_solve()`\n",
    " 1. Call `solver.solve()` and return the output as the current solution."
   ]
  },
  {
   "cell_type": "markdown",
   "metadata": {},
   "source": [
    "### Two types of solvers\n",
    "As mentioned above, `solve_one_period` will construct an instance of the class `ConsIndShockSolverBasic`or `ConsIndShockSolver`. The main difference is whether it uses cubic interpolation or if it explicitly constructs a value function approximation. The choice and construction of a solver instance is bullet 1) from above.\n",
    "\n",
    "#### What happens in upon construction\n",
    "Neither of the two solvers have their own `__init__`. `ConsIndShockSolver` inherits from `ConsIndShockSolverBasic` that in turn inherits from `ConsIndShockSetup`. `ConsIndShockSetup` inherits from `ConsPerfForesightSolver`, which itself is just an `Object`, so we get the inheritance structure\n",
    "\n",
    "- `ConsPerfForesightSolver` $\\leftarrow$ `ConsIndShockSetup` $\\leftarrow$ `ConsIndShockSolverBasic` $\\leftarrow$ `ConsIndShockSolver`\n",
    "\n",
    "When one of the two classes in the end of the inheritance chain is called, it will call `ConsIndShockSetup.__init__(args...)`. This takes a whole list of fixed inputs that then gets assigned to the object through a\n",
    "```\n",
    "ConsIndShockSetup.assign_parameters(solution_next,IncomeDstn,LivPrb,DiscFac,CRRA,Rfree,PermGroFac,BoroCnstArt,aXtraGrid,vFuncBool,CubicBool)\n",
    "```\n",
    "call, that then calls\n",
    "```\n",
    "ConsPerfForesightSolver.assign_parameters(self,solution_next,DiscFac,LivPrb,CRRA,Rfree,PermGroFac)\n",
    "```\n",
    "We're getting kind of detailed here, but it is simply to help us understand the inheritance structure. The methods are quite straight forward, and simply assign the list of variables to self. The ones that do not get assigned by the `ConsPerfForesightSolver` method gets assign by the `ConsIndShockSetup` method instead.\n",
    "\n",
    "\n",
    "After all the input parameters are set, we update the utility function definitions. Remember, that we restrict ourselves to CRRA utility functions, and these are parameterized with the scalar we call `CRRA` in HARK. We use the two-argument CRRA utility (and derivatives, inverses, etc) from `HARK.utilities`, so we need to create a `lambda` (an anonymous function) according to the fixed `CRRA` we have chosen. This gets done through a call to\n",
    "\n",
    "```\n",
    "ConsIndShockSetup.defUtilityFuncs()\n",
    "```\n",
    "that itself calls\n",
    "```\n",
    "ConsPerfForesightSolver.defUtilityFuncs()\n",
    "```\n",
    "Again, we wish to emphasize the inheritance structure. The method in `ConsPerfForesightSolver` defines the most basic utility functions (utility, its marginal and its marginal marginal), and `ConsIndShockSolver` adds additional functions (marginal of inverse, inverse of marginal, marginal of inverse of marginal, and optionally inverse if `vFuncBool` is true).\n",
    "\n",
    "To sum up, the `__init__` method lives in `ConsIndShockSetup`, calls `assign_parameters` and `defUtilityFuncs` from `ConsPerfForesightSolver` and defines its own methods with the same names that adds some methods used to solve the `IndShockConsumerType` using EGM. The main things controlled by the end-user are whether cubic interpolation should be used, `CubicBool`, and if the value function should be explicitly formed, `vFuncBool`.\n",
    "### Prepare to solve\n",
    "We are now in bullet 2) from the list above. The `prepare_to_solve` method is all about grabbing relevant information from next period's solution, calculating some limiting solutions. It comes from `ConsIndShockSetup` and calls two methods:\n",
    "\n",
    "1. `ConsIndShockSetup.setAndUpdateValues(self.solution_next,self.IncomeDstn,self.LivPrb,self.DiscFac)`\n",
    "2. `ConsIndShockSetup.defBoroCnst(self.BoroCnstArt)`\n",
    "\n",
    "First, we have `setAndUpdateValues`. The main purpose is to grab the relevant vectors that represent the shock distributions, the effective discount factor, and value function (marginal, level, marginal marginal depending on the options). It also calculates some limiting marginal propensities to consume and human wealth levels. Second, we have `defBoroCnst`. As the name indicates, it calculates the natural borrowing constraint, handles artificial borrowing constraints, and defines the consumption function where the constraint binds (`cFuncNowCnst`).\n",
    "\n",
    "To sum, `prepare_to_solve` sets up the stochastic environment an borrowing constraints the consumer might face. It also grabs interpolants from \"next period\"'s solution.\n",
    "\n",
    "### Solve it!\n",
    "The last method `solveConsIndShock` will call from the `solver` is `solve`. This method essentially has four steps:\n",
    " 1. Pre-processing for EGM: solver.prepare_to_calc_EndOfPrdvP\n",
    " 1. First step of EGM: solver.calc_EndOfPrdvP\n",
    " 1. Second step of EGM: solver.make_basic_solution\n",
    " 1. Add MPC and human wealth: solver.add_MPC_and_human_wealth\n",
    "\n",
    "#### Pre-processing for EGM `prepare_to_calc_EndOfPrdvP`\n",
    "Find relevant values of end-of-period asset values (according to `aXtraGrid` and natural borrowing constraint) and next period values implied by current period end-of-period assets and stochastic elements. The method stores the following in `self`:\n",
    "\n",
    " 1. values of permanent shocks in `PermShkVals_temp`\n",
    " 1. shock probabilities in `ShkPrbs_temp`\n",
    " 1. next period resources in `mNrmNext`\n",
    " 1. current grid of end-of-period assets in `aNrmNow`\n",
    "\n",
    "The method also returns `aNrmNow`. The definition is in `ConsIndShockSolverBasic` and is not overwritten in `ConsIndShockSolver`.\n",
    "\n",
    "#### First step of EGM `calc_EndOfPrdvP`\n",
    "Find the marginal value of having  some level of end-of-period assets today. End-of-period assets as well as stochastics imply next-period resources at the beginning of the period, calculated above. Return the result as `EndOfPrdvP`.\n",
    "\n",
    "#### Second step of EGM `make_basic_solution`\n",
    "Apply inverse marginal utility function to nodes from about to find (m, c) pairs for the new consumption function in `get_points_for_interpolation` and create the interpolants in `use_points_for_interpolation`. The latter constructs the `ConsumerSolution` that contains the current consumption function `cFunc`, the current marginal value function `vPfunc`, and the smallest possible resource level `mNrmMinNow`.\n",
    "\n",
    "#### Add MPC and human wealth `add_MPC_and_human_wealth`\n",
    "Add values calculated in `defBoroCnst` now that we have a solution object to put them in.\n",
    "\n",
    "#### Special to the non-Basic solver\n",
    "We are now done, but in the `ConsIndShockSolver` (non-`Basic`!) solver there are a few extra steps. We add steady state m, and depending on the values of `vFuncBool` and `CubicBool` we also add the value function and the marginal marginal value function."
   ]
  },
  {
   "cell_type": "markdown",
   "metadata": {},
   "source": [
    "## Let's try it in action!\n",
    "First, we define a standard lifecycle model, solve it and then"
   ]
  },
  {
   "cell_type": "code",
   "execution_count": 1,
   "metadata": {
    "execution": {
     "iopub.execute_input": "2023-02-07T00:50:37.836618Z",
     "iopub.status.busy": "2023-02-07T00:50:37.836618Z",
     "iopub.status.idle": "2023-02-07T00:50:39.799714Z",
     "shell.execute_reply": "2023-02-07T00:50:39.799208Z"
    }
   },
   "outputs": [],
   "source": [
    "from HARK.ConsumptionSaving.ConsIndShockModel import (\n",
    "    IndShockConsumerType,\n",
    "    init_lifecycle,\n",
    ")\n",
    "import numpy as np\n",
    "import matplotlib.pyplot as plt\n",
    "\n",
    "LifecycleExample = IndShockConsumerType(**init_lifecycle)\n",
    "LifecycleExample.cycles = (\n",
    "    1  # Make this consumer live a sequence of periods exactly once\n",
    ")\n",
    "LifecycleExample.solve()"
   ]
  },
  {
   "cell_type": "markdown",
   "metadata": {},
   "source": [
    "Let's have a look at the solution in time period second period. We should then be able to"
   ]
  },
  {
   "cell_type": "code",
   "execution_count": 2,
   "metadata": {
    "execution": {
     "iopub.execute_input": "2023-02-07T00:50:39.802232Z",
     "iopub.status.busy": "2023-02-07T00:50:39.802232Z",
     "iopub.status.idle": "2023-02-07T00:50:39.908120Z",
     "shell.execute_reply": "2023-02-07T00:50:39.908120Z"
    }
   },
   "outputs": [
    {
     "data": {
      "image/png": "[encoded data removed]",
      "text/plain": [
       "<Figure size 640x480 with 1 Axes>"
      ]
     },
     "metadata": {},
     "output_type": "display_data"
    }
   ],
   "source": [
    "from HARK.utilities import plot_funcs\n",
    "\n",
    "plot_funcs(\n",
    "    [LifecycleExample.solution[0].cFunc], LifecycleExample.solution[0].mNrmMin, 10\n",
    ")"
   ]
  },
  {
   "cell_type": "markdown",
   "metadata": {},
   "source": [
    "Let us then create a solver for the first period."
   ]
  },
  {
   "cell_type": "code",
   "execution_count": 3,
   "metadata": {
    "execution": {
     "iopub.execute_input": "2023-02-07T00:50:39.911148Z",
     "iopub.status.busy": "2023-02-07T00:50:39.909625Z",
     "iopub.status.idle": "2023-02-07T00:50:39.923187Z",
     "shell.execute_reply": "2023-02-07T00:50:39.923187Z"
    }
   },
   "outputs": [],
   "source": [
    "from HARK.ConsumptionSaving.ConsIndShockModel import ConsIndShockSolverBasic\n",
    "\n",
    "solver = ConsIndShockSolverBasic(\n",
    "    LifecycleExample.solution[1],\n",
    "    LifecycleExample.IncShkDstn[0],\n",
    "    LifecycleExample.LivPrb[0],\n",
    "    LifecycleExample.DiscFac,\n",
    "    LifecycleExample.CRRA,\n",
    "    LifecycleExample.Rfree,\n",
    "    LifecycleExample.PermGroFac[0],\n",
    "    LifecycleExample.BoroCnstArt,\n",
    "    LifecycleExample.aXtraGrid,\n",
    "    LifecycleExample.vFuncBool,\n",
    "    LifecycleExample.CubicBool,\n",
    ")"
   ]
  },
  {
   "cell_type": "code",
   "execution_count": 4,
   "metadata": {
    "execution": {
     "iopub.execute_input": "2023-02-07T00:50:39.925190Z",
     "iopub.status.busy": "2023-02-07T00:50:39.925190Z",
     "iopub.status.idle": "2023-02-07T00:50:39.939401Z",
     "shell.execute_reply": "2023-02-07T00:50:39.939401Z"
    }
   },
   "outputs": [],
   "source": [
    "solver.prepare_to_solve()"
   ]
  },
  {
   "cell_type": "markdown",
   "metadata": {},
   "source": [
    "Many important values are now calculated and stored in solver, such as the effective discount factor, the smallest permanent income shock, and more."
   ]
  },
  {
   "cell_type": "code",
   "execution_count": 5,
   "metadata": {
    "execution": {
     "iopub.execute_input": "2023-02-07T00:50:39.941763Z",
     "iopub.status.busy": "2023-02-07T00:50:39.941763Z",
     "iopub.status.idle": "2023-02-07T00:50:39.954809Z",
     "shell.execute_reply": "2023-02-07T00:50:39.954809Z"
    }
   },
   "outputs": [
    {
     "data": {
      "text/plain": [
       "0.9586233599999999"
      ]
     },
     "execution_count": 5,
     "metadata": {},
     "output_type": "execute_result"
    }
   ],
   "source": [
    "solver.DiscFacEff"
   ]
  },
  {
   "cell_type": "code",
   "execution_count": 6,
   "metadata": {
    "execution": {
     "iopub.execute_input": "2023-02-07T00:50:39.956809Z",
     "iopub.status.busy": "2023-02-07T00:50:39.956809Z",
     "iopub.status.idle": "2023-02-07T00:50:39.970923Z",
     "shell.execute_reply": "2023-02-07T00:50:39.970923Z"
    }
   },
   "outputs": [
    {
     "data": {
      "text/plain": [
       "0.6554858756904405"
      ]
     },
     "execution_count": 6,
     "metadata": {},
     "output_type": "execute_result"
    }
   ],
   "source": [
    "solver.PermShkMinNext"
   ]
  },
  {
   "cell_type": "markdown",
   "metadata": {},
   "source": [
    "These values were calculated in `setAndUpdateValues`. In `defBoroCnst` that was also called, several things were calculated, for example the consumption function defined by the borrowing constraint."
   ]
  },
  {
   "cell_type": "code",
   "execution_count": 7,
   "metadata": {
    "execution": {
     "iopub.execute_input": "2023-02-07T00:50:39.972868Z",
     "iopub.status.busy": "2023-02-07T00:50:39.972868Z",
     "iopub.status.idle": "2023-02-07T00:50:40.114348Z",
     "shell.execute_reply": "2023-02-07T00:50:40.114348Z"
    }
   },
   "outputs": [
    {
     "data": {
      "image/png": "[encoded data removed]",
      "text/plain": [
       "<Figure size 640x480 with 1 Axes>"
      ]
     },
     "metadata": {},
     "output_type": "display_data"
    }
   ],
   "source": [
    "plot_funcs([solver.cFuncNowCnst], solver.mNrmMinNow, 10)"
   ]
  },
  {
   "cell_type": "markdown",
   "metadata": {},
   "source": [
    "Then, we set up all the grids, grabs the discrete shock distributions, and state grids in `prepare_to_calc_EndOfPrdvP`."
   ]
  },
  {
   "cell_type": "code",
   "execution_count": 8,
   "metadata": {
    "execution": {
     "iopub.execute_input": "2023-02-07T00:50:40.117348Z",
     "iopub.status.busy": "2023-02-07T00:50:40.116349Z",
     "iopub.status.idle": "2023-02-07T00:50:40.129868Z",
     "shell.execute_reply": "2023-02-07T00:50:40.129868Z"
    }
   },
   "outputs": [
    {
     "data": {
      "text/plain": [
       "array([-1.97928710e-01, -1.78757337e-01, -1.58464113e-01, -1.36959776e-01,\n",
       "       -1.14146021e-01, -8.99143874e-02, -6.41449810e-02, -3.67050128e-02,\n",
       "       -7.44711582e-03,  2.37925970e-02,  5.71967790e-02,  9.29694545e-02,\n",
       "        1.31339050e-01,  1.72561926e-01,  2.16926520e-01,  2.64758197e-01,\n",
       "        3.16424968e-01,  3.72344255e-01,  4.32990903e-01,  4.98906718e-01,\n",
       "        5.70711872e-01,  6.49118576e-01,  7.34947546e-01,  8.29147929e-01,\n",
       "        9.32821508e-01,  1.04725224e+00,  1.17394250e+00,  1.31465773e+00,\n",
       "        1.47148180e+00,  1.64688590e+00,  1.84381499e+00,  2.06579663e+00,\n",
       "        2.31707906e+00,  2.60280747e+00,  2.92925051e+00,  3.30409357e+00,\n",
       "        3.73682117e+00,  4.23921964e+00,  4.82604335e+00,  5.51590530e+00,\n",
       "        6.33247875e+00,  7.30613392e+00,  8.47619016e+00,  9.89404831e+00,\n",
       "        1.16275966e+01,  1.37674827e+01,  1.64361548e+01,  1.98010713e+01])"
      ]
     },
     "execution_count": 8,
     "metadata": {},
     "output_type": "execute_result"
    }
   ],
   "source": [
    "solver.prepare_to_calc_EndOfPrdvP()"
   ]
  },
  {
   "cell_type": "markdown",
   "metadata": {},
   "source": [
    "Then we calculate the marginal utility of next period's resources given the stochastic environment and current grids."
   ]
  },
  {
   "cell_type": "code",
   "execution_count": 9,
   "metadata": {
    "execution": {
     "iopub.execute_input": "2023-02-07T00:50:40.131883Z",
     "iopub.status.busy": "2023-02-07T00:50:40.131883Z",
     "iopub.status.idle": "2023-02-07T00:50:40.145925Z",
     "shell.execute_reply": "2023-02-07T00:50:40.145925Z"
    }
   },
   "outputs": [],
   "source": [
    "EndOfPrdvP = solver.calc_EndOfPrdvP()"
   ]
  },
  {
   "cell_type": "markdown",
   "metadata": {},
   "source": [
    "Then, we essentially just have to construct the (resource, consumption) pairs by completing the EGM step, and constructing the interpolants by using the knowledge that the limiting solutions are those of the perfect foresight model. This is done with `make_basic_solution` as discussed above."
   ]
  },
  {
   "cell_type": "code",
   "execution_count": 10,
   "metadata": {
    "execution": {
     "iopub.execute_input": "2023-02-07T00:50:40.147927Z",
     "iopub.status.busy": "2023-02-07T00:50:40.147927Z",
     "iopub.status.idle": "2023-02-07T00:50:40.161149Z",
     "shell.execute_reply": "2023-02-07T00:50:40.161149Z"
    }
   },
   "outputs": [],
   "source": [
    "solution = solver.make_basic_solution(\n",
    "    EndOfPrdvP, solver.aNrmNow, solver.make_linear_cFunc\n",
    ")"
   ]
  },
  {
   "cell_type": "markdown",
   "metadata": {},
   "source": [
    "Lastly, we add the MPC and human wealth quantities we calculated in the method that prepared the solution of this period."
   ]
  },
  {
   "cell_type": "code",
   "execution_count": 11,
   "metadata": {
    "execution": {
     "iopub.execute_input": "2023-02-07T00:50:40.163017Z",
     "iopub.status.busy": "2023-02-07T00:50:40.163017Z",
     "iopub.status.idle": "2023-02-07T00:50:40.177068Z",
     "shell.execute_reply": "2023-02-07T00:50:40.177068Z"
    }
   },
   "outputs": [
    {
     "data": {
      "text/plain": [
       "<HARK.ConsumptionSaving.ConsIndShockModel.ConsumerSolution at 0x177c17f1f40>"
      ]
     },
     "execution_count": 11,
     "metadata": {},
     "output_type": "execute_result"
    }
   ],
   "source": [
    "solver.add_MPC_and_human_wealth(solution)"
   ]
  },
  {
   "cell_type": "markdown",
   "metadata": {},
   "source": [
    "All that is left is to verify that the solution in `solution` is identical to `LifecycleExample.solution[0]`. We can plot the against each other:"
   ]
  },
  {
   "cell_type": "code",
   "execution_count": 12,
   "metadata": {
    "execution": {
     "iopub.execute_input": "2023-02-07T00:50:40.179574Z",
     "iopub.status.busy": "2023-02-07T00:50:40.178069Z",
     "iopub.status.idle": "2023-02-07T00:50:40.272008Z",
     "shell.execute_reply": "2023-02-07T00:50:40.272008Z"
    }
   },
   "outputs": [
    {
     "data": {
      "image/png": "[encoded data removed]",
      "text/plain": [
       "<Figure size 640x480 with 1 Axes>"
      ]
     },
     "metadata": {},
     "output_type": "display_data"
    }
   ],
   "source": [
    "plot_funcs(\n",
    "    [LifecycleExample.solution[0].cFunc, solution.cFunc],\n",
    "    LifecycleExample.solution[0].mNrmMin,\n",
    "    10,\n",
    ")"
   ]
  },
  {
   "cell_type": "markdown",
   "metadata": {},
   "source": [
    "Although, it's probably even clearer if we just subtract the function values from each other at some grid."
   ]
  },
  {
   "cell_type": "code",
   "execution_count": 13,
   "metadata": {
    "execution": {
     "iopub.execute_input": "2023-02-07T00:50:40.274015Z",
     "iopub.status.busy": "2023-02-07T00:50:40.274015Z",
     "iopub.status.idle": "2023-02-07T00:50:40.288069Z",
     "shell.execute_reply": "2023-02-07T00:50:40.288069Z"
    }
   },
   "outputs": [
    {
     "data": {
      "text/plain": [
       "array([0., 0., 0., 0., 0., 0., 0., 0., 0., 0., 0., 0., 0., 0., 0., 0., 0.,\n",
       "       0., 0., 0., 0., 0., 0., 0., 0., 0., 0., 0., 0., 0., 0., 0., 0., 0.,\n",
       "       0., 0., 0., 0., 0., 0., 0., 0., 0., 0., 0., 0., 0., 0., 0., 0., 0.,\n",
       "       0., 0., 0., 0., 0., 0., 0., 0., 0., 0., 0., 0., 0., 0., 0., 0., 0.,\n",
       "       0., 0., 0., 0., 0., 0., 0., 0., 0., 0., 0., 0., 0., 0., 0., 0., 0.,\n",
       "       0., 0., 0., 0., 0., 0., 0., 0., 0., 0., 0., 0., 0., 0., 0., 0., 0.,\n",
       "       0., 0., 0., 0., 0., 0., 0., 0., 0., 0., 0., 0., 0., 0., 0., 0., 0.,\n",
       "       0., 0., 0., 0., 0., 0., 0., 0., 0., 0., 0., 0., 0., 0., 0., 0., 0.,\n",
       "       0., 0., 0., 0., 0., 0., 0., 0., 0., 0., 0., 0., 0., 0., 0., 0., 0.,\n",
       "       0., 0., 0., 0., 0., 0., 0., 0., 0., 0., 0., 0., 0., 0., 0., 0., 0.,\n",
       "       0., 0., 0., 0., 0., 0., 0., 0., 0., 0., 0., 0., 0., 0., 0., 0., 0.,\n",
       "       0., 0., 0., 0., 0., 0., 0., 0., 0., 0., 0., 0., 0.])"
      ]
     },
     "execution_count": 13,
     "metadata": {},
     "output_type": "execute_result"
    }
   ],
   "source": [
    "eval_grid = np.linspace(0, 20, 200)\n",
    "LifecycleExample.solution[0].cFunc(eval_grid) - solution.cFunc(eval_grid)"
   ]
  }
 ],
 "metadata": {
  "@webio": {
   "lastCommId": null,
   "lastKernelId": null
  },
  "hide_input": false,
  "jupytext": {
   "formats": "ipynb,py:percent"
  },
  "kernelspec": {
   "display_name": "Python 3 (ipykernel)",
   "language": "python",
   "name": "python3"
  },
  "language_info": {
   "codemirror_mode": {
    "name": "ipython",
    "version": 3
   },
   "file_extension": ".py",
   "mimetype": "text/x-python",
   "name": "python",
   "nbconvert_exporter": "python",
   "pygments_lexer": "ipython3",
   "version": "3.9.16"
  },
  "latex_envs": {
   "LaTeX_envs_menu_present": true,
   "autoclose": false,
   "autocomplete": true,
   "bibliofile": "biblio.bib",
   "cite_by": "apalike",
   "current_citInitial": 1,
   "eqLabelWithNumbers": true,
   "eqNumInitial": 1,
   "hotkeys": {
    "equation": "Ctrl-E",
    "itemize": "Ctrl-I"
   },
   "labels_anchors": false,
   "latex_user_defs": false,
   "report_style_numbering": false,
   "user_envs_cfg": false
  },
  "toc": {
   "base_numbering": 1,
   "nav_menu": {},
   "number_sections": true,
   "sideBar": true,
   "skip_h1_title": false,
   "title_cell": "Table of Contents",
   "title_sidebar": "Contents",
   "toc_cell": false,
   "toc_position": {},
   "toc_section_display": true,
   "toc_window_display": false
  }
 },
 "nbformat": 4,
 "nbformat_minor": 4
}
