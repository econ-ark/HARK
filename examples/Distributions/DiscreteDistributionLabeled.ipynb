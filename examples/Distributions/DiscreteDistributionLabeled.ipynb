{
 "cells": [
  {
   "cell_type": "markdown",
   "metadata": {},
   "source": [
    "# `DDL`: Using `xarray` in `DiscreteDistribution`\n"
   ]
  },
  {
   "cell_type": "markdown",
   "metadata": {},
   "source": [
    "First we import relevant libraries and tools, including the new `DiscreteDistributionLabeled` class.\n"
   ]
  },
  {
   "cell_type": "code",
   "execution_count": null,
   "metadata": {},
   "outputs": [],
   "source": [
    "import numpy as np\n",
    "from HARK.distribution import (\n",
    "    MeanOneLogNormal,\n",
    "    DiscreteDistributionLabeled,\n",
    "    calc_expectation,\n",
    "    combine_indep_dstns,\n",
    ")"
   ]
  },
  {
   "cell_type": "markdown",
   "metadata": {},
   "source": [
    "We create a distribution of shocks to income from continuous distributions.\n"
   ]
  },
  {
   "cell_type": "code",
   "execution_count": null,
   "metadata": {},
   "outputs": [],
   "source": [
    "PermShkDstn = MeanOneLogNormal().discretize(200)\n",
    "TranShkDstn = MeanOneLogNormal().discretize(200)\n",
    "IncShkDstn = combine_indep_dstns(PermShkDstn, TranShkDstn)"
   ]
  },
  {
   "cell_type": "markdown",
   "metadata": {},
   "source": [
    "Taking the components of `IncShkDstn`, we can now create a `DiscreteDistributionLabeled` object. As a demonstration of additional features, we can add a name attribute to the `DDL` object, as well as named dimensions and coordinates.\n"
   ]
  },
  {
   "cell_type": "code",
   "execution_count": null,
   "metadata": {},
   "outputs": [],
   "source": [
    "x_dist = DiscreteDistributionLabeled.from_unlabeled(\n",
    "    IncShkDstn,\n",
    "    name=\"Distribution of Shocks to Income\",\n",
    "    var_names=[\"perm_shk\", \"tran_shk\"],\n",
    "    var_attrs=[\n",
    "        {\n",
    "            \"name\": \"Permanent Shocks to Income\",\n",
    "            \"limit\": {\"type\": \"Lognormal\", \"mean\": -0.5, \"variance\": 1.0},\n",
    "        },\n",
    "        {\n",
    "            \"name\": \"Transitory Shocks to Income\",\n",
    "            \"limit\": {\"type\": \"Lognormal\", \"mean\": -0.5, \"variance\": 1.0},\n",
    "        },\n",
    "    ],\n",
    ")"
   ]
  },
  {
   "cell_type": "markdown",
   "metadata": {},
   "source": [
    "The underlying object and metadata is stored in a `xarray.Dataset` object which can be accessed using the `.dataset` attribute.\n"
   ]
  },
  {
   "cell_type": "code",
   "execution_count": null,
   "metadata": {},
   "outputs": [],
   "source": [
    "x_dist.dataset"
   ]
  },
  {
   "cell_type": "markdown",
   "metadata": {},
   "source": [
    "### Using functions with labels to take expresive expectations.\n"
   ]
  },
  {
   "cell_type": "markdown",
   "metadata": {},
   "source": [
    "Taking the expectation of a `DDL` object is straightforward using the own `expected()` method.\n"
   ]
  },
  {
   "cell_type": "code",
   "execution_count": null,
   "metadata": {},
   "outputs": [],
   "source": [
    "x_dist.expected()"
   ]
  },
  {
   "cell_type": "markdown",
   "metadata": {},
   "source": [
    "As in the `DiscreteDistribution`, we can provide a function and arguments to the `expected()` method.\n"
   ]
  },
  {
   "cell_type": "code",
   "execution_count": null,
   "metadata": {},
   "outputs": [],
   "source": [
    "aGrid = np.linspace(0, 20, 100)\n",
    "R = 1.03"
   ]
  },
  {
   "cell_type": "markdown",
   "metadata": {},
   "source": [
    "The main difference is that the `expected()` method of `DDL` objects can take a function that uses the labels of the `xarray.DataArray` object. This allows for clearer and more expresive mathematical functions and transition equations. Surprisingly, using a function with labels does not add much overhead to the function evaluation.\n"
   ]
  },
  {
   "cell_type": "code",
   "execution_count": null,
   "metadata": {},
   "outputs": [],
   "source": [
    "%%timeit\n",
    "x_dist.expected(\n",
    "    lambda dist, a, R: R * a / dist[\"perm_shk\"] + dist[\"tran_shk\"],\n",
    "    aGrid,\n",
    "    R,\n",
    ")"
   ]
  },
  {
   "cell_type": "markdown",
   "metadata": {},
   "source": [
    "Compared to the old method of `calc_expectation` which takes a `DiscreteDistribution` object as input, the new method which takes a `DiscreteDistributionLabeled` object is significantly faster."
   ]
  },
  {
   "cell_type": "code",
   "execution_count": null,
   "metadata": {},
   "outputs": [],
   "source": [
    "%%timeit\n",
    "calc_expectation(IncShkDstn, lambda dist, a, R: R * a / dist[0] + dist[1], aGrid, R)"
   ]
  },
  {
   "cell_type": "markdown",
   "metadata": {},
   "source": [
    "We can also use `HARK.distribution.expected`.\n"
   ]
  },
  {
   "cell_type": "code",
   "execution_count": null,
   "metadata": {},
   "outputs": [],
   "source": [
    "from HARK.distribution import expected"
   ]
  },
  {
   "cell_type": "code",
   "execution_count": null,
   "metadata": {},
   "outputs": [],
   "source": [
    "expected(\n",
    "    func=lambda dist, a, R: R * a / dist[\"perm_shk\"] + dist[\"tran_shk\"],\n",
    "    dist=x_dist,\n",
    "    args=(aGrid, R),\n",
    ")"
   ]
  },
  {
   "cell_type": "markdown",
   "metadata": {},
   "source": [
    "Additionally, we can use xarrays as inputs via keyword arguments."
   ]
  },
  {
   "cell_type": "code",
   "execution_count": null,
   "metadata": {},
   "outputs": [],
   "source": [
    "from xarray import DataArray\n",
    "\n",
    "aNrm = DataArray(aGrid, name=\"aNrm\", dims=(\"aNrm\"))"
   ]
  },
  {
   "cell_type": "code",
   "execution_count": null,
   "metadata": {},
   "outputs": [],
   "source": [
    "def mNrm_next(dist, R, a=None):\n",
    "    variables = {}\n",
    "    variables[\"mNrm_next\"] = R * a / dist[\"perm_shk\"] + dist[\"tran_shk\"]\n",
    "    return variables"
   ]
  },
  {
   "cell_type": "code",
   "execution_count": null,
   "metadata": {},
   "outputs": [],
   "source": [
    "%%timeit\n",
    "expected(\n",
    "    func=mNrm_next,\n",
    "    dist=x_dist,\n",
    "    args=R,\n",
    "    a=aNrm,\n",
    ")"
   ]
  },
  {
   "cell_type": "markdown",
   "metadata": {},
   "source": [
    "Taking the expectation with xarray inputs and labeled equations is still significantly faster than the old method."
   ]
  }
 ],
 "metadata": {
  "jupytext": {
   "formats": "ipynb,py:percent"
  },
  "kernelspec": {
   "display_name": "Python 3 (ipykernel)",
   "language": "python",
   "name": "python3"
  },
  "language_info": {
   "codemirror_mode": {
    "name": "ipython",
    "version": 3
   },
   "file_extension": ".py",
   "mimetype": "text/x-python",
   "name": "python",
   "nbconvert_exporter": "python",
   "pygments_lexer": "ipython3",
   "version": "3.10.12"
  },
  "vscode": {
   "interpreter": {
    "hash": "ab336f3885e19cdf99951e4b73ee65835b5095c97279903ad09e0692d3a202c7"
   }
  }
 },
 "nbformat": 4,
 "nbformat_minor": 4
}
