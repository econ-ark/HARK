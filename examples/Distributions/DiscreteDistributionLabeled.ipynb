{
 "cells": [
  {
   "cell_type": "markdown",
   "metadata": {},
   "source": [
    "# `DDL`: Using `xarray` in `DiscreteDistribution`\n"
   ]
  },
  {
   "cell_type": "markdown",
   "metadata": {},
   "source": [
    "First we import relevant libraries and tools, including the new `DiscreteDistributionLabeled` class.\n"
   ]
  },
  {
   "cell_type": "code",
   "execution_count": 1,
   "metadata": {
    "execution": {
     "iopub.execute_input": "2024-07-11T15:28:39.809239Z",
     "iopub.status.busy": "2024-07-11T15:28:39.808988Z",
     "iopub.status.idle": "2024-07-11T15:28:40.352492Z",
     "shell.execute_reply": "2024-07-11T15:28:40.351950Z"
    }
   },
   "outputs": [],
   "source": [
    "import numpy as np\n",
    "\n",
    "from HARK.distribution import (\n",
    "    DiscreteDistributionLabeled,\n",
    "    MeanOneLogNormal,\n",
    "    calc_expectation,\n",
    "    combine_indep_dstns,\n",
    ")"
   ]
  },
  {
   "cell_type": "markdown",
   "metadata": {},
   "source": [
    "We create a distribution of shocks to income from continuous distributions.\n"
   ]
  },
  {
   "cell_type": "code",
   "execution_count": 2,
   "metadata": {
    "execution": {
     "iopub.execute_input": "2024-07-11T15:28:40.354583Z",
     "iopub.status.busy": "2024-07-11T15:28:40.354231Z",
     "iopub.status.idle": "2024-07-11T15:28:40.363445Z",
     "shell.execute_reply": "2024-07-11T15:28:40.362927Z"
    }
   },
   "outputs": [],
   "source": [
    "PermShkDstn = MeanOneLogNormal().discretize(200)\n",
    "TranShkDstn = MeanOneLogNormal().discretize(200)\n",
    "IncShkDstn = combine_indep_dstns(PermShkDstn, TranShkDstn)"
   ]
  },
  {
   "cell_type": "markdown",
   "metadata": {},
   "source": [
    "Taking the components of `IncShkDstn`, we can now create a `DiscreteDistributionLabeled` object. As a demonstration of additional features, we can add a name attribute to the `DDL` object, as well as named dimensions and coordinates.\n"
   ]
  },
  {
   "cell_type": "code",
   "execution_count": 3,
   "metadata": {
    "execution": {
     "iopub.execute_input": "2024-07-11T15:28:40.365035Z",
     "iopub.status.busy": "2024-07-11T15:28:40.364789Z",
     "iopub.status.idle": "2024-07-11T15:28:40.368409Z",
     "shell.execute_reply": "2024-07-11T15:28:40.367721Z"
    }
   },
   "outputs": [],
   "source": [
    "x_dist = DiscreteDistributionLabeled.from_unlabeled(\n",
    "    IncShkDstn,\n",
    "    name=\"Distribution of Shocks to Income\",\n",
    "    var_names=[\"perm_shk\", \"tran_shk\"],\n",
    "    var_attrs=[\n",
    "        {\n",
    "            \"name\": \"Permanent Shocks to Income\",\n",
    "            \"limit\": {\"type\": \"Lognormal\", \"mean\": -0.5, \"variance\": 1.0},\n",
    "        },\n",
    "        {\n",
    "            \"name\": \"Transitory Shocks to Income\",\n",
    "            \"limit\": {\"type\": \"Lognormal\", \"mean\": -0.5, \"variance\": 1.0},\n",
    "        },\n",
    "    ],\n",
    ")"
   ]
  },
  {
   "cell_type": "markdown",
   "metadata": {},
   "source": [
    "The underlying object and metadata is stored in a `xarray.Dataset` object which can be accessed using the `.dataset` attribute.\n"
   ]
  },
  {
   "cell_type": "code",
   "execution_count": 4,
   "metadata": {
    "execution": {
     "iopub.execute_input": "2024-07-11T15:28:40.369943Z",
     "iopub.status.busy": "2024-07-11T15:28:40.369702Z",
     "iopub.status.idle": "2024-07-11T15:28:40.379462Z",
     "shell.execute_reply": "2024-07-11T15:28:40.378988Z"
    }
   },
   "outputs": [
    {
     "data": {
      "text/html": [
       "<div><svg style=\"position: absolute; width: 0; height: 0; overflow: hidden\">\n",
       "<defs>\n",
       "<symbol id=\"icon-database\" viewBox=\"0 0 32 32\">\n",
       "<path d=\"M16 0c-8.837 0-16 2.239-16 5v4c0 2.761 7.163 5 16 5s16-2.239 16-5v-4c0-2.761-7.163-5-16-5z\"></path>\n",
       "<path d=\"M16 17c-8.837 0-16-2.239-16-5v6c0 2.761 7.163 5 16 5s16-2.239 16-5v-6c0 2.761-7.163 5-16 5z\"></path>\n",
       "<path d=\"M16 26c-8.837 0-16-2.239-16-5v6c0 2.761 7.163 5 16 5s16-2.239 16-5v-6c0 2.761-7.163 5-16 5z\"></path>\n",
       "</symbol>\n",
       "<symbol id=\"icon-file-text2\" viewBox=\"0 0 32 32\">\n",
       "<path d=\"M28.681 7.159c-0.694-0.947-1.662-2.053-2.724-3.116s-2.169-2.030-3.116-2.724c-1.612-1.182-2.393-1.319-2.841-1.319h-15.5c-1.378 0-2.5 1.121-2.5 2.5v27c0 1.378 1.122 2.5 2.5 2.5h23c1.378 0 2.5-1.122 2.5-2.5v-19.5c0-0.448-0.137-1.23-1.319-2.841zM24.543 5.457c0.959 0.959 1.712 1.825 2.268 2.543h-4.811v-4.811c0.718 0.556 1.584 1.309 2.543 2.268zM28 29.5c0 0.271-0.229 0.5-0.5 0.5h-23c-0.271 0-0.5-0.229-0.5-0.5v-27c0-0.271 0.229-0.5 0.5-0.5 0 0 15.499-0 15.5 0v7c0 0.552 0.448 1 1 1h7v19.5z\"></path>\n",
       "<path d=\"M23 26h-14c-0.552 0-1-0.448-1-1s0.448-1 1-1h14c0.552 0 1 0.448 1 1s-0.448 1-1 1z\"></path>\n",
       "<path d=\"M23 22h-14c-0.552 0-1-0.448-1-1s0.448-1 1-1h14c0.552 0 1 0.448 1 1s-0.448 1-1 1z\"></path>\n",
       "<path d=\"M23 18h-14c-0.552 0-1-0.448-1-1s0.448-1 1-1h14c0.552 0 1 0.448 1 1s-0.448 1-1 1z\"></path>\n",
       "</symbol>\n",
       "</defs>\n",
       "</svg>\n",
       "<style>/* CSS stylesheet for displaying xarray objects in jupyterlab.\n",
       " *\n",
       " */\n",
       "\n",
       ":root {\n",
       "  --xr-font-color0: var(--jp-content-font-color0, rgba(0, 0, 0, 1));\n",
       "  --xr-font-color2: var(--jp-content-font-color2, rgba(0, 0, 0, 0.54));\n",
       "  --xr-font-color3: var(--jp-content-font-color3, rgba(0, 0, 0, 0.38));\n",
       "  --xr-border-color: var(--jp-border-color2, #e0e0e0);\n",
       "  --xr-disabled-color: var(--jp-layout-color3, #bdbdbd);\n",
       "  --xr-background-color: var(--jp-layout-color0, white);\n",
       "  --xr-background-color-row-even: var(--jp-layout-color1, white);\n",
       "  --xr-background-color-row-odd: var(--jp-layout-color2, #eeeeee);\n",
       "}\n",
       "\n",
       "html[theme=dark],\n",
       "body[data-theme=dark],\n",
       "body.vscode-dark {\n",
       "  --xr-font-color0: rgba(255, 255, 255, 1);\n",
       "  --xr-font-color2: rgba(255, 255, 255, 0.54);\n",
       "  --xr-font-color3: rgba(255, 255, 255, 0.38);\n",
       "  --xr-border-color: #1F1F1F;\n",
       "  --xr-disabled-color: #515151;\n",
       "  --xr-background-color: #111111;\n",
       "  --xr-background-color-row-even: #111111;\n",
       "  --xr-background-color-row-odd: #313131;\n",
       "}\n",
       "\n",
       ".xr-wrap {\n",
       "  display: block !important;\n",
       "  min-width: 300px;\n",
       "  max-width: 700px;\n",
       "}\n",
       "\n",
       ".xr-text-repr-fallback {\n",
       "  /* fallback to plain text repr when CSS is not injected (untrusted notebook) */\n",
       "  display: none;\n",
       "}\n",
       "\n",
       ".xr-header {\n",
       "  padding-top: 6px;\n",
       "  padding-bottom: 6px;\n",
       "  margin-bottom: 4px;\n",
       "  border-bottom: solid 1px var(--xr-border-color);\n",
       "}\n",
       "\n",
       ".xr-header > div,\n",
       ".xr-header > ul {\n",
       "  display: inline;\n",
       "  margin-top: 0;\n",
       "  margin-bottom: 0;\n",
       "}\n",
       "\n",
       ".xr-obj-type,\n",
       ".xr-array-name {\n",
       "  margin-left: 2px;\n",
       "  margin-right: 10px;\n",
       "}\n",
       "\n",
       ".xr-obj-type {\n",
       "  color: var(--xr-font-color2);\n",
       "}\n",
       "\n",
       ".xr-sections {\n",
       "  padding-left: 0 !important;\n",
       "  display: grid;\n",
       "  grid-template-columns: 150px auto auto 1fr 20px 20px;\n",
       "}\n",
       "\n",
       ".xr-section-item {\n",
       "  display: contents;\n",
       "}\n",
       "\n",
       ".xr-section-item input {\n",
       "  display: none;\n",
       "}\n",
       "\n",
       ".xr-section-item input + label {\n",
       "  color: var(--xr-disabled-color);\n",
       "}\n",
       "\n",
       ".xr-section-item input:enabled + label {\n",
       "  cursor: pointer;\n",
       "  color: var(--xr-font-color2);\n",
       "}\n",
       "\n",
       ".xr-section-item input:enabled + label:hover {\n",
       "  color: var(--xr-font-color0);\n",
       "}\n",
       "\n",
       ".xr-section-summary {\n",
       "  grid-column: 1;\n",
       "  color: var(--xr-font-color2);\n",
       "  font-weight: 500;\n",
       "}\n",
       "\n",
       ".xr-section-summary > span {\n",
       "  display: inline-block;\n",
       "  padding-left: 0.5em;\n",
       "}\n",
       "\n",
       ".xr-section-summary-in:disabled + label {\n",
       "  color: var(--xr-font-color2);\n",
       "}\n",
       "\n",
       ".xr-section-summary-in + label:before {\n",
       "  display: inline-block;\n",
       "  content: '►';\n",
       "  font-size: 11px;\n",
       "  width: 15px;\n",
       "  text-align: center;\n",
       "}\n",
       "\n",
       ".xr-section-summary-in:disabled + label:before {\n",
       "  color: var(--xr-disabled-color);\n",
       "}\n",
       "\n",
       ".xr-section-summary-in:checked + label:before {\n",
       "  content: '▼';\n",
       "}\n",
       "\n",
       ".xr-section-summary-in:checked + label > span {\n",
       "  display: none;\n",
       "}\n",
       "\n",
       ".xr-section-summary,\n",
       ".xr-section-inline-details {\n",
       "  padding-top: 4px;\n",
       "  padding-bottom: 4px;\n",
       "}\n",
       "\n",
       ".xr-section-inline-details {\n",
       "  grid-column: 2 / -1;\n",
       "}\n",
       "\n",
       ".xr-section-details {\n",
       "  display: none;\n",
       "  grid-column: 1 / -1;\n",
       "  margin-bottom: 5px;\n",
       "}\n",
       "\n",
       ".xr-section-summary-in:checked ~ .xr-section-details {\n",
       "  display: contents;\n",
       "}\n",
       "\n",
       ".xr-array-wrap {\n",
       "  grid-column: 1 / -1;\n",
       "  display: grid;\n",
       "  grid-template-columns: 20px auto;\n",
       "}\n",
       "\n",
       ".xr-array-wrap > label {\n",
       "  grid-column: 1;\n",
       "  vertical-align: top;\n",
       "}\n",
       "\n",
       ".xr-preview {\n",
       "  color: var(--xr-font-color3);\n",
       "}\n",
       "\n",
       ".xr-array-preview,\n",
       ".xr-array-data {\n",
       "  padding: 0 5px !important;\n",
       "  grid-column: 2;\n",
       "}\n",
       "\n",
       ".xr-array-data,\n",
       ".xr-array-in:checked ~ .xr-array-preview {\n",
       "  display: none;\n",
       "}\n",
       "\n",
       ".xr-array-in:checked ~ .xr-array-data,\n",
       ".xr-array-preview {\n",
       "  display: inline-block;\n",
       "}\n",
       "\n",
       ".xr-dim-list {\n",
       "  display: inline-block !important;\n",
       "  list-style: none;\n",
       "  padding: 0 !important;\n",
       "  margin: 0;\n",
       "}\n",
       "\n",
       ".xr-dim-list li {\n",
       "  display: inline-block;\n",
       "  padding: 0;\n",
       "  margin: 0;\n",
       "}\n",
       "\n",
       ".xr-dim-list:before {\n",
       "  content: '(';\n",
       "}\n",
       "\n",
       ".xr-dim-list:after {\n",
       "  content: ')';\n",
       "}\n",
       "\n",
       ".xr-dim-list li:not(:last-child):after {\n",
       "  content: ',';\n",
       "  padding-right: 5px;\n",
       "}\n",
       "\n",
       ".xr-has-index {\n",
       "  font-weight: bold;\n",
       "}\n",
       "\n",
       ".xr-var-list,\n",
       ".xr-var-item {\n",
       "  display: contents;\n",
       "}\n",
       "\n",
       ".xr-var-item > div,\n",
       ".xr-var-item label,\n",
       ".xr-var-item > .xr-var-name span {\n",
       "  background-color: var(--xr-background-color-row-even);\n",
       "  margin-bottom: 0;\n",
       "}\n",
       "\n",
       ".xr-var-item > .xr-var-name:hover span {\n",
       "  padding-right: 5px;\n",
       "}\n",
       "\n",
       ".xr-var-list > li:nth-child(odd) > div,\n",
       ".xr-var-list > li:nth-child(odd) > label,\n",
       ".xr-var-list > li:nth-child(odd) > .xr-var-name span {\n",
       "  background-color: var(--xr-background-color-row-odd);\n",
       "}\n",
       "\n",
       ".xr-var-name {\n",
       "  grid-column: 1;\n",
       "}\n",
       "\n",
       ".xr-var-dims {\n",
       "  grid-column: 2;\n",
       "}\n",
       "\n",
       ".xr-var-dtype {\n",
       "  grid-column: 3;\n",
       "  text-align: right;\n",
       "  color: var(--xr-font-color2);\n",
       "}\n",
       "\n",
       ".xr-var-preview {\n",
       "  grid-column: 4;\n",
       "}\n",
       "\n",
       ".xr-index-preview {\n",
       "  grid-column: 2 / 5;\n",
       "  color: var(--xr-font-color2);\n",
       "}\n",
       "\n",
       ".xr-var-name,\n",
       ".xr-var-dims,\n",
       ".xr-var-dtype,\n",
       ".xr-preview,\n",
       ".xr-attrs dt {\n",
       "  white-space: nowrap;\n",
       "  overflow: hidden;\n",
       "  text-overflow: ellipsis;\n",
       "  padding-right: 10px;\n",
       "}\n",
       "\n",
       ".xr-var-name:hover,\n",
       ".xr-var-dims:hover,\n",
       ".xr-var-dtype:hover,\n",
       ".xr-attrs dt:hover {\n",
       "  overflow: visible;\n",
       "  width: auto;\n",
       "  z-index: 1;\n",
       "}\n",
       "\n",
       ".xr-var-attrs,\n",
       ".xr-var-data,\n",
       ".xr-index-data {\n",
       "  display: none;\n",
       "  background-color: var(--xr-background-color) !important;\n",
       "  padding-bottom: 5px !important;\n",
       "}\n",
       "\n",
       ".xr-var-attrs-in:checked ~ .xr-var-attrs,\n",
       ".xr-var-data-in:checked ~ .xr-var-data,\n",
       ".xr-index-data-in:checked ~ .xr-index-data {\n",
       "  display: block;\n",
       "}\n",
       "\n",
       ".xr-var-data > table {\n",
       "  float: right;\n",
       "}\n",
       "\n",
       ".xr-var-name span,\n",
       ".xr-var-data,\n",
       ".xr-index-name div,\n",
       ".xr-index-data,\n",
       ".xr-attrs {\n",
       "  padding-left: 25px !important;\n",
       "}\n",
       "\n",
       ".xr-attrs,\n",
       ".xr-var-attrs,\n",
       ".xr-var-data,\n",
       ".xr-index-data {\n",
       "  grid-column: 1 / -1;\n",
       "}\n",
       "\n",
       "dl.xr-attrs {\n",
       "  padding: 0;\n",
       "  margin: 0;\n",
       "  display: grid;\n",
       "  grid-template-columns: 125px auto;\n",
       "}\n",
       "\n",
       ".xr-attrs dt,\n",
       ".xr-attrs dd {\n",
       "  padding: 0;\n",
       "  margin: 0;\n",
       "  float: left;\n",
       "  padding-right: 10px;\n",
       "  width: auto;\n",
       "}\n",
       "\n",
       ".xr-attrs dt {\n",
       "  font-weight: normal;\n",
       "  grid-column: 1;\n",
       "}\n",
       "\n",
       ".xr-attrs dt:hover span {\n",
       "  display: inline-block;\n",
       "  background: var(--xr-background-color);\n",
       "  padding-right: 10px;\n",
       "}\n",
       "\n",
       ".xr-attrs dd {\n",
       "  grid-column: 2;\n",
       "  white-space: pre-wrap;\n",
       "  word-break: break-all;\n",
       "}\n",
       "\n",
       ".xr-icon-database,\n",
       ".xr-icon-file-text2,\n",
       ".xr-no-icon {\n",
       "  display: inline-block;\n",
       "  vertical-align: middle;\n",
       "  width: 1em;\n",
       "  height: 1.5em !important;\n",
       "  stroke-width: 0;\n",
       "  stroke: currentColor;\n",
       "  fill: currentColor;\n",
       "}\n",
       "</style><pre class='xr-text-repr-fallback'>&lt;xarray.Dataset&gt; Size: 640kB\n",
       "Dimensions:   (atom: 40000)\n",
       "Dimensions without coordinates: atom\n",
       "Data variables:\n",
       "    perm_shk  (atom) float64 320kB 0.03491 0.03491 0.03491 ... 11.51 11.51 11.51\n",
       "    tran_shk  (atom) float64 320kB 0.03491 0.05308 0.0644 ... 5.724 6.966 11.51\n",
       "Attributes:\n",
       "    name:     Distribution of Shocks to Income</pre><div class='xr-wrap' style='display:none'><div class='xr-header'><div class='xr-obj-type'>xarray.Dataset</div></div><ul class='xr-sections'><li class='xr-section-item'><input id='section-1d09d28a-20ad-4191-b9dc-f1bbcafcb39e' class='xr-section-summary-in' type='checkbox' disabled ><label for='section-1d09d28a-20ad-4191-b9dc-f1bbcafcb39e' class='xr-section-summary'  title='Expand/collapse section'>Dimensions:</label><div class='xr-section-inline-details'><ul class='xr-dim-list'><li><span>atom</span>: 40000</li></ul></div><div class='xr-section-details'></div></li><li class='xr-section-item'><input id='section-b4f80c72-a681-47cc-bcc1-b834b3c7ed51' class='xr-section-summary-in' type='checkbox' disabled ><label for='section-b4f80c72-a681-47cc-bcc1-b834b3c7ed51' class='xr-section-summary'  title='Expand/collapse section'>Coordinates: <span>(0)</span></label><div class='xr-section-inline-details'></div><div class='xr-section-details'><ul class='xr-var-list'></ul></div></li><li class='xr-section-item'><input id='section-f08f04e5-1f15-4964-8b75-611a0e8cfbf6' class='xr-section-summary-in' type='checkbox'  checked><label for='section-f08f04e5-1f15-4964-8b75-611a0e8cfbf6' class='xr-section-summary' >Data variables: <span>(2)</span></label><div class='xr-section-inline-details'></div><div class='xr-section-details'><ul class='xr-var-list'><li class='xr-var-item'><div class='xr-var-name'><span>perm_shk</span></div><div class='xr-var-dims'>(atom)</div><div class='xr-var-dtype'>float64</div><div class='xr-var-preview xr-preview'>0.03491 0.03491 ... 11.51 11.51</div><input id='attrs-7c625382-ed5e-4a79-8fb8-11a5c94a4b6b' class='xr-var-attrs-in' type='checkbox' ><label for='attrs-7c625382-ed5e-4a79-8fb8-11a5c94a4b6b' title='Show/Hide attributes'><svg class='icon xr-icon-file-text2'><use xlink:href='#icon-file-text2'></use></svg></label><input id='data-0be76dc3-48df-4357-9b28-71b8d70be024' class='xr-var-data-in' type='checkbox'><label for='data-0be76dc3-48df-4357-9b28-71b8d70be024' title='Show/Hide data repr'><svg class='icon xr-icon-database'><use xlink:href='#icon-database'></use></svg></label><div class='xr-var-attrs'><dl class='xr-attrs'><dt><span>name :</span></dt><dd>Permanent Shocks to Income</dd><dt><span>limit :</span></dt><dd>{&#x27;type&#x27;: &#x27;Lognormal&#x27;, &#x27;mean&#x27;: -0.5, &#x27;variance&#x27;: 1.0}</dd></dl></div><div class='xr-var-data'><pre>array([ 0.03491194,  0.03491194,  0.03491194, ..., 11.50651472,\n",
       "       11.50651472, 11.50651472])</pre></div></li><li class='xr-var-item'><div class='xr-var-name'><span>tran_shk</span></div><div class='xr-var-dims'>(atom)</div><div class='xr-var-dtype'>float64</div><div class='xr-var-preview xr-preview'>0.03491 0.05308 ... 6.966 11.51</div><input id='attrs-44a6f4d3-ff98-4af7-a977-eb4c57ea0e48' class='xr-var-attrs-in' type='checkbox' ><label for='attrs-44a6f4d3-ff98-4af7-a977-eb4c57ea0e48' title='Show/Hide attributes'><svg class='icon xr-icon-file-text2'><use xlink:href='#icon-file-text2'></use></svg></label><input id='data-f3074631-bd75-4a4b-b9db-28fb108bb4c9' class='xr-var-data-in' type='checkbox'><label for='data-f3074631-bd75-4a4b-b9db-28fb108bb4c9' title='Show/Hide data repr'><svg class='icon xr-icon-database'><use xlink:href='#icon-database'></use></svg></label><div class='xr-var-attrs'><dl class='xr-attrs'><dt><span>name :</span></dt><dd>Transitory Shocks to Income</dd><dt><span>limit :</span></dt><dd>{&#x27;type&#x27;: &#x27;Lognormal&#x27;, &#x27;mean&#x27;: -0.5, &#x27;variance&#x27;: 1.0}</dd></dl></div><div class='xr-var-data'><pre>array([ 0.03491194,  0.0530801 ,  0.06439949, ...,  5.72401042,\n",
       "        6.9659349 , 11.50651472])</pre></div></li></ul></div></li><li class='xr-section-item'><input id='section-d48fb397-524e-4e49-bcb3-7aba51a7bfaf' class='xr-section-summary-in' type='checkbox' disabled ><label for='section-d48fb397-524e-4e49-bcb3-7aba51a7bfaf' class='xr-section-summary'  title='Expand/collapse section'>Indexes: <span>(0)</span></label><div class='xr-section-inline-details'></div><div class='xr-section-details'><ul class='xr-var-list'></ul></div></li><li class='xr-section-item'><input id='section-c82ef15c-c244-4198-a6c4-683ea27cbf55' class='xr-section-summary-in' type='checkbox'  checked><label for='section-c82ef15c-c244-4198-a6c4-683ea27cbf55' class='xr-section-summary' >Attributes: <span>(1)</span></label><div class='xr-section-inline-details'></div><div class='xr-section-details'><dl class='xr-attrs'><dt><span>name :</span></dt><dd>Distribution of Shocks to Income</dd></dl></div></li></ul></div></div>"
      ],
      "text/plain": [
       "<xarray.Dataset> Size: 640kB\n",
       "Dimensions:   (atom: 40000)\n",
       "Dimensions without coordinates: atom\n",
       "Data variables:\n",
       "    perm_shk  (atom) float64 320kB 0.03491 0.03491 0.03491 ... 11.51 11.51 11.51\n",
       "    tran_shk  (atom) float64 320kB 0.03491 0.05308 0.0644 ... 5.724 6.966 11.51\n",
       "Attributes:\n",
       "    name:     Distribution of Shocks to Income"
      ]
     },
     "execution_count": 4,
     "metadata": {},
     "output_type": "execute_result"
    }
   ],
   "source": [
    "x_dist.dataset"
   ]
  },
  {
   "cell_type": "markdown",
   "metadata": {},
   "source": [
    "### Using functions with labels to take expresive expectations.\n"
   ]
  },
  {
   "cell_type": "markdown",
   "metadata": {},
   "source": [
    "Taking the expectation of a `DDL` object is straightforward using the own `expected()` method.\n"
   ]
  },
  {
   "cell_type": "code",
   "execution_count": 5,
   "metadata": {
    "execution": {
     "iopub.execute_input": "2024-07-11T15:28:40.380980Z",
     "iopub.status.busy": "2024-07-11T15:28:40.380727Z",
     "iopub.status.idle": "2024-07-11T15:28:40.384030Z",
     "shell.execute_reply": "2024-07-11T15:28:40.383566Z"
    }
   },
   "outputs": [
    {
     "data": {
      "text/plain": [
       "array([1., 1.])"
      ]
     },
     "execution_count": 5,
     "metadata": {},
     "output_type": "execute_result"
    }
   ],
   "source": [
    "x_dist.expected()"
   ]
  },
  {
   "cell_type": "markdown",
   "metadata": {},
   "source": [
    "As in the `DiscreteDistribution`, we can provide a function and arguments to the `expected()` method.\n"
   ]
  },
  {
   "cell_type": "code",
   "execution_count": 6,
   "metadata": {
    "execution": {
     "iopub.execute_input": "2024-07-11T15:28:40.385529Z",
     "iopub.status.busy": "2024-07-11T15:28:40.385283Z",
     "iopub.status.idle": "2024-07-11T15:28:40.387737Z",
     "shell.execute_reply": "2024-07-11T15:28:40.387244Z"
    }
   },
   "outputs": [],
   "source": [
    "aGrid = np.linspace(0, 20, 100)\n",
    "R = 1.03"
   ]
  },
  {
   "cell_type": "markdown",
   "metadata": {},
   "source": [
    "The main difference is that the `expected()` method of `DDL` objects can take a function that uses the labels of the `xarray.DataArray` object. This allows for clearer and more expresive mathematical functions and transition equations. Surprisingly, using a function with labels does not add much overhead to the function evaluation.\n"
   ]
  },
  {
   "cell_type": "code",
   "execution_count": 7,
   "metadata": {
    "execution": {
     "iopub.execute_input": "2024-07-11T15:28:40.389284Z",
     "iopub.status.busy": "2024-07-11T15:28:40.388887Z",
     "iopub.status.idle": "2024-07-11T15:28:50.798166Z",
     "shell.execute_reply": "2024-07-11T15:28:50.797376Z"
    }
   },
   "outputs": [
    {
     "name": "stdout",
     "output_type": "stream",
     "text": [
      "12.9 ms ± 268 µs per loop (mean ± std. dev. of 7 runs, 100 loops each)\n"
     ]
    }
   ],
   "source": [
    "%%timeit\n",
    "x_dist.expected(\n",
    "    lambda dist, a, R: R * a / dist[\"perm_shk\"] + dist[\"tran_shk\"],\n",
    "    aGrid,\n",
    "    R,\n",
    ")"
   ]
  },
  {
   "cell_type": "markdown",
   "metadata": {},
   "source": [
    "Compared to the old method of `calc_expectation` which takes a `DiscreteDistribution` object as input, the new method which takes a `DiscreteDistributionLabeled` object is significantly faster."
   ]
  },
  {
   "cell_type": "code",
   "execution_count": 8,
   "metadata": {
    "execution": {
     "iopub.execute_input": "2024-07-11T15:28:50.801014Z",
     "iopub.status.busy": "2024-07-11T15:28:50.800415Z",
     "iopub.status.idle": "2024-07-11T15:29:04.469314Z",
     "shell.execute_reply": "2024-07-11T15:29:04.468693Z"
    }
   },
   "outputs": [
    {
     "name": "stdout",
     "output_type": "stream",
     "text": [
      "169 ms ± 1.57 ms per loop (mean ± std. dev. of 7 runs, 10 loops each)\n"
     ]
    }
   ],
   "source": [
    "%%timeit\n",
    "calc_expectation(IncShkDstn, lambda dist, a, R: R * a / dist[0] + dist[1], aGrid, R)"
   ]
  },
  {
   "cell_type": "markdown",
   "metadata": {},
   "source": [
    "We can also use `HARK.distribution.expected`.\n"
   ]
  },
  {
   "cell_type": "code",
   "execution_count": 9,
   "metadata": {
    "execution": {
     "iopub.execute_input": "2024-07-11T15:29:04.471912Z",
     "iopub.status.busy": "2024-07-11T15:29:04.471287Z",
     "iopub.status.idle": "2024-07-11T15:29:04.474795Z",
     "shell.execute_reply": "2024-07-11T15:29:04.474058Z"
    }
   },
   "outputs": [],
   "source": [
    "from HARK.distribution import expected"
   ]
  },
  {
   "cell_type": "code",
   "execution_count": 10,
   "metadata": {
    "execution": {
     "iopub.execute_input": "2024-07-11T15:29:04.477066Z",
     "iopub.status.busy": "2024-07-11T15:29:04.476612Z",
     "iopub.status.idle": "2024-07-11T15:29:04.497062Z",
     "shell.execute_reply": "2024-07-11T15:29:04.496453Z"
    }
   },
   "outputs": [
    {
     "data": {
      "text/plain": [
       "array([ 1.        ,  1.56267794,  2.12535588,  2.68803382,  3.25071176,\n",
       "        3.8133897 ,  4.37606764,  4.93874558,  5.50142352,  6.06410146,\n",
       "        6.6267794 ,  7.18945734,  7.75213528,  8.31481322,  8.87749116,\n",
       "        9.4401691 , 10.00284704, 10.56552498, 11.12820292, 11.69088086,\n",
       "       12.2535588 , 12.81623674, 13.37891468, 13.94159262, 14.50427056,\n",
       "       15.0669485 , 15.62962644, 16.19230438, 16.75498232, 17.31766026,\n",
       "       17.8803382 , 18.44301614, 19.00569408, 19.56837202, 20.13104997,\n",
       "       20.69372791, 21.25640585, 21.81908379, 22.38176173, 22.94443967,\n",
       "       23.50711761, 24.06979555, 24.63247349, 25.19515143, 25.75782937,\n",
       "       26.32050731, 26.88318525, 27.44586319, 28.00854113, 28.57121907,\n",
       "       29.13389701, 29.69657495, 30.25925289, 30.82193083, 31.38460877,\n",
       "       31.94728671, 32.50996465, 33.07264259, 33.63532053, 34.19799847,\n",
       "       34.76067641, 35.32335435, 35.88603229, 36.44871023, 37.01138817,\n",
       "       37.57406611, 38.13674405, 38.69942199, 39.26209993, 39.82477787,\n",
       "       40.38745581, 40.95013375, 41.51281169, 42.07548963, 42.63816757,\n",
       "       43.20084551, 43.76352345, 44.32620139, 44.88887933, 45.45155727,\n",
       "       46.01423521, 46.57691315, 47.13959109, 47.70226903, 48.26494697,\n",
       "       48.82762491, 49.39030285, 49.95298079, 50.51565873, 51.07833667,\n",
       "       51.64101461, 52.20369255, 52.76637049, 53.32904843, 53.89172637,\n",
       "       54.45440431, 55.01708225, 55.57976019, 56.14243813, 56.70511607])"
      ]
     },
     "execution_count": 10,
     "metadata": {},
     "output_type": "execute_result"
    }
   ],
   "source": [
    "expected(\n",
    "    func=lambda dist, a, R: R * a / dist[\"perm_shk\"] + dist[\"tran_shk\"],\n",
    "    dist=x_dist,\n",
    "    args=(aGrid, R),\n",
    ")"
   ]
  },
  {
   "cell_type": "markdown",
   "metadata": {},
   "source": [
    "Additionally, we can use xarrays as inputs via keyword arguments."
   ]
  },
  {
   "cell_type": "code",
   "execution_count": 11,
   "metadata": {
    "execution": {
     "iopub.execute_input": "2024-07-11T15:29:04.499560Z",
     "iopub.status.busy": "2024-07-11T15:29:04.499106Z",
     "iopub.status.idle": "2024-07-11T15:29:04.502529Z",
     "shell.execute_reply": "2024-07-11T15:29:04.501988Z"
    }
   },
   "outputs": [],
   "source": [
    "from xarray import DataArray\n",
    "\n",
    "aNrm = DataArray(aGrid, name=\"aNrm\", dims=(\"aNrm\"))"
   ]
  },
  {
   "cell_type": "code",
   "execution_count": 12,
   "metadata": {
    "execution": {
     "iopub.execute_input": "2024-07-11T15:29:04.504656Z",
     "iopub.status.busy": "2024-07-11T15:29:04.504464Z",
     "iopub.status.idle": "2024-07-11T15:29:04.510221Z",
     "shell.execute_reply": "2024-07-11T15:29:04.509618Z"
    }
   },
   "outputs": [],
   "source": [
    "def mNrm_next(dist, R, a=None):\n",
    "    variables = {}\n",
    "    variables[\"mNrm_next\"] = R * a / dist[\"perm_shk\"] + dist[\"tran_shk\"]\n",
    "    return variables"
   ]
  },
  {
   "cell_type": "code",
   "execution_count": 13,
   "metadata": {
    "execution": {
     "iopub.execute_input": "2024-07-11T15:29:04.512037Z",
     "iopub.status.busy": "2024-07-11T15:29:04.511882Z",
     "iopub.status.idle": "2024-07-11T15:29:17.731513Z",
     "shell.execute_reply": "2024-07-11T15:29:17.730953Z"
    }
   },
   "outputs": [
    {
     "name": "stdout",
     "output_type": "stream",
     "text": [
      "16.3 ms ± 142 µs per loop (mean ± std. dev. of 7 runs, 100 loops each)\n"
     ]
    }
   ],
   "source": [
    "%%timeit\n",
    "expected(\n",
    "    func=mNrm_next,\n",
    "    dist=x_dist,\n",
    "    args=R,\n",
    "    a=aNrm,\n",
    ")"
   ]
  },
  {
   "cell_type": "markdown",
   "metadata": {},
   "source": [
    "Taking the expectation with xarray inputs and labeled equations is still significantly faster than the old method."
   ]
  }
 ],
 "metadata": {
  "jupytext": {
   "formats": "ipynb,py:percent"
  },
  "kernelspec": {
   "display_name": "Python 3 (ipykernel)",
   "language": "python",
   "name": "python3"
  },
  "language_info": {
   "codemirror_mode": {
    "name": "ipython",
    "version": 3
   },
   "file_extension": ".py",
   "mimetype": "text/x-python",
   "name": "python",
   "nbconvert_exporter": "python",
   "pygments_lexer": "ipython3",
   "version": "3.11.9"
  },
  "vscode": {
   "interpreter": {
    "hash": "ab336f3885e19cdf99951e4b73ee65835b5095c97279903ad09e0692d3a202c7"
   }
  }
 },
 "nbformat": 4,
 "nbformat_minor": 4
}
