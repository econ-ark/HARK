{
 "cells": [
  {
   "cell_type": "markdown",
   "metadata": {},
   "source": [
    "# Demonstrations and Timings of HARK.expected\n"
   ]
  },
  {
   "cell_type": "markdown",
   "metadata": {},
   "source": [
    "First, we import the relevant libraries.\n"
   ]
  },
  {
   "cell_type": "code",
   "execution_count": null,
   "metadata": {},
   "outputs": [],
   "source": [
    "from time import time\n",
    "\n",
    "import numpy as np\n",
    "from HARK.distribution import (\n",
    "    MeanOneLogNormal,\n",
    "    Normal,\n",
    "    calc_expectation,\n",
    "    combine_indep_dstns,\n",
    ")"
   ]
  },
  {
   "cell_type": "markdown",
   "metadata": {},
   "source": [
    "Next, we define discrete distributions as approximations of continuous distributions.\n"
   ]
  },
  {
   "cell_type": "code",
   "execution_count": null,
   "metadata": {},
   "outputs": [],
   "source": [
    "dd_0_1_20 = Normal().discretize(20)\n",
    "dd_1_1_40 = Normal(mu=1).discretize(40)\n",
    "dd_10_10_100 = Normal(mu=10, sigma=10).discretize(100)"
   ]
  },
  {
   "cell_type": "markdown",
   "metadata": {},
   "source": [
    "### The **new** `DiscreteDistribution.expected()` method\n"
   ]
  },
  {
   "cell_type": "markdown",
   "metadata": {},
   "source": [
    "There are two ways to get the expectation of a distribution. The first is to use the **new** `expected()` method of the distribution shown below.\n"
   ]
  },
  {
   "cell_type": "code",
   "execution_count": null,
   "metadata": {},
   "outputs": [],
   "source": [
    "%%timeit\n",
    "ce1 = dd_0_1_20.expected()\n",
    "ce2 = dd_1_1_40.expected()\n",
    "ce3 = dd_10_10_100.expected()"
   ]
  },
  {
   "cell_type": "markdown",
   "metadata": {},
   "source": [
    "The second is to use `HARK.distribution.calc_expectation()`. Comparing the timings, the first method is significantly faster.\n"
   ]
  },
  {
   "cell_type": "code",
   "execution_count": null,
   "metadata": {},
   "outputs": [],
   "source": [
    "%%timeit\n",
    "ce1 = calc_expectation(dd_0_1_20)\n",
    "ce2 = calc_expectation(dd_1_1_40)\n",
    "ce3 = calc_expectation(dd_10_10_100)"
   ]
  },
  {
   "cell_type": "markdown",
   "metadata": {},
   "source": [
    "### The Expected Value of a function of a random variable\n"
   ]
  },
  {
   "cell_type": "markdown",
   "metadata": {},
   "source": [
    "Both of these methods allow us to calculate the expected value of a function of the distribution. Using the first method, which is the distribution's own method, we only need to provide the function.\n"
   ]
  },
  {
   "cell_type": "code",
   "execution_count": null,
   "metadata": {},
   "outputs": [],
   "source": [
    "%%timeit\n",
    "ce4 = dd_0_1_20.expected(lambda x: 2**x)\n",
    "ce5 = dd_1_1_40.expected(lambda x: 2 * x)"
   ]
  },
  {
   "cell_type": "markdown",
   "metadata": {},
   "source": [
    "Using `HARK.distribution.calc_expectation()`, we first provide the distribution and then the function.\n"
   ]
  },
  {
   "cell_type": "code",
   "execution_count": null,
   "metadata": {},
   "outputs": [],
   "source": [
    "%%timeit\n",
    "ce4 = calc_expectation(dd_0_1_20, lambda x: 2**x)\n",
    "ce5 = calc_expectation(dd_1_1_40, lambda x: 2 * x)"
   ]
  },
  {
   "cell_type": "markdown",
   "metadata": {},
   "source": [
    "#### The expected value of a function with additional arguments\n"
   ]
  },
  {
   "cell_type": "markdown",
   "metadata": {},
   "source": [
    "For both methods, we can also provide a number of arguments to the function `args`, which are passed to the function and gets called as `func(dstn,*args)`.\n"
   ]
  },
  {
   "cell_type": "code",
   "execution_count": null,
   "metadata": {},
   "outputs": [],
   "source": [
    "%%timeit\n",
    "ce6 = dd_10_10_100.expected(lambda x, y: 2 * x + y, 20)\n",
    "ce7 = dd_0_1_20.expected(lambda x, y: x + y, np.hstack([0, 1, 2, 3, 4, 5]))"
   ]
  },
  {
   "cell_type": "code",
   "execution_count": null,
   "metadata": {},
   "outputs": [],
   "source": [
    "%%timeit\n",
    "ce6 = calc_expectation(dd_10_10_100, lambda x, y: 2 * x + y, 20)\n",
    "ce7 = calc_expectation(dd_0_1_20, lambda x, y: x + y, np.hstack([0, 1, 2, 3, 4, 5]))"
   ]
  },
  {
   "cell_type": "markdown",
   "metadata": {},
   "source": [
    "### The expected value of a function in `HARK`\n"
   ]
  },
  {
   "cell_type": "markdown",
   "metadata": {},
   "source": [
    "For a more practical demonstration of these methods as they would be used in `HARK`, we can create a distcrete distribution of shocks to income `IncShkDstn`. Given an array of liquid assets `aGrid` and an interest rate `R`, we can calculate the expected value of next period's cash on hand as the function `m_next = R * aGrid / perm_shk + tran_shk`. Below we see how this is done. Notice that the arguments to the function can be multidimensional.\n"
   ]
  },
  {
   "cell_type": "code",
   "execution_count": null,
   "metadata": {},
   "outputs": [],
   "source": [
    "PermShkDstn = MeanOneLogNormal().discretize(200)\n",
    "TranShkDstn = MeanOneLogNormal().discretize(200)\n",
    "IncShkDstn = combine_indep_dstns(PermShkDstn, TranShkDstn)\n",
    "aGrid = np.linspace(0, 20, 100)  # aNrm grid\n",
    "R = 1.05  # interest rate\n",
    "\n",
    "\n",
    "def m_next(x, aGrid, R):\n",
    "    return R * aGrid / x[0] + x[1]"
   ]
  },
  {
   "cell_type": "code",
   "execution_count": null,
   "metadata": {},
   "outputs": [],
   "source": [
    "%%timeit\n",
    "ce8 = IncShkDstn.expected(m_next, aGrid, R)\n",
    "ce9 = IncShkDstn.expected(m_next, aGrid.reshape((10, 10)), R)"
   ]
  },
  {
   "cell_type": "code",
   "execution_count": null,
   "metadata": {},
   "outputs": [],
   "source": [
    "%%timeit\n",
    "ce8 = calc_expectation(IncShkDstn, m_next, aGrid, R)\n",
    "ce9 = calc_expectation(IncShkDstn, m_next, aGrid.reshape((10, 10)), R)"
   ]
  },
  {
   "cell_type": "markdown",
   "metadata": {},
   "source": [
    "### Time Comparison of the two methods\n"
   ]
  },
  {
   "cell_type": "markdown",
   "metadata": {},
   "source": [
    "As a final comparision of these two methods, we can see how the time difference is affected by the number of points in the distribution.\n"
   ]
  },
  {
   "cell_type": "code",
   "execution_count": null,
   "metadata": {},
   "outputs": [],
   "source": [
    "size = np.arange(1, 11) * 100\n",
    "\n",
    "t_self = []\n",
    "t_dist = []\n",
    "\n",
    "for n in size:\n",
    "    PermShkDstn = MeanOneLogNormal().discretize(n)\n",
    "    TranShkDstn = MeanOneLogNormal().discretize(n)\n",
    "    IncShkDstn = combine_indep_dstns(PermShkDstn, TranShkDstn)\n",
    "\n",
    "    m_next = lambda X, a, r: r * a / X[0] + X[1]\n",
    "    a_grid = np.linspace(0, 20, 100).reshape((10, 10))\n",
    "    R = 1.05\n",
    "\n",
    "    start_self = time()\n",
    "    ce_self = IncShkDstn.expected(m_next, a_grid, R)\n",
    "    time_self = time() - start_self\n",
    "\n",
    "    start_dist = time()\n",
    "    ce_dist = calc_expectation(IncShkDstn, m_next, a_grid, R)\n",
    "    time_dist = time() - start_dist\n",
    "\n",
    "    t_self.append(time_self)\n",
    "    t_dist.append(time_dist)"
   ]
  },
  {
   "cell_type": "code",
   "execution_count": null,
   "metadata": {},
   "outputs": [],
   "source": [
    "import matplotlib.pyplot as plt\n",
    "\n",
    "plt.plot(size, t_self, label=\"dist.ev(f)\")\n",
    "plt.plot(size, t_dist, label=\"ce(dist, f)\")\n",
    "plt.title(\"Time to calculate expectation of a function of shocks to income.\")\n",
    "plt.ylabel(\"time (s)\")\n",
    "plt.xlabel(\"size of grid: $x^2$\")\n",
    "plt.legend()\n",
    "plt.show()"
   ]
  },
  {
   "cell_type": "markdown",
   "metadata": {},
   "source": [
    "### Aliases for the new `expected()` method\n"
   ]
  },
  {
   "cell_type": "markdown",
   "metadata": {},
   "source": [
    "There is a top-level alias for the new `expected()` method to make it clearer as a mathematical expression. The way to access it is as follows:\n",
    "\n",
    "`expected(func, dstn, *args)`\n"
   ]
  },
  {
   "cell_type": "code",
   "execution_count": null,
   "metadata": {},
   "outputs": [],
   "source": [
    "from HARK.distribution import expected"
   ]
  },
  {
   "cell_type": "code",
   "execution_count": null,
   "metadata": {},
   "outputs": [],
   "source": [
    "expected(func=m_next, dist=IncShkDstn, args=(aGrid, R))"
   ]
  },
  {
   "cell_type": "code",
   "execution_count": null,
   "metadata": {},
   "outputs": [],
   "source": [
    "expected(func=lambda x: 1 / x[0] + x[1], dist=IncShkDstn)"
   ]
  },
  {
   "cell_type": "code",
   "execution_count": null,
   "metadata": {},
   "outputs": [],
   "source": []
  }
 ],
 "metadata": {
  "jupytext": {
   "formats": "ipynb,py:percent"
  },
  "kernelspec": {
   "display_name": "Python 3 (ipykernel)",
   "language": "python",
   "name": "python3"
  },
  "language_info": {
   "codemirror_mode": {
    "name": "ipython",
    "version": 3
   },
   "file_extension": ".py",
   "mimetype": "text/x-python",
   "name": "python",
   "nbconvert_exporter": "python",
   "pygments_lexer": "ipython3",
   "version": "3.10.12"
  },
  "vscode": {
   "interpreter": {
    "hash": "ab336f3885e19cdf99951e4b73ee65835b5095c97279903ad09e0692d3a202c7"
   }
  }
 },
 "nbformat": 4,
 "nbformat_minor": 4
}
