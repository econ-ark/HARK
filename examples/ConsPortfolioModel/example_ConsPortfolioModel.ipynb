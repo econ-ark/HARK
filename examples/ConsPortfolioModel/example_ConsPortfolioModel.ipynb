{
 "cells": [
  {
   "cell_type": "markdown",
   "metadata": {},
   "source": [
    "# Portfolio Models in HARK\n",
    "\n",
    "In this notebook, we consider the solution and simulation of a number of microeconomic problems in the context of optimal portfolio choice.\n",
    "\n",
    "The agents in this model are first defined using the dictionary from the `PerfForesightConsumerType` class and additional attributes are added using the `IndShockConsumerType` class.\n",
    "\n",
    "From there, the `ConsPortfolioDict` dictionary is introduced to create the `PortfolioConsumerType` and each of the subseqeunt agent types using it."
   ]
  },
  {
   "cell_type": "code",
   "execution_count": null,
   "metadata": {
    "lines_to_next_cell": 2
   },
   "outputs": [],
   "source": [
    "from copy import copy, deepcopy\n",
    "from time import time\n",
    "\n",
    "import matplotlib.pyplot as plt\n",
    "import numpy as np\n",
    "\n",
    "from HARK.ConsumptionSaving.ConsIndShockModel import (\n",
    "    init_lifecycle,\n",
    "    time_params,\n",
    "    dist_params,\n",
    "    income_params,\n",
    "    liv_prb,\n",
    ")\n",
    "from HARK.ConsumptionSaving.ConsPortfolioModel import (\n",
    "    PortfolioConsumerType,\n",
    "    init_portfolio,\n",
    ")\n",
    "from HARK.utilities import plot_funcs"
   ]
  },
  {
   "cell_type": "markdown",
   "metadata": {},
   "source": [
    "## 1. The baseline model of optimal portfolio choice"
   ]
  },
  {
   "cell_type": "code",
   "execution_count": null,
   "metadata": {},
   "outputs": [],
   "source": [
    "# Initial attempt for defining a dictionary for the Portfolio consumer type -- needs to be tested!\n",
    "\n",
    "ConsPortfolioDict = {\n",
    "    # Parameters shared with the Perfect foresight consumer type\n",
    "    \"CRRA\": 5.0,  # Coefficient of relative risk aversion,\n",
    "    \"Rfree\": 1.03,  # Interest factor on assets\n",
    "    \"DiscFac\": 0.90,  # Intertemporal discount factor\n",
    "    \"LivPrb\": [0.98],  # Survival probability\n",
    "    \"PermGroFac\": [1.01],  # Permanent income growth factor\n",
    "    \"BoroCnstArt\": 0.0,  # Artificial borrowing constraint\n",
    "    \"MaxKinks\": 400,  # Maximum number of grid points to allow in cFunc (should be large)\n",
    "    \"AgentCount\": 10000,  # Number of agents of this type (only matters for simulation)\n",
    "    \"aNrmInitMean\": 0.0,  # Mean of log initial assets (only matters for simulation)\n",
    "    \"aNrmInitStd\": 1.0,  # Standard deviation of log initial assets (only for simulation)\n",
    "    \"pLvlInitMean\": 0.0,  # Mean of log initial permanent income (only matters for simulation)\n",
    "    \"pLvlInitStd\": 0.0,  # Standard deviation of log initial permanent income (only matters for simulation)\n",
    "    \"PermGroFacAgg\": 1.0,  # Aggregate permanent income growth factor: portion of PermGroFac attributable to aggregate productivity growth (only matters for simulation)\n",
    "    \"T_age\": None,  # Age after which simulated agents are automatically killed\n",
    "    \"T_cycle\": 1,  # Number of periods in the cycle for this agent type\n",
    "    \"PerfMITShk\": False,  # Do Perfect Foresight MIT Shock: Forces Newborns to follow solution path of the agent he/she replaced when True\n",
    "    # assets above grid parameters\n",
    "    \"aXtraMin\": 0.001,  # Minimum end-of-period \"assets above minimum\" value\n",
    "    \"aXtraMax\": 100,  # Maximum end-of-period \"assets above minimum\" value\n",
    "    \"aXtraNestFac\": 1,  # Exponential nesting factor when constructing \"assets above minimum\" grid\n",
    "    \"aXtraCount\": 200,  # Number of points in the grid of \"assets above minimum\"\n",
    "    \"aXtraExtra\": [\n",
    "        None\n",
    "    ],  # Some other value of \"assets above minimum\" to add to the grid, not used\n",
    "    # Income process variables\n",
    "    \"PermShkStd\": [0.1],  # Standard deviation of log permanent income shocks\n",
    "    \"PermShkCount\": 7,  # Number of points in discrete approximation to permanent income shocks\n",
    "    \"TranShkStd\": [0.1],  # Standard deviation of log transitory income shocks\n",
    "    \"TranShkCount\": 7,  # Number of points in discrete approximation to transitory income shocks\n",
    "    \"UnempPrb\": 0.05,  # Probability of unemployment while working\n",
    "    \"UnempPrbRet\": 0.005,  # Probability of \"unemployment\" while retired\n",
    "    \"IncUnemp\": 0.3,  # Unemployment benefits replacement rate\n",
    "    \"IncUnempRet\": 0.0,  # \"Unemployment\" benefits when retired\n",
    "    \"tax_rate\": 0.0,  # Flat income tax rate\n",
    "    \"T_retire\": 0,  # Period of retirement (0 --> no retirement)\n",
    "    \"vFuncBool\": False,  # Whether to calculate the value function during solution\n",
    "    \"CubicBool\": False,  # Use cubic spline interpolation when True, linear interpolation when False\n",
    "    \"neutral_measure\": False,  # Use permanent income neutral measure (see Harmenberg 2021) during simulations when True.\n",
    "    \"NewbornTransShk\": False,  # Whether Newborns have transitory shock. The default is False.\n",
    "    # Attributes specific to the Portfolio consumer\n",
    "    \"RiskyAvg\": 1.08,  # Average return of the risky asset\n",
    "    \"RiskyStd\": 0.20,  # Standard deviation of (log) risky returns\n",
    "    \"RiskyCount\": 5,  # Number of integration nodes to use in approximation of risky returns\n",
    "    \"ShareCount\": 25,  # Number of discrete points in the risky share approximation\n",
    "    \"AdjustPrb\": 1.0,  # Probability that the agent can adjust their risky portfolio share each period\n",
    "    \"DiscreteShareBool\": False,  # Flag for whether to optimize risky share on a discrete grid only\n",
    "}"
   ]
  },
  {
   "cell_type": "code",
   "execution_count": null,
   "metadata": {},
   "outputs": [],
   "source": [
    "# Make and solve an example portfolio choice consumer type\n",
    "print(\"Now solving an example portfolio choice problem; this might take a moment...\")\n",
    "MyType = PortfolioConsumerType(**ConsPortfolioDict)\n",
    "MyType.cycles = 0\n",
    "t0 = time()\n",
    "MyType.solve()\n",
    "t1 = time()\n",
    "MyType.cFunc = [MyType.solution[t].cFuncAdj for t in range(MyType.T_cycle)]\n",
    "MyType.ShareFunc = [MyType.solution[t].ShareFuncAdj for t in range(MyType.T_cycle)]\n",
    "print(\n",
    "    \"Solving an infinite horizon portfolio choice problem took \"\n",
    "    + str(t1 - t0)\n",
    "    + \" seconds.\"\n",
    ")"
   ]
  },
  {
   "cell_type": "code",
   "execution_count": null,
   "metadata": {
    "lines_to_next_cell": 2
   },
   "outputs": [],
   "source": [
    "# Plot the consumption and risky-share functions\n",
    "print(\"Consumption function over market resources:\")\n",
    "plot_funcs(MyType.cFunc[0], 0.0, 20.0)\n",
    "print(\"Risky asset share as a function of market resources:\")\n",
    "print(\"Optimal (blue) versus Theoretical Limit (orange)\")\n",
    "plt.xlabel(\"Normalized Market Resources\")\n",
    "plt.ylabel(\"Portfolio Share\")\n",
    "plt.ylim(0.0, 1.0)\n",
    "# Since we are using a discretization of the lognormal distribution,\n",
    "# the limit is numerically computed and slightly different from\n",
    "# the analytical limit obtained by Merton and Samuelson for infinite wealth\n",
    "plot_funcs(\n",
    "    [\n",
    "        MyType.ShareFunc[0],\n",
    "        lambda m: MyType.ShareLimit * np.ones_like(m),\n",
    "    ],\n",
    "    0.0,\n",
    "    200.0,\n",
    ")"
   ]
  },
  {
   "cell_type": "code",
   "execution_count": null,
   "metadata": {
    "lines_to_next_cell": 2
   },
   "outputs": [],
   "source": [
    "# Now simulate this consumer type\n",
    "MyType.track_vars = [\"cNrm\", \"Share\", \"aNrm\", \"t_age\"]\n",
    "MyType.T_sim = 100\n",
    "MyType.initialize_sim()\n",
    "MyType.simulate()"
   ]
  },
  {
   "cell_type": "code",
   "execution_count": null,
   "metadata": {
    "lines_to_next_cell": 2
   },
   "outputs": [],
   "source": [
    "print(\"\\n\\n\\n\")\n",
    "print(\"For derivation of the numerical limiting portfolio share\")\n",
    "print(\"as market resources approach infinity, see\")\n",
    "print(\n",
    "    \"http://www.econ2.jhu.edu/people/ccarroll/public/lecturenotes/AssetPricing/Portfolio-CRRA/\"\n",
    ")"
   ]
  },
  {
   "cell_type": "markdown",
   "metadata": {},
   "source": [
    "## 2. Discrete portfolio choice"
   ]
  },
  {
   "cell_type": "code",
   "execution_count": null,
   "metadata": {},
   "outputs": [],
   "source": [
    "# Make another example type, but this one optimizes risky portfolio share only\n",
    "# on the discrete grid of values implicitly chosen by RiskyCount, using explicit\n",
    "# value maximization.\n",
    "DiscConsPortfolioDict = ConsPortfolioDict.copy()\n",
    "DiscConsPortfolioDict[\"DiscreteShareBool\"] = True\n",
    "# Have to actually construct value function for this to work\n",
    "DiscConsPortfolioDict[\"vFuncBool\"] = True"
   ]
  },
  {
   "cell_type": "code",
   "execution_count": null,
   "metadata": {
    "lines_to_next_cell": 2
   },
   "outputs": [],
   "source": [
    "# Create the discrete type using the dictionary, then change relevant attributes\n",
    "DiscreteType = PortfolioConsumerType(**DiscConsPortfolioDict)\n",
    "DiscreteType.cycles = 0\n",
    "\n",
    "print(\"Now solving a discrete choice portfolio problem; this might take a minute...\")\n",
    "\n",
    "t0 = time()\n",
    "DiscreteType.solve()\n",
    "t1 = time()\n",
    "DiscreteType.cFunc = [\n",
    "    DiscreteType.solution[t].cFuncAdj for t in range(DiscreteType.T_cycle)\n",
    "]\n",
    "DiscreteType.ShareFunc = [\n",
    "    DiscreteType.solution[t].ShareFuncAdj for t in range(DiscreteType.T_cycle)\n",
    "]\n",
    "print(\n",
    "    \"Solving an infinite horizon discrete portfolio choice problem took \"\n",
    "    + str(t1 - t0)\n",
    "    + \" seconds.\"\n",
    ")"
   ]
  },
  {
   "cell_type": "code",
   "execution_count": null,
   "metadata": {
    "lines_to_next_cell": 2
   },
   "outputs": [],
   "source": [
    "# Plot the consumption and risky-share functions\n",
    "print(\"Consumption function over market resources:\")\n",
    "plot_funcs(DiscreteType.cFunc[0], 0.0, 50.0)\n",
    "print(\"Risky asset share as a function of market resources:\")\n",
    "print(\"Optimal (blue) versus Theoretical Limit (orange)\")\n",
    "plt.xlabel(\"Normalized Market Resources\")\n",
    "plt.ylabel(\"Portfolio Share\")\n",
    "plt.ylim(0.0, 1.0)\n",
    "# Since we are using a discretization of the lognormal distribution,\n",
    "# the limit is numerically computed and slightly different from\n",
    "# the analytical limit obtained by Merton and Samuelson for infinite wealth\n",
    "plot_funcs(\n",
    "    [DiscreteType.ShareFunc[0], lambda m: DiscreteType.ShareLimit * np.ones_like(m)],\n",
    "    0.0,\n",
    "    200.0,\n",
    ")"
   ]
  },
  {
   "cell_type": "code",
   "execution_count": null,
   "metadata": {
    "lines_to_next_cell": 2
   },
   "outputs": [],
   "source": [
    "print(\"\\n\\n\\n\")"
   ]
  },
  {
   "cell_type": "markdown",
   "metadata": {},
   "source": [
    "## 3. A model of \"sticky\" portfolio choice"
   ]
  },
  {
   "cell_type": "code",
   "execution_count": null,
   "metadata": {
    "lines_to_next_cell": 2
   },
   "outputs": [],
   "source": [
    "# Make another example type, but this one can only update their risky portfolio\n",
    "# share in any particular period with 15% probability.\n",
    "StickyConsPortfolioDict = ConsPortfolioDict.copy()\n",
    "StickyConsPortfolioDict[\"AdjustPrb\"] = 0.15"
   ]
  },
  {
   "cell_type": "code",
   "execution_count": null,
   "metadata": {
    "lines_to_next_cell": 2
   },
   "outputs": [],
   "source": [
    "# Make and solve a discrete portfolio choice consumer type\n",
    "print(\n",
    "    'Now solving a portfolio choice problem with \"sticky\" portfolio shares; this might take a moment...'\n",
    ")\n",
    "StickyType = PortfolioConsumerType(**StickyConsPortfolioDict)\n",
    "StickyType.cycles = 0\n",
    "t0 = time()\n",
    "StickyType.solve()\n",
    "t1 = time()\n",
    "StickyType.cFuncAdj = [\n",
    "    StickyType.solution[t].cFuncAdj for t in range(StickyType.T_cycle)\n",
    "]\n",
    "StickyType.cFuncFxd = [\n",
    "    StickyType.solution[t].cFuncFxd for t in range(StickyType.T_cycle)\n",
    "]\n",
    "StickyType.ShareFunc = [\n",
    "    StickyType.solution[t].ShareFuncAdj for t in range(StickyType.T_cycle)\n",
    "]\n",
    "print(\n",
    "    \"Solving an infinite horizon sticky portfolio choice problem took \"\n",
    "    + str(t1 - t0)\n",
    "    + \" seconds.\"\n",
    ")"
   ]
  },
  {
   "cell_type": "code",
   "execution_count": null,
   "metadata": {
    "lines_to_next_cell": 2
   },
   "outputs": [],
   "source": [
    "# Plot the consumption and risky-share functions\n",
    "print(\n",
    "    \"Consumption function over market resources when the agent can adjust his portfolio:\"\n",
    ")\n",
    "plot_funcs(StickyType.cFuncAdj[0], 0.0, 50.0)"
   ]
  },
  {
   "cell_type": "code",
   "execution_count": null,
   "metadata": {
    "lines_to_next_cell": 2
   },
   "outputs": [],
   "source": [
    "print(\n",
    "    \"Consumption function over market resources when the agent CAN'T adjust, by current share:\"\n",
    ")\n",
    "M = np.linspace(0.0, 50.0, 200)\n",
    "for s in np.linspace(0.0, 1.0, 21):\n",
    "    C = StickyType.cFuncFxd[0](M, s * np.ones_like(M))\n",
    "    plt.plot(M, C)\n",
    "plt.xlim(0.0, 50.0)\n",
    "plt.ylim(0.0, None)\n",
    "plt.show()"
   ]
  },
  {
   "cell_type": "code",
   "execution_count": null,
   "metadata": {
    "lines_to_next_cell": 2
   },
   "outputs": [],
   "source": [
    "print(\"Risky asset share function over market resources (when possible to adjust):\")\n",
    "print(\"Optimal (blue) versus Theoretical Limit (orange)\")\n",
    "plt.xlabel(\"Normalized Market Resources\")\n",
    "plt.ylabel(\"Portfolio Share\")\n",
    "plt.ylim(0.0, 1.0)\n",
    "plot_funcs(\n",
    "    [StickyType.ShareFunc[0], lambda m: StickyType.ShareLimit * np.ones_like(m)],\n",
    "    0.0,\n",
    "    200.0,\n",
    ")"
   ]
  },
  {
   "cell_type": "markdown",
   "metadata": {},
   "source": [
    "Notice the wiggle in the blue line. This reflects the fact that the maximum grid point for which the solution is calculated is $a=100$ and the (incorrect) assumption built into the model that the portfolio share asymptotes to the frictionless analytical case. An alternative (not yet implemented) would be to calculate the implicit limit defined by the rate of geometric decay among the last grid points and assume that this is the limit.\n",
    "\n",
    "The difference between the two is likely due to the agent's inability to adjust their portfolio.\n"
   ]
  },
  {
   "cell_type": "markdown",
   "metadata": {},
   "source": [
    "## 4. Life-cycle model of portfolio choice"
   ]
  },
  {
   "cell_type": "code",
   "execution_count": null,
   "metadata": {},
   "outputs": [],
   "source": [
    "LC_ConsPortfolioDict = copy(ConsPortfolioDict)\n",
    "LC_ConsPortfolioDict.update(time_params)\n",
    "LC_ConsPortfolioDict.update(dist_params)\n",
    "# Note the income specification overrides the pLvlInitMean from the SCF.\n",
    "LC_ConsPortfolioDict.update(income_params)\n",
    "LC_ConsPortfolioDict.update({\"LivPrb\": liv_prb})\n",
    "\n",
    "LC_ConsPortfolioDict[\"RiskyAvg\"] = [1.08] * init_lifecycle[\"T_cycle\"]\n",
    "LC_ConsPortfolioDict[\"RiskyStd\"] = list(\n",
    "    np.linspace(0.20, 0.30, init_lifecycle[\"T_cycle\"])\n",
    ")\n",
    "LC_ConsPortfolioDict[\"RiskyAvgTrue\"] = 1.08\n",
    "LC_ConsPortfolioDict[\"RiskyStdTrue\"] = 0.20\n",
    "AgeVaryingRiskPercType = PortfolioConsumerType(**LC_ConsPortfolioDict)\n",
    "AgeVaryingRiskPercType.cycles = 1"
   ]
  },
  {
   "cell_type": "code",
   "execution_count": null,
   "metadata": {
    "lines_to_next_cell": 2
   },
   "outputs": [],
   "source": [
    "# Solve the agent type with age-varying risk perceptions\n",
    "# print('Now solving a portfolio choice problem with age-varying risk perceptions...')\n",
    "t0 = time()\n",
    "AgeVaryingRiskPercType.solve()\n",
    "AgeVaryingRiskPercType.cFunc = [\n",
    "    AgeVaryingRiskPercType.solution[t].cFuncAdj\n",
    "    for t in range(AgeVaryingRiskPercType.T_cycle)\n",
    "]\n",
    "AgeVaryingRiskPercType.ShareFunc = [\n",
    "    AgeVaryingRiskPercType.solution[t].ShareFuncAdj\n",
    "    for t in range(AgeVaryingRiskPercType.T_cycle)\n",
    "]\n",
    "t1 = time()\n",
    "print(\n",
    "    \"Solving a \"\n",
    "    + str(AgeVaryingRiskPercType.T_cycle)\n",
    "    + \" period portfolio choice problem with age-varying risk perceptions took \"\n",
    "    + str(t1 - t0)\n",
    "    + \" seconds.\"\n",
    ")"
   ]
  },
  {
   "cell_type": "code",
   "execution_count": null,
   "metadata": {
    "lines_to_next_cell": 2
   },
   "outputs": [],
   "source": [
    "# Plot the consumption and risky-share functions\n",
    "print(\"Consumption function over market resources in each lifecycle period:\")\n",
    "plot_funcs(AgeVaryingRiskPercType.cFunc, 0.0, 20.0)\n",
    "print(\"Risky asset share function over market resources in each lifecycle period:\")\n",
    "plot_funcs(AgeVaryingRiskPercType.ShareFunc, 0.0, 200.0)"
   ]
  },
  {
   "cell_type": "markdown",
   "metadata": {},
   "source": [
    "## 5. Portfolio choice with Merton-Samuelson limiting shares\n",
    "\n",
    "The code below tests the mathematical limits of the model and features the definition of a Merton-Samuelson type consumer."
   ]
  },
  {
   "cell_type": "code",
   "execution_count": null,
   "metadata": {},
   "outputs": [],
   "source": [
    "# Create a grid of market resources for the plots\n",
    "mMin = 0  # Minimum ratio of assets to income to plot\n",
    "mMax = 5 * 1e2  # Maximum ratio of assets to income to plot\n",
    "mPts = 1000  # Number of points to plot\n",
    "plot_point_max = 1000\n",
    "aXtraMax = plot_point_max * 10  # Maximum asset level\n",
    "\n",
    "eevalgrid = np.linspace(0, mMax, mPts)  # range of values of assets for the plot\n",
    "\n",
    "# Number of points that will be used to approximate the risky distribution\n",
    "risky_count_grid = [5, 50, 200]\n",
    "# Plot by ages (time periods) at which to plot. We will use the default life-cycle calibration.\n",
    "ages = [2, 4, 6, 8]"
   ]
  },
  {
   "cell_type": "code",
   "execution_count": null,
   "metadata": {},
   "outputs": [],
   "source": [
    "# Creating the dictionary for the Merton-Samuelson consumer type\n",
    "MertonPortfolioDict = copy(ConsPortfolioDict)\n",
    "MertonPortfolioDict.update(time_params)\n",
    "MertonPortfolioDict.update(dist_params)\n",
    "# Note the income specification overrides the pLvlInitMean from the SCF.\n",
    "MertonPortfolioDict.update(income_params)\n",
    "MertonPortfolioDict.update({\"LivPrb\": liv_prb})\n",
    "\n",
    "MertonPortfolioDict[\"RiskyAvgTrue\"] = 1.08\n",
    "MertonPortfolioDict[\"RiskyStdTrue\"] = 0.20\n",
    "\n",
    "\n",
    "# Create a function to compute the Merton-Samuelson limiting portfolio share.\n",
    "def RiskyShareMertSamLogNormal(RiskPrem, CRRA, RiskyVar):\n",
    "    return RiskPrem / (CRRA * RiskyVar)"
   ]
  },
  {
   "cell_type": "code",
   "execution_count": null,
   "metadata": {
    "lines_to_next_cell": 2,
    "title": "Calibration and solution"
   },
   "outputs": [],
   "source": [
    "for rcount in risky_count_grid:\n",
    "    # Create a new dictionary and replace the number of points that\n",
    "    # approximate the risky return distribution\n",
    "\n",
    "    # Create new dictionary copying the default.\n",
    "    MertonPortfolioDict[\"RiskyCount\"] = rcount\n",
    "\n",
    "    # Create and solve agent\n",
    "    agent = PortfolioConsumerType(**MertonPortfolioDict)\n",
    "    agent.solve()\n",
    "\n",
    "    # Compute the analytical Merton-Samuelson limiting portfolio share\n",
    "    RiskyVar = agent.RiskyStd**2\n",
    "    RiskPrem = agent.RiskyAvg - agent.Rfree\n",
    "    MS_limit = RiskyShareMertSamLogNormal(RiskPrem, agent.CRRA, RiskyVar)\n",
    "\n",
    "    # Now compute the limiting share numerically, using the approximated\n",
    "    # distribution\n",
    "    agent.update_ShareLimit()\n",
    "    NU_limit = agent.ShareLimit\n",
    "\n",
    "    plt.figure()\n",
    "    for a in ages:\n",
    "        plt.plot(\n",
    "            eevalgrid, agent.solution[a].ShareFuncAdj(eevalgrid), label=\"t = %i\" % (a)\n",
    "        )\n",
    "\n",
    "    plt.axhline(\n",
    "        NU_limit, c=\"k\", ls=\"-.\", label=\"Exact limit as $m\\\\rightarrow \\\\infty$.\"\n",
    "    )\n",
    "    plt.axhline(\n",
    "        MS_limit, c=\"k\", ls=\"--\", label=\"M&S Limit without returns discretization.\"\n",
    "    )\n",
    "\n",
    "    plt.ylim(0, 1.05)\n",
    "    plt.xlim(eevalgrid[0] + 1, eevalgrid[-1])\n",
    "    plt.xscale(\"log\")\n",
    "    plt.legend()\n",
    "    plt.title(\n",
    "        \"Risky Portfolio Share by Age\\n Risky distribution with {points} equiprobable points\".format(\n",
    "            points=rcount\n",
    "        )\n",
    "    )\n",
    "    plt.xlabel(\"Wealth (m)\")\n",
    "\n",
    "    plt.ioff()\n",
    "    plt.draw()"
   ]
  },
  {
   "cell_type": "code",
   "execution_count": null,
   "metadata": {},
   "outputs": [],
   "source": []
  }
 ],
 "metadata": {
  "jupytext": {
   "cell_metadata_filter": "title,-all",
   "formats": "ipynb,py:percent"
  },
  "kernelspec": {
   "display_name": "Python 3 (ipykernel)",
   "language": "python",
   "name": "python3"
  },
  "language_info": {
   "codemirror_mode": {
    "name": "ipython",
    "version": 3
   },
   "file_extension": ".py",
   "mimetype": "text/x-python",
   "name": "python",
   "nbconvert_exporter": "python",
   "pygments_lexer": "ipython3",
   "version": "3.10.12"
  },
  "vscode": {
   "interpreter": {
    "hash": "fb354262c54c0307de0da819c498611219bda783cf28032d030ef5bc13f910c9"
   }
  }
 },
 "nbformat": 4,
 "nbformat_minor": 4
}
