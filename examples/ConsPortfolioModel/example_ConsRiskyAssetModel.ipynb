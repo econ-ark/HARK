{
 "cells": [
  {
   "cell_type": "markdown",
   "id": "58437446",
   "metadata": {},
   "source": [
    "# Example Implementations of `HARK.ConsumptionSaving.ConsRiskyAssetModel`"
   ]
  },
  {
   "cell_type": "code",
   "execution_count": null,
   "id": "6b9b3abd",
   "metadata": {
    "lines_to_next_cell": 2
   },
   "outputs": [],
   "source": [
    "from time import time\n",
    "\n",
    "from HARK.ConsumptionSaving.ConsIndShockModel import (\n",
    "    IndShockConsumerType,\n",
    "    indshk_constructor_dict,\n",
    ")\n",
    "from HARK.ConsumptionSaving.ConsPortfolioModel import (\n",
    "    init_portfolio,\n",
    "    PortfolioConsumerType,\n",
    ")\n",
    "from HARK.ConsumptionSaving.ConsRiskyAssetModel import (\n",
    "    RiskyAssetConsumerType,\n",
    "    FixedPortfolioShareRiskyAssetConsumerType,\n",
    "    risky_constructor_dict,\n",
    ")\n",
    "from HARK.utilities import plot_funcs_der, plot_funcs"
   ]
  },
  {
   "cell_type": "code",
   "execution_count": null,
   "id": "1fb52af2",
   "metadata": {
    "lines_to_next_cell": 2
   },
   "outputs": [],
   "source": [
    "mystr = lambda number: \"{:.4f}\".format(number)"
   ]
  },
  {
   "cell_type": "markdown",
   "id": "9aecad69",
   "metadata": {
    "pycharm": {
     "name": "#%% md\n"
    }
   },
   "source": [
    "## Idiosyncratic Income Shocks Consumer Type"
   ]
  },
  {
   "cell_type": "code",
   "execution_count": null,
   "id": "55a8c575-82d7-4779-b8c1-4f6b5f35c30f",
   "metadata": {},
   "outputs": [],
   "source": [
    "# Make a dictionary for the idiosyncratic shocks type that uses common values from the portfolio type\n",
    "common_dict = init_portfolio.copy()\n",
    "common_dict[\"constructors\"] = indshk_constructor_dict"
   ]
  },
  {
   "cell_type": "code",
   "execution_count": null,
   "id": "2f6a4e78",
   "metadata": {
    "lines_to_next_cell": 2
   },
   "outputs": [],
   "source": [
    "# Make and solve an example consumer with idiosyncratic income shocks\n",
    "# Use init_portfolio parameters to compare to results of PortfolioConsumerType\n",
    "IndShockExample = IndShockConsumerType(**common_dict)\n",
    "IndShockExample.cycles = 0  # Make this type have an infinite horizon"
   ]
  },
  {
   "cell_type": "code",
   "execution_count": null,
   "id": "59c23ceb",
   "metadata": {
    "lines_to_next_cell": 2
   },
   "outputs": [],
   "source": [
    "start_time = time()\n",
    "IndShockExample.solve()\n",
    "end_time = time()\n",
    "print(\n",
    "    \"Solving a consumer with idiosyncratic shocks took \"\n",
    "    + mystr(end_time - start_time)\n",
    "    + \" seconds.\"\n",
    ")\n",
    "IndShockExample.unpack(\"cFunc\")"
   ]
  },
  {
   "cell_type": "code",
   "execution_count": null,
   "id": "15eb3021",
   "metadata": {},
   "outputs": [],
   "source": [
    "# Plot the consumption function and MPC for the infinite horizon consumer\n",
    "print(\"Concave consumption function:\")\n",
    "plot_funcs(IndShockExample.cFunc[0], 0.0, 5.0)\n",
    "print(\"Marginal consumption function:\")\n",
    "plot_funcs_der(IndShockExample.cFunc[0], 0.0, 5.0)"
   ]
  },
  {
   "cell_type": "markdown",
   "id": "d6648a65",
   "metadata": {
    "pycharm": {
     "name": "#%% md\n"
    }
   },
   "source": [
    "## Risky Return Consumer Type"
   ]
  },
  {
   "cell_type": "code",
   "execution_count": null,
   "id": "d35df1d4",
   "metadata": {
    "lines_to_next_cell": 2
   },
   "outputs": [],
   "source": [
    "# Make and solve an example consumer with risky returns to savings\n",
    "# Use init_portfolio parameters to compare to results of PortfolioConsumerType\n",
    "temp_dict = init_portfolio.copy()\n",
    "temp_dict[\"constructors\"] = risky_constructor_dict\n",
    "RiskyReturnExample = RiskyAssetConsumerType(**temp_dict)\n",
    "RiskyReturnExample.cycles = 0  # Make this type have an infinite horizon"
   ]
  },
  {
   "cell_type": "code",
   "execution_count": null,
   "id": "85425d79",
   "metadata": {
    "lines_to_next_cell": 2
   },
   "outputs": [],
   "source": [
    "start_time = time()\n",
    "RiskyReturnExample.solve()\n",
    "end_time = time()\n",
    "print(\n",
    "    \"Solving a consumer with risky returns took \"\n",
    "    + mystr(end_time - start_time)\n",
    "    + \" seconds.\"\n",
    ")\n",
    "RiskyReturnExample.unpack(\"cFunc\")"
   ]
  },
  {
   "cell_type": "code",
   "execution_count": null,
   "id": "778d3aec",
   "metadata": {},
   "outputs": [],
   "source": [
    "# Plot the consumption function and MPC for the risky asset consumer\n",
    "print(\"Concave consumption function:\")\n",
    "plot_funcs(RiskyReturnExample.cFunc[0], 0.0, 5.0)\n",
    "print(\"Marginal consumption function:\")\n",
    "plot_funcs_der(RiskyReturnExample.cFunc[0], 0.0, 5.0)"
   ]
  },
  {
   "cell_type": "markdown",
   "id": "ac9441b1",
   "metadata": {
    "pycharm": {
     "name": "#%% md\n"
    }
   },
   "source": [
    "## Compare Idiosyncratic Income Shocks with Risky Return"
   ]
  },
  {
   "cell_type": "code",
   "execution_count": null,
   "id": "fcce0156",
   "metadata": {
    "lines_to_next_cell": 2
   },
   "outputs": [],
   "source": [
    "# Compare the consumption functions for the various agents in this notebook.\n",
    "print(\"Consumption functions for idiosyncratic shocks vs risky returns:\")\n",
    "plot_funcs(\n",
    "    [\n",
    "        IndShockExample.cFunc[0],  # blue\n",
    "        RiskyReturnExample.cFunc[0],  # orange\n",
    "    ],\n",
    "    0.0,\n",
    "    20.0,\n",
    ")"
   ]
  },
  {
   "cell_type": "markdown",
   "id": "05cad628",
   "metadata": {
    "pycharm": {
     "name": "#%% md\n"
    }
   },
   "source": [
    "## Risky Return Consumer Type with Portfolio Choice"
   ]
  },
  {
   "cell_type": "code",
   "execution_count": null,
   "id": "5b9b7475",
   "metadata": {
    "lines_to_next_cell": 2
   },
   "outputs": [],
   "source": [
    "# Make and solve an example risky consumer with a portfolio choice\n",
    "temp_dict[\"PortfolioBool\"] = True\n",
    "PortfolioChoiceExample = RiskyAssetConsumerType(**temp_dict)\n",
    "PortfolioChoiceExample.cycles = 0  # Make this type have an infinite horizon"
   ]
  },
  {
   "cell_type": "code",
   "execution_count": null,
   "id": "1bbf5743",
   "metadata": {
    "lines_to_next_cell": 2
   },
   "outputs": [],
   "source": [
    "start_time = time()\n",
    "PortfolioChoiceExample.solve()\n",
    "end_time = time()\n",
    "print(\n",
    "    \"Solving a consumer with risky returns and portfolio choice took \"\n",
    "    + mystr(end_time - start_time)\n",
    "    + \" seconds.\"\n",
    ")\n",
    "PortfolioChoiceExample.unpack(\"cFunc\")\n",
    "PortfolioChoiceExample.unpack(\"ShareFunc\")"
   ]
  },
  {
   "cell_type": "code",
   "execution_count": null,
   "id": "7985f73b",
   "metadata": {},
   "outputs": [],
   "source": [
    "# Plot the consumption function and MPC for the portfolio choice consumer\n",
    "print(\"Concave consumption function:\")\n",
    "plot_funcs(PortfolioChoiceExample.cFunc[0], 0.0, 5.0)\n",
    "print(\"Marginal consumption function:\")\n",
    "plot_funcs_der(PortfolioChoiceExample.cFunc[0], 0.0, 5.0)"
   ]
  },
  {
   "cell_type": "markdown",
   "id": "b40d1257",
   "metadata": {
    "pycharm": {
     "name": "#%% md\n"
    }
   },
   "source": [
    "## Compare Income Shocks, Risky Return, and RR w/ Portfolio Choice"
   ]
  },
  {
   "cell_type": "code",
   "execution_count": null,
   "id": "7867d7d7",
   "metadata": {
    "lines_to_next_cell": 2
   },
   "outputs": [],
   "source": [
    "# Compare the consumption functions for the various agents in this notebook.\n",
    "print(\n",
    "    \"Consumption functions for idiosyncratic shocks vs risky returns vs portfolio choice:\"\n",
    ")\n",
    "plot_funcs(\n",
    "    [\n",
    "        IndShockExample.cFunc[0],  # blue\n",
    "        RiskyReturnExample.cFunc[0],  # orange\n",
    "        PortfolioChoiceExample.cFunc[0],  # green\n",
    "    ],\n",
    "    0.0,\n",
    "    20.0,\n",
    ")"
   ]
  },
  {
   "cell_type": "markdown",
   "id": "e1b7e574",
   "metadata": {
    "pycharm": {
     "name": "#%% md\n"
    }
   },
   "source": [
    "## Portfolio Consumer Type"
   ]
  },
  {
   "cell_type": "code",
   "execution_count": null,
   "id": "5c2b0c00",
   "metadata": {
    "lines_to_next_cell": 2
   },
   "outputs": [],
   "source": [
    "# Make and solve an example portfolio choice consumer\n",
    "PortfolioTypeExample = PortfolioConsumerType(**init_portfolio)  # default parameters\n",
    "PortfolioTypeExample.cycles = 0  # Make this type has an infinite horizon"
   ]
  },
  {
   "cell_type": "code",
   "execution_count": null,
   "id": "07e6f360",
   "metadata": {
    "lines_to_next_cell": 2
   },
   "outputs": [],
   "source": [
    "start_time = time()\n",
    "PortfolioTypeExample.solve()\n",
    "end_time = time()\n",
    "print(\n",
    "    \"Solving a consumer with portfolio choice took \"\n",
    "    + mystr(end_time - start_time)\n",
    "    + \" seconds.\"\n",
    ")\n",
    "PortfolioTypeExample.unpack(\"cFuncAdj\")\n",
    "PortfolioTypeExample.unpack(\"ShareFuncAdj\")"
   ]
  },
  {
   "cell_type": "code",
   "execution_count": null,
   "id": "f74f4c4f",
   "metadata": {
    "lines_to_next_cell": 2
   },
   "outputs": [],
   "source": [
    "# Plot the consumption function and MPC for the portfolio choice consumer\n",
    "print(\"Concave consumption function:\")\n",
    "plot_funcs(PortfolioTypeExample.cFuncAdj[0], 0.0, 5.0)\n",
    "print(\"Marginal consumption function:\")\n",
    "plot_funcs_der(PortfolioTypeExample.cFuncAdj[0], 0.0, 5.0)"
   ]
  },
  {
   "cell_type": "markdown",
   "id": "b6ea3494",
   "metadata": {
    "pycharm": {
     "name": "#%% md\n"
    }
   },
   "source": [
    "## Compare RR w/ Portfolio Choice with Portfolio Choice Type"
   ]
  },
  {
   "cell_type": "code",
   "execution_count": null,
   "id": "02217a1b",
   "metadata": {
    "lines_to_next_cell": 2
   },
   "outputs": [],
   "source": [
    "# Compare the consumption functions for the various portfolio choice types.\n",
    "print(\n",
    "    \"Consumption functions for portfolio choice type vs risky asset with portfolio choice:\"\n",
    ")\n",
    "plot_funcs(\n",
    "    [\n",
    "        PortfolioTypeExample.cFuncAdj[0],  # blue\n",
    "        PortfolioChoiceExample.cFunc[0],  # orange\n",
    "    ],\n",
    "    0.0,\n",
    "    20.0,\n",
    ")"
   ]
  },
  {
   "cell_type": "code",
   "execution_count": null,
   "id": "1aac4980",
   "metadata": {
    "lines_to_next_cell": 2
   },
   "outputs": [],
   "source": [
    "# Compare the share functions for the various portfolio choice types.\n",
    "print(\"Share functions for portfolio choice type vs risky asset with portfolio choice:\")\n",
    "plot_funcs(\n",
    "    [\n",
    "        PortfolioTypeExample.ShareFuncAdj[0],  # blue\n",
    "        PortfolioChoiceExample.ShareFunc[0],  # orange\n",
    "    ],\n",
    "    0,\n",
    "    200,\n",
    ")"
   ]
  },
  {
   "cell_type": "markdown",
   "id": "a74b71db",
   "metadata": {
    "pycharm": {
     "name": "#%% md\n"
    }
   },
   "source": [
    "## Risky Return Given Fixed Portfolio Share"
   ]
  },
  {
   "cell_type": "code",
   "execution_count": null,
   "id": "125b700a",
   "metadata": {
    "lines_to_next_cell": 2
   },
   "outputs": [],
   "source": [
    "FixedShareExample = FixedPortfolioShareRiskyAssetConsumerType(**temp_dict)\n",
    "FixedShareExample.cycles = 0"
   ]
  },
  {
   "cell_type": "code",
   "execution_count": null,
   "id": "05b2d26f",
   "metadata": {
    "lines_to_next_cell": 2
   },
   "outputs": [],
   "source": [
    "start_time = time()\n",
    "FixedShareExample.solve()\n",
    "end_time = time()\n",
    "print(\n",
    "    \"Solving a consumer with fixed portfolio share took \"\n",
    "    + mystr(end_time - start_time)\n",
    "    + \" seconds.\"\n",
    ")\n",
    "FixedShareExample.unpack(\"cFunc\")"
   ]
  },
  {
   "cell_type": "code",
   "execution_count": null,
   "id": "79b9e1ee",
   "metadata": {
    "collapsed": false,
    "jupyter": {
     "outputs_hidden": false
    },
    "lines_to_next_cell": 2,
    "pycharm": {
     "name": "#%%\n"
    }
   },
   "outputs": [],
   "source": [
    "# Plot the consumption function and MPC for the infinite horizon consumer\n",
    "print(\"Concave consumption function:\")\n",
    "plot_funcs(FixedShareExample.cFunc[0], 0.0, 5.0)\n",
    "print(\"Marginal consumption function:\")\n",
    "plot_funcs_der(FixedShareExample.cFunc[0], 0.0, 5.0)"
   ]
  },
  {
   "cell_type": "markdown",
   "id": "bb9d556f",
   "metadata": {
    "pycharm": {
     "name": "#%% md\n"
    }
   },
   "source": [
    "## Compare Idiosyncratic Shock Type with Fixed Share at 0.0 Type"
   ]
  },
  {
   "cell_type": "code",
   "execution_count": null,
   "id": "aebd5429",
   "metadata": {
    "lines_to_next_cell": 2
   },
   "outputs": [],
   "source": [
    "# Compare the consumption functions for the various idiosyncratic shocks\n",
    "print(\"Consumption functions for idiosyncratic shocks vs fixed share at 0.0:\")\n",
    "plot_funcs(\n",
    "    [\n",
    "        IndShockExample.cFunc[0],  # blue\n",
    "        FixedShareExample.cFunc[0],  # orange\n",
    "    ],\n",
    "    0.0,\n",
    "    20.0,\n",
    ")"
   ]
  },
  {
   "cell_type": "markdown",
   "id": "67ea856c",
   "metadata": {
    "pycharm": {
     "name": "#%% md\n"
    }
   },
   "source": [
    "## Fixed Share at 1.0 Type"
   ]
  },
  {
   "cell_type": "code",
   "execution_count": null,
   "id": "e6d724f5",
   "metadata": {
    "lines_to_next_cell": 2
   },
   "outputs": [],
   "source": [
    "temp_dict[\"RiskyShareFixed\"] = [1.0]\n",
    "RiskyFixedExample = FixedPortfolioShareRiskyAssetConsumerType(**temp_dict)\n",
    "RiskyFixedExample.cycles = 0"
   ]
  },
  {
   "cell_type": "code",
   "execution_count": null,
   "id": "bd5c721a",
   "metadata": {
    "lines_to_next_cell": 2
   },
   "outputs": [],
   "source": [
    "start_time = time()\n",
    "RiskyFixedExample.solve()\n",
    "end_time = time()\n",
    "print(\n",
    "    \"Solving a consumer with share fixed at 1.0 took \"\n",
    "    + mystr(end_time - start_time)\n",
    "    + \" seconds.\"\n",
    ")\n",
    "RiskyFixedExample.unpack(\"cFunc\")"
   ]
  },
  {
   "cell_type": "code",
   "execution_count": null,
   "id": "d8db09af",
   "metadata": {
    "collapsed": false,
    "jupyter": {
     "outputs_hidden": false
    },
    "lines_to_next_cell": 2,
    "pycharm": {
     "name": "#%%\n"
    }
   },
   "outputs": [],
   "source": [
    "# Plot the consumption function and MPC for the portfolio choice consumer\n",
    "print(\"Concave consumption function:\")\n",
    "plot_funcs(RiskyFixedExample.cFunc[0], 0.0, 5.0)\n",
    "print(\"Marginal consumption function:\")\n",
    "plot_funcs_der(RiskyFixedExample.cFunc[0], 0.0, 5.0)"
   ]
  },
  {
   "cell_type": "markdown",
   "id": "1d1a616a",
   "metadata": {
    "pycharm": {
     "name": "#%% md\n"
    }
   },
   "source": [
    "## Compare Fixed Share at 1.0 Type with Risky Return Type"
   ]
  },
  {
   "cell_type": "code",
   "execution_count": null,
   "id": "fd400df3",
   "metadata": {
    "lines_to_next_cell": 2
   },
   "outputs": [],
   "source": [
    "# Compare the consumption functions for the various risky shocks\n",
    "print(\"Consumption functions for risky asset vs fixed share at 1.0:\")\n",
    "plot_funcs(\n",
    "    [\n",
    "        RiskyReturnExample.cFunc[0],  # blue\n",
    "        RiskyFixedExample.cFunc[0],  # orange\n",
    "    ],\n",
    "    0.0,\n",
    "    200.0,\n",
    ")"
   ]
  },
  {
   "cell_type": "code",
   "execution_count": null,
   "id": "cdaa4b5b",
   "metadata": {},
   "outputs": [],
   "source": []
  }
 ],
 "metadata": {
  "interpreter": {
   "hash": "e142479391b55cd73c518fdaa8d77b25530b0ba1811d1048225bf54019104d93"
  },
  "jupytext": {
   "cell_metadata_filter": "-all",
   "formats": "ipynb,py:percent"
  },
  "kernelspec": {
   "display_name": "Python 3 (ipykernel)",
   "language": "python",
   "name": "python3"
  },
  "language_info": {
   "codemirror_mode": {
    "name": "ipython",
    "version": 3
   },
   "file_extension": ".py",
   "mimetype": "text/x-python",
   "name": "python",
   "nbconvert_exporter": "python",
   "pygments_lexer": "ipython3",
   "version": "3.10.14"
  }
 },
 "nbformat": 4,
 "nbformat_minor": 5
}
