{
 "cells": [
  {
   "cell_type": "code",
   "execution_count": null,
   "metadata": {},
   "outputs": [],
   "source": [
    "\"\"\"\n",
    "Example implementations of SequentialPortfolioConsumerType\n",
    "\"\"\"\n",
    "from copy import copy\n",
    "from time import time\n",
    "\n",
    "import matplotlib.pyplot as plt\n",
    "import numpy as np\n",
    "\n",
    "from HARK.ConsumptionSaving.ConsIndShockModel import init_lifecycle\n",
    "from HARK.ConsumptionSaving.ConsPortfolioModel import (\n",
    "    SequentialPortfolioConsumerType,\n",
    "    init_portfolio,\n",
    ")\n",
    "from HARK.utilities import plot_funcs"
   ]
  },
  {
   "cell_type": "code",
   "execution_count": null,
   "metadata": {},
   "outputs": [],
   "source": [
    "# Make and solve an example portfolio choice consumer type\n",
    "print(\"Now solving an example portfolio choice problem; this might take a moment...\")\n",
    "MyType = SequentialPortfolioConsumerType()\n",
    "MyType.cycles = 0\n",
    "t0 = time()\n",
    "MyType.solve()\n",
    "t1 = time()\n",
    "MyType.cFunc = [MyType.solution[t].cFuncAdj for t in range(MyType.T_cycle)]\n",
    "MyType.ShareFunc = [MyType.solution[t].ShareFuncAdj for t in range(MyType.T_cycle)]\n",
    "MyType.SequentialShareFunc = [\n",
    "    MyType.solution[t].SequentialShareFuncAdj for t in range(MyType.T_cycle)\n",
    "]\n",
    "print(\n",
    "    \"Solving an infinite horizon portfolio choice problem took \"\n",
    "    + str(t1 - t0)\n",
    "    + \" seconds.\"\n",
    ")"
   ]
  },
  {
   "cell_type": "code",
   "execution_count": null,
   "metadata": {},
   "outputs": [],
   "source": [
    "# Plot the consumption and risky-share functions\n",
    "print(\"Consumption function over market resources:\")\n",
    "plot_funcs(MyType.cFunc[0], 0.0, 20.0)"
   ]
  },
  {
   "cell_type": "code",
   "execution_count": null,
   "metadata": {},
   "outputs": [],
   "source": [
    "# Since we are using a discretization of the lognormal distribution,\n",
    "# the limit is numerically computed and slightly different from\n",
    "# the analytical limit obtained by Merton and Samuelson for infinite wealth\n",
    "print(\"Risky asset share as a function of liquid assets:\")\n",
    "print(\"Optimal (blue/orange) versus Theoretical Limit (green)\")\n",
    "plt.xlabel(\"Normalized Liquid Assets\")\n",
    "plt.ylabel(\"Portfolio Share\")\n",
    "plt.ylim(0.0, 1.0)\n",
    "plt.xlim(0.0, 200.0)\n",
    "mgrid = np.linspace(0.0, 300.0, 300)\n",
    "cgrid = MyType.cFunc[0](mgrid)\n",
    "shares = MyType.ShareFunc[0](mgrid)\n",
    "agrid = mgrid - cgrid\n",
    "plt.plot(agrid, shares)\n",
    "plot_funcs(\n",
    "    [\n",
    "        MyType.SequentialShareFunc[0],\n",
    "        lambda a: MyType.ShareLimit * np.ones_like(a),\n",
    "    ],\n",
    "    0.0,\n",
    "    200.0,\n",
    ")\n",
    "\n",
    "# Note that the orange line lies right on top of the blue line and they are basically\n",
    "# indistinguishable. This is expected, as deciding saving and risky share simultaneously\n",
    "# should give the same result as when doing it sequentially."
   ]
  },
  {
   "cell_type": "code",
   "execution_count": null,
   "metadata": {},
   "outputs": [],
   "source": [
    "print(\"\\n\\n\\n\")\n",
    "print(\"For derivation of the numerical limiting portfolio share\")\n",
    "print(\"as market resources approach infinity, see\")\n",
    "print(\n",
    "    \"http://www.econ2.jhu.edu/people/ccarroll/public/lecturenotes/AssetPricing/Portfolio-CRRA/\"\n",
    ")"
   ]
  },
  {
   "cell_type": "code",
   "execution_count": null,
   "metadata": {},
   "outputs": [],
   "source": [
    "print(\"\\n\\n\\n\")"
   ]
  },
  {
   "cell_type": "code",
   "execution_count": null,
   "metadata": {},
   "outputs": [],
   "source": [
    "\"\"\n",
    "# Make another example type, but this one can only update their risky portfolio\n",
    "# share in any particular period with 15% probability.\n",
    "init_sticky_share = init_portfolio.copy()\n",
    "init_sticky_share[\"AdjustPrb\"] = 0.15"
   ]
  },
  {
   "cell_type": "code",
   "execution_count": null,
   "metadata": {},
   "outputs": [],
   "source": [
    "# Make and solve a discrete portfolio choice consumer type\n",
    "print(\n",
    "    'Now solving a portfolio choice problem with \"sticky\" portfolio shares; this might take a moment...'\n",
    ")\n",
    "StickyType = SequentialPortfolioConsumerType(**init_sticky_share)\n",
    "StickyType.cycles = 0\n",
    "t0 = time()\n",
    "StickyType.solve()\n",
    "t1 = time()\n",
    "StickyType.cFuncAdj = [\n",
    "    StickyType.solution[t].cFuncAdj for t in range(StickyType.T_cycle)\n",
    "]\n",
    "StickyType.cFuncFxd = [\n",
    "    StickyType.solution[t].cFuncFxd for t in range(StickyType.T_cycle)\n",
    "]\n",
    "StickyType.ShareFunc = [\n",
    "    StickyType.solution[t].ShareFuncAdj for t in range(StickyType.T_cycle)\n",
    "]\n",
    "StickyType.SequentialShareFunc = [\n",
    "    StickyType.solution[t].SequentialShareFuncAdj for t in range(StickyType.T_cycle)\n",
    "]\n",
    "print(\n",
    "    \"Solving an infinite horizon sticky portfolio choice problem took \"\n",
    "    + str(t1 - t0)\n",
    "    + \" seconds.\"\n",
    ")"
   ]
  },
  {
   "cell_type": "code",
   "execution_count": null,
   "metadata": {},
   "outputs": [],
   "source": [
    "# Plot the consumption and risky-share functions\n",
    "print(\n",
    "    \"Consumption function over market resources when the agent can adjust his portfolio:\"\n",
    ")\n",
    "plot_funcs(StickyType.cFuncAdj[0], 0.0, 50.0)"
   ]
  },
  {
   "cell_type": "code",
   "execution_count": null,
   "metadata": {},
   "outputs": [],
   "source": [
    "print(\n",
    "    \"Consumption function over market resources when the agent CAN'T adjust, by current share:\"\n",
    ")\n",
    "M = np.linspace(0.0, 50.0, 100)\n",
    "for s in np.linspace(0.0, 1.0, 5):\n",
    "    C = StickyType.cFuncFxd[0](M, s * np.ones_like(M))\n",
    "    plt.plot(M, C)\n",
    "plt.xlim(0.0, 50.0)\n",
    "plt.ylim(0.0, None)\n",
    "plt.show()"
   ]
  },
  {
   "cell_type": "code",
   "execution_count": null,
   "metadata": {},
   "outputs": [],
   "source": [
    "print(\"Risky asset share function over market resources (when possible to adjust):\")\n",
    "print(\"Optimal (blue/orange) versus Theoretical Limit (green)\")\n",
    "plt.xlabel(\"Normalized Market Resources\")\n",
    "plt.ylabel(\"Portfolio Share\")\n",
    "plt.ylim(0.0, 1.0)\n",
    "mgrid = np.linspace(0.0, 200.0, 1000)\n",
    "cgrid = MyType.cFunc[0](mgrid)\n",
    "shares = MyType.ShareFunc[0](mgrid)\n",
    "agrid = mgrid - cgrid\n",
    "plt.plot(agrid, shares)\n",
    "plot_funcs(\n",
    "    [\n",
    "        StickyType.SequentialShareFunc[0],\n",
    "        lambda a: StickyType.ShareLimit * np.ones_like(a),\n",
    "    ],\n",
    "    0.0,\n",
    "    100.0,\n",
    ")"
   ]
  },
  {
   "cell_type": "code",
   "execution_count": null,
   "metadata": {},
   "outputs": [],
   "source": []
  }
 ],
 "metadata": {
  "jupytext": {
   "cell_metadata_filter": "title,-all",
   "formats": "ipynb,py:percent"
  },
  "kernelspec": {
   "display_name": "Python 3 (ipykernel)",
   "language": "python",
   "name": "python3"
  },
  "language_info": {
   "codemirror_mode": {
    "name": "ipython",
    "version": 3
   },
   "file_extension": ".py",
   "mimetype": "text/x-python",
   "name": "python",
   "nbconvert_exporter": "python",
   "pygments_lexer": "ipython3",
   "version": "3.10.12"
  }
 },
 "nbformat": 4,
 "nbformat_minor": 4
}
