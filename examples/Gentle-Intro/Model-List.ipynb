{
 "cells": [
  {
   "cell_type": "markdown",
   "id": "51eec8b1-ad0b-4cc9-b878-0723ffec4565",
   "metadata": {},
   "source": [
    "# Directory of Consumption-Saving Models in HARK\n",
    "\n",
    "HARK has *many* consumption-saving models in several files in `HARK.ConsumptionSaving`. This notebook provides a directory of all of them, ordered (roughly) from the most basic to the most niche. We provide only brief textual descriptions of the models here. The full mathematical representation for each model can be found in its respective file and/or at the linked reference notebooks."
   ]
  },
  {
   "cell_type": "markdown",
   "id": "5174fe53-82ae-4a02-9bff-22f9013b5171",
   "metadata": {},
   "source": [
    "## `ConsIndShockModel`: Models With(out) Idiosyncratic Income Risk and One Risk-Free Asset\n",
    "\n",
    "The model(s) that started it all! `ConsIndShockModel` has \"canonical\" consumption-saving models with the most fundamental / core assumptions. Most HARK models descend from the models here, in one way or another.\n",
    "\n",
    "Critically, these models are *permanent income normalized*: their state space and consumption function are expressed in terms of dollar values divided by permanent income. Actual *levels* can be recovered by multiplying by permanent income. Mathematically speaking, these models are homothetic with respect to permanent income."
   ]
  },
  {
   "cell_type": "markdown",
   "id": "1f3fabf3-ff0e-4d25-b056-1bbb0310a9f4",
   "metadata": {},
   "source": [
    "### `PerfForesightConsumerType`: Consumption-saving with no financial risk at all\n",
    "\n",
    "This class represents consumers who can save in a single risk-free asset and who face mortality risk, but who face no income risk. Like all HARK models, these consumers have CRRA preferences over consumption and discount utility geometrically.\n",
    "\n",
    "The default parameters do not include a borrowing constraint, but the model *can* handle this feature and solve for the consumption function exactly (up to machine precision)."
   ]
  },
  {
   "cell_type": "markdown",
   "id": "d0185b62-eff3-4e64-a05a-21f25aa03c1c",
   "metadata": {},
   "source": [
    "### `IndShockConsumerType`: Consumption-saving with permanent-transitory income risk\n",
    "\n",
    "This is HARK's core \"workhorse\" model, and the one for which the most theory work has been done. Agents in this model face iid income shocks each period, with two components: a fully *permanent* shock that affects their income in this period and all future periods, and a fully *transitory* component that only affects income this period.\n",
    "\n",
    "Chris Carroll has spent a lot of time pinning down the theoretical properties of this model, and HARK's solver incorporates a lot of that mathematical material. Particularly, the consumption function will always obey theoretical constraints with respect to the perfect foresight solution, as well as boundary behavior as market resources go to their minimum level."
   ]
  },
  {
   "cell_type": "markdown",
   "id": "8fc85a0b-e243-45df-8de5-48a85aac330e",
   "metadata": {},
   "source": [
    "### `KinkedRconsumerType`: Consumption-saving with a higher interest rate for borrowing\n",
    "\n",
    "The agents in this model face the exact same problem as those in `IndShockConsumerType` *except* that there is a higher interest rate for *borrow* than for *saving*. This creates two kinks in the consumption function, with a $c=m$ segment in between.\n",
    "\n",
    "Notably, the first order condition does not hold with equality on the $c=m$ segment. Instead, the marginal value of assets is too low to *save* any money, but it is also too high to *borrow* money."
   ]
  },
  {
   "cell_type": "markdown",
   "id": "cc605735-19b5-4564-8ecd-d8ab6b12d019",
   "metadata": {},
   "source": [
    "## `GenIncProcessModel`: Non-Permanent-Income-Normalized Models\n",
    "\n",
    "In this module, we lift the assumption of a permanent-transitory income shock structure and allow for a *generalized* income process. The key difference is that the permanent (or persistent) component of income now appears explicitly as a state variable in the policy function (and other components of the solution)."
   ]
  },
  {
   "cell_type": "markdown",
   "id": "07265998-01ca-4a9e-9ada-d44de58b9c3c",
   "metadata": {},
   "source": [
    "### `GenIncProcessConsumerType`: Generalized income processes\n",
    "\n",
    "This is the base `AgentType` subclass for this module; the other subclasses only extend it by setting different default constructors.\n",
    "\n",
    "The permanent-income-normalizable income process is characterized by a sequence of expected permanent income growth factors and joint distributions of permanent and transitory income shocks. In contrast, the \"general\" income process is characterized by a sequence of \"expected future income functions\". These map from current `pLvl` values to succeeding period `pLvl' values, as a general function.\n",
    "\n",
    "In this model, `pLvl` isn't \"permanent\" income *per se*, but instead a univariate measure of some semi-permanent or persistent component. The key restriction is that the *continuation-relevant* information has only one dimension after income shocks have been realized.\n",
    "\n",
    "For ease of compatibility, the two components of the income shock distribution are still labeled `TransShk` and `PermShk`, but the latter affects `pLvl` multiplicatively, no matter the interpretation of `pLvl` for your setting. The transitory shock is, of course, still fully transitory."
   ]
  },
  {
   "cell_type": "markdown",
   "id": "d81d553f-27bf-420c-adc4-5d15fb909c03",
   "metadata": {},
   "source": [
    "### `IndShockExplicitPermIncConsumerType`: Workhorse model with explicit permanent income\n",
    "\n",
    "This `AgentType` is meant to reproduce the same model as `IndShockConsumerType`, but maintains permanent income as an explicit state variable. This class mainly exists as a benchmark comparison.\n",
    "\n",
    "Note that the solution for this class will be *less accurate* than the analogous one for `IndShockConsumerType` because the grid of permanent income values is necessarily bounded, but actual permanent income can grow (or shrink!) without bound. Thus there is extrapolation error near the top and bottom of the permanent income grid, which propagates throughout the solution."
   ]
  },
  {
   "cell_type": "markdown",
   "id": "2693fd5b-79b3-4b8e-8486-cfe84f6dc33d",
   "metadata": {},
   "source": [
    "### `PersistentShockConsumerType`: Consumption-saving model with AR(1) income process\n",
    "\n",
    "This subclass is simply `GenIncProcessConsumerType` with an AR(1) process (in logs) used for the persistent component of income. This model is good for working with highly persistent (but not permanent) income shocks. Because the model is not normalized, it can also be adapted to incorporate a realistic income tax structure and/or Social Security system.\n",
    "\n",
    "We think that reasonable values of the (annual) correlation or persistence coefficient are between 0.97 and 0.995, but we won't judge any values that you use."
   ]
  },
  {
   "cell_type": "markdown",
   "id": "001a14bd-0495-4a08-81b0-35fd5af1f7b8",
   "metadata": {},
   "source": [
    "## `ConsMarkovModel`: Models with a discrete state that evolves exogenously\n",
    "\n",
    "This module has only one `AgentType` subclass, `MarkovConsumerType`, but it is arguably one of the most flexible models in HARK. It extends `IndShockConsumerType` by incorporating a discrete state that changes each period based on some Markov matrix.\n",
    "\n",
    "Most elements of the consumer's problem can vary by discrete state, including the interest factor, expected permanent income growth, survival probability, and the distribution of income shocks.\n",
    "\n",
    "Depending on how you specify or parameterize the model, `MarkovConsumerType` can represent many different kinds of models.  It can be used to represent a model with persistent unemployment, or one whose income shock distribution has a more complicated structure than permanent-transitory. It can be used to solve models with persistent variation in returns to saving, or as a \"cheap\" measure of health with variable survival probabilities. There are many more strange and unusual specifications, as well."
   ]
  },
  {
   "cell_type": "markdown",
   "id": "bf0f3070-e0f5-406f-9591-afefc4ec9ea7",
   "metadata": {},
   "source": [
    "## `TractableBufferStockModel`: Illustrative model for learning consumption theory\n",
    "\n",
    "Famously, consumption-saving models with income risk (and risk-averse agents) have no closed form solution form for their optimal consumption function prior to the terminal period. Some theoretical results to characterize the consumption function and how it changes with model parameters are fairly easy to derive and can be demonstrated for students, but others are significantly trickier.\n",
    "\n",
    "Chris Carroll developed the \"tractable buffer stock\" model as a teaching tool for learning the theory of consumption-saving models. It has a very specific (and extreme) form of income uncertainty: the consumer faces a constant risk each period of becoming *permanently* unemployed and *never* receiving labor income again. Otherwise, their labor income grows by a constant factor.\n",
    "\n",
    "The model for `TractableConsumerType`s doesn't *quite* have a closed form solution, but *more* of its characteristics and comparative statics can be derived on paper. Moreover, the solution method for *efficiently* constructing the consumption function is quite different to other HARK models. Broadly, the model is (more or less) only for teaching purposes, not for \"serious\" applied work."
   ]
  },
  {
   "cell_type": "markdown",
   "id": "03108a68-777a-4db9-95a1-6342127c78f3",
   "metadata": {},
   "source": [
    "## `ConsRepAgentModel`: What's this doing here?\n",
    "\n",
    "HARK is nominally for heterogeneous agents macroeconomics, but that can't stop us from including a couple representative agent models anyway."
   ]
  },
  {
   "cell_type": "markdown",
   "id": "24105e6b-d082-46bc-b97d-41f7e6a60a07",
   "metadata": {},
   "source": [
    "### `RepAgentConsumerType`: Basic representative agent model\n",
    "\n",
    "This is a bog standard macroeconomic model in which a representative agent allocates their resources between consumption retained assets, which are used as capital in the subsequent period. Labor supply is assumed to be exogenous, and the \"income\" shocks are re-interpreted as labor productivity shocks.\n",
    "\n",
    "The production technology is assumed to be Cobb-Douglas, and factor prices (wage rate and interest rate) are determined competitively as the marginal product of each factor."
   ]
  },
  {
   "cell_type": "markdown",
   "id": "1a350ef3-7484-423c-8961-fb8603cfb75a",
   "metadata": {},
   "source": [
    "### `RepAgentMarkovConsumerType`: Representative agent model with a discrete state\n",
    "\n",
    "This model extends the prior one by adding a discrete state with exogenous dynamics given by some Markov matrix. There are fewer model objects that vary with the discrete state as compared to `MarkovConsumerType`, as there is no death in the model and the interest rate is endogenous.\n",
    "\n",
    "The distribution of labor productivity shocks and the expected growth rate of labor productivity are the only things that can vary by the discrete state. The model can easily be extended to allow the capital depreciation factor and capital's share of production to also vary."
   ]
  },
  {
   "cell_type": "markdown",
   "id": "104862c2-cebe-416b-bb7d-a6c6f0218069",
   "metadata": {},
   "source": [
    "## `ConsAggShockModel`\n",
    "\n",
    "This is the main module for *proper* heterogeneous agents macroeconomic models in HARK, and a good follow-up to the `RepAgentModel`. These models involve both idiosyncratic *and* aggregate productivity shocks, thus the name of the module."
   ]
  },
  {
   "cell_type": "markdown",
   "id": "df87ba71-d10b-4d90-8043-38b72059166e",
   "metadata": {},
   "source": [
    "### AggShockConsumerType: Standard model with aggregate and idiosyncratic income shocks\n",
    "\n",
    "The `AggShockConsumerType` extends the `IndShockConsumerType` by adding a second state variable, *aggregate* market resources. Moreover, it adds *two* more shock variables: permanent and transitory *aggregate* shocks.\n",
    "\n",
    "The economy produces output as a Cobb-Douglas aggregation of (inelastically supplied) labor and capital. Factor prices (the interest rate and wage rate) are determined endogenously in the model using the competitive outcome (marginal product of each factor).\n",
    "\n",
    "When they make their consumption-saving decision, agents observe their own (normalized) market resources *and* (normalized) *aggregate* market resources. They have some expectation about how much will be saved in aggregate, and thus how much capital the economy will have at the start of the next period."
   ]
  },
  {
   "cell_type": "markdown",
   "id": "330ad5c7-b0c6-4ecb-b2ab-4fb1ea602fe1",
   "metadata": {},
   "source": [
    "The microeconomic model for an `AggShockConsumerType` can be solved for arbitrary expectations about how aggregate market resources map to aggregate assets. To solve the model with *rational expectations*, one or more `AggShockConsumerType` instances must be combined with a `CobbDouglasEconomy`, a subclass of `Market`. The *economy itself* must have its `solve()` method run in order to iteratively find the aggregate saving rule that is consistent with rational expectations.\n",
    "\n",
    "Alternatively, an `AggShockConsumerType` can be solved with a *trivial* grid of aggregate market resources if it is combined with a `SmallOpenEconomy`. In this macroeconomic framework, factor prices are determined *exogenously* (e.g. based on international conditions), but aggregate shocks still occur."
   ]
  },
  {
   "cell_type": "markdown",
   "id": "fa7711f9-5ada-4541-a8b1-2be804b9d774",
   "metadata": {},
   "source": [
    "### `AggShockMarkovConsumerType`:"
   ]
  },
  {
   "cell_type": "markdown",
   "id": "03249cfb-5e54-4164-922c-318f7fa1f4ce",
   "metadata": {},
   "source": [
    "## `ConsBequestModel`"
   ]
  },
  {
   "cell_type": "markdown",
   "id": "cd372eb4-5c71-48e0-82d5-bce6dfbb3005",
   "metadata": {},
   "source": [
    "## `ConsRiskyAssetModel`"
   ]
  },
  {
   "cell_type": "markdown",
   "id": "bc46333d-f2f2-4542-ac0f-b1fea94d10d6",
   "metadata": {},
   "source": [
    "## `ConsPortfolioModel`"
   ]
  },
  {
   "cell_type": "markdown",
   "id": "b89da872-89a0-48d0-95ce-d47898d88175",
   "metadata": {},
   "source": [
    "## `ConsWealthPortfolioModel`"
   ]
  },
  {
   "cell_type": "markdown",
   "id": "eed02a50-90ea-4386-8b28-912d8cac57cc",
   "metadata": {},
   "source": [
    "## `ConsSequentialPortfolioModel`"
   ]
  },
  {
   "cell_type": "markdown",
   "id": "f03c0c88-d937-42bb-8387-86260e42f07c",
   "metadata": {},
   "source": [
    "## `ConsLaborModel`"
   ]
  },
  {
   "cell_type": "markdown",
   "id": "6a18618b-a2fd-4013-b6e6-82e281f498a9",
   "metadata": {},
   "source": [
    "## `ConsHealthModel`"
   ]
  },
  {
   "cell_type": "markdown",
   "id": "36c7b6ca-2285-4e63-a871-0b8828bfc06a",
   "metadata": {},
   "source": [
    "## `ConsMedModel`"
   ]
  },
  {
   "cell_type": "markdown",
   "id": "a7365628-8d94-48dd-9337-3aaf1a0158cb",
   "metadata": {},
   "source": [
    "## `ConsPrefShockModel`"
   ]
  },
  {
   "cell_type": "code",
   "execution_count": null,
   "id": "64573e98-2ca8-4d83-b447-5cccc0fa0902",
   "metadata": {},
   "outputs": [],
   "source": []
  }
 ],
 "metadata": {
  "kernelspec": {
   "display_name": "Python 3 (ipykernel)",
   "language": "python",
   "name": "python3"
  },
  "language_info": {
   "codemirror_mode": {
    "name": "ipython",
    "version": 3
   },
   "file_extension": ".py",
   "mimetype": "text/x-python",
   "name": "python",
   "nbconvert_exporter": "python",
   "pygments_lexer": "ipython3",
   "version": "3.12.9"
  }
 },
 "nbformat": 4,
 "nbformat_minor": 5
}
