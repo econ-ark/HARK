{
 "cells": [
  {
   "cell_type": "markdown",
   "id": "51eec8b1-ad0b-4cc9-b878-0723ffec4565",
   "metadata": {},
   "source": [
    "# Directory of Consumption-Saving Models in HARK\n",
    "\n",
    "HARK has *many* consumption-saving models in several files in `HARK.ConsumptionSaving`. This notebook provides a directory of all of them, ordered (roughly) from the most basic to the most niche. We provide only brief textual descriptions of the models here. The full mathematical representation for each model can be found in its respective file and/or at the linked reference notebooks (links on `AgentType` names)."
   ]
  },
  {
   "cell_type": "markdown",
   "id": "5174fe53-82ae-4a02-9bff-22f9013b5171",
   "metadata": {},
   "source": [
    "## `ConsIndShockModel`: Models With(out) Idiosyncratic Income Risk and One Risk-Free Asset\n",
    "\n",
    "The model(s) that started it all! `ConsIndShockModel` has \"canonical\" consumption-saving models with the most fundamental / core assumptions. Most HARK models descend from the models here, in one way or another.\n",
    "\n",
    "Critically, these models are *permanent income normalized*: their state space and consumption function are expressed in terms of dollar values divided by permanent income. Actual *levels* can be recovered by multiplying by permanent income. Mathematically speaking, these models are homothetic with respect to permanent income."
   ]
  },
  {
   "cell_type": "markdown",
   "id": "1f3fabf3-ff0e-4d25-b056-1bbb0310a9f4",
   "metadata": {},
   "source": [
    "### [`PerfForesightConsumerType`](../ConsIndShockModel/PerfForesightConsumerType.ipynb): Consumption-saving with no financial risk at all\n",
    "\n",
    "This class represents consumers who can save in a single risk-free asset and who face mortality risk, but who face no income risk. Like all HARK models, these consumers have CRRA preferences over consumption and discount utility geometrically.\n",
    "\n",
    "The default parameters do not include a borrowing constraint, but the model *can* handle this feature and solve for the consumption function exactly (up to machine precision)."
   ]
  },
  {
   "cell_type": "markdown",
   "id": "d0185b62-eff3-4e64-a05a-21f25aa03c1c",
   "metadata": {},
   "source": [
    "### [`IndShockConsumerType`](../ConsIndShockModel/IndShockConsumerType.ipynb): Consumption-saving with permanent-transitory income risk\n",
    "\n",
    "This is HARK's core \"workhorse\" model, and the one for which the most theory work has been done. Agents in this model face iid income shocks each period, with two components: a fully *permanent* shock that affects their income in this period and all future periods, and a fully *transitory* component that only affects income this period.\n",
    "\n",
    "Chris Carroll has spent a lot of time pinning down the theoretical properties of this model, and HARK's solver incorporates a lot of that mathematical material. Particularly, the consumption function will always obey theoretical constraints with respect to the perfect foresight solution, as well as boundary behavior as market resources go to their minimum level."
   ]
  },
  {
   "cell_type": "markdown",
   "id": "8fc85a0b-e243-45df-8de5-48a85aac330e",
   "metadata": {},
   "source": [
    "### [`KinkedRconsumerType`](../ConsIndShockModel/KinkedRconsumerType.ipynb): Consumption-saving with a higher interest rate for borrowing\n",
    "\n",
    "The agents in this model face the exact same problem as those in `IndShockConsumerType` *except* that there is a higher interest rate for *borrow* than for *saving*. This creates two kinks in the consumption function, with a $c=m$ segment in between.\n",
    "\n",
    "Notably, the first order condition does not hold with equality on the $c=m$ segment. Instead, the marginal value of assets is too low to *save* any money, but it is also too high to *borrow* money."
   ]
  },
  {
   "cell_type": "markdown",
   "id": "cc605735-19b5-4564-8ecd-d8ab6b12d019",
   "metadata": {},
   "source": [
    "## `GenIncProcessModel`: Non-Permanent-Income-Normalized Models\n",
    "\n",
    "In this module, we lift the assumption of a permanent-transitory income shock structure and allow for a *generalized* income process. The key difference is that the permanent (or persistent) component of income now appears explicitly as a state variable in the policy function (and other components of the solution)."
   ]
  },
  {
   "cell_type": "markdown",
   "id": "07265998-01ca-4a9e-9ada-d44de58b9c3c",
   "metadata": {},
   "source": [
    "### [`GenIncProcessConsumerType`](../ConsGenIncProcessModel/GenIncProcessConsumerType.ipynb): Generalized income processes\n",
    "\n",
    "This is the base `AgentType` subclass for this module; the other subclasses only extend it by setting different default constructors.\n",
    "\n",
    "The permanent-income-normalizable income process is characterized by a sequence of expected permanent income growth factors and joint distributions of permanent and transitory income shocks. In contrast, the \"general\" income process is characterized by a sequence of \"expected future income functions\". These map from current `pLvl` values to succeeding period `pLvl' values, as a general function.\n",
    "\n",
    "In this model, `pLvl` isn't \"permanent\" income *per se*, but instead a univariate measure of some semi-permanent or persistent component. The key restriction is that the *continuation-relevant* information has only one dimension after income shocks have been realized.\n",
    "\n",
    "For ease of compatibility, the two components of the income shock distribution are still labeled `TransShk` and `PermShk`, but the latter affects `pLvl` multiplicatively, no matter the interpretation of `pLvl` for your setting. The transitory shock is, of course, still fully transitory."
   ]
  },
  {
   "cell_type": "markdown",
   "id": "d81d553f-27bf-420c-adc4-5d15fb909c03",
   "metadata": {},
   "source": [
    "### [`IndShockExplicitPermIncConsumerType`](../ConsGenIncProcessModel/GenIncProcessConsumerType.ipynb): Workhorse model with explicit permanent income\n",
    "\n",
    "This `AgentType` is meant to reproduce the same model as `IndShockConsumerType`, but maintains permanent income as an explicit state variable. This class mainly exists as a benchmark comparison.\n",
    "\n",
    "Note that the solution for this class will be *less accurate* than the analogous one for `IndShockConsumerType` because the grid of permanent income values is necessarily bounded, but actual permanent income can grow (or shrink!) without bound. Thus there is extrapolation error near the top and bottom of the permanent income grid, which propagates throughout the solution."
   ]
  },
  {
   "cell_type": "markdown",
   "id": "2693fd5b-79b3-4b8e-8486-cfe84f6dc33d",
   "metadata": {},
   "source": [
    "### [`PersistentShockConsumerType`](../ConsGenIncProcessModel/GenIncProcessConsumerType.ipynb): Consumption-saving model with AR(1) income process\n",
    "\n",
    "This subclass is simply `GenIncProcessConsumerType` with an AR(1) process (in logs) used for the persistent component of income. This model is good for working with highly persistent (but not permanent) income shocks. Because the model is not normalized, it can also be adapted to incorporate a realistic income tax structure and/or Social Security system.\n",
    "\n",
    "We think that reasonable values of the (annual) correlation or persistence coefficient are between 0.97 and 0.995, but we won't judge any values that you use."
   ]
  },
  {
   "cell_type": "markdown",
   "id": "001a14bd-0495-4a08-81b0-35fd5af1f7b8",
   "metadata": {},
   "source": [
    "## [`ConsMarkovModel`](../ConsMarkovModel/MarkovConsumerType.ipynb): Models with a discrete state that evolves exogenously\n",
    "\n",
    "This module has only one `AgentType` subclass, [`MarkovConsumerType`](../ConsMarkovModel/MarkovConsumerType.ipynb), but it is arguably one of the most flexible models in HARK. It extends `IndShockConsumerType` by incorporating a discrete state that changes each period based on some Markov matrix.\n",
    "\n",
    "Most elements of the consumer's problem can vary by discrete state, including the interest factor, expected permanent income growth, survival probability, and the distribution of income shocks.\n",
    "\n",
    "Depending on how you specify or parameterize the model, `MarkovConsumerType` can represent many different kinds of models.  It can be used to represent a model with persistent unemployment, or one whose income shock distribution has a more complicated structure than permanent-transitory. It can be used to solve models with persistent variation in returns to saving, or as a \"cheap\" measure of health with variable survival probabilities. There are many more strange and unusual specifications, as well."
   ]
  },
  {
   "cell_type": "markdown",
   "id": "bf0f3070-e0f5-406f-9591-afefc4ec9ea7",
   "metadata": {},
   "source": [
    "## [`TractableBufferStockModel`](../TractableBufferStockModel/TractableBufferStockConsumerType.ipynb): Illustrative model for learning consumption theory\n",
    "\n",
    "Famously, consumption-saving models with income risk (and risk-averse agents) have no closed form solution form for their optimal consumption function prior to the terminal period. Some theoretical results to characterize the consumption function and how it changes with model parameters are fairly easy to derive and can be demonstrated for students, but others are significantly trickier.\n",
    "\n",
    "Chris Carroll developed the \"tractable buffer stock\" model as a teaching tool for learning the theory of consumption-saving models. It has a very specific (and extreme) form of income uncertainty: the consumer faces a constant risk each period of becoming *permanently* unemployed and *never* receiving labor income again. Otherwise, their labor income grows by a constant factor.\n",
    "\n",
    "The model for `TractableConsumerType`s doesn't *quite* have a closed form solution, but *more* of its characteristics and comparative statics can be derived on paper. Moreover, the solution method for *efficiently* constructing the consumption function is quite different to other HARK models. Broadly, the model is (more or less) only for teaching purposes, not for \"serious\" applied work."
   ]
  },
  {
   "cell_type": "markdown",
   "id": "03108a68-777a-4db9-95a1-6342127c78f3",
   "metadata": {},
   "source": [
    "## `ConsRepAgentModel`: What's this doing here?\n",
    "\n",
    "HARK is nominally for heterogeneous agents macroeconomics, but that can't stop us from including a couple representative agent models anyway."
   ]
  },
  {
   "cell_type": "markdown",
   "id": "24105e6b-d082-46bc-b97d-41f7e6a60a07",
   "metadata": {},
   "source": [
    "### [`RepAgentConsumerType`](../ConsRepAgentModel/RepAgentConsumerType.ipynb): Basic representative agent model\n",
    "\n",
    "This is a bog standard macroeconomic model in which a representative agent allocates their resources between consumption retained assets, which are used as capital in the subsequent period. Labor supply is assumed to be exogenous, and the \"income\" shocks are re-interpreted as labor productivity shocks.\n",
    "\n",
    "The production technology is assumed to be Cobb-Douglas, and factor prices (wage rate and interest rate) are determined competitively as the marginal product of each factor."
   ]
  },
  {
   "cell_type": "markdown",
   "id": "1a350ef3-7484-423c-8961-fb8603cfb75a",
   "metadata": {},
   "source": [
    "### [`RepAgentMarkovConsumerType`](../ConsRepAgentModel/RepAgentConsumerType.ipynb): Representative agent model with a discrete state\n",
    "\n",
    "This model extends the prior one by adding a discrete state with exogenous dynamics given by some Markov matrix. There are fewer model objects that vary with the discrete state as compared to `MarkovConsumerType`, as there is no death in the model and the interest rate is endogenous.\n",
    "\n",
    "The distribution of labor productivity shocks and the expected growth rate of labor productivity are the only things that can vary by the discrete state. The model can easily be extended to allow the capital depreciation factor and capital's share of production to also vary."
   ]
  },
  {
   "cell_type": "markdown",
   "id": "104862c2-cebe-416b-bb7d-a6c6f0218069",
   "metadata": {},
   "source": [
    "## `ConsAggShockModel`\n",
    "\n",
    "This is the main module for *proper* heterogeneous agents macroeconomic models in HARK, and a good follow-up to the `RepAgentModel`. These models involve both idiosyncratic *and* aggregate productivity shocks, thus the name of the module."
   ]
  },
  {
   "cell_type": "markdown",
   "id": "df87ba71-d10b-4d90-8043-38b72059166e",
   "metadata": {},
   "source": [
    "### [`AggShockConsumerType`](../ConsAggShockModel/AggShockConsumerType.ipynb): Standard model with aggregate and idiosyncratic income shocks\n",
    "\n",
    "The `AggShockConsumerType` extends the `IndShockConsumerType` by adding a second state variable, *aggregate* market resources. Moreover, it adds *two* more shock variables: permanent and transitory *aggregate* shocks.\n",
    "\n",
    "The economy produces output as a Cobb-Douglas aggregation of (inelastically supplied) labor and capital. Factor prices (the interest rate and wage rate) are determined endogenously in the model using the competitive outcome (marginal product of each factor).\n",
    "\n",
    "When they make their consumption-saving decision, agents observe their own (normalized) market resources *and* (normalized) *aggregate* market resources. They have some expectation about how much will be saved in aggregate, and thus how much capital the economy will have at the start of the next period."
   ]
  },
  {
   "cell_type": "markdown",
   "id": "330ad5c7-b0c6-4ecb-b2ab-4fb1ea602fe1",
   "metadata": {},
   "source": [
    "The microeconomic model for an `AggShockConsumerType` can be solved for arbitrary expectations about how aggregate market resources map to aggregate assets. To solve the model with *rational expectations*, one or more `AggShockConsumerType` instances must be combined with a `CobbDouglasEconomy`, a subclass of `Market`. The *economy itself* must have its `solve()` method run in order to iteratively find the aggregate saving rule that is consistent with rational expectations.\n",
    "\n",
    "Alternatively, an `AggShockConsumerType` can be solved with a *trivial* grid of aggregate market resources if it is combined with a `SmallOpenEconomy`. In this macroeconomic framework, factor prices are determined *exogenously* (e.g. based on international conditions), but aggregate shocks still occur."
   ]
  },
  {
   "cell_type": "markdown",
   "id": "fa7711f9-5ada-4541-a8b1-2be804b9d774",
   "metadata": {},
   "source": [
    "### [`AggShockMarkovConsumerType`](../ConsAggShockModel/AggShockConsumerType.ipynb): Aggregate shocks with a discrete state\n",
    "\n",
    "Let's do an SAT analogy: `IndShockConsumerType` : `MarkovConsumerType` :: `AggShockConsumerType` : `AggShockMarkovConsumerType`.\n",
    "\n",
    "This model is useful for handling persistent aggregate conditions: maybe higher or lower aggregate growth rates, or different unemployment rates, etc."
   ]
  },
  {
   "cell_type": "markdown",
   "id": "cd372eb4-5c71-48e0-82d5-bce6dfbb3005",
   "metadata": {},
   "source": [
    "## [`ConsRiskyAssetModel`](../ConsPortfolioModel/RiskyAssetConsumerType.ipynb): Consumption-saving with one risky and one risk-free asset\n",
    "\n",
    "HARK has several modules with consumption-saving models that include risky asset returns, rather than a single risk-free asset. This one is the most basic among them."
   ]
  },
  {
   "cell_type": "markdown",
   "id": "df99c790-daf5-4bb2-9672-c87f2b4ae23e",
   "metadata": {},
   "source": [
    "The `RiskyAssetConsumerType` actually represents *two* models. In both cases, the consumer can save their assets in a risky asset (with known distribution of returns). A Boolean parameter determines whether the agents can *choose* their portfolio allocation between risky and risk-free assets. When this parameter is `False`, the *proportional share* of wealth in each asset is fixed at the value in the parameter `RiskyShareFixed`."
   ]
  },
  {
   "cell_type": "markdown",
   "id": "bc46333d-f2f2-4542-ac0f-b1fea94d10d6",
   "metadata": {},
   "source": [
    "## [`ConsPortfolioModel`](../ConsPortfolioModel/PortfolioConsumerType.ipynb): Consumption-saving with portfolio allocation and extra features\n",
    "\n",
    "The [`PortfolioConsumerType`](../ConsPortfolioModel/PortfolioConsumerType.ipynb) is an \"advanced\" version of `RiskyAssetConsumerType`. If you do not need to use any of its extra features, we recommend against using it; you should use `RiskyAssetConsumerType` instead. The solver is significantly slower *because* of the extra options.\n",
    "\n",
    "There are two key additional features, which can be combined:\n",
    "\n",
    "1. An option to limit the agents to portfolio choice on a *discrete* grid of shares.\n",
    "2. Restricting agents to only adjust their portfolio share with *probability less than one*.\n",
    "\n",
    "Because of (2), the current allocation of assets is a state variable in the agent's problem."
   ]
  },
  {
   "cell_type": "markdown",
   "id": "03249cfb-5e54-4164-922c-318f7fa1f4ce",
   "metadata": {},
   "source": [
    "## `ConsBequestModel`: Models with a warm glow bequest motive\n",
    "\n",
    "The two models here extend other HARK `AgentType` subclasses to include a *warm glow bequest motive*. Arguably, these should be \"folded into\" the parent model, replacing them with a (slightly) more general model."
   ]
  },
  {
   "cell_type": "markdown",
   "id": "c98d61a9-6bac-4f7f-932c-cbd658103ff0",
   "metadata": {},
   "source": [
    "### [`BequestWarmGlowConsumerType`](../ConsBequestModel/example_WarmGlowBequest.ipynb): Idiosyncratic income shocks with a warm glow bequest motive\n",
    "\n",
    "This class extends the core `IndShockConsumerType` by incorporating a bequest motive. Specifically, agents anticipate that at the moment of their death, they will experience one last flow of utility based on their assets, using their ordinary utility-of-consumption function.\n",
    "\n",
    "The bequest motive is parameterized by a scaling factor and an additive shifter (inside the utility function). These parameters can be algebraically rearranged to show that it is mathematically equivalent to having a linear \"consumption function at death\"."
   ]
  },
  {
   "cell_type": "markdown",
   "id": "0f0ce29a-4c84-4d1f-b94a-284aafa38e1c",
   "metadata": {},
   "source": [
    "### [`BequestWarmGlowPortfolioType`](../ConsBequestModel/example_WarmGlowBequestPort.ipynb): Income shocks and portfolio choice with a warm glow bequest motive\n",
    "\n",
    "This model extends `PortfolioConsumerType` to include a warm glow bequest. Note that the solver includes the \"bells and whistles\" of `PortfolioConsumerType`, not just the \"basic\" options in `PortChoiceConsumerType`."
   ]
  },
  {
   "cell_type": "markdown",
   "id": "b89da872-89a0-48d0-95ce-d47898d88175",
   "metadata": {},
   "source": [
    "## `ConsWealthPortfolioModel`: Agents who value wealth in and of itself\n",
    "\n",
    "The standard assumption in consumption-saving models is that agents derive utility from *actually consuming* some of their resources. Retained assets are only valuable to the extent that they *will* be consumed at some point.\n",
    "\n",
    "The [`WealthPortfolioConsumerType`](../ConsBequestModel/example_WealthPortfolio.ipynb) represents agents whose wealth *directly* enters their flow utility function. Specifically, the model assumes that \"effective consumption\" is a Cobb-Douglas aggregation of actual consumption and retained assets. This provides an additional incentive to hold wealth, as it will yield additional utility today *and* in future periods.\n",
    "\n",
    "As the name of the class implies, this model adjusts or extends our portfolio-choice models-- the agents can allocate their wealth between a risky and a risk-free asset."
   ]
  },
  {
   "cell_type": "markdown",
   "id": "f03c0c88-d937-42bb-8387-86260e42f07c",
   "metadata": {},
   "source": [
    "## [`ConsLaborModel`](../ConsLaborModel/LaborIntMargConsumerType.ipynb): Models with endogenous labor supply\n",
    "\n",
    "Most models in HARK assume that the agents supply their labor inelastically: they work (when employed) up until some retirement age, and then cease working. The `ConsLaborModel` module has `AgentType` subclasses for consumers who optimally choose their labor supply.\n",
    "\n",
    "Currently, the only model is [`LaborIntMargConsumerType`](../ConsLaborModel/LaborIntMargConsumerType.ipynb). These agents make a consumption-saving decision *and* choose how to allocate their time between labor and leisure. Utility flow is based on an aggregation of consumption and leisure. Labor supply choice is on the *intensive margin*, as the agents can choose any fraction of their time to work.\n",
    "\n",
    "Years ago, we began development on a `LaborExtMargConsumerType` who makes a *binary* decision about whether or not to work. This work was not completed, but we hope to resurrect it in the future."
   ]
  },
  {
   "cell_type": "markdown",
   "id": "6a18618b-a2fd-4013-b6e6-82e281f498a9",
   "metadata": {},
   "source": [
    "## [`ConsHealthModel`](../ConsHealthModel/BasicHealthConsumerType.ipynb): Consumption-saving models with endogenous health\n",
    "\n",
    "Matt White does a lot of work with consumption-saving models that include health and/or medical spending, but the public version of HARK currently only includes one model with endogenous health, the [`BasicHealthConsumerType`](../ConsHealthModel/BasicHealthConsumerType.ipynb).\n",
    "\n",
    "Agents in this model can allocate their market resources among consumpton, saving, and health investment. Buying health investment yields concave returns to health capital, which affects both survival probability *and* labor productivity.\n",
    "\n",
    "Unlike most other HARK models, this model is *not* permanent-income-normalized, and in fact has *no* permanent income shocks at all. All income shocks are fully transitory, which is a major reason that we have labeled it as \"basic\". It is here as a demonstration or example of how health investment works in a consumption-saving framework, and as an example implementation of the `Curvilinear2DInterp` class.\n",
    "\n",
    "In the future, Matt will move more advanced health models from his private repositories into public HARK. Eventually."
   ]
  },
  {
   "cell_type": "markdown",
   "id": "36c7b6ca-2285-4e63-a871-0b8828bfc06a",
   "metadata": {},
   "source": [
    "## `ConsMedModel`: Models with medical expenses as an additional choice\n",
    "\n",
    "Whereas `ConsHealthModel` concerns models with an *endogenous* health state, `ConsMedModel` is for models that care about *medical expenses* as an additional source of risk for consumers. There are currently two models."
   ]
  },
  {
   "cell_type": "markdown",
   "id": "44222632-5a5d-4be2-870f-bd008d40604c",
   "metadata": {},
   "source": [
    "### [`MedShockConsumerType`](../ConsMedModel/MedShockConsumerType.ipynb): Consumption-saving with medical care as a second consumption good\n",
    "\n",
    "This model extends `GenIncProcessModel` to include medical care as a second consumption good. The utility of medical care is additive with utility of consumption, and is also CRRA. However, the risk aversion coefficient for medical care should be *greater* than that for consumption (and be greater than one).\n",
    "\n",
    "Moreover, (marginal) utility of medical care is *stochastic*, with a medical needs shock drawn at the start of each period. When medical needs are zero, the agent does not want to buy any care at all. When medical needs are positive, they want to mititgate the utility loss by purchasing care.\n",
    "\n",
    "The functional form in the current version of the model is taken directly from the \"endogenous medical expenses\" extension in DeNardi, French, and Jones (2010). However, we have since realized that it *should* be algebraically rearranged slightly, moving the medical needs shock from being multiplicative *outside* the CRRA term to being an inverse factor on medical care *inside* the utility function.\n",
    "\n",
    "In the near future, this model will be adjusted to incorporate that change, which has mathematically convenient properties."
   ]
  },
  {
   "cell_type": "markdown",
   "id": "5ba889dd-aa98-4ed0-b478-538bfdcb8060",
   "metadata": {},
   "source": [
    "### [`MedExtMargConsumerType`](../ConsMedModel/MedExtMargConsumerType.ipynb): Medical care choice on the extensive margin\n",
    "\n",
    "`MedShockConsumerType` agents purchase non-zero medical care *if and only if* their medical needs shock is strictly positive. They make a choice of the *intensity* of medical care, but whether or not they receive *any* is strictly determined by the probability that the medical needs shock is zero vs positive. Thus there cannot be any *extensive margin* choice, ruling out extensive margin moral hazard-- or even richer people being more likely to get medical care at all.\n",
    "\n",
    "The `MedExtMargConsumerType` model is an initial attempt to model medical care on the extensive margin. Each period, along with their income shocks, agents also observe a medical shock with *two* components: medical needs and medical cost. They face a binary choice of whether to suffer the medical needs as a utility loss *or* pay the cost for treatment.\n",
    "\n",
    "As is, the model is quite basic and does not have serially correlated shocks, nor any representation of insurance. Moreover, the assumption of bivariate lognormal medical shocks is *hardcoded* into the solution method. These assumptions will be generalized in the future."
   ]
  },
  {
   "cell_type": "markdown",
   "id": "a7365628-8d94-48dd-9337-3aaf1a0158cb",
   "metadata": {},
   "source": [
    "## [`ConsPrefShockModel`](../ConsPrefShockModel/PrefShockConsumerType.ipynb): Consumption-saving with stochastic marginal utility\n",
    "\n",
    "As a precursor to the medical expense shock model, HARK has long had models with *one* consumption good and random shocks to marginal utility."
   ]
  },
  {
   "cell_type": "markdown",
   "id": "400dd277-aa54-4e27-91fc-1a7666ae4a2a",
   "metadata": {},
   "source": [
    "### [`PrefShockConsumerType`](../ConsPrefShockModel/PrefShockConsumerType.ipynb): Standard model with marginal utility shocks\n",
    "\n",
    "Agents in this model are identical to those in `IndShockConsumerType`, but they *also* draw a \"preference shock\" each period. These shocks are multiplicative on utility, representing how valuable consumption is *this period* compared to normal (shocks should be mean 1).\n",
    "\n",
    "This model is probably most useful for handling consumption dynamics with higher frequency than usual. That is, if you were to observe someone's consumption spending on a monthly basis, it would be (relatively) more volatile than their spending on an *annual* basis-- sometimes \"things just come up\" and someone needs to buy more in one month than another. The model can thus generate volatile consumption without even more volatile income."
   ]
  },
  {
   "cell_type": "markdown",
   "id": "ae11f7dd-702b-45b2-b0be-ac2dd373fe70",
   "metadata": {},
   "source": [
    "### [`KinkyPrefConsumerType`](../ConsPrefShockModel/PrefShockConsumerType.ipynb): Preference shocks and different interest rates for borrowing vs saving\n",
    "\n",
    "Let's do another SAT analogy: `IndShockConsumerType` : `PrefShockConsumerType` :: `KinkedRconsumerType` : `KinkyPrefConsumerType`.\n",
    "\n",
    "As fun trivia, this model is what gave Econ-ARK its logo-- the \"lightning rainbow\" is a stylized image of the consumption function for a `KinkyPrefConsumerType`. We chose this because the original solver for this model was a demonstration of multiple inheritance in our *solver classes*. That is, the solver code consisted entirely of specifying a class that inherited from both `PrefShock` and `KinkedR`.\n",
    "\n",
    "We have since abandoned this complicated approach to model solvers, but the logo is still pretty nifty!"
   ]
  },
  {
   "cell_type": "code",
   "execution_count": null,
   "id": "ad77a646-d254-49c2-9036-855d43f7a192",
   "metadata": {},
   "outputs": [],
   "source": []
  }
 ],
 "metadata": {
  "kernelspec": {
   "display_name": "Python 3 (ipykernel)",
   "language": "python",
   "name": "python3"
  },
  "language_info": {
   "codemirror_mode": {
    "name": "ipython",
    "version": 3
   },
   "file_extension": ".py",
   "mimetype": "text/x-python",
   "name": "python",
   "nbconvert_exporter": "python",
   "pygments_lexer": "ipython3",
   "version": "3.12.9"
  }
 },
 "nbformat": 4,
 "nbformat_minor": 5
}
