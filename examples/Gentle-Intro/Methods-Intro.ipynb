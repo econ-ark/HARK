{
 "cells": [
  {
   "cell_type": "markdown",
   "id": "ab060c48-6329-41e7-b83f-c2f6dc662a65",
   "metadata": {},
   "source": [
    "# Numeric Methods Commonly Used in HARK"
   ]
  },
  {
   "cell_type": "code",
   "execution_count": null,
   "id": "75ef393d-fa87-4efc-bb62-f8ec86d2aa0f",
   "metadata": {},
   "outputs": [],
   "source": [
    "import numpy as np\n",
    "from HARK.utilities import plot_funcs\n",
    "from HARK.interpolation import LinearInterp, CubicInterp"
   ]
  },
  {
   "cell_type": "markdown",
   "id": "155e3460-ac6a-40b7-8de2-be531b5d405b",
   "metadata": {},
   "source": [
    "HARK uses a variety of numeric methods to solve and simulate models; this notebook discusses some of those methods. Much of what's done in HARK (and described here) is commonly known, but there are some less-than-common techniques as well."
   ]
  },
  {
   "cell_type": "markdown",
   "id": "603385b4-8ee2-4edf-9d3d-e0e3146ab1d9",
   "metadata": {},
   "source": [
    "## The Endogenous Grid Method\n",
    "\n",
    "Essentially all consumption-saving models in HARK are solved using the **endogenous grid method**, or EGM for short. This technique was first published in 2005, but Chris Carroll had been using it for over a decade before then-- and believed that everyone else was using it too! It has since been extended by many others to incorporate wider arrays of models, but the main logic remains the same."
   ]
  },
  {
   "cell_type": "markdown",
   "id": "186eafff-3c0b-4121-a790-04f4c69ac2c3",
   "metadata": {},
   "source": [
    "### Simple Consumption-Saving Model\n",
    "\n",
    "We'll present a very basic consumption-saving model here to quickly motivate the EGM:\n",
    "\n",
    "\\begin{eqnarray*}\n",
    "V_t(M_t) &=& \\max_{C_t} U(C_t) + \\beta \\mathbb{E} \\left[ V_{t+1}(M_{t+1})\\right] ~~ \\text{s.t.}\\\\\n",
    "A_t &=& M_t - C_t,\\\\\n",
    "A_t &\\geq& 0,\\\\\n",
    "M_{t+1} &=& R A_t + Y_{t+1},\\\\\n",
    "Y_{t+1} &\\sim& F,\\\\\n",
    "U(C) &=& \\frac{C^{1-\\rho}}{1-\\rho}.\n",
    "\\end{eqnarray*}"
   ]
  },
  {
   "cell_type": "markdown",
   "id": "10bf3835-7ba6-4c64-808d-504d9be5ac6b",
   "metadata": {},
   "source": [
    "This is a basic consumption-saving framework with iid income drawn from some distribution $F$, CRRA utility, geometric discounting, and one risk-free asset. The problem in period $t$ is to find optimal consumption $C_t$ as a function of market resources $M_t$, subject to income risk and assuming that the problem has already been solved back to period $t+1$. For simplicity, let's assume that $V_{t+1}(\\cdot)$ is strictly concave (it *is* strictly concave if this is the model in all future periods, but we won't bother proving that here)."
   ]
  },
  {
   "cell_type": "markdown",
   "id": "29b95b4b-76b7-4ef2-87b9-ab6796e6e132",
   "metadata": {},
   "source": [
    "### Traditional Solution Method\n",
    "\n",
    "Assuming an interior solution for $C_t$, the first order condition for optimality is the first derivative of the maximand with respect to $C_t$, equated to zero:\n",
    "\n",
    "\\begin{equation*}\n",
    "\\text{maximand:} ~~ \\frac{C_t^{1-\\rho}}{1-\\rho} + \\beta \\mathbb{E} \\left[ V_{t+1}(R (M_t - C_t) + Y_{t+1})\\right].\n",
    "\\end{equation*}\n",
    "\\begin{equation*}\n",
    "\\text{FOC:} ~~ C_t^{-\\rho} + \\beta R \\mathbb{E} \\left[ V_{t+1}'(R (M_t - C_t) + Y_{t+1})\\right] = 0.\n",
    "\\end{equation*}"
   ]
  },
  {
   "cell_type": "markdown",
   "id": "a3f7d7b9-9a3a-4b98-b6a3-b56f82bbe6bf",
   "metadata": {},
   "source": [
    "The \"traditional\" way to solve this model is to choose a finite grid of $M_t$ values, then search for the $C_t$ that satisfies the FOC for each one. That is, we suppose that the agent *is* at some state $M_t$ and ask *what they should optimally do now*.\n",
    "\n",
    "This approach involves using a numeric rootfinder to solve the FOC; each \"guess\" of $C_t$ for some $M_t$ requires computing the expectation over $Y_{t+1}$. This is a costly process that involves a lot of \"wasted work\": if a pair $(M_t,C_t)$ does not satisfy the FOC, we *throw it out* and try again."
   ]
  },
  {
   "cell_type": "markdown",
   "id": "f4baacd9-f461-436b-8b1d-a13dc6427145",
   "metadata": {},
   "source": [
    "### Endogenous Grid Method Math\n",
    "\n",
    "The endogenous grid method eliminates that wasted work by flipping the problem around. Rather than considering what the agent should do *now* at some $M_t$, it instead hypothesizes that the agent has *already* consumed and is *ending* the period with $A_t$ in retained assets. EGM asks how much the agent must have *just consumed* if they acted optimally and ended the period with $A_t$."
   ]
  },
  {
   "cell_type": "markdown",
   "id": "1a13948c-a52d-4bf1-adde-5c0ce057d69b",
   "metadata": {},
   "source": [
    "Mathematically, this involves defining the agent's \"end-of-period value function\", sometimes called a \"continuation value function\". It maps from values of $A_t$ to the expected sum of future utility flows.\n",
    "\n",
    "\\begin{equation*}\n",
    "\\mathfrak{V}_t(A_t) = \\beta \\mathbb{E} \\left[ V_t(R A_t + Y_{t+1}) \\right].\n",
    "\\end{equation*}\n",
    "\n",
    "The marginal value of end-of-period assets is:\n",
    "\n",
    "\\begin{equation*}\n",
    "\\mathfrak{V}_t'(A_t) = \\beta R \\mathbb{E} \\left[ V_t'(R A_t + Y_{t+1}) \\right].\n",
    "\\end{equation*}"
   ]
  },
  {
   "cell_type": "markdown",
   "id": "a5cc9224-3f2d-47c0-b772-af009cec7ecb",
   "metadata": {},
   "source": [
    "The first order condition for optimality can thus be re-expressed in \"EGM form\" using these definitions:\n",
    "\n",
    "\\begin{equation*}\n",
    "\\text{maximand:} ~~ \\frac{C_t^{1-\\rho}}{1-\\rho} + \\mathfrak{V}_t(A_t).\n",
    "\\end{equation*}\n",
    "\\begin{equation*}\n",
    "\\text{FOC:} ~~ C_t^{-\\rho} - \\mathfrak{V}_t'(A_t) = 0.\n",
    "\\end{equation*}\n",
    "\n",
    "The addition in the ordinary FOC becomes subtraction because $A_t = M_t - C_t$, so the derivative of $A_t$ w.r.t $C_t$ is $-1$."
   ]
  },
  {
   "cell_type": "markdown",
   "id": "34b5f703-2d6f-4a26-aaf6-19c552136a77",
   "metadata": {},
   "source": [
    "The FOC in EGM form can be solved very easily to find $C_t$:\n",
    "\n",
    "\\begin{equation*}\n",
    "C_t = \\mathfrak{V}_t'(A_t)^{-1/\\rho}.\n",
    "\\end{equation*}\n",
    "\n",
    "Moreover, if we know end-of-period assets $A_t$ and how much the agent just consumed $C_t$, we also know how much market resources $M_t$ they had when they made their decision, from the intraperiod budget constraint:\n",
    "\n",
    "\\begin{equation*}\n",
    "A_t = M_t - C_t \\Longrightarrow M_t = A_t + C_t.\n",
    "\\end{equation*}"
   ]
  },
  {
   "cell_type": "markdown",
   "id": "a864ed7c-646b-460f-9602-51f1c5d06a82",
   "metadata": {},
   "source": [
    "### Algorithm Summary\n",
    "\n",
    "The preceding math suggests the following general algorithm for EGM:\n",
    "\n",
    "1. Choose a grid of end-of-period states $A_t$ on $[0, \\infty]$\n",
    "2. Evaluate marginal value of end-of-period assets $\\mathfrak{V}_t'(A_t)$ for each gridpoint\n",
    "3. Find the associated optimal $C_t$ for each $A_t$ using the inverted FOC\n",
    "4. Find the $M_t$ gridpoint from which $C_t$ was chosen to reach each $A_t$\n",
    "5. Add an additional $(M_t, C_t)$ gridpoint at $(0,0)$\n",
    "6. Construct the consumption function as a linear interpolation of $C_t$ on $M_t$\n",
    "7. Represent the marginal value function $V_t'(M_t)$ as the composition of the marginal utility function and the consumption function"
   ]
  },
  {
   "cell_type": "markdown",
   "id": "57e19371-0cdd-4015-bd40-2b03a140ae2e",
   "metadata": {},
   "source": [
    "The final step relies on the typical envelope condition for consumption-saving models, which we don't elaborate on here.\n",
    "\n",
    "EGM greatly accelerates solving the model because it yields one point on the consumption function for each numeric expectation (over future marginal value) that is computed. That is, there is no \"wasted work\" at all. Moreover, EGM *exactly* identifies where the borrowing constraint $A_t \\geq 0$ begins to bind. In contrast, the \"standard approach\" involves checking various $M_t$ values and finding that the agent should consume all market resources, but never finds the exact point where $C_t = M_t$ exactly satisfies the FOC.\n",
    "\n",
    "Essentially all of the consumption-saving models in HARK are more complex than the example here, and thus the math is somewhat more complicated in practice. But the core logic is the same: consider the agent's (marginal) valuation from the perspective of the *end* of the period and recover their optimal control(s) from that.\n",
    "\n",
    "Throughout HARK's solvers, the prefix `EndOfPrd` is used to denote \"end-of-period\" objects and values. E.g. `EndOfPrd_vP` is marginal value as the end of period $t$."
   ]
  },
  {
   "cell_type": "markdown",
   "id": "91446d49-f55f-4167-a45b-270339daa9a3",
   "metadata": {},
   "source": [
    "## Interpolation Methods\n",
    "\n",
    "HARK includes many interpolator classes in `HARK.interpolation`. We use custom interpolation code to enable compatibility with the concept of \"distance\" between objects (as part of `MetricObject`)."
   ]
  },
  {
   "cell_type": "markdown",
   "id": "e4e4610e-248b-4b09-bd37-eb9d2890e57a",
   "metadata": {},
   "source": [
    "### Linear Spline Interpolation\n",
    "\n",
    "The most common interpolation technique in HARK is basic linear spline interpolation using `LinearInterp`. The basic syntax for making a linear splint interpolant is simple: `LinearInterp(x_values, y_values)`. Let's make an approximation of the log function as a demonstration."
   ]
  },
  {
   "cell_type": "code",
   "execution_count": null,
   "id": "91a613e2-bc04-42df-9653-e0dab1a89bfd",
   "metadata": {},
   "outputs": [],
   "source": [
    "f = np.log\n",
    "X = np.linspace(1.0, 20.0, 20)\n",
    "Y = f(X)\n",
    "g = LinearInterp(X, Y)\n",
    "plot_funcs([f, g], 0.1, 25.0)"
   ]
  },
  {
   "cell_type": "markdown",
   "id": "2a912605-a834-4c9e-b9cd-10ea7f9c1202",
   "metadata": {},
   "source": [
    "This figure is useful for demonstrating some of the details of `LinearInterp`:\n",
    "\n",
    "- By default, there is *no lower extrapolation*; the interpolant returns NaN. We made this choice because the most common context for interpolation in HARK is over money, which has a meaningful lower bound below which *the function is not defined*.\n",
    "- To use linear extrapolation below the lowest gridpoint, pass the option `lower_extrap=True` at instantiation.\n",
    "- By default, `LinearInterp` uses linear extrapolation above the highest gridpoint. Again, this is because the most common context for interpolation in HARK is over money, for which there is no meaningful upper bound. Moreover, many of the functions being interpolated *really do* approach a linear limit as $x$ becomes large.\n",
    "- `LinearInterp` has optional inputs of `intercept_limit` and `slope_limit` to specify a linear function that the interpolant should approach as $x$ becomes arbitrarily large. The interpolant will use \"decay extrapolation\": the level and slope of the function is preserved at the highest gridpoint, and the extrapolation is an exponential decay to the limiting function above the top gridpoint."
   ]
  },
  {
   "cell_type": "markdown",
   "id": "08a2dd2e-c07f-4499-abf3-a17da73a5a73",
   "metadata": {},
   "source": [
    "### Cubic Spline Interpolation\n",
    "\n",
    "The linear spline approximation of the log function is noticeably inaccurate at low values of $x$-- the orange interpolant is visibly below the blue log function. As you likely know, linear spline interpolation's accuracy depends on the local *curvature* of the true function. Intuitively, the more the function bends, the less well it can be approximated by a series of linear segments.\n",
    "\n",
    "HARK's second workhorse 1D interpolator is `CubicInterp`. The basic syntax is identical to `LinearInterp`, but with an additional third argument of `dydx_values`. Let's continue the log example from above to demonstrate."
   ]
  },
  {
   "cell_type": "code",
   "execution_count": null,
   "id": "2b68986d-6e02-4e36-a04e-ef92c3382b1f",
   "metadata": {},
   "outputs": [],
   "source": [
    "dYdX = 1.0 / X\n",
    "h = CubicInterp(X, Y, dYdX)\n",
    "plot_funcs([f, h], 0.1, 25.0)"
   ]
  },
  {
   "cell_type": "markdown",
   "id": "a0e5c4a6-1597-4995-a428-b312bca27d78",
   "metadata": {},
   "source": [
    "Now the orange interpolant covers up the true blue function even at low $x$. Note that lower extrapolation is still off by default, and that linear extrapolation is used above the top gridpoint.\n",
    "\n",
    "Accuracy is easier to see if we plot the differnce between the interpolants and the true function."
   ]
  },
  {
   "cell_type": "code",
   "execution_count": null,
   "id": "0713e579-c8d5-4115-859b-22dfede38d95",
   "metadata": {},
   "outputs": [],
   "source": [
    "g_error = lambda x: g(x) - f(x)\n",
    "h_error = lambda x: h(x) - f(x)\n",
    "plot_funcs([g_error, h_error], 0.1, 25.0)"
   ]
  },
  {
   "cell_type": "markdown",
   "id": "895781b9-3aa2-4298-8cf4-b11e431631a5",
   "metadata": {},
   "source": [
    "Here, the blue curve is the error for the linear spline interpolant and the orange curve is the error for the cubic spline interpolant. Note that the linear extrapolation is *slightly* more accurate for the cubic interpolant. That's because its initial slope is based on the *true slope* at the highest gridpoint, whereas the extrapolation for the linear spline interpolant is based on the *secant* of the two highest interpolation nodes.\n",
    "\n",
    "`CubicInterp` has the same options as `LinearInterp` for enabling lower extrapolation (linear) and using \"exponential decay\" extrapolation (upper)."
   ]
  },
  {
   "cell_type": "markdown",
   "id": "4db1b786-3b5b-4808-bfe4-3f23dd7ef0dd",
   "metadata": {},
   "source": [
    "### Multidimensional Interpolators\n",
    "\n",
    "`HARK.interpolation` also has multilinear interpolators for functions with 2, 3, and 4 arguments. These are, respectively, `BilinearInterp`, `TrilinearInterp`, and `QuadlinearInterp` (which maybe should be `QuadralinearInterp`).\n",
    "\n",
    "The syntax for instantiating multilinear interpolants is *slightly* different from the 1D interpolants: the function values are passed *before* the grids rather than after. Thus the instantiating statements are formatted as:\n",
    "\n",
    "- `f = BilinearInterp(f_values, x_grid, y_grid)`\n",
    "- `g = TrilinearInterp(f_values, x_grid, y_grid, z_grid)`\n",
    "- `h = QuadlinearInterp(f_values, w_grid, x_grid, y_grid, z_grid)`\n",
    "\n",
    "Note that the *internal* names for the dimensions change from $x,y,z$ to $w,x,y,z$ when moving from 3 to 4 dimensions. This mostly only matters for calling the derivative methods (see below).\n",
    "\n",
    "In all cases, the grids should be 1D arrays (or just lists of floats) and `f_values` should be an ND array with each dimension equal to the size of the corresponding grid. The values represent function values at the mesh of the grids."
   ]
  },
  {
   "cell_type": "markdown",
   "id": "86e174de-9c0c-4e7c-ba36-d18d7944d70d",
   "metadata": {},
   "source": [
    "### Who Interpolates the Interpolators? (We Do)\n",
    "\n",
    "Partly because HARK solvers use EGM a lot, we often end up with interpolation nodes that share $y$ values but have different $x$ values within each $y$ value. For example, in `GeneralIncomeProcessModel`, permanent/persistent income is not normalized out and is present as a state variable. When using EGM, starting from a mesh grid of $(A_t, P_t)$ values will yield a set of $(M_t,P_t)$ endogenous gridpoints that share $P_t$ values but have a different set of $M_t$ values within each one. Thus `BilinearInterp` cannot be used to interpolate this data.\n",
    "\n",
    "Instead, we construct a set of 1D interpolators over $M_t$, one for each value of $P_t$, and then *interpolate the interpolators* with the class `LinearInterpOnInterp1D`. The syntax to instantiate this class is straightforward:\n",
    "\n",
    "`f = LinearInterpOnInterp1D(list_of_interpolants_over_x, y_grid)`"
   ]
  },
  {
   "cell_type": "markdown",
   "id": "5daf3b27-f8e7-4c93-925b-3463a99980c2",
   "metadata": {},
   "source": [
    "When a `LinearInterpOnInterp1D` instance is called as a function, it finds the \"bounding\" $y$ values for each query point, calculates the linear weight between them, and evaluates *both* \"bounding\" x-interpolants for each query point. It then returns the linearly weighted average of those values.\n",
    "\n",
    "But wait, there's more! `HARK.interpolation` has this kind of interpolator for *every* possibility up to interpolants with 4 arguments. That is, the following classes can all be used with analogous syntax:\n",
    "\n",
    "- `LinearInterpOnInterp1D` (2 arguments)\n",
    "- `BilinearInterpOnInterp1D` (3 arguments)\n",
    "- `TrilinearInterpOnInterp1D` (4 arguments)\n",
    "- `LinearInterpOnInterp2D` (3 arguments)\n",
    "- `BilinearInterpOnInterp2D` (4 arguments)\n",
    "- `LinearInterpOnInterp3D` (4 arguments)"
   ]
  },
  {
   "cell_type": "markdown",
   "id": "c4a34eae-90c9-45f1-bd80-16d7279150f6",
   "metadata": {},
   "source": [
    "Early in HARK's development, we began coding a `BicubicInterp` interpolator, but realized that essentially no models have closed form cross-partial derivatives for their functions. This work was abandoned and is unlikely to be revived."
   ]
  },
  {
   "cell_type": "markdown",
   "id": "ad55c921-12d2-4fcd-b12f-052bae6712c7",
   "metadata": {},
   "source": [
    "### Variable Lower Bounds\n",
    "\n",
    "Sometimes the lower bound of a function's domain with respect to one dimension can depend on the value of another dimension. Most commonly in the context of consumption-saving models, the lower bound of allowable cash-on-hand can depend on other state variables, like permanent income (you can borrow more if you have higher income) or house size (you can borrow against your home).\n",
    "\n",
    "To handle this situation with continuous state variables (rather than discrete permanent income or house size, e.g.), HARK has special interpolators with the `VariableLowerBound` prefix. These are:\n",
    "\n",
    "- `VariableLowerBoundFunc2D`\n",
    "- `VariableLowerBoundFunc3D`\n",
    "- `VariableLowerBoundFunc4D`"
   ]
  },
  {
   "cell_type": "markdown",
   "id": "feec5faf-54f4-4627-abfe-bcee2f62f511",
   "metadata": {},
   "source": [
    "Each of these classes has identical syntax for instantiation:\n",
    "\n",
    "`f = VariableLowerBoundFuncND(some_ND_function, lower_bound_for_dim0_wrt_other_dims)`\n",
    "\n",
    "The input labeled `some_ND_function` should be a callable object that takes $N=2,3,4$ arguments. Importantly, the lower bound of the first dimension (dim 0) should be zero *everywhere*. That is, `some_ND_function` should be a \"regularized\" or \"shifted\" function that aligns the lower bound to zero.\n",
    "\n",
    "The input `lower_bound_for_dim0_wrt_other_dims` should be a callable object that takes $N-1$ arguments, representing all but the first dimension (dim 0), and returns what the *actual* lower bound is in the first dimension."
   ]
  },
  {
   "cell_type": "markdown",
   "id": "903a4116-de5a-41da-90be-d05f8560bb7f",
   "metadata": {},
   "source": [
    "When a `VariableLowerBoundFuncND` instance is called as a function, the arguments passed to it should be the *actual* values. The class handles the shift in the first argument based on the values of the other arguments.\n",
    "\n",
    "In practice, most interpolated functions with a strict lower boundary have the nice feature that the function goes to zero (or some other common value) at that lower bound. For any policy function for a control variable that costs money, the function *must* approach zero as cash-on-hand approaches its lowest legal value-- that's part of the definition of what it means for a state to be valid!\n",
    "\n",
    "This is a primary reason why this \"regularizing\" method improves accuracy: the actual relevant state variable is cash-on-hand-above-minimum-allowable-value. The `VariableLowerBound` functionality handles the translation from raw cash-on-hand to the state space with nicer properties."
   ]
  },
  {
   "cell_type": "markdown",
   "id": "3d46b8fe-98b9-43b0-981c-8fc351164137",
   "metadata": {},
   "source": [
    "### Derivative Methods\n",
    "\n",
    "All of the interpolator classes in HARK inherit from superclasses called `HARKinterpolatorND`, for $N=1,2,3,4$. These superclasses define an interface or API for subclasses to build from. In particular, they handle re-shaping query input and output so that the interpolators can always assume they are working with vector inputs, which simplifies programming.\n",
    "\n",
    "In addition, the `HARKinterpolatorND` interface provides derivative methods for all interpolator classes. Specifically, the following methods are defined for *all* interplators:\n",
    "\n",
    "- `derivativeX` : all interpolators\n",
    "- `derivativeY` : 2D, 3D, and 4D interpolators\n",
    "- `derivativeZ` : 3D and 4D interpolators\n",
    "- `derivativeW` : 4D interpolators\n",
    "\n",
    "These represent the first derivative with respect to those dimensions. Additionally, 1D interpolators can call the `derivative` method with no dimension named; there's no ambiguity if there's one one argument!"
   ]
  },
  {
   "cell_type": "markdown",
   "id": "e62d55ec-e9d2-48d7-813a-0e784ed9b359",
   "metadata": {},
   "source": [
    "All of the derivative methods correctly handle calls to \"sub-interpolators\", including shifts from `VariableLowerBound`-- that's why we implemented the common interface! However, they do *not* currently have a backup plan if they encounter an error from trying to evaluate a derivative method on something that *doesn't have one*.\n",
    "\n",
    "Suppose you made a `LinearInterpOnInterp1D` and one of the interpolants w.r.t $x$ wasn't a subclass of `HARKinterpolator1D`-- maybe it's some custom function that you wrote, maybe it's just a lambda function. If you try to query `MyInterpolant.derivativeX` at a point that requires calling `derivativeX` for that non-`HARKinterpolator1D` function, an error will be raised.\n",
    "\n",
    "In the future, we will add a backup numeric derivative to prevent these kinds of errors."
   ]
  },
  {
   "cell_type": "markdown",
   "id": "66cf79ba-8b72-4e58-ab75-642eac84e2d7",
   "metadata": {},
   "source": [
    "## \"Pseudo-Inverse\" Functions\n",
    "\n",
    "As noted above, linear spline interpolation is most accurate for functions that are not very curvy-- they are well approximated by line segments. A critical type of function in consumption-saving models is *famously* curved: the value function with risk averse preferences.\n",
    "\n",
    "The value function with (say) CRRA preferences is built from the sum of expectations of CRRA utility terms for each period. Thus it should not be *too* surprising that value functions look *kind of like* the utility function itself. CRRA utility can be quite curved, at least when $\\rho$ is not close to zero, and especially for small values of the input."
   ]
  },
  {
   "cell_type": "markdown",
   "id": "d581fa60-a2fd-47fc-a183-b2fe23384e16",
   "metadata": {},
   "source": [
    "You *can* approximate a value function as a piecewise linear interpolant, but there will be a significant loss of accuracy. Moreover, if you try to explicitly maximize value using a linear spline interpolant for the value function, you will encounter some unfortunate (but explainable) numeric quirks.\n",
    "\n",
    "HARK tries to avoid these issues by using a trick that we internally call the \"pseudo-inverse\". Here's the gist: if a value function is highly curved because it's a bunch of highly curved utility terms added together, then maybe it would be *less curved* if we ran it through the inverse utility function first. In this case, \"maybe\" turns out to be \"definitely\".\n",
    "\n",
    "Whenever we refer to the \"pseudo-inverse\" value function, we mean the composition of the inverse utility (of consumption) function and the value function:\n",
    "\n",
    "\\begin{equation*}\n",
    "\\widetilde{v}(m_t) = U^{-1}(v(m_t)).\n",
    "\\end{equation*}"
   ]
  },
  {
   "cell_type": "markdown",
   "id": "2c4251cf-5b0c-46fb-8df3-70cae438bee2",
   "metadata": {},
   "source": [
    "As it turns out, the pseudo-inverse value function for a consumption-saving model *looks a lot like* a typical consumption function. It is *not* the same thing as the consumption function, it just *looks like* one in terms of its shape. In particular, it goes to zero at the lower bound of cash-on-hand, asymptotes to a linear function as cash-on-hand approaches its lower bound, and asymptotes to a (usually) *different* linear function as cash-on-hand becomes arbitrarily large. (These features depend on some characteristics of the specific model). In short, the pseudo-inverse value function is \"manageably curved\".\n",
    "\n",
    "Whenever a value function is represented in HARK, we convert value levels to pseudo-inverse value levels and interpolate those. The class `ValueFuncCRRA` is used to represent the value function, with the simple instantiation syntax `ValueFuncCRRA(pseudo_inverse_interpolant, CRRA)`. When the interpolant is called as a function, it evaluates the pseudo-inverse value function and then applies the utility function to \"re-curve\" it."
   ]
  },
  {
   "cell_type": "markdown",
   "id": "18d7f6ea-57fe-48d8-af75-c26ae8b02125",
   "metadata": {},
   "source": [
    "In the HARK code, we use the suffix `Nvrs` to mean \"pseudo-inverse\"-- it is an intentional misspelling of \"inverse\" because it is fake. E.g. a pseudo-inverse value function is often given the name `vNvrsFunc`.\n",
    "\n",
    "In many consumption-saving contexts, we know the marginal value of market resources (the slope of the value function) as well as the level. To improve accuracy of the interpolant, we usually (but not always) use a `CubicInterp` to represent the pseudo-inverse marginal value function. When we do so, the slope of the pseudo-inverse value function (at its nodes) is calculated as:\n",
    "\n",
    "\\begin{equation*}\n",
    "\\widetilde{v}'(m_t) = v'(m_t) (U^{-1})'(v(m_t)).\n",
    "\\end{equation*}\n",
    "\n",
    "If you were wondering why `HARK.rewards` has weird functions like `CRRAutility_invP` in it, this why!"
   ]
  },
  {
   "cell_type": "markdown",
   "id": "39de1726-ec82-4099-83b0-59c49a7d42f8",
   "metadata": {},
   "source": [
    "To represent the marginal value function, HARK interpolates the pseudo-inverse marginal value function-- the composition of the inverse marginal utility function and the marginal value function. The interpolator class `MargValueFuncCRRA` uses analogous syntax to `ValueFuncCRRA`.\n",
    "\n",
    "Of course, in many consumption-saving models, the marginal value function is simply the composition of the marginal utility function and the consumption function. In that case, the pseudo-inverse marginal value function *is* the consumption function!"
   ]
  },
  {
   "cell_type": "markdown",
   "id": "b7fbda1d-d728-4a06-ac1c-d6826fa76c84",
   "metadata": {},
   "source": [
    "## Lognormal Discretization\n",
    "\n",
    "The default distribution of income shocks in HARK is a pair of permanent (or highly persistent) shocks and fully transitory shocks, both specified as lognormal (with some flexibility for representing \"unemployment\"). To compute expectations over income shocks, we discretize the lognormal distribution using an uncommon method, rather than Gaussian quadrature.\n",
    "\n",
    "The default discretization method in HARK is **equiprobable**, generating $N$ nodes each with $1/N$ probability. The value of the $n$-th node equals the expectation of the distribution within its $n$-th quantile. E.g., for $N=7$, the second node is the expectation of the true distribution within about the 14th to 28th percentile (1/7 to 2/7).\n",
    "\n",
    "The discretization method has some additional flexibility to put additional nodes in the far tails of the distribution. So in general, we want to be able to calculate the conditional expectation of a lognormal RV between two quantiles.\n",
    "\n",
    "$\\newcommand{\\pbot}{\\underline{p}} \\newcommand{\\ptop}{\\overline{p}}$\n",
    "$\\newcommand{\\qbot}{\\underline{q}} \\newcommand{\\qtop}{\\overline{q}}$\n",
    "$\\newcommand{\\zbot}{\\underline{z}} \\newcommand{\\ztop}{\\overline{z}}$"
   ]
  },
  {
   "cell_type": "markdown",
   "id": "e6330f73-0232-4d2d-be7c-0b33a73b19e9",
   "metadata": {},
   "source": [
    "The math for this conditional expectation doesn't seem to be well known, so we are providing it here. Let $F$ be a lognormal distribution characterized by underlying normal distribution with mean $\\mu$ and standard deviation $\\sigma$. Suppose we want to know the expectation of $x \\sim F$ conditional on it being between the $\\pbot$ and $\\ptop$ quantiles, with $\\pbot,\\ptop \\in [0,1]$ and $\\pbot < \\ptop$.\n",
    "\n",
    "First, we find the upper and lower $z$ values, in terms of standard deviations from the mean. Denoting the standard normal CDF as $\\Phi$:\n",
    "\n",
    "\\begin{eqnarray*}\n",
    "\\zbot &=& \\Phi^{-1}(\\pbot),\\\\\n",
    "\\ztop &=& \\Phi^{-1}(\\ptop).\\\\\n",
    "\\end{eqnarray*}"
   ]
  },
  {
   "cell_type": "markdown",
   "id": "0b725d16-9ebd-4f20-bc1c-70fc7811e0f5",
   "metadata": {},
   "source": [
    "Next, the $z$ values are adjusted to account for the asymmetric *shape* of the lognormal distribution:\n",
    "\n",
    "\\begin{eqnarray*}\n",
    "\\qbot &=& \\frac{\\zbot + \\sigma}{\\sqrt{2}},\\\\\n",
    "\\qtop &=& \\frac{\\ztop + \\sigma}{\\sqrt{2}}.\\\\\n",
    "\\end{eqnarray*}"
   ]
  },
  {
   "cell_type": "markdown",
   "id": "0404ee9f-7a23-41ff-ae16-86bcd2ad42c2",
   "metadata": {},
   "source": [
    "The expression for the conditional mean uses the **error function**, denoted $erf(\\cdot)$, which has a domain of $\\mathbb{R}$ and a range of $(-1,1)$.\n",
    "\n",
    "\\begin{equation*}\n",
    "\\mathbb{E} \\left[ x \\sim F ~\\bigg|~ \\pbot \\leq F(x) \\leq \\ptop \\right] = \\frac{erf(\\ztop) - erf(\\zbot)}{2(\\ptop - \\pbot)} \\cdot \\exp(\\mu + \\sigma^2 / 2).\n",
    "\\end{equation*}"
   ]
  },
  {
   "cell_type": "markdown",
   "id": "4567d809-9f98-4c42-aba9-ed84a5cfb054",
   "metadata": {},
   "source": [
    "The second factor is simply the unconditional expectation of $F$.\n",
    "\n",
    "When actually computing these values, our code sometimes uses the **complementary error function**, defined as $erfc(\\cdot) \\equiv 1 - erf(\\cdot)$. This is because the error function approaches one as $z$ becomes large, limiting its numeric accuracy when differencing two values. Whereas $erfc$ goes to zero (from above) as $z$ becomes large, so relative numeric accuracy is preserved when comparing two \"nearby\" large values."
   ]
  },
  {
   "cell_type": "code",
   "execution_count": null,
   "id": "f5a24205-e23f-4007-99ea-4166e25f1c31",
   "metadata": {},
   "outputs": [],
   "source": []
  }
 ],
 "metadata": {
  "kernelspec": {
   "display_name": "Python 3 (ipykernel)",
   "language": "python",
   "name": "python3"
  },
  "language_info": {
   "codemirror_mode": {
    "name": "ipython",
    "version": 3
   },
   "file_extension": ".py",
   "mimetype": "text/x-python",
   "name": "python",
   "nbconvert_exporter": "python",
   "pygments_lexer": "ipython3",
   "version": "3.12.9"
  }
 },
 "nbformat": 4,
 "nbformat_minor": 5
}
