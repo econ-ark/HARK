{
 "cells": [
  {
   "cell_type": "markdown",
   "id": "d54a0a0a-0e09-47b8-99e4-39dd8d1b6cff",
   "metadata": {},
   "source": [
    "# Constructed Attributes and Model Defaults"
   ]
  },
  {
   "cell_type": "code",
   "execution_count": 1,
   "id": "116ee2d4-e06b-4893-9d36-8095cc3d1e20",
   "metadata": {},
   "outputs": [],
   "source": [
    "from HARK.ConsumptionSaving.ConsIndShockModel import IndShockConsumerType"
   ]
  },
  {
   "cell_type": "markdown",
   "id": "0dc88361-d492-46b7-819f-e0ae700d2ad2",
   "metadata": {},
   "source": [
    "In the other introductory notebooks, there were repeated references to default parameters and constructed inputs. What's up with that? Read on for the answers!"
   ]
  },
  {
   "cell_type": "markdown",
   "id": "fcabd3bf-d5e4-4ada-bad1-fb46b6bdb281",
   "metadata": {},
   "source": [
    "## Just Gimme Whatever: Default AgentType Options"
   ]
  },
  {
   "cell_type": "markdown",
   "id": "ba66cb29-6da1-4325-b7bd-897f94a44a6e",
   "metadata": {},
   "source": [
    "Each `AgentType` subclass, like `PerfForesightConsumerType` and `IndShockConsumerType`, has a dictionary called `default_` as a class attribute. It (usually) has three entries: `params`, `solver`, and `model`. The `solver` entry has a reference to the function that solves the one-period problem for the model (conditional on the solution to the succeeding period and the parameters for that period). The `model` entry is a reference to a filename that is used for the new, developmental simulation structure. Finally, the `params` entry has a reference to a dictionary of default model parameters, which is usually defined *just above* the class definition."
   ]
  },
  {
   "cell_type": "markdown",
   "id": "fd1cba41-4a92-4ea5-8175-8c24261955b3",
   "metadata": {},
   "source": [
    "### Changing Parameter Values\n",
    "\n",
    "Whenever you make a new instance of an `AgentType` subclass, you can pass as many arguments as you would like (in a dictionary or otherwise), but they must all be keyword arguments (e.g. `MyType = IndShockConsumerType('CRRA' = 3.0)`, but not `MyType = IndShockConsumerType(3.0)`. Arguments that are explicitly passed will supercede any default value for that parameter. For any parameters that you *don't* pass, the value in the default dictionary will be used instead."
   ]
  },
  {
   "cell_type": "markdown",
   "id": "7134e4b8-f900-416b-ae7a-b6a919ec7ad2",
   "metadata": {},
   "source": [
    "For most `AgentType` subclasses, the default parameters include `T_cycle=1` and `cycles=1`. Thus if you make an instance of that class using only default parameters (no arguments passed), it will represent an agent that lives for only one non-trivial period. That's not very interesting, but it *is* a model! These simple defaults were chosen so that it's fast and easy to make *some* instance of each class, if only so that the user can investigate what's inside it.\n",
    "\n",
    "The primary exception to the convention that default parameters have `cycles=1` are models for which there is no meaningful interpretation to a finite horizon model. This includes the `TractableBufferStockConsumerType`, which is by defintion infinite horizon (and uses a much different solution method than other HARK models) and the `RepresentativeAgentConsumerType`.\n",
    "\n",
    "If you are exploring an `AgentType` subclass and want it to do something more interesting, the simplest approach is to set `cycles=0` and then `solve()` your instance. This will solve the *infinite horizon* model with default parameters. Alternatively, set `cycles>1` to solve several non-terminal (or non-trivial) periods."
   ]
  },
  {
   "cell_type": "markdown",
   "id": "bcefd6fa-4bc8-46bf-8f1f-7aa1acd4634b",
   "metadata": {},
   "source": [
    "### Style Conventions for Default Parameters\n",
    "\n",
    "To the greatest extent possible, we have tried to make all default parameters be single numbers, or a list with a single number. For anything more complex than that, there should be a **constructor** function (see below) to build the more complicated object.\n",
    "\n",
    "In some cases, it would be awkward or impossible to specify simple parameters, and a larger object needs to be passed as arguments to an `AgentType` subclass's initializer. That's fine, and we do it too in our projects! The most common situation for this is when some model inputs have been pre-computed-- maybe in an earlier phase of this project, or maybe the results from someone else's project. This might be a life-cycle sequence of parameters estimated in reduced form, or transition probabilities among discrete states. In these situations, we recommend that your project have a `Parameters.py` file where you do the work of reading in this outside data and constructing the parameter dictionary you want to use."
   ]
  },
  {
   "cell_type": "markdown",
   "id": "f3a37a97-5d69-481e-947c-1bce57946a10",
   "metadata": {},
   "source": [
    "## Constructor Functions for Complex Model Inputs"
   ]
  },
  {
   "cell_type": "markdown",
   "id": "3abad8b1-62aa-4981-8ae6-dc0dcac9d1aa",
   "metadata": {},
   "source": [
    "Some objects needed to solve a model are complex, but can be created based on simpler \"primitive\" parameters. This includes the lifecycle sequence of income shock distributions, a parameterizable Markov transition matrix among discrete states, or age-dependent mortality probabilities that can be characterized with polynomial coefficients.\n",
    "\n",
    "HARK can automatically build these objects using constructor functions. Such functions are specified in each instance's `constructors` dictionary, which can be passed like any other object at initialization. Each `AgentType` has default constructors for some model objects, which are listed in the `constructors` entry of its default parameter dictionary."
   ]
  },
  {
   "cell_type": "markdown",
   "id": "64a724bd-abf5-4fd3-8485-6a0d95b01ac9",
   "metadata": {},
   "source": [
    "### Viewing Constructors\n",
    "\n",
    "The easiest way to "
   ]
  },
  {
   "cell_type": "code",
   "execution_count": null,
   "id": "c5aea4b9-fa2a-4d81-a5b3-072bdf9ac187",
   "metadata": {},
   "outputs": [],
   "source": []
  }
 ],
 "metadata": {
  "kernelspec": {
   "display_name": "Python 3 (ipykernel)",
   "language": "python",
   "name": "python3"
  },
  "language_info": {
   "codemirror_mode": {
    "name": "ipython",
    "version": 3
   },
   "file_extension": ".py",
   "mimetype": "text/x-python",
   "name": "python",
   "nbconvert_exporter": "python",
   "pygments_lexer": "ipython3",
   "version": "3.10.14"
  }
 },
 "nbformat": 4,
 "nbformat_minor": 5
}
