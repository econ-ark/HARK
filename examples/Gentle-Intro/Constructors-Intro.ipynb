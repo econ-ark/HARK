{
 "cells": [
  {
   "cell_type": "markdown",
   "id": "d54a0a0a-0e09-47b8-99e4-39dd8d1b6cff",
   "metadata": {},
   "source": [
    "# Constructed Attributes and Model Defaults"
   ]
  },
  {
   "cell_type": "markdown",
   "id": "0dc88361-d492-46b7-819f-e0ae700d2ad2",
   "metadata": {},
   "source": [
    "In the other introductory notebooks, there were repeated references to default parameters and constructed inputs. What's up with that? Read on for the answers!"
   ]
  },
  {
   "cell_type": "markdown",
   "id": "fcabd3bf-d5e4-4ada-bad1-fb46b6bdb281",
   "metadata": {},
   "source": [
    "## Just Gimme Whatever: Default AgentType Options"
   ]
  },
  {
   "cell_type": "markdown",
   "id": "5228b59b-512c-4dfe-9933-25b47eace3d0",
   "metadata": {},
   "source": [
    "Each `AgentType` subclass, like `PerfForesightConsumerType` and `IndShockConsumerType`, has a dictionary called `default_` as a class attribute. It (usually) has three entries: `params`, `solver`, and `model`. The `solver` entry has a reference to the function that solves the one-period problem for the model (conditional on the solution to the succeeding period and the parameters for that period). The `model` entry is a reference to a filename that is used for the new, developmental simulation structure. Finally, the `params` entry has a reference to a dictionary of default model parameters, which is usually defined *just above* the class definition.\n",
    "\n",
    "Whenever you make a new instance of an `AgentType` subclass, you can pass as many arguments as you would like (in a dictionary or otherwise), but they must all be keyword arguments (e.g. `MyType = IndShockConsumerType('CRRA' = 3.0)`, but not `MyType = IndShockConsumerType(3.0)`. Arguments that are explicitly passed will supercede any default value for that parameter. For any parameters that you *don't* pass, the value in the default dictionary will be used instead."
   ]
  },
  {
   "cell_type": "code",
   "execution_count": null,
   "id": "f496eea6-b8d3-45b4-b147-fa26a3ee7453",
   "metadata": {},
   "outputs": [],
   "source": []
  }
 ],
 "metadata": {
  "kernelspec": {
   "display_name": "Python 3 (ipykernel)",
   "language": "python",
   "name": "python3"
  },
  "language_info": {
   "codemirror_mode": {
    "name": "ipython",
    "version": 3
   },
   "file_extension": ".py",
   "mimetype": "text/x-python",
   "name": "python",
   "nbconvert_exporter": "python",
   "pygments_lexer": "ipython3",
   "version": "3.12.9"
  }
 },
 "nbformat": 4,
 "nbformat_minor": 5
}
