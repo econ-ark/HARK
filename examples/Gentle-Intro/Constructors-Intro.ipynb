{
 "cells": [
  {
   "cell_type": "markdown",
   "id": "0",
   "metadata": {},
   "source": [
    "# Constructed Attributes and Model Defaults"
   ]
  },
  {
   "cell_type": "code",
   "execution_count": 1,
   "id": "1",
   "metadata": {},
   "outputs": [],
   "source": [
    "import numpy as np\n",
    "from HARK.ConsumptionSaving.ConsIndShockModel import IndShockConsumerType"
   ]
  },
  {
   "cell_type": "markdown",
   "id": "2",
   "metadata": {},
   "source": [
    "In the other introductory notebooks, there were repeated references to default parameters and constructed inputs. What's up with that? Read on for the answers!"
   ]
  },
  {
   "cell_type": "markdown",
   "id": "3",
   "metadata": {},
   "source": [
    "## Just Gimme Whatever: Default AgentType Options"
   ]
  },
  {
   "cell_type": "markdown",
   "id": "4",
   "metadata": {},
   "source": [
    "Each `AgentType` subclass, like `PerfForesightConsumerType` and `IndShockConsumerType`, has a dictionary called `default_` as a class attribute. It (usually) has three entries: `params`, `solver`, and `model`. The `solver` entry has a reference to the function that solves the one-period problem for the model (conditional on the solution to the succeeding period and the parameters for that period). The `model` entry is a reference to a filename that is used for the new, developmental simulation structure. Finally, the `params` entry has a reference to a dictionary of default model parameters, which is usually defined *just above* the class definition.\n",
    "\n",
    "If you do not want to use the default parameters (including constructors), pass `use_defaults=False` to the `AgentType` subclass when you make an instance. This means that you must pass all required parameters (and constructors) explicitly, or the instance will be able to `solve` its model-- or do much of anything."
   ]
  },
  {
   "cell_type": "code",
   "execution_count": 2,
   "id": "5",
   "metadata": {},
   "outputs": [],
   "source": [
    "NoDefaultExample = IndShockConsumerType(\n",
    "    use_defaults=False\n",
    ")  # Has a solver, but no parameters at all!"
   ]
  },
  {
   "cell_type": "markdown",
   "id": "6",
   "metadata": {},
   "source": [
    "### Changing Parameter Values\n",
    "\n",
    "Whenever you make a new instance of an `AgentType` subclass, you can pass as many arguments as you would like (in a dictionary or otherwise), but they must all be keyword arguments (e.g. `MyType = IndShockConsumerType('CRRA' = 3.0)`, but not `MyType = IndShockConsumerType(3.0)`. Arguments that are explicitly passed will supercede any default value for that parameter. For any parameters that you *don't* pass, the value in the default dictionary will be used instead."
   ]
  },
  {
   "cell_type": "markdown",
   "id": "7",
   "metadata": {},
   "source": [
    "For most `AgentType` subclasses, the default parameters include `T_cycle=1` and `cycles=1`. Thus if you make an instance of that class using only default parameters (no arguments passed), it will represent an agent that lives for only one non-trivial period. That's not very interesting, but it *is* a model! These simple defaults were chosen so that it's fast and easy to make *some* instance of each class, if only so that the user can investigate what's inside it.\n",
    "\n",
    "The primary exception to the convention that default parameters have `cycles=1` are models for which there is no meaningful interpretation to a finite horizon model. This includes the `TractableBufferStockConsumerType`, which is by defintion infinite horizon (and uses a much different solution method than other HARK models) and the `RepresentativeAgentConsumerType`.\n",
    "\n",
    "If you are exploring an `AgentType` subclass and want it to do something more interesting, the simplest approach is to set `cycles=0` and then `solve()` your instance. This will solve the *infinite horizon* model with default parameters. Alternatively, set `cycles>1` to solve several non-terminal (or non-trivial) periods."
   ]
  },
  {
   "cell_type": "markdown",
   "id": "8",
   "metadata": {},
   "source": [
    "### Style Conventions for Default Parameters\n",
    "\n",
    "To the greatest extent possible, we have tried to make all default parameters be single numbers, or a list with a single number. For anything more complex than that, there should be a **constructor** function (see below) to build the more complicated object.\n",
    "\n",
    "In some cases, it would be awkward or impossible to specify simple parameters, and a larger object needs to be passed as arguments to an `AgentType` subclass's initializer. That's fine, and we do it too in our projects! The most common situation for this is when some model inputs have been pre-computed-- maybe in an earlier phase of this project, or maybe the results from someone else's project. This might be a life-cycle sequence of parameters estimated in reduced form, or transition probabilities among discrete states. In these situations, we recommend that your project have a `Parameters.py` file where you do the work of reading in this outside data and constructing the parameter dictionary you want to use."
   ]
  },
  {
   "cell_type": "markdown",
   "id": "9",
   "metadata": {},
   "source": [
    "## Constructor Functions for Complex Model Inputs"
   ]
  },
  {
   "cell_type": "markdown",
   "id": "10",
   "metadata": {},
   "source": [
    "Some objects needed to solve a model are complex, but can be created based on simpler \"primitive\" parameters. This includes the lifecycle sequence of income shock distributions, a parameterizable Markov transition matrix among discrete states, or age-dependent mortality probabilities that can be characterized with polynomial coefficients.\n",
    "\n",
    "HARK can automatically build these objects using constructor functions. Such functions are specified in each instance's `constructors` dictionary, which can be passed like any other object at initialization. Each `AgentType` has default constructors for some model objects, which are listed in the `constructors` entry of its default parameter dictionary.\n",
    "\n",
    "You do not need to worry about the \"order\" in which constructors are defined in the dictionary. The `construct` method automatically works out any dependencies among constructed attributes, constructing \"lower level\" objects before it builds \"higher level\" ones that depend on intermediate objects."
   ]
  },
  {
   "cell_type": "markdown",
   "id": "11",
   "metadata": {},
   "source": [
    "### Viewing Constructors\n",
    "\n",
    "The easiest way to see how an `AgentType` subclass's (default) constructors are set up is to use the `describe_constructors` method. Simply make a default instance of the class and run the method, like so:"
   ]
  },
  {
   "cell_type": "code",
   "execution_count": 3,
   "id": "12",
   "metadata": {},
   "outputs": [
    {
     "name": "stdout",
     "output_type": "stream",
     "text": [
      "✓ kNrmInitDstn : make_lognormal_kNrm_init_dstn\n",
      "    ✓ kLogInitMean\n",
      "    ✓ kLogInitStd\n",
      "    ✓ kNrmInitCount\n",
      "    ✓ RNG\n",
      "✓ pLvlInitDstn : make_lognormal_pLvl_init_dstn\n",
      "    ✓ pLogInitMean\n",
      "    ✓ pLogInitStd\n",
      "    ✓ pLvlInitCount\n",
      "    ✓ RNG\n",
      "✓ IncShkDstn : construct_lognormal_income_process_unemployment\n",
      "    ✓ T_cycle\n",
      "    ✓ PermShkStd\n",
      "    ✓ PermShkCount\n",
      "    ✓ TranShkStd\n",
      "    ✓ TranShkCount\n",
      "    ✓ T_retire\n",
      "    ✓ UnempPrb\n",
      "    ✓ IncUnemp\n",
      "    ✓ UnempPrbRet\n",
      "    ✓ IncUnempRet\n",
      "    ✓ RNG\n",
      "    ✓ neutral_measure\n",
      "✓ PermShkDstn : get_PermShkDstn_from_IncShkDstn\n",
      "    ✓ IncShkDstn\n",
      "    ✓ RNG\n",
      "✓ TranShkDstn : get_TranShkDstn_from_IncShkDstn\n",
      "    ✓ IncShkDstn\n",
      "    ✓ RNG\n",
      "✓ aXtraGrid : make_assets_grid\n",
      "    ✓ aXtraMin\n",
      "    ✓ aXtraMax\n",
      "    ✓ aXtraCount\n",
      "    ✓ aXtraExtra\n",
      "    ✓ aXtraNestFac\n",
      "✓ solution_terminal : make_basic_CRRA_solution_terminal\n",
      "    ✓ CRRA\n",
      "\n"
     ]
    }
   ],
   "source": [
    "ThisType = IndShockConsumerType()  # no parameters, only defaults\n",
    "ThisType.describe_constructors()  # no arguments"
   ]
  },
  {
   "cell_type": "markdown",
   "id": "13",
   "metadata": {},
   "source": [
    "This prints to screen a summary of constructed objects. The unindented lines name attributes of this instance that are constructed, with the name of the constructor function after the colon. The indented lines following each constructed attribute name list the names of the arguments for that function; when the constructor function is run, those arguments are pulled from the instance's attributes. Note that those constructor arguments could be parameters that were passed at instantiation (or default parameters), or they might be *other* constructed objects.\n",
    "\n",
    "Each line of the output of `describe_constructors` will begin with one of three symbols: a check mark, an X, or a star. Unindented lines naming constructed objects can only begin with a check mark or X. These are shorthand for the following:\n",
    "\n",
    "- $\\surd$ : Constructed object was successfully built, or named input exists as attribute of agent.\n",
    "- $X$ : Constructed object was not built, or named input was not found as attribute of agent.\n",
    "- $*$ : Input was not found as attribute of agent, but constructor function has a default value for it."
   ]
  },
  {
   "cell_type": "markdown",
   "id": "14",
   "metadata": {},
   "source": [
    "A constructed attribute could fail to build for any one of several reasons:\n",
    "\n",
    "1. No proper constructor was found (the entry in the `constructors` dictionary is not a function)\n",
    "2. At least one required input was not found\n",
    "3. The constructor function encountered an error during execution"
   ]
  },
  {
   "cell_type": "markdown",
   "id": "15",
   "metadata": {},
   "source": [
    "### Updating Constructed Attributes\n",
    "\n",
    "If you change (after instantiation) the value of a parameter that a constructed attribute was based on, this does *not* update the content of the constructed attribute. You must explicitly tell HARK to do so by using the `update` or `construct` method, which are redundant \"synonym\" methods.\n",
    "\n",
    "The safest thing to do after changing one or more parameters is to simply invoke the `construct` method with no arguments. This will re-run all constructors, starting from scratch and re-resolving all dependencies. Data will never be \"lost\" in this process; if a constructor function fails, the method will restore the attribute to its state before the call to `construct`."
   ]
  },
  {
   "cell_type": "code",
   "execution_count": 4,
   "id": "16",
   "metadata": {},
   "outputs": [
    {
     "name": "stdout",
     "output_type": "stream",
     "text": [
      "Made a new instance of the agents.\n",
      "Standard deviation of log permanent income shocks is [0.1]\n",
      "Permanent income shock equiprobable values: [0.86596649 0.94360411 0.99511802 1.04951926 1.14579214]\n",
      "Changed permanent shock standard deviation.\n",
      "Standard deviation of log permanent income shocks is [0.15]\n",
      "Permanent income shock equiprobable values: [0.86596649 0.94360411 0.99511802 1.04951926 1.14579214]\n",
      "Rebuilt all constructed attributes.\n",
      "Permanent income shock equiprobable values: [0.80345582 0.91327642 0.98904903 1.07128067 1.22293806]\n"
     ]
    }
   ],
   "source": [
    "ThisType = IndShockConsumerType(PermShkCount=5)\n",
    "print(\"Made a new instance of the agents.\")\n",
    "print(\n",
    "    \"Standard deviation of log permanent income shocks is \" + str(ThisType.PermShkStd)\n",
    ")\n",
    "print(\n",
    "    \"Permanent income shock equiprobable values: \"\n",
    "    + str(ThisType.PermShkDstn[0].atoms[0])\n",
    ")\n",
    "ThisType.assign_parameters(PermShkStd=[0.15])\n",
    "print(\"Changed permanent shock standard deviation.\")\n",
    "print(\n",
    "    \"Standard deviation of log permanent income shocks is \" + str(ThisType.PermShkStd)\n",
    ")\n",
    "print(\n",
    "    \"Permanent income shock equiprobable values: \"\n",
    "    + str(ThisType.PermShkDstn[0].atoms[0])\n",
    ")\n",
    "ThisType.update()\n",
    "print(\"Rebuilt all constructed attributes.\")\n",
    "print(\n",
    "    \"Permanent income shock equiprobable values: \"\n",
    "    + str(ThisType.PermShkDstn[0].atoms[0])\n",
    ")"
   ]
  },
  {
   "cell_type": "markdown",
   "id": "17",
   "metadata": {},
   "source": [
    "If you know which attributes need to be updated, or want to restrict what is done for some reason, pass the names of those attributes as strings to `construct` or `update`; all other constructed attributes will be ignored. In the example below, we tell the agent to rebuild its `IncShkDstn` attribute only, but *not* `PermShkDstn`, which is based on `IncShkDstn`. We don't know why you would do this, but it's just an example!"
   ]
  },
  {
   "cell_type": "code",
   "execution_count": 5,
   "id": "18",
   "metadata": {},
   "outputs": [
    {
     "name": "stdout",
     "output_type": "stream",
     "text": [
      "Standard deviation of log permanent income shocks is [0.1]\n",
      "Permanent income shock equiprobable values: [0.86596649 0.94360411 0.99511802 1.04951926 1.14579214]\n",
      "Changed permanent shock standard deviation.\n",
      "Rebuilt only IncShkDstn attribute.\n",
      "Permanent income shock equiprobable values in PermShkDstn: [0.86596649 0.94360411 0.99511802 1.04951926 1.14579214]\n",
      "Permanent income shock equiprobable values in IncShkDstn: [0.80345582 0.91327642 0.98904903 1.07128067 1.22293806]\n"
     ]
    }
   ],
   "source": [
    "ThisType = IndShockConsumerType(PermShkCount=5)\n",
    "print(\n",
    "    \"Standard deviation of log permanent income shocks is \" + str(ThisType.PermShkStd)\n",
    ")\n",
    "print(\n",
    "    \"Permanent income shock equiprobable values: \"\n",
    "    + str(ThisType.PermShkDstn[0].atoms[0])\n",
    ")\n",
    "ThisType.assign_parameters(PermShkStd=[0.15])\n",
    "print(\"Changed permanent shock standard deviation.\")\n",
    "ThisType.update(\"IncShkDstn\")\n",
    "print(\"Rebuilt only IncShkDstn attribute.\")\n",
    "print(\n",
    "    \"Permanent income shock equiprobable values in PermShkDstn: \"\n",
    "    + str(ThisType.PermShkDstn[0].atoms[0])\n",
    ")\n",
    "print(\n",
    "    \"Permanent income shock equiprobable values in IncShkDstn: \"\n",
    "    + str(np.unique(ThisType.IncShkDstn[0].atoms[0]))\n",
    ")"
   ]
  },
  {
   "cell_type": "markdown",
   "id": "19",
   "metadata": {},
   "source": [
    "### Options for Debugging Constructors\n",
    "\n",
    "Sometimes, especially when making a new `AgentType` subclass or programming a new constructor, things just *don't work* like you expected. Suppose you try to instantiate your agents, and the `__init__` method encounters an error when constructing attributes. Now you don't even have an instance of your class to *look at* and see what went wrong. You could turn on a debugging utility and investigate the state just before the error, but HARK has some other options."
   ]
  },
  {
   "cell_type": "markdown",
   "id": "20",
   "metadata": {},
   "source": [
    "When you make a new instance of an `AgentType` subclass, you can pass the argument `construct=False` to simply *skip* the attribute construction step. The class will instantiate without trying to build *anything*. It probably won't be able to `solve` its model, but at least it exists!\n",
    "\n",
    "In conjunction with the `describe_constructors` method, this is a quick way of seeing whether your parameter dictionary is missing any required values, like so:"
   ]
  },
  {
   "cell_type": "code",
   "execution_count": 6,
   "id": "21",
   "metadata": {},
   "outputs": [
    {
     "name": "stdout",
     "output_type": "stream",
     "text": [
      "X kNrmInitDstn : make_lognormal_kNrm_init_dstn\n",
      "    ✓ kLogInitMean\n",
      "    ✓ kLogInitStd\n",
      "    ✓ kNrmInitCount\n",
      "    ✓ RNG\n",
      "X pLvlInitDstn : make_lognormal_pLvl_init_dstn\n",
      "    ✓ pLogInitMean\n",
      "    ✓ pLogInitStd\n",
      "    ✓ pLvlInitCount\n",
      "    ✓ RNG\n",
      "X IncShkDstn : construct_lognormal_income_process_unemployment\n",
      "    ✓ T_cycle\n",
      "    ✓ PermShkStd\n",
      "    ✓ PermShkCount\n",
      "    ✓ TranShkStd\n",
      "    ✓ TranShkCount\n",
      "    ✓ T_retire\n",
      "    ✓ UnempPrb\n",
      "    ✓ IncUnemp\n",
      "    ✓ UnempPrbRet\n",
      "    ✓ IncUnempRet\n",
      "    ✓ RNG\n",
      "    ✓ neutral_measure\n",
      "X PermShkDstn : get_PermShkDstn_from_IncShkDstn\n",
      "    X IncShkDstn\n",
      "    ✓ RNG\n",
      "X TranShkDstn : get_TranShkDstn_from_IncShkDstn\n",
      "    X IncShkDstn\n",
      "    ✓ RNG\n",
      "X aXtraGrid : make_assets_grid\n",
      "    ✓ aXtraMin\n",
      "    ✓ aXtraMax\n",
      "    ✓ aXtraCount\n",
      "    ✓ aXtraExtra\n",
      "    ✓ aXtraNestFac\n",
      "✓ solution_terminal : make_basic_CRRA_solution_terminal\n",
      "    ✓ CRRA\n",
      "\n"
     ]
    }
   ],
   "source": [
    "AnotherType = IndShockConsumerType(construct=False)\n",
    "AnotherType.describe_constructors()"
   ]
  },
  {
   "cell_type": "markdown",
   "id": "22",
   "metadata": {},
   "source": [
    "In this simple case with default parameters, we see that most of the necessary constructor arguments are present, but essentially no constructed attributes exist. The only one that does is `solution_terminal`, and it's just the dummy default, not the *actual* terminal period solution."
   ]
  },
  {
   "cell_type": "code",
   "execution_count": 7,
   "id": "23",
   "metadata": {},
   "outputs": [
    {
     "name": "stdout",
     "output_type": "stream",
     "text": [
      "<HARK.utilities.NullFunc object at 0x7f8e9f63db40>\n"
     ]
    }
   ],
   "source": [
    "print(\n",
    "    AnotherType.solution_terminal\n",
    ")  # NullFunc is a fake function that returns NaNs no matter what"
   ]
  },
  {
   "cell_type": "markdown",
   "id": "24",
   "metadata": {},
   "source": [
    "One constructor input is missing... but it's `IncShkDstn`, itself a constructed attribute (that was not constructed).\n",
    "\n",
    "At this point, you could run the constructor methods one by one to see where things go wrong. In this case, they *won't* go wrong:"
   ]
  },
  {
   "cell_type": "code",
   "execution_count": 8,
   "id": "25",
   "metadata": {},
   "outputs": [],
   "source": [
    "AnotherType.construct(\"aXtraGrid\")\n",
    "AnotherType.construct(\n",
    "    \"pLvlInitDstn\", \"kNrmInitDstn\"\n",
    ")  # can pass multiple attribute names\n",
    "AnotherType.construct(\"IncShkDstn\")\n",
    "AnotherType.construct(\"PermShkDstn\", \"TranShkDstn\")\n",
    "AnotherType.construct(\"solution_terminal\")"
   ]
  },
  {
   "cell_type": "markdown",
   "id": "26",
   "metadata": {},
   "source": [
    "But what if things *do* go wrong, what then? The `construct` method has an option to see what (if anything) went wrong with each constructor. If you pass the argument `force=True` to `construct` or `update`, it will \"force\" its way through any errors, trying to do as much as it can. While it does so, the method stores error messages and information about missing constructor arguments.\n",
    "\n",
    "This error information can be found in the attributes `_missing_key_data` (a list of attribute-argument pairs for missing arguments) and `_constructor_errors` (a dictionary of error messages). Consider this example:"
   ]
  },
  {
   "cell_type": "code",
   "execution_count": 9,
   "id": "27",
   "metadata": {},
   "outputs": [
    {
     "name": "stdout",
     "output_type": "stream",
     "text": [
      "✓ kNrmInitDstn : make_lognormal_kNrm_init_dstn\n",
      "    ✓ kLogInitMean\n",
      "    ✓ kLogInitStd\n",
      "    ✓ kNrmInitCount\n",
      "    ✓ RNG\n",
      "✓ pLvlInitDstn : make_lognormal_pLvl_init_dstn\n",
      "    ✓ pLogInitMean\n",
      "    ✓ pLogInitStd\n",
      "    ✓ pLvlInitCount\n",
      "    ✓ RNG\n",
      "X IncShkDstn : construct_lognormal_income_process_unemployment\n",
      "    ✓ T_cycle\n",
      "    ✓ PermShkStd\n",
      "    ✓ PermShkCount\n",
      "    ✓ TranShkStd\n",
      "    ✓ TranShkCount\n",
      "    ✓ T_retire\n",
      "    ✓ UnempPrb\n",
      "    ✓ IncUnemp\n",
      "    ✓ UnempPrbRet\n",
      "    ✓ IncUnempRet\n",
      "    ✓ RNG\n",
      "    ✓ neutral_measure\n",
      "X PermShkDstn : get_PermShkDstn_from_IncShkDstn\n",
      "    X IncShkDstn\n",
      "    ✓ RNG\n",
      "X TranShkDstn : get_TranShkDstn_from_IncShkDstn\n",
      "    X IncShkDstn\n",
      "    ✓ RNG\n",
      "✓ aXtraGrid : make_assets_grid\n",
      "    ✓ aXtraMin\n",
      "    ✓ aXtraMax\n",
      "    ✓ aXtraCount\n",
      "    ✓ aXtraExtra\n",
      "    ✓ aXtraNestFac\n",
      "✓ solution_terminal : make_basic_CRRA_solution_terminal\n",
      "    ✓ CRRA\n",
      "\n"
     ]
    }
   ],
   "source": [
    "BrokenType = IndShockConsumerType(construct=False)  # don't make anything at first\n",
    "BrokenType.assign_parameters(\n",
    "    PermShkCount=\"eh, Steve!\"\n",
    ")  # this is supposed be a whole number\n",
    "BrokenType.construct(force=True)  # head down, power through\n",
    "BrokenType.describe_constructors()"
   ]
  },
  {
   "cell_type": "markdown",
   "id": "28",
   "metadata": {},
   "source": [
    "As expected, it failed to build anything that depends on `PermShkCount`, which has the not-very-useful value of `\"eh, Steve!\"`. We can see how the `IncShkDstn` constructor failed by looking at its entry in `_constructor_errors`:"
   ]
  },
  {
   "cell_type": "code",
   "execution_count": 10,
   "id": "29",
   "metadata": {},
   "outputs": [
    {
     "name": "stdout",
     "output_type": "stream",
     "text": [
      "<class 'TypeError'>: 'str' object cannot be interpreted as an integer\n"
     ]
    }
   ],
   "source": [
    "print(BrokenType._constructor_errors[\"IncShkDstn\"])"
   ]
  },
  {
   "cell_type": "markdown",
   "id": "30",
   "metadata": {},
   "source": [
    "Indeed it cannot. We can also see that the constructors for `PermShkDstn` and `TranShkDstn` failed because their constructors couldn't find the required input `IncShkDstn`:"
   ]
  },
  {
   "cell_type": "code",
   "execution_count": 11,
   "id": "31",
   "metadata": {},
   "outputs": [
    {
     "name": "stdout",
     "output_type": "stream",
     "text": [
      "[('PermShkDstn', 'IncShkDstn'), ('TranShkDstn', 'IncShkDstn')]\n"
     ]
    }
   ],
   "source": [
    "print(BrokenType._missing_key_data)"
   ]
  },
  {
   "cell_type": "markdown",
   "id": "32",
   "metadata": {},
   "source": [
    "### Using Non-Default Constructors\n",
    "\n",
    "Each `AgentType` comes with a default set of constructors, but you can easily swap these out (or add new ones for other attributes) on an instance-by-instance basis. This can be done at instantiation (by passing a parameter dictionary with a `constructors` entry) or by changing constructors *after* instantiation (and then re-running `construct` or `update`)."
   ]
  },
  {
   "cell_type": "markdown",
   "id": "33",
   "metadata": {},
   "source": [
    "The default constructor for `aXtraGrid` is called `make_assets_grid`, which makes a multi-exponentially nested grid, with some additional options. Let's replace this with our own custom function using some different arguments."
   ]
  },
  {
   "cell_type": "code",
   "execution_count": 12,
   "id": "34",
   "metadata": {},
   "outputs": [],
   "source": [
    "# Define a new constructor function for aXtraGrid\n",
    "def make_other_assets_grid(aXtraMin, aXtraMax, aXtraCount, aXtraOrder):\n",
    "    \"\"\"\n",
    "    Make a grid spaced on [aXtraMin,aXtraMax] with spacing of the chosen polynomial order.\n",
    "    \"\"\"\n",
    "    base_grid = np.linspace(0.0, 1.0, aXtraCount) ** aXtraOrder\n",
    "    out_grid = aXtraMin + (aXtraMax - aXtraMin) * base_grid\n",
    "    return out_grid"
   ]
  },
  {
   "cell_type": "code",
   "execution_count": 13,
   "id": "35",
   "metadata": {},
   "outputs": [],
   "source": [
    "# Make a new instance of our AgentType subclass using this constructor\n",
    "SpecialType = IndShockConsumerType(\n",
    "    constructors={\n",
    "        \"aXtraGrid\": make_other_assets_grid\n",
    "    },  # put a dictionary here to replace default constructors\n",
    "    aXtraOrder=2.5,  # also pass this new required parameter\n",
    ")"
   ]
  },
  {
   "cell_type": "code",
   "execution_count": 14,
   "id": "36",
   "metadata": {},
   "outputs": [
    {
     "name": "stdout",
     "output_type": "stream",
     "text": [
      "The class default has an aXtraGrid of:\n",
      "[1.00000000e-03 2.01713727e-02 4.04645973e-02 6.19689346e-02\n",
      " 8.47826891e-02 1.09014323e-01 1.34783729e-01 1.62223697e-01\n",
      " 1.91481594e-01 2.22721307e-01 2.56125489e-01 2.91898165e-01\n",
      " 3.30267760e-01 3.71490637e-01 4.15855231e-01 4.63686907e-01\n",
      " 5.15353678e-01 5.71272965e-01 6.31919613e-01 6.97835428e-01\n",
      " 7.69640582e-01 8.48047286e-01 9.33876256e-01 1.02807664e+00\n",
      " 1.13175022e+00 1.24618095e+00 1.37287121e+00 1.51358644e+00\n",
      " 1.67041051e+00 1.84581461e+00 2.04274370e+00 2.26472534e+00\n",
      " 2.51600777e+00 2.80173618e+00 3.12817922e+00 3.50302228e+00\n",
      " 3.93574988e+00 4.43814835e+00 5.02497206e+00 5.71483401e+00\n",
      " 6.53140746e+00 7.50506263e+00 8.67511887e+00 1.00929770e+01\n",
      " 1.18265253e+01 1.39664114e+01 1.66350835e+01 2.00000000e+01]\n",
      "The example with a custom constructor has an aXtraGrid of:\n",
      "[1.00000000e-03 2.32057672e-03 8.47031001e-03 2.15857537e-02\n",
      " 4.32584549e-02 7.48224826e-02 1.17450608e-01 1.72201961e-01\n",
      " 2.40049920e-01 3.21900142e-01 4.18603025e-01 5.30962754e-01\n",
      " 6.59744118e-01 8.05677793e-01 9.69464542e-01 1.15177862e+00\n",
      " 1.35327056e+00 1.57456954e+00 1.81628533e+00 2.07901002e+00\n",
      " 2.36331944e+00 2.66977446e+00 2.99892206e+00 3.35129636e+00\n",
      " 3.72741947e+00 4.12780224e+00 4.55294500e+00 5.00333815e+00\n",
      " 5.47946276e+00 5.98179106e+00 6.51078690e+00 7.06690624e+00\n",
      " 7.65059745e+00 8.26230175e+00 8.90245351e+00 9.57148058e+00\n",
      " 1.02698045e+01 1.09978410e+01 1.17559998e+01 1.25446854e+01\n",
      " 1.33642968e+01 1.42152280e+01 1.50978681e+01 1.60126016e+01\n",
      " 1.69598081e+01 1.79398633e+01 1.89531382e+01 2.00000000e+01]\n"
     ]
    }
   ],
   "source": [
    "# Compare aXtraGrids between the original version and our new special constructor\n",
    "print(\"The class default has an aXtraGrid of:\")\n",
    "print(ThisType.aXtraGrid)\n",
    "print(\"The example with a custom constructor has an aXtraGrid of:\")\n",
    "print(SpecialType.aXtraGrid)"
   ]
  },
  {
   "cell_type": "markdown",
   "id": "37",
   "metadata": {},
   "source": [
    "Notice that both the default grid and the one that we just produced have the same number of nodes and the same maximum and minimum. That's because we used the *same* parameter names for `aXtraCount`, `aXtraMin`, and `aXtraMax`, so our custom constructor can draw on the default parameter values. That is, we specified the new `aXtraOrder` parameter, but *not* the other three when instantiating `SpecialType`."
   ]
  },
  {
   "cell_type": "markdown",
   "id": "38",
   "metadata": {},
   "source": [
    "### Special Constructors\n",
    "\n",
    "There is one special case constructor, called `get_it_from` (which can be imported from `HARK.utilities`). In some cases, multiple model objects are \"naturally\" constructed jointly-- maybe even there's no way to make one without the other. But HARK's constructor architecture assumes that each constructor function has *one* output, which is assigned to the attribute named in the `constructors` dictionary key.\n",
    "\n",
    "In this situation, you can write one constructor function, which should construct and return a dictionary of multiple model objects. The keys of this dictionary should be the names of the attributes that it constructed. Put this \"multiple constructor\" into the `constructors` dictionary, assigned to an arbitrary (but unique) name. For example, if there were several income process objects that were constructed together, the `constructors` dictionary might have the entry `\"income_process_stuff\" : make_AR1_markov_array_and_pLvlGrid`.\n",
    "\n",
    "The `constructors` dictionary should also have entries for the individual constructed objects, with a value of `get_it_from(\"dict_name\")`. In the example above, we might have `pLvlMrkvArray : get_it_from(\"income_process_stuff\")` and `pLvlGrid : get_it_from(\"income_process_stuff\")`."
   ]
  },
  {
   "cell_type": "code",
   "execution_count": null,
   "id": "39",
   "metadata": {},
   "outputs": [],
   "source": []
  }
 ],
 "metadata": {
  "kernelspec": {
   "display_name": "Python 3 (ipykernel)",
   "language": "python",
   "name": "python3"
  },
  "language_info": {
   "codemirror_mode": {
    "name": "ipython",
    "version": 3
   },
   "file_extension": ".py",
   "mimetype": "text/x-python",
   "name": "python",
   "nbconvert_exporter": "python",
   "pygments_lexer": "ipython3",
   "version": "3.10.18"
  }
 },
 "nbformat": 4,
 "nbformat_minor": 5
}
