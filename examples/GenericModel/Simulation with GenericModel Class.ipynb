{
 "cells": [
  {
   "cell_type": "markdown",
   "metadata": {},
   "source": [
    "This notebook demonstrates the GenericModel class.\n",
    "\n",
    "This class takes a configuration object, which defines a model in terms of its parameters, states, control variables, and initial values.\n",
    "\n",
    "Then it simulates the model.\n",
    "\n",
    "It can take any decision rule for the control variables.\n",
    "A key element of the design is that it uses the argument names of the transition and decision rules to identify which model variables to use as inputs.\n",
    "\n",
    "In this way, even though the model configuration is written in Python, it feels more like what mathematical modelers are used to."
   ]
  },
  {
   "cell_type": "code",
   "execution_count": 9,
   "metadata": {},
   "outputs": [],
   "source": [
    "from HARK.distribution import Lognormal\n",
    "import matplotlib.pyplot as plt\n",
    "from HARK.simulation import GenericModel\n",
    "\n",
    "\n",
    "from HARK.ConsumptionSaving.ConsIndShockModel import IndShockConsumerType"
   ]
  },
  {
   "cell_type": "markdown",
   "metadata": {},
   "source": [
    "We can use a decision rule derived from a HARK model."
   ]
  },
  {
   "cell_type": "code",
   "execution_count": 10,
   "metadata": {},
   "outputs": [],
   "source": [
    "solver_model = IndShockConsumerType()\n",
    "solver_model.solve()\n",
    "\n",
    "def first_solution(m):\n",
    "    ### This is way more complicated than it should be...\n",
    "    return solver_model.solution[0].cFunc(m).tolist()"
   ]
  },
  {
   "cell_type": "code",
   "execution_count": 3,
   "metadata": {},
   "outputs": [
    {
     "data": {
      "text/plain": [
       "26.066165198470504"
      ]
     },
     "execution_count": 3,
     "metadata": {},
     "output_type": "execute_result"
    }
   ],
   "source": [
    "first_solution(50)"
   ]
  },
  {
   "cell_type": "markdown",
   "metadata": {},
   "source": [
    "The configuration object is a dictionary of dictionaries.\n",
    "\n",
    "Exogenous shocks can be included as a parameter with a Distirbution value.\n",
    "This distribution will be sample from as appropriate during simulation.\n",
    "\n",
    "For 'states' that are used in the transition between time periods, provide a 'transition rule' for the variables in a 'post_states' dictionary. Then provide 'initial_values' for their value at the start of a simulation.\n",
    "\n",
    "Here the trailing underscoe '\\*\\_' is used to represent the fac that the variable is \"decremented\" in time.\n",
    "\n",
    "I.e., we can read 'a' as $a_t$ and 'a_' as $a_{t-1}$. This notation is subject to change based on standardization with the Dolo project."
   ]
  },
  {
   "cell_type": "code",
   "execution_count": 4,
   "metadata": {},
   "outputs": [],
   "source": [
    "#####\n",
    "# A Sample Configuration\n",
    "#####\n",
    "sample_configuration = {\n",
    "    'params' : {\n",
    "        'G' : Lognormal(), # income growth SHOCK \n",
    "        # problem: this distribution updates its random seed each draw, so acts like a constant\n",
    "        #          will be fixed with #619\n",
    "        'R' : 1.01  # rate of return\n",
    "    },\n",
    "    'states' : {\n",
    "        'b' : lambda a_, R: a_ * R,\n",
    "        'm' : lambda p_, b : p_ + b, # within-period assets\n",
    "    },\n",
    "    'controls' : {\n",
    "        'c' : first_solution # consumption.\n",
    "        # The function is the decision rule.\n",
    "    },\n",
    "    'post_states' : {\n",
    "        'a' : lambda m, c : m - c, #market assets\n",
    "        'p' : lambda p_, G: p_ * G # income\n",
    "    },\n",
    "    'initial_states' : {\n",
    "        'p_' : 1,\n",
    "        'a_' : 1\n",
    "    }\n",
    "}"
   ]
  },
  {
   "cell_type": "markdown",
   "metadata": {},
   "source": [
    "The GenericModel is used just like the other HARK AgentTypes with respect to how simulations are simulated and ran."
   ]
  },
  {
   "cell_type": "code",
   "execution_count": 5,
   "metadata": {},
   "outputs": [],
   "source": [
    "generic_model_test = GenericModel(sample_configuration)\n",
    "generic_model_test.initializeSim()\n",
    "generic_model_test.simulate()"
   ]
  },
  {
   "cell_type": "markdown",
   "metadata": {},
   "source": [
    "History is available for the simulated values. All the model variables are tracked."
   ]
  },
  {
   "cell_type": "code",
   "execution_count": 6,
   "metadata": {},
   "outputs": [
    {
     "data": {
      "text/plain": [
       "<matplotlib.legend.Legend at 0x7f2a3555ce90>"
      ]
     },
     "execution_count": 6,
     "metadata": {},
     "output_type": "execute_result"
    },
    {
     "data": {
      "image/png": "[encoded data removed]",
      "text/plain": [
       "<Figure size 432x288 with 1 Axes>"
      ]
     },
     "metadata": {
      "needs_background": "light"
     },
     "output_type": "display_data"
    }
   ],
   "source": [
    "plt.plot(generic_model_test.agent.history['a'], label='a')\n",
    "plt.plot(generic_model_test.agent.history['c'], label='c')\n",
    "plt.plot(generic_model_test.agent.history['p'], label='p')\n",
    "plt.yscale('log')\n",
    "plt.legend()\n"
   ]
  },
  {
   "cell_type": "markdown",
   "metadata": {},
   "source": [
    "Things looks quite different on the linear scale. Our model is not very realistic!"
   ]
  },
  {
   "cell_type": "code",
   "execution_count": 7,
   "metadata": {},
   "outputs": [
    {
     "data": {
      "text/plain": [
       "[<matplotlib.lines.Line2D at 0x7f2a32c3cc10>]"
      ]
     },
     "execution_count": 7,
     "metadata": {},
     "output_type": "execute_result"
    },
    {
     "data": {
      "image/png": "[encoded data removed]",
      "text/plain": [
       "<Figure size 432x288 with 1 Axes>"
      ]
     },
     "metadata": {
      "needs_background": "light"
     },
     "output_type": "display_data"
    }
   ],
   "source": [
    "plt.plot(generic_model_test.agent.history['c'])"
   ]
  },
  {
   "cell_type": "code",
   "execution_count": 8,
   "metadata": {},
   "outputs": [
    {
     "data": {
      "text/plain": [
       "{'p_': 1.673554764132766e+153,\n",
       " 'a_': 1.5308097993575494e+152,\n",
       " 'G': 5.836039190663969,\n",
       " 'R': 1.01,\n",
       " 'b': 2.64925893545143e+151,\n",
       " 'm': 3.1325467395634253e+152}"
      ]
     },
     "execution_count": 8,
     "metadata": {},
     "output_type": "execute_result"
    }
   ],
   "source": [
    "## Note the explosive 'G' here.\n",
    "generic_model_test.agent.states "
   ]
  },
  {
   "cell_type": "code",
   "execution_count": null,
   "metadata": {},
   "outputs": [],
   "source": []
  }
 ],
 "metadata": {
  "kernelspec": {
   "display_name": "Python 3.7 econ-ark",
   "language": "python",
   "name": "econ-ark"
  },
  "language_info": {
   "codemirror_mode": {
    "name": "ipython",
    "version": 3
   },
   "file_extension": ".py",
   "mimetype": "text/x-python",
   "name": "python",
   "nbconvert_exporter": "python",
   "pygments_lexer": "ipython3",
   "version": "3.7.5"
  },
  "latex_envs": {
   "LaTeX_envs_menu_present": true,
   "autoclose": false,
   "autocomplete": true,
   "bibliofile": "biblio.bib",
   "cite_by": "apalike",
   "current_citInitial": 1,
   "eqLabelWithNumbers": true,
   "eqNumInitial": 1,
   "hotkeys": {
    "equation": "Ctrl-E",
    "itemize": "Ctrl-I"
   },
   "labels_anchors": false,
   "latex_user_defs": false,
   "report_style_numbering": false,
   "user_envs_cfg": false
  },
  "toc": {
   "base_numbering": 1,
   "nav_menu": {},
   "number_sections": true,
   "sideBar": true,
   "skip_h1_title": false,
   "title_cell": "Table of Contents",
   "title_sidebar": "Contents",
   "toc_cell": false,
   "toc_position": {},
   "toc_section_display": true,
   "toc_window_display": false
  }
 },
 "nbformat": 4,
 "nbformat_minor": 2
}
