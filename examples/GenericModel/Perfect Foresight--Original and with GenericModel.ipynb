{
 "cells": [
  {
   "cell_type": "markdown",
   "metadata": {},
   "source": [
    "This notebook aims to compare a model built with HARK.ConsumptionSaving tools, and a model built with the GenericModel class."
   ]
  },
  {
   "cell_type": "code",
   "execution_count": 1,
   "metadata": {},
   "outputs": [],
   "source": [
    "from HARK.distribution import Lognormal\n",
    "from HARK.simulation import GenericModel\n",
    "from HARK.ConsumptionSaving.ConsIndShockModel import PerfForesightConsumerType\n",
    "from HARK.utilities import CRRAutility\n",
    "import matplotlib.pyplot as plt\n",
    "import numpy as np"
   ]
  },
  {
   "cell_type": "markdown",
   "metadata": {},
   "source": [
    "Recall that the Perfect Foresight equations are as follows:\n",
    "\n",
    "\\begin{eqnarray*}\n",
    "V_t(M_t,P_t) &=& \\max_{C_t}~U(C_t) + \\beta \\aleph V_{t+1}(M_{t+1},P_{t+1}), \\\\\n",
    "& s.t. & \\\\\n",
    "%A_t &=& M_t - C_t, \\\\\n",
    "M_{t+1} &=& R (M_{t}-C_{t}) + Y_{t+1}, \\\\\n",
    "P_{t+1} &=& \\Gamma_{t+1} P_t, \\\\\n",
    "\\end{eqnarray*}\n",
    "\n",
    "With the following parameters:\n",
    "\n",
    "\n",
    "| Param | Description | Code | Value |\n",
    "| :---: | ---  | --- | :---: |\n",
    "| $\\rho$ | Relative risk aversion | $\\texttt{CRRA}$ | 2.5 |\n",
    "| $\\beta$ | Discount factor | $\\texttt{DiscFac}$ | 0.96 |\n",
    "| $R$ | Risk free interest factor | $\\texttt{Rfree}$ | 1.03 |\n",
    "| $\\newcommand{\\LivFac}{\\aleph}\\LivFac$ | Survival probability | $\\texttt{LivPrb}$ | 0.98 |\n",
    "| $\\Gamma$ | Income growth factor | $\\texttt{PermGroFac}$ | 1.01 |\n"
   ]
  },
  {
   "cell_type": "markdown",
   "metadata": {},
   "source": [
    "First, let's build and solve the normal perfect foresight model."
   ]
  },
  {
   "cell_type": "code",
   "execution_count": 2,
   "metadata": {},
   "outputs": [],
   "source": [
    "# This cell defines a parameter dictionary. You can expand it if you want to see what that looks like.\n",
    "PF_dictionary = {\n",
    "    'CRRA' : 2.5,\n",
    "    'DiscFac' : 0.96,\n",
    "    'Rfree' : 1.03,\n",
    "    'LivPrb' : [1.0],\n",
    "    'PermGroFac' : [1.01],\n",
    "    'T_cycle' : 1,\n",
    "    'cycles' : 0,\n",
    "    'AgentCount' : 10000\n",
    "}\n",
    "\n",
    "pf = PerfForesightConsumerType(**PF_dictionary)\n",
    "pf.solve()"
   ]
  },
  {
   "cell_type": "markdown",
   "metadata": {},
   "source": [
    "We can extract the solution for use in the generic model.\n",
    "\n",
    "Note that the `HARK.ConsumptionSaving` version of the Perfect Foresight model solves the _normalized_ [version of the problem](http://www.econ2.jhu.edu/people/ccarroll/public/lecturenotes/consumption/PerfForesightCRRA/#x1-30003), where all values are divided by the permanent growth factor.\n",
    "\n",
    "This reduces the complexity of the solution algorithm, because the consumer function has only one argument, rather than two.\n",
    "\n",
    "To get the un-normalized solution, the normalized solution needs to be multiplied by $\\Gamma$."
   ]
  },
  {
   "cell_type": "code",
   "execution_count": 3,
   "metadata": {},
   "outputs": [],
   "source": [
    "## Note: the solution argument matches the notation in\n",
    "##       the model configuration, m_\n",
    "def pf_solution_normalized(m_):\n",
    "    return pf.solution[0].cFunc(m_).tolist()\n",
    "\n",
    "## non-normalized version\n",
    "def pf_solution(m_, p_):\n",
    "    return pf.solution[0].cFunc(m_).tolist() * p_"
   ]
  },
  {
   "cell_type": "code",
   "execution_count": 4,
   "metadata": {},
   "outputs": [
    {
     "data": {
      "text/plain": [
       "3.3657865844813433"
      ]
     },
     "execution_count": 4,
     "metadata": {},
     "output_type": "execute_result"
    }
   ],
   "source": [
    "pf_solution_normalized(50)"
   ]
  },
  {
   "cell_type": "markdown",
   "metadata": {},
   "source": [
    "The consumer who expects a constant doubling of their income is inclined to consume twice as much as a consumer who expects to have a fixed income for their entire life."
   ]
  },
  {
   "cell_type": "code",
   "execution_count": 5,
   "metadata": {},
   "outputs": [
    {
     "data": {
      "text/plain": [
       "6.7315731689626865"
      ]
     },
     "execution_count": 5,
     "metadata": {},
     "output_type": "execute_result"
    }
   ],
   "source": [
    "pf_solution(50,2)"
   ]
  },
  {
   "cell_type": "markdown",
   "metadata": {},
   "source": [
    "To a provide a utility function to the model, we will prepare the CRRA utility function with a known risk aversion parameter."
   ]
  },
  {
   "cell_type": "code",
   "execution_count": 6,
   "metadata": {},
   "outputs": [],
   "source": [
    "def utility_function(c):\n",
    "    return CRRAutility(c, PF_dictionary['CRRA'])"
   ]
  },
  {
   "cell_type": "markdown",
   "metadata": {},
   "source": [
    "We can write the original model configuration for the `GenericModel` class like so:"
   ]
  },
  {
   "cell_type": "code",
   "execution_count": 7,
   "metadata": {},
   "outputs": [],
   "source": [
    "#####\n",
    "# PerfectForesight\n",
    "#####\n",
    "\n",
    "pf_config = {\n",
    "    'params' : {\n",
    "        'PermGroFac' : 1.01,\n",
    "        'Rfree' : 1.03\n",
    "    },\n",
    "    'states' : {\n",
    "    },\n",
    "    'controls' : {\n",
    "        'c' : pf_solution # consumption.\n",
    "        # The function is the decision rule.\n",
    "    },\n",
    "    'post_states' : {\n",
    "        'm' : lambda m_, p_, c, Rfree : (Rfree) * (m_ - c) + p_, #market assets\n",
    "        'p' : lambda p_, PermGroFac: p_ * PermGroFac # income\n",
    "    },\n",
    "    'initial_states' : {\n",
    "        'p_' : 1,\n",
    "        'm_' : 0\n",
    "    },\n",
    "    'utility' : {\n",
    "        'U' : utility_function\n",
    "    }\n",
    "}\n",
    "\n",
    "#'DiscFac' : 0.96    - these are not yet supported for GenericModel\n",
    "\n",
    "# 'LivPrb' : [0.98]  - Mortality not yet built into the model"
   ]
  },
  {
   "cell_type": "markdown",
   "metadata": {},
   "source": [
    "The normalized version of the model can be written as follows."
   ]
  },
  {
   "cell_type": "code",
   "execution_count": 8,
   "metadata": {},
   "outputs": [],
   "source": [
    "#####\n",
    "# PerfectForesight -- normalized ... \n",
    "#####\n",
    "\n",
    "pf_nrm_config = {\n",
    "    'params' : {\n",
    "        'PermGroFac' : 1.01,\n",
    "        'Rfree' : 1.03\n",
    "    },\n",
    "    'states' : {\n",
    "    },\n",
    "    'controls' : {\n",
    "        'c' : pf_solution_normalized\n",
    "    },\n",
    "    'post_states' : {\n",
    "        'm' : lambda m_, c, Rfree, PermGroFac : (Rfree / PermGroFac ) * (m_ - c) + 1, #market assets\n",
    "    },\n",
    "    'initial_states' : {\n",
    "        'm_' : 0\n",
    "    },\n",
    "    'utility' : {\n",
    "        'U' : utility_function\n",
    "    }\n",
    "}"
   ]
  },
  {
   "cell_type": "markdown",
   "metadata": {},
   "source": [
    "The GenericModel is used just like the other HARK AgentTypes with respect to how simulations are simulated and ran."
   ]
  },
  {
   "cell_type": "code",
   "execution_count": 9,
   "metadata": {},
   "outputs": [],
   "source": [
    "pf_g = GenericModel(pf_config)\n",
    "pf_g.initializeSim()\n",
    "pf_g.simulate()"
   ]
  },
  {
   "cell_type": "markdown",
   "metadata": {},
   "source": [
    "History is available for the simulated values. All the model variables are tracked."
   ]
  },
  {
   "cell_type": "code",
   "execution_count": 10,
   "metadata": {},
   "outputs": [
    {
     "data": {
      "text/plain": [
       "<matplotlib.legend.Legend at 0x7f6ed8e275d0>"
      ]
     },
     "execution_count": 10,
     "metadata": {},
     "output_type": "execute_result"
    },
    {
     "data": {
      "image/png": "[encoded data removed]",
      "text/plain": [
       "<Figure size 432x288 with 1 Axes>"
      ]
     },
     "metadata": {
      "needs_background": "light"
     },
     "output_type": "display_data"
    }
   ],
   "source": [
    "plt.plot(pf_g.agent.history['m'], label='m')\n",
    "plt.plot(pf_g.agent.history['c'], label='c')\n",
    "plt.plot(pf_g.agent.history['p'], label='p')\n",
    "#plt.yscale('log')\n",
    "plt.legend()"
   ]
  },
  {
   "cell_type": "markdown",
   "metadata": {},
   "source": [
    "This is the plot of the normalized version."
   ]
  },
  {
   "cell_type": "code",
   "execution_count": 11,
   "metadata": {},
   "outputs": [
    {
     "data": {
      "text/plain": [
       "<matplotlib.legend.Legend at 0x7f6ed8e1c4d0>"
      ]
     },
     "execution_count": 11,
     "metadata": {},
     "output_type": "execute_result"
    },
    {
     "data": {
      "image/png": "[encoded data removed]",
      "text/plain": [
       "<Figure size 432x288 with 1 Axes>"
      ]
     },
     "metadata": {
      "needs_background": "light"
     },
     "output_type": "display_data"
    }
   ],
   "source": [
    "pf_nrm_g = GenericModel(pf_nrm_config)\n",
    "pf_nrm_g.initializeSim()\n",
    "pf_nrm_g.simulate()\n",
    "\n",
    "plt.plot(pf_nrm_g.agent.history['m'], label='m')\n",
    "plt.plot(pf_nrm_g.agent.history['c'], label='c')\n",
    "#plt.yscale('log')\n",
    "plt.legend()"
   ]
  },
  {
   "cell_type": "code",
   "execution_count": 12,
   "metadata": {},
   "outputs": [
    {
     "data": {
      "text/plain": [
       "<matplotlib.legend.Legend at 0x7f6ed6873b50>"
      ]
     },
     "execution_count": 12,
     "metadata": {},
     "output_type": "execute_result"
    },
    {
     "data": {
      "image/png": "[encoded data removed]",
      "text/plain": [
       "<Figure size 432x288 with 1 Axes>"
      ]
     },
     "metadata": {
      "needs_background": "light"
     },
     "output_type": "display_data"
    }
   ],
   "source": [
    "plt.plot(pf_g.agent.history['U'], label='PF: U')\n",
    "plt.plot(pf_nrm_g.agent.history['U'], label='PF NRM: U')\n",
    "plt.legend()"
   ]
  },
  {
   "cell_type": "code",
   "execution_count": 13,
   "metadata": {},
   "outputs": [
    {
     "data": {
      "image/png": "[encoded data removed]",
      "text/plain": [
       "<Figure size 432x288 with 1 Axes>"
      ]
     },
     "metadata": {
      "needs_background": "light"
     },
     "output_type": "display_data"
    }
   ],
   "source": [
    "SimulationParams = {\n",
    "    \"AgentCount\" : 100,                  # Number of agents of this type\n",
    "    \"T_sim\" : 120,                         # Number of periods to simulate\n",
    "    \"aNrmInitMean\" : 0.0,                 # Mean of log initial assets\n",
    "    \"aNrmInitStd\"  : 0.0,                  # Standard deviation of log initial assets\n",
    "    \"pLvlInitMean\" : 0.0,                  # Mean of log initial permanent income\n",
    "    \"pLvlInitStd\"  : 0.0,                  # Standard deviation of log initial permanent income\n",
    "    \"PermGroFacAgg\" : 1.01,                 # Aggregate permanent income growth factor\n",
    "    \"T_age\" : None,                        # Age after which simulated agents are automatically killed\n",
    "}\n",
    "\n",
    "pf(**SimulationParams)\n",
    "\n",
    "pf.track_vars = ['mNrmNow']\n",
    "pf.initializeSim()\n",
    "pf.simulate()\n",
    "\n",
    "\n",
    "# Plot market resources over time\n",
    "plt.plot(np.array(pf_nrm_g.agent.history['m']),\n",
    "    label='m, normalized pf'\n",
    ")\n",
    "\n",
    "plt.plot(\n",
    "    np.array(pf_g.agent.history['m']) / np.array(pf_g.agent.history['p']),\n",
    "    label='m / p, pf'\n",
    ")\n",
    "\n",
    "plt.plot(pf.history['mNrmNow'][:,0], label=\"mNrmNow, HARK.CS\")\n",
    "plt.xlabel('Time')\n",
    "plt.ylabel('Mean normalized market resources')\n",
    "plt.legend()\n",
    "plt.show()"
   ]
  }
 ],
 "metadata": {
  "kernelspec": {
   "display_name": "Python 3.7 econ-ark",
   "language": "python",
   "name": "econ-ark"
  },
  "language_info": {
   "codemirror_mode": {
    "name": "ipython",
    "version": 3
   },
   "file_extension": ".py",
   "mimetype": "text/x-python",
   "name": "python",
   "nbconvert_exporter": "python",
   "pygments_lexer": "ipython3",
   "version": "3.7.5"
  },
  "latex_envs": {
   "LaTeX_envs_menu_present": true,
   "autoclose": false,
   "autocomplete": true,
   "bibliofile": "biblio.bib",
   "cite_by": "apalike",
   "current_citInitial": 1,
   "eqLabelWithNumbers": true,
   "eqNumInitial": 1,
   "hotkeys": {
    "equation": "Ctrl-E",
    "itemize": "Ctrl-I"
   },
   "labels_anchors": false,
   "latex_user_defs": false,
   "report_style_numbering": false,
   "user_envs_cfg": false
  },
  "toc": {
   "base_numbering": 1,
   "nav_menu": {},
   "number_sections": true,
   "sideBar": true,
   "skip_h1_title": false,
   "title_cell": "Table of Contents",
   "title_sidebar": "Contents",
   "toc_cell": false,
   "toc_position": {},
   "toc_section_display": true,
   "toc_window_display": false
  }
 },
 "nbformat": 4,
 "nbformat_minor": 2
}
