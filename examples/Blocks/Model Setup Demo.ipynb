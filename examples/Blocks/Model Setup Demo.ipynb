{
 "cells": [
  {
   "cell_type": "code",
   "execution_count": 1,
   "id": "78e88e29",
   "metadata": {
    "execution": {
     "iopub.execute_input": "2024-07-11T15:16:48.976018Z",
     "iopub.status.busy": "2024-07-11T15:16:48.975763Z",
     "iopub.status.idle": "2024-07-11T15:16:49.798632Z",
     "shell.execute_reply": "2024-07-11T15:16:49.798098Z"
    }
   },
   "outputs": [],
   "source": [
    "from HARK.model import RBlock"
   ]
  },
  {
   "cell_type": "code",
   "execution_count": 2,
   "id": "530a91d0",
   "metadata": {
    "execution": {
     "iopub.execute_input": "2024-07-11T15:16:49.800729Z",
     "iopub.status.busy": "2024-07-11T15:16:49.800389Z",
     "iopub.status.idle": "2024-07-11T15:16:49.803565Z",
     "shell.execute_reply": "2024-07-11T15:16:49.803116Z"
    }
   },
   "outputs": [],
   "source": [
    "def rblock_arrival_value(states):\n",
    "    return \"tbd\"\n",
    "\n",
    "\n",
    "def solution_objects(stg):\n",
    "    if callable(stg):\n",
    "        return stg\n",
    "    elif isinstance(stg, RBlock):\n",
    "        return [rblock_arrival_value] + stg.get_controls()\n",
    "\n",
    "\n",
    "def solution(interval):\n",
    "    return [solution_objects(stg) for stg in interval]"
   ]
  },
  {
   "cell_type": "code",
   "execution_count": 3,
   "id": "035c6056",
   "metadata": {
    "execution": {
     "iopub.execute_input": "2024-07-11T15:16:49.805189Z",
     "iopub.status.busy": "2024-07-11T15:16:49.804945Z",
     "iopub.status.idle": "2024-07-11T15:16:49.849345Z",
     "shell.execute_reply": "2024-07-11T15:16:49.848800Z"
    }
   },
   "outputs": [
    {
     "data": {
      "text/plain": [
       "DBlock(name='tick', description='', shocks={}, dynamics={'k': <function <lambda> at 0x7f1a02b2cc20>}, reward={})"
      ]
     },
     "execution_count": 3,
     "metadata": {},
     "output_type": "execute_result"
    }
   ],
   "source": [
    "## This contains model data, which will later be contained in a YAML file\n",
    "import HARK.models.consumer as cons\n",
    "\n",
    "# Specifically there are these objects, which would be produced from the parsed YAML\n",
    "cons.consumption_block_normalized\n",
    "cons.portfolio_block\n",
    "cons.tick_block"
   ]
  },
  {
   "cell_type": "code",
   "execution_count": 4,
   "id": "b6eadbc6",
   "metadata": {
    "execution": {
     "iopub.execute_input": "2024-07-11T15:16:49.851035Z",
     "iopub.status.busy": "2024-07-11T15:16:49.850750Z",
     "iopub.status.idle": "2024-07-11T15:16:49.853452Z",
     "shell.execute_reply": "2024-07-11T15:16:49.852959Z"
    }
   },
   "outputs": [],
   "source": [
    "## create empty two-period-model object\n",
    "##>>> mdl2prd = HARK2.modelMake(modelKind=finiteHorizon,\n",
    "##                              [other configs])\n",
    "\n",
    "model = []  # could be an object later"
   ]
  },
  {
   "cell_type": "code",
   "execution_count": 5,
   "id": "e53584e1",
   "metadata": {
    "execution": {
     "iopub.execute_input": "2024-07-11T15:16:49.854996Z",
     "iopub.status.busy": "2024-07-11T15:16:49.854726Z",
     "iopub.status.idle": "2024-07-11T15:16:49.857973Z",
     "shell.execute_reply": "2024-07-11T15:16:49.857496Z"
    }
   },
   "outputs": [
    {
     "data": {
      "text/plain": [
       "[]"
      ]
     },
     "execution_count": 5,
     "metadata": {},
     "output_type": "execute_result"
    }
   ],
   "source": [
    "## >>> mdl2prd.solution\n",
    "##\n",
    "##[\n",
    "##    interval\n",
    "##]\n",
    "\n",
    "solution(model)  # coudl be a method on the object"
   ]
  },
  {
   "cell_type": "code",
   "execution_count": 6,
   "id": "6a95729a",
   "metadata": {
    "execution": {
     "iopub.execute_input": "2024-07-11T15:16:49.859504Z",
     "iopub.status.busy": "2024-07-11T15:16:49.859274Z",
     "iopub.status.idle": "2024-07-11T15:16:49.861738Z",
     "shell.execute_reply": "2024-07-11T15:16:49.861215Z"
    }
   },
   "outputs": [],
   "source": [
    "def terminal_value_function(k):\n",
    "    return 0"
   ]
  },
  {
   "cell_type": "code",
   "execution_count": 7,
   "id": "50f1d15e",
   "metadata": {
    "execution": {
     "iopub.execute_input": "2024-07-11T15:16:49.863249Z",
     "iopub.status.busy": "2024-07-11T15:16:49.863016Z",
     "iopub.status.idle": "2024-07-11T15:16:49.866215Z",
     "shell.execute_reply": "2024-07-11T15:16:49.865749Z"
    }
   },
   "outputs": [
    {
     "data": {
      "text/plain": [
       "[<function __main__.terminal_value_function(k)>]"
      ]
     },
     "execution_count": 7,
     "metadata": {},
     "output_type": "execute_result"
    }
   ],
   "source": [
    "model.append(terminal_value_function)\n",
    "\n",
    "model"
   ]
  },
  {
   "cell_type": "code",
   "execution_count": 8,
   "id": "7cf6da6b",
   "metadata": {
    "execution": {
     "iopub.execute_input": "2024-07-11T15:16:49.867674Z",
     "iopub.status.busy": "2024-07-11T15:16:49.867435Z",
     "iopub.status.idle": "2024-07-11T15:16:49.870636Z",
     "shell.execute_reply": "2024-07-11T15:16:49.870182Z"
    }
   },
   "outputs": [
    {
     "data": {
      "text/plain": [
       "[<function __main__.terminal_value_function(k)>]"
      ]
     },
     "execution_count": 8,
     "metadata": {},
     "output_type": "execute_result"
    }
   ],
   "source": [
    "solution(model)"
   ]
  },
  {
   "cell_type": "code",
   "execution_count": 9,
   "id": "cbe7a0c1",
   "metadata": {
    "execution": {
     "iopub.execute_input": "2024-07-11T15:16:49.872109Z",
     "iopub.status.busy": "2024-07-11T15:16:49.871888Z",
     "iopub.status.idle": "2024-07-11T15:16:49.874244Z",
     "shell.execute_reply": "2024-07-11T15:16:49.873784Z"
    }
   },
   "outputs": [],
   "source": [
    "# probably we need to put the stages in a sublist ...\n",
    "# >>> mdl2prd.solution[prdT].interval.make_empty_stage_list()\n",
    "\n",
    "model.insert(0, RBlock())  # prepend a recursive block"
   ]
  },
  {
   "cell_type": "code",
   "execution_count": 10,
   "id": "0cb8c7c7",
   "metadata": {
    "execution": {
     "iopub.execute_input": "2024-07-11T15:16:49.875681Z",
     "iopub.status.busy": "2024-07-11T15:16:49.875439Z",
     "iopub.status.idle": "2024-07-11T15:16:49.878705Z",
     "shell.execute_reply": "2024-07-11T15:16:49.878248Z"
    }
   },
   "outputs": [
    {
     "data": {
      "text/plain": [
       "[[<function __main__.rblock_arrival_value(states)>, 'c'],\n",
       " <function __main__.terminal_value_function(k)>]"
      ]
     },
     "execution_count": 10,
     "metadata": {},
     "output_type": "execute_result"
    }
   ],
   "source": [
    "model[0].blocks.insert(0, cons.consumption_block_normalized)\n",
    "\n",
    "solution(model)"
   ]
  },
  {
   "cell_type": "code",
   "execution_count": 11,
   "id": "614e2e3b",
   "metadata": {
    "execution": {
     "iopub.execute_input": "2024-07-11T15:16:49.880213Z",
     "iopub.status.busy": "2024-07-11T15:16:49.879844Z",
     "iopub.status.idle": "2024-07-11T15:16:49.883406Z",
     "shell.execute_reply": "2024-07-11T15:16:49.882923Z"
    }
   },
   "outputs": [
    {
     "data": {
      "text/plain": [
       "[[<function __main__.rblock_arrival_value(states)>, 'c', 'stigma'],\n",
       " <function __main__.terminal_value_function(k)>]"
      ]
     },
     "execution_count": 11,
     "metadata": {},
     "output_type": "execute_result"
    }
   ],
   "source": [
    "# Now add a portfolio stage\n",
    "## append_stage will test whether there are already any other stages in existence\n",
    "## If so it will\n",
    "### - prepend to the list of stages an empty earlier stage\n",
    "### - set stg[new_stg].vEndStg = stg[successor_stg].vBegStg\n",
    "\n",
    "# >>> mdl2prd.solution[prdT].interval.append_stage(\n",
    "#    stage_name='Shr',\n",
    "#    parse_file_model='portfolio_shr_solve.yml',\n",
    "#    parse_file_model='portfolio_shr_stage.yml' # again not sure if needed\n",
    "#    )\n",
    "\n",
    "model[0].blocks.append(cons.portfolio_block)\n",
    "model[0].blocks.append(cons.tick_block)\n",
    "\n",
    "solution(model)"
   ]
  },
  {
   "cell_type": "code",
   "execution_count": 12,
   "id": "a0e05c58",
   "metadata": {
    "execution": {
     "iopub.execute_input": "2024-07-11T15:16:49.884943Z",
     "iopub.status.busy": "2024-07-11T15:16:49.884686Z",
     "iopub.status.idle": "2024-07-11T15:16:49.887006Z",
     "shell.execute_reply": "2024-07-11T15:16:49.886565Z"
    }
   },
   "outputs": [],
   "source": [
    "# This doesn't need to be explicit because the existence of arrival value functions are implied already.\n",
    "\n",
    "###\n",
    "# We are finished adding stages; finish by adding vBeg\n",
    "# >>> mdl2prd.solution[prdT].interval.add_vBeg() #\n",
    "# >>> mdl2prd.solution[prdT].interval.solution\n",
    "#    [vBeg, [ Shr, c ], vEnd]\n"
   ]
  }
 ],
 "metadata": {
  "kernelspec": {
   "display_name": "Python 3 (ipykernel)",
   "language": "python",
   "name": "python3"
  },
  "language_info": {
   "codemirror_mode": {
    "name": "ipython",
    "version": 3
   },
   "file_extension": ".py",
   "mimetype": "text/x-python",
   "name": "python",
   "nbconvert_exporter": "python",
   "pygments_lexer": "ipython3",
   "version": "3.11.9"
  }
 },
 "nbformat": 4,
 "nbformat_minor": 5
}
