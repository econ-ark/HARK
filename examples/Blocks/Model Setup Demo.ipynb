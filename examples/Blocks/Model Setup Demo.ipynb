{
 "cells": [
  {
   "cell_type": "code",
   "execution_count": 1,
   "id": "0",
   "metadata": {},
   "outputs": [],
   "source": [
    "from HARK.model import RBlock"
   ]
  },
  {
   "cell_type": "code",
   "execution_count": 2,
   "id": "1",
   "metadata": {},
   "outputs": [],
   "source": [
    "def rblock_arrival_value(states):\n",
    "    return \"tbd\"\n",
    "\n",
    "\n",
    "def solution_objects(stg):\n",
    "    if callable(stg):\n",
    "        return stg\n",
    "    elif isinstance(stg, RBlock):\n",
    "        return [rblock_arrival_value] + stg.get_controls()\n",
    "\n",
    "\n",
    "def solution(interval):\n",
    "    return [solution_objects(stg) for stg in interval]"
   ]
  },
  {
   "cell_type": "code",
   "execution_count": 3,
   "id": "2",
   "metadata": {},
   "outputs": [
    {
     "data": {
      "text/plain": [
       "DBlock(name='tick', description='', shocks={}, dynamics={'k': <function <lambda> at 0x7f9903269cf0>}, reward={})"
      ]
     },
     "execution_count": 3,
     "metadata": {},
     "output_type": "execute_result"
    }
   ],
   "source": [
    "## This contains model data, which will later be contained in a YAML file\n",
    "import HARK.models.consumer as cons\n",
    "\n",
    "# Specifically there are these objects, which would be produced from the parsed YAML\n",
    "cons.consumption_block_normalized\n",
    "cons.portfolio_block\n",
    "cons.tick_block"
   ]
  },
  {
   "cell_type": "code",
   "execution_count": 4,
   "id": "3",
   "metadata": {},
   "outputs": [],
   "source": [
    "## create empty two-period-model object\n",
    "##>>> mdl2prd = HARK2.modelMake(modelKind=finiteHorizon,\n",
    "##                              [other configs])\n",
    "\n",
    "model = []  # could be an object later"
   ]
  },
  {
   "cell_type": "code",
   "execution_count": 5,
   "id": "4",
   "metadata": {},
   "outputs": [
    {
     "data": {
      "text/plain": [
       "[]"
      ]
     },
     "execution_count": 5,
     "metadata": {},
     "output_type": "execute_result"
    }
   ],
   "source": [
    "## >>> mdl2prd.solution\n",
    "##\n",
    "##[\n",
    "##    interval\n",
    "##]\n",
    "\n",
    "solution(model)  # coudl be a method on the object"
   ]
  },
  {
   "cell_type": "code",
   "execution_count": 6,
   "id": "5",
   "metadata": {},
   "outputs": [],
   "source": [
    "def terminal_value_function(k):\n",
    "    return 0"
   ]
  },
  {
   "cell_type": "code",
   "execution_count": 7,
   "id": "6",
   "metadata": {},
   "outputs": [
    {
     "data": {
      "text/plain": [
       "[<function __main__.terminal_value_function(k)>]"
      ]
     },
     "execution_count": 7,
     "metadata": {},
     "output_type": "execute_result"
    }
   ],
   "source": [
    "model.append(terminal_value_function)\n",
    "\n",
    "model"
   ]
  },
  {
   "cell_type": "code",
   "execution_count": 8,
   "id": "7",
   "metadata": {},
   "outputs": [
    {
     "data": {
      "text/plain": [
       "[<function __main__.terminal_value_function(k)>]"
      ]
     },
     "execution_count": 8,
     "metadata": {},
     "output_type": "execute_result"
    }
   ],
   "source": [
    "solution(model)"
   ]
  },
  {
   "cell_type": "code",
   "execution_count": 9,
   "id": "8",
   "metadata": {},
   "outputs": [],
   "source": [
    "# probably we need to put the stages in a sublist ...\n",
    "# >>> mdl2prd.solution[prdT].interval.make_empty_stage_list()\n",
    "\n",
    "model.insert(0, RBlock())  # prepend a recursive block"
   ]
  },
  {
   "cell_type": "code",
   "execution_count": 10,
   "id": "9",
   "metadata": {},
   "outputs": [
    {
     "data": {
      "text/plain": [
       "[[<function __main__.rblock_arrival_value(states)>, 'c'],\n",
       " <function __main__.terminal_value_function(k)>]"
      ]
     },
     "execution_count": 10,
     "metadata": {},
     "output_type": "execute_result"
    }
   ],
   "source": [
    "model[0].blocks.insert(0, cons.consumption_block_normalized)\n",
    "\n",
    "solution(model)"
   ]
  },
  {
   "cell_type": "code",
   "execution_count": 11,
   "id": "10",
   "metadata": {},
   "outputs": [
    {
     "data": {
      "text/plain": [
       "[[<function __main__.rblock_arrival_value(states)>, 'c', 'stigma'],\n",
       " <function __main__.terminal_value_function(k)>]"
      ]
     },
     "execution_count": 11,
     "metadata": {},
     "output_type": "execute_result"
    }
   ],
   "source": [
    "# Now add a portfolio stage\n",
    "## append_stage will test whether there are already any other stages in existence\n",
    "## If so it will\n",
    "### - prepend to the list of stages an empty earlier stage\n",
    "### - set stg[new_stg].vEndStg = stg[successor_stg].vBegStg\n",
    "\n",
    "# >>> mdl2prd.solution[prdT].interval.append_stage(\n",
    "#    stage_name='Shr',\n",
    "#    parse_file_model='portfolio_shr_solve.yml',\n",
    "#    parse_file_model='portfolio_shr_stage.yml' # again not sure if needed\n",
    "#    )\n",
    "\n",
    "model[0].blocks.append(cons.portfolio_block)\n",
    "model[0].blocks.append(cons.tick_block)\n",
    "\n",
    "solution(model)"
   ]
  },
  {
   "cell_type": "code",
   "execution_count": 12,
   "id": "11",
   "metadata": {},
   "outputs": [],
   "source": [
    "# This doesn't need to be explicit because the existence of arrival value functions are implied already.\n",
    "\n",
    "###\n",
    "# We are finished adding stages; finish by adding vBeg\n",
    "# >>> mdl2prd.solution[prdT].interval.add_vBeg() #\n",
    "# >>> mdl2prd.solution[prdT].interval.solution\n",
    "#    [vBeg, [ Shr, c ], vEnd]\n"
   ]
  }
 ],
 "metadata": {
  "kernelspec": {
   "display_name": "Python 3 (ipykernel)",
   "language": "python",
   "name": "python3"
  },
  "language_info": {
   "codemirror_mode": {
    "name": "ipython",
    "version": 3
   },
   "file_extension": ".py",
   "mimetype": "text/x-python",
   "name": "python",
   "nbconvert_exporter": "python",
   "pygments_lexer": "ipython3",
   "version": "3.10.16"
  }
 },
 "nbformat": 4,
 "nbformat_minor": 5
}
