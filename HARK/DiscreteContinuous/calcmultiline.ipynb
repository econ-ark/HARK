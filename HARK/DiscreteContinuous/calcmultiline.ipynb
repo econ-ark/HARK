{
 "cells": [
  {
   "cell_type": "code",
   "execution_count": 38,
   "metadata": {},
   "outputs": [],
   "source": [
    "import numpy as np\n",
    "from HARK.interpolation import LinearInterp\n",
    "import matplotlib.pyplot as plt\n",
    "\n",
    "def dcegmIntervals(x, v):\n",
    "    \"\"\"\n",
    "    Find index vectors `rise` and `fall` such that `rise` holds the indeces `i`\n",
    "    such that x[i+1]>x[i] and `fall` holds indeces `j` such that either\n",
    "    - x[j+1] < x[j] or,\n",
    "    - x[j]>x[j-1] and v[j]<v[j-1].\n",
    "\n",
    "    The vectors are essential to the DCEGM algorithm, as they definite the\n",
    "    relevant intervals to be used to construct the upper envelope of potential\n",
    "    solutions to the (necessary) first order conditions.\n",
    "\n",
    "    Parameters\n",
    "    ----------\n",
    "    x : np.ndarray\n",
    "        array of points where `v` is evaluated\n",
    "    v : np.ndarray\n",
    "        array of values of some function of `x`\n",
    "\n",
    "    Returns\n",
    "    -------\n",
    "    rise : np.ndarray\n",
    "        see description above\n",
    "    fall : np.ndarray\n",
    "        see description above\n",
    "    \"\"\"\n",
    "    # NOTE: assumes that the first segment is in fact increasing (forced in EGM\n",
    "    # by augmentation with the constrained segment).\n",
    "    # elements in common grid g\n",
    "\n",
    "    # Identify index intervals of falling and rising regions\n",
    "    # We need these to construct the upper envelope because we need to discard\n",
    "    # solutions from the inverted Euler equations that do not represent optimal\n",
    "    # choices (the FOCs are only necessary in these models).\n",
    "    #\n",
    "    # `fall` is a vector of indeces that represent the first elements in all\n",
    "    # of the falling segments (the curve can potentially fold several times)\n",
    "    fall = np.empty(0, dtype=int) # initialize with empty and then add the last point below while-loop\n",
    "\n",
    "    rise = np.array([0]) # Initialize such thatthe lowest point is the first grid point\n",
    "    i = 1 # Initialize\n",
    "    while i <= len(x) - 2:\n",
    "        # Check if the next (`ip1` stands for i plus 1) grid point is below the\n",
    "        # current one, such that the line is folding back.\n",
    "        ip1_falls = x[i+1] < x[i] # true if grid decreases on index increment\n",
    "        i_rose = x[i] > x[i-1] # true if grid decreases on index decrement\n",
    "        val_fell = v[i] < v[i-1] # true if value rises on index decrement\n",
    "\n",
    "        if (ip1_falls and i_rose) or (val_fell and i_rose):\n",
    "\n",
    "            # we are in a region where the endogenous grid is decreasing or\n",
    "            # the value function rises by stepping back in the grid.\n",
    "            fall = np.append(fall, i) # add the index to the vector\n",
    "\n",
    "            # We now iterate from the current index onwards until we find point\n",
    "            # where resources rises again. Unfortunately, we need to check\n",
    "            # each points, as there can be multiple spells of falling endogenous\n",
    "            # grids, so we cannot use bisection or some other fast algorithm.\n",
    "            k = i\n",
    "            while x[k+1] < x[k]:\n",
    "                k = k + 1\n",
    "            # k now holds either the next index the starts a new rising\n",
    "            # region, or it holds the length of M, `m_len`.\n",
    "\n",
    "            rise = np.append(rise, k)\n",
    "\n",
    "            # Set the index to the point where resources again is rising\n",
    "            i = k\n",
    "\n",
    "        i = i + 1\n",
    "    return rise, fall\n",
    "\n",
    "\n",
    "# think! nanargmax makes everythign super ugly because numpy changed the wraning\n",
    "# in all nan slices to a valueerror...it's nans, aaarghgghg\n",
    "def calcMultilineEnvelope(M, C, V_T, commonM):\n",
    "    \"\"\"\n",
    "    Do the envelope step of the DCEGM algorithm. Takes in market ressources,\n",
    "    consumption levels, and inverse values from the EGM step. These represent\n",
    "    (m, c) pairs that solve the necessary first order conditions. This function\n",
    "    calculates the optimal (m, c, v_t) pairs on the commonM grid.\n",
    "\n",
    "    Parameters\n",
    "    ----------\n",
    "    M : np.array\n",
    "        market ressources from EGM step\n",
    "    C : np.array\n",
    "        consumption from EGM step\n",
    "    V_T : np.array\n",
    "        transformed values at the EGM grid\n",
    "    commonM : np.array\n",
    "        common grid to do upper envelope calculations on\n",
    "\n",
    "    Returns\n",
    "    -------\n",
    "\n",
    "\n",
    "    \"\"\"\n",
    "    m_len = len(commonM)\n",
    "    rise, fall = dcegmIntervals(M, V_T)\n",
    "\n",
    "    # Add the last point to the vector for convenience below\n",
    "    fall = np.append(fall, len(M)-1)\n",
    "    num_kinks = len(fall) # number of kinks / falling EGM grids\n",
    "\n",
    "    # Use these segments to sequentially find upper envelopes. commonVARNAME\n",
    "    # means the VARNAME evaluated on the common grid with a cloumn for each kink\n",
    "    # discovered in dcegmIntervals. This means that commonVARNAME is a matrix\n",
    "    # common grid length-by-number of segments to consider. In the end, we'll\n",
    "    # use nanargmax over the columns to pick out the best (transformed) values.\n",
    "    # This is why we fill the arrays with np.nan's.\n",
    "    commonV_T = np.empty((m_len, num_kinks))\n",
    "    commonV_T[:] = np.nan\n",
    "    commonC = np.empty((m_len, num_kinks))\n",
    "    commonC[:] = np.nan\n",
    "\n",
    "    # Now, loop over all segments as defined by the \"kinks\" or the combination\n",
    "    # of \"rise\" and \"fall\" indeces. These (rise[j], fall[j]) pairs define regions\n",
    "    for j in range(num_kinks):\n",
    "        # Find points in the common grid that are in the range of the points in\n",
    "        # the interval defined by (rise[j], fall[j]).\n",
    "        below = M[rise[j]] >= commonM # boolean array of bad indeces below\n",
    "        above = M[fall[j]] <= commonM # boolen array of bad indeces above\n",
    "        in_range = below + above == 0 # pick out elements that are neither\n",
    "\n",
    "        # create range of indeces in the input arrays\n",
    "        idxs = range(rise[j], fall[j]+1)\n",
    "        # grab ressource values at the relevant indeces\n",
    "        m_idx_j = M[idxs]\n",
    "\n",
    "        # based in in_range, find the relevant ressource values to interpolate\n",
    "        m_eval = commonM[in_range]\n",
    "\n",
    "        # re-interpolate to common grid\n",
    "        commonV_T[in_range,j] = LinearInterp(m_idx_j, V_T[idxs], lower_extrap=True)(m_eval)\n",
    "        commonC[in_range,j]  = LinearInterp(m_idx_j, C[idxs], lower_extrap=True)(m_eval) # Interpolat econsumption also. May not be nesserary\n",
    "    # for each row in the commonV_T matrix, see if all entries are np.nan. This\n",
    "    # would mean that we have no valid value here, so we want to use this boolean\n",
    "    # vector to filter out irrelevant entries of commonV_T.\n",
    "    row_all_nan = np.array([np.all(np.isnan(row)) for row in commonV_T])\n",
    "    # Now take the max of all these line segments.\n",
    "    idx_max = np.zeros(commonM.size, dtype = int)\n",
    "    idx_max[row_all_nan == False] = np.nanargmax(commonV_T[row_all_nan == False], axis=1)\n",
    "\n",
    "    # prefix with upper for variable that are \"upper enveloped\"\n",
    "    upperV_T = np.zeros(m_len)\n",
    "\n",
    "    # Set the non-nan rows to the maximum over columns\n",
    "    upperV_T[row_all_nan == False] = np.nanmax(commonV_T[row_all_nan == False, :], axis=1)\n",
    "    # Set the rest to nan\n",
    "    upperV_T[row_all_nan] = np.nan\n",
    "\n",
    "    # Add the zero point in the bottom\n",
    "    if np.isnan(upperV_T[0]):\n",
    "        # in transformed space space, utility of zero-consumption (-inf) is 0.0\n",
    "        upperV_T[0] = 0.0\n",
    "        # commonM[0] is typically 0, so this is safe, but maybe it should be 0.0\n",
    "        commonC[0]  = commonM[0]\n",
    "\n",
    "    # Extrapolate if NaNs are introduced due to the common grid\n",
    "    # going outside all the sub-line segments\n",
    "    IsNaN = np.isnan(upperV_T)\n",
    "    upperV_T[IsNaN] = LinearInterp(commonM[IsNaN == False], upperV_T[IsNaN == False])(commonM[IsNaN])\n",
    "\n",
    "\n",
    "    LastBeforeNaN = np.append(np.diff(IsNaN)>0, 0)\n",
    "    LastId = LastBeforeNaN*idx_max # Find last id-number\n",
    "    idx_max[IsNaN] = LastId[IsNaN]\n",
    "    # Linear index used to get optimal consumption based on \"id\"  from max\n",
    "    ncols = commonC.shape[1]\n",
    "    rowidx = np.cumsum(ncols*np.ones(len(commonM), dtype=int))-ncols\n",
    "    idx_linear = np.unravel_index(rowidx+idx_max, commonC.shape)\n",
    "    upperC = commonC[idx_linear]\n",
    "    upperC[IsNaN] = LinearInterp(commonM[IsNaN==0], upperC[IsNaN==0])(commonM[IsNaN])\n",
    "\n",
    "    # TODO calculate cross points of line segments to get the true vertical drops\n",
    "        \n",
    "    upperM = commonM.copy() # anticipate this TODO\n",
    "    \n",
    "    return upperM, upperC, upperV_T\n"
   ]
  },
  {
   "cell_type": "code",
   "execution_count": 83,
   "metadata": {},
   "outputs": [],
   "source": [
    "commonM = np.linspace(0,1.0,30)\n",
    "m_in =np.array([0.0, 0.04, 0.2, 0.15, 0.1, 0.3, 0.6,0.5, 0.4, 0.6, 0.75,0.85])\n",
    "c_in =np.array([0.0, 0.03, 0.1, 0.07, 0.05, 0.36, 0.4, 0.6, 0.8, 0.9,0.9,0.9])\n",
    "v_t_in =np.array( [0.0, 0.05, 0.1,0.06, 0.04,0.2, 0.7, 0.5, 0.34, 0.9, 1.0, 1.2])"
   ]
  },
  {
   "cell_type": "markdown",
   "metadata": {},
   "source": [
    "If we plot the relationship between the EGM grid, `m_in`, and the associated, transformed values, `v_t_in`, we see that it is not an increasing function. The transformed value function is not even a function, but a correspondance, if we connect the points successively."
   ]
  },
  {
   "cell_type": "code",
   "execution_count": 96,
   "metadata": {
    "scrolled": true
   },
   "outputs": [
    {
     "data": {
      "text/plain": [
       "<matplotlib.collections.PathCollection at 0x7f1a986fa6d8>"
      ]
     },
     "execution_count": 96,
     "metadata": {},
     "output_type": "execute_result"
    },
    {
     "data": {
      "image/png": "[encoded data removed]",
      "text/plain": [
       "<Figure size 432x288 with 1 Axes>"
      ]
     },
     "metadata": {},
     "output_type": "display_data"
    }
   ],
   "source": [
    "plt.plot(m_in,v_t_in)\n",
    "plt.xlabel(\"ressources, m\")\n",
    "plt.ylabel(\"transformed values, v_t\")\n",
    "plt.scatter(commonM, commonM*0, c='k')"
   ]
  },
  {
   "cell_type": "markdown",
   "metadata": {},
   "source": [
    "All points on this \"curve\" cannot be optimal. Since the first order conditions are only necessary in this class of models, we see that EGM will deliver `(m, c, v_t)` pairs that are sub-optimal. The DCEGM algorithm essentially considers the curve above, and does two things. First, it locates all increasing regions, and then it takes these segments and labels them from `0` up to the number of increasing segments (and as a result, kinks in the value function). Second, it loops through them in sequential order, and does an upper envelope step by re-interpolating onto the common grid shown as black dots in the figure."
   ]
  },
  {
   "cell_type": "markdown",
   "metadata": {},
   "source": [
    "`calcMultilineEnvelope` does these steps. It takes in the EGM ressource grid, `m_in`, consumption, `c_in`, transformed values (or original values, as the transformation function is monotonically increasing), `v_t_in`, as well as the grid to interpolate onto and calculate the envelope on."
   ]
  },
  {
   "cell_type": "code",
   "execution_count": 93,
   "metadata": {},
   "outputs": [],
   "source": [
    "m_out, c_out, v_out = calcMultilineEnvelope(m_in, c_in, v_t_in, commonM)"
   ]
  },
  {
   "cell_type": "markdown",
   "metadata": {},
   "source": [
    "Plotting the output, we see that we have indeed constructed the upper envelope. The DCEGM algorithm allows for a relatively dense common grid, so it is possible to get a quite accurate approximation to the values associated with optimal choices, given the EGM step delivered sufficiently precise segments."
   ]
  },
  {
   "cell_type": "code",
   "execution_count": 97,
   "metadata": {},
   "outputs": [
    {
     "data": {
      "text/plain": [
       "<matplotlib.collections.PathCollection at 0x7f1a9898e320>"
      ]
     },
     "execution_count": 97,
     "metadata": {},
     "output_type": "execute_result"
    },
    {
     "data": {
      "image/png": "[encoded data removed]",
      "text/plain": [
       "<Figure size 432x288 with 1 Axes>"
      ]
     },
     "metadata": {},
     "output_type": "display_data"
    }
   ],
   "source": [
    "plt.plot(m_out, v_out, 'r')\n",
    "plt.plot(mm, vt, 'g:')\n",
    "plt.scatter(commonM, commonM*0, c='k')\n",
    "plt.xlabel('ressources, m')\n",
    "plt.ylabel('transformed values, v_t')"
   ]
  },
  {
   "cell_type": "markdown",
   "metadata": {},
   "source": [
    "We can also look at the consumption function that emerges when we weed out the sub-optimal choices."
   ]
  },
  {
   "cell_type": "code",
   "execution_count": 98,
   "metadata": {},
   "outputs": [
    {
     "data": {
      "text/plain": [
       "Text(0,0.5,'consumption, c')"
      ]
     },
     "execution_count": 98,
     "metadata": {},
     "output_type": "execute_result"
    },
    {
     "data": {
      "image/png": "[encoded data removed]",
      "text/plain": [
       "<Figure size 432x288 with 1 Axes>"
      ]
     },
     "metadata": {},
     "output_type": "display_data"
    }
   ],
   "source": [
    "plt.plot(m_out, c_out, 'r')\n",
    "plt.plot(m_in, cc,  'g:')\n",
    "plt.scatter(commonM, commonM*0, c='k')\n",
    "plt.xlabel('ressources, m')\n",
    "plt.ylabel('consumption, c')"
   ]
  },
  {
   "cell_type": "code",
   "execution_count": 173,
   "metadata": {},
   "outputs": [],
   "source": [
    "commonM = np.linspace(0,10.0,30)\n",
    "m_in = np.array([1.0, 2.0, 3.0, 2.5, 2.0, 4.0, 5.0, 6.0])\n",
    "c_in = np.array([1.0, 2.0, 3.0, 2.5, 2.0, 4.0, 5.0, 6.0])\n",
    "v_in = np.array([0.5, 1.0, 1.5, 0.75, 0.5, 3.5, 5.0, 7.0])"
   ]
  },
  {
   "cell_type": "code",
   "execution_count": 177,
   "metadata": {},
   "outputs": [],
   "source": [
    "slope_1 = (1.5 - 1.0)/(3.0 - 2.0)\n",
    "slope_2 = (3.5 - 0.5)/(4.0 - 2.0)\n",
    "m_cross = 2.0 + (0.5 - 1.0)/(slope_1 - slope_2)"
   ]
  },
  {
   "cell_type": "code",
   "execution_count": 178,
   "metadata": {},
   "outputs": [
    {
     "data": {
      "text/plain": [
       "<matplotlib.collections.PathCollection at 0x7f1a979b0668>"
      ]
     },
     "execution_count": 178,
     "metadata": {},
     "output_type": "execute_result"
    },
    {
     "data": {
      "image/png": "[encoded data removed]",
      "text/plain": [
       "<Figure size 432x288 with 1 Axes>"
      ]
     },
     "metadata": {},
     "output_type": "display_data"
    }
   ],
   "source": [
    "m_out, c_out, v_out = calcMultilineEnvelope(m_in, c_in, v_in, commonM)\n",
    "plt.plot(m_in, v_in, 'g:')\n",
    "#plt.plot(m_out, v_out)\n",
    "plt.xlabel('ressources, m')\n",
    "plt.ylabel('transformed values, v_t')\n",
    "plt.scatter(m_cross, 1.0+(m_cross-2.0)*slope_1, c='k')"
   ]
  },
  {
   "cell_type": "code",
   "execution_count": 188,
   "metadata": {},
   "outputs": [],
   "source": [
    "np.append(m_out, 3).sort()"
   ]
  },
  {
   "cell_type": "code",
   "execution_count": 179,
   "metadata": {},
   "outputs": [
    {
     "data": {
      "text/plain": [
       "2.5"
      ]
     },
     "execution_count": 179,
     "metadata": {},
     "output_type": "execute_result"
    }
   ],
   "source": [
    "np.argwhere()"
   ]
  },
  {
   "cell_type": "code",
   "execution_count": 180,
   "metadata": {},
   "outputs": [],
   "source": [
    "m=m_cross"
   ]
  },
  {
   "cell_type": "code",
   "execution_count": 181,
   "metadata": {},
   "outputs": [
    {
     "data": {
      "text/plain": [
       "3.25"
      ]
     },
     "execution_count": 181,
     "metadata": {},
     "output_type": "execute_result"
    }
   ],
   "source": [
    "1.0 + (2.0+m)*slope_1"
   ]
  },
  {
   "cell_type": "code",
   "execution_count": 182,
   "metadata": {},
   "outputs": [
    {
     "data": {
      "text/plain": [
       "7.55"
      ]
     },
     "execution_count": 182,
     "metadata": {},
     "output_type": "execute_result"
    }
   ],
   "source": [
    "0.8 + (2.0+m)*slope_2"
   ]
  },
  {
   "cell_type": "code",
   "execution_count": 183,
   "metadata": {},
   "outputs": [
    {
     "data": {
      "text/plain": [
       "3.75"
      ]
     },
     "execution_count": 183,
     "metadata": {},
     "output_type": "execute_result"
    }
   ],
   "source": [
    " m_cross*slope_2"
   ]
  },
  {
   "cell_type": "code",
   "execution_count": 212,
   "metadata": {},
   "outputs": [],
   "source": [
    "slope_1 = (1.5 - 1.0)/(3.0 - 2.0)\n",
    "slope_2 = (3.5 - 0.5)/(4.0 - 2.0)\n",
    "m_cross = 2.0+(0.5 - 1.0)/(slope_1 - slope_2)"
   ]
  },
  {
   "cell_type": "code",
   "execution_count": 213,
   "metadata": {},
   "outputs": [
    {
     "data": {
      "text/plain": [
       "2.5"
      ]
     },
     "execution_count": 213,
     "metadata": {},
     "output_type": "execute_result"
    }
   ],
   "source": [
    "m_cross"
   ]
  },
  {
   "cell_type": "code",
   "execution_count": 224,
   "metadata": {},
   "outputs": [],
   "source": [
    "\n",
    "m_out, c_out, v_out = calcMultilineEnvelope(m_in, c_in, v_in, commonM)\n",
    "\n",
    "m_idx = 0"
   ]
  },
  {
   "cell_type": "code",
   "execution_count": 225,
   "metadata": {},
   "outputs": [],
   "source": [
    "for m in m_out:\n",
    "            if m > m_cross:\n",
    "                break\n",
    "                \n",
    "            m_idx += 1"
   ]
  },
  {
   "cell_type": "code",
   "execution_count": 226,
   "metadata": {},
   "outputs": [
    {
     "data": {
      "text/plain": [
       "8"
      ]
     },
     "execution_count": 226,
     "metadata": {},
     "output_type": "execute_result"
    }
   ],
   "source": [
    "m_idx"
   ]
  },
  {
   "cell_type": "code",
   "execution_count": 231,
   "metadata": {},
   "outputs": [
    {
     "data": {
      "text/plain": [
       "2.7586206896551726"
      ]
     },
     "execution_count": 231,
     "metadata": {},
     "output_type": "execute_result"
    }
   ],
   "source": [
    "m_out[m_idx]"
   ]
  },
  {
   "cell_type": "code",
   "execution_count": 232,
   "metadata": {},
   "outputs": [
    {
     "data": {
      "text/plain": [
       "1.5"
      ]
     },
     "execution_count": 232,
     "metadata": {},
     "output_type": "execute_result"
    }
   ],
   "source": [
    "slope_2"
   ]
  },
  {
   "cell_type": "code",
   "execution_count": 243,
   "metadata": {},
   "outputs": [
    {
     "data": {
      "text/plain": [
       "True"
      ]
     },
     "execution_count": 243,
     "metadata": {},
     "output_type": "execute_result"
    }
   ],
   "source": [
    "# Just right of the cross, the second segment is optimal\n",
    "true_v = 0.5 + (m_out[m_idx]-2.0)*slope_2\n",
    "\n",
    "abs(v_out[m_idx] - true_v) < 1e-12"
   ]
  },
  {
   "cell_type": "code",
   "execution_count": 240,
   "metadata": {},
   "outputs": [
    {
     "data": {
      "text/plain": [
       "1.637931034482759"
      ]
     },
     "execution_count": 240,
     "metadata": {},
     "output_type": "execute_result"
    }
   ],
   "source": [
    "true_v"
   ]
  },
  {
   "cell_type": "code",
   "execution_count": 241,
   "metadata": {},
   "outputs": [
    {
     "data": {
      "text/plain": [
       "1.637931034482759"
      ]
     },
     "execution_count": 241,
     "metadata": {},
     "output_type": "execute_result"
    }
   ],
   "source": [
    "v_out[m_idx]"
   ]
  },
  {
   "cell_type": "code",
   "execution_count": 230,
   "metadata": {},
   "outputs": [
    {
     "data": {
      "text/plain": [
       "array([ 0.        ,  0.34482759,  0.68965517,  1.03448276,  1.37931034,\n",
       "        1.72413793,  2.06896552,  2.4137931 ,  2.75862069,  3.10344828,\n",
       "        3.44827586,  3.79310345,  4.13793103,  4.48275862,  4.82758621,\n",
       "        5.17241379,  5.51724138,  5.86206897,  6.20689655,  6.55172414,\n",
       "        6.89655172,  7.24137931,  7.5862069 ,  7.93103448,  8.27586207,\n",
       "        8.62068966,  8.96551724,  9.31034483,  9.65517241, 10.        ])"
      ]
     },
     "execution_count": 230,
     "metadata": {},
     "output_type": "execute_result"
    }
   ],
   "source": [
    "m_out"
   ]
  },
  {
   "cell_type": "code",
   "execution_count": null,
   "metadata": {},
   "outputs": [],
   "source": []
  },
  {
   "cell_type": "code",
   "execution_count": null,
   "metadata": {},
   "outputs": [],
   "source": []
  }
 ],
 "metadata": {
  "@webio": {
   "lastCommId": "a431c586257c495a891bebabb61d62d8",
   "lastKernelId": "30fd8584-b643-41e9-ac16-833012592154"
  },
  "kernelspec": {
   "display_name": "Python 3",
   "language": "python",
   "name": "python3"
  },
  "language_info": {
   "codemirror_mode": {
    "name": "ipython",
    "version": 3
   },
   "file_extension": ".py",
   "mimetype": "text/x-python",
   "name": "python",
   "nbconvert_exporter": "python",
   "pygments_lexer": "ipython3",
   "version": "3.6.5"
  }
 },
 "nbformat": 4,
 "nbformat_minor": 2
}
