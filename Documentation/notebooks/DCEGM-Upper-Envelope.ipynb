{
 "cells": [
  {
   "cell_type": "markdown",
   "metadata": {},
   "source": [
    "# DCEGM Upper Envelope\n",
    "## [\"The endogenous grid method for discrete-continuous dynamic choice models with (or without) taste shocks\"](https://onlinelibrary.wiley.com/doi/abs/10.3982/QE643)\n",
    "\n",
    "<p style=\"text-align: center;\"><small><small><small>For the following badges: GitHub does not allow click-through redirects; right-click to get the link, then paste into navigation bar</small></small></small></p>\n",
    "\n",
    "[![Open in Binder](https://mybinder.org/badge_logo.svg)](https://mybinder.org/v2/gh/econ-ark/DemARK/master?filepath=notebooks%2FDCEGM-Upper-Envelope.ipynb)\n",
    "\n",
    "[![Open in CoLab](https://colab.research.google.com/assets/colab-badge.svg)](https://colab.research.google.com/github/econ-ark/DemARK/blob/master/notebooks/DCEGM-Upper-Envelope.ipynb)\n",
    "\n",
    "\n",
    "\n",
    "This notebook provides a simple introduction to the upper envelope calculation in the \"DCEGM\" algorithm <cite data-cite=\"6202365/4F64GG8F\"></cite>. It takes the EGM method proposed in <cite data-cite=\"6202365/HQ6H9JEI\"></cite>, and extends it to the mixed choice (discrete and continuous) case. It handles various constraints. It works on a 1-dimensional problems.\n",
    "\n",
    "The main challenge in the types of models considered in DCEGM is, that the first order conditions to the Bellman equations are no longer sufficient to find an optimum.  Though, they are still necessary in a broad class of models. This means that our EGM step will give us (resource, consumption) pairs that do fulfill the FOCs, but that are sub-optimal (there's another consumption choices for the same initial resources that gives a higher value).\n",
    "\n",
    "Take a consumption model formulated as:\n",
    "$$\n",
    "\\max_{\\{c_t\\}^T_{t=1}} \\sum^T_{t=1}\\beta^t\\cdot u(c_t)\n",
    "$$\n",
    "given some initial condition on $x$ and some laws of motion for the states, though explicit references to states are omitted. Then, if we're in a class of models described in EGM\n",
    ", we can show that\n",
    "$$\n",
    "c_t = {u_{c}}^{-1}[E_t(u_c(c_{t+1}))]\n",
    "$$\n",
    "uniquely determines an optimal consumption today given the expected marginal utility of consuming  tomorrow. However, if there is a another choice in the choice set, and that choice is discrete, we get\n",
    "$$\n",
    "\\max_{\\{c_t, d_t\\}^T_{t=1}} \\sum^T_{t=1}\\beta^t\\cdot u(c_t, d_t)\n",
    "$$\n",
    "again given initial conditions and the laws of motion. Then, we can show that\n",
    "$$\n",
    "c_t = {u_{c}}^{-1}[E_t(u_c(c_{t+1}))]\n",
    "$$\n",
    "will produce solutions that are necessary but not sufficient. Note, that there is no explicit mentioning of the discrete choices in the expectation, but they obviously vary over the realized states in general. For the optimal consumption, it doesn't matter what the choice is exactly, only what expected marginal utility is tomorrow. The algorithm presented in [1] is designed to take advantage of models with this structure.\n",
    "\n",
    "To visualize the problem, consider the following pictures that show the output of an EGM step from the model in the REMARK [linkhere]."
   ]
  },
  {
   "cell_type": "code",
   "execution_count": 1,
   "metadata": {},
   "outputs": [],
   "source": [
    "# imports\n",
    "import numpy as np\n",
    "import matplotlib.pyplot as plt"
   ]
  },
  {
   "cell_type": "code",
   "execution_count": null,
   "metadata": {},
   "outputs": [],
   "source": [
    "# here for now, should be\n",
    "# from HARK import discontools or whatever name is chosen\n",
    "from HARK.interpolation import LinearInterp\n",
    "\n",
    "def dcegmSegments(x, v):\n",
    "    \"\"\"\n",
    "    Find index vectors `rise` and `fall` such that `rise` holds the indices `i`\n",
    "    such that x[i+1]>x[i] and `fall` holds indices `j` such that either\n",
    "    - x[j+1] < x[j] or,\n",
    "    - x[j]>x[j-1] and v[j]<v[j-1].\n",
    "\n",
    "    The vectors are essential to the DCEGM algorithm, as they definite the\n",
    "    relevant intervals to be used to construct the upper envelope of potential\n",
    "    solutions to the (necessary) first order conditions.\n",
    "\n",
    "    Parameters\n",
    "    ----------\n",
    "    x : np.ndarray\n",
    "        array of points where `v` is evaluated\n",
    "    v : np.ndarray\n",
    "        array of values of some function of `x`\n",
    "\n",
    "    Returns\n",
    "    -------\n",
    "    rise : np.ndarray\n",
    "        see description above\n",
    "    fall : np.ndarray\n",
    "        see description above\n",
    "    \"\"\"\n",
    "    # NOTE: assumes that the first segment is in fact increasing (forced in EGM\n",
    "    # by augmentation with the constrained segment).\n",
    "    # elements in common grid g\n",
    "\n",
    "    # Identify index intervals of falling and rising regions\n",
    "    # We need these to construct the upper envelope because we need to discard\n",
    "    # solutions from the inverted Euler equations that do not represent optimal\n",
    "    # choices (the FOCs are only necessary in these models).\n",
    "    #\n",
    "    # `fall` is a vector of indices that represent the first elements in all\n",
    "    # of the falling segments (the curve can potentially fold several times)\n",
    "    fall = np.empty(0, dtype=int) # initialize with empty and then add the last point below while-loop\n",
    "\n",
    "    rise = np.array([0]) # Initialize such thatthe lowest point is the first grid point\n",
    "    i = 1 # Initialize\n",
    "    while i <= len(x) - 2:\n",
    "        # Check if the next (`ip1` stands for i plus 1) grid point is below the\n",
    "        # current one, such that the line is folding back.\n",
    "        ip1_falls = x[i+1] < x[i] # true if grid decreases on index increment\n",
    "        i_rose = x[i] > x[i-1] # true if grid decreases on index decrement\n",
    "        val_fell = v[i] < v[i-1] # true if value rises on index decrement\n",
    "\n",
    "        if (ip1_falls and i_rose) or (val_fell and i_rose):\n",
    "\n",
    "            # we are in a region where the endogenous grid is decreasing or\n",
    "            # the value function rises by stepping back in the grid.\n",
    "            fall = np.append(fall, i) # add the index to the vector\n",
    "\n",
    "            # We now iterate from the current index onwards until we find point\n",
    "            # where resources rises again. Unfortunately, we need to check\n",
    "            # each points, as there can be multiple spells of falling endogenous\n",
    "            # grids, so we cannot use bisection or some other fast algorithm.\n",
    "            k = i\n",
    "            while x[k+1] < x[k]:\n",
    "                k = k + 1\n",
    "            # k now holds either the next index the starts a new rising\n",
    "            # region, or it holds the length of M, `m_len`.\n",
    "\n",
    "            rise = np.append(rise, k)\n",
    "\n",
    "            # Set the index to the point where resources again is rising\n",
    "            i = k\n",
    "\n",
    "        i = i + 1\n",
    "\n",
    "    fall = np.append(fall, len(v)-1)\n",
    "\n",
    "    return rise, fall\n",
    "# think! nanargmax makes everythign super ugly because numpy changed the wraning\n",
    "# in all nan slices to a valueerror...it's nans, aaarghgghg\n",
    "def calcMultilineEnvelope(M, C, V_T, commonM):\n",
    "    \"\"\"\n",
    "    Do the envelope step of the DCEGM algorithm. Takes in market ressources,\n",
    "    consumption levels, and inverse values from the EGM step. These represent\n",
    "    (m, c) pairs that solve the necessary first order conditions. This function\n",
    "    calculates the optimal (m, c, v_t) pairs on the commonM grid.\n",
    "\n",
    "    Parameters\n",
    "    ----------\n",
    "    M : np.array\n",
    "        market ressources from EGM step\n",
    "    C : np.array\n",
    "        consumption from EGM step\n",
    "    V_T : np.array\n",
    "        transformed values at the EGM grid\n",
    "    commonM : np.array\n",
    "        common grid to do upper envelope calculations on\n",
    "\n",
    "    Returns\n",
    "    -------\n",
    "\n",
    "\n",
    "    \"\"\"\n",
    "    m_len = len(commonM)\n",
    "    rise, fall = dcegmSegments(M, V_T)\n",
    "\n",
    "    # Add the last point to the vector for convenience below\n",
    "    num_kinks = len(fall) # number of kinks / falling EGM grids\n",
    "\n",
    "    # Use these segments to sequentially find upper envelopes. commonVARNAME\n",
    "    # means the VARNAME evaluated on the common grid with a cloumn for each kink\n",
    "    # discovered in dcegmSegments. This means that commonVARNAME is a matrix\n",
    "    # common grid length-by-number of segments to consider. In the end, we'll\n",
    "    # use nanargmax over the columns to pick out the best (transformed) values.\n",
    "    # This is why we fill the arrays with np.nan's.\n",
    "    commonV_T = np.empty((m_len, num_kinks))\n",
    "    commonV_T[:] = np.nan\n",
    "    commonC = np.empty((m_len, num_kinks))\n",
    "    commonC[:] = np.nan\n",
    "\n",
    "    # Now, loop over all segments as defined by the \"kinks\" or the combination\n",
    "    # of \"rise\" and \"fall\" indices. These (rise[j], fall[j]) pairs define regions\n",
    "    for j in range(num_kinks):\n",
    "        # Find points in the common grid that are in the range of the points in\n",
    "        # the interval defined by (rise[j], fall[j]).\n",
    "        below = M[rise[j]] >= commonM # boolean array of bad indices below\n",
    "        above = M[fall[j]] <= commonM # boolen array of bad indices above\n",
    "        in_range = below + above == 0 # pick out elements that are neither\n",
    "\n",
    "        # create range of indices in the input arrays\n",
    "        idxs = range(rise[j], fall[j]+1)\n",
    "        # grab ressource values at the relevant indices\n",
    "        m_idx_j = M[idxs]\n",
    "\n",
    "        # based in in_range, find the relevant ressource values to interpolate\n",
    "        m_eval = commonM[in_range]\n",
    "\n",
    "        # re-interpolate to common grid\n",
    "        commonV_T[in_range,j] = LinearInterp(m_idx_j, V_T[idxs], lower_extrap=True)(m_eval)\n",
    "        commonC[in_range,j]  = LinearInterp(m_idx_j, C[idxs], lower_extrap=True)(m_eval) # Interpolat econsumption also. May not be nesserary\n",
    "    # for each row in the commonV_T matrix, see if all entries are np.nan. This\n",
    "    # would mean that we have no valid value here, so we want to use this boolean\n",
    "    # vector to filter out irrelevant entries of commonV_T.\n",
    "    row_all_nan = np.array([np.all(np.isnan(row)) for row in commonV_T])\n",
    "    # Now take the max of all these line segments.\n",
    "    idx_max = np.zeros(commonM.size, dtype = int)\n",
    "    idx_max[row_all_nan == False] = np.nanargmax(commonV_T[row_all_nan == False], axis=1)\n",
    "\n",
    "    # prefix with upper for variable that are \"upper enveloped\"\n",
    "    upperV_T = np.zeros(m_len)\n",
    "\n",
    "    # Set the non-nan rows to the maximum over columns\n",
    "    upperV_T[row_all_nan == False] = np.nanmax(commonV_T[row_all_nan == False, :], axis=1)\n",
    "    # Set the rest to nan\n",
    "    upperV_T[row_all_nan] = np.nan\n",
    "\n",
    "    # Add the zero point in the bottom\n",
    "    if np.isnan(upperV_T[0]):\n",
    "        # in transformed space space, utility of zero-consumption (-inf) is 0.0\n",
    "        upperV_T[0] = 0.0\n",
    "        # commonM[0] is typically 0, so this is safe, but maybe it should be 0.0\n",
    "        commonC[0]  = commonM[0]\n",
    "\n",
    "    # Extrapolate if NaNs are introduced due to the common grid\n",
    "    # going outside all the sub-line segments\n",
    "    IsNaN = np.isnan(upperV_T)\n",
    "    upperV_T[IsNaN] = LinearInterp(commonM[IsNaN == False], upperV_T[IsNaN == False])(commonM[IsNaN])\n",
    "\n",
    "\n",
    "    LastBeforeNaN = np.append(np.diff(IsNaN)>0, 0)\n",
    "    LastId = LastBeforeNaN*idx_max # Find last id-number\n",
    "    idx_max[IsNaN] = LastId[IsNaN]\n",
    "    # Linear index used to get optimal consumption based on \"id\"  from max\n",
    "    ncols = commonC.shape[1]\n",
    "    rowidx = np.cumsum(ncols*np.ones(len(commonM), dtype=int))-ncols\n",
    "    idx_linear = np.unravel_index(rowidx+idx_max, commonC.shape)\n",
    "    upperC = commonC[idx_linear]\n",
    "    upperC[IsNaN] = LinearInterp(commonM[IsNaN==0], upperC[IsNaN==0])(commonM[IsNaN])\n",
    "\n",
    "    # TODO calculate cross points of line segments to get the true vertical drops\n",
    "\n",
    "    upperM = commonM.copy() # anticipate this TODO\n",
    "\n",
    "    return upperM, upperC, upperV_T\n"
   ]
  },
  {
   "cell_type": "code",
   "execution_count": 3,
   "metadata": {},
   "outputs": [],
   "source": [
    "m_common = np.linspace(0,1.0,100)\n",
    "m_egm = np.array([0.0, 0.04, 0.25, 0.15, 0.1, 0.3, 0.6,0.5, 0.35, 0.6, 0.75,0.85])\n",
    "c_egm = np.array([0.0, 0.03, 0.1, 0.07, 0.05, 0.36, 0.4, 0.6, 0.8, 0.9,0.9,0.9])\n",
    "vt_egm = np.array( [0.0, 0.05, 0.1,0.04, 0.02,0.2, 0.7, 0.5, 0.2, 0.9, 1.0, 1.2])"
   ]
  },
  {
   "cell_type": "code",
   "execution_count": 4,
   "metadata": {},
   "outputs": [
    {
     "data": {
      "text/plain": [
       "Text(0,0.5,'transformed values')"
      ]
     },
     "execution_count": 4,
     "metadata": {},
     "output_type": "execute_result"
    },
    {
     "data": {
      "image/png": "[encoded data removed]",
      "text/plain": [
       "<Figure size 432x288 with 1 Axes>"
      ]
     },
     "metadata": {},
     "output_type": "display_data"
    }
   ],
   "source": [
    "plt.plot(m_egm, vt_egm)\n",
    "plt.xlabel(\"resources\")\n",
    "plt.ylabel(\"transformed values\")"
   ]
  },
  {
   "cell_type": "code",
   "execution_count": 5,
   "metadata": {},
   "outputs": [
    {
     "data": {
      "text/plain": [
       "Text(0,0.5,'consumption')"
      ]
     },
     "execution_count": 5,
     "metadata": {},
     "output_type": "execute_result"
    },
    {
     "data": {
      "image/png": "[encoded data removed]",
      "text/plain": [
       "<Figure size 432x288 with 1 Axes>"
      ]
     },
     "metadata": {},
     "output_type": "display_data"
    }
   ],
   "source": [
    "plt.plot(m_egm, c_egm)\n",
    "plt.xlabel(\"resources\")\n",
    "plt.ylabel(\"consumption\")"
   ]
  },
  {
   "cell_type": "markdown",
   "metadata": {},
   "source": [
    "The point of DCEGM is to realize, that the segments on the `(m, vt)` curve that are decreasing, cannot be optimal. This leaves us with a set of increasing line segments, as seen below (`dcegmSegments` is the function in HARK that calculates the breaks where the curve goes from increasing to decreasing)."
   ]
  },
  {
   "cell_type": "code",
   "execution_count": 6,
   "metadata": {},
   "outputs": [],
   "source": [
    "rise, fall = dcegmSegments(m_egm, vt_egm)"
   ]
  },
  {
   "cell_type": "markdown",
   "metadata": {},
   "source": [
    "In `rise` we have all the starting indices for the segments that are \"good\", that is `(m, vt)` draws an increasing curve."
   ]
  },
  {
   "cell_type": "code",
   "execution_count": 7,
   "metadata": {},
   "outputs": [
    {
     "data": {
      "text/plain": [
       "array([0, 4, 8])"
      ]
     },
     "execution_count": 7,
     "metadata": {},
     "output_type": "execute_result"
    }
   ],
   "source": [
    "rise"
   ]
  },
  {
   "cell_type": "markdown",
   "metadata": {},
   "source": [
    "We see that `rise` has its first index at `0`, then again at `4`, and lastly at `8`. Let's look at `fall`."
   ]
  },
  {
   "cell_type": "code",
   "execution_count": 8,
   "metadata": {},
   "outputs": [
    {
     "data": {
      "text/plain": [
       "array([ 2,  6, 11])"
      ]
     },
     "execution_count": 8,
     "metadata": {},
     "output_type": "execute_result"
    }
   ],
   "source": [
    "fall"
   ]
  },
  {
   "cell_type": "markdown",
   "metadata": {},
   "source": [
    "We see that the last segment is increasing (as the last element of `rise` is larger than the last element of `fall`), and we see that `len(fall)` is one larger than number of problematic segments in the plot. The index of the last point in `m_egm`/`c_egm`/`vt_egm` is added for convenience when we do the upper envelope step (and is also convenient below for drawing the segments!).\n",
    "\n",
    "We can use `fall` and `rise` to draw only the relevant segments that we will use to construct an upper envelope."
   ]
  },
  {
   "cell_type": "code",
   "execution_count": 9,
   "metadata": {},
   "outputs": [
    {
     "data": {
      "text/plain": [
       "Text(0,0.5,'transformed values')"
      ]
     },
     "execution_count": 9,
     "metadata": {},
     "output_type": "execute_result"
    },
    {
     "data": {
      "image/png": "[encoded data removed]",
      "text/plain": [
       "<Figure size 432x288 with 1 Axes>"
      ]
     },
     "metadata": {},
     "output_type": "display_data"
    }
   ],
   "source": [
    "for j in range(len(fall)):\n",
    "    idx = range(rise[j],fall[j]+1)\n",
    "    plt.plot(m_egm[idx], vt_egm[idx])\n",
    "plt.xlabel(\"resources\")\n",
    "plt.ylabel(\"transformed values\")"
   ]
  },
  {
   "cell_type": "markdown",
   "metadata": {},
   "source": [
    "Let us now use the `calcMultilineEnvelope` function to do the full DCEGM step: find segments and calculate upper envelope in one sweep."
   ]
  },
  {
   "cell_type": "code",
   "execution_count": 10,
   "metadata": {},
   "outputs": [],
   "source": [
    "m_upper, c_upper, v_upper = calcMultilineEnvelope(m_egm, c_egm, vt_egm, m_common)"
   ]
  },
  {
   "cell_type": "code",
   "execution_count": 11,
   "metadata": {},
   "outputs": [
    {
     "data": {
      "text/plain": [
       "Text(0,0.5,'transformed values')"
      ]
     },
     "execution_count": 11,
     "metadata": {},
     "output_type": "execute_result"
    },
    {
     "data": {
      "image/png": "[encoded data removed]",
      "text/plain": [
       "<Figure size 432x288 with 1 Axes>"
      ]
     },
     "metadata": {},
     "output_type": "display_data"
    }
   ],
   "source": [
    "for j in range(len(fall)):\n",
    "    idx = range(rise[j],fall[j]+1)\n",
    "    plt.plot(m_egm[idx], vt_egm[idx])\n",
    "plt.plot(m_upper, v_upper, 'k')\n",
    "plt.xlabel(\"resources\")\n",
    "plt.ylabel(\"transformed values\")"
   ]
  },
  {
   "cell_type": "markdown",
   "metadata": {},
   "source": [
    "And there we have it! These functions are the building blocks for univariate discrete choice modeling in HARK, so hopefully this little demo helped better understand what goes on under the hood, or it was a help if you're extending some existing class with a discrete choice."
   ]
  },
  {
   "cell_type": "markdown",
   "metadata": {},
   "source": [
    "# References\n",
    "[1] Iskhakov, F. , Jørgensen, T. H., Rust, J. and Schjerning, B. (2017), The endogenous grid method for discrete‐continuous dynamic choice models with (or without) taste shocks. Quantitative Economics, 8: 317-365. doi:10.3982/QE643\n",
    "\n",
    "[2] Carroll, C. D. (2006). The method of endogenous gridpoints for solving dynamic stochastic optimization problems. Economics letters, 91(3), 312-320.\n",
    "\n"
   ]
  }
 ],
 "metadata": {
  "cite2c": {
   "citations": {
    "6202365/4F64GG8F": {
     "DOI": "10.3982/QE643",
     "URL": "https://onlinelibrary.wiley.com/doi/abs/10.3982/QE643",
     "abstract": "We present a fast and accurate computational method for solving and estimating a class of dynamic programming models with discrete and continuous choice variables. The solution method we develop for structural estimation extends the endogenous grid-point method (EGM) to discrete-continuous (DC) problems. Discrete choices can lead to kinks in the value functions and discontinuities in the optimal policy rules, greatly complicating the solution of the model. We show how these problems are ameliorated in the presence of additive choice-specific independent and identically distributed extreme value taste shocks that are typically interpreted as “unobserved state variables” in structural econometric applications, or serve as “random noise” to smooth out kinks in the value functions in numerical applications. We present Monte Carlo experiments that demonstrate the reliability and efficiency of the DC-EGM algorithm and the associated maximum likelihood estimator for structural estimation of a life-cycle model of consumption with discrete retirement decisions.",
     "accessed": {
      "day": 21,
      "month": 3,
      "year": 2019
     },
     "author": [
      {
       "family": "Iskhakov",
       "given": "Fedor"
      },
      {
       "family": "Jørgensen",
       "given": "Thomas H."
      },
      {
       "family": "Rust",
       "given": "John"
      },
      {
       "family": "Schjerning",
       "given": "Bertel"
      }
     ],
     "container-title": "Quantitative Economics",
     "id": "6202365/4F64GG8F",
     "issue": "2",
     "issued": {
      "year": 2017
     },
     "language": "en",
     "note": "bibtex:ijrsDCEGM2017\n\nhttps://github.com/econ-ark/REMARK/blob/master/remarks\n\nhttps://github.com/econ-ark/DemARK/blob/master/notebooks\n\nfrom HARK import DCEGM",
     "page": "317-365",
     "page-first": "317",
     "title": "The endogenous grid method for discrete-continuous dynamic choice models with (or without) taste shocks",
     "type": "article-journal",
     "volume": "8"
    },
    "6202365/HQ6H9JEI": {
     "DOI": "10.1016/j.econlet.2005.09.013",
     "URL": "http://econ.jhu.edu/people/ccarroll/EndogenousArchive.zip",
     "author": [
      {
       "family": "Carroll",
       "given": "Christopher D."
      }
     ],
     "container-title": "Economics Letters",
     "id": "6202365/HQ6H9JEI",
     "issued": {
      "month": 9,
      "year": 2006
     },
     "page": "312–320",
     "page-first": "312",
     "title": "The Method of Endogenous Gridpoints for Solving Dynamic Stochastic Optimization Problems",
     "type": "article-journal"
    }
   }
  },
  "jupytext": {
   "cell_metadata_filter": "collapsed",
   "formats": "ipynb,py:light",
   "rst2md": false
  },
  "kernelspec": {
   "display_name": "Python 3",
   "language": "python",
   "name": "python3"
  },
  "language_info": {
   "codemirror_mode": {
    "name": "ipython",
    "version": 3
   },
   "file_extension": ".py",
   "mimetype": "text/x-python",
   "name": "python",
   "nbconvert_exporter": "python",
   "pygments_lexer": "ipython3",
   "version": "3.6.7"
  },
  "latex_envs": {
   "LaTeX_envs_menu_present": true,
   "autoclose": false,
   "autocomplete": true,
   "bibliofile": "biblio.bib",
   "cite_by": "apalike",
   "current_citInitial": 1,
   "eqLabelWithNumbers": true,
   "eqNumInitial": 1,
   "hotkeys": {
    "equation": "Ctrl-E",
    "itemize": "Ctrl-I"
   },
   "labels_anchors": false,
   "latex_user_defs": false,
   "report_style_numbering": false,
   "user_envs_cfg": false
  },
  "varInspector": {
   "cols": {
    "lenName": 16,
    "lenType": 16,
    "lenVar": 40
   },
   "kernels_config": {
    "python": {
     "delete_cmd_postfix": "",
     "delete_cmd_prefix": "del ",
     "library": "var_list.py",
     "varRefreshCmd": "print(var_dic_list())"
    },
    "r": {
     "delete_cmd_postfix": ") ",
     "delete_cmd_prefix": "rm(",
     "library": "var_list.r",
     "varRefreshCmd": "cat(var_dic_list()) "
    }
   },
   "types_to_exclude": [
    "module",
    "function",
    "builtin_function_or_method",
    "instance",
    "_Feature"
   ],
   "window_display": false
  }
 },
 "nbformat": 4,
 "nbformat_minor": 2
}
