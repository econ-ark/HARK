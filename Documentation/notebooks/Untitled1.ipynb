{
 "cells": [
  {
   "cell_type": "code",
   "execution_count": null,
   "metadata": {},
   "outputs": [],
   "source": [
    "import sys \n",
    "import os\n",
    "\n",
    "sys.path.insert(0, os.path.abspath('..'))\n",
    "\n",
    "\n",
    "prob_dead = np.genfromtxt('life_table.csv', delimiter=',', skip_header =1)\n",
    "prob_surv = 1 - prob_dead\n",
    "prob_surv_list= np.ndarray.tolist(prob_surv[:80])\n",
    "\n",
    "income_profile = np.genfromtxt('productivity_profile.csv', delimiter=',', skip_header =1)\n",
    "income_profile_list=np.ndarray.tolist(income_profile[:80])\n",
    "\n",
    "Ex_dictionary = {\n",
    "    'CRRA' : 2.0,\n",
    "    'Rfree' : 1.05,\n",
    "    'DiscFac' : 0.99,\n",
    "    'LivPrb' : prob_surv_list,\n",
    "    'PermGroFac' : income_profile_list,\n",
    "    'cycles' : 1,\n",
    "    'T_cycle' : 1,\n",
    "}\n",
    "\n",
    "Ex_agent = PerfForesightConsumerType(**Ex_dictionary)\n",
    "Ex_agent.solve()\n",
    "\n",
    "Ex_agent.unpackcFunc()\n",
    "\n",
    "min_v = min(Ex_agent.solution[t].mNrmMin for t in range(11) )\n",
    "max_v = -min_v\n",
    "print(\"Consumption functions\")\n",
    "plotFuncs(Ex_agent.cFunc[:],min_v,max_v)\n",
    "\n",
    "\n",
    "Simulation_dictionary = {  'AgentCount': 1000,\n",
    "                           'aNrmInitMean' : -10.0,\n",
    "                           'aNrmInitStd' : 0.0,\n",
    "                           'pLvlInitMean' : 0.0,\n",
    "                           'pLvlInitStd' : 0.05,\n",
    "                           'PermGroFacAgg' : 1.0,\n",
    "                           'T_cycle' : 1,\n",
    "                           'T_sim' : 2000,\n",
    "                           'T_age' : 80,\n",
    "                           'BoroCnstArt' : 0.0, \n",
    "                          }\n",
    "\n",
    "for key,value in Simulation_dictionary.items():\n",
    "    setattr(Ex_agent,key,value)\n",
    "\n",
    "Ex_agent.track_vars = ['aNrmNow','cNrmNow', 'aLvlNow']\n",
    "Ex_agent.initializeSim()\n",
    "Ex_agent.simulate()\n"
   ]
  }
 ],
 "metadata": {
  "kernelspec": {
   "display_name": "Python 3",
   "language": "python",
   "name": "python3"
  },
  "language_info": {
   "codemirror_mode": {
    "name": "ipython",
    "version": 3
   },
   "file_extension": ".py",
   "mimetype": "text/x-python",
   "name": "python",
   "nbconvert_exporter": "python",
   "pygments_lexer": "ipython3",
   "version": "3.7.3"
  }
 },
 "nbformat": 4,
 "nbformat_minor": 2
}
