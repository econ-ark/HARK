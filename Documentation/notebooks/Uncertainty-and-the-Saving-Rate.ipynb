{
 "cells": [
  {
   "cell_type": "markdown",
   "metadata": {},
   "source": [
    "# Uncertainty and Saving in Partial Equilibrium\n",
    "\n",
    "[![Binder](https://mybinder.org/badge_logo.svg)](https://mybinder.org/v2/gh/econ-ark/DemARK/master?filepath=notebooks%2FUncertainty-and-the-Saving-Rate.ipynb)\n",
    "\n",
    "Saving rates vary widely across countries, but there is no consensus about the main causes of those differences.\n",
    "\n",
    "One commonly mentioned factor is differences across countries in the degree of uncertainty that individuals face, which should induce different amounts of precautionary saving.\n",
    "\n",
    "Uncertainty might differ for \"fundamental\" reasons, having to do with, say, the volatility of demand for the goods and services supplied by the country, or might differ as a result of economic policies, such as the strucutre of the social insurance system.\n",
    "\n",
    "A challenge in evaluating the importance of precautionary motives for cross-country saving differences has been a lack of consensus about what measures of uncertainty ought, in principle, to be the right ones to look at in any attempt to measure a relationship between uncertainty and saving.\n",
    "\n",
    "This notebook uses [a standard model](https://econ.jhu.edu/people/ccarroll/papers/cstwMPC) <cite data-cite=\"6202365/7MR8GUVS\"></cite> to construct a theoretical benchmark for the relationship of saving to two kinds of uncertainty: Permanent shocks and transitory shocks to income.  \n",
    "\n",
    "Conclusions:\n",
    "1. The model implies a close to linear relationship between the variance of either kind of shock (transitory or permanent) and the saving rate\n",
    "2. The _slope_ of that relationship is much steeper for permanent than for transitory shocks\n",
    "   * Over ranges of values calibrated to be representative of microeconomically plausible magnitudes\n",
    "\n",
    "Thus, the quantitative theory of precautionary saving says that the principal determinant of precautionary saving should be the magnitude of permanent (or highly persistent) shocks to income.\n",
    "\n",
    "(Because the result was obtained in a partial equilibrium model, the conclusion applies also to attempts to measure the magnitude of precautionary saving across groups of people who face different degrees of uncertainty within a country).\n",
    "\n",
    "@authors: Derin Aksit, Tongli Zhang, Christopher Carroll"
   ]
  },
  {
   "cell_type": "code",
   "execution_count": 1,
   "metadata": {
    "code_folding": [
     0,
     11
    ]
   },
   "outputs": [],
   "source": [
    "# Boring non-HARK setup stuff\n",
    "\n",
    "Generator = True # This notebook can be used as a source for generating derivative notebooks\n",
    "nb_name = 'Uncertainty-and-the-Saving-Rate'\n",
    "\n",
    "# This is a jupytext paired notebook that autogenerates BufferStockTheory.py\n",
    "# which can be executed from a terminal command line via \"ipython BufferStockTheory.py\"\n",
    "# But a terminal does not permit inline figures, so we need to test jupyter vs terminal\n",
    "# Google \"how can I check if code is executed in the ipython notebook\"\n",
    "\n",
    "from IPython import get_ipython # In case it was run from python instead of ipython\n",
    "def in_ipynb():\n",
    "    try:\n",
    "        if str(type(get_ipython())) == \"<class 'ipykernel.zmqshell.ZMQInteractiveShell'>\":\n",
    "            return True\n",
    "        else:\n",
    "            return False\n",
    "    except NameError:\n",
    "        return False\n",
    "\n",
    "# Determine whether to make the figures inline (for spyder or jupyter)\n",
    "# vs whatever is the automatic setting that will apply if run from the terminal\n",
    "if in_ipynb():\n",
    "    # %matplotlib inline generates a syntax error when run from the shell\n",
    "    # so do this instead\n",
    "    get_ipython().run_line_magic('matplotlib', 'inline')\n",
    "else:\n",
    "    get_ipython().run_line_magic('matplotlib', 'auto')\n",
    "    print('You appear to be running from a terminal')\n",
    "    print('By default, figures will appear one by one')\n",
    "    print('Close the visible figure in order to see the next one')\n",
    "\n",
    "# Import the plot-figure library matplotlib\n",
    "\n",
    "import matplotlib.pyplot as plt\n",
    "\n",
    "# In order to use LaTeX to manage all text layout in our figures, we import rc settings from matplotlib.\n",
    "from matplotlib import rc\n",
    "plt.rc('font', family='serif')\n",
    "\n",
    "# LaTeX is huge and takes forever to install on mybinder\n",
    "# so if it is not installed then do not use it \n",
    "from distutils.spawn import find_executable\n",
    "iflatexExists=False\n",
    "if find_executable('latex'):\n",
    "    iflatexExists=True\n",
    "    \n",
    "plt.rc('font', family='serif')\n",
    "plt.rc('text', usetex=iflatexExists)\n",
    "\n",
    "# The warnings package allows us to ignore some harmless but alarming warning messages\n",
    "import warnings\n",
    "warnings.filterwarnings(\"ignore\")\n",
    "\n",
    "# The tools for navigating the filesystem\n",
    "import sys\n",
    "import os\n",
    "\n",
    "sys.path.insert(0, os.path.abspath('../lib')) # directory is one down from root \n",
    "\n",
    "from copy import copy, deepcopy\n",
    "\n",
    "# Define (and create, if necessary) the figures directory \"Figures\"\n",
    "if Generator:\n",
    "    nb_file_path = os.path.dirname(os.path.abspath(nb_name+\".ipynb\")) # Find pathname to this file:\n",
    "    FigDir = os.path.join(nb_file_path,\"Figures/\") # LaTeX document assumes figures will be here\n",
    "#    FigDir = os.path.join(nb_file_path,\"/tmp/Figures/\") # Uncomment to make figures outside of git path\n",
    "    if not os.path.exists(FigDir):\n",
    "        os.makedirs(FigDir)\n",
    "\n",
    "from copy import deepcopy\n",
    "from scipy.optimize import golden, brentq\n",
    "from time import clock\n",
    "import numpy as np\n",
    "import scipy as sp"
   ]
  },
  {
   "cell_type": "code",
   "execution_count": 2,
   "metadata": {
    "code_folding": []
   },
   "outputs": [],
   "source": [
    "# Import HARK tools and cstwMPC parameter values\n",
    "from HARK.utilities import plotFuncsDer, plotFuncs\n",
    "from HARK.ConsumptionSaving.ConsIndShockModel import PerfForesightConsumerType\n",
    "import HARK.cstwMPC.cstwMPC as cstwMPC\n",
    "import HARK.cstwMPC.SetupParamsCSTW as Params\n",
    "\n",
    "# Double the default value of variance\n",
    "# Params.init_infinite['PermShkStd'] = [i*2 for i in Params.init_infinite['PermShkStd']]"
   ]
  },
  {
   "cell_type": "code",
   "execution_count": 3,
   "metadata": {
    "code_folding": [
     0
    ],
    "scrolled": false
   },
   "outputs": [],
   "source": [
    "# Setup stuff for general equilibrium version\n",
    "\n",
    "# Set targets for K/Y and the Lorenz curve\n",
    "lorenz_target = cstwMPC.getLorenzShares(Params.SCF_wealth,weights=\n",
    "                                        Params.SCF_weights,percentiles=\n",
    "                                        Params.percentiles_to_match)\n",
    "\n",
    "lorenz_long_data = np.hstack((np.array(0.0),\\\n",
    "                              cstwMPC.getLorenzShares(Params.SCF_wealth,weights=\\\n",
    "                                                      Params.SCF_weights,percentiles=\\\n",
    "                                                      np.arange(0.01,1.0,0.01).tolist()),np.array(1.0)))\n",
    "KY_target = 10.26"
   ]
  },
  {
   "cell_type": "code",
   "execution_count": 4,
   "metadata": {
    "code_folding": [
     0
    ]
   },
   "outputs": [],
   "source": [
    "# Setup and calibration of the agent types\n",
    "\n",
    "# The parameter values below are taken from\n",
    "# http://econ.jhu.edu/people/ccarroll/papers/cjSOE/#calibration\n",
    "\n",
    "Params.init_cjSOE                  = Params.init_infinite # Get default values of all parameters\n",
    "# Now change some of the parameters for the individual's problem to those of cjSOE\n",
    "Params.init_cjSOE['CRRA']          = 2\n",
    "Params.init_cjSOE['Rfree']         = 1.04**0.25\n",
    "Params.init_cjSOE['PermGroFac']    = [1.01**0.25] # Indiviual-specific income growth (from experience, e.g.)\n",
    "Params.init_cjSOE['PermGroFacAgg'] = 1.04**0.25   # Aggregate productivity growth \n",
    "Params.init_cjSOE['LivPrb']        = [0.95**0.25] # Matches a short working life \n",
    "\n",
    "PopGroFac_cjSOE = [1.01**0.25] # Irrelevant to the individual's choice; attach later to \"market\" economy object\n",
    "\n",
    "# Instantiate the baseline agent type with the parameters defined above\n",
    "BaselineType = cstwMPC.cstwMPCagent(**Params.init_cjSOE)\n",
    "BaselineType.AgeDstn = np.array(1.0) # Fix the age distribution of agents\n",
    "\n",
    "# Make desired number of agent types (to capture ex-ante heterogeneity)\n",
    "EstimationAgentList = []\n",
    "for n in range(Params.pref_type_count):\n",
    "    EstimationAgentList.append(deepcopy(BaselineType))\n",
    "    EstimationAgentList[n].seed = n  # Give every instance a different seed"
   ]
  },
  {
   "cell_type": "code",
   "execution_count": 5,
   "metadata": {
    "code_folding": []
   },
   "outputs": [],
   "source": [
    "# Make an economy for the consumers to live in\n",
    "\n",
    "EstimationEconomy                = cstwMPC.cstwMPCmarket(**Params.init_market)\n",
    "EstimationEconomy.print_parallel_error_once = True  # Avoids a bug in the code\n",
    "\n",
    "EstimationEconomy.agents         = EstimationAgentList\n",
    "EstimationEconomy.act_T          = Params.T_sim_PY # How many periods of history are good enough for \"steady state\""
   ]
  },
  {
   "cell_type": "code",
   "execution_count": 6,
   "metadata": {
    "code_folding": [
     0
    ]
   },
   "outputs": [],
   "source": [
    "# Uninteresting parameters that also need to be set \n",
    "EstimationEconomy.KYratioTarget  = KY_target\n",
    "EstimationEconomy.LorenzTarget   = lorenz_target\n",
    "EstimationEconomy.LorenzData     = lorenz_long_data\n",
    "EstimationEconomy.PopGroFac      = PopGroFac_cjSOE # Population growth characterizes the entire economy\n",
    "EstimationEconomy.ignore_periods = Params.ignore_periods_PY # Presample periods\n",
    "\n",
    "#Display statistics about the estimated model (or not)\n",
    "EstimationEconomy.LorenzBool     = False\n",
    "EstimationEconomy.ManyStatsBool  = False\n",
    "EstimationEconomy.TypeWeight     = [1.0]"
   ]
  },
  {
   "cell_type": "code",
   "execution_count": 7,
   "metadata": {
    "code_folding": [
     0
    ],
    "lines_to_next_cell": 2
   },
   "outputs": [],
   "source": [
    "# construct spread_estimate and center_estimate if true, otherwise use the default values\n",
    "Params.do_param_dist=True  # Whether to use a distribution of ex-ante heterogeneity\n",
    "\n",
    "# Discount factors assumed to be uniformly distributed around center_pre for spread_pre on either side\n",
    "\n",
    "spread_pre=0.0019501105739768 #result under the default calibration of cjSOE\n",
    "center_pre=1.0065863855906343    #result under the default calibration of cjSOE\n",
    "\n",
    "do_optimizing=False # Set to True to reestimate the distribution of time preference rates\n",
    "\n",
    "if do_optimizing: # If you want to rerun the cstwMPC estimation, change do_optimizing to True\n",
    "    # Finite value requires discount factor from combined pure and mortality-induced\n",
    "    # discounting to be less than one, so maximum DiscFac is 1/LivPrb\n",
    "    DiscFacMax   = 1/Params.init_cjSOE['LivPrb'][0] # \n",
    "    param_range  = [0.995,-0.0001+DiscFacMax] \n",
    "    spread_range = [0.00195,0.0205] # \n",
    "\n",
    "    if Params.do_param_dist: # If configured to estimate the distribution\n",
    "        LorenzBool = True\n",
    "        # Run the param-dist estimation\n",
    "        paramDistObjective = lambda spread : cstwMPC.findLorenzDistanceAtTargetKY(\n",
    "                                                        Economy = EstimationEconomy,\n",
    "                                                        param_name = Params.param_name,\n",
    "                                                        param_count = Params.pref_type_count,\n",
    "                                                        center_range = param_range,\n",
    "                                                        spread = spread,\n",
    "                                                        dist_type = Params.dist_type) # Distribution of DiscFac\n",
    "        t_start = clock()\n",
    "        \n",
    "        spread_estimate = golden(paramDistObjective \n",
    "                                 ,brack=spread_range\n",
    "                                 ,tol=1e-4) \n",
    "        center_estimate = EstimationEconomy.center_save\n",
    "        t_end = clock()\n",
    "    else: # Run the param-point estimation only\n",
    "        paramPointObjective = lambda center : cstwMPC.getKYratioDifference(Economy = EstimationEconomy,\n",
    "                                              param_name = Params.param_name,\n",
    "                                              param_count = Params.pref_type_count,\n",
    "                                              center = center,\n",
    "                                              spread = 0.0,\n",
    "                                              dist_type = Params.dist_type)\n",
    "        t_start = clock()\n",
    "        center_estimate = brentq(paramPointObjective # Find best point estimate \n",
    "                                 ,param_range[0]\n",
    "                                 ,param_range[1],xtol=1e-6)\n",
    "        spread_estimate = 0.0\n",
    "        t_end = clock()\n",
    "        \n",
    "        print(spread_estimate)\n",
    "        print('****************')\n",
    "        print(center_estimate)\n",
    "        print('****************')\n",
    "else: # Just use the hard-wired numbers from cstwMPC\n",
    "    center_estimate=center_pre\n",
    "    spread_estimate=spread_pre"
   ]
  },
  {
   "cell_type": "code",
   "execution_count": 8,
   "metadata": {
    "code_folding": [
     0
    ],
    "lines_to_next_cell": 2
   },
   "outputs": [],
   "source": [
    "# Construct the economy at date 0\n",
    "EstimationEconomy.distributeParams( # Construct consumer types whose heterogeneity is in the given parameter\n",
    "    'DiscFac',\n",
    "    Params.pref_type_count,# How many different types of consumer are there \n",
    "    center_estimate,       # Increase patience slightly vs cstwMPC so that maximum saving rate is higher\n",
    "    spread_estimate,       # How much difference is there across consumers\n",
    "    Params.dist_type)      # Default is for a uniform distribution"
   ]
  },
  {
   "cell_type": "code",
   "execution_count": 9,
   "metadata": {
    "code_folding": [
     0
    ],
    "lines_to_next_cell": 2
   },
   "outputs": [],
   "source": [
    "# Function to calculate the saving rate of a cstw economy\n",
    "def calcSavRte(Economy,ParamToChange,NewVals):\n",
    "    '''\n",
    "    Calculates the saving rate as income minus consumption divided by income.\n",
    "    \n",
    "    Parameters\n",
    "    ----------\n",
    "    Economy : [cstwMPCmarket] \n",
    "        A fully-parameterized instance of a cstwMPCmarket economy\n",
    "    ParamToChange : string\n",
    "        Name of the parameter that should be varied from the original value in Economy\n",
    "    NewVals : [float] or [list]\n",
    "        The alternative value (or list of values) that the parameter should take\n",
    "\n",
    "    Returns\n",
    "    -------\n",
    "    savRte : [float]\n",
    "        The aggregate saving rate in the last year of the generated history\n",
    "    '''\n",
    "    for NewVal in NewVals:\n",
    "        if ParamToChange in [\"PermShkStd\",\"TranShkStd\"]:\n",
    "            ThisVal = [NewVal]\n",
    "        else:\n",
    "            ThisVal = NewVal # If they asked to change something else, assume it's a scalar\n",
    "            \n",
    "        for j in range(len(Economy.agents)): # For each agent, set the new parameter value\n",
    "            setattr(Economy.agents[j],ParamToChange,ThisVal)\n",
    "            cstwMPC.cstwMPCagent.updateIncomeProcess(Economy.agents[j]) \n",
    "        \n",
    "        Economy.solve()\n",
    "        \n",
    "        C_NrmNow=[]\n",
    "        A_NrmNow=[]\n",
    "        M_NrmNow=[]\n",
    "        for j in range (len(Economy.agents)): # Combine the results across all the agents\n",
    "            C_NrmNow=np.hstack((C_NrmNow,Economy.agents[j].cNrmNow))\n",
    "            A_NrmNow=np.hstack((A_NrmNow,Economy.agents[j].aNrmNow))\n",
    "            M_NrmNow=np.hstack((M_NrmNow,Economy.agents[j].mNrmNow))\n",
    "        CAgg=np.sum(np.hstack(Economy.pLvlNow)*C_NrmNow) # cNrm times pLvl = level of c; sum these for CAgg\n",
    "        AAgg=np.sum(np.hstack(Economy.pLvlNow)*A_NrmNow) # Aggregate Assets\n",
    "        MAgg=np.sum(np.hstack(Economy.pLvlNow)*M_NrmNow) # Aggregate Market Resources\n",
    "        YAgg=np.sum(np.hstack(Economy.pLvlNow)*np.hstack(Economy.TranShkNow)) # Aggregate Labor Income\n",
    "        BAgg=MAgg-YAgg # Aggregate \"Bank Balances\" (at beginning of period; before consumption decision)\n",
    "        IncAgg=(BaselineType.Rfree-1)*BAgg+YAgg # Interest income plus noninterest income\n",
    "        savRte=(IncAgg-CAgg)/IncAgg # Unspent income divided by the level of income\n",
    "        return savRte"
   ]
  },
  {
   "cell_type": "code",
   "execution_count": 10,
   "metadata": {
    "code_folding": [
     0
    ],
    "lines_to_next_cell": 2
   },
   "outputs": [],
   "source": [
    "# Function to plot relationship between x and y; x is the parameter varied and y is saving rate\n",
    "def plotReg(x,y,xMin,xMax,yMin,yMax,xLbl,yLbl,Title,fileName):\n",
    "    # Result_data_path = os.path.join(Folder_path,'SavingVSPermShr_Youth_MPC_15.png')\n",
    "    plt.ylabel(yLbl)\n",
    "    plt.xlabel(xLbl)\n",
    "    plt.title(Title)\n",
    "    plt.xlim(xMin,xMax)\n",
    "    plt.ylim(yMin,yMax)\n",
    "    plt.scatter(x,y)\n",
    "    # Draw the linear fitted line\n",
    "    m, b = np.polyfit(x, y, 1)\n",
    "#    plt.plot(x, m*np.asarray(x) + b, '-')\n",
    "    if Generator:\n",
    "        plt.savefig(FigDir + nb_name + '-' + fileName + '.png')\n",
    "        plt.savefig(FigDir + nb_name + '-' + fileName + '.svg')\n",
    "        plt.savefig(FigDir + nb_name + '-' + fileName + '.pdf')\n",
    "    slope, intercept, r_value, p_value, std_err = sp.stats.linregress(x,y)\n",
    "    print('Slope=' + str(slope) + ', intercept=' + str(intercept) + ', r_value=' + str(r_value) + ', p_value=' + str(p_value)+', std=' + str(std_err))"
   ]
  },
  {
   "cell_type": "code",
   "execution_count": 11,
   "metadata": {
    "code_folding": [
     0
    ]
   },
   "outputs": [],
   "source": [
    "# Proportion of base value for uncertainty parameter to take (up to 1 = 100 percent)\n",
    "# Do not go above one to avoid having to worry about whether the most patient consumer violates the \n",
    "# Growth Impatience Condition (https://econ.jhu.edu/people/ccarroll/papers/BufferStockTheory/#GIC)\n",
    "bottom=0.5\n",
    "points=np.arange(bottom,1.+0.025,0.025)"
   ]
  },
  {
   "cell_type": "code",
   "execution_count": 12,
   "metadata": {
    "code_folding": [
     0
    ],
    "scrolled": true
   },
   "outputs": [],
   "source": [
    "# Calculate variance of permanent shock vs saving measures\n",
    "savRteList = []\n",
    "KtoYList   = []\n",
    "pVarList   = []\n",
    "pVarBase = BaselineType.PermShkStd[0] ** 2\n",
    "for pVar in points * pVarBase:\n",
    "    pVarList.append(pVar) # Variance is square of standard deviation\n",
    "    pStd = pVar ** 0.5\n",
    "#    print(pStd)\n",
    "    savRteList.append(calcSavRte(EstimationEconomy,\"PermShkStd\",[pStd]))\n",
    "    KtoYList.append(0.25*np.mean(np.array(EstimationEconomy.KtoYnow_hist)[EstimationEconomy.ignore_periods:]))"
   ]
  },
  {
   "cell_type": "code",
   "execution_count": 13,
   "metadata": {
    "code_folding": []
   },
   "outputs": [
    {
     "name": "stdout",
     "output_type": "stream",
     "text": [
      "Halving the magnitude of the permanent variance causes target wealth to fall to 0.646\n",
      "of its original value.\n"
     ]
    }
   ],
   "source": [
    "# Calculate how much net worth shrinks when permanent variance is halved \n",
    "ShrinksBy = KtoYList[1]/KtoYList[-1]\n",
    "print('Halving the magnitude of the permanent variance causes target wealth to fall to %1.3f' % ShrinksBy)\n",
    "print('of its original value.')"
   ]
  },
  {
   "cell_type": "code",
   "execution_count": 14,
   "metadata": {
    "code_folding": []
   },
   "outputs": [
    {
     "name": "stdout",
     "output_type": "stream",
     "text": [
      "Slope=43.87569286985961, intercept=0.07612904106465898, r_value=0.9957594503438054, p_value=3.715857043912896e-21, std=0.9299464143538145\n"
     ]
    },
    {
     "data": {
      "image/png": "[encoded data removed]",
      "text/plain": [
       "<Figure size 432x288 with 1 Axes>"
      ]
     },
     "metadata": {
      "needs_background": "light"
     },
     "output_type": "display_data"
    },
    {
     "name": "stdout",
     "output_type": "stream",
     "text": [
      "Slope=530.7061985365614, intercept=0.6766240453921681, r_value=0.9969394089293704, p_value=1.6852816164419637e-22, std=9.547588506159919\n"
     ]
    },
    {
     "data": {
      "image/png": "[encoded data removed]",
      "text/plain": [
       "<Figure size 432x288 with 1 Axes>"
      ]
     },
     "metadata": {
      "needs_background": "light"
     },
     "output_type": "display_data"
    }
   ],
   "source": [
    "# Plot pVar vs saving measures\n",
    "plotReg(pVarList,savRteList,\n",
    "        xMin=pVarList[1]-0.0002,xMax=pVarList[-1]+0.0002,yMin=savRteList[1]-0.01,yMax=savRteList[-1]+0.01,\n",
    "        xLbl=r'Variance of Permanent Shocks, $\\sigma^{2}_{\\psi}$',\n",
    "        yLbl='Aggregate Saving Rate',\n",
    "        Title='Uncertainty vs Saving',\n",
    "        fileName='savRtevsPermShkVar'\n",
    "       )\n",
    "plt.show(block=False)\n",
    "plotReg(pVarList,KtoYList,\n",
    "        xMin=pVarList[1]-0.0002,xMax=pVarList[-1]+0.0002,yMin=1.7,yMax=KtoYList[-1]+0.1,\n",
    "        xLbl=r'Variance of Permanent Shocks, $\\sigma^{2}_{\\psi}$',\n",
    "        yLbl='Net Worth/Income',\n",
    "        Title='Uncertainty vs Net Worth Ratio',\n",
    "        fileName='BvsPermShkVar'\n",
    "       )\n",
    "plt.ylabel('Net Worth/Income')\n",
    "plt.xlabel(r'Variance of Permanent Shocks, $\\sigma^{2}_{\\psi}$')\n",
    "plt.title('Uncertainty vs Net Worth Ratio',fontsize=16)\n",
    "plt.xlim(pVarList[1]-0.0002,pVarList[-1]+0.0002)\n",
    "plt.ylim(1.6,KtoYList[-1]+0.1)\n",
    "plt.scatter(pVarList,KtoYList)\n",
    "plt.xticks([pVarList[1],pVarList[-1]],[r'$\\bar{\\sigma}^{2}_{\\psi}/2$',r'$\\bar{\\sigma}^{2}_{\\psi}$'])\n",
    "fileName='BvsPermShkVar'\n",
    "if Generator:\n",
    "        plt.savefig(FigDir + nb_name + '-' + fileName + '.png')\n",
    "        plt.savefig(FigDir + nb_name + '-' + fileName + '.svg')\n",
    "        plt.savefig(FigDir + nb_name + '-' + fileName + '.pdf')\n",
    "plt.show(block=False)                "
   ]
  },
  {
   "cell_type": "code",
   "execution_count": 15,
   "metadata": {
    "code_folding": [
     0
    ],
    "scrolled": false
   },
   "outputs": [],
   "source": [
    "# Calculate variance of transitory shock vs saving measures\n",
    "# Restore benchmark solution\n",
    "EstimationEconomy.distributeParams( # Construct consumer types whose heterogeneity is in the given parameter\n",
    "    'DiscFac',\n",
    "    Params.pref_type_count,# How many different types of consumer are there \n",
    "    center_estimate,       # Increase patience slightly vs cstwMPC so that maximum saving rate is higher\n",
    "    spread_estimate,       # How much difference is there across consumers\n",
    "    Params.dist_type)      # Default is for a uniform distribution\n",
    "EstimationEconomy.solve()\n",
    "\n",
    "savRteList_Tran = []\n",
    "KtoYList_Tran   = []\n",
    "tVarList   = []\n",
    "tVarBase = BaselineType.TranShkStd[0] ** 2\n",
    "for tVar in points * tVarBase:\n",
    "    tVarList.append(tVar) # Variance is std squared\n",
    "    savRteList_Tran.append(calcSavRte(EstimationEconomy,\"TranShkStd\",[tVar ** 0.5]))\n",
    "    KtoYList_Tran.append(0.25*np.mean(np.array(EstimationEconomy.KtoYnow_hist)[EstimationEconomy.ignore_periods:]))"
   ]
  },
  {
   "cell_type": "code",
   "execution_count": 16,
   "metadata": {
    "code_folding": [
     0
    ]
   },
   "outputs": [
    {
     "name": "stdout",
     "output_type": "stream",
     "text": [
      "Slope=0.04425458972691994, intercept=0.22993889217509514, r_value=0.9997560905067558, p_value=6.235938075080433e-33, std=0.00022427988559214007\n"
     ]
    },
    {
     "data": {
      "image/png": "[encoded data removed]",
      "text/plain": [
       "<Figure size 432x288 with 1 Axes>"
      ]
     },
     "metadata": {
      "needs_background": "light"
     },
     "output_type": "display_data"
    },
    {
     "name": "stdout",
     "output_type": "stream",
     "text": [
      "Slope=0.24992735556376564, intercept=2.554920083325562, r_value=0.9999887157190909, p_value=1.3035255504050127e-45, std=0.0002723909104974136\n"
     ]
    },
    {
     "data": {
      "image/png": "[encoded data removed]",
      "text/plain": [
       "<Figure size 432x288 with 1 Axes>"
      ]
     },
     "metadata": {
      "needs_background": "light"
     },
     "output_type": "display_data"
    }
   ],
   "source": [
    "# Plot transitory variance versus saving measures\n",
    "plotReg(tVarList,savRteList_Tran,\n",
    "        xMin=tVarList[1]-0.001,xMax=tVarList[-1]+0.001,yMin=savRteList[1]-0.01,yMax=savRteList[-1]+0.01,\n",
    "        xLbl=r'Variance of Transitory Shocks, $\\sigma^{2}_{\\theta}$',\n",
    "        yLbl='Aggregate Saving Rate',\n",
    "        Title='Uncertainty vs Saving',\n",
    "        fileName='savRteVSTranShkVar'\n",
    "       )\n",
    "plt.show(block=False)\n",
    "plotReg(tVarList,KtoYList_Tran,\n",
    "        xMin=tVarList[1]-0.001,xMax=tVarList[-1]+0.001,yMin=savRteList[1]-0.01,yMax=KtoYList[-1]+0.1,\n",
    "        xLbl=r'Variance of Permanent Shocks, $\\sigma^{2}_{\\psi}$',\n",
    "        yLbl='Net Worth/Income',\n",
    "        Title='Uncertainty vs Net Worth Ratio',\n",
    "        fileName='BvsTranShkVar'\n",
    "       )\n",
    "plt.show(block=False)                "
   ]
  }
 ],
 "metadata": {
  "cite2c": {
   "citations": {
    "6202365/7MR8GUVS": {
     "DOI": "10.3982/QE694",
     "URL": "https://onlinelibrary.wiley.com/doi/abs/10.3982/QE694",
     "abstract": "In a model calibrated to match micro- and macroeconomic evidence on household income dynamics, we show that a modest degree of heterogeneity in household preferences or beliefs is sufficient to match empirical measures of wealth inequality in the United States. The heterogeneity-augmented model's predictions are consistent with microeconomic evidence that suggests that the annual marginal propensity to consume (MPC) is much larger than the roughly 0.04 implied by commonly used macroeconomic models (even ones including some heterogeneity). The high MPC arises because many consumers hold little wealth despite having a strong precautionary motive. Our model also plausibly predicts that the aggregate MPC can differ greatly depending on how the shock is distributed across households (depending, e.g., on their wealth, or employment status).",
     "accessed": {
      "day": 5,
      "month": 2,
      "year": 2019
     },
     "author": [
      {
       "family": "Carroll",
       "given": "Christopher"
      },
      {
       "family": "Slacalek",
       "given": "Jiri"
      },
      {
       "family": "Tokuoka",
       "given": "Kiichi"
      },
      {
       "family": "White",
       "given": "Matthew N."
      }
     ],
     "container-title": "Quantitative Economics",
     "id": "6202365/7MR8GUVS",
     "issue": "3",
     "issued": {
      "year": 2017
     },
     "language": "en",
     "note": "Citation Key: carrollDistributionWealthMarginal2017",
     "page": "977-1020",
     "page-first": "977",
     "title": "The distribution of wealth and the marginal propensity to consume",
     "type": "article-journal",
     "volume": "8"
    }
   }
  },
  "jupytext": {
   "formats": "ipynb,py:percent",
   "text_representation": {
    "extension": ".py",
    "format_name": "percent",
    "format_version": "1.1",
    "jupytext_version": "0.8.3"
   }
  },
  "kernelspec": {
   "display_name": "Python 3",
   "language": "python",
   "name": "python3"
  },
  "language_info": {
   "codemirror_mode": {
    "name": "ipython",
    "version": 3
   },
   "file_extension": ".py",
   "mimetype": "text/x-python",
   "name": "python",
   "nbconvert_exporter": "python",
   "pygments_lexer": "ipython3",
   "version": "3.6.7"
  },
  "varInspector": {
   "cols": {
    "lenName": 16,
    "lenType": 16,
    "lenVar": 40
   },
   "kernels_config": {
    "python": {
     "delete_cmd_postfix": "",
     "delete_cmd_prefix": "del ",
     "library": "var_list.py",
     "varRefreshCmd": "print(var_dic_list())"
    },
    "r": {
     "delete_cmd_postfix": ") ",
     "delete_cmd_prefix": "rm(",
     "library": "var_list.r",
     "varRefreshCmd": "cat(var_dic_list()) "
    }
   },
   "types_to_exclude": [
    "module",
    "function",
    "builtin_function_or_method",
    "instance",
    "_Feature"
   ],
   "window_display": false
  }
 },
 "nbformat": 4,
 "nbformat_minor": 2
}
