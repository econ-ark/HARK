{
 "cells": [
  {
   "cell_type": "markdown",
   "metadata": {},
   "source": [
    "# The Tractable Buffer Stock Model"
   ]
  },
  {
   "cell_type": "code",
   "execution_count": 2,
   "metadata": {
    "code_folding": [
     0
    ]
   },
   "outputs": [],
   "source": [
    "# This cell has just a bit of initial setup. You can click the arrow to expand it.\n",
    "%matplotlib inline\n",
    "import matplotlib.pyplot as plt\n",
    "\n",
    "import sys \n",
    "import os\n",
    "sys.path.insert(0, os.path.abspath('../../.'))\n",
    "\n",
    "import numpy as np\n",
    "import HARK \n",
    "from time import clock\n",
    "from copy import deepcopy\n",
    "mystr = lambda number : \"{:.3f}\".format(number)\n",
    "\n",
    "from ipywidgets import interact, interactive, fixed, interact_manual\n",
    "import ipywidgets as widgets\n",
    "\n",
    "from HARK.utilities import plotFuncs\n",
    "from HARK.ConsumptionSaving.TractableBufferStockModel import TractableConsumerType"
   ]
  },
  {
   "cell_type": "markdown",
   "metadata": {},
   "source": [
    "The [TractableBufferStock](http://www.econ2.jhu.edu/people/ccarroll/public/LectureNotes/Consumption/TractableBufferStock/) model is a (relatively) simple framework that captures all of the qualitative, and many of the quantitative features of optimal consumption in the presence of labor income uncertainty.  \n",
    "\n",
    "The key assumption behind the model's tractability is that there is only a single, stark form of uncertainty.  So long as an employed consumer remains employed, his labor income will rise at a constant rate.  But between any period and the next there is constant hazard $p$ of transitioning to the \"unemployed\" state. Unemployment is irreversible, like retirement or disability.  When unemployed, the consumer receives a fixed amount of income (for simplicity, zero).\n",
    "\n",
    "\\begin{eqnarray*}\n",
    "\\mathbb{E}_{t}[V_{t+1}^{\\bullet}(M_{t+1})] & = & (1-p)V_{t+1}^{e}(M_{t+1})+p V_{t+1}^{u}(M_{t+1})\n",
    "\\end{eqnarray*}\n",
    "\n",
    "A consumer with CRRA utility $U(C) = \\frac{C^{1-\\rho}}{1-\\rho}$ solves an optimization problem that looks standard (where $P$ is Permanent income and $\\Gamma$ is the income growth factor):\n",
    "\n",
    "\\begin{eqnarray*}\n",
    "V_t(M_t) &=& \\max_{C_t} ~ U(C_t) + \\beta \\mathbb{E}[V_{t+1}^{\\bullet}], \\\\\n",
    "M_{t+1} &=& R A_t + \\mathbb{1}(P_{t+1}), \\\\\n",
    "P_{t+1} &=& \\Gamma_{t+1} P_t,\n",
    "\\end{eqnarray*}\n",
    "\n",
    "where $\\mathbb{1}$ is an indicator of whether the consumer is employed in the next period.\n",
    "\n",
    "Under plausible parameter values the model has a target level of $m = M/P$ (market resources to permanent income) with an analytical solution that exhibits plausible relationships among all of the parameters.  (See the linked handout for details)."
   ]
  },
  {
   "cell_type": "code",
   "execution_count": 3,
   "metadata": {
    "code_folding": []
   },
   "outputs": [],
   "source": [
    "# Define a parameter dictionary and representation of the agents for the tractable buffer stock model\n",
    "TBS_dictionary =  {'UnempPrb' : .00625,    # Probability of becoming unemployed\n",
    "                   'DiscFac' : 0.975,      # Intertemporal discount factor\n",
    "                   'Rfree' : 1.01,         # Risk-free interest factor on assets\n",
    "                   'PermGroFac' : 1.0025,  # Permanent income growth factor (uncompensated)\n",
    "                   'CRRA' : 2.5}           # Coefficient of relative risk aversion\n",
    "MyTBStype = TractableConsumerType(**TBS_dictionary)"
   ]
  },
  {
   "cell_type": "code",
   "execution_count": 4,
   "metadata": {
    "code_folding": [
     0
    ]
   },
   "outputs": [],
   "source": [
    "# Define a function that plots the employed consumption function and sustainable consumption function \n",
    "# for given parameter values\n",
    "\n",
    "def makeTBSplot(DiscFac,CRRA,Rfree,PermGroFac,UnempPrb,mMax,mMin,cMin,cMax,plot_emp,plot_ret,plot_mSS,show_targ):\n",
    "    MyTBStype.DiscFac = DiscFac\n",
    "    MyTBStype.CRRA = CRRA\n",
    "    MyTBStype.PermGroFac = PermGroFac\n",
    "    MyTBStype.UnempPrb = UnempPrb\n",
    "    \n",
    "    try:\n",
    "        MyTBStype.solve()\n",
    "    except:\n",
    "        print('Those parameter values violate a condition required for solution!')    \n",
    "    \n",
    "    plt.xlabel('Market resources $M_t$')\n",
    "    plt.ylabel('Consumption $C_t$')\n",
    "    plt.ylim([cMin,cMax])\n",
    "    plt.xlim([mMin,mMax])\n",
    "    \n",
    "    m = np.linspace(mMin,mMax,num=100,endpoint=True)\n",
    "    if plot_emp:\n",
    "        c = MyTBStype.solution[0].cFunc(m)\n",
    "        c[m==0.] = 0.\n",
    "        plt.plot(m,c,'-b')\n",
    "        \n",
    "    if plot_mSS:\n",
    "        plt.plot([mMin,mMax],[(MyTBStype.PermGroFacCmp/MyTBStype.Rfree + mMin*(1.0-MyTBStype.PermGroFacCmp/MyTBStype.Rfree)),(MyTBStype.PermGroFacCmp/MyTBStype.Rfree + mMax*(1.0-MyTBStype.PermGroFacCmp/MyTBStype.Rfree))],'--k')\n",
    "        \n",
    "    if plot_ret:\n",
    "        c = MyTBStype.solution[0].cFunc_U(m)\n",
    "        plt.plot(m,c,'-g')\n",
    "    \n",
    "    if show_targ:\n",
    "        mTarg = MyTBStype.mTarg\n",
    "        cTarg = MyTBStype.cTarg\n",
    "        targ_label = '$m^* =$' + mystr(mTarg) + '\\n$c^* =$' + mystr(cTarg)\n",
    "        plt.annotate(targ_label,xy=(0.0,0.0),xytext=(0.8,0.05),textcoords='axes fraction')\n",
    "    \n",
    "    plt.show()\n",
    "    return None\n",
    "\n",
    "# Define widgets to control various aspects of the plot\n",
    "\n",
    "# Define a slider for the discount factor\n",
    "DiscFac_widget = widgets.FloatSlider(\n",
    "    min=0.9,\n",
    "    max=0.99,\n",
    "    step=0.0002,\n",
    "    value=0.95,\n",
    "    continuous_update=False,\n",
    "    readout_format='.4f',\n",
    "    description='$\\\\beta$')\n",
    "\n",
    "# Define a slider for relative risk aversion\n",
    "CRRA_widget = widgets.FloatSlider(\n",
    "    min=0.1,\n",
    "    max=8.0,\n",
    "    step=0.01,\n",
    "    value=2.5,\n",
    "    continuous_update=False,\n",
    "    readout_format='.2f',\n",
    "    description='$\\\\rho$')\n",
    "\n",
    "# Define a slider for permanent income growth\n",
    "PermGroFac_widget = widgets.FloatSlider(\n",
    "    min=0.9,\n",
    "    max=1.1,\n",
    "    step=0.0002,\n",
    "    value=1.0025,\n",
    "    continuous_update=False,\n",
    "    readout_format='.4f',\n",
    "    description='$\\\\Gamma$')\n",
    "\n",
    "# Define a slider for unemployment (or retirement) probability\n",
    "UnempPrb_widget = widgets.FloatSlider(\n",
    "    min=0.00001,\n",
    "    max=0.10,\n",
    "    step=0.00001,\n",
    "    value=0.00625,\n",
    "    continuous_update=False,\n",
    "    readout_format='.5f',\n",
    "    description='$\\\\mho$')\n",
    "\n",
    "# Define a slider for unemployment (or retirement) probability\n",
    "Rfree_widget = widgets.FloatSlider(\n",
    "    min=1.0,\n",
    "    max=1.1,\n",
    "    step=0.0001,\n",
    "    value=1.01,\n",
    "    continuous_update=False,\n",
    "    readout_format='.4f',\n",
    "    description='$R$')\n",
    "\n",
    "# Define a text box for the lower bound of M_t\n",
    "mMin_widget = widgets.FloatText(\n",
    "    value=0.0,\n",
    "    step=0.1,\n",
    "    description='$M$ min',\n",
    "    disabled=False)\n",
    "\n",
    "# Define a text box for the upper bound of M_t\n",
    "mMax_widget = widgets.FloatText(\n",
    "    value=50.0,\n",
    "    step=0.1,\n",
    "    description='$M$ max',\n",
    "    disabled=False)\n",
    "\n",
    "# Define a text box for the lower bound of C_t\n",
    "cMin_widget = widgets.FloatText(\n",
    "    value=0.0,\n",
    "    step=0.1,\n",
    "    description='$C$ min',\n",
    "    disabled=False)\n",
    "\n",
    "# Define a text box for the upper bound of C_t\n",
    "cMax_widget = widgets.FloatText(\n",
    "    value=1.5,\n",
    "    step=0.1,\n",
    "    description='$C$ max',\n",
    "    disabled=False)\n",
    "\n",
    "# Define a check box for whether to plot the employed consumption function\n",
    "plot_emp_widget = widgets.Checkbox(\n",
    "    value=True,\n",
    "    description='Plot employed $C$ function',\n",
    "    disabled=False)\n",
    "\n",
    "# Define a check box for whether to plot the retired consumption function\n",
    "plot_ret_widget = widgets.Checkbox(\n",
    "    value=True,\n",
    "    description='Plot retired $C$ function',\n",
    "    disabled=False)\n",
    "\n",
    "# Define a check box for whether to plot the sustainable consumption line\n",
    "plot_mSS_widget = widgets.Checkbox(\n",
    "    value=True,\n",
    "    description='Plot sustainable $C$ line',\n",
    "    disabled=False)\n",
    "\n",
    "# Define a check box for whether to show the target annotation\n",
    "show_targ_widget = widgets.Checkbox(\n",
    "    value=True,\n",
    "    description = 'Show target $(M,C)$',\n",
    "    disabled = False)\n"
   ]
  },
  {
   "cell_type": "markdown",
   "metadata": {},
   "source": [
    "## Target Wealth\n",
    "\n",
    "Whether the model exhibits a \"target\" or \"stable\" level of wealth for employed consumers depends on whether the 'Growth Impatience Condition' (the GIC) holds:\n",
    "\n",
    "\\begin{equation}\\label{eq:GIC}\n",
    " \\left(\\frac{(R \\beta (1-\\mho))^{1/\\rho}}{\\Gamma}\\right)  <  1\n",
    "\\end{equation}\n"
   ]
  },
  {
   "cell_type": "code",
   "execution_count": 5,
   "metadata": {
    "code_folding": [],
    "scrolled": false
   },
   "outputs": [
    {
     "data": {
      "application/vnd.jupyter.widget-view+json": {
       "model_id": "07c8e21b6c424a91a2a79a530f15d619",
       "version_major": 2,
       "version_minor": 0
      },
      "text/plain": [
       "interactive(children=(FloatSlider(value=0.95, continuous_update=False, description='$\\\\beta$', max=0.99, min=0…"
      ]
     },
     "metadata": {},
     "output_type": "display_data"
    }
   ],
   "source": [
    "# Make an interactive plot of the tractable buffer stock solution\n",
    "\n",
    "# To make some of the widgets not appear, replace X_widget with fixed(desired_fixed_value) in the arguments below.\n",
    "interact(makeTBSplot,\n",
    "         DiscFac = DiscFac_widget,\n",
    "#         CRRA = CRRA_widget,\n",
    "         CRRA = fixed(2.5),\n",
    "         Rfree = Rfree_widget,\n",
    "         PermGroFac = PermGroFac_widget,\n",
    "         UnempPrb = UnempPrb_widget,\n",
    "         mMin = mMin_widget,\n",
    "         mMax = mMax_widget,\n",
    "         cMin = cMin_widget,\n",
    "         cMax = cMax_widget,\n",
    "         show_targ = show_targ_widget,\n",
    "         plot_emp = plot_emp_widget,\n",
    "         plot_ret = plot_ret_widget,\n",
    "         plot_mSS = plot_mSS_widget,\n",
    "        );\n"
   ]
  }
 ],
 "metadata": {
  "jupytext": {
   "cell_metadata_filter": "collapsed",
   "formats": "ipynb,py:percent"
  },
  "kernel_info": {
   "name": "python3"
  },
  "kernelspec": {
   "display_name": "Python 3",
   "language": "python",
   "name": "python3"
  },
  "language_info": {
   "codemirror_mode": {
    "name": "ipython",
    "version": 3
   },
   "file_extension": ".py",
   "mimetype": "text/x-python",
   "name": "python",
   "nbconvert_exporter": "python",
   "pygments_lexer": "ipython3",
   "version": "3.7.3"
  },
  "latex_envs": {
   "LaTeX_envs_menu_present": true,
   "autoclose": false,
   "autocomplete": true,
   "bibliofile": "biblio.bib",
   "cite_by": "apalike",
   "current_citInitial": 1,
   "eqLabelWithNumbers": true,
   "eqNumInitial": 1,
   "hotkeys": {
    "equation": "Ctrl-E",
    "itemize": "Ctrl-I"
   },
   "labels_anchors": false,
   "latex_user_defs": false,
   "report_style_numbering": false,
   "user_envs_cfg": false
  },
  "nteract": {
   "version": "0.14.4"
  }
 },
 "nbformat": 4,
 "nbformat_minor": 2
}
